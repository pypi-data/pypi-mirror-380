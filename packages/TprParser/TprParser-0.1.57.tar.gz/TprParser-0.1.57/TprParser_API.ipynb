{
 "cells": [
  {
   "cell_type": "code",
   "execution_count": 1,
   "metadata": {},
   "outputs": [],
   "source": [
    "import subprocess, shutil, copy\n",
    "from TprParser.TprReader import TprReader, SimSettings\n",
    "import MDAnalysis as mda\n",
    "from MDAnalysis.coordinates.core import triclinic_vectors"
   ]
  },
  {
   "cell_type": "code",
   "execution_count": 2,
   "metadata": {},
   "outputs": [],
   "source": [
    "def Pressure(fname):\n",
    "    reader = TprReader(fname)\n",
    "    ref_p = [\n",
    "        100, 0, 0,\n",
    "        0, 100, 0,\n",
    "        0, 0, 100\n",
    "    ]\n",
    "    compress = [\n",
    "        4.5E-5, 0, 0,\n",
    "        0, 4.5E-5, 0,\n",
    "        0, 0, 4.5E-5\n",
    "    ]\n",
    "    assert len(ref_p) == 9\n",
    "    assert len(compress) == 9\n",
    "    reader.set_pressure('No', 'Isotropic', 1.0, ref_p, compress)\n"
   ]
  },
  {
   "cell_type": "code",
   "execution_count": 3,
   "metadata": {},
   "outputs": [],
   "source": [
    "def run_cmd(cmd:str):\n",
    "    ret = subprocess.run(cmd, shell=True)\n",
    "    if ret.returncode != 0:\n",
    "        raise Exception('\\nError occurred from command: \\n\\t%s!!!' %cmd)\n",
    "    \n",
    "def MD(inittpr:str, nsteps:int = 10):\n",
    "    reader = TprReader(inittpr)\n",
    "    coords = reader.get_xvf('X') # get coords from tpr\n",
    "    natmA = 120\n",
    "    natmB = 132\n",
    "    natm = natmA+natmB\n",
    "\n",
    "    assert natm == coords.shape[0]\n",
    "    for i in range(nsteps):\n",
    "        # move two molecules distance of Z axis each 2.0 A\n",
    "        tempcoords = copy.deepcopy(coords)\n",
    "        tempcoords[:natmA,     2] += 0.05 * i\n",
    "        tempcoords[natmA:natm, 2] -= 0.05 * i\n",
    "        reader.set_xvf('X', tempcoords)\n",
    "        # rename new.tpr to em_{i}.tpr\n",
    "        suffix = inittpr.split(\".tpr\")[0]+\"_\"+str(i)\n",
    "        shutil.move(\"new.tpr\", f\"{suffix}.tpr\")\n",
    "        run_cmd(f'gmx mdrun -deffnm {suffix} -v')\n",
    "    print(\"Finished!\")"
   ]
  },
  {
   "cell_type": "code",
   "execution_count": 4,
   "metadata": {},
   "outputs": [],
   "source": [
    "def Temperature(fname:str, nsteps:int=2):\n",
    "    tau_t = [1.0, 1.0] # coupling constant\n",
    "    reader = TprReader(fname)\n",
    "    for i in range(nsteps):\n",
    "        ref_t = [100+i*100, 100+i*100] # 100, 200, 300 K\n",
    "        reader.set_temperature(\"Vrescale\", tau_t, ref_t)\n",
    "        suffix = fname.split('.tpr')[0]+\"_\"+str(i)\n",
    "        shutil.move(\"new.tpr\", f\"{suffix}.tpr\")\n",
    "        run_cmd(f'gmx mdrun -deffnm {suffix} -v')\n"
   ]
  },
  {
   "cell_type": "code",
   "execution_count": 5,
   "metadata": {},
   "outputs": [],
   "source": [
    "def MDP_Integer(fname, key, val):\n",
    "    reader = TprReader(fname)\n",
    "    reader.set_mdp_integer(key, val)"
   ]
  },
  {
   "cell_type": "code",
   "execution_count": 6,
   "metadata": {},
   "outputs": [],
   "source": [
    "def get_xvf(fname, type):\n",
    "    reader = TprReader(fname)\n",
    "    return reader.get_xvf(type)"
   ]
  },
  {
   "cell_type": "code",
   "execution_count": 7,
   "metadata": {},
   "outputs": [],
   "source": [
    "def UltraSim(tpr:str=\"md.tpr\", upper:int=100, lower:int= -100, period:float=50):\n",
    "    \"\"\" @brief Ultrasonic simalation by Bidirectional pulse pressure \n",
    "\n",
    "    Parameters\n",
    "    ----------\n",
    "    tpr: str, default md.tpr\n",
    "        The tpr filename\n",
    "    upper: int, default 100 bar\n",
    "        The perssure upper limitation\n",
    "    lower: int, default -100 bar\n",
    "        The perssure lower limitation\n",
    "    period: float, deafault 50.0 ps\n",
    "        The period of ultrasonic\n",
    "    \"\"\"\n",
    "    assert upper>lower, 'the upper must be larger than lower value'\n",
    "\n",
    "    # read tpr, 0.5 upper + 0.5 lower\n",
    "    ntimes = 5\n",
    "    totTime = period*ntimes\n",
    "    print(f'Total simulation time: {totTime} ps')\n",
    "    for i in range(ntimes*2):\n",
    "        # no suffix\n",
    "        newTprName = tpr.split('.tpr')[0]+str(i+1)+'.tpr'\n",
    "\n",
    "        # pressure\n",
    "        pressure = upper\n",
    "        if i%2!=0:\n",
    "            pressure = lower\n",
    "\n",
    "        ref_p = [\n",
    "            pressure, 0, 0,\n",
    "            0, pressure, 0, \n",
    "            0, 0, pressure\n",
    "        ]\n",
    "        compress = [\n",
    "            4.5e-5, 0, 0,\n",
    "            0, 4.5e-5, 0, \n",
    "            0, 0, 4.5e-5\n",
    "        ]\n",
    "\n",
    "        # get new tpr by set new pressure\n",
    "        with SimSettings(tpr, newTprName) as reader:\n",
    "            reader.set_pressure(\n",
    "                'ParrinelloRahman', \n",
    "                'Isotropic', \n",
    "                2.0,\n",
    "                ref_p, \n",
    "                compress)\n",
    "\n",
    "            # the next should set pressure, new coords and velocity\n",
    "            if i != 0:\n",
    "                # get previous coords and velocity from md_x.gro\n",
    "                u = mda.Universe(tpr.split('.tpr')[0]+str(i)+'.gro')\n",
    "                prevCoords = u.atoms.positions*0.1 # to nm\n",
    "                prevVelocity = u.atoms.velocities*0.1 # to nm/ps\n",
    "                prevBox = triclinic_vectors(u.dimensions)*0.1 # nm\n",
    "\n",
    "                # modify coords, modify velocity and box\n",
    "                reader.set_xvf('x', prevCoords)\n",
    "                reader.set_xvf('v', prevVelocity)\n",
    "                reader.set_xvf('box', prevBox)\n",
    "\n",
    "        run_cmd(f'gmx mdrun -deffnm {newTprName.split(\".tpr\")[0]} -v')\n"
   ]
  },
  {
   "cell_type": "code",
   "execution_count": 8,
   "metadata": {},
   "outputs": [
    {
     "name": "stdout",
     "output_type": "stream",
     "text": [
      "Total simulation time: 1000 ps\n"
     ]
    }
   ],
   "source": [
    "if __name__ == '__main__':\n",
    "    UltraSim(r'C:\\Users\\liuyujie714\\Desktop\\waterbox\\md.tpr',\n",
    "             upper=500, \n",
    "             lower=-500,\n",
    "             period=200\n",
    "             )\n",
    "\n"
   ]
  }
 ],
 "metadata": {
  "kernelspec": {
   "display_name": "Python 3",
   "language": "python",
   "name": "python3"
  },
  "language_info": {
   "codemirror_mode": {
    "name": "ipython",
    "version": 3
   },
   "file_extension": ".py",
   "mimetype": "text/x-python",
   "name": "python",
   "nbconvert_exporter": "python",
   "pygments_lexer": "ipython3",
   "version": "3.8.5"
  }
 },
 "nbformat": 4,
 "nbformat_minor": 2
}
