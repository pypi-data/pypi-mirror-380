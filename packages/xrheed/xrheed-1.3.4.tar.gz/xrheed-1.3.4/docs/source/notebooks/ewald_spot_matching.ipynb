{
 "cells": [
  {
   "cell_type": "markdown",
   "id": "0",
   "metadata": {},
   "source": [
    "# Ewald Spot Matching\n",
    "\n",
    "This notebook demonstrates the use of the `Ewald` class methods from the `kinematics` module to determine either the surface reconstruction orientation or the lattice constant.\n",
    "\n",
    "We assume that the surface exhibits a well-defined and visible (1×1) structure, which may be used for image scaling. Alternatively, the image may be calibrated and aligned using external reference data.\n",
    "\n",
    "Next, we construct a lattice object representing, for example, a two-dimensional hexagonal lattice with unknown azimuthal orientation and lattice constant. This scenario is typical for complex surface reconstructions such as (√7 × √7) R19.1°, which often produce intricate RHEED (Reflection High-Energy Electron Diffraction) patterns.\n",
    "\n",
    "Another common situation arises when the RHEED image is acquired along a non-symmetric crystallographic direction, often due to experimental constraints (e.g., lack of azimuthal rotation). In such cases, the diffraction pattern may be difficult to interpret, complicating the analysis of surface reconstruction.\n",
    "\n",
    "Currently, the supported functionality includes the following scenarios:\n",
    "- **(I)** Determination of the azimuthal orientation of a predefined lattice (hexagonal or rectangular) with fixed lattice vectors — `match_alpha()` method.\n",
    "- **(II)** Scaling analysis of a hexagonal or rectangular lattice with a fixed azimuthal orientation — `match_scale()` method.\n",
    "- **(III)** Simultaneous determination of both scaling and azimuthal orientation for hexagonal or rectangular lattices, assuming a fixed ratio between lattice vectors — `match_alpha_scale()` method.\n"
   ]
  },
  {
   "cell_type": "markdown",
   "id": "1",
   "metadata": {},
   "source": [
    "## Algorithm Explained\n",
    "\n",
    "The core idea of the algorithm implemented here is as follows:\n",
    "\n",
    "1. Define the lattice structure expected to occur on the sample surface.\n",
    "2. Overlay the lattice onto the experimental RHEED image.\n",
    "3. Generate a mask composed of elliptical spots, positioned according to the calculated diffraction spot locations derived from Ewald sphere construction.\n",
    "4. Integrate the pixel intensities within the masked regions to compute a single scalar value—referred to as the `matching_coefficient`. This coefficient quantifies the agreement between the expected lattice and the experimental RHEED pattern. A higher value indicates better correspondence.\n",
    "5. Systematically rotate or scale the lattice and repeat the above steps to evaluate the `matching_coefficient` across different configurations.\n",
    "\n",
    "By scanning over a range of possible scaling factors and orientations, the configuration yielding the highest `matching_coefficient` serves as a strong candidate for the actual lattice present on the sample.\n",
    "\n",
    "## Cache Data\n",
    "\n",
    "The calculations shown below can be time-consuming. In a 2D case, scanning a wide range of scaling factors and azimuthal angles with small step sizes may take several hours on an average computer to generate a complete matching map.\n",
    "\n",
    "To optimize performance, the results are automatically serialized using `dill` and stored in the `cache` directory. Only one `.dill` file is saved per call to a specific `match_*` method. When these methods are invoked, they first check for an existing cache file.\n",
    "\n",
    "To force recalculation, either delete the corresponding cache file or set `Ewald.use_cache = False` for the specific `Ewald` object.\n"
   ]
  },
  {
   "cell_type": "code",
   "execution_count": null,
   "id": "2",
   "metadata": {},
   "outputs": [],
   "source": [
    "import matplotlib.pyplot as plt\n",
    "import numpy as np\n",
    "from pathlib import Path\n",
    "\n",
    "import xrheed\n",
    "from xrheed.preparation.filters import high_pass_filter"
   ]
  },
  {
   "cell_type": "markdown",
   "id": "3",
   "metadata": {},
   "source": [
    "## Prepare the RHEED Data\n",
    "\n",
    "In this example, we use a RHEED image obtained from a Si(111) with Ag induced (√3 × √3) R30° surface reconstruction, where the sample is azimuthally misoriented by approximately 15°. \n",
    "\n",
    "The goal is to determine both the lattice constant and the azimuthal orientation relative to the incident electron beam.\n",
    "\n",
    "For this analysis, we define a region of interest (ROI) that excludes the central portion of the image, focusing instead on peripheral diffraction features.\n"
   ]
  },
  {
   "cell_type": "code",
   "execution_count": null,
   "id": "4",
   "metadata": {},
   "outputs": [],
   "source": [
    "image_dir = Path(\"example_data\")\n",
    "image_path = image_dir / \"Si_111_r3Ag_thB_phi15.raw\"\n",
    "\n",
    "rheed_image = xrheed.load_data(image_path, plugin=\"dsnp_arpes_raw\")\n",
    "\n",
    "# Rotate the image\n",
    "rheed_image.ri.rotate(-0.2)\n",
    "\n",
    "# Fine adjustment of the image center\n",
    "shift_x = -4.4\n",
    "shift_y = -4.3\n",
    "rheed_image.ri.apply_image_center(center_x=shift_x, center_y=shift_y)\n",
    "\n",
    "# Set the incident angle\n",
    "rheed_image.ri.beta = 3.4\n",
    "\n",
    "# Setup the screen roi\n",
    "rheed_image.ri.screen_roi_width = 50\n",
    "rheed_image.ri.screen_roi_height = 80\n",
    "\n",
    "# use high pass filter to reduce inelastic scattering features\n",
    "rheed_image = high_pass_filter(rheed_image, sigma=3.0, threshold=0.8)\n",
    "\n",
    "# Prepare the plot\n",
    "fig, ax = plt.subplots()\n",
    "\n",
    "# Use automatic levels adjustment and show specular spot\n",
    "rheed_image.ri.plot_image(ax=ax, auto_levels=0.2, show_specular_spot=True)\n",
    "\n",
    "plt.show()"
   ]
  },
  {
   "cell_type": "markdown",
   "id": "5",
   "metadata": {},
   "source": [
    "## Scenario I: Unknown Azimuthal Orientation of the Sample\n",
    "\n",
    "First, we present the simplest case: the expected surface structure (type and lattice constant) is known, but the azimuthal orientation of the sample is unknown.\n",
    "\n",
    "### Create the Expected Lattice\n",
    "\n",
    "We define the expected lattice as Si(111)-(√3 × √3) R30° in this example.\n"
   ]
  },
  {
   "cell_type": "code",
   "execution_count": null,
   "id": "6",
   "metadata": {},
   "outputs": [],
   "source": [
    "from xrheed.kinematics.lattice import Lattice\n",
    "\n",
    "expected_lattice = Lattice.from_surface_hex(a=3.84 * np.sqrt(3), label=\"r3-Ag\")\n",
    "expected_lattice.rotate(30.0)"
   ]
  },
  {
   "cell_type": "markdown",
   "id": "7",
   "metadata": {},
   "source": [
    "### Create an Ewald Object\n",
    "\n",
    "Next, we create an instance of the `Ewald` class using the expected lattice and the experimental RHEED image.\n",
    "\n",
    "In this example, the α angle is set to its default value of 0°, which is acceptable for demonstration purposes, although it does not reflect the actual experimental geometry. As a result, the calculated diffraction spots will not align precisely with those observed in the RHEED image.\n"
   ]
  },
  {
   "cell_type": "code",
   "execution_count": null,
   "id": "8",
   "metadata": {},
   "outputs": [],
   "source": [
    "from xrheed.kinematics.ewald import Ewald\n",
    "\n",
    "ew = Ewald(expected_lattice, rheed_image)"
   ]
  },
  {
   "cell_type": "markdown",
   "id": "9",
   "metadata": {},
   "source": [
    "### Test Plot\n",
    "\n",
    "A good starting point is to generate a plot that overlays some range of possible azimuthal orientations onto the RHEED image.\n",
    "\n",
    "This can be achieved by manually adjusting the `Ewald` object attribute α, as demonstrated below.\n"
   ]
  },
  {
   "cell_type": "code",
   "execution_count": null,
   "id": "10",
   "metadata": {},
   "outputs": [],
   "source": [
    "fig, ax = plt.subplots()\n",
    "cmap = plt.get_cmap(\"hot\")\n",
    "\n",
    "# Plot the RHEED image\n",
    "rheed_image.ri.plot_image(ax=ax, auto_levels=0.2)\n",
    "\n",
    "# Check the rotation range\n",
    "alpha_vector = np.arange(10.0, 20.0, 1.0)\n",
    "\n",
    "# Loop over alpha values and plot\n",
    "for i, alpha in enumerate(alpha_vector):\n",
    "    # Set the azimuthal rotation\n",
    "    ew.alpha = alpha\n",
    "\n",
    "    # normalize i into [0,1] for colormap\n",
    "    color = cmap(i / (len(alpha_vector) - 1))\n",
    "    ew.plot(ax=ax, show_image=False, color=color, marker=\".\", s=3)\n",
    "\n",
    "plt.show()"
   ]
  },
  {
   "cell_type": "markdown",
   "id": "11",
   "metadata": {},
   "source": [
    "### Spot Probe\n",
    "\n",
    "Each spot is generated with an elliptical shape, defined by its width and height (in mm). The default dimensions are specified as constants within the `Ewald` class.\n",
    "\n",
    "In general, the spot size should be chosen to match the actual shape of the diffraction spots observed in the RHEED image. \n",
    "\n",
    "The following guidelines apply:\n",
    "\n",
    "- Larger probing spot size: increases computation time, reduces sensitivity, but performs better when scanning over coarse steps (e.g., ~1° in azimuthal orientation).\n",
    "- Smaller probing spot size: decreases computation time and increases sensitivity, but may fail to detect the correct orientation when using coarse angular steps.\n",
    "\n",
    "To manually set the spot dimensions, use the method `set_spot_size(width, height)`, where both parameters are specified in millimeters.\n"
   ]
  },
  {
   "cell_type": "code",
   "execution_count": null,
   "id": "12",
   "metadata": {},
   "outputs": [],
   "source": [
    "# Set the spot size\n",
    "ew.set_spot_size(1.5, 5.0)\n",
    "\n",
    "# Show the spot structure\n",
    "plt.imshow(ew.spot_structure)\n",
    "plt.xlabel(\"hor. (px)\")\n",
    "plt.ylabel(\"ver. (px)\")\n",
    "plt.show()"
   ]
  },
  {
   "cell_type": "markdown",
   "id": "13",
   "metadata": {},
   "source": [
    "### How It Works\n",
    "\n",
    "To better understand the process, the figure below illustrates three components:\n",
    "\n",
    "- **Top**: The RHEED image overlaid with calculated spot positions (temporarily using the correct azimuthal alignment).\n",
    "- **Center**: A binary True/False mask used to evaluate the match between expected and observed diffraction spots.\n",
    "- **Bottom**: The RHEED image multiplied by the mask, highlighting only the regions considered in the matching calculation.\n",
    "\n",
    "This visualization is useful for validating the spot shape configuration and ensuring that the mask accurately captures the relevant diffraction features.\n"
   ]
  },
  {
   "cell_type": "code",
   "execution_count": null,
   "id": "14",
   "metadata": {},
   "outputs": [],
   "source": [
    "fix, axs = plt.subplots(3, 1, figsize=(4, 11.5))\n",
    "\n",
    "# Use the real azimuthal orientation\n",
    "ew.alpha = 15.0\n",
    "\n",
    "ax = axs[0]\n",
    "ew.plot(ax=ax, show_roi=True, auto_levels=0.4, marker=\".\")\n",
    "ax.set_title(\"RHEED Image data\")\n",
    "\n",
    "ax = axs[1]\n",
    "ew.plot_spots(ax=ax)\n",
    "ax.set_title(\"Mask\")\n",
    "\n",
    "ax = axs[2]\n",
    "ew.plot_spots(ax=ax, show_image=True, vmin=0, vmax=15)\n",
    "ax.set_title(\"Mask x Image\")\n",
    "\n",
    "plt.show()"
   ]
  },
  {
   "cell_type": "markdown",
   "id": "15",
   "metadata": {},
   "source": [
    "### Adjusting the Spot Size\n",
    "\n",
    "To fine-tune the spot size, the `plot_spots` method can be used with the parameter `show_image=True`. In this mode, the product of the binary mask and the RHEED image is displayed, allowing visual inspection of how well the spot structure aligns with the actual diffraction features.\n",
    "\n",
    "For detailed examination, it is recommended to zoom in using narrow x and y axis limits. This helps verify whether the elliptical spot shape accurately matches the RHEED spots.\n"
   ]
  },
  {
   "cell_type": "code",
   "execution_count": null,
   "id": "16",
   "metadata": {},
   "outputs": [],
   "source": [
    "ew.alpha = 15.0\n",
    "\n",
    "spot_width_mm = 0.8\n",
    "spot_height_mm = 2.0\n",
    "\n",
    "ew.set_spot_size(spot_width_mm, spot_height_mm)\n",
    "\n",
    "fix, ax = plt.subplots()\n",
    "\n",
    "ew.plot_spots(ax=ax, show_image=True, vmin=0, vmax=80)\n",
    "\n",
    "ax.set_xlim(-30, 5)\n",
    "ax.set_ylim(-35, -10)\n",
    "\n",
    "plt.show()"
   ]
  },
  {
   "cell_type": "markdown",
   "id": "17",
   "metadata": {},
   "source": [
    "### Final Step: Check the Reconstruction Orientation\n",
    "\n",
    "In the final step, we evaluate all possible azimuthal orientations. For a hexagonal lattice, this typically spans from −30° to +30°, due to its inherent threefold rotational symmetry.\n",
    "\n",
    "We begin by creating an `alpha_vector` that defines the range of azimuthal angles to test. Then, we call the appropriate method to compute the matching coefficient for each orientation.\n",
    "\n",
    "At this stage, it is advisable to use a relatively large spot size. This reduces sensitivity but allows for robust matching across a broader angular range. Once a candidate orientation is identified, the spot size can be reduced to refine the result with higher precision.\n"
   ]
  },
  {
   "cell_type": "code",
   "execution_count": null,
   "id": "18",
   "metadata": {},
   "outputs": [],
   "source": [
    "alpha_vector = np.arange(-30, 30.0, 0.5)\n",
    "match_vector = ew.match_alpha(alpha_vector)"
   ]
  },
  {
   "cell_type": "code",
   "execution_count": null,
   "id": "19",
   "metadata": {},
   "outputs": [],
   "source": [
    "fig, ax = plt.subplots(figsize=(5, 4))\n",
    "\n",
    "match_vector.plot(ax=ax)\n",
    "\n",
    "ax.set_xlabel('Azimuthal rotation (alpha)')\n",
    "ax.set_ylabel('Matching coef. (a. u.)')\n",
    "\n",
    "alpha_max = round(match_vector.alpha[match_vector.argmax()].item(), 3)\n",
    "print(f\"Maximum match at alpha = {alpha_max}\")\n",
    "\n",
    "plt.show()"
   ]
  },
  {
   "cell_type": "markdown",
   "id": "20",
   "metadata": {},
   "source": [
    "### Results Interpretation\n",
    "\n",
    "As expected, there is a distinct peak around α = 15°, which corresponds to the intentional azimuthal rotation applied during acquisition of this RHEED image.\n",
    "\n",
    "To refine the orientation estimate, we reduce the spot size and narrow the α range around this angle. Additionally, we decrease the angular step to, for example, 0.1°. These adjustments improve sensitivity and allow for more precise matching by better aligning the mask with the actual diffraction spot geometry.\n"
   ]
  },
  {
   "cell_type": "markdown",
   "id": "21",
   "metadata": {},
   "source": [
    "## Scenario II: Unknown Lattice Constant\n",
    "\n",
    "In this scenario, we assume that the azimuthal orientation of the sample is known, but the lattice constant is unknown.\n",
    "\n",
    "To determine the correct lattice constant, we use the `match_scale` method of the `Ewald` class, as shown below.\n",
    "\n",
    "> Note — the scale refers to real-space dimensions. For example, a scale factor of 2 corresponds to a (2×2) surface superstructure.\n"
   ]
  },
  {
   "cell_type": "markdown",
   "id": "22",
   "metadata": {},
   "source": [
    "### Prepare Expected Lattice\n",
    "\n",
    "First, we create an `Ewald` object using a lattice with an approximate lattice constant—ideally close to the expected value. In this case, we use the (√3 × √3) R30° lattice as the initial structure.\n",
    "\n",
    "\n",
    "\n"
   ]
  },
  {
   "cell_type": "code",
   "execution_count": null,
   "id": "23",
   "metadata": {},
   "outputs": [],
   "source": [
    "# Expected lattice\n",
    "expected_lattice = Lattice.from_surface_hex(a=3.84 * np.sqrt(3), label=\"r3-Ag\")\n",
    "expected_lattice.rotate(30.0)\n",
    "\n",
    "# Create Ewald object\n",
    "ew = Ewald(expected_lattice, rheed_image)\n",
    "\n",
    "# Set the azimuthal orientation that is known in this scenario\n",
    "ew.alpha = 15.0"
   ]
  },
  {
   "cell_type": "markdown",
   "id": "24",
   "metadata": {},
   "source": [
    "We prepare the `scale_vector` centered around 1.0 to explore possible superstructures and identify the best match. \n",
    "\n",
    "By scanning over a fine range of scale factors, we can pinpoint the configuration that yields the highest matching coefficient, indicating the most likely real-space lattice constant.\n"
   ]
  },
  {
   "cell_type": "code",
   "execution_count": null,
   "id": "25",
   "metadata": {},
   "outputs": [],
   "source": [
    "# Scale vector used for lattice scaling\n",
    "scale_vector = np.arange(0.8, 1.3, 0.01)\n",
    "match_vector = ew.match_scale(scale_vector)"
   ]
  },
  {
   "cell_type": "markdown",
   "id": "26",
   "metadata": {},
   "source": [
    "### Plot the Results\n"
   ]
  },
  {
   "cell_type": "code",
   "execution_count": null,
   "id": "27",
   "metadata": {},
   "outputs": [],
   "source": [
    "fig, ax = plt.subplots(figsize=(5, 4))\n",
    "\n",
    "match_vector.plot(ax=ax)\n",
    "\n",
    "ax.set_xlabel('Scaling factor')\n",
    "ax.set_ylabel('Matching coef. (a. u.)')\n",
    "\n",
    "scale_max = round(match_vector.scale[match_vector.argmax()].item(), 3)\n",
    "\n",
    "print(f\"Maximum match at scale factor = {scale_max}\")\n",
    "\n",
    "plt.show()"
   ]
  },
  {
   "cell_type": "markdown",
   "id": "28",
   "metadata": {},
   "source": [
    "### Results interpretation \n",
    "The peak in the plot indicates the best match occurring around a scaling factor of 1.0, which is consistent with expectations. This suggests that the initial lattice constant used in the `Ewald` object closely approximates the true surface structure.\n",
    "\n",
    "Such a result confirms that no significant reconstruction or strain-induced distortion is present, and the observed RHEED pattern corresponds well to the assumed lattice geometry."
   ]
  },
  {
   "cell_type": "markdown",
   "id": "29",
   "metadata": {},
   "source": [
    "## Scenario III: Unknown Scale and Azimuthal Orientation\n",
    "\n",
    "In the third scenario, we aim to determine both the lattice scaling factor and the azimuthal orientation, which are initially unknown.\n",
    "\n",
    "This combined search is particularly useful when analyzing complex surface reconstructions or when no prior calibration data is available.\n",
    "\n",
    "> **Note I**: The `matching_coefficient` is normalized by the number of diffraction spots. Since the number of spots changes discretely (in integer steps), this may introduce step-like artifacts in the results. To disable normalization and obtain raw matching values, set `normalize=False` when calling the matching method.\n",
    "\n",
    "> **Note II**: In this 2D case, in addition to normalization, there is another argument—`flatten` (enabled by default). This option subtracts a second-order polynomial fitted to the data, averaged along the α (azimuthal) direction. This correction compensates for nonuniform background intensity, which tends to decay at larger scaling factors as more diffraction spots fall within the region of interest (ROI).\n"
   ]
  },
  {
   "cell_type": "markdown",
   "id": "30",
   "metadata": {},
   "source": [
    "### Prepare Expected Lattice\n",
    "\n",
    "In this case, we assume that the expected lattice corresponds to a surface reconstruction derived from the Si(111)-(1×1) structure.\n",
    "\n",
    "By defining a lattice object that approximates this reconstructed geometry, we can proceed with a simultaneous scan over both azimuthal orientation and lattice scaling to identify the best match with the experimental RHEED image.\n"
   ]
  },
  {
   "cell_type": "code",
   "execution_count": null,
   "id": "31",
   "metadata": {},
   "outputs": [],
   "source": [
    "# Expected lattice Si(1x1)-(1x1) or some reconstruction of it\n",
    "expected_lattice = Lattice.from_surface_hex(a=3.84, label=\"Si(111)-(1x1)\")\n",
    "\n",
    "ew = Ewald(expected_lattice, rheed_image)\n",
    "\n",
    "# Scale vector used for lattice scaling\n",
    "scale_vector = np.arange(0.8, 2.5, 0.025)\n",
    "alpha_vector = np.arange(-30, 30, 0.5)"
   ]
  },
  {
   "cell_type": "markdown",
   "id": "32",
   "metadata": {},
   "source": [
    "### Calculate the Matching Map\n",
    "\n",
    "Now we are ready to calculate the full matching map. This process involves scanning across a range of azimuthal orientations and scaling factors to identify the configuration that best matches the experimental RHEED pattern.\n",
    "\n",
    "> **Note**: This computation can be intensive and may take several hours depending on the resolution of the scan and the available computational resources.\n",
    "\n",
    "To optimize performance, consider adjusting step sizes, or limiting the scan range during initial exploration. Once a promising region is identified, a refined scan can be performed for higher precision.\n"
   ]
  },
  {
   "cell_type": "code",
   "execution_count": null,
   "id": "33",
   "metadata": {},
   "outputs": [],
   "source": [
    "match_map = ew.match_alpha_scale(alpha_vector, scale_vector)"
   ]
  },
  {
   "cell_type": "markdown",
   "id": "34",
   "metadata": {},
   "source": [
    "### Plot the Results\n",
    "\n",
    "Below, we present the matching map generated from the combined scan over azimuthal orientation and lattice scaling. Several key points are marked on the plot and will be discussed in detail later.\n",
    "\n",
    "This visualization helps identify regions of high matching coefficient, guiding the selection of optimal reconstruction parameters. Peaks in the map correspond to configurations where the simulated diffraction pattern closely aligns with the experimental RHEED image.\n"
   ]
  },
  {
   "cell_type": "code",
   "execution_count": null,
   "id": "35",
   "metadata": {},
   "outputs": [],
   "source": [
    "fig, ax = plt.subplots(figsize=(5, 4))\n",
    "\n",
    "\n",
    "match_map.plot(ax=ax, vmin=100, vmax=1500, add_colorbar=False)\n",
    "\n",
    "ax.set_ylabel('Azimuthal rotation (alpha)')\n",
    "ax.set_xlabel('Scaling factor')\n",
    "\n",
    "rec_A_scale = 0.99\n",
    "rec_A_alpha = 15.0\n",
    "\n",
    "ax.scatter(rec_A_scale, rec_A_alpha, marker=\".\", color=\"r\", s=30)\n",
    "\n",
    "rec_B_scale = 1.72\n",
    "rec_B_alpha = -15.0\n",
    "\n",
    "ax.scatter(rec_B_scale, rec_B_alpha, marker=\".\", color=\"m\", s=30)\n",
    "\n",
    "plt.show()"
   ]
  },
  {
   "cell_type": "markdown",
   "id": "36",
   "metadata": {},
   "source": [
    "### Interpreting the Results\n",
    "\n",
    "The key features of interest in the matching map are located at the following coordinates:\n",
    "\n",
    "- **Scale = 1.0, α = +15°** — Corresponds to the Si(111)-(1×1) lattice.\n",
    "- **Scale ≈ 1.7, α = −15°** — Matches the (√3 × √3) R30° surface reconstruction.\n",
    "\n",
    "> **Note**: The matching map contains several sharp features, some of which are artifacts caused by occasional overlap between calculated spot positions and intense regions in the RHEED image. These artifacts can produce misleading peaks and should be interpreted with caution.\n",
    "\n",
    "Additionally, there is a broader and less intense peak at **Scale = 2.0, α = +15°**. This feature originates from a (1×1) lattice scaled by a factor of 2, where every second calculated spot coincidentally aligns with bright regions in the experimental image.\n",
    "\n",
    "While this produces a noticeable peak in the matching coefficient, it likely reflects an algorithm artifact rather than a true physical reconstruction. \n",
    "\n",
    "Such cases underscore the importance of combining matching analysis with physical intuition and known surface symmetries.\n"
   ]
  },
  {
   "cell_type": "markdown",
   "id": "37",
   "metadata": {},
   "source": [
    "## Summary\n",
    "\n",
    "This analysis successfully identifies both the Si(111)-(1×1) structure and the Si(111)-(√3 × √3) R30° surface reconstruction. The matching map reveals distinct peaks corresponding to these configurations, confirming their presence in the experimental RHEED image.\n",
    "\n",
    "Additionally, the sample appears to be rotated by approximately +15° relative to the high-symmetry [11̄2] crystallographic direction, consistent with the observed azimuthal offset.\n",
    "\n",
    "To visually confirm these findings, we now plot the two reconstructed lattices over the RHEED image using their respective rotation angles. This final step provides a direct comparison between calculated spot positions and experimental diffraction features, validating the accuracy of the matching procedure.\n"
   ]
  },
  {
   "cell_type": "code",
   "execution_count": null,
   "id": "38",
   "metadata": {},
   "outputs": [],
   "source": [
    "# Prepare the plot\n",
    "fig, ax = plt.subplots()\n",
    "\n",
    "rheed_image.ri.plot_image(\n",
    "    ax=ax, show_specular_spot=False, show_center_lines=False, auto_levels=0.2\n",
    ")\n",
    "\n",
    "# Prepare and plot the first: (1x1) R+15 lattice\n",
    "ew.alpha = rec_A_alpha\n",
    "ew.lattice_scale = rec_A_scale\n",
    "ew.ewald_roi = 20\n",
    "ew.plot(ax=ax, show_image=False, color=\"r\", marker=\".\")\n",
    "\n",
    "# Prepare and plot the second lattice\n",
    "ew.alpha = rec_B_alpha\n",
    "ew.lattice_scale = rec_B_scale\n",
    "ew.ewald_roi = 20\n",
    "ew.plot(ax=ax, show_image=False, edgecolor=\"m\", facecolor=\"none\", marker=\"o\", s=80)\n",
    "\n",
    "plt.show()"
   ]
  },
  {
   "cell_type": "markdown",
   "id": "39",
   "metadata": {},
   "source": [
    "Finally, it should be noted that the alignment between the calculated diffraction points and the experimental RHEED spots is not entirely perfect, indicating that the image was not precisely aligned in the data preparation steps.\n",
    "\n",
    "Nonetheless, the matching was sufficiently accurate to resolve the key structural features and successfully interpret the surface reconstruction in this case.\n"
   ]
  }
 ],
 "metadata": {
  "kernelspec": {
   "display_name": "Python 3",
   "language": "python",
   "name": "python3"
  },
  "language_info": {
   "codemirror_mode": {
    "name": "ipython",
    "version": 3
   },
   "file_extension": ".py",
   "mimetype": "text/x-python",
   "name": "python",
   "nbconvert_exporter": "python",
   "pygments_lexer": "ipython3",
   "version": "3.12.10"
  }
 },
 "nbformat": 4,
 "nbformat_minor": 5
}
