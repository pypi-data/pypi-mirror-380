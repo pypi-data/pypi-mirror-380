{
 "cells": [
  {
   "cell_type": "markdown",
   "id": "0",
   "metadata": {},
   "source": [
    "# Multi-Image Transformation\n",
    "\n",
    "This example notebook demonstrates how to load and transform a series of RHEED images taken during sequential azimuthal rotations. \n",
    "\n",
    "The rotation starts at $\\alpha = 0^\\circ$, where the electron beam is aligned along the $[11\\bar{2}]$ direction, and ends at $\\alpha = 30^\\circ$, corresponding to alignment along the $[1\\bar{1}0]$ direction.\n"
   ]
  },
  {
   "cell_type": "code",
   "execution_count": null,
   "id": "1",
   "metadata": {},
   "outputs": [],
   "source": [
    "import matplotlib.pyplot as plt\n",
    "import numpy as np\n",
    "from pathlib import Path\n",
    "\n",
    "import xrheed\n",
    "from xrheed.plotting.overview import plot_images\n",
    "from xrheed.preparation.filters import high_pass_filter"
   ]
  },
  {
   "cell_type": "markdown",
   "id": "2",
   "metadata": {},
   "source": [
    "## Image Preprocessing and Correction\n",
    "\n",
    "To begin, we load a series of images and apply the necessary corrections.  \n",
    "Due to minor manipulator inaccuracies, each image may exhibit slight variations in incident angle and/or positional shifts along the $S_x$ and $S_y$ axes.\n",
    "\n",
    "Typically, these variations change linearly during the rotation.  \n",
    "\n",
    "For instance, the incident angle can be interpolated as a linear space between the values recorded for the first and last images.  \n",
    "\n",
    "The same approach applies to the azimuthal angle, α.\n"
   ]
  },
  {
   "cell_type": "code",
   "execution_count": null,
   "id": "3",
   "metadata": {},
   "outputs": [],
   "source": [
    "image_dir = Path(\"example_data\")\n",
    "image_paths = list(sorted(image_dir.glob(\"Si_111_r3Ag_thB_phi*.raw\")))\n",
    "\n",
    "n_images = len(image_paths)\n",
    "\n",
    "# Define alphas for each image (include manipulator inaccuracies)\n",
    "alpha_vect = np.linspace(0.0, 29.7, n_images)\n",
    "beta_vect = np.linspace(2.9, 3.5, n_images)\n",
    "\n",
    "# Define center position for each image\n",
    "center_x = -4.4\n",
    "center_y_vect = np.linspace(-4.0, -6.7, n_images)\n",
    "\n",
    "# Empty list to store rheed images\n",
    "rheed_images = []\n",
    "\n",
    "for idx, image_path in enumerate(image_paths):\n",
    "    rheed_image = xrheed.load_data(image_path, plugin=\"dsnp_arpes_raw\")\n",
    "\n",
    "    # align each image\n",
    "    rheed_image.ri.rotate(-0.2)\n",
    "    rheed_image.ri.apply_image_center(center_x, center_y_vect[idx])\n",
    "    rheed_image.ri.beta = beta_vect[idx]\n",
    "    rheed_image.ri.alpha = alpha_vect[idx]\n",
    "\n",
    "    rheed_image.ri.screen_roi_width = 60\n",
    "    rheed_image.ri.screen_roi_height = 80\n",
    "\n",
    "    # optionally use high pass filter\n",
    "    rheed_image = high_pass_filter(rheed_image, sigma=2.0, threshold=0.5)\n",
    "\n",
    "    rheed_images.append(rheed_image)\n",
    "\n",
    "\n",
    "plot_images(rheed_images, ncols=2, vmin=3, vmax=25)\n",
    "plt.show()"
   ]
  },
  {
   "cell_type": "markdown",
   "id": "4",
   "metadata": {},
   "source": [
    "## Prepare a Lattice Object for the Expected Reconstruction\n",
    "\n",
    "To verify the alignment, we create a lattice object representing the expected (√3 × √3) R30° reconstruction.  \n",
    "\n",
    "This lattice will later be used by the `Ewald` object for spot calculation and overlay.\n"
   ]
  },
  {
   "cell_type": "code",
   "execution_count": null,
   "id": "5",
   "metadata": {},
   "outputs": [],
   "source": [
    "from xrheed.kinematics.lattice import Lattice\n",
    "\n",
    "# Si(111)-(1x1)\n",
    "si_111_1x1 = Lattice.from_surface_hex(a=3.84, label=\"(1x1)\")\n",
    "\n",
    "# Si(111)-(r3xr3)R30\n",
    "si_111_r3 = Lattice.from_surface_hex(a=3.84 * np.sqrt(3), label=\"(√3 x √3)\")\n",
    "si_111_r3.rotate(30)"
   ]
  },
  {
   "cell_type": "markdown",
   "id": "6",
   "metadata": {},
   "source": [
    "## Generate Ewald Objects and Overlay Expected Spot Positions\n",
    "\n",
    "We generate a series of `Ewald` objects and use them to overlay the expected spot positions on each image.  \n",
    "This allows for visual verification of the alignment and consistency across the dataset.\n"
   ]
  },
  {
   "cell_type": "code",
   "execution_count": null,
   "id": "7",
   "metadata": {},
   "outputs": [],
   "source": [
    "from xrheed.kinematics.ewald import Ewald\n",
    "\n",
    "fig, axs = plt.subplots(n_images, 1, sharex=True, figsize=(4, 16))\n",
    "\n",
    "for idx in range(n_images):\n",
    "    ax = axs[idx]\n",
    "    ew = Ewald(si_111_r3, rheed_images[idx])\n",
    "\n",
    "    ew.plot(\n",
    "        ax=ax,\n",
    "        show_image=True,\n",
    "        show_center_lines=False,\n",
    "        auto_levels=0.2,\n",
    "        marker=\"o\",\n",
    "        facecolor=\"none\",\n",
    "        edgecolor=\"c\",\n",
    "        s=80,\n",
    "    )\n",
    "    if idx < n_images - 1:\n",
    "        ax.set_xlabel(\"\")\n",
    "\n",
    "plt.tight_layout()\n",
    "plt.show()"
   ]
  },
  {
   "cell_type": "markdown",
   "id": "8",
   "metadata": {},
   "source": [
    "## Transform All Images to kx–ky Space\n",
    "\n",
    "If the alignment appears satisfactory, we proceed by transforming all images into the kx–ky space.  \n",
    "This step uses the arguments `rotate=True` and `point_symmetry=True`.  \n",
    "\n",
    "- The `rotate=True` option applies a rotation around the image center by the azimuthal angle α.  \n",
    "- The `point_symmetry=True` option adds a mirrored image rotated by 180°, which is valid for most crystallographic structures.\n"
   ]
  },
  {
   "cell_type": "code",
   "execution_count": null,
   "id": "9",
   "metadata": {},
   "outputs": [],
   "source": [
    "from xrheed.conversion.image import transform_image_to_kxky\n",
    "\n",
    "trans_images = []\n",
    "for rheed_image in rheed_images:\n",
    "    trans_image = transform_image_to_kxky(rheed_image, rotate=True, point_symmetry=True)\n",
    "    trans_images.append(trans_image)"
   ]
  },
  {
   "cell_type": "markdown",
   "id": "10",
   "metadata": {},
   "source": [
    "## Create a Dataset\n",
    "\n",
    "Convert the list of images into a `Dataset` object, introducing a new dimension that represents the azimuthal orientations.  \n",
    "This structure facilitates organized access and further processing of the data across different angular configurations.\n"
   ]
  },
  {
   "cell_type": "code",
   "execution_count": null,
   "id": "11",
   "metadata": {},
   "outputs": [],
   "source": [
    "import xarray as xr\n",
    "\n",
    "# Create a dataset from the list of DataArrays\n",
    "trans_image_dataset = xr.concat(trans_images, dim=\"alpha_vect\")\n",
    "\n",
    "# Assign the alpha_vect values to the new dimension\n",
    "trans_image_dataset = trans_image_dataset.assign_coords(alpha_vect=alpha_vect)"
   ]
  },
  {
   "cell_type": "markdown",
   "id": "12",
   "metadata": {},
   "source": [
    "## Compute the Mean Along the Azimuthal Dimension\n",
    "\n",
    "Calculate the mean of the dataset along the azimuthal (α) dimension.  \n",
    "This operation reduces the data to a single representative image, averaging over all angular orientations.\n"
   ]
  },
  {
   "cell_type": "code",
   "execution_count": null,
   "id": "13",
   "metadata": {},
   "outputs": [],
   "source": [
    "trans_image_mean = trans_image_dataset.mean(dim=\"alpha_vect\")"
   ]
  },
  {
   "cell_type": "markdown",
   "id": "14",
   "metadata": {},
   "source": [
    "## Prepare the Final Plot\n",
    "\n",
    "Finally, we generate an image that displays the mean intensity across all frames, along with overlays of the (1×1) and (√3 × √3) R30° reciprocal lattices for comparison.\n",
    "\n",
    "As observed, the diffraction spots are elongated along several directions.  \n",
    "This elongation is a characteristic feature of RHEED, resulting from the finite domain size, which affects the shape of the diffraction spots.\n",
    "\n",
    "Nonetheless, in this representation, it is straightforward to identify specific surface reconstructions, their symmetries, and mutual orientations.\n"
   ]
  },
  {
   "cell_type": "code",
   "execution_count": null,
   "id": "15",
   "metadata": {},
   "outputs": [],
   "source": [
    "fig, ax = plt.subplots(1, 1, figsize=(5, 5))\n",
    "\n",
    "trans_image_mean.plot(ax=ax, cmap=\"gray\", add_colorbar=False, vmin=5, vmax=15)\n",
    "\n",
    "si_111_r3.plot_reciprocal(ax=ax, facecolor=\"none\", edgecolor=\"c\", s=150)\n",
    "si_111_1x1.plot_reciprocal(ax=ax, facecolor=\"none\", edgecolor=\"m\", s=50)\n",
    "\n",
    "ax.set_aspect(1)\n",
    "ax.set_facecolor(\"black\")\n",
    "ax.set_xlim(-2.5, 2.5)\n",
    "ax.set_ylim(-2.5, 2.5)\n",
    "ax.legend(loc=\"upper right\")\n",
    "\n",
    "plt.show()"
   ]
  }
 ],
 "metadata": {
  "kernelspec": {
   "display_name": "Python 3",
   "language": "python",
   "name": "python3"
  },
  "language_info": {
   "codemirror_mode": {
    "name": "ipython",
    "version": 3
   },
   "file_extension": ".py",
   "mimetype": "text/x-python",
   "name": "python",
   "nbconvert_exporter": "python",
   "pygments_lexer": "ipython3",
   "version": "3.12.10"
  }
 },
 "nbformat": 4,
 "nbformat_minor": 5
}
