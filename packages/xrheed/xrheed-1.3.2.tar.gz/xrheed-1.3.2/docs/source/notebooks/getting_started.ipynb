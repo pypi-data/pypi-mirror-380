{
 "cells": [
  {
   "cell_type": "markdown",
   "id": "0",
   "metadata": {},
   "source": [
    "# Getting Started\n",
    "This notebook demonstrates how to use xRHEED to load, inspect, and plot an example RHEED image.\n",
    "\n",
    "The image used in this tutorial was recorded from a Si(111) surface exhibiting the (7×7) reconstruction. The electron beam was aligned along the $[11\\bar{2}]$ crystallographic direction, and the image was captured at room temperature."
   ]
  },
  {
   "cell_type": "markdown",
   "id": "1",
   "metadata": {},
   "source": [
    "## Load xRHEED module\n",
    "First, import the `xrheed` library along with other useful Python modules."
   ]
  },
  {
   "cell_type": "code",
   "execution_count": null,
   "id": "2",
   "metadata": {},
   "outputs": [],
   "source": [
    "import matplotlib.pyplot as plt\n",
    "from pathlib import Path\n",
    "\n",
    "import xrheed"
   ]
  },
  {
   "cell_type": "markdown",
   "id": "3",
   "metadata": {},
   "source": [
    "## Load a RHEED Image\n",
    "\n",
    "RHEED images are loaded using dedicated **plugins**.  \n",
    "For more information on writing custom plugins, see the documentation: *Plugins for Data Loading*.  \n",
    "\n",
    "The image coordinates - **sx** (horizontal) and **sy** (vertical) - are expressed in **millimeters**.  \n",
    "This means that the plugin is responsible for converting pixel values to real-world dimensions using the appropriate scaling.\n"
   ]
  },
  {
   "cell_type": "code",
   "execution_count": null,
   "id": "4",
   "metadata": {},
   "outputs": [],
   "source": [
    "image_dir = Path(\"example_data\")\n",
    "image_path = image_dir / \"Si_111_7x7_112_phi_00.raw\"\n",
    "\n",
    "rheed_image = xrheed.load_data(image_path, plugin=\"dsnp_arpes_raw\")"
   ]
  },
  {
   "cell_type": "markdown",
   "id": "5",
   "metadata": {},
   "source": [
    "## Manual RHEED Data Loading\n",
    "\n",
    "While writing and using a dedicated plugin is the recommended approach, it is also possible to load RHEED images manually (from **BMP**, **PNG**, **TIFF**, or other supported image formats).  \n",
    "In this mode, you must provide the necessary calibration parameters directly.  \n",
    "\n",
    "Use the `load_data_manual()` function as shown below.  \n",
    "At minimum, the following three parameters are required:\n",
    "\n",
    "- **`screen_sample_distance`** *(float)* — Distance from sample to screen [mm].  \n",
    "- **`screen_scale`** *(float)* — Scaling factor [pixels per mm].  \n",
    "- **`beam_energy`** *(float)* — Beam energy [eV].  "
   ]
  },
  {
   "cell_type": "code",
   "execution_count": null,
   "id": "6",
   "metadata": {},
   "outputs": [],
   "source": [
    "image_dir = Path(\"example_data\")\n",
    "image_path = image_dir / \"test_rheed.BMP\"\n",
    "\n",
    "rheed_manual = xrheed.load_data_manual(\n",
    "    image_path,\n",
    "    screen_sample_distance=350.5,\n",
    "    screen_scale=9.5,\n",
    "    beam_energy=18600,\n",
    "    screen_center_sx_px=749,\n",
    "    screen_center_sy_px=82,\n",
    ")"
   ]
  },
  {
   "cell_type": "markdown",
   "id": "7",
   "metadata": {},
   "source": [
    "The data are loaded into an `xarray` object, which provides powerful built-in methods for data manipulation and analysis. These methods can be used to inspect, slice, and visualize the RHEED image, as demonstrated below."
   ]
  },
  {
   "cell_type": "code",
   "execution_count": null,
   "id": "8",
   "metadata": {},
   "outputs": [],
   "source": [
    "rheed_image.sel(sx=slice(-50, 50), sy=slice(-60, 10)).plot()\n",
    "plt.show()"
   ]
  },
  {
   "cell_type": "markdown",
   "id": "9",
   "metadata": {},
   "source": [
    "## The `.ri` Accessor\n",
    "\n",
    "Tools dedicated to RHEED images analysis are available through the `.ri` accessor. Please refer to the API documentation to explore all available methods and properties.\n",
    "\n",
    "For example, you can access basic properties of the RHEED image as shown below."
   ]
  },
  {
   "cell_type": "code",
   "execution_count": null,
   "id": "10",
   "metadata": {},
   "outputs": [],
   "source": [
    "print(rheed_image.ri.beta)  # incident angle\n",
    "print(rheed_image.ri.beam_energy)\n",
    "print(rheed_image.ri.screen_scale)"
   ]
  },
  {
   "cell_type": "markdown",
   "id": "11",
   "metadata": {},
   "source": [
    "## RHEED Image Data Preparation\n",
    "\n",
    "### Setting the Image Center\n",
    "\n",
    "Although the plugin used to load the data should provide information about the screen center, it's often necessary to fine-tune the center manually for accurate analysis. The image center is defined as follows:\n",
    "\n",
    "- **Horizontal center** (`sx = 0`): the line connecting the specular spot and the transmitted beam (not always visible).\n",
    "- **Vertical center** (`sy = 0`): located at the shadow boundary.\n",
    "\n",
    "Both values depend on the specific RHEED setup and typically require manual adjustment for each image or image series.\n",
    "\n",
    "#### Manual Center Adjustment\n",
    "\n",
    "The image center can be manually adjusted using the method shown below.\n",
    "\n",
    "First, we plot the suspected center point to visually verify its accuracy."
   ]
  },
  {
   "cell_type": "code",
   "execution_count": null,
   "id": "12",
   "metadata": {},
   "outputs": [],
   "source": [
    "center_x = -0.5  # in mm\n",
    "center_y = 0.5  # in mm\n",
    "\n",
    "fig, ax = plt.subplots()\n",
    "\n",
    "rheed_image.ri.plot_image(ax=ax, show_center_lines=True)\n",
    "ax.plot(center_x, center_y, \"b.\")\n",
    "\n",
    "plt.show()"
   ]
  },
  {
   "cell_type": "markdown",
   "id": "13",
   "metadata": {},
   "source": [
    "If the position looks correct, we then apply the values using the `apply_image_center` method available through the `.ri` accessor.\n",
    "\n",
    "> **Note:** Applying this method multiple times will continuously shift the image if `center_x` and `center_y` are non-zero. A recommended usage is to call this function in the same cell that loads the image.\n"
   ]
  },
  {
   "cell_type": "code",
   "execution_count": null,
   "id": "14",
   "metadata": {},
   "outputs": [],
   "source": [
    "rheed_image.ri.apply_image_center(center_x=center_x, center_y=center_y)\n",
    "\n",
    "rheed_image.ri.plot_image(show_center_lines=True)\n",
    "plt.show()"
   ]
  },
  {
   "cell_type": "markdown",
   "id": "15",
   "metadata": {},
   "source": [
    "### Automated Center Search\n",
    "\n",
    "There are two functions in `xrheed.preparation.alignment` that can be used to find the vertical and horizontal center of a RHEED image.\n",
    "\n",
    "It is recommended to follow this order:\n",
    "\n",
    "- First, determine the horizontal center using the value returned by `find_horizontal_center(image)`,\n",
    "- Then, apply the correction,\n",
    "- Finally, proceed the same way with `find_vertical_center(image)`."
   ]
  },
  {
   "cell_type": "code",
   "execution_count": null,
   "id": "16",
   "metadata": {},
   "outputs": [],
   "source": [
    "from xrheed.preparation.alignment import find_vertical_center, find_horizontal_center\n",
    "\n",
    "# Try to find the horizontal center of the RHEED image\n",
    "center_x = find_horizontal_center(rheed_image)\n",
    "print(center_x)\n",
    "\n",
    "# Apply the horizontal center correction\n",
    "rheed_image.ri.apply_image_center(center_x=center_x)\n",
    "\n",
    "# Find the vertical center, using a specified shadow edge width\n",
    "center_y = find_vertical_center(rheed_image, shadow_edge_width=5.0)\n",
    "print(center_y)\n",
    "\n",
    "# Apply the horizontal center correction\n",
    "rheed_image.ri.apply_image_center(center_y=center_y)"
   ]
  },
  {
   "cell_type": "markdown",
   "id": "17",
   "metadata": {},
   "source": [
    "Alternatively, both functions can be called automatically using the same `apply_image_center` method with the `auto_center=True` attribute.\n",
    "\n",
    "> **Note:** Automatic center search may not work reliably for asymmetric images. This functionality should be treated as a first approximation and fine-tuned manually afterward, as will be demonstrated.\n",
    "\n"
   ]
  },
  {
   "cell_type": "code",
   "execution_count": null,
   "id": "18",
   "metadata": {},
   "outputs": [],
   "source": [
    "# Alternatively, use automatic center detection for both directions\n",
    "rheed_image.ri.apply_image_center(auto_center=True)\n",
    "\n",
    "# Plot the adjusted image\n",
    "rheed_image.ri.plot_image(show_center_lines=True)\n",
    "plt.show()"
   ]
  },
  {
   "cell_type": "markdown",
   "id": "19",
   "metadata": {},
   "source": [
    "### Setting the Incident Angle\n",
    "\n",
    "The plugin assigns a default value for the incident (grazing) angle, denoted as **β**. However, to use the Ewald construction accurately, this value should be manually set or calculated, as shown below.\n",
    "\n",
    "If both the mirror-reflected and transmitted spots are visible in the RHEED image, their positions can also be used to fine-tune the shadow edge location (`sy = 0.0`).\n",
    "\n",
    "Below is an example of how to use the `find_incident_angle()` function provided by the `xrheed.preparation.alignment` module. This function returns the estimated incident angle, and additionally plots useful information such as:\n",
    "\n",
    "- the shadow edge position (defined precisely between the two spots),\n",
    "- the distance between the spots,\n",
    "- and other relevant alignment details.\n"
   ]
  },
  {
   "cell_type": "code",
   "execution_count": null,
   "id": "20",
   "metadata": {},
   "outputs": [],
   "source": [
    "from xrheed.preparation.alignment import find_incident_angle\n",
    "\n",
    "real_beta = find_incident_angle(rheed_image)"
   ]
  },
  {
   "cell_type": "markdown",
   "id": "21",
   "metadata": {},
   "source": [
    "To update the image attribute with the real incident angle β, you can use the `.ri` accessor:"
   ]
  },
  {
   "cell_type": "code",
   "execution_count": null,
   "id": "22",
   "metadata": {},
   "outputs": [],
   "source": [
    "rheed_image.ri.beta = real_beta\n",
    "rheed_image.ri"
   ]
  },
  {
   "cell_type": "markdown",
   "id": "23",
   "metadata": {},
   "source": [
    "## Image Rotation\n",
    "\n",
    "If the RHEED camera is not perfectly aligned, it may be necessary to rotate the RHEED image to ensure that the shadow edge is perfectly horizontal.\n"
   ]
  },
  {
   "cell_type": "code",
   "execution_count": null,
   "id": "24",
   "metadata": {},
   "outputs": [],
   "source": [
    "# Create a copy of an image\n",
    "rotated_image = rheed_image.copy()\n",
    "\n",
    "# Rotate the image\n",
    "rotated_image.ri.rotate(-0.4)\n",
    "\n",
    "fig, ax = plt.subplots()\n",
    "rotated_image.ri.plot_image(ax=ax, show_center_lines=True)\n",
    "\n",
    "# add horizontal line to check the rotation alignment\n",
    "ax.axhline(-42.0, color=\"b\", linestyle=\"--\")\n",
    "\n",
    "plt.show()"
   ]
  },
  {
   "cell_type": "code",
   "execution_count": null,
   "id": "25",
   "metadata": {},
   "outputs": [],
   "source": [
    "# Use now the rotated image for further analysis\n",
    "rheed_image = rotated_image\n",
    "\n",
    "# Apply automatic center search again after rotation\n",
    "rheed_image.ri.apply_image_center(auto_center=True)"
   ]
  },
  {
   "cell_type": "markdown",
   "id": "26",
   "metadata": {},
   "source": [
    "## Screen ROI\n",
    "\n",
    "Define the region of interest (ROI) for the RHEED image. This ROI is used to set the limits for the x and y axes in the `plot_image()` method.\n",
    "\n",
    "The example below also demonstrates the use of the `auto_levels` argument, which automatically sets the `vmin` and `vmax` values for image contrast adjustment.\n"
   ]
  },
  {
   "cell_type": "code",
   "execution_count": null,
   "id": "27",
   "metadata": {},
   "outputs": [],
   "source": [
    "rheed_image.ri.screen_roi_width = 60\n",
    "rheed_image.ri.screen_roi_height = 60\n",
    "\n",
    "# Use automatic levels adjustment\n",
    "# auto_levels: percentage of pixels to clip at both low and high ends.\n",
    "rheed_image.ri.plot_image(auto_levels=2.0)\n",
    "plt.show()"
   ]
  },
  {
   "cell_type": "markdown",
   "id": "28",
   "metadata": {},
   "source": [
    "## High-Pass Filter\n",
    "\n",
    "Apply a high-pass filter to remove the homogeneous background signal from the RHEED image.\n",
    "\n",
    "You can adjust the following parameters:\n",
    "\n",
    "- `sigma` (in mm): controls the width of the Gaussian kernel used for blurring,\n",
    "- `threshold`: scales the blurred image before subtraction.\n",
    "\n",
    "The filtered image is computed as:\n",
    "\n",
    "`filtered_image = real_image - threshold * blurred_image`\n"
   ]
  },
  {
   "cell_type": "code",
   "execution_count": null,
   "id": "29",
   "metadata": {},
   "outputs": [],
   "source": [
    "from xrheed.preparation.filters import high_pass_filter\n",
    "\n",
    "sigma = 3.0\n",
    "threshold = 0.8\n",
    "\n",
    "hp_rheed_image = high_pass_filter(rheed_image, sigma=sigma, threshold=threshold)\n",
    "\n",
    "hp_rheed_image.ri.plot_image(auto_levels=1.0)\n",
    "plt.show()"
   ]
  }
 ],
 "metadata": {
  "kernelspec": {
   "display_name": "Python 3",
   "language": "python",
   "name": "python3"
  },
  "language_info": {
   "codemirror_mode": {
    "name": "ipython",
    "version": 3
   },
   "file_extension": ".py",
   "mimetype": "text/x-python",
   "name": "python",
   "nbconvert_exporter": "python",
   "pygments_lexer": "ipython3",
   "version": "3.12.10"
  }
 },
 "nbformat": 4,
 "nbformat_minor": 5
}
