{
 "cells": [
  {
   "cell_type": "code",
   "execution_count": null,
   "id": "edd1ee21",
   "metadata": {},
   "outputs": [],
   "source": [
    "import matplotlib.pyplot as plt\n",
    "import numpy as np\n",
    "from VegasAfterglow import ISM, TophatJet, Observer, Radiation, Model"
   ]
  },
  {
   "cell_type": "code",
   "execution_count": null,
   "id": "9fb5c06d",
   "metadata": {},
   "outputs": [],
   "source": [
    "# 1. Define the circumburst environment (constant density ISM)\n",
    "medium = ISM(n_ism=1)\n",
    "\n",
    "# 2. Configure the jet structure (top-hat with opening angle, energy, and Lorentz factor)\n",
    "jet = TophatJet(theta_c=0.1, E_iso=1e52, Gamma0=300)\n",
    "\n",
    "# 3. Set observer parameters (distance, redshift, viewing angle)\n",
    "obs = Observer(lumi_dist=1e26, z=0.1, theta_obs=0)\n",
    "\n",
    "# 4. Define radiation microphysics parameters\n",
    "rad = Radiation(eps_e=1e-1, eps_B=1e-3, p=2.3)\n",
    "\n",
    "# 5. Combine all components into a complete afterglow model\n",
    "model = Model(jet=jet, medium=medium, observer=obs, fwd_rad=rad)"
   ]
  },
  {
   "cell_type": "code",
   "execution_count": null,
   "id": "85de1437",
   "metadata": {},
   "outputs": [],
   "source": [
    "# 1. Create logarithmic time array from 10² to 10⁸ seconds (100s to ~3yrs)\n",
    "times = np.logspace(2, 8, 100)  \n",
    "\n",
    "# 2. Define observing frequencies (radio, optical, X-ray bands in Hz)\n",
    "bands = np.array([1e9, 1e14, 1e17])  \n",
    "\n",
    "# 3. Calculate the afterglow emission at each time and frequency\n",
    "results = model.flux_density_grid(times, bands)\n",
    "\n",
    "# 4. Visualize the multi-wavelength light curves\n",
    "plt.figure(figsize=(4.8, 3.6),dpi=200)\n",
    "\n",
    "# 5. Plot each frequency band \n",
    "for i, nu in enumerate(bands):\n",
    "    exp = int(np.floor(np.log10(nu)))\n",
    "    base = nu / 10**exp\n",
    "    plt.loglog(times, results.total[i,:], label=fr'${base:.1f} \\times 10^{{{exp}}}$ Hz')\n",
    "\n",
    "def add_note(plt):\n",
    "    plt.annotate('jet break',xy=(3e4, 1e-26), xytext=(3e3, 5e-28), arrowprops=dict(arrowstyle='->'))\n",
    "    plt.annotate(r'$\\nu_m=\\nu_a$',xy=(8e5, 2e-25), xytext=(7.5e4, 5e-24), arrowprops=dict(arrowstyle='->'))\n",
    "    plt.annotate(r'$\\nu=\\nu_a$',xy=(4e6, 4e-25), xytext=(7.5e5, 5e-24), arrowprops=dict(arrowstyle='->'))\n",
    "\n",
    "add_note(plt)   \n",
    "plt.xlabel('Time (s)')\n",
    "plt.ylabel('Flux Density (erg/cm²/s/Hz)')\n",
    "plt.legend()\n",
    "plt.title('Light Curves')\n",
    "plt.savefig('quick-lc.png',dpi=300,bbox_inches='tight')"
   ]
  },
  {
   "cell_type": "code",
   "execution_count": null,
   "id": "4800123b",
   "metadata": {},
   "outputs": [],
   "source": [
    "# 1. Define broad frequency range (10⁵ to 10²² Hz) \n",
    "frequencies = np.logspace(5, 22, 200)  \n",
    "\n",
    "# 2. Select specific time epochs for spectral snapshots \n",
    "epochs = np.array([1e2, 1e3, 1e4, 1e5 ,1e6, 1e7, 1e8])\n",
    "\n",
    "# 3. Calculate spectra at each epoch\n",
    "results = model.flux_density_grid(epochs, frequencies)\n",
    "\n",
    "# 4. Plot broadband spectra at each epoch\n",
    "plt.figure(figsize=(4.8, 3.6),dpi=200)\n",
    "colors = plt.cm.viridis(np.linspace(0,1,len(epochs)))\n",
    "\n",
    "for i, t in enumerate(epochs):\n",
    "    exp = int(np.floor(np.log10(t)))\n",
    "    base = t / 10**exp\n",
    "    plt.loglog(frequencies, results.total[:,i], color=colors[i], label=fr'${base:.1f} \\times 10^{{{exp}}}$ s')\n",
    "\n",
    "# 5. Add vertical lines marking the bands from the light curve plot\n",
    "for i, band in enumerate(bands):\n",
    "    exp = int(np.floor(np.log10(band)))\n",
    "    base = band / 10**exp\n",
    "    plt.axvline(band,ls='--',color='C'+str(i))\n",
    "\n",
    "plt.xlabel('frequency (Hz)')\n",
    "plt.ylabel('flux density (erg/cm²/s/Hz)')\n",
    "plt.legend(ncol=2)\n",
    "plt.title('Synchrotron Spectra')\n",
    "plt.savefig('quick-spec.png',dpi=300,bbox_inches='tight')"
   ]
  },
  {
   "cell_type": "code",
   "execution_count": null,
   "id": "10443feb",
   "metadata": {},
   "outputs": [],
   "source": []
  }
 ],
 "metadata": {
  "kernelspec": {
   "display_name": "science",
   "language": "python",
   "name": "python3"
  },
  "language_info": {
   "codemirror_mode": {
    "name": "ipython",
    "version": 3
   },
   "file_extension": ".py",
   "mimetype": "text/x-python",
   "name": "python",
   "nbconvert_exporter": "python",
   "pygments_lexer": "ipython3",
   "version": "3.11.12"
  }
 },
 "nbformat": 4,
 "nbformat_minor": 5
}
