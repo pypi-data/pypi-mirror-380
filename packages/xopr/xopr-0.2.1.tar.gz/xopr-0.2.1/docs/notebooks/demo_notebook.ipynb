{
 "cells": [
  {
   "cell_type": "markdown",
   "id": "1772a2d7",
   "metadata": {},
   "source": [
    "---\n",
    "title: xopr Demo Notebook\n",
    "description: Basic demonstration of the core data loading functions of xopr\n",
    "date: 2025-08-06\n",
    "---\n",
    "\n",
    "This is a basic demonstration of the core features of xopr for loading and plotting radar data."
   ]
  },
  {
   "cell_type": "code",
   "execution_count": null,
   "id": "1d5a6e4b",
   "metadata": {},
   "outputs": [],
   "source": [
    "%load_ext autoreload\n",
    "%autoreload 2\n",
    "\n",
    "import numpy as np\n",
    "import xarray as xr\n",
    "import geoviews as gv\n",
    "import geoviews.feature as gf\n",
    "import cartopy.crs as ccrs\n",
    "import matplotlib.pyplot as plt\n",
    "\n",
    "import xopr\n",
    "\n",
    "import holoviews as hv\n",
    "import hvplot.xarray\n",
    "import hvplot.pandas\n",
    "hvplot.extension('bokeh')"
   ]
  },
  {
   "cell_type": "markdown",
   "id": "9690ff00",
   "metadata": {},
   "source": [
    "You'll first establish an OPR session. This object serves to contain any needed information about how to connect to OPR and to the STAC API.\n",
    "\n",
    "Generally, you can just use `opr = xopr.OPRConnection()`, but you may want to customize other options. The most common would be to create a local radar cache, which you can do as shown in the cell below.\n",
    "\n",
    "If you specify a `cache_dir`, then [fsspec](https://filesystem-spec.readthedocs.io/en/latest/features.html) will automatically manage a cache of any radar data that you need to download. This makes re-running things fast."
   ]
  },
  {
   "cell_type": "code",
   "execution_count": null,
   "id": "9a567aae",
   "metadata": {},
   "outputs": [],
   "source": [
    "# Establish an OPR session\n",
    "# You'll probably want to set a cache directory if you're running this locally to speed\n",
    "# up subsequent requests. You can do other things like customize the STAC API endpoint,\n",
    "# but you shouldn't need to do that for most use cases.\n",
    "opr = xopr.OPRConnection(cache_dir=\"/tmp\")\n",
    "\n",
    "# Or you can open a connection without a cache directory (for example, if you're parallelizing\n",
    "# this on a cloud cluster without persistent storage).\n",
    "#opr = xopr.OPRConnection()"
   ]
  },
  {
   "cell_type": "markdown",
   "id": "1617a5da",
   "metadata": {},
   "source": [
    "In the STAC catalog, every season (an entity such as `2022_Antarctica_BaslerMKB`) is a distinct collection. You can list the available collections."
   ]
  },
  {
   "cell_type": "code",
   "execution_count": null,
   "id": "196852ad",
   "metadata": {},
   "outputs": [],
   "source": [
    "# List the available OPR datasets\n",
    "collections = opr.get_collections()\n",
    "print([c['id'] for c in collections])\n",
    "selected_collection = '2022_Antarctica_BaslerMKB' # Select a collection for demonstration\n",
    "print(f\"Selected collection: {selected_collection}\")"
   ]
  },
  {
   "cell_type": "markdown",
   "id": "c86bfa74",
   "metadata": {},
   "source": [
    "Similarly, you can list available segments for a given season. We use the OPR terminology of `segment` to refer to a flight segment. In most cases, one segment corresponds to a single flight, but sometimes flights are broken into multiple segments for various reasons. A segment is uniquely defined by a collection (i.e. `2022_Antarctica_BaslerMKB`) and a segment path (i.e. `20221212_01`).\n",
    "\n",
    "When we add a season into the STAC catalog, we add every segment for which a `CSARP_standard` product is available. (And we also link to other data products, if those are available.)"
   ]
  },
  {
   "cell_type": "code",
   "execution_count": null,
   "id": "66ef1fac",
   "metadata": {},
   "outputs": [],
   "source": [
    "# List segments in the selected collection\n",
    "segments = opr.get_segments(selected_collection)\n",
    "print(f\"Found {len(segments)} segments in collection {selected_collection}\")\n",
    "print(f\"The first 3 segments are: {[s['segment_path'] for s in segments[:3]]}\")"
   ]
  },
  {
   "cell_type": "markdown",
   "id": "efb5d70f",
   "metadata": {},
   "source": [
    "Once you pick a flight, we can actually start loading data. This happens in two steps. First, we get the STAC items, which are a description of the geometry and properties of each frame of data. They are returned from `query_frames()` as a `GeoPandas` `GeoDataFrame`."
   ]
  },
  {
   "cell_type": "code",
   "execution_count": null,
   "id": "089dd1ac",
   "metadata": {},
   "outputs": [],
   "source": [
    "selected_segment = '20230109_01' # Or from the list of segments like this: segments[0]['segment_path']\n",
    "print(f\"Selected segment: {selected_segment}\")\n",
    "\n",
    "stac_items = opr.query_frames(collections=[selected_collection], segment_paths=[selected_segment])\n",
    "stac_items.head(3)"
   ]
  },
  {
   "cell_type": "markdown",
   "id": "bdb08d13",
   "metadata": {},
   "source": [
    "We can take a look at where our flight line is using the HoloViews accessor method to the `GeoDataFrame`."
   ]
  },
  {
   "cell_type": "code",
   "execution_count": null,
   "id": "2df228d2",
   "metadata": {},
   "outputs": [],
   "source": [
    "background_map = gf.ocean.opts(projection=ccrs.SouthPolarStereo(), scale='50m') * gf.coastline.opts(projection=ccrs.SouthPolarStereo(), scale='50m')\n",
    "background_map * stac_items.to_crs('EPSG:3031').hvplot(aspect='equal')"
   ]
  },
  {
   "cell_type": "markdown",
   "id": "bc9386c6",
   "metadata": {},
   "source": [
    "Now we'll use the STAC items to actaully load radar data.\n",
    "\n",
    "How much data this needs to transfer will vary depending on both how long the flight is and how the underlying data is stored. We're working on migrating OPR data files to be cloud-optimized, however most of them aren't and some of them are old-school MATLAB v5 files. xopr is designed to hide these differences from you as much as possible, but that can only go so far."
   ]
  },
  {
   "cell_type": "code",
   "execution_count": null,
   "id": "affbb5d2",
   "metadata": {},
   "outputs": [],
   "source": [
    "frames = opr.load_frames(stac_items)"
   ]
  },
  {
   "cell_type": "markdown",
   "id": "7fb77cd6",
   "metadata": {},
   "source": [
    "Let's look a single frame. This corresponds to a single `.mat` file that you might download from the OPR website. The structure of this should look familiar to you.\n",
    "\n",
    "If you've tried directly loading one of these files in Python, you'll probably know that there are some quirks. We try to handle those behind the scenes and give you a nicely-formatted [xarray Dataset](https://docs.xarray.dev/en/stable/generated/xarray.Dataset.html).\n",
    "\n",
    "If you've never heard of xarray, this might be a good time to go read the [xarray overview doc](https://docs.xarray.dev/en/stable/getting-started-guide/why-xarray.html)."
   ]
  },
  {
   "cell_type": "markdown",
   "id": "9185f45d",
   "metadata": {},
   "source": [
    "```{tip}\n",
    "xOPR produces datasets with very long nested attributes. In order to provide a nicer notebook preview of them, we've included an xarray accessor that provides an improved `_repr_html_` function. If you want nice previews of nested dictionaries of attributes, you can use:\n",
    "\n",
    "`radar_ds.xopr`\n",
    "```"
   ]
  },
  {
   "cell_type": "code",
   "execution_count": null,
   "id": "4d075dd2",
   "metadata": {},
   "outputs": [],
   "source": [
    "# Inspect an individual frame\n",
    "frames[0].xopr"
   ]
  },
  {
   "cell_type": "markdown",
   "id": "849c06df",
   "metadata": {},
   "source": [
    "You can manually merge the `Dataset`s if you like, but `xopr.merge_frames()` will do it for you. This helper function will return a list with one `xr.Dataset` per segment path or a single `xr.Dataset` if there is only one segment represented.\n",
    "\n",
    ":::{tip} You can also pass `merge_flights=True` to `load_frames` and you'll get back a list with one dataset per flight. :::"
   ]
  },
  {
   "cell_type": "code",
   "execution_count": null,
   "id": "b65d9bf4",
   "metadata": {},
   "outputs": [],
   "source": [
    "flight_line = xopr.merge_frames(frames)\n",
    "\n",
    "## Combine the frames into a single xarray Dataset representing the flight line\n",
    "#flight_line = xr.concat(frames, dim='slow_time', combine_attrs=merge_dicts_no_conflicts).sortby('slow_time')\n",
    "flight_line.xopr"
   ]
  },
  {
   "cell_type": "markdown",
   "id": "5aa6f4b7",
   "metadata": {},
   "source": [
    "For visualizing radargrams, it's helpful (i.e. we can make the plotting more efficient) if the slow time spacing is even. We can ensure this is true by doing some stacking along a fixed-time window:\n",
    "\n",
    "```python\n",
    "stacked = flight_line.resample(slow_time='2s').mean()\n",
    "```\n",
    "\n",
    "This gives us uniform spacing in the `slow_time` dimension. This allows for more efficient plotting (`imshow` can only be used with fixed spacing -- try `pcolormesh` if your spacing is variable)."
   ]
  },
  {
   "cell_type": "code",
   "execution_count": null,
   "id": "58f960b3",
   "metadata": {},
   "outputs": [],
   "source": [
    "stacked = flight_line.resample(slow_time='2s').mean()\n",
    "\n",
    "stacked['Data'] = 10*np.log10(np.abs(stacked['Data']))\n",
    "\n",
    "stacked.xopr"
   ]
  },
  {
   "cell_type": "markdown",
   "id": "b960a6cf",
   "metadata": {},
   "source": [
    "OPR data often also includes traced layers (surface, bed, and occasionally internal layers). There are two distinct formats that OPR uses, which you may be familiar with from the CReSIS `imb.picker` tool. One is a database that stores layer picks. The other is a layer file that is available as a separate data product.\n",
    "\n",
    "xopr allows you to fetch the relevant layer information from either source. To select only database layers, you can call `get_layers(ds, source='db')`. For layer files, you can call `get_layers(ds, source='files')`. By default, `get_layers()` will first look for a layer file and fall back to the database if a file cannot be found.\n",
    "\n",
    "Once again, we do our best to hide the different formats. Once you've loaded the layers either way, you'll get a dictionary mapping layer IDs to xarray Datasets of the same basic structure.\n",
    "\n",
    ":::{tip}\n",
    "How to handle layers is still very much under development. We would love feedback on this topic.\n",
    ":::"
   ]
  },
  {
   "cell_type": "code",
   "execution_count": null,
   "id": "f103a68d",
   "metadata": {},
   "outputs": [],
   "source": [
    "layers = opr.get_layers(stacked)"
   ]
  },
  {
   "cell_type": "code",
   "execution_count": null,
   "id": "1516535a",
   "metadata": {},
   "outputs": [],
   "source": [
    "layers[1] # Display the surface layer as an example"
   ]
  },
  {
   "cell_type": "markdown",
   "id": "22acce05",
   "metadata": {},
   "source": [
    "We can also add vertical coordintes to the layers. By default, the layer information is provided in `twtt` (two-way travel time), but it can be helpful to transform this to range or WGS84 elevation.\n",
    "\n",
    "Remember that `layers` is a `dict` where the keys are OPR layer identifiers. As such, `1` is always the surface and `2` is always the bed."
   ]
  },
  {
   "cell_type": "code",
   "execution_count": null,
   "id": "ba892370",
   "metadata": {},
   "outputs": [],
   "source": [
    "for layer_idx in layers:\n",
    "    layers[layer_idx] = xopr.layer_twtt_to_range(layers[layer_idx], layers[1], vertical_coordinate='wgs84')\n",
    "    layers[layer_idx] = xopr.layer_twtt_to_range(layers[layer_idx], layers[1], vertical_coordinate='range')"
   ]
  },
  {
   "cell_type": "markdown",
   "id": "91dad714",
   "metadata": {},
   "source": [
    "Finally, let's make a radargram. If we were successful in loading layers, we will also plot the surface and bed layers here.\n",
    "\n",
    ":::{tip}\n",
    "`imshow` is a very fast way of plotting regulary-spaced 2D data. It works great if your `slow_time` spacing is uniform, as it is here because we already resampled during stacking. If you have non-uniformly spaced data, you must use `pcolormesh` or another plotting tool that can handle non-uniformly spaced data.\n",
    ":::"
   ]
  },
  {
   "cell_type": "code",
   "execution_count": null,
   "id": "8123f0d5",
   "metadata": {},
   "outputs": [],
   "source": [
    "fig, ax = plt.subplots(figsize=(15, 4))\n",
    "stacked['Data'].plot.imshow(x='slow_time', cmap='gray', ax=ax)\n",
    "ax.invert_yaxis()\n",
    "\n",
    "if layers:\n",
    "    layers[1]['twtt'].plot(ax=ax, x='slow_time', linestyle=':', label='Surface')\n",
    "    layers[2]['twtt'].plot(ax=ax, x='slow_time', linestyle='--', label='Bed')\n",
    "    ax.legend()\n",
    "\n",
    "ax.set_title(f\"{stacked.attrs['collection']} - {stacked.attrs['segment_path']}\")\n",
    "plt.show()"
   ]
  },
  {
   "cell_type": "markdown",
   "id": "3dd782ce",
   "metadata": {},
   "source": [
    "For display purposes, we can also transform the Y axis to show range (distance from the radar instrument, usually positive down) or altitude in WGS84 (negative down):"
   ]
  },
  {
   "cell_type": "code",
   "execution_count": null,
   "id": "e1c025fd",
   "metadata": {},
   "outputs": [],
   "source": [
    "vcoord = 'wgs84' # Options are 'range' or 'wgs84'\n",
    "\n",
    "tmp = xopr.interpolate_to_vertical_grid(stacked, vertical_coordinate=vcoord)\n",
    "\n",
    "fig, ax = plt.subplots(figsize=(15, 4))\n",
    "tmp['Data'].plot.imshow(x='slow_time', cmap='gray', ax=ax)\n",
    "if vcoord == 'range':\n",
    "    ax.invert_yaxis()\n",
    "\n",
    "if layers:\n",
    "    layers[1][vcoord].plot(ax=ax, x='slow_time', linestyle=':', label='Surface')\n",
    "    layers[2][vcoord].plot(ax=ax, x='slow_time', linestyle='--', label='Bed')\n",
    "    ax.legend()\n",
    "\n",
    "ax.set_title(f\"{stacked.attrs['collection']} - {stacked.attrs['segment_path']}\")\n",
    "plt.show()"
   ]
  },
  {
   "cell_type": "markdown",
   "id": "32586e46",
   "metadata": {},
   "source": [
    "OPR data comes from many sources. Collecting and processing that data has required the contributions of many people over multiple decades. We want to make it easy for you, as a user, to figure out how to appropriately cite the data you've used. This is still just an early prototype, but here's an idea of what it might look like to generate a report on how to cite your data:"
   ]
  },
  {
   "cell_type": "code",
   "execution_count": null,
   "id": "0488360f",
   "metadata": {},
   "outputs": [],
   "source": [
    "print(flight_line.xopr.citation)"
   ]
  },
  {
   "cell_type": "code",
   "execution_count": null,
   "id": "ebd767af",
   "metadata": {},
   "outputs": [],
   "source": []
  }
 ],
 "metadata": {
  "kernelspec": {
   "display_name": "xopr",
   "language": "python",
   "name": "python3"
  },
  "language_info": {
   "codemirror_mode": {
    "name": "ipython",
    "version": 3
   },
   "file_extension": ".py",
   "mimetype": "text/x-python",
   "name": "python",
   "nbconvert_exporter": "python",
   "pygments_lexer": "ipython3",
   "version": "3.10.12"
  }
 },
 "nbformat": 4,
 "nbformat_minor": 5
}
