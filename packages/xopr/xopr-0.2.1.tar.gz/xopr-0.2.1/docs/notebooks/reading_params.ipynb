{
 "cells": [
  {
   "cell_type": "markdown",
   "id": "07cf8d03",
   "metadata": {},
   "source": [
    "---\n",
    "title: Reading parameters\n",
    "description: A brief demonstration of accessing attributes stored with radar data\n",
    "date: 2025-08-19\n",
    "---\n",
    "\n",
    "Data products exported from Open Polar Radar contain a huge amount of metadata, stored primarily in `param_<processing step>` structures. These are initially encoded in spreadsheets, which may be found in the [opr_params](https://gitlab.com/openpolarradar/opr_params) git repository and follow the schema described in the [Parameter Spreadsheet Guide](https://gitlab.com/openpolarradar/opr/-/wikis/Parameter-Spreadsheet-Guide) and the [Parameter Spreadsheets](https://gitlab.com/openpolarradar/opr/-/wikis/OPR-Toolbox-Guide#parameter-spreadsheet) section of the OPR Toolbox Guide.\n",
    "\n",
    "When data is processed, the parameters used for each processing stage are saved with the exported data file. xOPR will load as much of this data as possible and make it available as attributes of the returned datasets.\n",
    "\n",
    "Generally, all files you load should have a `param_records` attribute that encodes the parameter spreadsheet at the point where the raw data was broken into frames. Depending on the processing level you load, you will also find parameter dictionaries for later processing steps. For example, `CSARP_standard` data products should have a `param_sar` dictionary and `CSARP_qlook` products should have a `param_qlook` dictionary.\n",
    "\n",
    "(For a reference to the processing stages, see [Processing Steps](https://gitlab.com/openpolarradar/opr/-/wikis/Processing-Steps) on the OPR wiki.)\n",
    "\n"
   ]
  },
  {
   "cell_type": "code",
   "execution_count": null,
   "id": "65441a78",
   "metadata": {},
   "outputs": [],
   "source": [
    "%load_ext autoreload\n",
    "%autoreload 2\n",
    "\n",
    "import xarray as xr\n",
    "\n",
    "import xopr"
   ]
  },
  {
   "cell_type": "code",
   "execution_count": null,
   "id": "d517e948",
   "metadata": {},
   "outputs": [],
   "source": [
    "# Establish an OPR session\n",
    "# You'll probably want to set a cache directory if you're running this locally to speed\n",
    "# up subsequent requests. You can do other things like customize the STAC API endpoint,\n",
    "# but you shouldn't need to do that for most use cases.\n",
    "opr = xopr.OPRConnection(cache_dir=\"/tmp\")\n",
    "\n",
    "# Or you can open a connection without a cache directory (for example, if you're parallelizing\n",
    "# this on a cloud cluster without persistent storage).\n",
    "#opr = xopr.OPRConnection()"
   ]
  },
  {
   "cell_type": "code",
   "execution_count": null,
   "id": "f9366379",
   "metadata": {},
   "outputs": [],
   "source": [
    "collection, segment_path = '2022_Antarctica_BaslerMKB', '20230109_01'\n",
    "print(f\"Selected segment: {segment_path} from collection {collection}\")\n",
    "\n",
    "stac_items = opr.query_frames(collections=[collection], segment_paths=[segment_path], max_items=2)\n",
    "frames = opr.load_frames(stac_items, data_product='CSARP_standard')\n",
    "example_frame = frames[0]"
   ]
  },
  {
   "cell_type": "markdown",
   "id": "f403ec87",
   "metadata": {},
   "source": [
    "```{tip}\n",
    "xOPR produces datasets with very long nested attributes. In order to provide a nicer notebook preview of them, we've included an xarray accessor that provides an improved `_repr_html_` function. If you want nice previews of nested dictionaries of attributes, you can use:\n",
    "\n",
    "`radar_ds.xopr`\n",
    "```"
   ]
  },
  {
   "cell_type": "code",
   "execution_count": null,
   "id": "05e05201",
   "metadata": {},
   "outputs": [],
   "source": [
    "example_frame.xopr"
   ]
  },
  {
   "cell_type": "markdown",
   "id": "deaccc5a",
   "metadata": {},
   "source": [
    "The structure of each parameter dictionary should be the same (see [Parameter Spreadsheet](https://gitlab.com/openpolarradar/opr/-/wikis/OPR-Toolbox-Guide#parameter-spreadsheet) in the OPR Toolbox Guide). The multiple parameter dictionaries encode the history of the parameters throughout the processing. Generally, if you're looking for a parameter that is fundamental to the radar instrument, it shouldn't matter which structure you read since this won't change. For example, here we're reading the start frequency of the chirp from `param_records` and `param_sar` and getting the same value."
   ]
  },
  {
   "cell_type": "code",
   "execution_count": null,
   "id": "e3da8eb9",
   "metadata": {},
   "outputs": [],
   "source": [
    "print(example_frame.attrs['param_records']['radar']['wfs']['f0'])\n",
    "print(example_frame.attrs['param_sar']['radar']['wfs']['f0'])"
   ]
  },
  {
   "cell_type": "markdown",
   "id": "a09faafc",
   "metadata": {},
   "source": [
    "If you're looking for a parameter specific to the post-processing, it's generally best to use the parameter structure associated with the level of processing you're working with."
   ]
  },
  {
   "cell_type": "code",
   "execution_count": null,
   "id": "3f3bad28",
   "metadata": {},
   "outputs": [],
   "source": [
    "print(example_frame.attrs['param_sar']['sar']['chunk_len'])"
   ]
  },
  {
   "cell_type": "markdown",
   "id": "8b917597",
   "metadata": {},
   "source": [
    "There are some parts of the parameter structure that we can't really load correctly. Matlab function handles will show up like this, but there's not much you can actually do with this:"
   ]
  },
  {
   "cell_type": "code",
   "execution_count": null,
   "id": "e2cfd515",
   "metadata": {},
   "outputs": [],
   "source": [
    "example_frame.attrs['param_records']['radar']['lever_arm_fh']"
   ]
  },
  {
   "cell_type": "markdown",
   "id": "c5300782",
   "metadata": {},
   "source": [
    "```{warning} Possible discrepancies between legacy Matlab and HDF5 files\n",
    "\n",
    "Unfortunatley, the OPR data is a mix of legacy Matlab file formats and Matlab-generated HDF5 files. These files need to be loaded through different code paths, so there may be discrepancies in how some of the parameters are handled. If you find any issues that are causing problems for your use case, please [open an issue](https://github.com/thomasteisberg/xopr/issues/new/) to let us know.\n",
    "```"
   ]
  },
  {
   "cell_type": "markdown",
   "id": "b87fd3b1",
   "metadata": {},
   "source": [
    "When you combine multiple frames together, we recommending using xOPR's `xopr.merge_frames()`. This helper function will navigate through the nested attributes dictionaries and keep only the parameters that are common across all input frames. It also handles some other edges cases, such as ensuring that the result is sorted by `slow_time`."
   ]
  },
  {
   "cell_type": "code",
   "execution_count": null,
   "id": "55f59626",
   "metadata": {},
   "outputs": [],
   "source": [
    "merged = xopr.merge_frames(frames)\n",
    "merged.xopr"
   ]
  }
 ],
 "metadata": {
  "kernelspec": {
   "display_name": "xopr",
   "language": "python",
   "name": "python3"
  },
  "language_info": {
   "codemirror_mode": {
    "name": "ipython",
    "version": 3
   },
   "file_extension": ".py",
   "mimetype": "text/x-python",
   "name": "python",
   "nbconvert_exporter": "python",
   "pygments_lexer": "ipython3",
   "version": "3.13.6"
  }
 },
 "nbformat": 4,
 "nbformat_minor": 5
}
