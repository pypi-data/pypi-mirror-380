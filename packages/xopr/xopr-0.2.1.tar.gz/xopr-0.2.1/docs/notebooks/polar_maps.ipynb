{
 "cells": [
  {
   "cell_type": "markdown",
   "metadata": {},
   "source": [
    "# Radar data availibility\n"
   ]
  },
  {
   "cell_type": "markdown",
   "metadata": {},
   "source": [
    "## Current Antarctic data accessible by xopr:\n"
   ]
  },
  {
   "cell_type": "code",
   "execution_count": null,
   "metadata": {},
   "outputs": [],
   "source": [
    "%%html \n",
    "<iframe \n",
    "    src=\"../_static/maps/polar.html\" \n",
    "    width=\"100%\" \n",
    "    height=\"600\"\n",
    "    frameborder=\"0\"\n",
    "    style=\"border: 1px solid #ccc; border-radius: 5px;\"\n",
    "    onload=\"this.contentWindow.CONFIG = {pole: 'south', parquetFiles: ['https://storage.googleapis.com/opr_stac/testing/2010_Antarctica_DC8.parquet','https://storage.googleapis.com/opr_stac/testing/2011_Antarctica_DC8.parquet','https://storage.googleapis.com/opr_stac/testing/2011_Antarctica_TO.parquet','https://storage.googleapis.com/opr_stac/testing/2012_Antarctica_DC8.parquet','https://storage.googleapis.com/opr_stac/testing/2013_Antarctica_Basler.parquet','https://storage.googleapis.com/opr_stac/testing/2013_Antarctica_P3.parquet','https://storage.googleapis.com/opr_stac/testing/2014_Antarctica_DC8.parquet','https://storage.googleapis.com/opr_stac/testing/2016_Antarctica_DC8.parquet','https://storage.googleapis.com/opr_stac/testing/2017_Antarctica_Basler.parquet','https://storage.googleapis.com/opr_stac/testing/2017_Antarctica_P3.parquet','https://storage.googleapis.com/opr_stac/testing/2018_Antarctica_DC8.parquet','https://storage.googleapis.com/opr_stac/testing/2018_Antarctica_Ground.parquet','https://storage.googleapis.com/opr_stac/testing/2019_Antarctica_GV.parquet','https://storage.googleapis.com/opr_stac/testing/2022_Antarctica_BaslerMKB.parquet','https://storage.googleapis.com/opr_stac/testing/2023_Antarctica_BaslerMKB.parquet','https://storage.googleapis.com/opr_stac/testing/2024_Antarctica_GroundGHOST2.parquet'], defaultZoom: 3}\">\n",
    "</iframe>"
   ]
  },
  {
   "cell_type": "markdown",
   "metadata": {},
   "source": [
    "## Current Arctic data accessible by xopr:\n"
   ]
  },
  {
   "cell_type": "code",
   "execution_count": null,
   "metadata": {},
   "outputs": [],
   "source": [
    "%%html \n",
    "<iframe \n",
    "    src=\"../_static/maps/polar.html\" \n",
    "    width=\"100%\" \n",
    "    height=\"600\"\n",
    "    frameborder=\"0\"\n",
    "    style=\"border: 1px solid #ccc; border-radius: 5px;\"\n",
    "    onload=\"this.contentWindow.CONFIG = {pole: 'north', parquetFiles: ['https://storage.googleapis.com/opr_stac/testing/2011_Greenland_P3.parquet','https://storage.googleapis.com/opr_stac/testing/2012_Greenland_P3.parquet','https://storage.googleapis.com/opr_stac/testing/2013_Greenland_P3.parquet','https://storage.googleapis.com/opr_stac/testing/2014_Greenland_P3.parquet','https://storage.googleapis.com/opr_stac/testing/2015_Greenland_C130.parquet','https://storage.googleapis.com/opr_stac/testing/2016_Greenland_G1XB.parquet','https://storage.googleapis.com/opr_stac/testing/2016_Greenland_P3.parquet','https://storage.googleapis.com/opr_stac/testing/2016_Greenland_Polar6.parquet','https://storage.googleapis.com/opr_stac/testing/2016_Greenland_TOdtu.parquet','https://storage.googleapis.com/opr_stac/testing/2017_Greenland_P3.parquet','https://storage.googleapis.com/opr_stac/testing/2018_Greenland_P3.parquet','https://storage.googleapis.com/opr_stac/testing/2019_Greenland_P3.parquet'], defaultZoom: 3}\">\n",
    "</iframe>"
   ]
  }
 ],
 "metadata": {
  "kernelspec": {
   "display_name": "Python 3",
   "language": "python",
   "name": "python3"
  },
  "language_info": {
   "codemirror_mode": {
    "name": "ipython",
    "version": 3
   },
   "file_extension": ".py",
   "mimetype": "text/x-python",
   "name": "python",
   "nbconvert_exporter": "python",
   "pygments_lexer": "ipython3",
   "version": "3.9.0"
  }
 },
 "nbformat": 4,
 "nbformat_minor": 4
}
