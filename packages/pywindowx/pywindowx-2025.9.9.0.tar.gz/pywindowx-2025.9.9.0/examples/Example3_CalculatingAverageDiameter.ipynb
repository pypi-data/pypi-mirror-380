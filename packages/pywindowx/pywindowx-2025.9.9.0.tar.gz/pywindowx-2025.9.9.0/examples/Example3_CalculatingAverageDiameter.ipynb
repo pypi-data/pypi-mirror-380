{
 "cells": [
  {
   "cell_type": "code",
   "execution_count": 1,
   "metadata": {
    "ExecuteTime": {
     "end_time": "2018-07-17T13:18:09.288292Z",
     "start_time": "2018-07-17T13:18:05.383733Z"
    },
    "collapsed": true,
    "run_control": {
     "frozen": false,
     "read_only": false
    }
   },
   "outputs": [],
   "source": [
    "import pywindow as pw"
   ]
  },
  {
   "cell_type": "markdown",
   "metadata": {
    "ExecuteTime": {
     "end_time": "2018-04-10T16:31:26.997606Z",
     "start_time": "2018-04-10T16:31:26.993286Z"
    }
   },
   "source": [
    "### First loading a molecular system and as it is a discrete molecule we use system_to_molecule method to create a Molecule object"
   ]
  },
  {
   "cell_type": "code",
   "execution_count": 3,
   "metadata": {
    "ExecuteTime": {
     "end_time": "2018-07-17T13:18:21.864567Z",
     "start_time": "2018-07-17T13:18:21.857427Z"
    },
    "run_control": {
     "frozen": false,
     "read_only": false
    }
   },
   "outputs": [],
   "source": [
    "molsys = pw.MolecularSystem.load_file(\"data/input/PUDXES.xyz\")\n",
    "mol = molsys.system_to_molecule()"
   ]
  },
  {
   "cell_type": "markdown",
   "metadata": {},
   "source": [
    "### To calculate average diameter of a molecule we use calculate_average_diameter method of Molecule class. The output is in the unit of distance from the input file - in this case Angstroms"
   ]
  },
  {
   "cell_type": "code",
   "execution_count": 4,
   "metadata": {
    "ExecuteTime": {
     "end_time": "2018-07-17T13:18:23.976765Z",
     "start_time": "2018-07-17T13:18:23.271735Z"
    },
    "run_control": {
     "frozen": false,
     "read_only": false
    }
   },
   "outputs": [
    {
     "data": {
      "text/plain": [
       "13.832017514255472"
      ]
     },
     "execution_count": 4,
     "metadata": {},
     "output_type": "execute_result"
    }
   ],
   "source": [
    "mol.calculate_average_diameter()"
   ]
  }
 ],
 "metadata": {
  "kernelspec": {
   "display_name": "Python [default]",
   "language": "python",
   "name": "python3"
  },
  "language_info": {
   "codemirror_mode": {
    "name": "ipython",
    "version": 3
   },
   "file_extension": ".py",
   "mimetype": "text/x-python",
   "name": "python",
   "nbconvert_exporter": "python",
   "pygments_lexer": "ipython3",
   "version": "3.5.4"
  }
 },
 "nbformat": 4,
 "nbformat_minor": 2
}
