{
 "cells": [
  {
   "cell_type": "code",
   "execution_count": 1,
   "id": "841a0003-8b60-4620-927f-927c86bf8808",
   "metadata": {},
   "outputs": [
    {
     "data": {
      "text/plain": [
       "datetime.datetime(2025, 9, 16, 13, 4, 49, 864332)"
      ]
     },
     "execution_count": 1,
     "metadata": {},
     "output_type": "execute_result"
    }
   ],
   "source": [
    "from datetime import datetime\n",
    "datetime.now()"
   ]
  },
  {
   "cell_type": "markdown",
   "id": "727b7c10-4b7f-48f1-9e05-16672d4c959f",
   "metadata": {},
   "source": [
    "# ESGVOC Documentation "
   ]
  },
  {
   "cell_type": "markdown",
   "id": "0650f50b-792e-4909-978b-394614a11c42",
   "metadata": {},
   "source": [
    "### https://esgf.github.io/esgf-vocab/"
   ]
  },
  {
   "cell_type": "markdown",
   "id": "7f71862d-1c24-4fc5-8035-2183bea44b48",
   "metadata": {},
   "source": [
    "```mermaid\n",
    "classDiagram\n",
    "    class Universe {\n",
    "        - DataDescriptors (DDs)\n",
    "    }\n",
    "\n",
    "    class DataDescriptor {\n",
    "        - Contains Terms\n",
    "    }\n",
    "\n",
    "    class Term {\n",
    "        - Metadata\n",
    "        - Linked to PydanticModel\n",
    "    }\n",
    "\n",
    "    class PydanticModel {\n",
    "        - Schema definition\n",
    "        - Validation\n",
    "    }\n",
    "\n",
    "    class Cordex {\n",
    "        - Collections\n",
    "    }\n",
    "\n",
    "    class Collection {\n",
    "        - Contains Terms\n",
    "        - Terms reference Universe Terms\n",
    "    }\n",
    "\n",
    "    class esgvoc {\n",
    "        - Query interface\n",
    "        - Accesses Universe and Cordex\n",
    "        - Returns instantiated Pydantic models\n",
    "    }\n",
    "\n",
    "    Universe --> DataDescriptor : contains\n",
    "    DataDescriptor --> Term : contains\n",
    "    Term --> PydanticModel : modeled by\n",
    "    Cordex --> Collection : contains\n",
    "    Collection --> Term : contains (links to Universe Terms)\n",
    "    esgvoc --> Universe : queries\n",
    "    esgvoc --> Cordex : queries\n",
    "    esgvoc --> PydanticModel : returns\n",
    "\n",
    "\n",
    "```\n"
   ]
  },
  {
   "cell_type": "markdown",
   "id": "bc2cd02e-b662-45d1-9917-d40409fa9367",
   "metadata": {},
   "source": [
    "# Basic use of esgvoc"
   ]
  },
  {
   "cell_type": "markdown",
   "id": "eec547db-a6cd-441d-8ebf-78ba1c414fb3",
   "metadata": {},
   "source": [
    "## Universe"
   ]
  },
  {
   "cell_type": "code",
   "execution_count": 2,
   "id": "4bec0563-8f79-47a8-9397-4849f75b2efc",
   "metadata": {},
   "outputs": [],
   "source": [
    "import esgvoc.api as ev"
   ]
  },
  {
   "cell_type": "code",
   "execution_count": 3,
   "id": "21946655-1125-4391-a39b-ac2f55e0f5bf",
   "metadata": {},
   "outputs": [
    {
     "data": {
      "text/plain": [
       "['activity',\n",
       " 'area_label',\n",
       " 'branded_suffix',\n",
       " 'branded_variable',\n",
       " 'citation_url',\n",
       " 'comment',\n",
       " 'consortium',\n",
       " 'contact',\n",
       " 'conventions',\n",
       " 'creation_date',\n",
       " 'data_specs_version',\n",
       " 'directory_date',\n",
       " 'experiment',\n",
       " 'forcing_index',\n",
       " 'frequency',\n",
       " 'further_info_url',\n",
       " 'grid',\n",
       " 'horizontal_label',\n",
       " 'initialisation_index',\n",
       " 'institution',\n",
       " 'known_branded_variable',\n",
       " 'license',\n",
       " 'member_id',\n",
       " 'mip_era',\n",
       " 'model_component',\n",
       " 'obs_type',\n",
       " 'organisation',\n",
       " 'physic_index',\n",
       " 'product',\n",
       " 'publication_status',\n",
       " 'realisation_index',\n",
       " 'realm',\n",
       " 'regex',\n",
       " 'region',\n",
       " 'resolution',\n",
       " 'source',\n",
       " 'source_type',\n",
       " 'sub_experiment',\n",
       " 'table',\n",
       " 'temporal_label',\n",
       " 'time_range',\n",
       " 'title',\n",
       " 'tracking_id',\n",
       " 'variable',\n",
       " 'variant_label',\n",
       " 'vertical_label',\n",
       " 'archive']"
      ]
     },
     "execution_count": 3,
     "metadata": {},
     "output_type": "execute_result"
    }
   ],
   "source": [
    "ev.get_all_data_descriptors_in_universe()\n"
   ]
  },
  {
   "cell_type": "code",
   "execution_count": 4,
   "id": "ccdfd089-39fc-4c2a-a9f9-028d53ab329f",
   "metadata": {},
   "outputs": [
    {
     "data": {
      "text/plain": [
       "[MipEra(id='cmip5', type='mip_era', drs_name='CMIP5', start=2006, end=2020, name='CMIP5', url='https://wcrp-cmip.org/CMIP5', @context='000_context.jsonld'),\n",
       " MipEra(id='cmip6', type='mip_era', drs_name='CMIP6', start=2013, end=2024, name='CMIP6', url='https://wcrp-cmip.org/CMIP6', @context='000_context.jsonld'),\n",
       " MipEra(id='cmip6plus', type='mip_era', drs_name='CMIP6Plus', start=2023, end=2999, name='CMIP6Plus', url='https://wcrp-cmip.org/CMIP6Plus', @context='000_context.jsonld'),\n",
       " MipEra(id='cmip7', type='mip_era', drs_name='CMIP7', start=2025, end=2999, name='CMIP7', url='https://wcrp-cmip.org/CMIP7', @context='000_context.jsonld'),\n",
       " MipEra(id='cordex_cmip6', type='mip_era', drs_name='CORDEX', start=2006, end=2020, name='CORDEX', url='https://wcrp-cmip.org/CORDEX', @context='000_context.jsonld')]"
      ]
     },
     "execution_count": 4,
     "metadata": {},
     "output_type": "execute_result"
    }
   ],
   "source": [
    "ev.get_all_terms_in_data_descriptor(\"mip_era\") # Return the list of MipEra pydantic class"
   ]
  },
  {
   "cell_type": "code",
   "execution_count": 5,
   "id": "8b782cbc-62b9-46f0-8fcd-96aa6d59d24e",
   "metadata": {},
   "outputs": [
    {
     "data": {
      "text/plain": [
       "MipEra(id='cordex_cmip6', type='mip_era', drs_name='CORDEX', start=2006, end=2020, name='CORDEX', url='https://wcrp-cmip.org/CORDEX', @context='000_context.jsonld')"
      ]
     },
     "execution_count": 5,
     "metadata": {},
     "output_type": "execute_result"
    }
   ],
   "source": [
    "ev.get_term_in_data_descriptor(\"mip_era\",\"cordex_cmip6\")"
   ]
  },
  {
   "cell_type": "markdown",
   "id": "295c983b-0b13-4192-a596-46ae04f37d34",
   "metadata": {},
   "source": [
    "## Cordex"
   ]
  },
  {
   "cell_type": "code",
   "execution_count": 6,
   "id": "40252b34-e5fc-4b77-9377-10c6c71a8cdd",
   "metadata": {},
   "outputs": [
    {
     "data": {
      "text/plain": [
       "['cmip6', 'cmip6plus', 'cmip7', 'input4mip', 'obs4ref', 'cordex-cmip6']"
      ]
     },
     "execution_count": 6,
     "metadata": {},
     "output_type": "execute_result"
    }
   ],
   "source": [
    "ev.get_all_projects()"
   ]
  },
  {
   "cell_type": "code",
   "execution_count": 7,
   "id": "7b526d7f-f332-444f-b8b8-75a0ee8a0c88",
   "metadata": {},
   "outputs": [
    {
     "data": {
      "text/plain": [
       "['activity_id',\n",
       " 'comment',\n",
       " 'contact',\n",
       " 'conventions',\n",
       " 'creation_date',\n",
       " 'domain_id',\n",
       " 'driving_experiment_id',\n",
       " 'driving_institution_id',\n",
       " 'driving_source_id',\n",
       " 'driving_variant_label',\n",
       " 'frequency',\n",
       " 'grid',\n",
       " 'history',\n",
       " 'institution_id',\n",
       " 'license',\n",
       " 'mip_era',\n",
       " 'product',\n",
       " 'project_id',\n",
       " 'references',\n",
       " 'source_id',\n",
       " 'source_type',\n",
       " 'time_range',\n",
       " 'tracking_id',\n",
       " 'variable_id',\n",
       " 'version',\n",
       " 'version_realization',\n",
       " 'version_realization_info']"
      ]
     },
     "execution_count": 7,
     "metadata": {},
     "output_type": "execute_result"
    }
   ],
   "source": [
    "ev.get_all_collections_in_project(\"cordex-cmip6\")"
   ]
  },
  {
   "cell_type": "code",
   "execution_count": 8,
   "id": "424a604b-25e0-4233-b5e2-82e43bbac251",
   "metadata": {},
   "outputs": [
    {
     "data": {
      "text/plain": [
       "[Region(id='afr-12', type='region', drs_name='AFR-12', description='Africa', @context='000_context.jsonld'),\n",
       " Region(id='afr-25', type='region', drs_name='AFR-25', description='Africa', @context='000_context.jsonld'),\n",
       " Region(id='afr-50', type='region', drs_name='AFR-50', description='Africa', @context='000_context.jsonld'),\n",
       " Region(id='afr-50i', type='region', drs_name='AFR-50i', description='Africa', @context='000_context.jsonld'),\n",
       " Region(id='ant-12', type='region', drs_name='ANT-12', description='Antarctica', @context='000_context.jsonld')]"
      ]
     },
     "execution_count": 8,
     "metadata": {},
     "output_type": "execute_result"
    }
   ],
   "source": [
    "ev.get_all_terms_in_collection(\"cordex-cmip6\",\"domain_id\")[:5] # to only show the 5 first"
   ]
  },
  {
   "cell_type": "code",
   "execution_count": 9,
   "id": "570425fd-42b8-4d50-948e-c4b0b7c902f0",
   "metadata": {},
   "outputs": [
    {
     "data": {
      "text/plain": [
       "Region(id='afr-12', type='region', drs_name='AFR-12', description='Africa', @context='000_context.jsonld')"
      ]
     },
     "execution_count": 9,
     "metadata": {},
     "output_type": "execute_result"
    }
   ],
   "source": [
    "ev.get_term_in_collection(\"cordex-cmip6\",\"domain_id\",\"afr-12\") # return a Region pydantic class"
   ]
  },
  {
   "cell_type": "markdown",
   "id": "3503543a-0f9c-4716-8f5b-592b675b0ae6",
   "metadata": {},
   "source": [
    "# DRS Validation / Generation with esgvoc "
   ]
  },
  {
   "cell_type": "markdown",
   "id": "1dc52b55-8518-43e2-953a-0856a811a481",
   "metadata": {},
   "source": [
    "### if the inputs is already known like in global attribute of the netcdf file: "
   ]
  },
  {
   "cell_type": "code",
   "execution_count": 10,
   "id": "008623d4-6c11-42df-a69a-f0f3795af5ab",
   "metadata": {},
   "outputs": [
    {
     "data": {
      "text/plain": [
       "'DD/AFR-25/AUTH/4AOP-v1-5/ssp370/r1i1p1f1/ALARO1-SFX/v1-r1/mon/tas/v20240319' has 0 error(s) and 0 warning(s)"
      ]
     },
     "execution_count": 10,
     "metadata": {},
     "output_type": "execute_result"
    }
   ],
   "source": [
    "from esgvoc.apps.drs.generator import DrsGenerator\n",
    "dg = DrsGenerator(\"cordex-cmip6\")\n",
    "bag = [\"CORDEX-CMIP6\" ,\"DD\",\"AFR-25\",\"AUTH\",\"4AOP-v1-5\",\"ssp370\",\"r1i1p1f1\",\"ALARO1-SFX\",\"v1-r1\",\"mon\",\"tas\",\"v20240319\"] # i have used random element for those \n",
    "dg.generate_directory_from_bag_of_terms(bag)"
   ]
  },
  {
   "cell_type": "markdown",
   "id": "3993013f-d047-483e-b427-3c78e3f215b2",
   "metadata": {},
   "source": [
    "## we could also validate this directory with the validator"
   ]
  },
  {
   "cell_type": "code",
   "execution_count": 11,
   "id": "d1e566d5-ff42-48bb-8d53-dae1667a3963",
   "metadata": {},
   "outputs": [
    {
     "data": {
      "text/plain": [
       "'DD/AFR-25/AUTH/4AOP-v1-5/ssp370/r1i1p1f1/ALARO1-SFX/v1-r1/mon/tas/v20240319' has 0 error(s) and 0 warning(s)"
      ]
     },
     "execution_count": 11,
     "metadata": {},
     "output_type": "execute_result"
    }
   ],
   "source": [
    "from esgvoc.apps.drs.validator import DrsValidator\n",
    "dv = DrsValidator(\"cordex-cmip6\")\n",
    "input_dir = 'DD/AFR-25/AUTH/4AOP-v1-5/ssp370/r1i1p1f1/ALARO1-SFX/v1-r1/mon/tas/v20240319' # took from the generated one\n",
    "dv.validate_directory(input_dir)"
   ]
  },
  {
   "cell_type": "code",
   "execution_count": null,
   "id": "2bafa6fe-a7d6-49b2-87db-208e10f07fc6",
   "metadata": {},
   "outputs": [],
   "source": []
  },
  {
   "cell_type": "code",
   "execution_count": null,
   "id": "c870567f-7718-41e8-8596-fff9663c19cc",
   "metadata": {},
   "outputs": [],
   "source": []
  },
  {
   "cell_type": "code",
   "execution_count": null,
   "id": "41b528cc-af78-4f94-9ffb-82a6df96ac30",
   "metadata": {},
   "outputs": [],
   "source": []
  }
 ],
 "metadata": {
  "kernelspec": {
   "display_name": "Python 3 (ipykernel)",
   "language": "python",
   "name": "python3"
  },
  "language_info": {
   "codemirror_mode": {
    "name": "ipython",
    "version": 3
   },
   "file_extension": ".py",
   "mimetype": "text/x-python",
   "name": "python",
   "nbconvert_exporter": "python",
   "pygments_lexer": "ipython3",
   "version": "3.12.7"
  }
 },
 "nbformat": 4,
 "nbformat_minor": 5
}
