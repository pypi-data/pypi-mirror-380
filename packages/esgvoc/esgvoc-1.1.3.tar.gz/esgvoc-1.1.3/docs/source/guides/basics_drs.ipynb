{
 "cells": [
  {
   "cell_type": "markdown",
   "id": "21fbefad-5a83-4ca2-9711-0ea7575ce5dc",
   "metadata": {},
   "source": [
    "# DRS applications tutorial"
   ]
  },
  {
   "cell_type": "markdown",
   "id": "f12d185f-8e72-4ece-b1f0-77384e2dae2e",
   "metadata": {},
   "source": [
    "The following DRS applications are mainly based on the validation functions (seen in the API tutorial). They ease the verification of DRS expressions or their generation."
   ]
  },
  {
   "cell_type": "markdown",
   "id": "d1d3858f-b465-40d6-8b5b-d5a34abd3d8d",
   "metadata": {},
   "source": [
    "## DRS validation\n",
    "\n",
    "The DRS validation is the process to validate an character expression against a DRS specification of a project."
   ]
  },
  {
   "cell_type": "markdown",
   "id": "5721cd5c-b0c7-4fa3-b6da-e19cd95e4810",
   "metadata": {},
   "source": [
    "### Instantiation"
   ]
  },
  {
   "cell_type": "markdown",
   "id": "8836fc63-f19f-4046-a899-3869420307d5",
   "metadata": {},
   "source": [
    "Import the validator class:"
   ]
  },
  {
   "cell_type": "code",
   "execution_count": 1,
   "id": "c5d0b62e-9a81-47ee-9c0f-53090c6148eb",
   "metadata": {},
   "outputs": [],
   "source": [
    "from esgvoc.apps.drs.validator import DrsValidator"
   ]
  },
  {
   "cell_type": "markdown",
   "id": "b77918b3-db2c-47f7-a352-6538c5780919",
   "metadata": {},
   "source": [
    "Instantiate a validator object (documentation of the class is [here](https://esgf.github.io/esgf-vocab/api_documentation/drs.html#esgvoc.apps.drs.validator.DrsValidator)), for the CMIP6Plus CV, for example:"
   ]
  },
  {
   "cell_type": "code",
   "execution_count": 2,
   "id": "ddad12f3-1555-4a1a-be1a-145d3b2ee70c",
   "metadata": {},
   "outputs": [],
   "source": [
    "validator = DrsValidator(project_id=\"cmip6plus\")"
   ]
  },
  {
   "cell_type": "markdown",
   "id": "45d061d9",
   "metadata": {},
   "source": [
    "Instantiation takes some time (parsing of DRS specifications). As the validator (and generator) does not keep any information about the expression to be verified (or generated) from one validation to the next (or generation), it is advisable to **reuse the same object** and avoid instantiating a new one for each validation (or generation)."
   ]
  },
  {
   "cell_type": "markdown",
   "id": "3de695b7-6f2d-4615-a46e-f927265a67fd",
   "metadata": {},
   "source": [
    "### Validation methods"
   ]
  },
  {
   "cell_type": "markdown",
   "id": "19ac3329-5469-4e1e-9bf3-9bb1e10e61a0",
   "metadata": {},
   "source": [
    "Check the compliance of a DRS expression. For example a dataset id:"
   ]
  },
  {
   "cell_type": "code",
   "execution_count": 3,
   "id": "0e4bd460-caab-4296-9011-73aecb9078af",
   "metadata": {},
   "outputs": [
    {
     "data": {
      "text/plain": [
       "'CMIP6Plus.CMIP.IPSL.MIROC6.amip.r2i2p1f2.ACmon.od550aer.gn' has 0 error(s) and 0 warning(s)"
      ]
     },
     "execution_count": 3,
     "metadata": {},
     "output_type": "execute_result"
    }
   ],
   "source": [
    "expr = \"CMIP6Plus.CMIP.IPSL.MIROC6.amip.r2i2p1f2.ACmon.od550aer.gn\"\n",
    "validator.validate_dataset_id(drs_expression=expr)"
   ]
  },
  {
   "cell_type": "markdown",
   "id": "0a8b2d8e-3ad9-411e-bf2d-86dbc1b13523",
   "metadata": {},
   "source": [
    "You can also check directories and file names:"
   ]
  },
  {
   "cell_type": "code",
   "execution_count": 4,
   "id": "2afde72f-3704-4ce3-aed5-00e0cf08bd3c",
   "metadata": {},
   "outputs": [
    {
     "data": {
      "text/plain": [
       "'CMIP6Plus/CMIP/NCC/MIROC6/amip/r2i2p1f2/ACmon/od550aer/gn/v20190923' has 0 error(s) and 0 warning(s)"
      ]
     },
     "execution_count": 4,
     "metadata": {},
     "output_type": "execute_result"
    }
   ],
   "source": [
    "expr = \"CMIP6Plus/CMIP/NCC/MIROC6/amip/r2i2p1f2/ACmon/od550aer/gn/v20190923\"\n",
    "validator.validate_directory(drs_expression=expr)"
   ]
  },
  {
   "cell_type": "code",
   "execution_count": 5,
   "id": "ef0f66a4-cc63-4dbb-9e8e-90e554fb06e2",
   "metadata": {},
   "outputs": [
    {
     "data": {
      "text/plain": [
       "'od550aer_ACmon_MIROC6_amip_r2i2p1f2_gn_201211-201212' has 0 error(s) and 0 warning(s)"
      ]
     },
     "execution_count": 5,
     "metadata": {},
     "output_type": "execute_result"
    }
   ],
   "source": [
    "expr = \"od550aer_ACmon_MIROC6_amip_r2i2p1f2_gn_201211-201212.nc\"\n",
    "validator.validate_file_name(drs_expression=expr)"
   ]
  },
  {
   "cell_type": "markdown",
   "id": "b57bd149-3f29-4909-9ebd-00665b6ed758",
   "metadata": {},
   "source": [
    "The last method depends of the DRS type:"
   ]
  },
  {
   "cell_type": "code",
   "execution_count": 6,
   "id": "64dd64fa-4e1d-457a-96e8-eb7a120992e9",
   "metadata": {},
   "outputs": [
    {
     "data": {
      "text/plain": [
       "'CMIP6Plus.CMIP.IPSL.MIROC6.amip.r2i2p1f2.ACmon.od550aer.gn' has 0 error(s) and 0 warning(s)"
      ]
     },
     "execution_count": 6,
     "metadata": {},
     "output_type": "execute_result"
    }
   ],
   "source": [
    "expr = \"CMIP6Plus.CMIP.IPSL.MIROC6.amip.r2i2p1f2.ACmon.od550aer.gn\"\n",
    "validator.validate(drs_expression=expr, drs_type='dataset_id')"
   ]
  },
  {
   "cell_type": "markdown",
   "id": "777b4f9c-5ad6-4484-81fd-c59fc07cfe9e",
   "metadata": {},
   "source": [
    "### Reporting"
   ]
  },
  {
   "cell_type": "markdown",
   "id": "01755537-e95a-4dd0-8724-dfb63ee130a8",
   "metadata": {},
   "source": [
    "The validator returns value is not a string, but a report:"
   ]
  },
  {
   "cell_type": "code",
   "execution_count": 7,
   "id": "3d42f703-a6a3-4dea-8ffe-d67888eec494",
   "metadata": {},
   "outputs": [
    {
     "name": "stdout",
     "output_type": "stream",
     "text": [
      "valid\n"
     ]
    }
   ],
   "source": [
    "expr = \"od550aer_ACmon_MIROC6_amip_r2i2p1f2_gn.nc\"\n",
    "report = validator.validate_file_name(drs_expression=expr)\n",
    "if report:\n",
    "    print('valid')\n",
    "else:\n",
    "    print('unvalid')"
   ]
  },
  {
   "cell_type": "markdown",
   "id": "88aeb1dc-6f2c-432e-8a88-b80e372b70b3",
   "metadata": {},
   "source": [
    "And has any errors and warnings (e.g., missing period at the end of the file name). See the full API documentation [here](https://esgf.github.io/esgf-vocab/api_documentation/drs.html#esgvoc.apps.drs.report.DrsValidationReport)."
   ]
  },
  {
   "cell_type": "code",
   "execution_count": 8,
   "id": "b07ac439-6904-4b66-8b84-684466917e96",
   "metadata": {},
   "outputs": [
    {
     "data": {
      "text/plain": [
       "[missing term for time_range at position 7]"
      ]
     },
     "execution_count": 8,
     "metadata": {},
     "output_type": "execute_result"
    }
   ],
   "source": [
    "report.warnings"
   ]
  },
  {
   "cell_type": "markdown",
   "id": "b9886b6b-baf1-444f-891f-766fafc911ca",
   "metadata": {},
   "source": [
    "The validator supports a wild range issues, such as blank term:"
   ]
  },
  {
   "cell_type": "code",
   "execution_count": 9,
   "id": "21a3e570-2f05-4a99-ac75-7978285f903a",
   "metadata": {},
   "outputs": [
    {
     "name": "stdout",
     "output_type": "stream",
     "text": [
      "'CMIP6Plus/CMIP/ /NCC/MIROC6/amip/r2i2p1f2/ACmon/od550aer/gn/v20190923' has 1 error(s) and 0 warning(s)\n",
      "report.errors=[blank term at column 16]\n"
     ]
    }
   ],
   "source": [
    "expr = \"CMIP6Plus/CMIP/ /NCC/MIROC6/amip/r2i2p1f2/ACmon/od550aer/gn/v20190923\"\n",
    "report = validator.validate_directory(drs_expression=expr)\n",
    "print(report)\n",
    "print(f'{report.errors=}')"
   ]
  },
  {
   "cell_type": "markdown",
   "id": "76ff0c16",
   "metadata": {},
   "source": [
    "Extra terms at the end of the expression or separator stuttering:"
   ]
  },
  {
   "cell_type": "code",
   "execution_count": 10,
   "id": "3723ab86",
   "metadata": {
    "tags": [
     "full-width"
    ]
   },
   "outputs": [
    {
     "name": "stdout",
     "output_type": "stream",
     "text": [
      "'CMIP6Plus.CMIP.IPSL.MIROC6.amip..r2i2p1f2.ACmon.od550aer.gn.some_thing' has 2 error(s) and 0 warning(s)\n",
      "report.errors=[extra separator(s) at column 33, extra term some_thing at position 9]\n"
     ]
    }
   ],
   "source": [
    "expr = \"CMIP6Plus.CMIP.IPSL.MIROC6.amip..r2i2p1f2.ACmon.od550aer.gn.some_thing\"\n",
    "report = validator.validate_dataset_id(drs_expression=expr)\n",
    "print(report)\n",
    "print(f'{report.errors=}')"
   ]
  },
  {
   "cell_type": "markdown",
   "id": "f03366bf-9b70-4a17-8638-17289a54f2e3",
   "metadata": {},
   "source": [
    "And of course invalid terms:"
   ]
  },
  {
   "cell_type": "code",
   "execution_count": 11,
   "id": "4a390ebd-86c2-487d-916a-e9602cdec09f",
   "metadata": {
    "tags": [
     "full-width"
    ]
   },
   "outputs": [
    {
     "name": "stdout",
     "output_type": "stream",
     "text": [
      "'CMIP6Plus/CMIP_ERROR_HERE/NCC/MIROC6/amip/r2i2p1f2/ACmon/od550aer/gn/v20190923' has 1 error(s) and 0 warning(s)\n",
      "report.errors=[term 'CMIP_ERROR_HERE' not compliant with activity_id at position 2]\n"
     ]
    }
   ],
   "source": [
    "expr = \"CMIP6Plus/CMIP_ERROR_HERE/NCC/MIROC6/amip/r2i2p1f2/ACmon/od550aer/gn/v20190923\"\n",
    "report = validator.validate_directory(drs_expression=expr)\n",
    "print(report)\n",
    "print(f'{report.errors=}')"
   ]
  },
  {
   "cell_type": "markdown",
   "id": "3643f5ee-a11b-4bbb-a2b8-fd55ddfee003",
   "metadata": {},
   "source": [
    "The validation issues can be processed by implementing a [parsing issue visitor](https://esgf.github.io/esgf-vocab/api_documentation/drs.html#esgvoc.apps.drs.report.ParsingIssueVisitor) and a [compliance issue visitor](https://esgf.github.io/esgf-vocab/api_documentation/drs.html#esgvoc.apps.drs.report.ComplianceIssueVisitor):"
   ]
  },
  {
   "cell_type": "code",
   "execution_count": 12,
   "id": "6099ae83-8040-4dbe-8919-cc719bdd517b",
   "metadata": {},
   "outputs": [
    {
     "name": "stdout",
     "output_type": "stream",
     "text": [
      "Doing something automatically with a invalid term issue, rather then printing it\n"
     ]
    }
   ],
   "source": [
    "class MyValidationVisitor:\n",
    "    def visit_invalid_term_issue(self, issue):\n",
    "        print('Doing something automatically with a invalid term issue, ' +\n",
    "              'rather then printing it')\n",
    "    # You should implement the other methods of ParsingIssueVisitor and \n",
    "    # ComplianceIssueVisitor too!\n",
    "    # Read https://esgf.github.io/esgf-vocab/api_documentation/drs.html#esgvoc.apps.drs.report.ValidationIssueVisitor\n",
    "\n",
    "my_visitor = MyValidationVisitor()\n",
    "report.errors[0].accept(my_visitor)"
   ]
  },
  {
   "cell_type": "markdown",
   "id": "fce9da54-7180-42a1-b0d0-1f2432ff88a7",
   "metadata": {},
   "source": [
    "## DRS generation"
   ]
  },
  {
   "cell_type": "markdown",
   "id": "d7e4c7ab-8578-4153-8fe8-e049f0febeaa",
   "metadata": {},
   "source": [
    "The DRS generation consists of generate a DRS expression from an unordered mapping of collections and terms or a bag of unordered terms."
   ]
  },
  {
   "cell_type": "markdown",
   "id": "99408aec-6c7b-4c8d-8c6f-49da1f06a4b8",
   "metadata": {},
   "source": [
    "### Instantiation"
   ]
  },
  {
   "cell_type": "markdown",
   "id": "7ac88bfd-91f9-41c2-9973-e1d1e636df30",
   "metadata": {},
   "source": [
    "Import the generator class:"
   ]
  },
  {
   "cell_type": "code",
   "execution_count": 13,
   "id": "eb1a1129-8655-433b-af24-a409f171a0f8",
   "metadata": {},
   "outputs": [],
   "source": [
    "from esgvoc.apps.drs.generator import DrsGenerator"
   ]
  },
  {
   "cell_type": "markdown",
   "id": "769f5c56-5391-4157-86fe-1169f875a858",
   "metadata": {},
   "source": [
    "Instantiate a generator object (documentation of the class is [here](https://esgf.github.io/esgf-vocab/api_documentation/drs.html#esgvoc.apps.drs.generator.DrsGenerator)), for the CMIP6Plus CV, for example:"
   ]
  },
  {
   "cell_type": "code",
   "execution_count": 14,
   "id": "53183ecd-4bfd-4fbb-81b4-cf8029c83308",
   "metadata": {},
   "outputs": [],
   "source": [
    "generator = DrsGenerator(\"cmip6plus\")"
   ]
  },
  {
   "cell_type": "markdown",
   "id": "1462c5fc",
   "metadata": {},
   "source": [
    "Instantiation takes some time (parsing of DRS specifications). As the generator (and validator) does not keep any information about the expression to be generated (or verified) from one generation to the next (or validation), it is advisable to **reuse the same object** and avoid instantiating a new one for each generation (or validation)."
   ]
  },
  {
   "cell_type": "markdown",
   "id": "9314caff-8fbf-4fda-8b06-8d8dc90d42fe",
   "metadata": {},
   "source": [
    "### Mapping"
   ]
  },
  {
   "cell_type": "markdown",
   "id": "c2455012-e8ce-44c7-9bee-19ffc4fe480f",
   "metadata": {},
   "source": [
    "Build a dictionary that maps terms with their collections:"
   ]
  },
  {
   "cell_type": "code",
   "execution_count": 15,
   "id": "1cafde2f-654b-48c9-8de8-c8606e04e70b",
   "metadata": {},
   "outputs": [],
   "source": [
    "mapping = {\n",
    "    'member_id': 'r2i2p1f2',\n",
    "    'activity_id': 'CMIP',\n",
    "    'source_id': 'MIROC6',\n",
    "    'mip_era': 'CMIP6Plus',\n",
    "    'experiment_id': 'amip',\n",
    "    'variable_id': 'od550aer',\n",
    "    'table_id': 'ACmon',\n",
    "    'grid_label': 'gn',\n",
    "    'version': 'v20190923',\n",
    "    'institution_id': 'IPSL',\n",
    "    'extra_information': 'some_value'\n",
    "}"
   ]
  },
  {
   "cell_type": "markdown",
   "id": "210aab4c-4f71-4566-8215-d9bc5df305f5",
   "metadata": {},
   "source": [
    "Then generate a DRS directory expression:"
   ]
  },
  {
   "cell_type": "code",
   "execution_count": 16,
   "id": "3bb26cac-59a5-4097-a334-bba61ed57466",
   "metadata": {},
   "outputs": [
    {
     "data": {
      "text/plain": [
       "'CMIP6Plus/CMIP/IPSL/MIROC6/amip/r2i2p1f2/ACmon/od550aer/gn/v20190923' has 0 error(s) and 0 warning(s)"
      ]
     },
     "execution_count": 16,
     "metadata": {},
     "output_type": "execute_result"
    }
   ],
   "source": [
    "generator.generate_directory_from_mapping(mapping=mapping)"
   ]
  },
  {
   "cell_type": "markdown",
   "id": "3fed194f-3f03-4301-a06a-172797cb202f",
   "metadata": {},
   "source": [
    "It has successfully generate the directory expression, even if the mapping has some extra information (quite the opposite of the DRS validation). The same mapping can also generate the associated dataset id and file name expressions, **provided it has all information needed!** Note that the generator adds automatically the extension for the generation of DRS file names."
   ]
  },
  {
   "cell_type": "code",
   "execution_count": 17,
   "id": "e8e153e7-ac5c-40a7-be9d-e697b6e3eb21",
   "metadata": {},
   "outputs": [
    {
     "data": {
      "text/plain": [
       "'CMIP6Plus.CMIP.IPSL.MIROC6.amip.r2i2p1f2.ACmon.od550aer.gn' has 0 error(s) and 0 warning(s)"
      ]
     },
     "execution_count": 17,
     "metadata": {},
     "output_type": "execute_result"
    }
   ],
   "source": [
    "generator.generate_dataset_id_from_mapping(mapping=mapping)"
   ]
  },
  {
   "cell_type": "code",
   "execution_count": 18,
   "id": "7b5a95e6-826c-4e8f-9805-c84fd0fd9e0f",
   "metadata": {},
   "outputs": [
    {
     "data": {
      "text/plain": [
       "'od550aer_ACmon_MIROC6_amip_r2i2p1f2_gn.nc' has 0 error(s) and 1 warning(s)"
      ]
     },
     "execution_count": 18,
     "metadata": {},
     "output_type": "execute_result"
    }
   ],
   "source": [
    "# This one has a warning because the period is missing.\n",
    "generator.generate_file_name_from_mapping(mapping=mapping)"
   ]
  },
  {
   "cell_type": "markdown",
   "id": "0d8a263d-0e3e-483a-9a1b-9b8c8e7c5b94",
   "metadata": {},
   "source": [
    "As for the DRS validation, the generator returns a report that you can display or visit (generation report [class](https://esgf.github.io/esgf-vocab/api_documentation/drs.html#esgvoc.apps.drs.report.DrsGenerationReport), generator visitor [specifications](https://esgf.github.io/esgf-vocab/api_documentation/drs.html#esgvoc.apps.drs.report.GeneratorIssueVisitor)):"
   ]
  },
  {
   "cell_type": "code",
   "execution_count": 19,
   "id": "f5f375e2-2e19-4b8f-9e97-977c70656f2f",
   "metadata": {},
   "outputs": [
    {
     "name": "stdout",
     "output_type": "stream",
     "text": [
      "report.warnings=[missing term for time_range at position 7]\n"
     ]
    }
   ],
   "source": [
    "report = generator.generate_file_name_from_mapping(mapping=mapping)\n",
    "print(f'{report.warnings=}') # The warning a bit earlier. "
   ]
  },
  {
   "cell_type": "code",
   "execution_count": 20,
   "id": "6f434d9b",
   "metadata": {},
   "outputs": [
    {
     "name": "stdout",
     "output_type": "stream",
     "text": [
      "Doing something automatically with a missing term issue, rather then printing it\n"
     ]
    }
   ],
   "source": [
    "class MyGeneratorVisitor:\n",
    "    def visit_missing_term_issue(self, issue):\n",
    "            print('Doing something automatically with a missing term issue, ' +\n",
    "                  'rather then printing it')\n",
    "    # You should implement the other methods of GeneratorIssueVisitor too!\n",
    "    # Read https://esgf.github.io/esgf-vocab/api_documentation/drs.html#esgvoc.apps.drs.report.GeneratorIssueVisitor\n",
    "\n",
    "my_visitor =  MyGeneratorVisitor()\n",
    "report.warnings[0].accept(my_visitor)"
   ]
  },
  {
   "cell_type": "markdown",
   "id": "8d5a4c8f-f3e6-4ae4-a636-7c19e34eeca2",
   "metadata": {},
   "source": [
    "Like the validator, the generator provides a parametric method based on the type of DRS:"
   ]
  },
  {
   "cell_type": "code",
   "execution_count": 21,
   "id": "76d6eec0-d4af-498d-a2d9-213e607faabd",
   "metadata": {},
   "outputs": [
    {
     "data": {
      "text/plain": [
       "'CMIP6Plus/CMIP/IPSL/MIROC6/amip/r2i2p1f2/ACmon/od550aer/gn/v20190923' has 0 error(s) and 0 warning(s)"
      ]
     },
     "execution_count": 21,
     "metadata": {},
     "output_type": "execute_result"
    }
   ],
   "source": [
    "generator.generate_from_mapping(mapping=mapping, drs_type='directory')"
   ]
  },
  {
   "cell_type": "markdown",
   "id": "d31ab806",
   "metadata": {},
   "source": [
    "The mapping methods of the generator class supports invalid and missing terms. Despite of the errors and warnings, the generator returns a DRS expression with parsable tags in place of the faulty terms."
   ]
  },
  {
   "cell_type": "code",
   "execution_count": 22,
   "id": "3834b27e",
   "metadata": {
    "tags": [
     "full-width"
    ]
   },
   "outputs": [
    {
     "name": "stdout",
     "output_type": "stream",
     "text": [
      "'od550aer_ACmon_[INVALID]_amip_[MISSING]_gn.nc' has 2 error(s) and 1 warning(s)\n",
      "report.errors=[term 'MiRoC6' not compliant with source_id at position 3, missing term for member_id at position 5]\n",
      "report.warnings=[missing term for time_range at position 7]\n"
     ]
    }
   ],
   "source": [
    "invalid_mapping = mapping.copy()\n",
    "del invalid_mapping['member_id']\n",
    "invalid_mapping['source_id'] = 'MiRoC6'\n",
    "report = generator.generate_from_mapping(mapping=invalid_mapping,\n",
    "                                         drs_type='file_name')\n",
    "print(report)\n",
    "print(f'{report.errors=}')\n",
    "print(f'{report.warnings=}')\n"
   ]
  },
  {
   "cell_type": "markdown",
   "id": "e9c97077",
   "metadata": {},
   "source": [
    "### Bag of terms\n",
    "The bag of terms methods consist of generating a DRS expression from a set of unordered terms. The generator try to build a mapping between the collections of the DRS specification target and the given terms, then it generates an expression."
   ]
  },
  {
   "cell_type": "code",
   "execution_count": 23,
   "id": "eca4daef",
   "metadata": {
    "tags": [
     "full-width"
    ]
   },
   "outputs": [
    {
     "name": "stdout",
     "output_type": "stream",
     "text": [
      "bag_of_terms=['r2i2p1f2', 'CMIP', 'MIROC6', 'CMIP6Plus', 'amip', 'od550aer', 'ACmon', 'gn', 'v20190923', 'IPSL', 'some_value']\n"
     ]
    },
    {
     "data": {
      "text/plain": [
       "'CMIP6Plus.CMIP.IPSL.MIROC6.amip.r2i2p1f2.ACmon.od550aer.gn' has 0 error(s) and 0 warning(s)"
      ]
     },
     "execution_count": 23,
     "metadata": {},
     "output_type": "execute_result"
    }
   ],
   "source": [
    "bag_of_terms = list(mapping.values())\n",
    "print(f'{bag_of_terms=}')\n",
    "generator.generate_from_bag_of_terms(terms=bag_of_terms, drs_type='dataset_id')"
   ]
  },
  {
   "cell_type": "markdown",
   "id": "aeff5174",
   "metadata": {},
   "source": [
    "Due to the lack of precision of some pattern terms, some terms can fit to more than one collection or fit the same collection. The generator supports these cases and try to untangle terms and collections as it is possible to be. Warnings are raised if the generator makes unobvious assignments. But most of the time, the generator will raise errors. **So the mapping methods should always be preferred**."
   ]
  },
  {
   "cell_type": "code",
   "execution_count": 24,
   "id": "8a0bcbcb",
   "metadata": {},
   "outputs": [
    {
     "name": "stdout",
     "output_type": "stream",
     "text": [
      "'CMIP6Plus.CMIP.[MISSING].MIROC6.amip.r2i2p1f2.ACmon.od550aer.gn' has 2 error(s) and 0 warning(s)\n",
      "report.errors=[collection institution_id has more than one term (IPSL, UA), missing term for institution_id at position 3]\n"
     ]
    }
   ],
   "source": [
    "# UA and IPSL can be assigned to the collection institution_id, both.\n",
    "# This leads to two kinds of error:\n",
    "#    - The collection institution_id has more than one choice.\n",
    "#    - As the generator cannot choose, UA and IPSL are withdrawn,\n",
    "#      hence the missing term error.\n",
    "bag_of_terms.append('UA')\n",
    "report = generator.generate_from_bag_of_terms(terms=bag_of_terms,\n",
    "                                               drs_type='dataset_id')\n",
    "print(report)\n",
    "print(f'{report.errors=}')"
   ]
  }
 ],
 "metadata": {
  "kernelspec": {
   "display_name": ".venv",
   "language": "python",
   "name": "python3"
  },
  "language_info": {
   "codemirror_mode": {
    "name": "ipython",
    "version": 3
   },
   "file_extension": ".py",
   "mimetype": "text/x-python",
   "name": "python",
   "nbconvert_exporter": "python",
   "pygments_lexer": "ipython3",
   "version": "3.12.7"
  }
 },
 "nbformat": 4,
 "nbformat_minor": 5
}
