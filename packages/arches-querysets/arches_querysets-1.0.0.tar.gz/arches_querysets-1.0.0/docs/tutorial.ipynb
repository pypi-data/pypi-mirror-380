{
 "cells": [
  {
   "cell_type": "markdown",
   "id": "f98d7674",
   "metadata": {},
   "source": [
    "### Arches QuerySets tutorial\n",
    "\n",
    "This tutorial shows the approach `arches-querysets` uses to adapt the Arches data model to the Django ORM and the rest of the Django ecosystem."
   ]
  },
  {
   "cell_type": "markdown",
   "id": "76f026eb",
   "metadata": {},
   "source": [
    "#### Test data\n",
    "We'll use a sample resource model called \"Datatype Lookups\". Set up the test data. You should replace the settings module below with the one specifiying the database you wish to use for this tutorial. Run `manage.py setup_db` first if necessary. (This is not included in the notebook out of caution.)\n",
    "\n",
    ">[!TIP]\n",
    "> If you're having trouble, be sure your IDE has the python interpreter for your virtual environment selected."
   ]
  },
  {
   "cell_type": "code",
   "execution_count": 1,
   "id": "811ae4ec",
   "metadata": {},
   "outputs": [
    {
     "name": "stdout",
     "output_type": "stream",
     "text": [
      "Deleting test data...\n",
      "Finished!\n",
      "Creating test data...\n",
      "Finished!\n"
     ]
    }
   ],
   "source": [
    "import os\n",
    "\n",
    "import django\n",
    "from django.core.management import call_command\n",
    "\n",
    "# Simulate manage.py\n",
    "os.environ[\"DJANGO_SETTINGS_MODULE\"] = \"arches_querysets.settings\"\n",
    "os.environ[\"DJANGO_ALLOW_ASYNC_UNSAFE\"] = \"true\"\n",
    "django.setup()\n",
    "\n",
    "call_command(\"delete_test_data\")\n",
    "call_command(\"add_test_data\")"
   ]
  },
  {
   "cell_type": "markdown",
   "id": "b101d798",
   "metadata": {},
   "source": [
    "#### Design\n",
    "\n",
    "The system allows you to request resources and tiles with node values aliased by their node aliases, and with tiles nested under the alias for that child nodegroup's grouping node. This reflection of the `TileModel.data` attribute becomes a new attribute `aliased_data`.\n",
    "\n",
    "This is done by subclassing the `ResourceInstance` and `TileModel` models from core Arches. Because they provide methods to retrieve and query nested tiles, the names of the proxy models are:\n",
    "- `ResourceInstance` -> `ResourceTileTree`\n",
    "- `TileModel` -> `TileTree`\n",
    "\n",
    "> [!NOTE]\n",
    "> These models do not subclass the proxy models `Resource` and `Tile` from core Arches, because, like those models, these models have their own distinct approach for fetching data.\n",
    "\n",
    "In TypeScript notation, the nesting of data looks as follows:\n",
    "\n",
    "```ts\n",
    "interface ResourceTileTree {\n",
    "    aliased_data: AliasedData;\n",
    "    resourceinstanceid: string | null;\n",
    "    name: string;\n",
    "    // further resourceinstance fields...\n",
    "}\n",
    "\n",
    "interface TileTree {\n",
    "    aliased_data: AliasedData;\n",
    "    nodegroup: string;\n",
    "    parenttile: string | null;\n",
    "    provisionaledits: object | null;\n",
    "    resourceinstance: string;\n",
    "    sortorder: number;\n",
    "    tileid: string | null;\n",
    "}\n",
    "\n",
    "interface AliasedData {\n",
    "    [node_alias: string]: AliasedNodeData | AliasedNodegroupData;\n",
    "}\n",
    "\n",
    "interface AliasedNodeData {\n",
    "    display_value: string;\n",
    "    node_value: unknown;\n",
    "    details: unknown[];\n",
    "}\n",
    "\n",
    "type AliasedNodegroupData = TileTree | TileTree[] | null;\n",
    "```\n",
    "\n",
    "Of note:\n",
    "- The key-value pairs on any `AliasedData` representation will be a mixture of single nodes in the current nodegroup and nodegroup aliases for child nodegroups that unpack to nested tiles.\n",
    "- Cardinality-1 nodegroups will be represented as `null` or a `TileTree`.\n",
    "- Cardinality-n nodegroups will be represented as a possibly empty array of `TileTree`s.\n",
    "- Node values are always grouped under the alias of the grouping node for the nodegroup (\"nodegroup alias\"). That is, no data-collecting nodes appear will appear *directly* under the tile.\n",
    "- Node values are represented as an object of three key-value pairs. `display_value` and `details` are read-only."
   ]
  },
  {
   "cell_type": "markdown",
   "id": "43e6b4df",
   "metadata": {},
   "source": [
    "#### Entrypoint: get_tiles()\n",
    "\n",
    "The `ResourceTileTree` and `TileTree` models have [custom model managers](https://docs.djangoproject.com/en/5.2/topics/db/managers/#custom-managers) that encapsulate the custom querying behavior.\n",
    "\n",
    "They both provide a `get_tiles()` entrypoint. This method allows you to use node aliases as ORM lookups and tells the ORM how to shape the data once it is fetched.\n",
    "\n",
    "Query for the two test resources. One test resource has node values referencing the number 42 for most nodes; the other has a value of `None` in every node:"
   ]
  },
  {
   "cell_type": "code",
   "execution_count": 3,
   "id": "cfb7147d",
   "metadata": {},
   "outputs": [
    {
     "data": {
      "text/plain": [
       "<ResourceTileTreeQuerySet [<ResourceTileTree: Datatype Lookups: Resource referencing 42 (9cf083a4-3d7b-43c2-b755-f40885cb3b9c)>, <ResourceTileTree: Datatype Lookups: Resource referencing None (3e5684df-cca1-4db1-b859-90a2902f38bb)>]>"
      ]
     },
     "execution_count": 3,
     "metadata": {},
     "output_type": "execute_result"
    }
   ],
   "source": [
    "from arches_querysets.models import *\n",
    "\n",
    "ResourceTileTree.get_tiles(graph_slug=\"datatype_lookups\")"
   ]
  },
  {
   "cell_type": "markdown",
   "id": "771a7530",
   "metadata": {},
   "source": [
    "Filter on node alias values to exclude the resource with only None for node values. The node aliases for the test model follow this pattern:\n",
    "- number_alias_1\n",
    "- number_alias_n\n",
    "- number_alias_1_child\n",
    "- number_alias_n_child"
   ]
  },
  {
   "cell_type": "code",
   "execution_count": 4,
   "id": "885342b8",
   "metadata": {},
   "outputs": [
    {
     "name": "stdout",
     "output_type": "stream",
     "text": [
      "AliasedData(datatypes_1=<TileTree: datatypes_1 (dcb8bce8-cdd4-4498-aa6d-3454ff66c0c1)>,\n",
      "            datatypes_n=[<TileTree: datatypes_n (7b7d4c9f-e809-47d6-91be-bcce161f2f5a)>])\n"
     ]
    }
   ],
   "source": [
    "from pprint import pprint\n",
    "\n",
    "resource_with_data = ResourceTileTree.get_tiles(graph_slug=\"datatype_lookups\").exclude(number_alias=None).get()\n",
    "pprint(resource_with_data.aliased_data)\n",
    "# This resource has two top nodegroups: \"datatypes_1\" and \"datatypes_n\""
   ]
  },
  {
   "cell_type": "markdown",
   "id": "cdcb4c2f",
   "metadata": {},
   "source": [
    "Inspect each tile's `aliased_data`:"
   ]
  },
  {
   "cell_type": "code",
   "execution_count": 5,
   "id": "a08b1708",
   "metadata": {},
   "outputs": [
    {
     "name": "stdout",
     "output_type": "stream",
     "text": [
      "AliasedData(concept_alias=<Value: Value object (d8c60bf4-e786-11e6-905a-b756ec83dad5)>,\n",
      "            geojson_feature_collection_alias=None,\n",
      "            concept_list_alias=[<Value: Value object (d8c60bf4-e786-11e6-905a-b756ec83dad5)>],\n",
      "            number_alias=42,\n",
      "            resource_instance_alias=<ResourceInstance: Datatype Lookups: Resource referencing 42 (9cf083a4-3d7b-43c2-b755-f40885cb3b9c)>,\n",
      "            resource_instance_list_alias=[<ResourceInstance: Datatype Lookups: Resource referencing 42 (9cf083a4-3d7b-43c2-b755-f40885cb3b9c)>],\n",
      "            file_list_alias=[{'accepted': True,\n",
      "                              'altText': {'en': {'direction': 'ltr',\n",
      "                                                 'value': 'Illustration of '\n",
      "                                                          'recent '\n",
      "                                                          'accessibility '\n",
      "                                                          'improvements'}},\n",
      "                              'attribution': {'en': {'direction': 'ltr',\n",
      "                                                     'value': 'Arches'}},\n",
      "                              'content': 'blob:http://localhost:8000/4e8f7bc2-6bc8-4ff3-ba08-3a4e78f402e2',\n",
      "                              'description': {'en': {'direction': 'ltr',\n",
      "                                                     'value': 'Recent versions '\n",
      "                                                              'of arches have '\n",
      "                                                              '42 improved '\n",
      "                                                              'accessibility '\n",
      "                                                              'characteristics.'}},\n",
      "                              'file_id': 'd3f0fd5a-736e-4dd5-80dd-2cd37d3a4747',\n",
      "                              'height': 2042,\n",
      "                              'index': 0,\n",
      "                              'lastModified': 1723503486969,\n",
      "                              'name': '42_accessibility_improvements.png',\n",
      "                              'size': 2042,\n",
      "                              'status': 'added',\n",
      "                              'title': {'en': {'direction': 'ltr',\n",
      "                                               'value': '42 Accessibility '\n",
      "                                                        'Improvements'}},\n",
      "                              'type': 'image/png',\n",
      "                              'url': 'http://www.archesproject.org/blog/static/42.png',\n",
      "                              'width': 2042}],\n",
      "            date_alias='2042-04-02',\n",
      "            string_alias={'en': {'direction': 'ltr', 'value': 'forty-two'}},\n",
      "            domain_value_alias=None,\n",
      "            domain_value_list_alias=None,\n",
      "            boolean_alias=True,\n",
      "            annotation_alias=None,\n",
      "            edtf_alias=None,\n",
      "            url_alias={'url': 'http://www.42.com/', 'url_label': '42.com'},\n",
      "            non_localized_string_alias='forty-two',\n",
      "            node_value_alias='dcb8bce8-cdd4-4498-aa6d-3454ff66c0c1',\n",
      "            datatypes_1_child=<TileTree: datatypes_1_child (cc0a46c4-8d0e-4d96-8115-8de825ba91a1)>)\n",
      "AliasedData(concept_alias_n=<Value: Value object (d8c60bf4-e786-11e6-905a-b756ec83dad5)>,\n",
      "            geojson_feature_collection_alias_n=None,\n",
      "            concept_list_alias_n=[<Value: Value object (d8c60bf4-e786-11e6-905a-b756ec83dad5)>],\n",
      "            number_alias_n=42,\n",
      "            resource_instance_alias_n=<ResourceInstance: Datatype Lookups: Resource referencing 42 (9cf083a4-3d7b-43c2-b755-f40885cb3b9c)>,\n",
      "            resource_instance_list_alias_n=[<ResourceInstance: Datatype Lookups: Resource referencing 42 (9cf083a4-3d7b-43c2-b755-f40885cb3b9c)>],\n",
      "            file_list_alias_n=[{'accepted': True,\n",
      "                                'altText': {'en': {'direction': 'ltr',\n",
      "                                                   'value': 'Illustration of '\n",
      "                                                            'recent '\n",
      "                                                            'accessibility '\n",
      "                                                            'improvements'}},\n",
      "                                'attribution': {'en': {'direction': 'ltr',\n",
      "                                                       'value': 'Arches'}},\n",
      "                                'content': 'blob:http://localhost:8000/4e8f7bc2-6bc8-4ff3-ba08-3a4e78f402e2',\n",
      "                                'description': {'en': {'direction': 'ltr',\n",
      "                                                       'value': 'Recent '\n",
      "                                                                'versions of '\n",
      "                                                                'arches have '\n",
      "                                                                '42 improved '\n",
      "                                                                'accessibility '\n",
      "                                                                'characteristics.'}},\n",
      "                                'file_id': 'd3f0fd5a-736e-4dd5-80dd-2cd37d3a4747',\n",
      "                                'height': 2042,\n",
      "                                'index': 0,\n",
      "                                'lastModified': 1723503486969,\n",
      "                                'name': '42_accessibility_improvements.png',\n",
      "                                'size': 2042,\n",
      "                                'status': 'added',\n",
      "                                'title': {'en': {'direction': 'ltr',\n",
      "                                                 'value': '42 Accessibility '\n",
      "                                                          'Improvements'}},\n",
      "                                'type': 'image/png',\n",
      "                                'url': 'http://www.archesproject.org/blog/static/42.png',\n",
      "                                'width': 2042}],\n",
      "            date_alias_n='2042-04-02',\n",
      "            string_alias_n={'en': {'direction': 'ltr', 'value': 'forty-two'}},\n",
      "            domain_value_alias_n=None,\n",
      "            domain_value_list_alias_n=None,\n",
      "            boolean_alias_n=True,\n",
      "            annotation_alias_n=None,\n",
      "            edtf_alias_n=None,\n",
      "            url_alias_n={'url': 'http://www.42.com/', 'url_label': '42.com'},\n",
      "            non_localized_string_alias_n='forty-two',\n",
      "            node_value_alias_n='7b7d4c9f-e809-47d6-91be-bcce161f2f5a',\n",
      "            datatypes_n_child=[<TileTree: datatypes_n_child (fcd8f7bd-10c1-4b2b-97e7-1cc0caed7783)>])\n"
     ]
    }
   ],
   "source": [
    "pprint(resource_with_data.aliased_data.datatypes_1.aliased_data)\n",
    "pprint(resource_with_data.aliased_data.datatypes_n[0].aliased_data)"
   ]
  },
  {
   "cell_type": "markdown",
   "id": "19bad30a",
   "metadata": {},
   "source": [
    "Notice some node values are richer than the pure tile representation. For instance, this concept node value is a `Concept` instance rather than a `UUID`:"
   ]
  },
  {
   "cell_type": "code",
   "execution_count": 6,
   "id": "a624b1a3",
   "metadata": {},
   "outputs": [
    {
     "name": "stdout",
     "output_type": "stream",
     "text": [
      "Value object (d8c60bf4-e786-11e6-905a-b756ec83dad5)\n"
     ]
    }
   ],
   "source": [
    "print(resource_with_data.aliased_data.datatypes_1.aliased_data.concept_alias)"
   ]
  },
  {
   "cell_type": "markdown",
   "id": "3f6bc222",
   "metadata": {},
   "source": [
    "This happens because the `ConceptDataType` registered by arches-querysets in its `datatypes` directory has a `to_python()` method that is called when materializing the QuerySet. As a project implementer, you can register your own datatypes to provide similar functionality, e.g. to provide a `LocalizedString` class for string values.\n",
    "\n",
    "If you don't need these richer Python representations--perhaps because you simply care about the display value--pass `as_representation=False`, as the Django REST Framework (DRF) integration always does, to get the \"three-key\" object mentioned above:\n",
    "\n",
    "> [!NOTE]\n",
    "> Depending on the datatype, getting the representation instead of the python object may be more or less performant."
   ]
  },
  {
   "cell_type": "code",
   "execution_count": 7,
   "id": "bf386781",
   "metadata": {},
   "outputs": [
    {
     "name": "stdout",
     "output_type": "stream",
     "text": [
      "{'node_value': 'd8c60bf4-e786-11e6-905a-b756ec83dad5', 'display_value': 'Arches', 'details': [{'concept_id': '00000000-0000-0000-0000-000000000001', 'language_id': 'en', 'value': 'Arches', 'valueid': 'd8c60bf4-e786-11e6-905a-b756ec83dad5', 'valuetype_id': 'prefLabel'}]}\n"
     ]
    }
   ],
   "source": [
    "resource_as_repr = ResourceTileTree.get_tiles(\n",
    "    graph_slug=\"datatype_lookups\", as_representation=True\n",
    ").exclude(number_alias=None).get()\n",
    "\n",
    "print(resource_as_repr.aliased_data.datatypes_1.aliased_data.concept_alias)"
   ]
  },
  {
   "cell_type": "markdown",
   "id": "5bd7b609",
   "metadata": {},
   "source": [
    "#### Filtering\n",
    "\n",
    "`.get_tiles()` fetches node aliases for the requested graph, prepares ORM expressions for each one, and passes the expressions to [`QuerySet.alias()`](https://docs.djangoproject.com/en/5.2/ref/models/querysets/#alias) so that the node alias can be used like any standard Django field name.\n",
    "\n",
    ">[!NOTE]\n",
    "> `.alias()` is like `.annotate()`, but lazier: if you don't actually *use* the alias in a filter, order by, or aggregate, Django just drops the alias entirely instead of including it in the SQL.\n",
    "\n",
    ">[!NOTE]\n",
    "> Fetching node aliases for a graph is the only database query done inside `.get_tiles()`. If your code calls `.get_tiles()` multiple times, for better performance you can provide an iterable of node instances yourself via the `nodes` argument.\n",
    "\n",
    "Filter on the `string_alias` node, using [key, index, and path transforms](https://docs.djangoproject.com/en/5.2/topics/db/queries/#key-index-and-path-transforms) to interrogate JSON values:"
   ]
  },
  {
   "cell_type": "code",
   "execution_count": 8,
   "id": "7c098fc8",
   "metadata": {},
   "outputs": [
    {
     "data": {
      "text/plain": [
       "{'en': {'value': 'forty-two', 'direction': 'ltr'}}"
      ]
     },
     "execution_count": 8,
     "metadata": {},
     "output_type": "execute_result"
    }
   ],
   "source": [
    "test_resources = ResourceTileTree.get_tiles(\"datatype_lookups\")\n",
    "resource = test_resources.filter(string_alias__en__value__startswith=\"forty\").first()\n",
    "resource.aliased_data.datatypes_1.aliased_data.string_alias"
   ]
  },
  {
   "cell_type": "markdown",
   "id": "c9c4e5ef",
   "metadata": {},
   "source": [
    "But what if you want a `startswith` search on a value in *any* language? arches-querysets registers additional datatype-specific lookups, such as `any_lang_startswith` for localized strings, that can be used with the Django `__` syntax for joining lookups:"
   ]
  },
  {
   "cell_type": "code",
   "execution_count": 9,
   "id": "b22dd87e",
   "metadata": {},
   "outputs": [
    {
     "data": {
      "text/plain": [
       "{'en': {'value': 'forty-two', 'direction': 'ltr'}}"
      ]
     },
     "execution_count": 9,
     "metadata": {},
     "output_type": "execute_result"
    }
   ],
   "source": [
    "resource = test_resources.filter(string_alias__any_lang_startswith=\"forty\").first()\n",
    "resource.aliased_data.datatypes_1.aliased_data.string_alias"
   ]
  },
  {
   "cell_type": "markdown",
   "id": "c13acaa0",
   "metadata": {},
   "source": [
    "The following custom lookups are available as of 96b8e802d367b53c786e2bc02fdd121835b5e008:\n",
    "\n",
    "\n",
    "String datatype (cardinality 1 & cardinality N):\n",
    "`any_lang_contains`\n",
    "`any_lang_icontains`\n",
    "`any_lang_startswith`\n",
    "`any_lang_istartswith`\n",
    "\n",
    "Cardinality-N non-localized-string:\n",
    "`any_contains`\n",
    "`any_icontains`\n",
    "\n",
    "Resource Instance datatype:\n",
    "`id`\n",
    "\n",
    "Cardinality-N resource instance:\n",
    "`ids_contain`\n",
    "\n",
    "Resource Instance list datatype:\n",
    "`contains`\n",
    "\n",
    "Cardinality-N resource instance list:\n",
    "`ids_contain`\n",
    "\n",
    ">[!NOTE]\n",
    "> Custom lookups are defined in `lookups.py` and tested in `test_lookups.py`."
   ]
  },
  {
   "cell_type": "markdown",
   "id": "fa0427ff",
   "metadata": {},
   "source": [
    "For resources, *shallow* queries on nodes for nested tiles are possible without needing to specify the parents:"
   ]
  },
  {
   "cell_type": "code",
   "execution_count": 10,
   "id": "f2e65bd5",
   "metadata": {},
   "outputs": [
    {
     "name": "stdout",
     "output_type": "stream",
     "text": [
      "child-1-value\n"
     ]
    }
   ],
   "source": [
    "resource = test_resources.filter(non_localized_string_alias_child__isnull=False).first()\n",
    "child_tile = resource.aliased_data.datatypes_1.aliased_data.datatypes_1_child\n",
    "print(child_tile.aliased_data.non_localized_string_alias_child)"
   ]
  },
  {
   "cell_type": "markdown",
   "id": "07379838",
   "metadata": {},
   "source": [
    "From there, you can backtrack to the parent:"
   ]
  },
  {
   "cell_type": "code",
   "execution_count": 11,
   "id": "5e11938d",
   "metadata": {},
   "outputs": [
    {
     "data": {
      "text/plain": [
       "<TileTree: datatypes_1 (dcb8bce8-cdd4-4498-aa6d-3454ff66c0c1)>"
      ]
     },
     "execution_count": 11,
     "metadata": {},
     "output_type": "execute_result"
    }
   ],
   "source": [
    "child_tile.parent"
   ]
  },
  {
   "cell_type": "markdown",
   "id": "40576f93",
   "metadata": {},
   "source": [
    "#### Updating\n",
    "You can save back any value accepted by the datatype's `transform_value_for_tile()`:\n",
    "\n",
    "This example uses `.save(force_admin=True)` because without, `save()` falls back to the anonymous user, which lacks Resource Editor permissions. (The edits might seem to \"go missing\", but they actually end up in provisional edits.) In a request/response cycle, provide `user=request.user`. (The DRF API handles all this for you.)"
   ]
  },
  {
   "cell_type": "code",
   "execution_count": 12,
   "id": "109f66c0",
   "metadata": {},
   "outputs": [
    {
     "data": {
      "text/plain": [
       "{'en': {'value': 'forty-three', 'direction': 'ltr'}}"
      ]
     },
     "execution_count": 12,
     "metadata": {},
     "output_type": "execute_result"
    }
   ],
   "source": [
    "resource.aliased_data.datatypes_1.aliased_data.string_alias = 'forty-three'\n",
    "resource.save(force_admin=True)\n",
    "resource.aliased_data.datatypes_1.aliased_data.string_alias"
   ]
  },
  {
   "cell_type": "code",
   "execution_count": 13,
   "id": "6d6cf898",
   "metadata": {},
   "outputs": [
    {
     "data": {
      "text/plain": [
       "{'en': {'value': 'forty-four', 'direction': 'ltr'}}"
      ]
     },
     "execution_count": 13,
     "metadata": {},
     "output_type": "execute_result"
    }
   ],
   "source": [
    "resource.aliased_data.datatypes_1.aliased_data.string_alias = {'en': {'value': 'forty-four', 'direction': 'ltr'}}\n",
    "resource.save(force_admin=True)\n",
    "resource.aliased_data.datatypes_1.aliased_data.string_alias"
   ]
  },
  {
   "cell_type": "code",
   "execution_count": 14,
   "id": "12d87ba8",
   "metadata": {},
   "outputs": [
    {
     "data": {
      "text/plain": [
       "{'en': {'value': 'forty-five', 'direction': 'ltr'}}"
      ]
     },
     "execution_count": 14,
     "metadata": {},
     "output_type": "execute_result"
    }
   ],
   "source": [
    "resource.aliased_data.datatypes_1.aliased_data.string_alias = {\n",
    "    \"display_value\": \"\",  # ignored\n",
    "    \"node_value\": {'en': {'value': 'forty-five', 'direction': 'ltr'}},\n",
    "    \"details\": [],\n",
    "}\n",
    "resource.save(force_admin=True)\n",
    "resource.aliased_data.datatypes_1.aliased_data.string_alias"
   ]
  },
  {
   "cell_type": "markdown",
   "id": "490278e2",
   "metadata": {},
   "source": [
    "Those three calls were equivalent. This one fails, though:"
   ]
  },
  {
   "cell_type": "code",
   "execution_count": 15,
   "id": "65fff5b9",
   "metadata": {},
   "outputs": [],
   "source": [
    "resource.aliased_data.datatypes_1.aliased_data.string_alias = object()\n",
    "# uncomment to see failure\n",
    "# resource.save(force_admin=True)"
   ]
  },
  {
   "cell_type": "markdown",
   "id": "3c5cca0d",
   "metadata": {},
   "source": [
    "This is a drop-in replacement for `Resource` and `Tile` `save()` methods, so it performs side effects like indexing and writing to the edit log."
   ]
  },
  {
   "cell_type": "code",
   "execution_count": 16,
   "id": "1bc110c2",
   "metadata": {},
   "outputs": [
    {
     "data": {
      "text/plain": [
       "6"
      ]
     },
     "execution_count": 16,
     "metadata": {},
     "output_type": "execute_result"
    }
   ],
   "source": [
    "from arches.app.models.models import EditLog\n",
    "EditLog.objects.filter(resourceinstanceid=resource.pk).count()"
   ]
  },
  {
   "cell_type": "markdown",
   "id": "147454be",
   "metadata": {},
   "source": [
    "#### Deleting\n",
    "Just call `delete()`.\n",
    "\n",
    "> [!WARNING]\n",
    "> [Known issue](https://github.com/archesproject/arches-querysets/issues/35) that tiles should remove themselves from their aliased_data containers."
   ]
  },
  {
   "cell_type": "code",
   "execution_count": 17,
   "id": "dbf4d890",
   "metadata": {},
   "outputs": [
    {
     "data": {
      "text/plain": [
       "(7,\n",
       " {'models.ResourceXResource': 2,\n",
       "  'arches_querysets.TileTree': 1,\n",
       "  'models.File': 3,\n",
       "  'models.TileModel': 1})"
      ]
     },
     "execution_count": 17,
     "metadata": {},
     "output_type": "execute_result"
    }
   ],
   "source": [
    "resource.aliased_data.datatypes_1.delete()  # shows cascade deletes on related objects"
   ]
  },
  {
   "cell_type": "markdown",
   "id": "64562b62",
   "metadata": {},
   "source": [
    "#### Creating\n",
    "Call `append_tile()` with a nodegroup alias to append a single blank tile populated with default values, or call the low-level `TileTree.create_blank_tile()` classmethod to do more surgical inserts:"
   ]
  },
  {
   "cell_type": "code",
   "execution_count": 18,
   "id": "8e453225",
   "metadata": {},
   "outputs": [
    {
     "data": {
      "text/plain": [
       "'The answer to life, the universe, and everything.'"
      ]
     },
     "execution_count": 18,
     "metadata": {},
     "output_type": "execute_result"
    }
   ],
   "source": [
    "resource.refresh_from_db()\n",
    "resource.append_tile(\"datatypes_1\")\n",
    "resource.aliased_data.datatypes_1.aliased_data.non_localized_string_alias"
   ]
  },
  {
   "cell_type": "markdown",
   "id": "0cbdb853",
   "metadata": {},
   "source": [
    "Flesh out an existing resource with one additional placeholder tile at every empty nodegroup, with default node values populated.\n",
    "\n",
    ">[!INFO]\n",
    "> [Known issue:](https://github.com/archesproject/arches-querysets/issues/109) currently only works for existing resources."
   ]
  },
  {
   "cell_type": "code",
   "execution_count": 19,
   "id": "b8e7d5e0",
   "metadata": {},
   "outputs": [
    {
     "data": {
      "text/plain": [
       "namespace(datatypes_1=<TileTree: datatypes_1 (2a168165-101f-4f8d-a4a6-6230472fa6d1)>,\n",
       "          datatypes_n=[<TileTree: datatypes_n (7b7d4c9f-e809-47d6-91be-bcce161f2f5a)>])"
      ]
     },
     "execution_count": 19,
     "metadata": {},
     "output_type": "execute_result"
    }
   ],
   "source": [
    "resource.refresh_from_db()\n",
    "resource.fill_blanks()\n",
    "resource.aliased_data"
   ]
  },
  {
   "cell_type": "markdown",
   "id": "c4a0cf49",
   "metadata": {},
   "source": [
    "#### Tailoring the results\n",
    "\n",
    "Just like ordinary Django usage, you can avoid the overhead of instantiating model instances (and fetching graph objects to aid with display value calculations) by requesting just `.values()`:"
   ]
  },
  {
   "cell_type": "code",
   "execution_count": 20,
   "id": "69dad741",
   "metadata": {},
   "outputs": [
    {
     "name": "stdout",
     "output_type": "stream",
     "text": [
      "{'number_alias_n': 42.0, 'concept_list_alias_n': ['d8c60bf4-e786-11e6-905a-b756ec83dad5']}\n",
      "{'number_alias_n': None, 'concept_list_alias_n': None}\n"
     ]
    }
   ],
   "source": [
    "results = TileTree.objects.get_tiles(\n",
    "    \"datatype_lookups\", nodegroup_alias=\"datatypes_n\"\n",
    ").values(\"number_alias_n\", \"concept_list_alias_n\")\n",
    "for result in results:\n",
    "    print(result)"
   ]
  },
  {
   "cell_type": "markdown",
   "id": "b1e7b5c3",
   "metadata": {},
   "source": [
    "Aggregate functions from Django are available:"
   ]
  },
  {
   "cell_type": "code",
   "execution_count": 21,
   "id": "4b3cab4d",
   "metadata": {},
   "outputs": [
    {
     "data": {
      "text/plain": [
       "{'my_max': None}"
      ]
     },
     "execution_count": 21,
     "metadata": {},
     "output_type": "execute_result"
    }
   ],
   "source": [
    "from django.db.models import Max\n",
    "TileTree.objects.get_tiles(\"datatype_lookups\", \"datatypes_1\").aggregate(my_max=Max(\"number_alias\"))"
   ]
  },
  {
   "cell_type": "markdown",
   "id": "3c6998b4",
   "metadata": {},
   "source": [
    "You can limit the depth of the child tiles that are fetched. The default is 20."
   ]
  },
  {
   "cell_type": "code",
   "execution_count": 22,
   "id": "82c05112",
   "metadata": {},
   "outputs": [
    {
     "name": "stdout",
     "output_type": "stream",
     "text": [
      "[]\n",
      "[<TileTree: datatypes_n_child (fcd8f7bd-10c1-4b2b-97e7-1cc0caed7783)>]\n"
     ]
    }
   ],
   "source": [
    "resource = ResourceTileTree.objects.get_tiles(\"datatype_lookups\", depth=0).filter(number_alias_n=[42]).get()\n",
    "print(resource.aliased_data.datatypes_n[0].aliased_data.datatypes_n_child)\n",
    "\n",
    "# Try again with default depth (20)\n",
    "resource = ResourceTileTree.objects.get_tiles(\"datatype_lookups\").filter(number_alias_n=[42]).get()\n",
    "print(resource.aliased_data.datatypes_n[0].aliased_data.datatypes_n_child)"
   ]
  },
  {
   "cell_type": "markdown",
   "id": "c08c0f28",
   "metadata": {},
   "source": [
    "You can provide node values as a subquery targeting anything else in the database:"
   ]
  },
  {
   "cell_type": "code",
   "execution_count": 23,
   "id": "1ef4c982",
   "metadata": {},
   "outputs": [
    {
     "data": {
      "text/plain": [
       "<QuerySet [<Value: Value object (d8c60bf4-e786-11e6-905a-b756ec83dad5)>]>"
      ]
     },
     "execution_count": 23,
     "metadata": {},
     "output_type": "execute_result"
    }
   ],
   "source": [
    "from arches.app.models.models import Value\n",
    "\n",
    "from django.contrib.postgres.aggregates import ArrayAgg\n",
    "from django.db.models import Q\n",
    "\n",
    "concepts_in_use = TileTree.objects.get_tiles(\n",
    "    \"datatype_lookups\", \"datatypes_n\"\n",
    ").aggregate(\n",
    "    concepts_in_use=(ArrayAgg(\"concept_alias_n\", filter=Q(concept_alias_n__isnull=False)))\n",
    ")[\"concepts_in_use\"]\n",
    "\n",
    "Value.objects.filter(pk__in=concepts_in_use)"
   ]
  },
  {
   "cell_type": "markdown",
   "id": "0e96e606",
   "metadata": {},
   "source": [
    "#### API Integration\n",
    "\n",
    "arches-querysets includes an integration with one API client: [`djangorestframework`](https://www.django-rest-framework.org/). Be sure to include the `[drf]` in `pip install arches-querysets[drf]` to pull in the optional dependency. Integrations with other Django API frameworks should be possible."
   ]
  },
  {
   "cell_type": "markdown",
   "id": "9004ca9d",
   "metadata": {},
   "source": [
    "Using a framework allows you to reach for more sophistication as your needs evolve. DRF encouages a declarative programming style with classes, but these can be altered at runtime by overriding specific hooks. Here are the basic layers and how they invoke each other:\n",
    "\n",
    "> [!NOTE]\n",
    "> The [classy DRF docs](https://cdrf.co) are helpful to see the methods and corresponding sources for generic views."
   ]
  },
  {
   "cell_type": "markdown",
   "id": "6e4688f6",
   "metadata": {},
   "source": [
    "#### Routes\n",
    "Manual. There has been no investigation into extending DRF's router functionality to auto generate routes from models.\n",
    "\n",
    "See default [routes](https://github.com/archesproject/arches-querysets/blob/main/arches_querysets/urls.py)\n",
    "\n",
    "You can use Django's router to invoke different views based on the presence or absence of route components."
   ]
  },
  {
   "cell_type": "markdown",
   "id": "1a4f5576",
   "metadata": {},
   "source": [
    "#### Views\n",
    "\n",
    "arches-querysets ships with four generic views to handle basic CRUD operations on resources and tiles: resource collection (list/create), resource detail, tile collection (list/create), and tile detail.\n",
    "```py\n",
    "class ArchesResourceListCreateView(ArchesModelAPIMixin, ListCreateAPIView):\n",
    "    permission_classes = [ResourceEditor | ReadOnly]\n",
    "    serializer_class = ArchesResourceSerializer\n",
    "    parser_classes = [JSONParser, MultiPartJSONParser]\n",
    "    pagination_class = ArchesLimitOffsetPagination\n",
    "```\n",
    "\n",
    "You can compose your own views declaratively by subclassing these ones. The basic API functionality is provided by the `*APIView` from DRF. Again, I recommend [classy DRF docs](https://cdrf.co) to see what is available.\n",
    "\n",
    "Arches-specific logic is encapsulated in `ArchesModelAPIMixin` to be able to be composed into any generic view you create yourself.\n",
    "\n",
    "The serializer declared on the class, but can be altered via `get_serializer_class` or `get_serializer` as the \"blank\" utility routes do:\n",
    "\n",
    "In this example, a different serializer is returned according to the value of a query param.\n",
    "\n",
    "```py\n",
    "class ArchesResourceBlankView(ArchesModelAPIMixin, RetrieveAPIView):\n",
    "    permission_classes = [ReadOnly]\n",
    "    serializer_class = ArchesResourceSerializer\n",
    "\n",
    "    def get_serializer_class(self):\n",
    "        if self.request.GET.get(\"exclude_children\", \"\").lower() == \"true\":\n",
    "            return ArchesResourceTopNodegroupsSerializer\n",
    "        return self.serializer_class\n",
    "\n",
    "    def get_object(self, *args, **kwargs):\n",
    "        return None\n",
    "```\n"
   ]
  },
  {
   "cell_type": "markdown",
   "id": "e9393919",
   "metadata": {},
   "source": [
    "#### Serializers (API forms)\n",
    "\n",
    "Serializers are forms. They are the sanitization layer that validates that submitted data is in the correct shape and coerces types to a single format so that downstream code doesn't have to guess whether a variable is a `string` or a `UUID`, etc.\n",
    "\n",
    "Serializers are an API schema. They are where you declare what fields exist, which ones are writable, read-only, have defaults, etc., and what representation you get (e.g. extra properties, discussed later).\n",
    "\n",
    "DRF allows you to write a serializer from scratch:\n",
    "\n",
    "```py\n",
    "class MySerializer(serializer.Serializer):\n",
    "    first_name = fields.CharField()\n",
    "```\n",
    "\n",
    "But if `first_name` is a field on your Django model, that's repetitious and risks drift. Use a `ModelSerializer` to *infer* the serializer fields from your Django model fields. You can then add or override fields as you please, either in full, at the class-level, or in part, by passing surgical updates via `extra_kwargs`.\n",
    "\n",
    "Here is an example that does all of the above:\n",
    "\n",
    "```py\n",
    "class ArchesResourceSerializer(serializers.ModelSerializer, NodeFetcherMixin):\n",
    "    # aliased_data is a virtual field not inferred by serializers.ModelSerializer.\n",
    "    aliased_data = ResourceAliasedDataSerializer(required=False, allow_null=False)\n",
    "\n",
    "    # Custom read-only fields.\n",
    "    graph_has_different_publication = serializers.SerializerMethodField()\n",
    "\n",
    "    class Meta:\n",
    "        model = ResourceTileTree\n",
    "        ...\n",
    "        # TODO (arches_version): when Arches 8.1 is the lowest supported version,\n",
    "        # read_only_fields can be removed, since at that point we can depend on\n",
    "        # the equivalent editable=False on the model fields (done in 8.1).\n",
    "        read_only_fields = (\n",
    "            \"principaluser\",\n",
    "            \"name\",\n",
    "            \"descriptors\",\n",
    "            \"legacyid\",\n",
    "            \"graph_publication\",\n",
    "            \"resource_instance_lifecycle_state\",\n",
    "        )\n",
    "        extra_kwargs = {\n",
    "            \"resourceinstanceid\": {\"initial\": uuid.uuid4, \"allow_null\": True},\n",
    "            \"graph\": {\"allow_null\": True},\n",
    "        }\n",
    "```\n",
    "\n",
    "In a classic DRF setup, you would do all your validation in the serializer layer. arches-querysets is an adaptation tool for arches deployments that have entry points besides this API framework, so we delegate a lot of the actual node value validation to the existing arches datatype methods. But DRF still provides some helpful early failures if the wrong python types are submitted, e.g. a `list` instead of a `dict`.\n",
    "\n",
    "If you choose to use DRF-level validation, implement methods with `validate_{field_name}`:\n",
    "\n",
    "```py\n",
    "class LingoTileSerializer(ArchesTileSerializer):\n",
    "    def validate_appellative_status(self, data, initial_tile_data):\n",
    "        if data:\n",
    "            new_label_lang = None\n",
    "            new_label_type = None\n",
    "            if new_label_languages := data.appellative_status_ascribed_name_language:\n",
    "                new_label_lang = new_label_languages[0]\n",
    "            if new_label_types := data.appellative_status_ascribed_relation:\n",
    "                new_label_type = new_label_types[0]\n",
    "\n",
    "            if new_label_lang and new_label_type:\n",
    "                resource_pk = self.instance.resourceinstance_id\n",
    "                scheme = ResourceTileTree.get_tiles(self.graph_slug).get(pk=resource_pk)\n",
    "                self._check_pref_label_uniqueness(\n",
    "                    initial_tile_data, scheme, new_label_lang, new_label_type\n",
    "                )\n",
    "\n",
    "        return data\n",
    "```\n",
    "\n",
    "Arches data is dynamic, so methods like `get_fields()` and friends are used to generate classes on the fly at runtime.\n",
    "If you find this behavior to \"magical\", there is nothing stopping you from hard-coding your serializers. This might work well for small, stable projects.\n",
    "\n",
    "How do you know what the expected types are? Import and print the serializer:\n",
    "\n",
    "```py\n",
    "In [1]: from arches_querysets.rest_framework.serializers import *\n",
    "\n",
    "In [2]: ArchesTileSerializer(graph_slug=\"datatype_lookups\", nodegroup_alias=\"datatypes_1\")\n",
    "Out[2]: \n",
    "ArchesTileSerializer(graph_slug='datatype_lookups', nodegroup_alias='datatypes_1'):\n",
    "    tileid = UUIDField(allow_null=True, required=False, validators=[])\n",
    "    resourceinstance = PrimaryKeyRelatedField(allow_null=True, html_cutoff=0, queryset=<ResourceTileTreeQuerySet [<ResourceTileTree: Arches System Settings:  (a106c400-260c-11e7-a604-14109fd34195)>, <ResourceTileTree: Datatype \n",
    "    ...\n",
    "                    geojson_feature_collection_alias_child = CharField(allow_blank=True, allow_null=True, help_text=None, initial=None, label='', required=False, style={'alias': 'geojson_feature_collection_alias_child', 'visible': True, 'widget_config': <arches.app.models.fields.i18n.I18n_JSON object>, 'datatype': 'geojson-feature-collection', 'sortorder': 0})\n",
    "                concept_list_alias_child = JSONField(allow_null=True, decoder=None, encoder=None, help_text=None, initial=None, label='', required=False, style={'alias': 'concept_list_alias_child', 'visible': True, 'widget_config': <arches.app.models.fields.i18n.I18n_JSON object>, 'datatype': 'concept-list', 'sortorder': 0})\n",
    "                number_alias_child = FloatField(allow_null=True, help_text=None, initial=7, label='', required=False, style={'alias': 'number_alias_child', 'visible': True, 'widget_config': <arches.app.models.fields.i18n.I18n_JSON object>, 'datatype': 'number', 'sortorder': 0})\n",
    "```\n",
    "\n",
    "Or use the /blank API to see a representation stocked with default values.\n",
    "\n",
    "How can you monitor what's going on at the serialization boundary? Watch `to_internal_value()` coming in, or `to_representation()` going out.\n",
    "\n",
    "Here's an example of patching `to_internal_value()` to accept nested writes, which DRF doesn't support out of the box given there is no reasonable default behavior:\n",
    "\n",
    "```py\n",
    "    def to_internal_value(self, data):\n",
    "        \"\"\"Make nested aliased data writable.\"\"\"\n",
    "        self.initial_data = data\n",
    "        return _handle_nested_aliased_data(data, fields_map=self.fields)\n",
    "```\n",
    "\n",
    "Where are the GET, POST handlers, etc?\n",
    "\n",
    "Answer: given that retrieving an object is needed not only by GETs but also by update operations, the handlers are abstracted away, encouraging you to focus instead on the actions of creating, retrieving, updating, and deleting. See `create()`, `retrieve()`, `update()`, `delete()` for the entire action, and `perform_create()` for \n",
    "\n",
    "*You do not need to use serializers inside a request/response cycle.* They're just forms! See `test_bind_data_to_serializer` in the test suite for ingesting static data."
   ]
  },
  {
   "cell_type": "markdown",
   "id": "ab48cac6",
   "metadata": {},
   "source": [
    "#### QuerySets\n",
    "\n",
    "The serializer is responsible for fetching a model instance or instances via a queryset.\n",
    "\n",
    "Serializer fields have declarative arguments for querysets. This one cancels some prefetches that were provided by this model's `get_queryset()` manager method:\n",
    "\n",
    "```py\n",
    "parenttile = serializers.PrimaryKeyRelatedField(\n",
    "    queryset=TileTree.objects.prefetch_related(None),\n",
    "    required=False,\n",
    "    allow_null=True,\n",
    "    html_cutoff=0,\n",
    ")\n",
    "```\n",
    "(`html_cutoff` is useful to make sure the forms that ship with the browsable API are not trying to fetch tons of objects.)\n",
    "\n",
    "You can create the queryset dynamically in the view by overriding `get_queryset()`, as `ArchesModelAPIMixin` does. This is a bit overloaded, dealing with both Resources and Tiles, but you can imagine factoring this more cleanly if you were willing to ship more combinations of mixins:\n",
    "\n",
    "```py\n",
    "def get_queryset(self):\n",
    "    options = self.serializer_class.Meta\n",
    "    if issubclass(options.model, ResourceInstance):\n",
    "        qs = options.model.get_tiles(\n",
    "            self.graph_slug,\n",
    "            resource_ids=self.resource_ids,\n",
    "            as_representation=True,\n",
    "        ).select_related(\"graph\")\n",
    "        if arches_version >= (8, 0):\n",
    "            qs = qs.select_related(\"resource_instance_lifecycle_state\")\n",
    "    elif issubclass(options.model, TileModel):\n",
    "        qs = options.model.get_tiles(\n",
    "            self.graph_slug,\n",
    "            self.nodegroup_alias,\n",
    "            as_representation=True,\n",
    "            resource_ids=self.resource_ids,\n",
    "        ).select_related(\"nodegroup\", \"resourceinstance__graph\")\n",
    "        if self.resource_ids:\n",
    "            qs = qs.filter(resourceinstance__in=self.resource_ids)\n",
    "```\n",
    "\n",
    "The `.get_tiles()` queryset method is described above. It just encapsulates providing node aliases as field aliases to the ORM and scheduling prefetching of related objects necessary for calculating display values or building nested tiles.\n",
    "\n",
    "Tangent: Remember to cancel all of those additional queries via `.values()` if you are only extracting values and do not need model instances.\n"
   ]
  },
  {
   "cell_type": "markdown",
   "id": "87db50ba",
   "metadata": {},
   "source": [
    "#### Searching\n",
    "\n",
    "Add query params like `aliased_data__string_alias__icontains=foo` to see advanced search functionality. See test_filter_kwargs() and the tested lookups in test_lookups.py."
   ]
  },
  {
   "cell_type": "markdown",
   "id": "50cc47c8",
   "metadata": {},
   "source": [
    "#### QuerySets under the hood\n",
    "\n",
    "A final word about how all this works.\n",
    "\n"
   ]
  },
  {
   "cell_type": "markdown",
   "id": "2c5af51f",
   "metadata": {},
   "source": [
    "#### Tooling\n",
    "\n",
    "django-debug-toolbar (I use version 5.x) takes minimal installation. Add URLs and middleware and installed app, and a toolbar appears that will show SQL queries in a waterfall visual format, with buttons to expand to see explain plans, results, and where in the source the query was triggered. It also flags N+1 (repetitive) queries.\n",
    "\n",
    "It's designed to work for HTML responses, but you change the middleware to get it to work with JSON responses, if you want to avoid profiling things out of scope of your API. See this [gist](https://gist.github.com/fabiosussetto/c534d84cbbf7ab60b025?permalink_comment_id=4581191#gistcomment-4581191)\n",
    "\n",
    "For the adventurous, you can try throwing exceptions when your project issues an N+1 query by:\n",
    "- checking out this [PR](https://github.com/django/django/pull/17554) to Django\n",
    "- changing the default `self._fetch mode` in django/db/models/query.py from `FETCH_ONE` to `RAISE` (or use it as designed, and use model managers, but that's a larger refactor)\n",
    "- YMMV given that you will likely need to hack around failures in core arches\n",
    "\n",
    "This [profile decorator](https://adamj.eu/tech/2023/07/23/python-profile-section-cprofile/) is also amazing. I use the context manager / function decorator version."
   ]
  }
 ],
 "metadata": {
  "kernelspec": {
   "display_name": "py313",
   "language": "python",
   "name": "python3"
  },
  "language_info": {
   "codemirror_mode": {
    "name": "ipython",
    "version": 3
   },
   "file_extension": ".py",
   "mimetype": "text/x-python",
   "name": "python",
   "nbconvert_exporter": "python",
   "pygments_lexer": "ipython3",
   "version": "3.13.5"
  }
 },
 "nbformat": 4,
 "nbformat_minor": 5
}
