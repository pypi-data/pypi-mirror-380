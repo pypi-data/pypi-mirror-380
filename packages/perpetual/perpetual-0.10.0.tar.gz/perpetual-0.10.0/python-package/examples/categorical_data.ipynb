{
 "cells": [
  {
   "cell_type": "code",
   "execution_count": null,
   "metadata": {},
   "outputs": [],
   "source": [
    "import optuna\n",
    "import numpy as np\n",
    "import pandas as pd\n",
    "from ucimlrepo import fetch_ucirepo\n",
    "from scipy.special import expit\n",
    "from lightgbm import LGBMClassifier\n",
    "from sklearn.metrics import log_loss, accuracy_score\n",
    "from sklearn.model_selection import train_test_split, cross_validate\n",
    "from perpetual import PerpetualBooster"
   ]
  },
  {
   "cell_type": "code",
   "execution_count": 2,
   "metadata": {},
   "outputs": [],
   "source": [
    "pd.set_option('display.max_rows', 1000)"
   ]
  },
  {
   "cell_type": "code",
   "execution_count": null,
   "metadata": {},
   "outputs": [],
   "source": [
    "!python --version"
   ]
  },
  {
   "cell_type": "code",
   "execution_count": null,
   "metadata": {},
   "outputs": [],
   "source": [
    "from importlib.metadata import version\n",
    "\n",
    "print(f\"numpy: {version('numpy')}\")\n",
    "print(f\"optuna: {version('optuna')}\")\n",
    "print(f\"lightgbm: {version('lightgbm')}\")\n",
    "print(f\"scikit-learn: {version('scikit-learn')}\")\n",
    "print(f\"perpetual: {version('perpetual')}\")"
   ]
  },
  {
   "cell_type": "code",
   "execution_count": 5,
   "metadata": {},
   "outputs": [],
   "source": [
    "# fetch dataset: https://archive.ics.uci.edu/dataset/2/adult\n",
    "adult = fetch_ucirepo(id=2)"
   ]
  },
  {
   "cell_type": "code",
   "execution_count": null,
   "metadata": {},
   "outputs": [],
   "source": [
    "adult.data.features.head()"
   ]
  },
  {
   "cell_type": "code",
   "execution_count": null,
   "metadata": {},
   "outputs": [],
   "source": [
    "data = adult.data.features.copy()\n",
    "data[\"sex\"] = pd.get_dummies(adult.data.features[\"sex\"], drop_first=True, dtype=float).to_numpy()\n",
    "cols = ['workclass', 'education', 'marital-status', 'occupation', 'relationship', 'race', 'native-country']\n",
    "data[cols] = data[cols].astype('category')\n",
    "data.head()"
   ]
  },
  {
   "cell_type": "code",
   "execution_count": null,
   "metadata": {},
   "outputs": [],
   "source": [
    "y = adult.data.targets[\"income\"].str.contains(\"<\").to_numpy().astype(int)\n",
    "y"
   ]
  },
  {
   "cell_type": "code",
   "execution_count": null,
   "metadata": {},
   "outputs": [],
   "source": [
    "set(adult.data.targets[\"income\"])"
   ]
  },
  {
   "cell_type": "code",
   "execution_count": 10,
   "metadata": {},
   "outputs": [],
   "source": [
    "seed = 0\n",
    "n_estimators = 100\n",
    "n_trials = 1"
   ]
  },
  {
   "cell_type": "code",
   "execution_count": 11,
   "metadata": {},
   "outputs": [],
   "source": [
    "scoring = \"neg_log_loss\"\n",
    "metric_function = log_loss\n",
    "metric_name = \"log_loss\"\n",
    "LGBMBooster = LGBMClassifier\n",
    "objective_type = \"LogLoss\""
   ]
  },
  {
   "cell_type": "code",
   "execution_count": null,
   "metadata": {},
   "outputs": [],
   "source": [
    "X_train, X_test, y_train, y_test = train_test_split(data, y, test_size=0.2, random_state=seed)\n",
    "\n",
    "print(f\"len(X_train): {len(X_train)}\")\n",
    "print(f\"len(X_test): {len(X_test)}\")"
   ]
  },
  {
   "cell_type": "code",
   "execution_count": null,
   "metadata": {},
   "outputs": [],
   "source": [
    "X_train.head()"
   ]
  },
  {
   "cell_type": "code",
   "execution_count": 14,
   "metadata": {},
   "outputs": [],
   "source": [
    "best_cv_results = None\n",
    "cv_results = None\n",
    "\n",
    "def save_best_cv_results(study, trial):\n",
    "    global best_cv_results\n",
    "    if study.best_trial.number == trial.number:\n",
    "        best_cv_results = cv_results"
   ]
  },
  {
   "cell_type": "code",
   "execution_count": 15,
   "metadata": {},
   "outputs": [],
   "source": [
    "def objective_function(trial):\n",
    "    global cv_results\n",
    "    params = {\n",
    "        'seed': seed,\n",
    "        'verbosity': -1,\n",
    "        'n_estimators': n_estimators,\n",
    "        'learning_rate': trial.suggest_float('learning_rate', 0.001, 0.5, log=True),\n",
    "        'min_split_gain': trial.suggest_float('min_split_gain', 1e-6, 1.0, log=True),\n",
    "        'reg_alpha': trial.suggest_float('reg_alpha', 1e-6, 1.0, log=True),\n",
    "        'reg_lambda': trial.suggest_float('reg_lambda', 1e-6, 1.0, log=True),\n",
    "        'colsample_bytree': trial.suggest_float('colsample_bytree', 0.2, 1.0),\n",
    "        'subsample': trial.suggest_float('subsample', 0.2, 1.0),\n",
    "        'subsample_freq': trial.suggest_int('subsample_freq', 1, 10),\n",
    "        'max_depth': trial.suggest_int('max_depth', 3, 33),\n",
    "        'num_leaves': trial.suggest_int('num_leaves', 2, 1024),\n",
    "        'min_child_samples': trial.suggest_int('min_child_samples', 1, 100),\n",
    "    }\n",
    "    model = LGBMBooster(**params)\n",
    "    cv_results = cross_validate(model, X_train, y_train, cv=5, scoring=scoring, return_train_score=True, return_estimator=True)\n",
    "    return -1 * np.mean(cv_results['test_score'])"
   ]
  },
  {
   "cell_type": "code",
   "execution_count": null,
   "metadata": {},
   "outputs": [],
   "source": [
    "sampler = optuna.samplers.TPESampler(seed=seed)\n",
    "study = optuna.create_study(direction='minimize', sampler=sampler)"
   ]
  },
  {
   "cell_type": "code",
   "execution_count": null,
   "metadata": {},
   "outputs": [],
   "source": [
    "%%time\n",
    "study.optimize(objective_function, n_trials=n_trials, callbacks=[save_best_cv_results])"
   ]
  },
  {
   "cell_type": "code",
   "execution_count": null,
   "metadata": {},
   "outputs": [],
   "source": [
    "print(f\"Number of finished trials: {len(study.trials)}\")\n",
    "print(\"Best trial:\")\n",
    "print(f\"  Number: {study.best_trial.number}\")\n",
    "print(f\"  Value: {study.best_trial.value}\")\n",
    "print(\"  Params: \")\n",
    "for key, value in study.best_trial.params.items():\n",
    "    print(f\"    {key}: {value}\")"
   ]
  },
  {
   "cell_type": "code",
   "execution_count": null,
   "metadata": {},
   "outputs": [],
   "source": [
    "print(f\"CV train scores: {-1 * best_cv_results['train_score']}\")\n",
    "print(f\"CV train scores average : {round(np.mean(-1 * best_cv_results['train_score']), 6)}\")\n",
    "print(f\"CV test scores: {-1 * best_cv_results['test_score']}\")\n",
    "print(f\"CV test scores average : {round(np.mean(-1 * best_cv_results['test_score']), 6)}\")"
   ]
  },
  {
   "cell_type": "code",
   "execution_count": 20,
   "metadata": {},
   "outputs": [],
   "source": [
    "models = best_cv_results[\"estimator\"]"
   ]
  },
  {
   "cell_type": "code",
   "execution_count": null,
   "metadata": {},
   "outputs": [],
   "source": [
    "for i, model in enumerate(models):\n",
    "    y_pred = model.predict_proba(X_train) if metric_name == \"log_loss\" else model.predict(X_train)\n",
    "    print(f\"Model {i}, train {metric_name}: {round(metric_function(y_train, y_pred), 6)}\")"
   ]
  },
  {
   "cell_type": "code",
   "execution_count": null,
   "metadata": {},
   "outputs": [],
   "source": [
    "for i, model in enumerate(models):\n",
    "    y_pred = model.predict_proba(X_test) if metric_name == \"log_loss\" else model.predict(X_test)\n",
    "    print(f\"Model {i}, test {metric_name}: {round(metric_function(y_test, y_pred), 6)}\")"
   ]
  },
  {
   "cell_type": "code",
   "execution_count": null,
   "metadata": {},
   "outputs": [],
   "source": [
    "if metric_name == \"log_loss\":\n",
    "    y_pred = np.mean([model.predict_proba(X_train) for model in models], axis=0)\n",
    "else:\n",
    "    y_pred = np.mean([model.predict(X_train) for model in models], axis=0)\n",
    "print(f\"Train {metric_name}: {round(metric_function(y_train, y_pred), 6)}\")"
   ]
  },
  {
   "cell_type": "code",
   "execution_count": null,
   "metadata": {},
   "outputs": [],
   "source": [
    "if metric_name == \"log_loss\":\n",
    "    y_pred = np.mean([model.predict_proba(X_test) for model in models], axis=0)\n",
    "else:\n",
    "    y_pred = np.mean([model.predict(X_test) for model in models], axis=0)\n",
    "print(f\"Test {metric_name}: {round(metric_function(y_test, y_pred), 6)}\")"
   ]
  },
  {
   "cell_type": "code",
   "execution_count": null,
   "metadata": {},
   "outputs": [],
   "source": [
    "y_pred = np.round(np.mean([model.predict(X_test) for model in models], axis=0))\n",
    "print(accuracy_score(y_test, y_pred))"
   ]
  },
  {
   "cell_type": "code",
   "execution_count": null,
   "metadata": {},
   "outputs": [],
   "source": [
    "model = PerpetualBooster(objective=\"LogLoss\")\n",
    "model.fit(X_train, y_train, budget=0.35)"
   ]
  },
  {
   "cell_type": "code",
   "execution_count": null,
   "metadata": {},
   "outputs": [],
   "source": [
    "y_pred = np.round(expit(model.predict(X_test)))\n",
    "print(accuracy_score(y_test, y_pred))"
   ]
  },
  {
   "cell_type": "code",
   "execution_count": null,
   "metadata": {},
   "outputs": [],
   "source": [
    "y_pred = np.round(expit(model.predict(X_train)))\n",
    "print(accuracy_score(y_train, y_pred))"
   ]
  },
  {
   "cell_type": "code",
   "execution_count": null,
   "metadata": {},
   "outputs": [],
   "source": [
    "if metric_name == \"log_loss\":\n",
    "    y_pred = expit(model.predict(X_test))\n",
    "else:\n",
    "    y_pred = np.round(expit(model.predict(X_test)))\n",
    "print(f\"Test {metric_name}: {round(metric_function(y_test, y_pred), 6)}\")"
   ]
  },
  {
   "cell_type": "code",
   "execution_count": 30,
   "metadata": {},
   "outputs": [],
   "source": [
    "df_trees = model.trees_to_dataframe()"
   ]
  },
  {
   "cell_type": "code",
   "execution_count": null,
   "metadata": {},
   "outputs": [],
   "source": [
    "df_trees.head(10)"
   ]
  },
  {
   "cell_type": "code",
   "execution_count": null,
   "metadata": {},
   "outputs": [],
   "source": [
    "models[0].booster_.trees_to_dataframe().head(10000)"
   ]
  }
 ],
 "metadata": {
  "kernelspec": {
   "display_name": "py311",
   "language": "python",
   "name": "python3"
  },
  "language_info": {
   "codemirror_mode": {
    "name": "ipython",
    "version": 3
   },
   "file_extension": ".py",
   "mimetype": "text/x-python",
   "name": "python",
   "nbconvert_exporter": "python",
   "pygments_lexer": "ipython3",
   "version": "3.11.9"
  }
 },
 "nbformat": 4,
 "nbformat_minor": 2
}
