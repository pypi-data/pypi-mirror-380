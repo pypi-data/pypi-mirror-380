{
 "cells": [
  {
   "cell_type": "markdown",
   "metadata": {},
   "source": [
    "# Small Multiples\n",
    "## Overview\n",
    "Small multiples enable comparisons of partitioned parts of a dataframe.  Most of the visual components support both rendering as a small multiple and the inclusion of small multiples where the concept makes sense.\n",
    "## Basics\n",
    "In addition to the usual required dataframe, there are two additional parameters required by small multiples:\n",
    "- category_by: field (or fields) to partition the dataframe by\n",
    "- sm_type: visualization type to render as a small multiple\n",
    "## Small multiple configuration\n",
    "To configure the parameters provided to each small multiple rendering, a dictionary of the parameter values is passed in via the \"sm_params\" parameter.  Additionally, a function can be be passed in that customizes the small multiple more dynamically -- the parameter name is \"customize_params_fn\".\n",
    "## Common parameters\n",
    "The following options are commonly used to obtain informative results:\n",
    "- show_df_multiple: for comparison purpose, show the small multiple of all of the data (without partitioning)\n",
    "- sort_by: options to sort the small multiples\n",
    "- x_axis_independent, y_axis_independent: options to configure the small multiple to use a global scaling\n",
    "- w_sm_override, h_sm_override: override the calculated width and height of the small multiples."
   ]
  },
  {
   "cell_type": "code",
   "execution_count": null,
   "metadata": {},
   "outputs": [],
   "source": [
    "import pandas as pd\n",
    "import numpy as np\n",
    "from rtsvg import *\n",
    "rt = RACETrack()"
   ]
  },
  {
   "cell_type": "code",
   "execution_count": null,
   "metadata": {},
   "outputs": [],
   "source": [
    "cats   = ['mostly_red', 'mostly_red']\n",
    "counts = [90,           10]\n",
    "colors = ['red',        'black']\n",
    "\n",
    "cats.  extend(['blue_green_white', 'blue_green_white', 'blue_green_white'])\n",
    "counts.extend([30,                 30,                 30])\n",
    "colors.extend(['blue',             'green',            'white'])\n",
    "\n",
    "cats.  extend(['orange_yellow', 'orange_yellow'])\n",
    "counts.extend([60,              40])\n",
    "colors.extend(['yellow',        'orange'])\n",
    "\n",
    "df = pd.DataFrame({'cat':cats, 'count':counts, 'color':colors})\n",
    "rt.smallMultiples(df, category_by='cat', color_by='color', sm_type='pieChart', count_by='count', w=256, h=256)"
   ]
  },
  {
   "cell_type": "markdown",
   "metadata": {},
   "source": [
    "\n",
    "'<svg id=\"smallmultiples_17901\" x=\"0\" y=\"0\" width=\"256\" height=\"256\" xmlns=\"http://www.w3.org/2000/svg\"><rect width=\"255\" height=\"255\" x=\"0\" y=\"0\" fill=\"#ffffff\" stroke=\"#ffffff\" /><svg id=\"smallmultiples_17901_all\" x=\"2\" y=\"2\" width=\"125.0\" height=\"110.0\" xmlns=\"http://www.w3.org/2000/svg\"><ellipse rx=\"52.0\" ry=\"52.0\" cx=\"62.5\" cy=\"55.0\" fill=\"#4988b6\" stroke-opacity=\"0.0\" /><path d=\"M 62.5 55.0 L 110.80678943047316 74.24718407767554 A 52.0 52.0 0 0 0 62.5 3.0\" fill=\"#ff0000\" stroke-opacity=\"0.0\" /><path d=\"M 62.5 55.0 L 56.87781104195503 106.69517377202669 A 52.0 52.0 0 0 0 110.80678943047316 74.24718407767554\" fill=\"#f7dc6f\" stroke-opacity=\"0.0\" /><path d=\"M 62.5 55.0 L 19.4601720958417 84.18172739884389 A 52.0 52.0 0 0 0 56.87781104195503 106.69517377202669\" fill=\"#e59866\" stroke-opacity=\"0.0\" /><path d=\"M 62.5 55.0 L 10.576262479741558 52.18477675355826 A 52.0 52.0 0 0 0 19.4601720958417 84.18172739884389\" fill=\"#0000ff\" stroke-opacity=\"0.0\" /><path d=\"M 62.5 55.0 L 22.867573133362917 21.33591319134495 A 52.0 52.0 0 0 0 10.576262479741558 52.18477675355826\" fill=\"#00ff00\" stroke-opacity=\"0.0\" /><path d=\"M 62.5 55.0 L 51.32153710902678 4.215731103075491 A 52.0 52.0 0 0 0 22.867573133362917 21.33591319134495\" fill=\"#808080\" stroke-opacity=\"0.0\" /><path d=\"M 62.5 55.0 L 62.49999999999999 3.0 A 52.0 52.0 0 0 0 51.32153710902678 4.215731103075491\" fill=\"#000000\" stroke-opacity=\"0.0\" /></svg><text x=\"64.5\" y=\"124.0\" text-anchor=\"middle\" font-family=\"Times\" fill=\"#000000\" font-size=\"14px\">Vis</text><svg id=\"smallmultiples_17901_1\" x=\"129.0\" y=\"2.0\" width=\"125.0\" height=\"110.0\" xmlns=\"http://www.w3.org/2000/svg\"><ellipse rx=\"52.0\" ry=\"52.0\" cx=\"62.5\" cy=\"55.0\" fill=\"#4988b6\" stroke-opacity=\"0.0\" /><path d=\"M 62.5 55.0 L 107.53332099679082 81.0 A 52.0 52.0 0 0 0 62.5 3.0\" fill=\"#0000ff\" stroke-opacity=\"0.0\" /><path d=\"M 62.5 55.0 L 17.466679003209187 81.0 A 52.0 52.0 0 0 0 107.53332099679082 81.0\" fill=\"#00ff00\" stroke-opacity=\"0.0\" /><path d=\"M 62.5 55.0 L 62.49999999999999 3.0 A 52.0 52.0 0 0 0 17.466679003209187 81.0\" fill=\"#808080\" stroke-opacity=\"0.0\" /></svg><text x=\"191.5\" text-anchor=\"middle\" y=\"124.0\" font-family=\"Times\" fill=\"#000000\" font-size=\"14px\">blue_green_white</text><svg id=\"smallmultiples_17901_2\" x=\"2.0\" y=\"130.0\" width=\"125.0\" height=\"110.0\" xmlns=\"http://www.w3.org/2000/svg\"><ellipse rx=\"52.0\" ry=\"52.0\" cx=\"62.5\" cy=\"55.0\" fill=\"#4988b6\" stroke-opacity=\"0.0\" /><path d=\"M 62.5 55.0 L 31.935166880791392 12.931116292502736 A 52.0 52.0 0 1 0 62.5 3.0\" fill=\"#ff0000\" stroke-opacity=\"0.0\" /><path d=\"M 62.5 55.0 L 62.49999999999999 3.0 A 52.0 52.0 0 0 0 31.935166880791392 12.931116292502736\" fill=\"#000000\" stroke-opacity=\"0.0\" /></svg><text x=\"64.5\" text-anchor=\"middle\" y=\"252.0\" font-family=\"Times\" fill=\"#000000\" font-size=\"14px\">mostly_red</text><svg id=\"smallmultiples_17901_3\" x=\"129.0\" y=\"130.0\" width=\"125.0\" height=\"110.0\" xmlns=\"http://www.w3.org/2000/svg\"><ellipse rx=\"52.0\" ry=\"52.0\" cx=\"62.5\" cy=\"55.0\" fill=\"#4988b6\" stroke-opacity=\"0.0\" /><path d=\"M 62.5 55.0 L 31.935166880791403 97.06888370749726 A 52.0 52.0 0 1 0 62.5 3.0\" fill=\"#f7dc6f\" stroke-opacity=\"0.0\" /><path d=\"M 62.5 55.0 L 62.49999999999999 3.0 A 52.0 52.0 0 0 0 31.935166880791403 97.06888370749726\" fill=\"#e59866\" stroke-opacity=\"0.0\" /></svg><text x=\"191.5\" text-anchor=\"middle\" y=\"252.0\" font-family=\"Times\" fill=\"#000000\" font-size=\"14px\">orange_yellow</text><rect width=\"255\" height=\"255\" x=\"0\" y=\"0\" fill=\"none\" fill-opacity=\"0.0\" stroke=\"#000000\" /></svg>'"
   ]
  },
  {
   "cell_type": "markdown",
   "metadata": {},
   "source": [
    "Examples of overriding small multiple width and height."
   ]
  },
  {
   "cell_type": "code",
   "execution_count": null,
   "metadata": {},
   "outputs": [],
   "source": [
    "rt.smallMultiples(df, category_by='cat', color_by='color', sm_type='pieChart', count_by='count', w_sm_override=32, h_sm_override=32, w=96)"
   ]
  },
  {
   "cell_type": "markdown",
   "metadata": {},
   "source": [
    "'<svg id=\"smallmultiples_54478\" x=\"0\" y=\"0\" width=\"70\" height=\"100\" xmlns=\"http://www.w3.org/2000/svg\"><rect width=\"69\" height=\"99\" x=\"0\" y=\"0\" fill=\"#ffffff\" stroke=\"#ffffff\" /><svg id=\"smallmultiples_54478_all\" x=\"2\" y=\"2\" width=\"32\" height=\"32\" xmlns=\"http://www.w3.org/2000/svg\"><ellipse rx=\"13.0\" ry=\"13.0\" cx=\"16.0\" cy=\"16.0\" fill=\"#4988b6\" stroke-opacity=\"0.0\" /><path d=\"M 16.0 16.0 L 28.07669735761829 20.811796019418885 A 13.0 13.0 0 0 0 16.0 3.0\" fill=\"#ff0000\" stroke-opacity=\"0.0\" /><path d=\"M 16.0 16.0 L 14.594452760488757 28.923793443006673 A 13.0 13.0 0 0 0 28.07669735761829 20.811796019418885\" fill=\"#f7dc6f\" stroke-opacity=\"0.0\" /><path d=\"M 16.0 16.0 L 5.240043023960425 23.295431849710972 A 13.0 13.0 0 0 0 14.594452760488757 28.923793443006673\" fill=\"#e59866\" stroke-opacity=\"0.0\" /><path d=\"M 16.0 16.0 L 3.0190656199353896 15.296194188389565 A 13.0 13.0 0 0 0 5.240043023960425 23.295431849710972\" fill=\"#0000ff\" stroke-opacity=\"0.0\" /><path d=\"M 16.0 16.0 L 6.091893283340729 7.583978297836238 A 13.0 13.0 0 0 0 3.0190656199353896 15.296194188389565\" fill=\"#00ff00\" stroke-opacity=\"0.0\" /><path d=\"M 16.0 16.0 L 13.205384277256695 3.303932775768873 A 13.0 13.0 0 0 0 6.091893283340729 7.583978297836238\" fill=\"#808080\" stroke-opacity=\"0.0\" /><path d=\"M 16.0 16.0 L 15.999999999999998 3.0 A 13.0 13.0 0 0 0 13.205384277256695 3.303932775768873\" fill=\"#000000\" stroke-opacity=\"0.0\" /></svg><text x=\"18.0\" y=\"46\" text-anchor=\"middle\" font-family=\"Times\" fill=\"#000000\" font-size=\"14px\">Vis</text><svg id=\"smallmultiples_54478_1\" x=\"36\" y=\"2\" width=\"32\" height=\"32\" xmlns=\"http://www.w3.org/2000/svg\"><ellipse rx=\"13.0\" ry=\"13.0\" cx=\"16.0\" cy=\"16.0\" fill=\"#4988b6\" stroke-opacity=\"0.0\" /><path d=\"M 16.0 16.0 L 27.258330249197705 22.5 A 13.0 13.0 0 0 0 16.0 3.0\" fill=\"#0000ff\" stroke-opacity=\"0.0\" /><path d=\"M 16.0 16.0 L 4.741669750802297 22.5 A 13.0 13.0 0 0 0 27.258330249197705 22.5\" fill=\"#00ff00\" stroke-opacity=\"0.0\" /><path d=\"M 16.0 16.0 L 15.999999999999998 3.0 A 13.0 13.0 0 0 0 4.741669750802297 22.5\" fill=\"#808080\" stroke-opacity=\"0.0\" /></svg><text x=\"52.0\" text-anchor=\"middle\" y=\"46\" font-family=\"Times\" fill=\"#000000\" font-size=\"14px\">blue...</text><svg id=\"smallmultiples_54478_2\" x=\"2\" y=\"52\" width=\"32\" height=\"32\" xmlns=\"http://www.w3.org/2000/svg\"><ellipse rx=\"13.0\" ry=\"13.0\" cx=\"16.0\" cy=\"16.0\" fill=\"#4988b6\" stroke-opacity=\"0.0\" /><path d=\"M 16.0 16.0 L 8.358791720197848 5.482779073125684 A 13.0 13.0 0 1 0 16.0 3.0\" fill=\"#ff0000\" stroke-opacity=\"0.0\" /><path d=\"M 16.0 16.0 L 15.999999999999998 3.0 A 13.0 13.0 0 0 0 8.358791720197848 5.482779073125684\" fill=\"#000000\" stroke-opacity=\"0.0\" /></svg><text x=\"18.0\" text-anchor=\"middle\" y=\"96\" font-family=\"Times\" fill=\"#000000\" font-size=\"14px\">most...</text><svg id=\"smallmultiples_54478_3\" x=\"36\" y=\"52\" width=\"32\" height=\"32\" xmlns=\"http://www.w3.org/2000/svg\"><ellipse rx=\"13.0\" ry=\"13.0\" cx=\"16.0\" cy=\"16.0\" fill=\"#4988b6\" stroke-opacity=\"0.0\" /><path d=\"M 16.0 16.0 L 8.35879172019785 26.517220926874316 A 13.0 13.0 0 1 0 16.0 3.0\" fill=\"#f7dc6f\" stroke-opacity=\"0.0\" /><path d=\"M 16.0 16.0 L 15.999999999999998 3.0 A 13.0 13.0 0 0 0 8.35879172019785 26.517220926874316\" fill=\"#e59866\" stroke-opacity=\"0.0\" /></svg><text x=\"52.0\" text-anchor=\"middle\" y=\"96\" font-family=\"Times\" fill=\"#000000\" font-size=\"14px\">oran...</text><rect width=\"69\" height=\"99\" x=\"0\" y=\"0\" fill=\"none\" fill-opacity=\"0.0\" stroke=\"#000000\" /></svg>'"
   ]
  },
  {
   "cell_type": "code",
   "execution_count": null,
   "metadata": {},
   "outputs": [],
   "source": []
  }
 ],
 "metadata": {
  "kernelspec": {
   "display_name": "Python 3",
   "language": "python",
   "name": "python3"
  },
  "language_info": {
   "codemirror_mode": {
    "name": "ipython",
    "version": 3
   },
   "file_extension": ".py",
   "mimetype": "text/x-python",
   "name": "python",
   "nbconvert_exporter": "python",
   "pygments_lexer": "ipython3",
   "version": "3.12.3"
  },
  "orig_nbformat": 4
 },
 "nbformat": 4,
 "nbformat_minor": 2
}
