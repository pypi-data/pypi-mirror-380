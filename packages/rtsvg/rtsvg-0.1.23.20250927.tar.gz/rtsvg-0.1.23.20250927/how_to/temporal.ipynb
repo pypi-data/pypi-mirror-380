{
 "cells": [
  {
   "cell_type": "markdown",
   "metadata": {},
   "source": [
    "# Temporal Views\n",
    "## Overview\n",
    "Visualize trends over time.\n",
    "## Basics\n",
    "Two variations of temporal visualizations are provided -- linear time and periodic time.  Both are similar in parameters and execution.\n",
    "The only required parameter is the dataframe.  Commonly used parameters include:\n",
    "- ts_field: field to use for a timestamp -- if not supplied, the library will make a best guess based on data types.\n",
    "- count_by: field to aggregate for the barchart height -- 'None' indicates to count by rows.\n",
    "- color_by:  field for coloring\n",
    "## Timestamp Field\n",
    "The timestamp field should be typed into a datetime64 (or equivalent field) to use pandas features for transforming and formatting timestamps."
   ]
  },
  {
   "cell_type": "code",
   "execution_count": null,
   "metadata": {},
   "outputs": [],
   "source": [
    "import pandas as pd\n",
    "import numpy as np\n",
    "from rtsvg import *\n",
    "rt = RACETrack()\n",
    "\n",
    "df = pd.DataFrame({'date': ['2021-01-01', '2021-02-01', '2021-03-01'],\n",
    "                   'count':[10,           20,           5],\n",
    "                   'color':['red',        'green',      'blue']})\n",
    "df['date'] = df['date'].astype('datetime64[s]')\n",
    "rt.tile([rt.temporalBarChart(df),\n",
    "         rt.temporalBarChart(df,count_by='count'),\n",
    "         rt.temporalBarChart(df,count_by='count',color_by='color')],horz=False)"
   ]
  },
  {
   "cell_type": "markdown",
   "metadata": {},
   "source": [
    "'<svg width=\"512.0\" height=\"384.0\" x=\"0\" y=\"0\"><svg id=\"temporalbarchart_64048\" x=\"0.0\"  y=\"0.0\"  width=\"512\" height=\"128\" xmlns=\"http://www.w3.org/2000/svg\"><rect width=\"511\" height=\"127\" x=\"0\" y=\"0\" fill=\"#ffffff\" fill-opacity=\"(1.0,)\" stroke=\"#ffffff\" stroke-opacity=\"(1.0,)\" /><line x1=\"20\" y1=\"3\" x2=\"20\" y2=\"110\" stroke=\"#909090\" stroke_width=\"0.5\" /><text x=\"22\" y=\"16\" font-family=\"Times\" fill=\"#808080\" font-size=\"9.0px\">2021</text><line x1=\"183.0\" y1=\"3\" x2=\"183.0\" y2=\"8\" stroke=\"#c0c0c0\" stroke_width=\"0.5\" /><line x1=\"346.0\" y1=\"3\" x2=\"346.0\" y2=\"8\" stroke=\"#c0c0c0\" stroke_width=\"0.5\" /><line x1=\"20\" y1=\"111\" x2=\"20\"            y2=\"3\" stroke=\"#101010\" stroke-width=\"1\" /><line x1=\"20\" y1=\"111\" x2=\"509\" y2=\"111\"          stroke=\"#101010\" stroke-width=\"1\" /><rect x=\"21.0\" y=\"4.0\" width=\"163.0\" height=\"106.0\" fill=\"#4988b6\" /><rect x=\"184.0\" y=\"4.0\" width=\"163.0\" height=\"106.0\" fill=\"#4988b6\" /><rect x=\"347.0\" y=\"4.0\" width=\"163.0\" height=\"106.0\" fill=\"#4988b6\" /><text x=\"20\" text-anchor=\"start\" y=\"125\" font-family=\"Times\" fill=\"#000000\" font-size=\"14px\">2021-01</text><text x=\"509\" text-anchor=\"end\" y=\"125\" font-family=\"Times\" fill=\"#000000\" font-size=\"14px\">2021-03</text><text x=\"264.5\" text-anchor=\"middle\" y=\"125\" font-family=\"Times\" fill=\"#000000\" font-size=\"14px\">Months</text><text x=\"17\" text-anchor=\"end\" y=\"3\" font-family=\"Times\" fill=\"#000000\" font-size=\"14px\" transform=\"rotate(-90,17,3)\">1</text><text x=\"17\" text-anchor=\"start\" y=\"109\" font-family=\"Times\" fill=\"#000000\" font-size=\"14px\" transform=\"rotate(-90,17,109)\">rows</text><rect width=\"511\" height=\"127\" x=\"0\" y=\"0\" fill-opacity=\"0.0\" stroke=\"#000000\" /></svg><svg id=\"temporalbarchart_60082\" x=\"0.0\"  y=\"128.0\"  width=\"512\" height=\"128\" xmlns=\"http://www.w3.org/2000/svg\"><rect width=\"511\" height=\"127\" x=\"0\" y=\"0\" fill=\"#ffffff\" fill-opacity=\"(1.0,)\" stroke=\"#ffffff\" stroke-opacity=\"(1.0,)\" /><line x1=\"20\" y1=\"3\" x2=\"20\" y2=\"110\" stroke=\"#909090\" stroke_width=\"0.5\" /><text x=\"22\" y=\"16\" font-family=\"Times\" fill=\"#808080\" font-size=\"9.0px\">2021</text><line x1=\"183.0\" y1=\"3\" x2=\"183.0\" y2=\"8\" stroke=\"#c0c0c0\" stroke_width=\"0.5\" /><line x1=\"346.0\" y1=\"3\" x2=\"346.0\" y2=\"8\" stroke=\"#c0c0c0\" stroke_width=\"0.5\" /><line x1=\"20\" y1=\"111\" x2=\"20\"            y2=\"3\" stroke=\"#101010\" stroke-width=\"1\" /><line x1=\"20\" y1=\"111\" x2=\"509\" y2=\"111\"          stroke=\"#101010\" stroke-width=\"1\" /><rect x=\"21.0\" y=\"57.0\" width=\"163.0\" height=\"53.0\" fill=\"#4988b6\" /><rect x=\"184.0\" y=\"4.0\" width=\"163.0\" height=\"106.0\" fill=\"#4988b6\" /><rect x=\"347.0\" y=\"83.5\" width=\"163.0\" height=\"26.5\" fill=\"#4988b6\" /><text x=\"20\" text-anchor=\"start\" y=\"125\" font-family=\"Times\" fill=\"#000000\" font-size=\"14px\">2021-01</text><text x=\"509\" text-anchor=\"end\" y=\"125\" font-family=\"Times\" fill=\"#000000\" font-size=\"14px\">2021-03</text><text x=\"264.5\" text-anchor=\"middle\" y=\"125\" font-family=\"Times\" fill=\"#000000\" font-size=\"14px\">Months</text><text x=\"17\" text-anchor=\"end\" y=\"3\" font-family=\"Times\" fill=\"#000000\" font-size=\"14px\" transform=\"rotate(-90,17,3)\">20</text><text x=\"17\" text-anchor=\"start\" y=\"109\" font-family=\"Times\" fill=\"#000000\" font-size=\"14px\" transform=\"rotate(-90,17,109)\">count</text><rect width=\"511\" height=\"127\" x=\"0\" y=\"0\" fill-opacity=\"0.0\" stroke=\"#000000\" /></svg><svg id=\"temporalbarchart_16081\" x=\"0.0\"  y=\"256.0\"  width=\"512\" height=\"128\" xmlns=\"http://www.w3.org/2000/svg\"><rect width=\"511\" height=\"127\" x=\"0\" y=\"0\" fill=\"#ffffff\" fill-opacity=\"(1.0,)\" stroke=\"#ffffff\" stroke-opacity=\"(1.0,)\" /><line x1=\"20\" y1=\"3\" x2=\"20\" y2=\"110\" stroke=\"#909090\" stroke_width=\"0.5\" /><text x=\"22\" y=\"16\" font-family=\"Times\" fill=\"#808080\" font-size=\"9.0px\">2021</text><line x1=\"183.0\" y1=\"3\" x2=\"183.0\" y2=\"8\" stroke=\"#c0c0c0\" stroke_width=\"0.5\" /><line x1=\"346.0\" y1=\"3\" x2=\"346.0\" y2=\"8\" stroke=\"#c0c0c0\" stroke_width=\"0.5\" /><line x1=\"20\" y1=\"111\" x2=\"20\"            y2=\"3\" stroke=\"#101010\" stroke-width=\"1\" /><line x1=\"20\" y1=\"111\" x2=\"509\" y2=\"111\"          stroke=\"#101010\" stroke-width=\"1\" /><rect x=\"21.0\" y=\"57.0\" width=\"163.0\" height=\"53.0\" fill=\"#4988b6\" /><rect x=\"21.0\" y=\"57.0\" width=\"163.0\" height=\"53.0\" fill=\"#ff0000\" /><rect x=\"184.0\" y=\"4.0\" width=\"163.0\" height=\"106.0\" fill=\"#4988b6\" /><rect x=\"184.0\" y=\"4.0\" width=\"163.0\" height=\"106.0\" fill=\"#00ff00\" /><rect x=\"347.0\" y=\"83.5\" width=\"163.0\" height=\"26.5\" fill=\"#4988b6\" /><rect x=\"347.0\" y=\"83.5\" width=\"163.0\" height=\"26.5\" fill=\"#0000ff\" /><text x=\"20\" text-anchor=\"start\" y=\"125\" font-family=\"Times\" fill=\"#000000\" font-size=\"14px\">2021-01</text><text x=\"509\" text-anchor=\"end\" y=\"125\" font-family=\"Times\" fill=\"#000000\" font-size=\"14px\">2021-03</text><text x=\"264.5\" text-anchor=\"middle\" y=\"125\" font-family=\"Times\" fill=\"#000000\" font-size=\"14px\">Months</text><text x=\"17\" text-anchor=\"end\" y=\"3\" font-family=\"Times\" fill=\"#000000\" font-size=\"14px\" transform=\"rotate(-90,17,3)\">20</text><text x=\"17\" text-anchor=\"start\" y=\"109\" font-family=\"Times\" fill=\"#000000\" font-size=\"14px\" transform=\"rotate(-90,17,109)\">count</text><rect width=\"511\" height=\"127\" x=\"0\" y=\"0\" fill-opacity=\"0.0\" stroke=\"#000000\" /></svg></svg>'"
   ]
  },
  {
   "cell_type": "markdown",
   "metadata": {},
   "source": [
    "## Temporal Granularity\n",
    "To produce accurate representations of the timestamp information, the library will calculate the granularity of the dataframe provided.  In simple terms, this means that the library won't attempt to render too many details if the timestamp data is at a lower granularity.  For example, if yearly data is provided, the library will render bars at the yearly level (and not, for example, at the daily level).  This calculation isn't cheap and the granularity can be supplied as the \"temporal_granularity\" parameter.\n",
    "\n",
    "To precalculate the parameter (for multiple renderings), use the \"temporalGranularity()\" method."
   ]
  },
  {
   "cell_type": "code",
   "execution_count": null,
   "metadata": {},
   "outputs": [],
   "source": [
    "params = {'df':df, 'count_by':'count', 'color_by':'color'}\n",
    "rt.tile([rt.temporalBarChart(temporal_granularity='m', **params),\n",
    "         rt.temporalBarChart(temporal_granularity='d', **params),\n",
    "         rt.temporalBarChart(temporal_granularity='y', **params)],horz=False)"
   ]
  },
  {
   "cell_type": "markdown",
   "metadata": {},
   "source": [
    "'<svg width=\"512.0\" height=\"384.0\" x=\"0\" y=\"0\"><svg id=\"temporalbarchart_20832\" x=\"0.0\"  y=\"0.0\"  width=\"512\" height=\"128\" xmlns=\"http://www.w3.org/2000/svg\"><rect width=\"511\" height=\"127\" x=\"0\" y=\"0\" fill=\"#ffffff\" fill-opacity=\"(1.0,)\" stroke=\"#ffffff\" stroke-opacity=\"(1.0,)\" /><line x1=\"20\" y1=\"3\" x2=\"20\" y2=\"110\" stroke=\"#909090\" stroke_width=\"0.5\" /><text x=\"22\" y=\"16\" font-family=\"Times\" fill=\"#808080\" font-size=\"9.0px\">2021</text><line x1=\"183.0\" y1=\"3\" x2=\"183.0\" y2=\"8\" stroke=\"#c0c0c0\" stroke_width=\"0.5\" /><line x1=\"346.0\" y1=\"3\" x2=\"346.0\" y2=\"8\" stroke=\"#c0c0c0\" stroke_width=\"0.5\" /><line x1=\"20\" y1=\"111\" x2=\"20\"            y2=\"3\" stroke=\"#101010\" stroke-width=\"1\" /><line x1=\"20\" y1=\"111\" x2=\"509\" y2=\"111\"          stroke=\"#101010\" stroke-width=\"1\" /><rect x=\"21.0\" y=\"57.0\" width=\"163.0\" height=\"53.0\" fill=\"#4988b6\" /><rect x=\"21.0\" y=\"57.0\" width=\"163.0\" height=\"53.0\" fill=\"#ff0000\" /><rect x=\"184.0\" y=\"4.0\" width=\"163.0\" height=\"106.0\" fill=\"#4988b6\" /><rect x=\"184.0\" y=\"4.0\" width=\"163.0\" height=\"106.0\" fill=\"#00ff00\" /><rect x=\"347.0\" y=\"83.5\" width=\"163.0\" height=\"26.5\" fill=\"#4988b6\" /><rect x=\"347.0\" y=\"83.5\" width=\"163.0\" height=\"26.5\" fill=\"#0000ff\" /><text x=\"20\" text-anchor=\"start\" y=\"125\" font-family=\"Times\" fill=\"#000000\" font-size=\"14px\">2021-01</text><text x=\"509\" text-anchor=\"end\" y=\"125\" font-family=\"Times\" fill=\"#000000\" font-size=\"14px\">2021-03</text><text x=\"264.5\" text-anchor=\"middle\" y=\"125\" font-family=\"Times\" fill=\"#000000\" font-size=\"14px\">Months</text><text x=\"17\" text-anchor=\"end\" y=\"3\" font-family=\"Times\" fill=\"#000000\" font-size=\"14px\" transform=\"rotate(-90,17,3)\">20</text><text x=\"17\" text-anchor=\"start\" y=\"109\" font-family=\"Times\" fill=\"#000000\" font-size=\"14px\" transform=\"rotate(-90,17,109)\">count</text><rect width=\"511\" height=\"127\" x=\"0\" y=\"0\" fill-opacity=\"0.0\" stroke=\"#000000\" /></svg><svg id=\"temporalbarchart_38460\" x=\"0.0\"  y=\"128.0\"  width=\"512\" height=\"128\" xmlns=\"http://www.w3.org/2000/svg\"><rect width=\"511\" height=\"127\" x=\"0\" y=\"0\" fill=\"#ffffff\" fill-opacity=\"(1.0,)\" stroke=\"#ffffff\" stroke-opacity=\"(1.0,)\" /><line x1=\"20\" y1=\"3\" x2=\"20\" y2=\"110\" stroke=\"#909090\" stroke_width=\"0.5\" /><text x=\"22\" y=\"16\" font-family=\"Times\" fill=\"#808080\" font-size=\"9.0px\">01/01</text><line x1=\"28.15\" y1=\"3\" x2=\"28.15\" y2=\"8\" stroke=\"#c0c0c0\" stroke_width=\"0.5\" /><line x1=\"36.3\" y1=\"3\" x2=\"36.3\" y2=\"8\" stroke=\"#c0c0c0\" stroke_width=\"0.5\" /><line x1=\"44.449999999999996\" y1=\"3\" x2=\"44.449999999999996\" y2=\"8\" stroke=\"#c0c0c0\" stroke_width=\"0.5\" /><line x1=\"52.599999999999994\" y1=\"3\" x2=\"52.599999999999994\" y2=\"8\" stroke=\"#c0c0c0\" stroke_width=\"0.5\" /><line x1=\"60.74999999999999\" y1=\"3\" x2=\"60.74999999999999\" y2=\"8\" stroke=\"#c0c0c0\" stroke_width=\"0.5\" /><line x1=\"68.89999999999999\" y1=\"3\" x2=\"68.89999999999999\" y2=\"8\" stroke=\"#c0c0c0\" stroke_width=\"0.5\" /><line x1=\"77.05\" y1=\"3\" x2=\"77.05\" y2=\"8\" stroke=\"#c0c0c0\" stroke_width=\"0.5\" /><line x1=\"85.2\" y1=\"3\" x2=\"85.2\" y2=\"8\" stroke=\"#c0c0c0\" stroke_width=\"0.5\" /><line x1=\"93.35000000000001\" y1=\"3\" x2=\"93.35000000000001\" y2=\"8\" stroke=\"#c0c0c0\" stroke_width=\"0.5\" /><line x1=\"101.50000000000001\" y1=\"3\" x2=\"101.50000000000001\" y2=\"8\" stroke=\"#c0c0c0\" stroke_width=\"0.5\" /><line x1=\"109.65000000000002\" y1=\"3\" x2=\"109.65000000000002\" y2=\"8\" stroke=\"#c0c0c0\" stroke_width=\"0.5\" /><line x1=\"117.80000000000003\" y1=\"3\" x2=\"117.80000000000003\" y2=\"8\" stroke=\"#c0c0c0\" stroke_width=\"0.5\" /><line x1=\"125.95000000000003\" y1=\"3\" x2=\"125.95000000000003\" y2=\"8\" stroke=\"#c0c0c0\" stroke_width=\"0.5\" /><line x1=\"134.10000000000002\" y1=\"3\" x2=\"134.10000000000002\" y2=\"110\" stroke=\"#909090\" stroke_width=\"0.5\" /><text x=\"136.10000000000002\" y=\"16\" font-family=\"Times\" fill=\"#808080\" font-size=\"9.0px\">01/15</text><line x1=\"142.25000000000003\" y1=\"3\" x2=\"142.25000000000003\" y2=\"8\" stroke=\"#c0c0c0\" stroke_width=\"0.5\" /><line x1=\"150.40000000000003\" y1=\"3\" x2=\"150.40000000000003\" y2=\"8\" stroke=\"#c0c0c0\" stroke_width=\"0.5\" /><line x1=\"158.55000000000004\" y1=\"3\" x2=\"158.55000000000004\" y2=\"8\" stroke=\"#c0c0c0\" stroke_width=\"0.5\" /><line x1=\"166.70000000000005\" y1=\"3\" x2=\"166.70000000000005\" y2=\"8\" stroke=\"#c0c0c0\" stroke_width=\"0.5\" /><line x1=\"174.85000000000005\" y1=\"3\" x2=\"174.85000000000005\" y2=\"8\" stroke=\"#c0c0c0\" stroke_width=\"0.5\" /><line x1=\"183.00000000000006\" y1=\"3\" x2=\"183.00000000000006\" y2=\"8\" stroke=\"#c0c0c0\" stroke_width=\"0.5\" /><line x1=\"191.15000000000006\" y1=\"3\" x2=\"191.15000000000006\" y2=\"8\" stroke=\"#c0c0c0\" stroke_width=\"0.5\" /><line x1=\"199.30000000000007\" y1=\"3\" x2=\"199.30000000000007\" y2=\"8\" stroke=\"#c0c0c0\" stroke_width=\"0.5\" /><line x1=\"207.45000000000007\" y1=\"3\" x2=\"207.45000000000007\" y2=\"8\" stroke=\"#c0c0c0\" stroke_width=\"0.5\" /><line x1=\"215.60000000000008\" y1=\"3\" x2=\"215.60000000000008\" y2=\"8\" stroke=\"#c0c0c0\" stroke_width=\"0.5\" /><line x1=\"223.75000000000009\" y1=\"3\" x2=\"223.75000000000009\" y2=\"8\" stroke=\"#c0c0c0\" stroke_width=\"0.5\" /><line x1=\"231.9000000000001\" y1=\"3\" x2=\"231.9000000000001\" y2=\"8\" stroke=\"#c0c0c0\" stroke_width=\"0.5\" /><line x1=\"240.0500000000001\" y1=\"3\" x2=\"240.0500000000001\" y2=\"8\" stroke=\"#c0c0c0\" stroke_width=\"0.5\" /><line x1=\"248.2000000000001\" y1=\"3\" x2=\"248.2000000000001\" y2=\"8\" stroke=\"#c0c0c0\" stroke_width=\"0.5\" /><line x1=\"256.3500000000001\" y1=\"3\" x2=\"256.3500000000001\" y2=\"8\" stroke=\"#c0c0c0\" stroke_width=\"0.5\" /><line x1=\"264.50000000000006\" y1=\"3\" x2=\"264.50000000000006\" y2=\"8\" stroke=\"#c0c0c0\" stroke_width=\"0.5\" /><line x1=\"272.65000000000003\" y1=\"3\" x2=\"272.65000000000003\" y2=\"110\" stroke=\"#909090\" stroke_width=\"0.5\" /><text x=\"274.65000000000003\" y=\"16\" font-family=\"Times\" fill=\"#808080\" font-size=\"9.0px\">02/01</text><line x1=\"280.8\" y1=\"3\" x2=\"280.8\" y2=\"8\" stroke=\"#c0c0c0\" stroke_width=\"0.5\" /><line x1=\"288.95\" y1=\"3\" x2=\"288.95\" y2=\"8\" stroke=\"#c0c0c0\" stroke_width=\"0.5\" /><line x1=\"297.09999999999997\" y1=\"3\" x2=\"297.09999999999997\" y2=\"8\" stroke=\"#c0c0c0\" stroke_width=\"0.5\" /><line x1=\"305.24999999999994\" y1=\"3\" x2=\"305.24999999999994\" y2=\"8\" stroke=\"#c0c0c0\" stroke_width=\"0.5\" /><line x1=\"313.3999999999999\" y1=\"3\" x2=\"313.3999999999999\" y2=\"8\" stroke=\"#c0c0c0\" stroke_width=\"0.5\" /><line x1=\"321.5499999999999\" y1=\"3\" x2=\"321.5499999999999\" y2=\"8\" stroke=\"#c0c0c0\" stroke_width=\"0.5\" /><line x1=\"329.6999999999999\" y1=\"3\" x2=\"329.6999999999999\" y2=\"8\" stroke=\"#c0c0c0\" stroke_width=\"0.5\" /><line x1=\"337.84999999999985\" y1=\"3\" x2=\"337.84999999999985\" y2=\"8\" stroke=\"#c0c0c0\" stroke_width=\"0.5\" /><line x1=\"345.99999999999983\" y1=\"3\" x2=\"345.99999999999983\" y2=\"8\" stroke=\"#c0c0c0\" stroke_width=\"0.5\" /><line x1=\"354.1499999999998\" y1=\"3\" x2=\"354.1499999999998\" y2=\"8\" stroke=\"#c0c0c0\" stroke_width=\"0.5\" /><line x1=\"362.2999999999998\" y1=\"3\" x2=\"362.2999999999998\" y2=\"8\" stroke=\"#c0c0c0\" stroke_width=\"0.5\" /><line x1=\"370.44999999999976\" y1=\"3\" x2=\"370.44999999999976\" y2=\"8\" stroke=\"#c0c0c0\" stroke_width=\"0.5\" /><line x1=\"378.59999999999974\" y1=\"3\" x2=\"378.59999999999974\" y2=\"8\" stroke=\"#c0c0c0\" stroke_width=\"0.5\" /><line x1=\"386.7499999999997\" y1=\"3\" x2=\"386.7499999999997\" y2=\"110\" stroke=\"#909090\" stroke_width=\"0.5\" /><text x=\"388.7499999999997\" y=\"16\" font-family=\"Times\" fill=\"#808080\" font-size=\"9.0px\">02/15</text><line x1=\"394.8999999999997\" y1=\"3\" x2=\"394.8999999999997\" y2=\"8\" stroke=\"#c0c0c0\" stroke_width=\"0.5\" /><line x1=\"403.04999999999967\" y1=\"3\" x2=\"403.04999999999967\" y2=\"8\" stroke=\"#c0c0c0\" stroke_width=\"0.5\" /><line x1=\"411.19999999999965\" y1=\"3\" x2=\"411.19999999999965\" y2=\"8\" stroke=\"#c0c0c0\" stroke_width=\"0.5\" /><line x1=\"419.3499999999996\" y1=\"3\" x2=\"419.3499999999996\" y2=\"8\" stroke=\"#c0c0c0\" stroke_width=\"0.5\" /><line x1=\"427.4999999999996\" y1=\"3\" x2=\"427.4999999999996\" y2=\"8\" stroke=\"#c0c0c0\" stroke_width=\"0.5\" /><line x1=\"435.6499999999996\" y1=\"3\" x2=\"435.6499999999996\" y2=\"8\" stroke=\"#c0c0c0\" stroke_width=\"0.5\" /><line x1=\"443.79999999999956\" y1=\"3\" x2=\"443.79999999999956\" y2=\"8\" stroke=\"#c0c0c0\" stroke_width=\"0.5\" /><line x1=\"451.94999999999953\" y1=\"3\" x2=\"451.94999999999953\" y2=\"8\" stroke=\"#c0c0c0\" stroke_width=\"0.5\" /><line x1=\"460.0999999999995\" y1=\"3\" x2=\"460.0999999999995\" y2=\"8\" stroke=\"#c0c0c0\" stroke_width=\"0.5\" /><line x1=\"468.2499999999995\" y1=\"3\" x2=\"468.2499999999995\" y2=\"8\" stroke=\"#c0c0c0\" stroke_width=\"0.5\" /><line x1=\"476.39999999999947\" y1=\"3\" x2=\"476.39999999999947\" y2=\"8\" stroke=\"#c0c0c0\" stroke_width=\"0.5\" /><line x1=\"484.54999999999944\" y1=\"3\" x2=\"484.54999999999944\" y2=\"8\" stroke=\"#c0c0c0\" stroke_width=\"0.5\" /><line x1=\"492.6999999999994\" y1=\"3\" x2=\"492.6999999999994\" y2=\"8\" stroke=\"#c0c0c0\" stroke_width=\"0.5\" /><line x1=\"500.8499999999994\" y1=\"3\" x2=\"500.8499999999994\" y2=\"110\" stroke=\"#909090\" stroke_width=\"0.5\" /><text x=\"502.8499999999994\" y=\"16\" font-family=\"Times\" fill=\"#808080\" font-size=\"9.0px\">03/01</text><line x1=\"20\" y1=\"111\" x2=\"20\"            y2=\"3\" stroke=\"#101010\" stroke-width=\"1\" /><line x1=\"20\" y1=\"111\" x2=\"509\" y2=\"111\"          stroke=\"#101010\" stroke-width=\"1\" /><rect x=\"21.0\" y=\"57.0\" width=\"8.15\" height=\"53.0\" fill=\"#4988b6\" /><rect x=\"21.0\" y=\"57.0\" width=\"8.15\" height=\"53.0\" fill=\"#ff0000\" /><rect x=\"273.65\" y=\"4.0\" width=\"8.15\" height=\"106.0\" fill=\"#4988b6\" /><rect x=\"273.65\" y=\"4.0\" width=\"8.15\" height=\"106.0\" fill=\"#00ff00\" /><rect x=\"501.85\" y=\"83.5\" width=\"8.15\" height=\"26.5\" fill=\"#4988b6\" /><rect x=\"501.85\" y=\"83.5\" width=\"8.15\" height=\"26.5\" fill=\"#0000ff\" /><text x=\"20\" text-anchor=\"start\" y=\"125\" font-family=\"Times\" fill=\"#000000\" font-size=\"14px\">2021-01-01</text><text x=\"509\" text-anchor=\"end\" y=\"125\" font-family=\"Times\" fill=\"#000000\" font-size=\"14px\">2021-03-01</text><text x=\"264.5\" text-anchor=\"middle\" y=\"125\" font-family=\"Times\" fill=\"#000000\" font-size=\"14px\">Days</text><text x=\"17\" text-anchor=\"end\" y=\"3\" font-family=\"Times\" fill=\"#000000\" font-size=\"14px\" transform=\"rotate(-90,17,3)\">20</text><text x=\"17\" text-anchor=\"start\" y=\"109\" font-family=\"Times\" fill=\"#000000\" font-size=\"14px\" transform=\"rotate(-90,17,109)\">count</text><rect width=\"511\" height=\"127\" x=\"0\" y=\"0\" fill-opacity=\"0.0\" stroke=\"#000000\" /></svg><svg id=\"temporalbarchart_31361\" x=\"0.0\"  y=\"256.0\"  width=\"512\" height=\"128\" xmlns=\"http://www.w3.org/2000/svg\"><rect width=\"511\" height=\"127\" x=\"0\" y=\"0\" fill=\"#ffffff\" fill-opacity=\"(1.0,)\" stroke=\"#ffffff\" stroke-opacity=\"(1.0,)\" /><line x1=\"20\" y1=\"3\" x2=\"20\" y2=\"8\" stroke=\"#c0c0c0\" stroke_width=\"0.5\" /><line x1=\"20\" y1=\"111\" x2=\"20\"            y2=\"3\" stroke=\"#101010\" stroke-width=\"1\" /><line x1=\"20\" y1=\"111\" x2=\"509\" y2=\"111\"          stroke=\"#101010\" stroke-width=\"1\" /><rect x=\"21.0\" y=\"4.0\" width=\"489.0\" height=\"106.0\" fill=\"#4988b6\" /><rect x=\"21.0\" y=\"49.42857142857143\" width=\"489.0\" height=\"60.57142857142857\" fill=\"#00ff00\" /><rect x=\"21.0\" y=\"19.142857142857146\" width=\"489.0\" height=\"30.285714285714285\" fill=\"#ff0000\" /><rect x=\"21.0\" y=\"4.0000000000000036\" width=\"489.0\" height=\"15.142857142857142\" fill=\"#0000ff\" /><text x=\"20\" text-anchor=\"start\" y=\"125\" font-family=\"Times\" fill=\"#000000\" font-size=\"14px\">2021</text><text x=\"509\" text-anchor=\"end\" y=\"125\" font-family=\"Times\" fill=\"#000000\" font-size=\"14px\">2021</text><text x=\"264.5\" text-anchor=\"middle\" y=\"125\" font-family=\"Times\" fill=\"#000000\" font-size=\"14px\">Years</text><text x=\"17\" text-anchor=\"end\" y=\"3\" font-family=\"Times\" fill=\"#000000\" font-size=\"14px\" transform=\"rotate(-90,17,3)\">35</text><text x=\"17\" text-anchor=\"start\" y=\"109\" font-family=\"Times\" fill=\"#000000\" font-size=\"14px\" transform=\"rotate(-90,17,109)\">count</text><rect width=\"511\" height=\"127\" x=\"0\" y=\"0\" fill-opacity=\"0.0\" stroke=\"#000000\" /></svg></svg>'"
   ]
  },
  {
   "cell_type": "markdown",
   "metadata": {},
   "source": [
    "## Style\n",
    "By default, the style provided is a barchart.  Two additional styles -- both variations of a boxplot -- are provided for numerical data.  Note that the going in assumption for boxplots are that the data is distributed normally...  if the data is not normally distributed, you may have red marks denoting values falling outside of the expected mins and maxes."
   ]
  },
  {
   "cell_type": "code",
   "execution_count": null,
   "metadata": {},
   "outputs": [],
   "source": [
    "dates, counts = [],[]\n",
    "x = np.random.normal(loc=5, scale=5, size=200)\n",
    "counts.extend(x)\n",
    "while len(dates) < len(counts):\n",
    "    dates.append('2021-02-15')\n",
    "y = np.random.normal(loc=8, scale=7, size=1000)\n",
    "counts.extend(y)\n",
    "while len(dates) < len(counts):\n",
    "    dates.append('2021-02-16')\n",
    "z = np.random.normal(loc=2, scale=1, size=50)\n",
    "counts.extend(z)\n",
    "while len(dates) < len(counts):\n",
    "    dates.append('2021-02-17')\n",
    "df2 = pd.DataFrame({'date':dates, 'count':counts})\n",
    "df2['date'] = df2['date'].astype('datetime64[s]')\n",
    "params = {'df':df2, 'count_by':'count'}\n",
    "rt.tile([rt.temporalBarChart(style='barchart',        **params),\n",
    "         rt.temporalBarChart(style='boxplot',         **params),\n",
    "         rt.temporalBarChart(style='boxplot_w_swarm', **params)],horz=False)"
   ]
  },
  {
   "cell_type": "markdown",
   "metadata": {},
   "source": [
    "## Periodic Times\n",
    "The \"periodicBarChart\" is almost an exact drop in for the \"temporalBarChart\" method.  The key additional parameter is \"time_period\" and can have one of the following values:\n",
    "- quarter\n",
    "- month\n",
    "- day_of_month\n",
    "- day_of_week\n",
    "- day_of_week_hour\n",
    "- hour\n",
    "- minute\n",
    "- second\n",
    "\n",
    "The only missing functionality is a secondary dataframe for a line chart (not covered in this how-to)."
   ]
  },
  {
   "cell_type": "code",
   "execution_count": null,
   "metadata": {},
   "outputs": [],
   "source": []
  }
 ],
 "metadata": {
  "kernelspec": {
   "display_name": "Python 3",
   "language": "python",
   "name": "python3"
  },
  "language_info": {
   "codemirror_mode": {
    "name": "ipython",
    "version": 3
   },
   "file_extension": ".py",
   "mimetype": "text/x-python",
   "name": "python",
   "nbconvert_exporter": "python",
   "pygments_lexer": "ipython3",
   "version": "3.12.3"
  },
  "orig_nbformat": 4
 },
 "nbformat": 4,
 "nbformat_minor": 2
}
