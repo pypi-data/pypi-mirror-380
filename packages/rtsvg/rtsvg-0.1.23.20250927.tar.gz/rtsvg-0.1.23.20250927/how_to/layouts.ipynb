{
 "cells": [
  {
   "attachments": {},
   "cell_type": "markdown",
   "metadata": {},
   "source": [
    "# Layouts\n",
    "## Overview\n",
    "Two different formats have been implemented to place multiple components into a single view or panel.\n",
    "\n",
    "## Commonalities\n",
    "Both formats are specified as a dictionary of placement keys followed by a value that describes the component to be rendered.  The components are specified as a tuple with the first tuple index specifying the component type while the second is a dictionary that lists component-specific paramters.\n",
    "\n",
    "Here are several examples of the component-specification tuple:\n",
    "- ('temporalBarChart',{})\n",
    "- ('xy',{'x_field':'my_x_value','y_field':'my_y_value'})\n",
    "- ('pieChart',{})\n",
    "- ('histogram',{'bin_by':'my_binning_field'})\n",
    "\n",
    "## Placement / Grid Layout\n",
    "In this mode, you specify a tuple for an x and y grid component followed by the width and height in tiles.  Upon rendering, the algorithm divides the total space by the total number of tiles (both horizontally and vertically).\n",
    "\n",
    "As an example, here is a specification for this mode:\n",
    "\n",
    "`{(0,0,4,4):('xy',{'x_field':'x', 'y_field':'y'}),`\n",
    "\n",
    "` (0,4,4,2):('temporalBarChart',{}),`\n",
    "\n",
    "` (4,0,2,6):('histogram',{'bin_by':'bins})}`\n",
    "\n",
    "## Placement / Java AWT Layout\n",
    "This mode resembles placement specifications like those that occur in Java AWT-styled applications.  It is hierarchical with children separated by a pipe ('|') in a string format.  Several different layout configurations are possible -- here are the specifics:\n",
    "- Border Layout -- specified by a single character: (c)enter, (n)orth, (e)ast, (w)est, and (s)outh\n",
    "- Flow Layout -- vertical flow is specified by a single number while horizontal flow is specified by negative numbers\n",
    "- Grid Layout - specified by a comma separated coordinate pair\n",
    "\n",
    "As an example, here is a specification for this mode:\n",
    "\n",
    "`{'n|-1': ('histogram', {'bin_by':'bins'}),`\n",
    "\n",
    "` 'n|-2': ('histogram', {'bin_by':'colors'}),`\n",
    "\n",
    "` 'c': ('xy', {'x_field':'x', 'y_field':'y'}),`\n",
    "\n",
    "` 's': ('temporalBarChart, {}) }`"
   ]
  },
  {
   "attachments": {},
   "cell_type": "markdown",
   "metadata": {},
   "source": []
  }
 ],
 "metadata": {
  "language_info": {
   "name": "python"
  },
  "orig_nbformat": 4
 },
 "nbformat": 4,
 "nbformat_minor": 2
}
