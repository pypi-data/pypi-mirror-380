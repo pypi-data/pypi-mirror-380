{
 "cells": [
  {
   "attachments": {},
   "cell_type": "markdown",
   "metadata": {},
   "source": [
    "# Scatter Plots (Comparisons)\n",
    "\"Aren't all visualizations just scatterplots?\"\n",
    "\n",
    "Demonstrates scatterplots from a number of popular Python packages."
   ]
  },
  {
   "cell_type": "code",
   "execution_count": null,
   "metadata": {},
   "outputs": [],
   "source": [
    "import pandas as pd\n",
    "import numpy as np\n",
    "import matplotlib.pyplot as plt\n",
    "import seaborn as sns\n",
    "from plotnine import *\n",
    "from rtsvg import *\n",
    "\n",
    "rt = RACETrack()\n",
    "%matplotlib inline"
   ]
  },
  {
   "attachments": {},
   "cell_type": "markdown",
   "metadata": {},
   "source": [
    "## RACETrack Scatterplot\n",
    "\n",
    "Includes example data creation..."
   ]
  },
  {
   "cell_type": "code",
   "execution_count": null,
   "metadata": {},
   "outputs": [],
   "source": [
    "# Create a simple dataset\n",
    "from math import cos,sin,pi\n",
    "_xs,_ys,_colors = [],[],[]\n",
    "_xyrs = [(10,10,8,'red'), (6,8,4,'blue'), (9,5,3,'green')]\n",
    "for _angle in range(360):\n",
    "    _rad = _angle*pi/180\n",
    "    for _xyr in _xyrs:\n",
    "        _x = _xyr[0] + _xyr[2] * cos(_rad)\n",
    "        _y = _xyr[1] + _xyr[2] * sin(_rad)\n",
    "        _xs.    append(_x)\n",
    "        _ys.    append(_y)\n",
    "        _colors.append(_xyr[3])\n",
    "\n",
    "# Turn into a dataframe and restrict the values\n",
    "df = pd.DataFrame({'x':_xs, 'y':_ys, 'color':_colors})\n",
    "df = df.query('x < 8 and y < 5')\n",
    "\n",
    "# Racetrack scatterplot\n",
    "rt.xy(df, x_field='x', y_field='y', color_by='color')"
   ]
  },
  {
   "attachments": {},
   "cell_type": "markdown",
   "metadata": {},
   "source": [
    "## Pandas Scatterplot"
   ]
  },
  {
   "cell_type": "code",
   "execution_count": null,
   "metadata": {},
   "outputs": [],
   "source": [
    "df.plot.scatter('x', 'y', c=df['color'], s=10)"
   ]
  },
  {
   "attachments": {},
   "cell_type": "markdown",
   "metadata": {},
   "source": [
    "## MatPlotLib\n",
    "\n",
    "\"Under the hood, pandas plots graphs with the matplotlib library.\"\n",
    "- https://jonathansoma.com/lede/algorithms-2017/classes/fuzziness-matplotlib/understand-df-plot-in-pandas/"
   ]
  },
  {
   "cell_type": "code",
   "execution_count": null,
   "metadata": {},
   "outputs": [],
   "source": [
    "plt.scatter(x=df['x'],y=df['y'],c=df['color'],s=10)"
   ]
  },
  {
   "attachments": {},
   "cell_type": "markdown",
   "metadata": {},
   "source": [
    "## Seaborn Scatterplot"
   ]
  },
  {
   "cell_type": "code",
   "execution_count": null,
   "metadata": {},
   "outputs": [],
   "source": [
    "_color_lu = {'red':(1,0,0),'blue':(0,0,1),'green':(0,1,0)}\n",
    "sns.scatterplot(df, x='x', y='y', hue=df['color'], palette=_color_lu)"
   ]
  },
  {
   "attachments": {},
   "cell_type": "markdown",
   "metadata": {},
   "source": [
    "## GGPlot Scatterplot (via PlotNine)"
   ]
  },
  {
   "cell_type": "code",
   "execution_count": null,
   "metadata": {},
   "outputs": [],
   "source": [
    "(\n",
    "    ggplot(df, aes(x='x', y='y', color='color'))\n",
    "    + geom_point()\n",
    "#   + geom_smooth(method='lowess')\n",
    ")"
   ]
  },
  {
   "cell_type": "code",
   "execution_count": null,
   "metadata": {},
   "outputs": [],
   "source": []
  }
 ],
 "metadata": {
  "kernelspec": {
   "display_name": "Python 3",
   "language": "python",
   "name": "python3"
  },
  "language_info": {
   "codemirror_mode": {
    "name": "ipython",
    "version": 3
   },
   "file_extension": ".py",
   "mimetype": "text/x-python",
   "name": "python",
   "nbconvert_exporter": "python",
   "pygments_lexer": "ipython3",
   "version": "3.12.3"
  },
  "orig_nbformat": 4
 },
 "nbformat": 4,
 "nbformat_minor": 2
}
