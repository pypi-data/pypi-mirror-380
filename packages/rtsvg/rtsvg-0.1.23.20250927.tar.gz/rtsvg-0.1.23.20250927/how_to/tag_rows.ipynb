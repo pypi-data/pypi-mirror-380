{
 "cells": [
  {
   "cell_type": "markdown",
   "metadata": {},
   "source": [
    "### Tagging Rows\n",
    "\n",
    "Examples of how to tag rows and manipulate tagging."
   ]
  },
  {
   "cell_type": "code",
   "execution_count": null,
   "metadata": {},
   "outputs": [],
   "source": [
    "import pandas as pd\n",
    "import polars as pl\n",
    "import numpy as np\n",
    "import random\n",
    "from rtsvg import *\n",
    "rt = RACETrack()"
   ]
  },
  {
   "cell_type": "markdown",
   "metadata": {},
   "source": [
    "### Pandas Versions"
   ]
  },
  {
   "cell_type": "code",
   "execution_count": null,
   "metadata": {},
   "outputs": [],
   "source": [
    "r = [random.random() for x in range(10)]\n",
    "df = pd.DataFrame({'x':r})\n",
    "df['tag'] = None\n",
    "\n",
    "#\n",
    "# Replacing a tag\n",
    "#\n",
    "t_or_f = (df.x >= 0.75)\n",
    "df.loc[t_or_f,'tag']        = 'gte 0.75'\n",
    "df.loc[(df.x < 0.5), 'tag'] = 'lt 0.50'\n",
    "\n",
    "df.sort_values('x')"
   ]
  },
  {
   "cell_type": "code",
   "execution_count": null,
   "metadata": {},
   "outputs": [],
   "source": [
    "#\n",
    "# Adding to a tag... deduplication occurs as well\n",
    "#\n",
    "def addToTag(orig, to_add):\n",
    "    if orig is None:\n",
    "        orig = ''\n",
    "    _set_ = set(orig.split('|'))\n",
    "    _set_.add(str(to_add))\n",
    "    _joined_ = '|'.join(sorted(list(_set_)))\n",
    "    if _joined_[0] == '|':\n",
    "        _joined_ = _joined_[1:]\n",
    "    return _joined_\n",
    "\n",
    "t_or_f = (df.x >= 0.5)\n",
    "df.loc[t_or_f, 'tag'] = df.loc[t_or_f, 'tag'].apply(lambda x: addToTag(x, 'gte 0.5'))\n",
    "t_or_f = (df.x < 0.75)\n",
    "df.loc[t_or_f, 'tag'] = df.loc[t_or_f, 'tag'].apply(lambda x: addToTag(x, 'lt 0.75'))\n",
    "t_or_f = (df.x < 0.8)\n",
    "df.loc[t_or_f, 'tag'] = df.loc[t_or_f, 'tag'].apply(lambda x: addToTag(x, 'lt 0.80'))\n",
    "\n",
    "df.sort_values('x')"
   ]
  },
  {
   "cell_type": "code",
   "execution_count": null,
   "metadata": {},
   "outputs": [],
   "source": [
    "#\n",
    "# Filtering to a tag (could be other tags... so looking for an exact match for the whole tag string)\n",
    "#\n",
    "def tagIsPresent(x,tag):\n",
    "    if x is None:\n",
    "        x = ''\n",
    "    _set_ = set(x.split('|'))\n",
    "    return tag in _set_\n",
    "\n",
    "df[df['tag'].apply(lambda x: tagIsPresent(x,'lt 0.75'))].sort_values('x')"
   ]
  },
  {
   "cell_type": "code",
   "execution_count": null,
   "metadata": {},
   "outputs": [],
   "source": [
    "#\n",
    "# What if we just have a subset dataframe?\n",
    "#\n",
    "df_sub = df.sort_values('x')[0:3]\n",
    "df_sub['tag'] = 'new'\n",
    "df.update(df_sub)\n",
    "df.sort_values('x')"
   ]
  },
  {
   "cell_type": "markdown",
   "metadata": {},
   "source": [
    "### Polars Versions"
   ]
  },
  {
   "cell_type": "code",
   "execution_count": null,
   "metadata": {},
   "outputs": [],
   "source": [
    "dfpl = pl.DataFrame(df).drop(['tag'])\n",
    "dfpl = dfpl.with_columns(pl.lit(None).alias('tag').cast(str))\n",
    "dfpl"
   ]
  },
  {
   "cell_type": "code",
   "execution_count": null,
   "metadata": {},
   "outputs": [],
   "source": [
    "#\n",
    "# Replacing a tag\n",
    "#\n",
    "dfpl = dfpl.with_columns(pl.when(pl.col(\"x\") >= 0.75).then(pl.lit('gte 0.75')).otherwise(pl.col('tag')).alias('tag'))\n",
    "dfpl = dfpl.with_columns(pl.when(pl.col(\"x\") <  0.50).then(pl.lit('lt 0.50')).otherwise(pl.col('tag')).alias('tag'))\n",
    "dfpl.sort('x')"
   ]
  },
  {
   "cell_type": "code",
   "execution_count": null,
   "metadata": {},
   "outputs": [],
   "source": [
    "#\n",
    "# Adding to a tag... deduplication occurs as well\n",
    "#\n",
    "_fn_ = lambda x: addToTag(x,'gte 0.5')\n",
    "dfpl = dfpl.with_columns(pl.when(pl.col('x') >= 0.5).then(pl.col('tag').map_elements(_fn_, skip_nulls=False)).otherwise(pl.col('tag')))\n",
    "_fn_ = lambda x: addToTag(x,'lt 0.75')\n",
    "dfpl = dfpl.with_columns(pl.when(pl.col('x') <  0.75).then(pl.col('tag').map_elements(_fn_, skip_nulls=False)).otherwise(pl.col('tag')))\n",
    "_fn_ = lambda x: addToTag(x,'lt 0.80')\n",
    "dfpl = dfpl.with_columns(pl.when(pl.col('x') <  0.80).then(pl.col('tag').map_elements(_fn_, skip_nulls=False)).otherwise(pl.col('tag')))\n",
    "dfpl.sort('x')"
   ]
  },
  {
   "cell_type": "code",
   "execution_count": null,
   "metadata": {},
   "outputs": [],
   "source": [
    "#\n",
    "# Filtering to a tag (could be other tags... so looking for an exact match for the whole tag string)\n",
    "#\n",
    "dfpl.filter(pl.col('tag').map_elements(lambda x: tagIsPresent(x,'lt 0.75'))).sort('x')"
   ]
  },
  {
   "cell_type": "code",
   "execution_count": null,
   "metadata": {},
   "outputs": [],
   "source": [
    "#\n",
    "# What if we just have a subset dataframe?\n",
    "# ... because polars doesn't have the notion of an index, the rows will need to\n",
    "#     be unique...\n",
    "#\n",
    "dfpl_sub = dfpl.filter(pl.col('x') < 0.3)\n",
    "dfpl_sub = dfpl_sub.with_columns(pl.lit('new').alias('tag'))\n",
    "dfpl = dfpl.update(dfpl_sub, on='x')\n",
    "dfpl.sort('x')"
   ]
  },
  {
   "cell_type": "code",
   "execution_count": null,
   "metadata": {},
   "outputs": [],
   "source": []
  }
 ],
 "metadata": {
  "kernelspec": {
   "display_name": ".venv",
   "language": "python",
   "name": "python3"
  },
  "language_info": {
   "codemirror_mode": {
    "name": "ipython",
    "version": 3
   },
   "file_extension": ".py",
   "mimetype": "text/x-python",
   "name": "python",
   "nbconvert_exporter": "python",
   "pygments_lexer": "ipython3",
   "version": "3.12.3"
  }
 },
 "nbformat": 4,
 "nbformat_minor": 2
}
