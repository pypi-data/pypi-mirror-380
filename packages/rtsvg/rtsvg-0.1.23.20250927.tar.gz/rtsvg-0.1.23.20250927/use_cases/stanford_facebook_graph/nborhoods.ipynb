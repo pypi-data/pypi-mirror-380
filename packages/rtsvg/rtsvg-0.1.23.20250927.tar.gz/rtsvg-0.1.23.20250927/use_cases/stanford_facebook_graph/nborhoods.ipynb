{
 "cells": [
  {
   "cell_type": "code",
   "execution_count": null,
   "metadata": {},
   "outputs": [],
   "source": [
    "import polars as pl\n",
    "import pandas as pd\n",
    "import numpy as np\n",
    "import networkx as nx\n",
    "import os\n",
    "from rtsvg import *\n",
    "rt = RACETrack()\n",
    "_base_network_ = '0'\n",
    "_base_dir_     = '../../../data/stanford/facebook/'\n",
    "_layout_file_  = _base_dir_ + _base_network_ + '.layout.parquet'\n",
    "_edges_ = open(_base_dir_ + _base_network_ + '.edges', 'rt').read()\n",
    "_lu_ = {'fm':[], 'to':[]}\n",
    "for _edge_ in _edges_.split('\\n'):\n",
    "    if _edge_ == '': continue\n",
    "    _lu_['fm'].append(_edge_.split(' ')[0])\n",
    "    _lu_['to'].append(_edge_.split(' ')[1])\n",
    "df = pl.DataFrame(_lu_)\n",
    "relates = [('fm', 'to')]\n",
    "g   = rt.createNetworkXGraph(df, relates)\n",
    "pos = nx.spring_layout(g)\n",
    "ln_params = {'relationships':relates, 'pos':pos, 'draw_labels':False, 'node_size':'small'}\n",
    "_rtg_ = rt.interactiveGraphPanel(df, ln_params, w=800, h=600)\n",
    "if os.path.exists(_layout_file_): _rtg_.loadLayout(_layout_file_)\n",
    "len(df), len(set(df['fm'])), len(set(df['to'])), len(set(df['fm']) | set(df['to']))\n",
    "_link_ = rt.link(df, relates, pos, node_size='small', w=400, h=300)\n",
    "_link_.renderSVG()\n",
    "import hdbscan\n",
    "node_ls = list(pos.keys())\n",
    "node_xy = []\n",
    "for node in node_ls:\n",
    "    node_xy.append(pos[node])\n",
    "node_xy = np.array(node_xy)\n",
    "cluster = hdbscan.HDBSCAN(min_cluster_size=10).fit(node_xy)\n",
    "lu_xy = {'x':[], 'y':[], 'node':[], 'cluster':[]} \n",
    "for i in range(len(node_ls)):\n",
    "    lu_xy['x'].append(node_xy[i][0]), lu_xy['y'].append(node_xy[i][1])\n",
    "    lu_xy['node'].append(node_ls[i]), lu_xy['cluster'].append(cluster.labels_[i])\n",
    "_xy_hdbscan_= rt.xy(pd.DataFrame(lu_xy), x_field='x', y_field='y', color_by='cluster', w=400, h=300)\n",
    "rt.tile([_link_, _xy_hdbscan_])"
   ]
  },
  {
   "cell_type": "code",
   "execution_count": null,
   "metadata": {},
   "outputs": [],
   "source": [
    "_rtg_"
   ]
  },
  {
   "cell_type": "code",
   "execution_count": null,
   "metadata": {},
   "outputs": [],
   "source": []
  }
 ],
 "metadata": {
  "kernelspec": {
   "display_name": ".venv (3.13.3)",
   "language": "python",
   "name": "python3"
  },
  "language_info": {
   "codemirror_mode": {
    "name": "ipython",
    "version": 3
   },
   "file_extension": ".py",
   "mimetype": "text/x-python",
   "name": "python",
   "nbconvert_exporter": "python",
   "pygments_lexer": "ipython3",
   "version": "3.13.3"
  }
 },
 "nbformat": 4,
 "nbformat_minor": 2
}
