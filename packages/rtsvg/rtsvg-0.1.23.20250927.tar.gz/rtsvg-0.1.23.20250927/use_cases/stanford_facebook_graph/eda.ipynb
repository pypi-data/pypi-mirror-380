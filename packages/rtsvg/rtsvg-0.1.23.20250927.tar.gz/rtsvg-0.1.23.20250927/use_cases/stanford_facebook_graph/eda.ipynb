{
 "cells": [
  {
   "cell_type": "code",
   "execution_count": null,
   "metadata": {},
   "outputs": [],
   "source": [
    "#\n",
    "# https://snap.stanford.edu/data/egonets-Facebook.html\n",
    "#\n",
    "# J. McAuley and J. Leskovec. Learning to Discover Social Circles in Ego Networks. NIPS, 2012.\n",
    "#\n",
    "import polars as pl\n",
    "import pandas as pd\n",
    "import numpy as np\n",
    "import networkx as nx\n",
    "import os\n",
    "from rtsvg import *\n",
    "rt = RACETrack()"
   ]
  },
  {
   "cell_type": "code",
   "execution_count": null,
   "metadata": {},
   "outputs": [],
   "source": [
    "_base_network_ = '0'\n",
    "_base_dir_     = '../../../data/stanford/facebook/'\n",
    "_layout_file_  = _base_dir_ + _base_network_ + '.layout.parquet'\n",
    "_edges_ = open(_base_dir_ + _base_network_ + '.edges', 'rt').read()\n",
    "_lu_ = {'fm':[], 'to':[]}\n",
    "for _edge_ in _edges_.split('\\n'):\n",
    "    if _edge_ == '': continue\n",
    "    _lu_['fm'].append(_edge_.split(' ')[0])\n",
    "    _lu_['to'].append(_edge_.split(' ')[1])\n",
    "df = pl.DataFrame(_lu_)\n",
    "len(df), len(set(df['fm'])), len(set(df['to'])), len(set(df['fm']) | set(df['to']))"
   ]
  },
  {
   "cell_type": "code",
   "execution_count": 3,
   "metadata": {},
   "outputs": [],
   "source": [
    "relates = [('fm', 'to')]\n",
    "g   = rt.createNetworkXGraph(df, relates)\n",
    "pos = nx.spring_layout(g)"
   ]
  },
  {
   "cell_type": "code",
   "execution_count": null,
   "metadata": {},
   "outputs": [],
   "source": [
    "ln_params = {'relationships':relates, 'pos':pos, 'draw_labels':False, 'node_size':'small'}\n",
    "_rtg_ = rt.interactiveGraphPanel(df, ln_params, w=800, h=600)\n",
    "if os.path.exists(_layout_file_): _rtg_.loadLayout(_layout_file_)\n",
    "_rtg_"
   ]
  },
  {
   "cell_type": "code",
   "execution_count": 12,
   "metadata": {},
   "outputs": [],
   "source": [
    "#_rtg_.saveLayout(_layout_file_)\n",
    "# circles from the 0.circles file...\n",
    "#_rtg_.selectEntities(['71', '215', '54', '61', '298', '229', '81', '253', '193', '97', '264', '29', '132', '110', '163', '259', '183', '334', '245', '222'])\n",
    "#_rtg_.selectEntities(['155', '99', '327', '140', '116', '147', '144', '150', '270'])"
   ]
  },
  {
   "cell_type": "code",
   "execution_count": 6,
   "metadata": {},
   "outputs": [],
   "source": [
    "#\n",
    "# So... the circles files have nodes that exist in more than one circle\n",
    "#\n",
    "_circles_ = open(_base_dir_ + _base_network_ + '.circles', 'rt').read()\n",
    "_already_seen_ = set()\n",
    "_circle_lu_ = {'name':[], 'node':[]}\n",
    "for _circle_ in _circles_.split('\\n'):\n",
    "    _circle_name_ = _circle_.split('\\t')[0]\n",
    "    if _circle_ == '': continue\n",
    "    _set_ = set(_circle_.split('\\t')[1:])\n",
    "    for x in _set_:\n",
    "        _circle_lu_['node'].append(x), _circle_lu_['name'].append(_circle_name_)\n",
    "    _already_seen_ = _already_seen_ | _set_\n",
    "len(_already_seen_)\n",
    "df_circles = pd.DataFrame(_circle_lu_)\n",
    "# rt.histogram(df_circles, bin_by='node', count_by='name', h=768)"
   ]
  },
  {
   "cell_type": "code",
   "execution_count": null,
   "metadata": {},
   "outputs": [],
   "source": [
    "_counts_ = {}\n",
    "def _updateCount_(a,b):\n",
    "    if a not in _counts_: _counts_[a] = {}\n",
    "    if b not in _counts_: _counts_[b] = {}\n",
    "    if b not in _counts_[a]: _counts_[a][b] = 0\n",
    "    _counts_[a][b] += 1\n",
    "    if a not in _counts_[b]: _counts_[b][a] = 0\n",
    "    _counts_[b][a] += 1\n",
    "for x in nx.simple_cycles(g,3):\n",
    "    n0, n1, n2 = x\n",
    "    _updateCount_(n0,n1), _updateCount_(n1,n2), _updateCount_(n0,n2)\n",
    "_max_ = 1\n",
    "_lu_  = {'fm':[],'to':[], 'ct':[]}\n",
    "edges_found = set()\n",
    "for x in _counts_:\n",
    "    for y in _counts_[x]:\n",
    "        # only need to include one direction since this is an undirected graph\n",
    "        if x < y:\n",
    "            _lu_['fm'].append(x), _lu_['to'].append(y), _lu_['ct'].append(_counts_[x][y])\n",
    "            _max_ = max(_max_, _counts_[x][y])\n",
    "            edges_found.add((x,y)), edges_found.add((y,x))\n",
    "# Add in any edges that were not found\n",
    "for _pair_, _df_ in df.group_by(('fm','to')):\n",
    "    if (_pair_[0],_pair_[1]) not in edges_found:\n",
    "        _lu_['fm'].append(_pair_[0]), _lu_['to'].append(_pair_[1]), _lu_['ct'].append(_max_)\n",
    "        edges_found.add((_pair_[0],_pair_[1])), edges_found.add((_pair_[1],_pair_[0]))\n",
    "rt.xy(pl.DataFrame(_lu_), x_field='ct', y_field='ct', dot_size='vary')"
   ]
  },
  {
   "cell_type": "code",
   "execution_count": null,
   "metadata": {},
   "outputs": [],
   "source": [
    "#\n",
    "# NOT LIKE THIS\n",
    "#\n",
    "df_test_d  = pd.DataFrame({'fm':['a','b','c'], 'to':['b','c','a'], 'ct':[1, 20, 25]})\n",
    "g_test_d   = rt.createNetworkXGraph(df_test_d, [('fm','to')], count_by='ct')\n",
    "test_d_pos = nx.spring_layout(g_test_d)\n",
    "\n",
    "#\n",
    "# BUT LIKE THIS INSTEAD ... weights need to be inverted ... i.e., 1.0 will be close... 1.0/20.0 will be far\n",
    "#\n",
    "df_test_d2  = pd.DataFrame({'fm':['a','b','c'], 'to':['b','c','a'], 'ct':[1.0/1.0, 1.0/20.0, 1.0/25.0]})\n",
    "g_test_d2   = rt.createNetworkXGraph(df_test_d2, [('fm','to')], count_by='ct')\n",
    "test_d2_pos = nx.spring_layout(g_test_d2)\n",
    "\n",
    "rt.tile([rt.link(df_test_d,  [('fm','to')], test_d_pos,  draw_labels=True, bounds_percent=0.2),\n",
    "         rt.link(df_test_d2, [('fm','to')], test_d2_pos, draw_labels=True, bounds_percent=0.2)])"
   ]
  },
  {
   "cell_type": "code",
   "execution_count": null,
   "metadata": {},
   "outputs": [],
   "source": [
    "df_w  = pl.DataFrame(_lu_)\n",
    "df_w  = df_w.with_columns((1.0/(1.0+pl.col('ct'))).alias('ct_inv'))\n",
    "g_w   = rt.createNetworkXGraph(df_w, relates, count_by='ct_inv')\n",
    "pos_w = nx.spring_layout(g_w, iterations=500)\n",
    "ln_w_params = {'relationships':relates, 'pos':pos_w, 'draw_labels':False, 'bounds_percent':0.02}\n",
    "_rtg_w_ = rt.interactiveGraphPanel(df_w, ln_w_params, w=512, h=512)\n",
    "_rtg_w_"
   ]
  },
  {
   "cell_type": "code",
   "execution_count": null,
   "metadata": {},
   "outputs": [],
   "source": []
  }
 ],
 "metadata": {
  "kernelspec": {
   "display_name": ".venv",
   "language": "python",
   "name": "python3"
  },
  "language_info": {
   "codemirror_mode": {
    "name": "ipython",
    "version": 3
   },
   "file_extension": ".py",
   "mimetype": "text/x-python",
   "name": "python",
   "nbconvert_exporter": "python",
   "pygments_lexer": "ipython3",
   "version": "3.12.3"
  }
 },
 "nbformat": 4,
 "nbformat_minor": 2
}
