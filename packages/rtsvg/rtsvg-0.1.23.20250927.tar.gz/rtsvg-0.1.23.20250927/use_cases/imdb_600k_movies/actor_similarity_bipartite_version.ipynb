{
 "cells": [
  {
   "cell_type": "code",
   "execution_count": null,
   "metadata": {},
   "outputs": [],
   "source": [
    "#\n",
    "# Which two actors are the most similar?\n",
    "# ... kindof like the \"starred most\" notebook\n",
    "# ... but uses networkx to calculate Jaccard similarity\n",
    "#\n",
    "import pandas as pd\n",
    "import polars as pl\n",
    "import numpy as np\n",
    "import networkx as nx\n",
    "import json\n",
    "import time\n",
    "import os\n",
    "from rtsvg import *\n",
    "rt = RACETrack()\n",
    "ofi = rt.ontologyFrameworkInstance(base_filename='../../../data/kaggle_imdb_600k/20240519_ontology')"
   ]
  },
  {
   "cell_type": "code",
   "execution_count": null,
   "metadata": {},
   "outputs": [],
   "source": [
    "#\n",
    "# 2m31s - amd7900x | edges 1,973,892 | nodes 1,201,864\n",
    "#\n",
    "\n",
    "# Just the cast member relationship\n",
    "df       = ofi.df_triples.filter(pl.col('vrb') == 'castMemberOf')\n",
    "df_edges = df.group_by(['sbj', 'obj']).len()\n",
    "\n",
    "# Create a bipartite graph\n",
    "B = nx.Graph()\n",
    "B.add_nodes_from(df_edges['sbj'], bipartite=0)\n",
    "B.add_nodes_from(df_edges['obj'], bipartite=1)\n",
    "for i in range(len(df_edges)):\n",
    "    B.add_edge(df_edges['sbj'][i], df_edges['obj'][i])\n",
    "\n",
    "# Project the graph onto the 'sbj' node set\n",
    "P = nx.bipartite.projected_graph(B, df_edges['sbj'])\n",
    "\n",
    "# Calculate Jaccard similarity on the projected graph\n",
    "similarity = nx.jaccard_coefficient(P)"
   ]
  },
  {
   "cell_type": "code",
   "execution_count": null,
   "metadata": {},
   "outputs": [],
   "source": [
    "# Determine the max score...\n",
    "# ... didn't finish (or didn't wait long enough) \n",
    "max_tuple = None\n",
    "for x in similarity:\n",
    "    i, j, sim = x\n",
    "    if max_tuple is None or sim > max_tuple[2]: max_tuple = (i, j, sim)\n",
    "print(f'Actor {max_tuple[0]} and {max_tuple[1]} are most similar with a similarity of {max_tuple[2]}')"
   ]
  },
  {
   "cell_type": "code",
   "execution_count": null,
   "metadata": {},
   "outputs": [],
   "source": []
  }
 ],
 "metadata": {
  "kernelspec": {
   "display_name": ".venv",
   "language": "python",
   "name": "python3"
  },
  "language_info": {
   "codemirror_mode": {
    "name": "ipython",
    "version": 3
   },
   "file_extension": ".py",
   "mimetype": "text/x-python",
   "name": "python",
   "nbconvert_exporter": "python",
   "pygments_lexer": "ipython3",
   "version": "3.12.3"
  }
 },
 "nbformat": 4,
 "nbformat_minor": 2
}
