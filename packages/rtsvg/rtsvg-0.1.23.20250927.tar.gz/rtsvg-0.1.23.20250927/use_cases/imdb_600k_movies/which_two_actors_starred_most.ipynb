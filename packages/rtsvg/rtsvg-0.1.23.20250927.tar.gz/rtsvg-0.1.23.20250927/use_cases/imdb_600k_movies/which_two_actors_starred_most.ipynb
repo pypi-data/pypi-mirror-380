{
 "cells": [
  {
   "cell_type": "code",
   "execution_count": null,
   "metadata": {},
   "outputs": [],
   "source": [
    "#\n",
    "# Which two actors starred the most together across the dataset?\n",
    "#\n",
    "import pandas as pd\n",
    "import polars as pl\n",
    "import numpy as np\n",
    "import networkx as nx\n",
    "import json\n",
    "import time\n",
    "import os\n",
    "from rtsvg import *\n",
    "rt = RACETrack()\n",
    "ofi = rt.ontologyFrameworkInstance(base_filename='../../../data/kaggle_imdb_600k/20240519_ontology')"
   ]
  },
  {
   "cell_type": "code",
   "execution_count": null,
   "metadata": {},
   "outputs": [],
   "source": [
    "# Draw the degree distribution\n",
    "df = ofi.df_triples.filter(pl.col('vrb') == 'castMemberOf')\n",
    "g  = rt.createNetworkXGraph(df, [('sbj','obj','vrb')])\n",
    "degrees = [g.degree(n) for n in g.nodes()]\n",
    "rt.xy(pl.DataFrame({'degree':degrees}).filter(pl.col('degree') < 100), 'degree', 'degree', \n",
    "      render_x_distribution=100, w=1024, distribution_style='inside', distribution_h_perc=1.0)"
   ]
  },
  {
   "cell_type": "code",
   "execution_count": null,
   "metadata": {},
   "outputs": [],
   "source": [
    "# Remove 1-Degrees Until There are No One Degrees Left\n",
    "last_size = len(g.nodes()) + 1\n",
    "print(f'\\n{len(g.nodes())=} | {len(g.edges())=}')\n",
    "while last_size != len(g.nodes()):\n",
    "    last_size = len(g.nodes())\n",
    "    to_be_removed = [x for x in g.nodes() if g.degree(x) <= 1]\n",
    "    print(f'{len(to_be_removed)}', end='... ')\n",
    "    g.remove_nodes_from(to_be_removed)\n",
    "print(f'\\n{len(g.nodes())=} | {len(g.edges())=}')"
   ]
  },
  {
   "cell_type": "code",
   "execution_count": null,
   "metadata": {},
   "outputs": [],
   "source": [
    "# Re-draw the degree distribution\n",
    "degrees = [g.degree(n) for n in g.nodes()]\n",
    "rt.xy(pl.DataFrame({'degree':degrees}).filter(pl.col('degree') < 100), 'degree', 'degree', \n",
    "      render_x_distribution=100, w=1024, distribution_style='inside', distribution_h_perc=1.0)"
   ]
  },
  {
   "cell_type": "code",
   "execution_count": null,
   "metadata": {},
   "outputs": [],
   "source": [
    "# Build a sorter for degrees for the actor ids\n",
    "_as_list_ = list(df['sbj'].unique())\n",
    "_degrees_ = nx.degree(g, _as_list_)\n",
    "_counts_, _max_degrees_, _sorter_ = 0, 0, []\n",
    "for x in _degrees_:\n",
    "    _counts_ += 1\n",
    "    if _max_degrees_ < x[1]: _max_degrees_ = x[1]\n",
    "    _sorter_.append((x[1],x[0]))\n",
    "_sorter_.sort()\n",
    "_counts_, _max_degrees_"
   ]
  },
  {
   "cell_type": "code",
   "execution_count": null,
   "metadata": {},
   "outputs": [],
   "source": [
    "# Do the neighbor intersections from highest degreee to lowest\n",
    "# ... early terminate if the max intersection found is higher than\n",
    "#     the node under current focus -- because that means that the\n",
    "#     nothing lower could exceed the max intersection\n",
    "# ... this doesn't consider the total number of movies each has been\n",
    "#     in ... just the ones that have been in the most together...\n",
    "i       = len(_sorter_)-1\n",
    "nbor_lu, nbor_calcs_performed = {}, 0\n",
    "max_intersection_found, actor_id_1, actor_id_2 = 0, 0, 0\n",
    "while i >= 0:\n",
    "    nbor_lu[_sorter_[i][1]] = [x for x in nx.neighbors(g, _sorter_[i][1])]\n",
    "    nbor_calcs_performed += 1\n",
    "    for j in range(i+1, len(_sorter_)):\n",
    "        _intersection_ = set(nbor_lu[_sorter_[i][1]]) & set(nbor_lu[_sorter_[j][1]])\n",
    "        if len(_intersection_) > max_intersection_found:\n",
    "            max_intersection_found = len(_intersection_)\n",
    "            actor_id_1 = _sorter_[i][1]\n",
    "            actor_id_2 = _sorter_[j][1]\n",
    "    if _sorter_[i][0] < max_intersection_found:\n",
    "        break\n",
    "    i -= 1\n",
    "len(nbor_lu.keys()), len(_sorter_), nbor_calcs_performed"
   ]
  },
  {
   "cell_type": "code",
   "execution_count": null,
   "metadata": {},
   "outputs": [],
   "source": [
    "# Display the results\n",
    "actor_id_1, actor_id_2, max_intersection_found"
   ]
  },
  {
   "cell_type": "code",
   "execution_count": null,
   "metadata": {},
   "outputs": [],
   "source": [
    "# Draw the localized graph for those two actors\n",
    "df_show_it = df.filter((pl.col('sbj') == actor_id_1) | (pl.col('sbj') == actor_id_2))\n",
    "g_show_it  = rt.createNetworkXGraph(df_show_it, [('sbj','obj','vrb')])\n",
    "g_pos      = nx.spring_layout(g_show_it)\n",
    "rt.linkNode(df_show_it, [('sbj','obj','vrb')], g_pos, link_arrow=False, w=1024, h=768)"
   ]
  },
  {
   "cell_type": "code",
   "execution_count": null,
   "metadata": {},
   "outputs": [],
   "source": [
    "ofi.uid_lu[actor_id_1], ofi.uid_lu[actor_id_2]"
   ]
  },
  {
   "cell_type": "code",
   "execution_count": null,
   "metadata": {},
   "outputs": [],
   "source": [
    "ofi.labeling_uids[actor_id_1], ofi.labeling_uids[actor_id_2]"
   ]
  },
  {
   "cell_type": "code",
   "execution_count": null,
   "metadata": {},
   "outputs": [],
   "source": [
    "ofi.labeling_sbjs['nm0046850'], ofi.labeling_sbjs['nm0006982']"
   ]
  },
  {
   "cell_type": "code",
   "execution_count": null,
   "metadata": {},
   "outputs": [],
   "source": []
  }
 ],
 "metadata": {
  "kernelspec": {
   "display_name": ".venv",
   "language": "python",
   "name": "python3"
  },
  "language_info": {
   "codemirror_mode": {
    "name": "ipython",
    "version": 3
   },
   "file_extension": ".py",
   "mimetype": "text/x-python",
   "name": "python",
   "nbconvert_exporter": "python",
   "pygments_lexer": "ipython3",
   "version": "3.12.3"
  }
 },
 "nbformat": 4,
 "nbformat_minor": 2
}
