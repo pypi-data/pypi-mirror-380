{
 "cells": [
  {
   "cell_type": "code",
   "execution_count": null,
   "metadata": {},
   "outputs": [],
   "source": [
    "import pandas as pd\n",
    "import polars as pl\n",
    "import numpy as np\n",
    "import networkx as nx\n",
    "import json\n",
    "import time\n",
    "import os\n",
    "from rtsvg import *\n",
    "rt = RACETrack()\n",
    "ofi = rt.ontologyFrameworkInstance(base_filename='../../../data/kaggle_imdb_600k/20240519_ontology')"
   ]
  },
  {
   "cell_type": "code",
   "execution_count": null,
   "metadata": {},
   "outputs": [],
   "source": [
    "# Extract out the \"hasGenre\" relationship & drop all non-related columns\n",
    "_genre_ = ofi.df_triples.filter(pl.col('vrb') == 'hasGenre')    \\\n",
    "             .drop(['stype', 'sdisp', 'vrb', 'otype', 'odisp', 'grp', 'gdisp', 'src']) \\\n",
    "             .rename({'sbj':'MovieID', 'obj':'genre'})\n",
    "# Extract out the \"yearReleased\" relationship & drop all non-related columns\n",
    "_year_  = ofi.df_triples.filter(pl.col('vrb') == 'yearReleased') \\\n",
    "             .drop(['stype', 'sdisp', 'vrb', 'otype', 'odisp', 'grp', 'gdisp', 'src']) \\\n",
    "             .rename({'sbj':'MovieID', 'obj':'year'})\n",
    "# Join the two tables -- now have \"MovieID\", \"genre\", \"year\"\n",
    "_genre_year_ = _genre_.join(_year_, on='MovieID', how='inner')\n",
    "# Convert the \"genre\" and \"year\" columns to their corresponding labels\n",
    "_genre_year_ = _genre_year_.with_columns(pl.col('genre').map_elements(lambda x: ofi.uid_lu[x][0], return_dtype=pl.String).alias('genre_str'),\n",
    "                                         pl.col('year'). map_elements(lambda x: ofi.uid_lu[x][0], return_dtype=pl.String).alias('year_as_dt'))\n",
    "# Fix up the year column -- anything null or not 4 digits gets dropped... convert to a timestamp\n",
    "_genre_year_ = _genre_year_.with_columns(pl.col('year_as_dt').map_elements(lambda x: None if len(x) != 4 else x, return_dtype=pl.String))\n",
    "_genre_year_ = _genre_year_.drop_nulls()\n",
    "_genre_year_ = _genre_year_.with_columns(pl.col('year_as_dt').str.to_datetime('%Y'))\n",
    "# Render\n",
    "rt.smallMultiples(_genre_year_, category_by='genre_str', \n",
    "                  sm_type='temporalBarChart', sm_params={'ts_field':'year_as_dt'},\n",
    "                  x_axis_independent=False, y_axis_independent=True,\n",
    "                  w_sm_override=512, h_sm_override=96, w=1700)"
   ]
  },
  {
   "cell_type": "code",
   "execution_count": null,
   "metadata": {},
   "outputs": [],
   "source": []
  }
 ],
 "metadata": {
  "kernelspec": {
   "display_name": ".venv",
   "language": "python",
   "name": "python3"
  },
  "language_info": {
   "codemirror_mode": {
    "name": "ipython",
    "version": 3
   },
   "file_extension": ".py",
   "mimetype": "text/x-python",
   "name": "python",
   "nbconvert_exporter": "python",
   "pygments_lexer": "ipython3",
   "version": "3.12.3"
  }
 },
 "nbformat": 4,
 "nbformat_minor": 2
}
