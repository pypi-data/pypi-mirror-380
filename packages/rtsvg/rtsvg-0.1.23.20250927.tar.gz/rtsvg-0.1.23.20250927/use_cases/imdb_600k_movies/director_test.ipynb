{
 "cells": [
  {
   "cell_type": "code",
   "execution_count": null,
   "metadata": {},
   "outputs": [],
   "source": [
    "import pandas as pd\n",
    "import polars as pl\n",
    "import numpy as np\n",
    "import networkx as nx\n",
    "import json\n",
    "import time\n",
    "import os\n",
    "from rtsvg import *\n",
    "rt = RACETrack()\n",
    "\n",
    "_base_ = '../../../data/kaggle_imdb_600k/international-movies-json/'\n",
    "_files_ = os.listdir(_base_)\n",
    "print(f'Loading {len(_files_)} files...')\n",
    "_jsons_ = []\n",
    "for i in range(len(_files_)):\n",
    "    _file_ = _files_[i]\n",
    "    _txt_  = open(_base_ + _file_).read()\n",
    "    _json_ = json.loads(_txt_)\n",
    "    _jsons_.append(_json_)\n",
    "\n",
    "print('Applying template to json...')\n",
    "\n",
    "_xform_map_ = '''\n",
    "__id__              = '$[*]._id'              | MovieID      | uniq\n",
    "__director__        = '$[*].director.name_id' | DirectorID   | uniq\n",
    "__director__        --- \"directedMovie\"  --- __id__ ^^^ \"imdb_600k_international_movies\"\n",
    "'''\n",
    "\n",
    "_code_example_ = '''\n",
    "for i in range(len(myjson)):\n",
    "    if \"_id\" in myjson[i]:\n",
    "        _var1_ = myjson[i][\"_id\"]\n",
    "    else: _var1_ = None\n",
    "    if \"director\" in myjson[i]:\n",
    "        if \"name_id\" in myjson[i][\"director\"]:\n",
    "            _var0_ = myjson[i][\"director\"][\"name_id\"]\n",
    "        else: _var0_ = None\n",
    "        filled[\"$[*].director.name_id\"].append(_var0_)\n",
    "        filled[\"$[*]._id\"].append(_var1_)\n",
    "'''\n",
    "\n",
    "ofv_dir = rt.ontologyFrameworkInstance(xform_spec=_xform_map_)\n",
    "ofv_dir.parse(_jsons_)\n",
    "#ofv_dir.df_triples"
   ]
  },
  {
   "cell_type": "code",
   "execution_count": null,
   "metadata": {},
   "outputs": [],
   "source": [
    "_to_fill_        = ['$[*].director.name_id', '$[*]._id']\n",
    "_filled_         = fillJSONPathElements(_to_fill_, _json_)\n",
    "for _key_ in _filled_.keys(): print(f'{_key_=} {len(_filled_[_key_])}')"
   ]
  },
  {
   "cell_type": "code",
   "execution_count": null,
   "metadata": {},
   "outputs": [],
   "source": [
    "_to_fill_        = ['$[*]._id']\n",
    "_filled_         = fillJSONPathElements(_to_fill_, _json_)\n",
    "for _key_ in _filled_.keys(): print(f'{_key_=} {len(_filled_[_key_])}')"
   ]
  },
  {
   "cell_type": "code",
   "execution_count": null,
   "metadata": {},
   "outputs": [],
   "source": [
    "_movies_, _has_director_, missing_key_set = 0, 0, set()\n",
    "for i in range(len(_json_)):\n",
    "    if 'director' in _json_[i].keys():\n",
    "        _has_director_ += 1\n",
    "    else:\n",
    "        missing_key_set.add(tuple(_json_[i].keys()))\n",
    "    _movies_ += 1\n",
    "print(missing_key_set)\n",
    "_movies_, _has_director_"
   ]
  },
  {
   "cell_type": "code",
   "execution_count": null,
   "metadata": {},
   "outputs": [],
   "source": []
  }
 ],
 "metadata": {
  "kernelspec": {
   "display_name": ".venv",
   "language": "python",
   "name": "python3"
  },
  "language_info": {
   "codemirror_mode": {
    "name": "ipython",
    "version": 3
   },
   "file_extension": ".py",
   "mimetype": "text/x-python",
   "name": "python",
   "nbconvert_exporter": "python",
   "pygments_lexer": "ipython3",
   "version": "3.12.3"
  }
 },
 "nbformat": 4,
 "nbformat_minor": 2
}
