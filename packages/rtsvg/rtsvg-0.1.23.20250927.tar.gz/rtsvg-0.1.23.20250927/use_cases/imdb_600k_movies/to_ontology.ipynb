{
 "cells": [
  {
   "cell_type": "code",
   "execution_count": null,
   "metadata": {},
   "outputs": [],
   "source": [
    "import pandas as pd\n",
    "import polars as pl\n",
    "import numpy as np\n",
    "import networkx as nx\n",
    "import json\n",
    "import time\n",
    "import os\n",
    "from rtsvg import *\n",
    "rt = RACETrack()"
   ]
  },
  {
   "cell_type": "code",
   "execution_count": null,
   "metadata": {},
   "outputs": [],
   "source": [
    "_xform_map_ = '''\n",
    "__id__              = '$[*]._id'              | MovieID      | uniq\n",
    "__director__        = '$[*].director.name_id' | DirectorID   | uniq\n",
    "__castmember__      = '$[*].cast.[*].name_id' | CastMemberID | uniq\n",
    "__director__        --- \"directedMovie\"  --- __id__                                              ^^^ \"imdb_600k_international_movies\"\n",
    "__id__              --- \"hasLabel\"       --- '$[*].name'                   | xsd:string          ^^^ \"imdb_600k_international_movies\"\n",
    "__id__              --- \"yearReleased\"   --- fixYear('$[*].year')          | xsd:date     | yyyy ^^^ \"imdb_600k_international_movies\"\n",
    "__id__              --- \"runTime\"        --- '$[*].runtime'                | xsd:duration | dura ^^^ \"imdb_600k_international_movies\"\n",
    "__id__              --- \"hasGenre\"       --- stripString('$[*].genre[*]')  | xsd.string   | cata ^^^ \"imdb_600k_international_movies\"\n",
    "__id__              --- \"ratingValue\"    --- '$[*].ratingValue'            | xsd:float    | valu ^^^ \"imdb_600k_international_movies\"\n",
    "__id__              --- \"summary\"        --- '$[*].summary_text'           | xsd:string   | cont ^^^ \"imdb_600k_international_movies\"\n",
    "__director__        --- \"hasLabel\"       --- '$[*].director.name'          | xsd:string   | ambi ^^^ \"imdb_600k_international_movies\"\n",
    "__castmember__      --- \"castMemberOf\"   --- __id__                                              ^^^ \"imdb_600k_international_movies\"\n",
    "__castmember__      --- \"hasLabel\"       --- '$[*].cast.[*].name'          | xsd:string   | ambi ^^^ \"imdb_600k_international_movies\"\n",
    "'''\n",
    "\n",
    "def fixYear(s):\n",
    "    if ') (' in s:                  s = s[s.rindex(') (')+3:]\n",
    "    if   s.endswith('TV Special'):  return s[:s.rindex('TV Special')].strip()\n",
    "    elif s.endswith('TV Movie'):    return s[:s.rindex('TV Movie')].strip()\n",
    "    elif s.endswith('TV Short'):    return s[:s.rindex('TV Short')].strip()\n",
    "    if len(s) == 4:\n",
    "        for i in range(len(s)):\n",
    "            if s[i] not in '0123456789': \n",
    "                return None\n",
    "        return s\n",
    "    return None\n",
    "\n",
    "def stripString(s): return s.strip()\n",
    "fns = {'stripString': stripString,\n",
    "       'fixYear':     fixYear}\n",
    "\n",
    "#\n",
    "# 32.8s end-to-end now...\n",
    "#\n",
    "_base_ = '../../../data/kaggle_imdb_600k/international-movies-json/'\n",
    "_files_ = os.listdir(_base_)\n",
    "print(f'Loading {len(_files_)} files...')\n",
    "_jsons_ = []\n",
    "for i in range(len(_files_)):\n",
    "    _file_ = _files_[i]\n",
    "    _txt_  = open(_base_ + _file_).read()\n",
    "    _json_ = json.loads(_txt_)\n",
    "    _jsons_.append(_json_)\n",
    "\n",
    "print('Applying template to json...')\n",
    "ofv = rt.ontologyFrameworkInstance(xform_spec=_xform_map_, labeling_verbs=set(['hasLabel']), funcs=fns)\n",
    "ofv.parse(_jsons_)\n",
    "t1 = time.time()\n",
    "\n",
    "# Write to disk\n",
    "print('Writing to disk...')\n",
    "ofv.to_files('../../../data/kaggle_imdb_600k/20240519_ontology')\n",
    "\n",
    "for k, k_df in ofv.df_triples.group_by(['vrb']):\n",
    "    print(k, len(k_df))"
   ]
  },
  {
   "cell_type": "code",
   "execution_count": null,
   "metadata": {},
   "outputs": [],
   "source": [
    "_example_run_ = '''\n",
    "('ratingValue',)    633719\n",
    "('runTime',)        633719\n",
    "('hasGenre',)       824509\n",
    "('hasLabel',)      3202774\n",
    "('castMemberOf',)  1977961\n",
    "('yearReleased',)   633719\n",
    "('directedMovie',)  591094\n",
    "('summary',)        633719\n",
    "'''\n",
    "rt.tile([rt.histogram(ofv.df_triples, bin_by='vrb', color_by='stype', h=180, w=128),\n",
    "         rt.histogram(ofv.df_triples, bin_by='stype', color_by='stype', h=180, w=128)])"
   ]
  },
  {
   "cell_type": "code",
   "execution_count": null,
   "metadata": {},
   "outputs": [],
   "source": [
    "len(ofv.df_triples)"
   ]
  },
  {
   "cell_type": "code",
   "execution_count": null,
   "metadata": {},
   "outputs": [],
   "source": [
    "print(len(ofv.validation_errors))\n",
    "ofv.validation_errors"
   ]
  },
  {
   "cell_type": "code",
   "execution_count": null,
   "metadata": {},
   "outputs": [],
   "source": []
  }
 ],
 "metadata": {
  "kernelspec": {
   "display_name": ".venv",
   "language": "python",
   "name": "python3"
  },
  "language_info": {
   "codemirror_mode": {
    "name": "ipython",
    "version": 3
   },
   "file_extension": ".py",
   "mimetype": "text/x-python",
   "name": "python",
   "nbconvert_exporter": "python",
   "pygments_lexer": "ipython3",
   "version": "3.12.3"
  }
 },
 "nbformat": 4,
 "nbformat_minor": 2
}
