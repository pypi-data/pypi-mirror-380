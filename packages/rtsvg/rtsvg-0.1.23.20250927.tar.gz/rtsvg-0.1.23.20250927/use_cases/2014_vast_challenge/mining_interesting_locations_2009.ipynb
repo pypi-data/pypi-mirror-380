{
 "cells": [
  {
   "cell_type": "code",
   "execution_count": null,
   "metadata": {},
   "outputs": [],
   "source": [
    "import polars as pl\n",
    "import pandas as pd\n",
    "import numpy as np\n",
    "import rtsvg\n",
    "rt = rtsvg.RACETrack()\n",
    "from mining_interesting_locations_2009 import MiningInterestingLocations2009\n",
    "df = pl.read_csv('../../../data/2014_vast/MC2/gps.csv')\n",
    "df = df.rename({'Timestamp':'ts', 'long':'lon'})\n",
    "df = rt.columnsAreTimestamps(df, 'ts')\n",
    "df = df.filter(pl.col('id') != 28) # this track requires additional processing \n",
    "mil2009 = MiningInterestingLocations2009(df, 'id', rt=rt, lat_field='lat', lon_field='lon', ts_field='ts')"
   ]
  },
  {
   "cell_type": "code",
   "execution_count": 2,
   "metadata": {},
   "outputs": [],
   "source": [
    "# mil2009.visualizeStayPointClusters()"
   ]
  },
  {
   "cell_type": "code",
   "execution_count": 3,
   "metadata": {},
   "outputs": [],
   "source": [
    "# mil2009.visualizeStayPointClustersAsSmallMultiples()"
   ]
  },
  {
   "cell_type": "code",
   "execution_count": null,
   "metadata": {},
   "outputs": [],
   "source": [
    "import networkx as nx\n",
    "relates = [('fm_location', 'to_location')]\n",
    "g       = rt.createNetworkXGraph(mil2009.df_hierarchical_graph, relates)\n",
    "#pos     = nx.spring_layout(g)\n",
    "pos     = mil2009.df_cluster_locations_pos\n",
    "rt.link(mil2009.df_hierarchical_graph, relates, pos, link_size='vary', w=800, h=600)\n",
    "rt.smallMultiples(mil2009.df_hierarchical_graph, category_by='id', sm_type='link',\n",
    "                  sm_params={'relationships':relates, 'pos':pos, 'link_size':'vary'},\n",
    "                  w_sm_override=256, h_sm_override=256, w=1600)"
   ]
  },
  {
   "cell_type": "code",
   "execution_count": null,
   "metadata": {},
   "outputs": [],
   "source": []
  }
 ],
 "metadata": {
  "kernelspec": {
   "display_name": ".venv",
   "language": "python",
   "name": "python3"
  },
  "language_info": {
   "codemirror_mode": {
    "name": "ipython",
    "version": 3
   },
   "file_extension": ".py",
   "mimetype": "text/x-python",
   "name": "python",
   "nbconvert_exporter": "python",
   "pygments_lexer": "ipython3",
   "version": "3.12.3"
  }
 },
 "nbformat": 4,
 "nbformat_minor": 2
}
