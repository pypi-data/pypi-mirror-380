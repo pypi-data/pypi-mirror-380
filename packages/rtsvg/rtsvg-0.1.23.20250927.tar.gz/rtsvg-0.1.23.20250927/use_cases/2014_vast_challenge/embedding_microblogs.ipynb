{
 "cells": [
  {
   "cell_type": "code",
   "execution_count": 1,
   "metadata": {},
   "outputs": [],
   "source": [
    "import pandas as pd\n",
    "import numpy as np\n",
    "import os\n",
    "import ollama\n",
    "import re\n",
    "_dir_ = '../../../data/2014_vast/MC3/'\n",
    "_embeddings_filename_ = '../../../data/2014_vast/MC3/embeddings.parquet'\n",
    "if os.path.exists(_embeddings_filename_) == False:\n",
    "    _dfs_ = []\n",
    "    for _file_ in os.listdir(_dir_):\n",
    "        if _file_.endswith('csv'):\n",
    "            _df_ = pd.read_csv(_dir_+_file_, encoding='iso-8859-1')\n",
    "            _dfs_.append(_df_)\n",
    "    df              = pd.concat(_dfs_)\n",
    "    df['hash_tags'] = df['message'].apply(lambda s: re.findall(r'#\\w+',   s))\n",
    "    df['reply_to']  = df['message'].apply(lambda s: re.findall(r'@(\\w+)', s))\n",
    "    embeddings = []\n",
    "    for i in range(len(df)):\n",
    "        _df_      = df.iloc[i]\n",
    "        _message_ = df.iloc[i]['message']\n",
    "        _response_ = ollama.embeddings(model='nomic-embed-text', prompt=_message_)\n",
    "        embeddings.append(_response_['embedding'])\n",
    "    df['embedding'] = embeddings\n",
    "    df.to_parquet(_embeddings_filename_)\n",
    "else:\n",
    "    df = pd.read_parquet(_embeddings_filename_)"
   ]
  },
  {
   "cell_type": "code",
   "execution_count": null,
   "metadata": {},
   "outputs": [],
   "source": []
  }
 ],
 "metadata": {
  "kernelspec": {
   "display_name": ".venv",
   "language": "python",
   "name": "python3"
  },
  "language_info": {
   "codemirror_mode": {
    "name": "ipython",
    "version": 3
   },
   "file_extension": ".py",
   "mimetype": "text/x-python",
   "name": "python",
   "nbconvert_exporter": "python",
   "pygments_lexer": "ipython3",
   "version": "3.12.3"
  }
 },
 "nbformat": 4,
 "nbformat_minor": 2
}
