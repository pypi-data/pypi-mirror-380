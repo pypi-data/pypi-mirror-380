{
 "cells": [
  {
   "cell_type": "code",
   "execution_count": null,
   "metadata": {},
   "outputs": [],
   "source": [
    "import pandas as pd\n",
    "import polars as pl\n",
    "import numpy as np\n",
    "import os\n",
    "from os.path import exists\n",
    "import time\n",
    "import sys\n",
    "sys.path.insert(1, '../../rtsvg')\n",
    "from rtsvg import *\n",
    "rt = RACETrack()\n",
    "#os.listdir('../../../data/2014_vast/MC2/Geospatial')\n",
    "#_shaplely_lu_, _shaplely_fill_lu_ = rt.createBackgroundLookupsFromShapeFile('../../../data/2014_vast/MC2/Geospatial/Kronos_Island.shp')\n",
    "#_shaplely_lu_[0]"
   ]
  },
  {
   "cell_type": "code",
   "execution_count": null,
   "metadata": {},
   "outputs": [],
   "source": [
    "_conversion_str_ = '''\n",
    "df = pl.read_csv('../../../data/2014_vast/MC2/gps.csv')\n",
    "_datetimes_ = []\n",
    "for i in range(len(df)):\n",
    "    _date_ = df['Timestamp'][i]\n",
    "    try:\n",
    "        _datetime_ = pd.to_datetime(_date_)\n",
    "        _datetimes_.append(_datetime_)\n",
    "    except:\n",
    "        print(i)\n",
    "df_fixed = pd.DataFrame({'timestamp':_datetimes_, 'id':df['id'], 'lat':df['lat'], 'long':df['long']})\n",
    "df_fixed = rt.columnsAreTimestamps(df_fixed, 'timestamp')\n",
    "df_fixed_pl = pl.DataFrame(df_fixed)\n",
    "df_fixed_pl.write_parquet('../../../data/2014_vast/MC2/gps.csv.parquet')\n",
    "'''\n",
    "df = pl.read_parquet('../../../data/2014_vast/MC2/gps.csv.parquet')\n",
    "df.sample(3)"
   ]
  },
  {
   "cell_type": "code",
   "execution_count": null,
   "metadata": {},
   "outputs": [],
   "source": [
    "# One of the paths is messed up / it's green in the following visualization\n",
    "#rt.xy(df, x_field='long', y_field='lat', color_by='id', dot_size='small', w=800, h=600)"
   ]
  },
  {
   "cell_type": "code",
   "execution_count": null,
   "metadata": {},
   "outputs": [],
   "source": [
    "# path that is messed up is the following:\n",
    "# id == 28 using the following interaction panel\n",
    "spec = { \n",
    "    (0,0,20,20): ('xy', {'x_field':'long','y_field':'lat','dot_size':'small'}),\n",
    "    (20,0,5,20): ('histogram', {'bin_by':'id'})\n",
    "}\n",
    "#rt.interactivePanel(df_not_id28, spec, 1000, 600, {'color_by':'id'})"
   ]
  },
  {
   "cell_type": "code",
   "execution_count": null,
   "metadata": {},
   "outputs": [],
   "source": [
    "df_id28     = df.filter(pl.col('id') == 28)\n",
    "df_id27     = df.filter(pl.col('id') == 27)\n",
    "df_not_id28 = df.filter(pl.col('id') != 28)\n",
    "#rt.tile([rt.xy(df_id28,     x_field='long', y_field='lat', color_by='id', dot_size='small', w=600, h=600),\n",
    "#         rt.xy(df_not_id28, x_field='long', y_field='lat', color_by='id', dot_size='small', w=800, h=600)])"
   ]
  },
  {
   "cell_type": "code",
   "execution_count": null,
   "metadata": {},
   "outputs": [],
   "source": [
    "df_id27_sorted = df_id27.sort('timestamp')\n",
    "_df_ = df_id27_sorted\n",
    "_df_.sample(3)"
   ]
  },
  {
   "cell_type": "code",
   "execution_count": null,
   "metadata": {},
   "outputs": [],
   "source": [
    "#\n",
    "# The VAST 2014 geospatial data lacks the precision to calculate\n",
    "# miles per hour on a row by row basis... because it's only at the\n",
    "# seconds level... and not the milliseconds level..\n",
    "#\n",
    "\n",
    "# template to calculate miles per hour... would still need smoothing\n",
    "# because the second by second capture introduces some error....\n",
    "#\n",
    "import math\n",
    "def haversine(lon1, lat1, lon2, lat2):\n",
    "    \"\"\"\n",
    "    Calculate the great circle distance between two points \n",
    "    on the earth (specified in decimal degrees).\n",
    "    Source: https://gis.stackexchange.com/a/56589/15183\n",
    "    \"\"\"\n",
    "    if lon1 is None or lat1 is None or lon2 is None or lat2 is None: return 0.0\n",
    "    # convert decimal degrees to radians \n",
    "    lon1, lat1, lon2, lat2 = map(math.radians, [lon1, lat1, lon2, lat2])\n",
    "    # haversine formula \n",
    "    dlon = lon2 - lon1 \n",
    "    dlat = lat2 - lat1 \n",
    "    a = math.sin(dlat/2)**2 + math.cos(lat1) * math.cos(lat2) * math.sin(dlon/2)**2\n",
    "    c = 2 * math.asin(math.sqrt(a)) \n",
    "    km = 6367 * c\n",
    "    return km * 0.621371 # km to miles\n",
    "\n",
    "_df_ = _df_.with_columns(pl.col('timestamp').shift().alias('prev_timestamp'),\n",
    "                         pl.col('lat').shift().alias('prev_lat'),\n",
    "                         pl.col('long').shift().alias('prev_long'))\n",
    "_df_ = _df_.with_columns(pl.struct(['lat','long','prev_lat','prev_long'])\n",
    "                           .map_elements(lambda x: haversine(x['long'],x['lat'],x['prev_long'],x['prev_lat']), return_dtype=pl.Float64).alias('miles'))\n",
    "_df_ = _df_.with_columns(((pl.col('timestamp') - pl.col('prev_timestamp'))/3600000.0).alias('t_delta'))\n",
    "def mph(miles, hours): # not enough temporal resolution for this to work\n",
    "    if miles is None or hours is None or hours == 0.0: return 0.0\n",
    "    return miles\n",
    "    #return miles/hours\n",
    "_df_ = _df_.with_columns(pl.struct(['miles','t_delta']).map_elements(lambda x: mph(x['miles'],x['t_delta']), return_dtype=pl.Float64).alias('mph')) \n",
    "#rt.xy(_df_, x_field='long', y_field='lat', count_by='mph', dot_size='small', color_magnitude='mean', w=600, h=600)"
   ]
  },
  {
   "cell_type": "code",
   "execution_count": null,
   "metadata": {},
   "outputs": [],
   "source": [
    "_df_ = df_not_id28.with_columns((pl.col('lat')  * 20000).cast(pl.Int64).alias('lat_grid'),\n",
    "                                (pl.col('long') * 20000).cast(pl.Int64).alias('long_grid'))\n",
    "#rt.xy(_df_, x_field='long_grid', y_field='lat_grid', color_by='id', dot_size='tiny', w=1200, h=800)"
   ]
  },
  {
   "cell_type": "code",
   "execution_count": null,
   "metadata": {},
   "outputs": [],
   "source": [
    "lu  = {'fm':[], 'to':[]}\n",
    "pos = {}\n",
    "def toNodeName(_tuple_): return 'node_' + str(_tuple_[0]) + '_' + str(_tuple_[1])\n",
    "for k, k_df in _df_.sort(['id','timestamp']).group_by('id', maintain_order=True):\n",
    "    for i in range(1, len(k_df)-1):\n",
    "        _fm_tuple_ = (k_df['long_grid'][i],   k_df['lat_grid'][i])\n",
    "        _fm_       = toNodeName(_fm_tuple_)\n",
    "        _to_tuple_ = (k_df['long_grid'][i+1], k_df['lat_grid'][i+1])\n",
    "        _to_       = toNodeName(_to_tuple_)\n",
    "        lu['fm'].append(_fm_)\n",
    "        lu['to'].append(_to_)\n",
    "        if _fm_ not in pos: pos[_fm_] = _fm_tuple_\n",
    "        if _to_ not in pos: pos[_to_] = _to_tuple_\n",
    "#rt.link(pl.DataFrame(lu), [('fm','to')], pos, node_size=1.0, w=1200, h=800)"
   ]
  },
  {
   "cell_type": "code",
   "execution_count": null,
   "metadata": {},
   "outputs": [],
   "source": [
    "lat_rez, long_rez = 1500, 1500\n",
    "_df_ = df_not_id28.with_columns((pl.col('lat')  * lat_rez) .cast(pl.Int64).alias('lat_grid'),\n",
    "                                (pl.col('long') * long_rez).cast(pl.Int64).alias('long_grid'))\n",
    "_df_ = _df_.sort(['id','timestamp'])\n",
    "_lu_      = {'id':[], 'long_grid':[], 'lat_grid':[], 'timestamp':[]}\n",
    "for k, k_df in _df_.group_by(['id'], maintain_order=True):\n",
    "    for l, l_df in k_df.group_by(['lat_grid','long_grid', 'timestamp'], maintain_order=True):\n",
    "        _lu_['id'].append(l_df['id'][0])\n",
    "        _lu_['long_grid'].append(l_df['long_grid'][0])\n",
    "        _lu_['lat_grid'].append(l_df['lat_grid'][0])\n",
    "        _lu_['timestamp'].append(l_df['timestamp'][0])\n",
    "\n",
    "df_grid_trans = pl.DataFrame(_lu_)\n",
    "df_grid_trans = df_grid_trans.with_columns(pl.col('long_grid').shift().alias('long_grid_last'),\n",
    "                                           pl.col('lat_grid'). shift().alias('lat_grid_last'),\n",
    "                                           pl.col('timestamp').shift().alias('timestamp_last'),\n",
    "                                           pl.col('id').shift().alias('id_last'))\n",
    "df_grid_trans = df_grid_trans.with_columns((    pl.col('timestamp') - pl.col('timestamp_last')). alias('t_delta'),\n",
    "                                           (abs(pl.col('long_grid') - pl.col('long_grid_last'))).alias('long_inc'),\n",
    "                                           (abs(pl.col('lat_grid')  - pl.col('lat_grid_last'))). alias('lat_inc'),\n",
    "                                           (abs(pl.col('id')        - pl.col('id_last'))      ). alias('id_inc'))\n",
    "\n",
    "df_grid_trans = df_grid_trans.filter((pl.col('long_inc') < 8) & (pl.col('lat_inc') < 8) & (pl.col('id_inc') == 0))\n",
    "df_grid_trans = df_grid_trans.sort('long_inc')\n",
    "for k, k_df in df_grid_trans.group_by('long_inc', maintain_order=True): print('long_inc', k[0], len(k_df))\n",
    "print()\n",
    "df_grid_trans = df_grid_trans.sort('lat_inc')\n",
    "for k, k_df in df_grid_trans.group_by('lat_inc'):  print('lat_inc',  k[0], len(k_df))"
   ]
  },
  {
   "cell_type": "code",
   "execution_count": null,
   "metadata": {},
   "outputs": [],
   "source": [
    "pos = {}\n",
    "lu  = {'fm':[], 'to':[]}\n",
    "for k, k_df in df_grid_trans.group_by(['long_grid','lat_grid','long_grid_last','lat_grid_last']):\n",
    "    _fm_ = str(k[2]) + '_' + str(k[3])\n",
    "    _to_ = str(k[0]) + '_' + str(k[1])\n",
    "    lu['fm'].append(_fm_)\n",
    "    lu['to'].append(_to_)\n",
    "    if _fm_ not in pos: pos[_fm_] = (k[2], k[3])\n",
    "    if _to_ not in pos: pos[_to_] = (k[0], k[1])\n",
    "rt.link(pl.DataFrame(lu), [('fm','to')], pos, node_size=1.0, w=1200, h=800)"
   ]
  },
  {
   "cell_type": "code",
   "execution_count": null,
   "metadata": {},
   "outputs": [],
   "source": []
  }
 ],
 "metadata": {
  "kernelspec": {
   "display_name": "Python 3",
   "language": "python",
   "name": "python3"
  },
  "language_info": {
   "codemirror_mode": {
    "name": "ipython",
    "version": 3
   },
   "file_extension": ".py",
   "mimetype": "text/x-python",
   "name": "python",
   "nbconvert_exporter": "python",
   "pygments_lexer": "ipython3",
   "version": "3.12.3"
  }
 },
 "nbformat": 4,
 "nbformat_minor": 2
}
