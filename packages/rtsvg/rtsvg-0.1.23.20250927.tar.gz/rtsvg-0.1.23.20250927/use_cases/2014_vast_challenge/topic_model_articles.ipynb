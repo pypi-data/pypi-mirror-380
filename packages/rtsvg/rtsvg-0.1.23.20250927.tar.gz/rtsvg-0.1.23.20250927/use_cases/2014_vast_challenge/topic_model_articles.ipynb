{
 "cells": [
  {
   "cell_type": "code",
   "execution_count": null,
   "metadata": {},
   "outputs": [],
   "source": [
    "import pandas as pd\n",
    "import polars as pl\n",
    "import numpy  as np\n",
    "from top2vec import Top2Vec\n",
    "import sys\n",
    "sys.path.insert(1, '../../rtsvg')\n",
    "from rtsvg import *\n",
    "rt = RACETrack()"
   ]
  },
  {
   "cell_type": "code",
   "execution_count": null,
   "metadata": {},
   "outputs": [],
   "source": [
    "import os\n",
    "_base_dir_ = '../../../data/2014_vast/MC1/News Articles'\n",
    "_lu_ = {'directory':[], 'file':[], 'source':[], 'title':[], 'published':[], 'article':[], 'author':[], 'location':[]}\n",
    "for _news_source_ in os.listdir(_base_dir_):\n",
    "    for _article_ in os.listdir(os.path.join(_base_dir_, _news_source_)):\n",
    "        _txt_raw_     = open(os.path.join(_base_dir_, _news_source_, _article_), 'rb').read()        \n",
    "        _txt_better_  = str(_txt_raw_, encoding='latin').split('\\n')\n",
    "        _txt_         = []\n",
    "        for _line_ in _txt_better_:\n",
    "            if _line_ == '' or _line_ == '\\n' or _line_ == '\\r': continue\n",
    "            _txt_.append(_line_.strip())        \n",
    "        _just_article_txt_, _title_, _source_, _published_, _author_, _location_ = [], None, None, None, None, None\n",
    "        row_i = 0\n",
    "        while row_i < len(_txt_):\n",
    "            _row_ = _txt_[row_i]\n",
    "            if   _row_.startswith('TITLE:'):     _title_     = _row_.replace('TITLE: ', '')\n",
    "            elif _row_.startswith('SOURCE:'):    _source_    = _row_.replace('SOURCE: ', '')\n",
    "            elif _row_.startswith('AUTHOR:'):    _author_    = _row_.replace('AUTHOR: ', '')\n",
    "            elif _row_.startswith('LOCATION:'):  _location_  = _row_.replace('LOCATION: ', '')\n",
    "            elif _row_.startswith('PUBLISHED:'): \n",
    "                _published_ = _row_.replace('PUBLISHED: ', '')\n",
    "                if _published_ == 'Petrus Gerhard' or _published_ == 'By Haneson Ngohebo':\n",
    "                    _published_ = _txt_[row_i+1]\n",
    "                    row_i += 1\n",
    "                if _published_ == 'PROTESTS SWELL IN ABILA IN RESPONSE TO CALLS TO ACTION':\n",
    "                    _published_ = _author_\n",
    "                    _author_    = _title_\n",
    "                    _title_     = 'PROTESTS SWELL IN ABILA IN RESPONSE TO CALLS TO ACTION'\n",
    "            else:                                \n",
    "                _just_article_txt_.append(_row_)\n",
    "            row_i += 1\n",
    "            \n",
    "        _lu_['directory'].append(_news_source_), _lu_['file'].append(_article_), _lu_['author'].append(_author_), _lu_['location'].append(_location_)\n",
    "        _lu_['title'].append(_title_), _lu_['source'].append(_source_), _lu_['published'].append(_published_), _lu_['article'].append('\\n'.join(_just_article_txt_))\n",
    "\n",
    "df = pd.DataFrame(_lu_)\n",
    "df = rt.columnsAreTimestamps(df, 'published')"
   ]
  },
  {
   "cell_type": "code",
   "execution_count": null,
   "metadata": {},
   "outputs": [],
   "source": [
    "ls = df['article'].to_list()\n",
    "topic_model = Top2Vec(ls)\n",
    "df['topic_number'] = topic_model.get_documents_topics(list(range(len(df))))[0]\n",
    "print(topic_model.get_num_topics())\n",
    "rt.smallMultiples(df, category_by='topic_number', sm_type='wordCloud', sm_params={'text_fields':'article'})"
   ]
  },
  {
   "cell_type": "code",
   "execution_count": null,
   "metadata": {},
   "outputs": [],
   "source": [
    "rt.tile([rt.temporalBarChart(df, w=1024, h=300), rt.histogram(df, bin_by='topic_number', color_by='source', w=300, h=300)])"
   ]
  },
  {
   "cell_type": "code",
   "execution_count": null,
   "metadata": {},
   "outputs": [],
   "source": [
    "rt.xy(df, x_field='published', y_field=['topic_number','source'], color_by='source', w=1024, h=384)"
   ]
  },
  {
   "cell_type": "code",
   "execution_count": null,
   "metadata": {},
   "outputs": [],
   "source": []
  }
 ],
 "metadata": {
  "kernelspec": {
   "display_name": ".venv",
   "language": "python",
   "name": "python3"
  },
  "language_info": {
   "codemirror_mode": {
    "name": "ipython",
    "version": 3
   },
   "file_extension": ".py",
   "mimetype": "text/x-python",
   "name": "python",
   "nbconvert_exporter": "python",
   "pygments_lexer": "ipython3",
   "version": "3.11.6"
  }
 },
 "nbformat": 4,
 "nbformat_minor": 2
}
