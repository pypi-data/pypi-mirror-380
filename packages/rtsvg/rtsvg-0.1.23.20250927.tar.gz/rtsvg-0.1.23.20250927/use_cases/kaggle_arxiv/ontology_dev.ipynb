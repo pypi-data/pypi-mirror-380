{
 "cells": [
  {
   "cell_type": "code",
   "execution_count": null,
   "metadata": {},
   "outputs": [],
   "source": [
    "import pandas as pd\n",
    "import polars as pl\n",
    "import numpy as np\n",
    "import networkx as nx\n",
    "import json\n",
    "import time\n",
    "import os\n",
    "import sys\n",
    "sys.path.insert(1, '../../rtsvg')\n",
    "from rtsvg import *\n",
    "from rt_ontologies_mixin import jsonAbsolutePath, fillJSONPathElements\n",
    "rt = RACETrack()"
   ]
  },
  {
   "cell_type": "code",
   "execution_count": null,
   "metadata": {},
   "outputs": [],
   "source": [
    "#\n",
    "# time:  1m 28s \n",
    "# recs:  2_486_206\n",
    "#\n",
    "\n",
    "# Read the original json file and make a graph representation of the json structure\n",
    "print('Reading JSON File... ')\n",
    "_all_ = open('../../../data/kaggle_arXiv/arxiv-metadata-oai-snapshot.json', encoding='utf-8').read()\n",
    "print('Separating into lines...')\n",
    "_jsons_ = []\n",
    "for _line_ in _all_.split('\\n'):\n",
    "    if len(_line_) == 0: continue\n",
    "    _jsons_.append(json.loads(_line_))\n",
    "    if len(_jsons_) > 1000: break # short circuit while developing...\n",
    "print(f'{len(_jsons_)=}')\n",
    "print('Analyzing json structure...')\n",
    "_json_repr_ = rt.jsonRepr(_jsons_)\n",
    "print('Making graph representation...')\n",
    "df, relates, labels = _json_repr_.starPathGraphDataFrame()\n",
    "len(df), df.columns"
   ]
  },
  {
   "cell_type": "code",
   "execution_count": null,
   "metadata": {},
   "outputs": [],
   "source": [
    "# Display the graph structure\n",
    "g   = rt.createNetworkXGraph(df, relates)\n",
    "pos = rt.hyperTreeLayout(g)\n",
    "rt.linkNode(df, relates, pos, node_labels=labels, draw_labels=True, node_label_max_w=None, w=1280, h=768)"
   ]
  },
  {
   "cell_type": "code",
   "execution_count": null,
   "metadata": {},
   "outputs": [],
   "source": [
    "xform_spec = \"\"\"\n",
    "__id__          = '$.id'         | PaperID   | uniq\n",
    "__journalref__  = '$.journal-ref'| JournalID | uniq\n",
    "__fullname__    = fullName('$.authors_parsed[*][0]', '$.authors_parsed[*][1]', '$.authors_parsed[*][2]')\n",
    "__versionNode__ = versionNode('$.id', '$.versions[*].version') | xsd:string | uniq\n",
    "__id__          --- hasTitle          --- stripString('$.title')    | xsd:string   | uniq @@@ __journalref__ ^^^ 'kaggle_arXiv'\n",
    "__id__          --- hasAbstract       --- stripString('$.abstract') | xsd:string   | cont @@@ __journalref__ ^^^ 'kaggle_arXiv'\n",
    "__id__          --- hasSubmitter      --- '$.submitter'             | xsd:string   | ambi @@@ __journalref__ ^^^ 'kaggle_arXiv'\n",
    "__id__          --- hasDOI            --- '$.doi'                   | xsd:string   | uniq @@@ __journalref__ ^^^ 'kaggle_arXiv'\n",
    "__id__          --- hasLicense        --- '$.license'               | xsd:string   | uniq @@@ __journalref__ ^^^ 'kaggle_arXiv'\n",
    "__id__          --- updateDate        --- '$.update_date'           | xsd:date     | date @@@ __journalref__ ^^^ 'kaggle_arXiv'\n",
    "__id__          --- hasAuthors        --- '$.authors'               | xsd:string   | ambi @@@ __journalref__ ^^^ 'kaggle_arXiv'\n",
    "__id__          --- hasAuthor         --- __fullname__              | xsd:string   | ambi @@@ __journalref__ ^^^ 'kaggle_arXiv'\n",
    "__id__          --- hasVersion        --- __versionNode__                                 @@@ __journalref__ ^^^ 'kaggle_arXiv'\n",
    "__versionNode__ --- hasTimestamp      --- '$.versions[*].created'   | xsd:dateTime | dttm @@@ __journalref__ ^^^ 'kaggle_arXiv'\n",
    "\"\"\"\n",
    "def fullName(last, first, middle) -> str: return f'{last} {first} {middle}'\n",
    "def versionNode(id, version) -> str: return f'{id}|{version}'\n",
    "def stripString(s) -> str: \n",
    "    s = s.strip()\n",
    "    s = s.replace('\\\\n', ' ')\n",
    "    return ' '.join(s.split())\n",
    "ofv = rt.ontologyFrameworkInstance(xform_spec=xform_spec, funcs={'fullName': fullName, 'stripString': stripString, 'versionNode': versionNode})\n",
    "ofv.parse(_jsons_)\n",
    "print(len(ofv.df_triples))\n",
    "ofv.df_triples"
   ]
  },
  {
   "cell_type": "code",
   "execution_count": null,
   "metadata": {},
   "outputs": [],
   "source": [
    "# for _uid_ in ofv.uid_lu: print(ofv.uid_lu[_uid_])"
   ]
  },
  {
   "cell_type": "code",
   "execution_count": null,
   "metadata": {},
   "outputs": [],
   "source": []
  }
 ],
 "metadata": {
  "kernelspec": {
   "display_name": ".venv",
   "language": "python",
   "name": "python3"
  },
  "language_info": {
   "codemirror_mode": {
    "name": "ipython",
    "version": 3
   },
   "file_extension": ".py",
   "mimetype": "text/x-python",
   "name": "python",
   "nbconvert_exporter": "python",
   "pygments_lexer": "ipython3",
   "version": "3.11.6"
  }
 },
 "nbformat": 4,
 "nbformat_minor": 2
}
