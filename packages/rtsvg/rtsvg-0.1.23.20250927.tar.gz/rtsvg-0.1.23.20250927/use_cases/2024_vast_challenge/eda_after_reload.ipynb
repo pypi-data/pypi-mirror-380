{
 "cells": [
  {
   "cell_type": "code",
   "execution_count": null,
   "metadata": {},
   "outputs": [],
   "source": [
    "import pandas as pd\n",
    "import polars as pl\n",
    "import numpy as np\n",
    "from rtsvg import *\n",
    "rt = RACETrack()\n",
    "ofi = rt.ontologyFrameworkInstance().fm_files('../../../data/2024_vast/MC1/2024_rt_ontology')\n",
    "print(ofi, type(ofi))"
   ]
  },
  {
   "cell_type": "code",
   "execution_count": null,
   "metadata": {},
   "outputs": [],
   "source": [
    "_df_orig_    = ofi.df_triples\n",
    "\n",
    "# Only keep events\n",
    "vrbs_to_keep = set()\n",
    "for _vrb_ in set(_df_orig_['vrb']):\n",
    "    if _vrb_.startswith('Event.'): vrbs_to_keep.add(_vrb_)\n",
    "_df_ = _df_orig_.filter(pl.col('vrb').is_in(vrbs_to_keep))\n",
    "print(f'Filtered ... {len(_df_)=}')\n",
    "\n",
    "# Add in the actual entity names\n",
    "_df_ = _df_.with_columns(pl.col('sbj').map_elements(lambda x: ofi.uid_lu[x][0], return_dtype=pl.String).alias('sbj_str'),\n",
    "                         pl.col('obj').map_elements(lambda x: ofi.uid_lu[x][0], return_dtype=pl.String).alias('obj_str'))\n",
    "_df_ = _df_.drop(['sdisp', 'odisp', 'grp', 'gdisp', 'src'])\n",
    "\n",
    "# Add in the edit date\n",
    "_df_join_ = _df_orig_.filter(pl.col('vrb') == 'Property.dateAdded').with_columns(pl.col('obj').map_elements(lambda x: ofi.uid_lu[x][0], return_dtype=pl.String).alias('timestamp'))\n",
    "_df_join_ = _df_join_.drop(['uid', 'stype', 'sdisp', 'vrb', 'obj', 'otype', 'odisp', 'grp', 'gdisp', 'src'])\n",
    "_df_      = _df_.join(_df_join_, left_on='uid', right_on='sbj')\n",
    "print(f'Edit Date Joined ... {len(_df_)=}')\n",
    "\n",
    "# Add in the last edited by\n",
    "_df_join_ = _df_orig_.filter(pl.col('vrb') == 'Property.lastEditedBy').with_columns(pl.col('obj').map_elements(lambda x: ofi.uid_lu[x][0], return_dtype=pl.String).alias('last_edited_by'))\n",
    "_df_join_ = _df_join_.drop(['uid', 'stype', 'sdisp', 'vrb', 'obj', 'otype', 'odisp', 'grp', 'gdisp', 'src'])\n",
    "_df_      = _df_.join(_df_join_, left_on='uid', right_on='sbj')\n",
    "print(f'Last Edited By Joined ... {len(_df_)=}')\n",
    "\n",
    "# Convet the timestamp string to a timestamp\n",
    "_df_      = rt.columnsAreTimestamps(_df_, 'timestamp')\n",
    "\n",
    "rt.temporalBarChart(_df_, color_by='vrb')"
   ]
  },
  {
   "cell_type": "code",
   "execution_count": null,
   "metadata": {},
   "outputs": [],
   "source": [
    "rt.smallMultiples(_df_, category_by='last_edited_by', sm_type='temporalBarChart', color_by='vrb', w=1536, w_sm_override=128, h_sm_override=80)"
   ]
  },
  {
   "cell_type": "code",
   "execution_count": null,
   "metadata": {},
   "outputs": [],
   "source": [
    "rt.smallMultiples(_df_, category_by='obj_str', sm_type='temporalBarChart', color_by='vrb', w=1536, w_sm_override=128, h_sm_override=80)"
   ]
  }
 ],
 "metadata": {
  "kernelspec": {
   "display_name": ".venv",
   "language": "python",
   "name": "python3"
  },
  "language_info": {
   "codemirror_mode": {
    "name": "ipython",
    "version": 3
   },
   "file_extension": ".py",
   "mimetype": "text/x-python",
   "name": "python",
   "nbconvert_exporter": "python",
   "pygments_lexer": "ipython3",
   "version": "3.12.3"
  }
 },
 "nbformat": 4,
 "nbformat_minor": 2
}
