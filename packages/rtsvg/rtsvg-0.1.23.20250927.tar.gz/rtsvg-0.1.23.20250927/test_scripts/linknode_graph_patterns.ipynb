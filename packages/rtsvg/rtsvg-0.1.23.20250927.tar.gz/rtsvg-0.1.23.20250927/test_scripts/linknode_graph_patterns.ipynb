{
 "cells": [
  {
   "cell_type": "code",
   "execution_count": null,
   "id": "6cb6d609",
   "metadata": {},
   "outputs": [],
   "source": [
    "import polars as pl\n",
    "import networkx as nx\n",
    "import rtsvg\n",
    "from linknode_graph_patterns import LinkNodeGraphPatterns\n",
    "rt = rtsvg.RACETrack()\n",
    "def graphAsDataFrame(_g_):\n",
    "    _lu_ = {'fm':[], 'to':[]}\n",
    "    for _e_ in _g_.edges: _lu_['fm'].append(_e_[0]), _lu_['to'].append(_e_[1])\n",
    "    return pl.DataFrame(_lu_)\n",
    "_patterns_ = LinkNodeGraphPatterns()\n",
    "_tiles_    = []\n",
    "for _type_ in _patterns_.types:\n",
    "    g      = _patterns_.createPattern(_type_)\n",
    "    _lms_  = rt.identifyLandmarks(g)\n",
    "    _node_colors_ = {}\n",
    "    for _lm_ in _lms_[0]: _node_colors_[_lm_] = 'red'\n",
    "    df     = graphAsDataFrame(g)\n",
    "    params = {'df':df, 'relationships':[('fm','to')], 'w':256, 'h':256, 'node_size':'small', 'link_arrow':False, 'node_color':_node_colors_}\n",
    "    pos_nx = nx.spring_layout(g)\n",
    "    _tiles_.append(rt.link(pos=pos_nx,  **params))\n",
    "    pos_ref = rt.springLayout(g)\n",
    "    _tiles_.append(rt.link(pos=pos_ref, **params))\n",
    "    pos_psl = rtsvg.PolarsForceDirectedLayout(g).results()\n",
    "    _tiles_.append(rt.link(pos=pos_psl, **params))\n",
    "rt.table(_tiles_, per_row=3, spacer=10)"
   ]
  },
  {
   "cell_type": "code",
   "execution_count": null,
   "id": "50f6d948",
   "metadata": {},
   "outputs": [],
   "source": [
    "'''\n",
    "g     = _patterns_.createPattern('checker')\n",
    "df    = graphAsDataFrame(g)\n",
    "_igp_ = rt.interactiveGraphPanel(df, {'relationships':[('fm','to')]}, w=1200, h=800)\n",
    "_igp_\n",
    "'''"
   ]
  }
 ],
 "metadata": {
  "kernelspec": {
   "display_name": ".venv (3.13.7)",
   "language": "python",
   "name": "python3"
  },
  "language_info": {
   "codemirror_mode": {
    "name": "ipython",
    "version": 3
   },
   "file_extension": ".py",
   "mimetype": "text/x-python",
   "name": "python",
   "nbconvert_exporter": "python",
   "pygments_lexer": "ipython3",
   "version": "3.13.7"
  }
 },
 "nbformat": 4,
 "nbformat_minor": 5
}
