{
 "cells": [
  {
   "cell_type": "code",
   "execution_count": null,
   "id": "8c0110f2",
   "metadata": {},
   "outputs": [],
   "source": [
    "#\n",
    "# Example of nbsp's in svg\n",
    "# ... they work correctly\n",
    "#\n",
    "import rtsvg\n",
    "rt = rtsvg.RACETrack()\n",
    "_svg_ = '''\n",
    "<svg x=\"0\" y=\"0\" width=\"400\" height=\"100\" xmlns=\"http://www.w3.org/2000/svg\">\n",
    "<rect x=\"0\" y=\"0\" width=\"400\" height=\"100\" fill=\"white\"/>\n",
    "<text x=\"10\" y=\"15\" font-family=\"Courier\" fill=\"black\">\n",
    "  <tspan>This is a test</tspan>\n",
    "  <tspan x=\"10\" dy=\"1.2em\">&nbsp;&nbsp;Two in&nbsp;&nbsp;&nbsp;&nbsp;|--|</tspan>\n",
    "  <tspan x=\"10\" dy=\"1.2em\">&nbsp;&nbsp;Two more&nbsp;&nbsp;|--|</tspan>\n",
    "</text>\n",
    "</svg>\n",
    "'''\n",
    "rt.tile([_svg_])"
   ]
  },
  {
   "cell_type": "code",
   "execution_count": null,
   "id": "273dca5f",
   "metadata": {},
   "outputs": [],
   "source": []
  }
 ],
 "metadata": {
  "kernelspec": {
   "display_name": ".venv (3.13.3)",
   "language": "python",
   "name": "python3"
  },
  "language_info": {
   "codemirror_mode": {
    "name": "ipython",
    "version": 3
   },
   "file_extension": ".py",
   "mimetype": "text/x-python",
   "name": "python",
   "nbconvert_exporter": "python",
   "pygments_lexer": "ipython3",
   "version": "3.13.3"
  }
 },
 "nbformat": 4,
 "nbformat_minor": 5
}
