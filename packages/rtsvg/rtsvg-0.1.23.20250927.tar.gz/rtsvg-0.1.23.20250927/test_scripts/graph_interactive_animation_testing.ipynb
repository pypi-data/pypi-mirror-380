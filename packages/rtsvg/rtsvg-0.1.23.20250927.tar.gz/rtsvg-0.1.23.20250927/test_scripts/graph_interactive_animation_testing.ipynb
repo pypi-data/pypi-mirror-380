{
 "cells": [
  {
   "cell_type": "code",
   "execution_count": null,
   "id": "1e29112c",
   "metadata": {},
   "outputs": [],
   "source": [
    "#\n",
    "# Script meant to test the ability to show brief \"help\" animations in the interactive graph panel\n",
    "# ... animations still showing incorrect behavior\n",
    "#\n",
    "import polars as pl\n",
    "import networkx as nx\n",
    "import rtsvg\n",
    "rt = rtsvg.RACETrack()\n",
    "\n",
    "_base_network_ = '0'\n",
    "_base_dir_     = '../../data/stanford/facebook/'\n",
    "_layout_file_  = _base_dir_ + _base_network_ + '.layout.parquet'\n",
    "_edges_ = open(_base_dir_ + _base_network_ + '.edges', 'rt').read()\n",
    "_lu_ = {'fm':[], 'to':[]}\n",
    "for _edge_ in _edges_.split('\\n'):\n",
    "    if _edge_ == '': continue\n",
    "    _lu_['fm'].append(_edge_.split(' ')[0])\n",
    "    _lu_['to'].append(_edge_.split(' ')[1])\n",
    "df        = pl.DataFrame(_lu_)\n",
    "_relates_ = [('fm','to')]\n",
    "g         = rt.createNetworkXGraph(df, _relates_)\n",
    "\n",
    "# Provides colors based on community\n",
    "_node_colors_ = {}\n",
    "community_i   = 0\n",
    "for _community_ in nx.community.louvain_communities(g):\n",
    "    community_i += 1\n",
    "    for _node_ in _community_: _node_colors_[_node_] = rt.co_mgr.getColor(community_i)\n",
    "\n",
    "#_rtg_ = rt.interactiveGraphPanel(df, {'relationships':_relates_, 'node_color':_node_colors_}, w=800, h=500)\n",
    "#_rtg_"
   ]
  },
  {
   "cell_type": "code",
   "execution_count": null,
   "id": "f33827e6",
   "metadata": {},
   "outputs": [],
   "source": [
    "#_rtg_.setAnimation('<rect x=\"10\" y=\"10\" width=\"10\" height=\"10\" fill=\"blue\"/>')"
   ]
  },
  {
   "cell_type": "code",
   "execution_count": null,
   "id": "0f49c29c",
   "metadata": {},
   "outputs": [],
   "source": [
    "#_rtg_.setAnimation('<text x=\"5\" y=\"15\" fill=\"black\"> popStack </text>')"
   ]
  },
  {
   "cell_type": "code",
   "execution_count": null,
   "id": "5a121f37",
   "metadata": {},
   "outputs": [],
   "source": []
  }
 ],
 "metadata": {
  "kernelspec": {
   "display_name": ".venv (3.13.7)",
   "language": "python",
   "name": "python3"
  },
  "language_info": {
   "codemirror_mode": {
    "name": "ipython",
    "version": 3
   },
   "file_extension": ".py",
   "mimetype": "text/x-python",
   "name": "python",
   "nbconvert_exporter": "python",
   "pygments_lexer": "ipython3",
   "version": "3.13.7"
  }
 },
 "nbformat": 4,
 "nbformat_minor": 5
}
