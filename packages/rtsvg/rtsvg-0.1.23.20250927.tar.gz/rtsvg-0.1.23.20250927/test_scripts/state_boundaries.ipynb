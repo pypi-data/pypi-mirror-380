{
 "cells": [
  {
   "cell_type": "code",
   "execution_count": null,
   "id": "a0f2ae73",
   "metadata": {},
   "outputs": [],
   "source": [
    "import polars as pl\n",
    "import geopandas as gpd\n",
    "from os.path import exists\n",
    "import rtsvg\n",
    "rt = rtsvg.RACETrack()\n",
    "from shapely import Polygon, MultiPolygon\n",
    "shapefile_path = \"../../cb_2018_us_state_20m/cb_2018_us_state_20m/cb_2018_us_state_20m.shp\"\n",
    "gdf = gpd.read_file(shapefile_path)\n",
    "\n",
    "# Polygon Example\n",
    "_shape_ = gdf['geometry'][1] # For Polygons\n",
    "len(_shape_.exterior.coords)\n",
    "type(_shape_), isinstance(_shape_, Polygon), isinstance(_shape_, MultiPolygon)\n",
    "\n",
    "# MultiPolygon Example\n",
    "_shape_ = gdf['geometry'][0]\n",
    "len(_shape_.boundary.geoms[1].coords)\n",
    "type(_shape_), isinstance(_shape_, Polygon), isinstance(_shape_, MultiPolygon)\n",
    "\n",
    "gdf.head()"
   ]
  },
  {
   "cell_type": "code",
   "execution_count": null,
   "id": "f6556050",
   "metadata": {},
   "outputs": [],
   "source": [
    "_lu_ = {'fm':[], 'to':[]}\n",
    "pos  = {}\n",
    "for i in range(len(gdf)):\n",
    "    _shape_ = gdf['geometry'][i]\n",
    "    if isinstance(_shape_, Polygon):\n",
    "        for j in range(len(_shape_.exterior.coords)):\n",
    "            _xy0_     = _shape_.exterior.coords[j]\n",
    "            _xy1_     = _shape_.exterior.coords[(j+1)%len(_shape_.exterior.coords)]\n",
    "            _xy0_str_ = str(_xy0_)\n",
    "            _xy1_str_ = str(_xy1_)\n",
    "            pos[_xy0_str_] = _xy0_\n",
    "            pos[_xy1_str_] = _xy1_\n",
    "            _lu_['fm'].append(_xy0_str_), _lu_['to'].append(_xy1_str_)\n",
    "    elif isinstance(_shape_, MultiPolygon):\n",
    "        for k in range(len(_shape_.boundary.geoms)):\n",
    "            for j in range(len(_shape_.boundary.geoms[k].coords)):\n",
    "                _xy0_     = _shape_.boundary.geoms[k].coords[j]\n",
    "                _xy1_     = _shape_.boundary.geoms[k].coords[(j+1)%len(_shape_.boundary.geoms[k].coords)]\n",
    "                _xy0_str_ = str(_xy0_)\n",
    "                _xy1_str_ = str(_xy1_)\n",
    "                pos[_xy0_str_] = _xy0_\n",
    "                pos[_xy1_str_] = _xy1_\n",
    "                _lu_['fm'].append(_xy0_str_), _lu_['to'].append(_xy1_str_)\n",
    "    else: raise Exception(f'Unknown Type {type(_shape_)}')\n",
    "\n",
    "df       = pl.DataFrame(_lu_)\n",
    "_params_ = {'relationships':[('fm','to')], 'pos':pos}\n",
    "\n",
    "_filename_ = '../../state_layout.parquet'\n",
    "\n",
    "_igp_ = rt.interactiveGraphPanel(df, ln_params=_params_, w=900, h=700)\n",
    "if exists(_filename_): _igp_.loadLayout(_filename_)\n",
    "_igp_"
   ]
  },
  {
   "cell_type": "code",
   "execution_count": null,
   "id": "1abdef77",
   "metadata": {},
   "outputs": [],
   "source": [
    "_igp_.saveLayout(_filename_)"
   ]
  },
  {
   "cell_type": "code",
   "execution_count": null,
   "id": "9a559844",
   "metadata": {},
   "outputs": [],
   "source": []
  }
 ],
 "metadata": {
  "kernelspec": {
   "display_name": ".venv (3.13.7)",
   "language": "python",
   "name": "python3"
  },
  "language_info": {
   "codemirror_mode": {
    "name": "ipython",
    "version": 3
   },
   "file_extension": ".py",
   "mimetype": "text/x-python",
   "name": "python",
   "nbconvert_exporter": "python",
   "pygments_lexer": "ipython3",
   "version": "3.13.7"
  }
 },
 "nbformat": 4,
 "nbformat_minor": 5
}
