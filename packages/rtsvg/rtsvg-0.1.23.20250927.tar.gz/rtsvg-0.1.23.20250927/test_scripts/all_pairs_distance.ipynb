{
 "cells": [
  {
   "cell_type": "code",
   "execution_count": null,
   "id": "ff4592d5",
   "metadata": {},
   "outputs": [],
   "source": [
    "import polars as pl\n",
    "import networkx as nx\n",
    "import rtsvg\n",
    "import time\n",
    "import os\n",
    "\n",
    "rt = rtsvg.RACETrack()\n",
    "\n",
    "dfs = []\n",
    "\n",
    "_relates_    = [('fm', 'to')]\n",
    "_files_      = os.listdir('../../data/stanford/facebook')\n",
    "_edge_files_ = [_file_ for _file_ in _files_ if _file_.endswith('.edges')]\n",
    "for _file_ in _edge_files_:\n",
    "    with open('../../data/stanford/facebook/' + _file_, 'rt') as f:\n",
    "        _edges_ = f.read()\n",
    "        _lu_ = {'fm':[], 'to':[]}\n",
    "        for _edge_ in _edges_.split('\\n'):\n",
    "            if _edge_ == '': continue\n",
    "            _lu_['fm'].append(_edge_.split(' ')[0])\n",
    "            _lu_['to'].append(_edge_.split(' ')[1])\n",
    "        dfs.append(pl.DataFrame(_lu_))\n",
    "\n",
    "_stats_ = {'nodes':[], 'edges':[], 'time_spring_layout':[], 'time_dijkstra':[]}\n",
    "for _df_ in dfs:\n",
    "    g     = rt.createNetworkXGraph(_df_, _relates_)\n",
    "    t0    = time.time()\n",
    "    pos   = nx.spring_layout(g)\n",
    "    t1    = time.time()\n",
    "    dists = dict(nx.all_pairs_dijkstra_path_length(g))\n",
    "    t2    = time.time()\n",
    "\n",
    "    _stats_['nodes']             .append(len(g.nodes()))\n",
    "    _stats_['edges']             .append(len(g.edges()))\n",
    "    _stats_['time_spring_layout'].append(t1 - t0)\n",
    "    _stats_['time_dijkstra']     .append(t2 - t1)\n",
    "\n",
    "df = pl.DataFrame(_stats_)\n",
    "rt.table([rt.xy(df, x_field='nodes', y_field='time_spring_layout'),\n",
    "          rt.xy(df, x_field='nodes', y_field='time_dijkstra'),\n",
    "          rt.xy(df, x_field='edges', y_field='time_spring_layout'),\n",
    "          rt.xy(df, x_field='edges', y_field='time_dijkstra')], per_row=2)"
   ]
  },
  {
   "cell_type": "code",
   "execution_count": null,
   "id": "5927f078",
   "metadata": {},
   "outputs": [],
   "source": []
  }
 ],
 "metadata": {
  "kernelspec": {
   "display_name": ".venv (3.13.7)",
   "language": "python",
   "name": "python3"
  },
  "language_info": {
   "codemirror_mode": {
    "name": "ipython",
    "version": 3
   },
   "file_extension": ".py",
   "mimetype": "text/x-python",
   "name": "python",
   "nbconvert_exporter": "python",
   "pygments_lexer": "ipython3",
   "version": "3.13.7"
  }
 },
 "nbformat": 4,
 "nbformat_minor": 5
}
