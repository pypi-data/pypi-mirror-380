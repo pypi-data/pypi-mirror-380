{
 "cells": [
  {
   "cell_type": "code",
   "execution_count": null,
   "metadata": {},
   "outputs": [],
   "source": [
    "import pandas as pd\n",
    "import polars as pl\n",
    "import numpy as np\n",
    "import random\n",
    "from rtsvg import *\n",
    "rt = RACETrack()"
   ]
  },
  {
   "cell_type": "code",
   "execution_count": null,
   "metadata": {},
   "outputs": [],
   "source": [
    "#\n",
    "# Create an hourly pattern\n",
    "#\n",
    "timestamps, counts, colors = [], [], []\n",
    "for x in range(10):\n",
    "    for y in range(24):\n",
    "        if   y <  4:\n",
    "            to_add = 1.5\n",
    "        elif y < 12:\n",
    "            to_add = 4.5\n",
    "        elif y < 18:\n",
    "            to_add = 8\n",
    "        else:\n",
    "            to_add = 3\n",
    "        counts.append(to_add)\n",
    "        if   (x%3) == 0:\n",
    "            color = 'red'\n",
    "        elif (x%3) == 1:\n",
    "            color = 'green'\n",
    "        else:\n",
    "            color = 'blue'\n",
    "        if x == 9 and y < 12:\n",
    "            color = 'black'\n",
    "        colors.append(color)\n",
    "        year, month, day, minute, second = random.randint(2000,2020), random.randint(1,12), random.randint(1,27), random.randint(0,59), random.randint(0,59)\n",
    "        timestamps.append(f'{year:04}-{month:02}-{day:02} {y:02}:{minute:02}:{second:02}')\n",
    "df    = pd.DataFrame({'timestamp':timestamps, 'count':counts, 'color':colors})\n",
    "df    = rt.columnsAreTimestamps(df, 'timestamp')\n",
    "df_pl = pl.DataFrame(df)\n",
    "_svgs_ = []\n",
    "_svgs_.append(rt.periodicBarChart(df,                      time_period='hour'))\n",
    "_svgs_.append(rt.periodicBarChart(df_pl,                   time_period='hour'))\n",
    "_svgs_.append(rt.periodicBarChart(df,                      time_period='hour', color_by='color'))\n",
    "_svgs_.append(rt.periodicBarChart(df_pl,                   time_period='hour', color_by='color'))\n",
    "_svgs_.append(rt.periodicBarChart(df,    count_by='count', time_period='hour'))\n",
    "_svgs_.append(rt.periodicBarChart(df_pl, count_by='count', time_period='hour'))\n",
    "_svgs_.append(rt.periodicBarChart(df,    count_by='count', time_period='hour', color_by='color'))\n",
    "_svgs_.append(rt.periodicBarChart(df_pl, count_by='count', time_period='hour', color_by='color'))\n",
    "_svgs_.append(rt.periodicBarChart(df,    count_by='color', time_period='hour', color_by='color')) # this doesn't look right...\n",
    "_svgs_.append(rt.periodicBarChart(df_pl, count_by='color', time_period='hour', color_by='color')) # this doesn't look right...\n",
    "rt.table(_svgs_, per_row=2)"
   ]
  },
  {
   "cell_type": "markdown",
   "metadata": {},
   "source": [
    "<img src=\"periodic_barchart0.png\"/>"
   ]
  },
  {
   "cell_type": "code",
   "execution_count": null,
   "metadata": {},
   "outputs": [],
   "source": [
    "#\n",
    "# Create an monthly pattern\n",
    "#\n",
    "timestamps, counts, colors = [], [], []\n",
    "for x in range(10):\n",
    "    for y in range(1,13):\n",
    "        if   y in set([1, 4, 7]):\n",
    "            to_add = 1.5\n",
    "        elif y in set([2, 5, 8]):\n",
    "            to_add = 4.5\n",
    "        elif y in set([3, 6, 9]):\n",
    "            to_add = 8\n",
    "        else:\n",
    "            to_add = 3\n",
    "        counts.append(to_add)\n",
    "        if   (x%3) == 0:\n",
    "            color = 'red'\n",
    "        elif (x%3) == 1:\n",
    "            color = 'green'\n",
    "        else:\n",
    "            color = 'blue'\n",
    "        if x == 9 and y <= 6:\n",
    "            color = 'black'\n",
    "        colors.append(color)\n",
    "        year, hour, day, minute, second = random.randint(2000,2020), random.randint(0,23), random.randint(1,27), random.randint(0,59), random.randint(0,59)\n",
    "        timestamps.append(f'{year:04}-{y:02}-{day:02} {hour:02}:{minute:02}:{second:02}')\n",
    "df    = pd.DataFrame({'timestamp':timestamps, 'count':counts, 'color':colors})\n",
    "df    = rt.columnsAreTimestamps(df, 'timestamp')\n",
    "df_pl = pl.DataFrame(df)\n",
    "_svgs_ = []\n",
    "_svgs_.append(rt.periodicBarChart(df,                      time_period='month'))\n",
    "_svgs_.append(rt.periodicBarChart(df_pl,                   time_period='month'))\n",
    "_svgs_.append(rt.periodicBarChart(df,                      time_period='month', color_by='color'))\n",
    "_svgs_.append(rt.periodicBarChart(df_pl,                   time_period='month', color_by='color'))\n",
    "_svgs_.append(rt.periodicBarChart(df,    count_by='count', time_period='month'))\n",
    "_svgs_.append(rt.periodicBarChart(df_pl, count_by='count', time_period='month'))\n",
    "_svgs_.append(rt.periodicBarChart(df,    count_by='count', time_period='month', color_by='color'))\n",
    "_svgs_.append(rt.periodicBarChart(df_pl, count_by='count', time_period='month', color_by='color'))\n",
    "_svgs_.append(rt.periodicBarChart(df,    count_by='color', time_period='month', color_by='color')) # this doesn't look right...\n",
    "_svgs_.append(rt.periodicBarChart(df_pl, count_by='color', time_period='month', color_by='color')) # this doesn't look right...\n",
    "rt.table(_svgs_, per_row=2)"
   ]
  },
  {
   "cell_type": "markdown",
   "metadata": {},
   "source": [
    "<img src=\"periodic_barchart1.png\"/>"
   ]
  },
  {
   "cell_type": "code",
   "execution_count": null,
   "metadata": {},
   "outputs": [],
   "source": []
  }
 ],
 "metadata": {
  "kernelspec": {
   "display_name": "Python 3",
   "language": "python",
   "name": "python3"
  },
  "language_info": {
   "codemirror_mode": {
    "name": "ipython",
    "version": 3
   },
   "file_extension": ".py",
   "mimetype": "text/x-python",
   "name": "python",
   "nbconvert_exporter": "python",
   "pygments_lexer": "ipython3",
   "version": "3.12.3"
  }
 },
 "nbformat": 4,
 "nbformat_minor": 2
}
