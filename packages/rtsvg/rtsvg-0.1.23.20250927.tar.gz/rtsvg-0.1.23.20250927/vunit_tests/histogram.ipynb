{
 "cells": [
  {
   "cell_type": "code",
   "execution_count": null,
   "metadata": {},
   "outputs": [],
   "source": [
    "import pandas as pd\n",
    "import polars as pl\n",
    "import numpy as np\n",
    "from math import cos, sin\n",
    "from rtsvg import *\n",
    "rt = RACETrack()"
   ]
  },
  {
   "cell_type": "code",
   "execution_count": null,
   "metadata": {},
   "outputs": [],
   "source": [
    "df = pd.DataFrame({'bin':   ['a',   'a',     'b',   'b',     'c',   'c',    'c',      'd',   'd',     'd',    'd'],\n",
    "                   'bin2':  ['x',   'x',     'x',   'x',     'x',   'y',    'z',      'x',   'y',     'z',    'w'],\n",
    "                   'amt':   [10,    5,       10,    30,      1,     2,      1,        1,      2,      3,      4],\n",
    "                   'amt2':  [1,     2,       1,     2,       1,     2,      3,        1,      2,      3,      4],\n",
    "                   'color': ['red', 'blue',  'red', 'red',   'red', 'blue', 'yellow', 'blue', 'blue', 'blue', 'red']})\n",
    "df_pl = pl.DataFrame(df)\n",
    "_parms_ = {'w':160,'h':96}\n",
    "_svgs_  = []\n",
    "\n",
    "_svgs_.append(rt.histogram(df, bin_by='bin',                   **_parms_))\n",
    "_svgs_.append(rt.histogram(df, bin_by='bin', count_by='bin2',  **_parms_))\n",
    "_svgs_.append(rt.histogram(df, bin_by='bin', count_by='amt',   **_parms_))\n",
    "_svgs_.append(rt.histogram(df, bin_by='bin', count_by='amt2',  **_parms_))\n",
    "_svgs_.append(rt.histogram(df, bin_by='bin', count_by='color', **_parms_))\n",
    "\n",
    "_svgs_.append(rt.histogram(df_pl, bin_by='bin',                   **_parms_))\n",
    "_svgs_.append(rt.histogram(df_pl, bin_by='bin', count_by='bin2',  **_parms_))\n",
    "_svgs_.append(rt.histogram(df_pl, bin_by='bin', count_by='amt',   **_parms_))\n",
    "_svgs_.append(rt.histogram(df_pl, bin_by='bin', count_by='amt2',  **_parms_))\n",
    "_svgs_.append(rt.histogram(df_pl, bin_by='bin', count_by='color', **_parms_))\n",
    "\n",
    "_parms_['color_by'] = 'color'\n",
    "\n",
    "_svgs_.append(rt.histogram(df, bin_by='bin',                   **_parms_))\n",
    "_svgs_.append(rt.histogram(df, bin_by='bin', count_by='bin2',  **_parms_))\n",
    "_svgs_.append(rt.histogram(df, bin_by='bin', count_by='amt',   **_parms_))\n",
    "_svgs_.append(rt.histogram(df, bin_by='bin', count_by='amt2',  **_parms_)) # second row shows a little bit more than the row on top...  both should be 6\n",
    "_svgs_.append(rt.histogram(df, bin_by='bin', count_by='color', **_parms_))\n",
    "\n",
    "_svgs_.append(rt.histogram(df_pl, bin_by='bin',                   **_parms_))\n",
    "_svgs_.append(rt.histogram(df_pl, bin_by='bin', count_by='bin2',  **_parms_))\n",
    "_svgs_.append(rt.histogram(df_pl, bin_by='bin', count_by='amt',   **_parms_))\n",
    "_svgs_.append(rt.histogram(df_pl, bin_by='bin', count_by='amt2',  **_parms_)) # second row shows a little bit more than the row on top...  both should be 6\n",
    "_svgs_.append(rt.histogram(df_pl, bin_by='bin', count_by='color', **_parms_))\n",
    "\n",
    "rt.table(_svgs_, per_row=5)"
   ]
  },
  {
   "cell_type": "markdown",
   "metadata": {},
   "source": [
    "<img src=\"histogram0.png\"/>"
   ]
  },
  {
   "cell_type": "code",
   "execution_count": null,
   "metadata": {},
   "outputs": [],
   "source": [
    "_parms_ = {'w':160,'h':128}\n",
    "_svgs_ = []\n",
    "\n",
    "_str_ = 'bin'\n",
    "_svgs_.append(rt.histogram(df, bin_by=_str_, count_by=_str_, color_by=_str_, **_parms_))\n",
    "_str_ = 'bin2'\n",
    "_svgs_.append(rt.histogram(df, bin_by=_str_, count_by=_str_, color_by=_str_, **_parms_))\n",
    "_str_ = 'amt'\n",
    "_svgs_.append(rt.histogram(df, bin_by=_str_, count_by=_str_, color_by=_str_, **_parms_))\n",
    "_str_ = 'amt2'\n",
    "_svgs_.append(rt.histogram(df, bin_by=_str_, count_by=_str_, color_by=_str_, **_parms_))\n",
    "_str_ = 'color'\n",
    "_svgs_.append(rt.histogram(df, bin_by=_str_, count_by=_str_, color_by=_str_, **_parms_))\n",
    "\n",
    "_str_ = 'bin'\n",
    "_svgs_.append(rt.histogram(df_pl, bin_by=_str_, count_by=_str_, color_by=_str_, **_parms_))\n",
    "_str_ = 'bin2'\n",
    "_svgs_.append(rt.histogram(df_pl, bin_by=_str_, count_by=_str_, color_by=_str_, **_parms_))\n",
    "_str_ = 'amt'\n",
    "_svgs_.append(rt.histogram(df_pl, bin_by=_str_, count_by=_str_, color_by=_str_, **_parms_))\n",
    "_str_ = 'amt2'\n",
    "_svgs_.append(rt.histogram(df_pl, bin_by=_str_, count_by=_str_, color_by=_str_, **_parms_))\n",
    "_str_ = 'color'\n",
    "_svgs_.append(rt.histogram(df_pl, bin_by=_str_, count_by=_str_, color_by=_str_, **_parms_))\n",
    "\n",
    "rt.table(_svgs_, per_row=5)"
   ]
  },
  {
   "cell_type": "markdown",
   "metadata": {},
   "source": [
    "<img src=\"histogram1.png\" />"
   ]
  },
  {
   "cell_type": "code",
   "execution_count": null,
   "metadata": {},
   "outputs": [],
   "source": [
    "df = pd.DataFrame({'bin':  ['a','a','b','b','b','c'], \n",
    "                   'bin2': [ 1,  2,  1,  2,  3,  4],\n",
    "                   'count':[10, 5,   8,  3,  1,  4]})\n",
    "_svgs_ = []\n",
    "params = {'df':df, 'bin_by':'bin', 'count_by':'count', 'w':128, 'h':108}\n",
    "_svgs_.append(rt.histogram(**params))\n",
    "labels = {'a':'expansion', 'b':'way too many words', 'c':'even more more more more more words go here'}\n",
    "_svgs_.append(rt.histogram(labels=labels, **params))\n",
    "params['bin_by'] = ['bin','bin2']\n",
    "_svgs_.append(rt.histogram(**params))\n",
    "labels = {'a | 1':'first a', 'c | 4':'fourth \"c\"'}\n",
    "_svgs_.append(rt.histogram(labels=labels, **params))\n",
    "hst = rt.histogram(labels=labels, **params)\n",
    "_svgs_.append(rt.annotateEntities(hst, ['first a', 'b | 3']))\n",
    "rt.tile(_svgs_)"
   ]
  },
  {
   "cell_type": "code",
   "execution_count": null,
   "metadata": {},
   "outputs": [],
   "source": [
    "# More of a self referential comparison ... lots of combinations / too many to check by hand\n",
    "_params_ = {'w':128,'h':96}\n",
    "_svgs_   = []\n",
    "for combo in range(1, 2**len(df.columns)):\n",
    "    _list_ = list()\n",
    "    for bit in range(len(df.columns)):\n",
    "        if ((combo>>bit) & 0x01) == 0x01:\n",
    "            _list_.append(df.columns[bit])\n",
    "    count_by_list = list(df.columns)\n",
    "    count_by_list.append(None)\n",
    "    for count_by in count_by_list:        \n",
    "        for color_by in count_by_list:\n",
    "            for count_by_set_bit in range(2):\n",
    "                if count_by_set_bit == 0:\n",
    "                    count_by_set = False\n",
    "                else:\n",
    "                    count_by_set = True\n",
    "                for i in range(2):\n",
    "                    if i == 0: _svgs_.append(rt.histogram(df,    bin_by=_list_, count_by=count_by, color_by=color_by, count_by_set=count_by_set, **_params_))\n",
    "                    else:      _svgs_.append(rt.histogram(df_pl, bin_by=_list_, count_by=count_by, color_by=color_by, count_by_set=count_by_set, **_params_))\n",
    "rt.table(_svgs_, per_row=8)"
   ]
  },
  {
   "cell_type": "code",
   "execution_count": null,
   "metadata": {},
   "outputs": [],
   "source": []
  }
 ],
 "metadata": {
  "kernelspec": {
   "display_name": "Python 3",
   "language": "python",
   "name": "python3"
  },
  "language_info": {
   "codemirror_mode": {
    "name": "ipython",
    "version": 3
   },
   "file_extension": ".py",
   "mimetype": "text/x-python",
   "name": "python",
   "nbconvert_exporter": "python",
   "pygments_lexer": "ipython3",
   "version": "3.12.3"
  }
 },
 "nbformat": 4,
 "nbformat_minor": 2
}
