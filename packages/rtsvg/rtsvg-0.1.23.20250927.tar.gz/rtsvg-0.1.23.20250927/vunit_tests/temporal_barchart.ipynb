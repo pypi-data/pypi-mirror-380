{
 "cells": [
  {
   "cell_type": "code",
   "execution_count": null,
   "metadata": {},
   "outputs": [],
   "source": [
    "import pandas as pd\n",
    "import polars as pl\n",
    "import numpy as np\n",
    "from math import cos, sin, pi\n",
    "from rtsvg import *\n",
    "rt = RACETrack()"
   ]
  },
  {
   "cell_type": "code",
   "execution_count": null,
   "metadata": {},
   "outputs": [],
   "source": [
    "_ts_, _td_, d = pd.to_datetime('2023-01-01'), pd.Timedelta(days=1), 0.0\n",
    "timestamps, colors, counts = [], [], []\n",
    "for i in range(360):\n",
    "    timestamps.append(_ts_), counts.append(2.4 + sin(d)),            colors.append('red')\n",
    "    timestamps.append(_ts_), counts.append(2.8 + cos(d)),            colors.append('green')\n",
    "    timestamps.append(_ts_), counts.append(3   + cos(d) + 2*sin(d)), colors.append('blue')\n",
    "    d    += pi/16\n",
    "    _ts_ += _td_\n",
    "df    = pd.DataFrame({'timestamp':timestamps, 'count':counts, 'color':colors})\n",
    "df    = rt.columnsAreTimestamps(df, 'timestamp')\n",
    "df_pl = pl.DataFrame(df)\n",
    "df_pl = rt.columnsAreTimestamps(df_pl, 'timestamp')"
   ]
  },
  {
   "cell_type": "code",
   "execution_count": null,
   "metadata": {},
   "outputs": [],
   "source": [
    "svgs = []\n",
    "svgs.append(rt.temporalBarChart(df,                                      count_by='count',     color_by='color', w=1280))\n",
    "svgs.append(rt.temporalBarChart(df_pl,                                   count_by='count',     color_by='color', w=1280))\n",
    "\n",
    "svgs.append(rt.temporalBarChart(df.query('color==\"red\"'),                count_by='count',     color_by='color', w=1280, h=64))\n",
    "svgs.append(rt.temporalBarChart(df_pl.filter(pl.col('color') ==\"red\"),   count_by='count',     color_by='color', w=1280, h=64))\n",
    "\n",
    "svgs.append(rt.temporalBarChart(df.query('color==\"green\"'),              count_by='count',     color_by='color', w=1280, h=64))\n",
    "svgs.append(rt.temporalBarChart(df_pl.filter(pl.col('color') ==\"green\"), count_by='count',     color_by='color', w=1280, h=64))\n",
    "\n",
    "svgs.append(rt.temporalBarChart(df.query('color==\"blue\"'),               count_by='count',     color_by='color', w=1280, h=64))\n",
    "svgs.append(rt.temporalBarChart(df_pl.filter(pl.col('color') ==\"blue\"),  count_by='count',     color_by='color', w=1280, h=64))\n",
    "\n",
    "svgs.append(rt.xy              (df, x_field ='timestamp', y_field='count',  color_by='color', dot_size=None, line_groupby_field='color', w=1280,h=128))\n",
    "\n",
    "rt.tile(svgs,horz=False)"
   ]
  },
  {
   "cell_type": "markdown",
   "metadata": {},
   "source": [
    "<img src=\"temporal0.png\" />"
   ]
  },
  {
   "cell_type": "code",
   "execution_count": null,
   "metadata": {},
   "outputs": [],
   "source": [
    "df_agg = rt.temporalStatsAggregationWithGBFields(df, ts_field='timestamp', fields='count', freq='W', gb_fields='color').reset_index()\n",
    "rt.tile([rt.temporalBarChart(df.query('color == \"red\"'),             count_by='count', color_by='color', w=768, ignore_unintuitive=False),\n",
    "         rt.temporalBarChart(df_pl.filter(pl.col('color') == \"red\"), count_by='count', color_by='color', w=768, ignore_unintuitive=False),\n",
    "         rt.xy              (df_agg.query('color == \"red\"'), x_field ='timestamp', y_field='count_sum',  color_by='color', dot_size='small', line_groupby_field='color', w=768,h=128)], horz=False)"
   ]
  },
  {
   "cell_type": "markdown",
   "metadata": {},
   "source": [
    "<img src=\"temporal1.png\" />"
   ]
  },
  {
   "cell_type": "code",
   "execution_count": null,
   "metadata": {},
   "outputs": [],
   "source": [
    "df['day_of_month'] = df['timestamp'].apply(lambda x: x.day)\n",
    "df['month']        = df['timestamp'].apply(lambda x: x.month)\n",
    "svgs = []\n",
    "\n",
    "df_pl_mod, df_pl_mod_dom = rt.applyTransform(df_pl,     rt.createTField('timestamp', 'day'))\n",
    "df_pl_mod, df_pl_mod_mon = rt.applyTransform(df_pl_mod, rt.createTField('timestamp', 'month'))\n",
    "\n",
    "svgs.append(rt.temporalBarChart(df.query('day_of_month < 10 or day_of_month > 20'),         count_by='count', color_by='color', w=1280))\n",
    "svgs.append(rt.temporalBarChart(df_pl_mod.filter((pl.col(df_pl_mod_dom) < '10') | (pl.col(df_pl_mod_dom) > '20')), count_by='count', color_by='color', w=1280))\n",
    "\n",
    "svgs.append(rt.temporalBarChart(df.query('month == 1 or day_of_month > 5'),                 count_by='count', color_by='color', w=1280))\n",
    "svgs.append(rt.temporalBarChart(df_pl_mod.filter((pl.col(df_pl_mod_mon) == 'Jan') | (pl.col(df_pl_mod_dom) > '05')), count_by='count', color_by='color', w=1280))\n",
    "\n",
    "svgs.append(rt.temporalBarChart(df.query('month == 1 or month == 12 or day_of_month < 20'), count_by='count', color_by='color', w=1280))\n",
    "svgs.append(rt.temporalBarChart(df_pl_mod.filter((pl.col(df_pl_mod_mon) == 'Jan') | (pl.col(df_pl_mod_mon) == 'Dec') | (pl.col(df_pl_mod_dom) < '20')), count_by='count', color_by='color', w=1280))\n",
    "\n",
    "rt.tile(svgs, horz=False)"
   ]
  },
  {
   "cell_type": "markdown",
   "metadata": {},
   "source": [
    "<img src=\"temporal2.png\" />"
   ]
  },
  {
   "cell_type": "code",
   "execution_count": null,
   "metadata": {},
   "outputs": [],
   "source": [
    "timestamps = ['2022-01-01', '2022-01-01', '2022-01-01',   '2022-01-02', '2022-01-02',   '2022-01-03', '2022-01-03', '2022-01-03', '2022-01-03', '2022-01-03',   '2022-01-04', '2022-01-04', '2022-01-04']\n",
    "colors     = ['red',        'red',        'red',          'red',        'red',          'red',        'red',        'red',        'blue',       'blue',         'green',      'red',        'blue']\n",
    "setops     = ['a',          'a',          'b',            'a',          'a',            'a',          'b',          'c',          'a',          'a',            'a',          'a',          'a']\n",
    "counts     = [1,            2,            3,              5,            2,              2,            1,            1,            4,            1,              10,           1,            3]\n",
    "df = pd.DataFrame({'timestamp':timestamps, 'color':colors, 'setop':setops, 'count':counts})\n",
    "df['timestamp'] = df['timestamp'].astype('datetime64[ms]')\n",
    "df_pl = pl.DataFrame(df)\n",
    "\n",
    "svgs = []\n",
    "svgs.append(rt.temporalBarChart(df, color_by='color', count_by='setop',                      w=256))\n",
    "svgs.append(rt.temporalBarChart(df, color_by='color',                                        w=256))\n",
    "svgs.append(rt.temporalBarChart(df, color_by='color', count_by='count',                      w=256))\n",
    "svgs.append(rt.temporalBarChart(df, color_by='color', count_by='count',   count_by_set=True, w=256))\n",
    "\n",
    "svgs.append(rt.temporalBarChart(df_pl, color_by='color', count_by='setop',                      w=256))\n",
    "svgs.append(rt.temporalBarChart(df_pl, color_by='color',                                        w=256))\n",
    "svgs.append(rt.temporalBarChart(df_pl, color_by='color', count_by='count',                      w=256))\n",
    "svgs.append(rt.temporalBarChart(df_pl, color_by='color', count_by='count',   count_by_set=True, w=256))\n",
    "\n",
    "rt.table(svgs, per_row=4)"
   ]
  },
  {
   "cell_type": "markdown",
   "metadata": {},
   "source": [
    "<img src=\"temporal3.png\" />"
   ]
  },
  {
   "cell_type": "code",
   "execution_count": null,
   "metadata": {},
   "outputs": [],
   "source": [
    "timestamps = ['2022-01-01', '2022-01-02', '2022-01-03', '2022-01-04', '2022-01-05', '2022-01-06', '2022-01-07', '2022-01-08', '2022-01-09', '2022-01-10', '2022-01-11', '2022-01-12', '2022-01-13']\n",
    "counts     = [1,            2,            3,            5,            4,            2,            1,            1.5,          4,            5,            6,            3.5,          3]\n",
    "groups     = ['a',          'a',          'a',          'a',          'a',          'a',          'a',          'a',         'a',           'a',          'a',          'a',          'a']\n",
    "df    = pd.DataFrame({'timestamp':timestamps, 'count':counts, 'group':groups})\n",
    "df    = rt.columnsAreTimestamps(df, 'timestamp')\n",
    "df_pl = pl.DataFrame(df)\n",
    "\n",
    "timestamps, counts, groups = [], [], []\n",
    "a, d, t = 0.0, pd.Timedelta(hours=4), pd.to_datetime('2021-12-29')\n",
    "for i in range(128):\n",
    "    timestamps.append(t)\n",
    "    counts.append(10.0 + 5.0 * cos(a))\n",
    "    groups.append('b')\n",
    "    counts.append(8.0 + 2.0 * sin(2*a))\n",
    "    timestamps.append(t)\n",
    "    groups.append('c')\n",
    "    a += pi / 16\n",
    "    t += d\n",
    "\n",
    "df2 = pd.DataFrame({'ts':timestamps, 'ct':counts, 'group':groups})\n",
    "df2 = rt.columnsAreTimestamps(df2, 'ts')\n",
    "df2_pl = pl.DataFrame(df2)\n",
    "\n",
    "_svgs_ = []\n",
    "_svgs_.append(rt.temporalBarChart(df,    count_by='count'))\n",
    "_svgs_.append(rt.temporalBarChart(df_pl, count_by='count'))\n",
    "_svgs_.append(rt.temporalBarChart(df,    count_by='count',             y2_field='count', line2_groupby_field='group', line2_groupby_color='#000000'))\n",
    "_svgs_.append(rt.temporalBarChart(df_pl, count_by='count',             y2_field='count', line2_groupby_field='group', line2_groupby_color='#000000'))\n",
    "_svgs_.append(rt.temporalBarChart(df,    count_by='count', df2=df2,    y2_field='ct',    line2_groupby_field='group', line2_groupby_color='#000000'))\n",
    "_svgs_.append(rt.temporalBarChart(df_pl, count_by='count', df2=df2_pl, y2_field='ct',    line2_groupby_field='group', line2_groupby_color='#000000'))\n",
    "rt.co_mgr.str_to_color_lu['b'] = '#ff0000'\n",
    "rt.co_mgr.str_to_color_lu['c'] = '#00ff00'\n",
    "_svgs_.append(rt.temporalBarChart(df,    count_by='count', df2=df2,    y2_field='ct',    line2_groupby_field='group', line2_groupby_color='group', line2_groupby_dasharray=None, dot2_size=None))\n",
    "_svgs_.append(rt.temporalBarChart(df_pl, count_by='count', df2=df2_pl, y2_field='ct',    line2_groupby_field='group', line2_groupby_color='group', line2_groupby_dasharray=None, dot2_size=None))\n",
    "rt.table(_svgs_, per_row=2)"
   ]
  },
  {
   "cell_type": "code",
   "execution_count": null,
   "metadata": {},
   "outputs": [],
   "source": [
    "_svgs_ = []\n",
    "\n",
    "_ts_min_, _ts_max_ = '2022-01-03 00:00:00', '2022-01-05 23:59:59'\n",
    "_svgs_.append(rt.temporalBarChart(df,    count_by='count', ts_min=_ts_min_, ts_max=_ts_max_))\n",
    "_svgs_.append(rt.temporalBarChart(df_pl, count_by='count', ts_min=_ts_min_, ts_max=_ts_max_))\n",
    "\n",
    "_ts_min_, _ts_max_ = '2020-01-03 00:00:00', '2022-01-05 23:59:59'\n",
    "_svgs_.append(rt.temporalBarChart(df,    count_by='count', ts_min=_ts_min_, ts_max=_ts_max_))\n",
    "_svgs_.append(rt.temporalBarChart(df_pl, count_by='count', ts_min=_ts_min_, ts_max=_ts_max_))\n",
    "\n",
    "_ts_min_, _ts_max_ = '2022-01-03 00:00:00', '2025-01-05 23:59:59'\n",
    "_svgs_.append(rt.temporalBarChart(df,    count_by='count', ts_min=_ts_min_, ts_max=_ts_max_))\n",
    "_svgs_.append(rt.temporalBarChart(df_pl, count_by='count', ts_min=_ts_min_, ts_max=_ts_max_))\n",
    "\n",
    "_ts_min_, _ts_max_ = '2021-12-20', '2022-01-15'\n",
    "_svgs_.append(rt.temporalBarChart(df,    count_by='count', ts_min=_ts_min_, ts_max=_ts_max_))\n",
    "_svgs_.append(rt.temporalBarChart(df_pl, count_by='count', ts_min=_ts_min_, ts_max=_ts_max_))\n",
    "\n",
    "rt.table(_svgs_, per_row=2)"
   ]
  },
  {
   "cell_type": "code",
   "execution_count": null,
   "metadata": {},
   "outputs": [],
   "source": [
    "from datetime import timedelta, date\n",
    "import random\n",
    "import pandas as pd\n",
    "my_date  = date(2020, 1, 1)\n",
    "one_day = timedelta(days=1)\n",
    "base    = 10.0\n",
    "inc     = 0.5\n",
    "ts, val = [], []\n",
    "for i in range(0,60):\n",
    "    my_date =  my_date + one_day\n",
    "    if (i%2) == 0:\n",
    "        sd = 1.0\n",
    "    else:\n",
    "        sd = 6.0\n",
    "    for x in np.random.normal(base, sd, random.randint(100,1000)):\n",
    "        val.append(x)\n",
    "        ts.append(str(my_date) + f' {random.randint(0,23):02}:{random.randint(0,59):02}')\n",
    "    base += inc\n",
    "df    = pd.DataFrame({'ts': ts, 'val': val})\n",
    "df    = rt.columnsAreTimestamps(df, 'ts')\n",
    "df_pl = pl.DataFrame(df)\n",
    "rt.tile([rt.temporalBarChart(df, count_by='val', style='boxplot'),rt.temporalBarChart(df_pl, count_by='val', style='boxplot')])"
   ]
  },
  {
   "cell_type": "code",
   "execution_count": null,
   "metadata": {},
   "outputs": [],
   "source": []
  }
 ],
 "metadata": {
  "kernelspec": {
   "display_name": "Python 3",
   "language": "python",
   "name": "python3"
  },
  "language_info": {
   "codemirror_mode": {
    "name": "ipython",
    "version": 3
   },
   "file_extension": ".py",
   "mimetype": "text/x-python",
   "name": "python",
   "nbconvert_exporter": "python",
   "pygments_lexer": "ipython3",
   "version": "3.12.3"
  },
  "orig_nbformat": 4
 },
 "nbformat": 4,
 "nbformat_minor": 2
}
