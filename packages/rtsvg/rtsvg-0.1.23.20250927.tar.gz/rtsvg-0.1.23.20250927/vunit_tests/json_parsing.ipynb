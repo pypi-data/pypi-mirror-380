{
 "cells": [
  {
   "cell_type": "code",
   "execution_count": null,
   "metadata": {},
   "outputs": [],
   "source": [
    "import pandas as pd\n",
    "import polars as pl\n",
    "import numpy as np\n",
    "import json\n",
    "from rtsvg import *\n",
    "rt = RACETrack()\n",
    "def lEquals(l1, l2):\n",
    "    if len(l1) != len(l2): return False\n",
    "    for i in range(len(l1)):\n",
    "        if type(l1[i]) != type(l2[i]): return False\n",
    "        if type(l1[i]) == list:\n",
    "            l_equals = lEquals(l1[i],l2[i])\n",
    "            if l_equals == False: return False\n",
    "        if type(l1[i]) == dict:\n",
    "            d_equals = dEquals(l1[i],l2[i])\n",
    "            if d_equals == False: return False\n",
    "        if l1[i] != l2[i]: return False\n",
    "    return True\n",
    "def dEquals(d1, d2):\n",
    "    # Checks keys first\n",
    "    d1set, d2set = set(d1.keys()), set(d2.keys())\n",
    "    if len(d1set) != len(d2set): return False\n",
    "    for k in d1set: \n",
    "        if k not in d2set: return False\n",
    "\n",
    "    # Checks values\n",
    "    for k in d1set:\n",
    "        v1, v2 = d1[k], d2[k]\n",
    "        if type(v1) != type(v2): return False\n",
    "        if type(v1) == list:\n",
    "            l_equals = lEquals(v1,v2)\n",
    "            if l_equals == False: return False\n",
    "        if type(v1) == dict:\n",
    "            d_equals = dEquals(v1,v2)\n",
    "            if d_equals == False: return False\n",
    "        if v1 != v2: return False\n",
    "    \n",
    "    return True"
   ]
  },
  {
   "cell_type": "code",
   "execution_count": null,
   "metadata": {},
   "outputs": [],
   "source": [
    "my_json = json.loads('''\n",
    "{\n",
    "  \"id\":      1,\n",
    "  \"id_str\": \"1\",\n",
    "  \"array\":  [1, 2, 3],\n",
    "  \"dict\":   {\"a\": 1, \"b\": 2},\n",
    "  \"empty_stuff\":[],\n",
    "  \"empty_dict\":{},\n",
    "  \"more-stuff\":[ {\"id\":100, \"name\":\"mary\"},\n",
    "                 {\"id\":101, \"name\":\"joe\"},\n",
    "                 {\"id\":102, \"name\":\"fred\",  \"jobs\":[\"scientist\"]},\n",
    "                 {\"id\":103},\n",
    "                 {\"id\":104, \"name\":\"sally\", \"jobs\":[\"developer\", \"manager\", \"accountant\"]} ],\n",
    "  \"arr_win_arr\": [[1, 2, 3], [4, 5, 6]],\n",
    "  \"arr_deeper\":  [ {\"value\": 2.3, \"stuff\": [1, 2, 3]},\n",
    "                   {\"value\": 4.5, \"stuff\": [4, 5, 6]}                       \n",
    "  ]\n",
    "}\n",
    "''')"
   ]
  },
  {
   "cell_type": "code",
   "execution_count": null,
   "metadata": {},
   "outputs": [],
   "source": [
    "assert jsonAbsolutePath(\"$.id\",                     my_json) == 1\n",
    "assert jsonAbsolutePath(\"$.more-stuff[1].id\",       my_json) == 101\n",
    "assert jsonAbsolutePath(\"$.more-stuff[3].name\",     my_json) is None\n",
    "assert jsonAbsolutePath(\"$.more-stuff[4].jobs[1]\",  my_json) == 'manager'\n",
    "assert jsonAbsolutePath(\"$.more-stuff[4].jobs[3]\",  my_json) is None\n",
    "assert jsonAbsolutePath(\"$.arr_win_arr[1]\",         my_json) == [4, 5, 6]\n",
    "assert jsonAbsolutePath(\"$.arr_deeper[0].value\",    my_json) == 2.3\n",
    "_results_ = fillJSONPathElements([\"$.more-stuff[*].name\"], my_json) \n",
    "assert dEquals(_results_, {'$.more-stuff[*].name': ['mary', 'joe', 'fred', None, 'sally']})\n",
    "_results_ = fillJSONPathElements([\"$.more-stuff[*].name\", \"$.more-stuff[*].id\"], my_json)\n",
    "assert dEquals(_results_, {'$.more-stuff[*].name': ['mary', 'joe', 'fred', None, 'sally'],'$.more-stuff[*].id': [100, 101, 102, 103, 104]})\n",
    "_results_ = fillJSONPathElements([\"$.more-stuff[*].jobs[*]\", \"$.more-stuff[*].id\"], my_json) \n",
    "assert dEquals(_results_, {'$.more-stuff[*].jobs[*]': ['scientist', 'developer', 'manager', 'accountant'], '$.more-stuff[*].id': [102, 104, 104, 104]})\n",
    "_results_ = fillJSONPathElements([\"$.arr_deeper[0].stuff[*]\", \"$.arr_deeper[0].value\"], my_json)\n",
    "assert dEquals(_results_, {'$.arr_deeper[0].stuff[*]': [1, 2, 3], '$.arr_deeper[0].value': [2.3, 2.3, 2.3]})\n",
    "_results_ = fillJSONPathElements([\"$.more-stuff[*].jobs[0]\", \"$.more-stuff[*].id\"], my_json)\n",
    "assert dEquals(_results_, {'$.more-stuff[*].jobs[0]': ['scientist', 'developer'], '$.more-stuff[*].id': [102, 104]})\n",
    "_results_ = fillJSONPathElements([\"$.more-stuff[*].jobs[1]\", \"$.more-stuff[*].id\"], my_json)\n",
    "assert dEquals(_results_, {'$.more-stuff[*].jobs[1]': ['manager'], '$.more-stuff[*].id': [104]})\n",
    "_results_ = fillJSONPathElements([\"$.more-stuff[*].jobs[5]\", \"$.more-stuff[*].id\"], my_json)\n",
    "assert dEquals(_results_, {'$.more-stuff[*].jobs[5]': [], '$.more-stuff[*].id': []})"
   ]
  },
  {
   "cell_type": "code",
   "execution_count": null,
   "metadata": {},
   "outputs": [],
   "source": []
  }
 ],
 "metadata": {
  "kernelspec": {
   "display_name": ".venv",
   "language": "python",
   "name": "python3"
  },
  "language_info": {
   "codemirror_mode": {
    "name": "ipython",
    "version": 3
   },
   "file_extension": ".py",
   "mimetype": "text/x-python",
   "name": "python",
   "nbconvert_exporter": "python",
   "pygments_lexer": "ipython3",
   "version": "3.12.3"
  }
 },
 "nbformat": 4,
 "nbformat_minor": 2
}
