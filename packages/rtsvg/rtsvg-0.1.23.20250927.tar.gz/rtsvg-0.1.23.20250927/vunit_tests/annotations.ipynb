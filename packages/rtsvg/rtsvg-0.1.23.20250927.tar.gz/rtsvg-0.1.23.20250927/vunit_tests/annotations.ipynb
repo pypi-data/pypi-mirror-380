{
 "cells": [
  {
   "cell_type": "code",
   "execution_count": null,
   "metadata": {},
   "outputs": [],
   "source": [
    "import pandas as pd\n",
    "import polars as pl\n",
    "import numpy as np\n",
    "from shapely import Polygon\n",
    "from rtsvg import *\n",
    "rt = RACETrack()"
   ]
  },
  {
   "cell_type": "code",
   "execution_count": null,
   "metadata": {},
   "outputs": [],
   "source": [
    "df = pd.DataFrame({'fm':['a','b','c'],'to':['b','c','d']})\n",
    "pos = {'a':(0,0), 'b':(1,0), 'c':(1,1), 'd':(0.7,1)}\n",
    "_ln_ = rt.linkNode(df, [('fm','to')], pos, draw_labels=True, bounds_percent=0.2)\n",
    "_cd_ = rt.chordDiagram(df, [('fm','to')], draw_labels=True)\n",
    "ents = ['a','b']\n",
    "_svgs_ = [rt.annotateEntities(_ln_, ents), \n",
    "          rt.annotateEntities(_cd_, ents)]\n",
    "ents = {'a':'This is a longer description of what this is supposed to be.',\n",
    "        'd':'Another even longer description of what this is supposed to be written for this entity.'}\n",
    "_svgs_.extend([rt.annotateEntities(_ln_, ents, include_description=True), \n",
    "               rt.annotateEntities(_cd_, ents, include_description=True)])\n",
    "rt.table(_svgs_, per_row=2)"
   ]
  },
  {
   "cell_type": "code",
   "execution_count": null,
   "metadata": {},
   "outputs": [],
   "source": [
    "#_ln_.overlappingEntities(Polygon([(0,0),(0,100),(300,100),(300,0)]))\n",
    "#_cd_.overlappingEntities(Polygon([(0,0),(0,100),(300,100),(300,0)]))"
   ]
  },
  {
   "cell_type": "code",
   "execution_count": null,
   "metadata": {},
   "outputs": [],
   "source": [
    "params = {'relationships':[('fm','to')], 'pos':pos, 'bounds_percent':0.2, 'draw_labels':True}\n",
    "spec = {(0,0,1,1):('linkNode',     params), \n",
    "        (1,0,1,1):('chordDiagram', params)}\n",
    "_lo_ = rt.layout(spec, df, w=512, h=256)\n",
    "rt.annotateEntities(_lo_, ents, include_description=True)"
   ]
  },
  {
   "cell_type": "code",
   "execution_count": null,
   "metadata": {},
   "outputs": [],
   "source": []
  }
 ],
 "metadata": {
  "kernelspec": {
   "display_name": ".venv",
   "language": "python",
   "name": "python3"
  },
  "language_info": {
   "codemirror_mode": {
    "name": "ipython",
    "version": 3
   },
   "file_extension": ".py",
   "mimetype": "text/x-python",
   "name": "python",
   "nbconvert_exporter": "python",
   "pygments_lexer": "ipython3",
   "version": "3.12.3"
  }
 },
 "nbformat": 4,
 "nbformat_minor": 2
}
