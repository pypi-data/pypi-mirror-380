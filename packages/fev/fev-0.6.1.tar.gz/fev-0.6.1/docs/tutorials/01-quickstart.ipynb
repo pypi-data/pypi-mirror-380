{
 "cells": [
  {
   "cell_type": "markdown",
   "metadata": {},
   "source": [
    "This notebook contains a minimal example of using `fev` to evaluate time series forecasting models."
   ]
  },
  {
   "cell_type": "code",
   "execution_count": 1,
   "metadata": {},
   "outputs": [],
   "source": [
    "import fev"
   ]
  },
  {
   "cell_type": "code",
   "execution_count": 2,
   "metadata": {},
   "outputs": [],
   "source": [
    "# Create a task from a dataset stored on Hugging Face Hub\n",
    "task = fev.Task(\n",
    "    dataset_path=\"autogluon/chronos_datasets\",\n",
    "    dataset_config=\"ercot\",\n",
    "    horizon=24,\n",
    "    num_windows=2,\n",
    ")"
   ]
  },
  {
   "cell_type": "code",
   "execution_count": 3,
   "metadata": {},
   "outputs": [
    {
     "name": "stdout",
     "output_type": "stream",
     "text": [
      "EvaluationWindow(cutoff=-48, horizon=24, min_context_length=1, max_context_length=None, id_column='id', timestamp_column='timestamp', target_columns=['target'], known_dynamic_columns=[], past_dynamic_columns=[], static_columns=[])\n",
      "EvaluationWindow(cutoff=-24, horizon=24, min_context_length=1, max_context_length=None, id_column='id', timestamp_column='timestamp', target_columns=['target'], known_dynamic_columns=[], past_dynamic_columns=[], static_columns=[])\n"
     ]
    }
   ],
   "source": [
    "# A task consists of multiple rolling evaluation windows\n",
    "for window in task.iter_windows():\n",
    "    print(window)"
   ]
  },
  {
   "cell_type": "code",
   "execution_count": 4,
   "metadata": {},
   "outputs": [],
   "source": [
    "# Load data available as input to the forecasting model\n",
    "past_data, future_data = task.get_window(0).get_input_data()"
   ]
  },
  {
   "cell_type": "code",
   "execution_count": 5,
   "metadata": {},
   "outputs": [
    {
     "data": {
      "text/plain": [
       "Dataset({\n",
       "    features: ['id', 'timestamp', 'target'],\n",
       "    num_rows: 8\n",
       "})"
      ]
     },
     "execution_count": 5,
     "metadata": {},
     "output_type": "execute_result"
    }
   ],
   "source": [
    "# past data before the forecast horizon.\n",
    "past_data"
   ]
  },
  {
   "cell_type": "code",
   "execution_count": 6,
   "metadata": {},
   "outputs": [
    {
     "data": {
      "text/plain": [
       "{'id': np.str_('COAST'),\n",
       " 'timestamp': array(['2004-01-01T01:00:00.000000000', '2004-01-01T02:00:00.000000000',\n",
       "        '2004-01-01T03:00:00.000000000', ...,\n",
       "        '2021-08-29T22:00:00.000000000', '2021-08-29T23:00:00.000000000',\n",
       "        '2021-08-30T00:00:00.000000000'], dtype='datetime64[ns]'),\n",
       " 'target': array([ 7225.09,  6994.25,  6717.42, ..., 17114.34, 16091.05, 15081.16],\n",
       "       dtype=float32)}"
      ]
     },
     "execution_count": 6,
     "metadata": {},
     "output_type": "execute_result"
    }
   ],
   "source": [
    "past_data[0]"
   ]
  },
  {
   "cell_type": "code",
   "execution_count": 7,
   "metadata": {},
   "outputs": [
    {
     "data": {
      "text/plain": [
       "Dataset({\n",
       "    features: ['id', 'timestamp'],\n",
       "    num_rows: 8\n",
       "})"
      ]
     },
     "execution_count": 7,
     "metadata": {},
     "output_type": "execute_result"
    }
   ],
   "source": [
    "# future data that is known at prediction time (item ID, future timestamps, static and known covariates)\n",
    "future_data"
   ]
  },
  {
   "cell_type": "code",
   "execution_count": 8,
   "metadata": {},
   "outputs": [
    {
     "data": {
      "text/plain": [
       "{'id': np.str_('COAST'),\n",
       " 'timestamp': array(['2021-08-30T01:00:00.000000000', '2021-08-30T02:00:00.000000000',\n",
       "        '2021-08-30T03:00:00.000000000', '2021-08-30T04:00:00.000000000',\n",
       "        '2021-08-30T05:00:00.000000000', '2021-08-30T06:00:00.000000000',\n",
       "        '2021-08-30T07:00:00.000000000', '2021-08-30T08:00:00.000000000',\n",
       "        '2021-08-30T09:00:00.000000000', '2021-08-30T10:00:00.000000000',\n",
       "        '2021-08-30T11:00:00.000000000', '2021-08-30T12:00:00.000000000',\n",
       "        '2021-08-30T13:00:00.000000000', '2021-08-30T14:00:00.000000000',\n",
       "        '2021-08-30T15:00:00.000000000', '2021-08-30T16:00:00.000000000',\n",
       "        '2021-08-30T17:00:00.000000000', '2021-08-30T18:00:00.000000000',\n",
       "        '2021-08-30T19:00:00.000000000', '2021-08-30T20:00:00.000000000',\n",
       "        '2021-08-30T21:00:00.000000000', '2021-08-30T22:00:00.000000000',\n",
       "        '2021-08-30T23:00:00.000000000', '2021-08-31T00:00:00.000000000'],\n",
       "       dtype='datetime64[ns]')}"
      ]
     },
     "execution_count": 8,
     "metadata": {},
     "output_type": "execute_result"
    }
   ],
   "source": [
    "future_data[0]"
   ]
  },
  {
   "cell_type": "code",
   "execution_count": 9,
   "metadata": {},
   "outputs": [],
   "source": [
    "import numpy as np\n",
    "\n",
    "\n",
    "def naive_forecast(y: list, horizon: int) -> dict[str, list]:\n",
    "    # Make predictions for a single time series\n",
    "    return {\"predictions\": [y[np.isfinite(y)][-1] for _ in range(horizon)]}\n",
    "\n",
    "predictions_per_window = []\n",
    "for window in task.iter_windows():\n",
    "    past_data, future_data = window.get_input_data()\n",
    "    predictions = [\n",
    "        naive_forecast(ts[task.target], task.horizon) for ts in past_data\n",
    "    ]\n",
    "    predictions_per_window.append(predictions)"
   ]
  },
  {
   "cell_type": "code",
   "execution_count": 10,
   "metadata": {},
   "outputs": [
    {
     "data": {
      "text/plain": [
       "{'model_name': 'naive',\n",
       " 'dataset_path': 'autogluon/chronos_datasets',\n",
       " 'dataset_config': 'ercot',\n",
       " 'horizon': 24,\n",
       " 'num_windows': 2,\n",
       " 'initial_cutoff': -48,\n",
       " 'window_step_size': 24,\n",
       " 'min_context_length': 1,\n",
       " 'max_context_length': None,\n",
       " 'seasonality': 1,\n",
       " 'eval_metric': 'MASE',\n",
       " 'extra_metrics': [],\n",
       " 'quantile_levels': [],\n",
       " 'id_column': 'id',\n",
       " 'timestamp_column': 'timestamp',\n",
       " 'target': 'target',\n",
       " 'generate_univariate_targets_from': None,\n",
       " 'known_dynamic_columns': [],\n",
       " 'past_dynamic_columns': [],\n",
       " 'static_columns': [],\n",
       " 'task_name': 'ercot',\n",
       " 'test_error': 7.301416542738646,\n",
       " 'training_time_s': None,\n",
       " 'inference_time_s': None,\n",
       " 'dataset_fingerprint': '95b91121d95f89c8',\n",
       " 'trained_on_this_dataset': False,\n",
       " 'fev_version': '0.6.0',\n",
       " 'MASE': 7.301416542738646}"
      ]
     },
     "execution_count": 10,
     "metadata": {},
     "output_type": "execute_result"
    }
   ],
   "source": [
    "eval_summary = task.evaluation_summary(predictions_per_window, model_name=\"naive\")\n",
    "eval_summary"
   ]
  },
  {
   "cell_type": "markdown",
   "metadata": {},
   "source": [
    "Evaluation summaries produced by different models on different tasks can be aggregated into a single table."
   ]
  },
  {
   "cell_type": "code",
   "execution_count": 11,
   "metadata": {},
   "outputs": [
    {
     "data": {
      "text/html": [
       "<div>\n",
       "<style scoped>\n",
       "    .dataframe tbody tr th:only-of-type {\n",
       "        vertical-align: middle;\n",
       "    }\n",
       "\n",
       "    .dataframe tbody tr th {\n",
       "        vertical-align: top;\n",
       "    }\n",
       "\n",
       "    .dataframe thead th {\n",
       "        text-align: right;\n",
       "    }\n",
       "</style>\n",
       "<table border=\"1\" class=\"dataframe\">\n",
       "  <thead>\n",
       "    <tr style=\"text-align: right;\">\n",
       "      <th></th>\n",
       "      <th>model_name</th>\n",
       "      <th>dataset_path</th>\n",
       "      <th>dataset_config</th>\n",
       "      <th>horizon</th>\n",
       "      <th>num_windows</th>\n",
       "      <th>initial_cutoff</th>\n",
       "      <th>window_step_size</th>\n",
       "      <th>min_context_length</th>\n",
       "      <th>max_context_length</th>\n",
       "      <th>seasonality</th>\n",
       "      <th>...</th>\n",
       "      <th>past_dynamic_columns</th>\n",
       "      <th>static_columns</th>\n",
       "      <th>task_name</th>\n",
       "      <th>test_error</th>\n",
       "      <th>training_time_s</th>\n",
       "      <th>inference_time_s</th>\n",
       "      <th>dataset_fingerprint</th>\n",
       "      <th>trained_on_this_dataset</th>\n",
       "      <th>fev_version</th>\n",
       "      <th>MASE</th>\n",
       "    </tr>\n",
       "  </thead>\n",
       "  <tbody>\n",
       "    <tr>\n",
       "      <th>0</th>\n",
       "      <td>seasonal_naive</td>\n",
       "      <td>autogluon/chronos_datasets</td>\n",
       "      <td>monash_m1_quarterly</td>\n",
       "      <td>8</td>\n",
       "      <td>1</td>\n",
       "      <td>-8</td>\n",
       "      <td>8</td>\n",
       "      <td>1</td>\n",
       "      <td>NaN</td>\n",
       "      <td>4</td>\n",
       "      <td>...</td>\n",
       "      <td>[]</td>\n",
       "      <td>[]</td>\n",
       "      <td>monash_m1_quarterly</td>\n",
       "      <td>2.077537</td>\n",
       "      <td>0.0</td>\n",
       "      <td>1.687698</td>\n",
       "      <td>5dd7170c16393209</td>\n",
       "      <td>False</td>\n",
       "      <td>0.6.0</td>\n",
       "      <td>2.077537</td>\n",
       "    </tr>\n",
       "    <tr>\n",
       "      <th>1</th>\n",
       "      <td>ets</td>\n",
       "      <td>autogluon/chronos_datasets</td>\n",
       "      <td>monash_m1_quarterly</td>\n",
       "      <td>8</td>\n",
       "      <td>1</td>\n",
       "      <td>-8</td>\n",
       "      <td>8</td>\n",
       "      <td>1</td>\n",
       "      <td>NaN</td>\n",
       "      <td>4</td>\n",
       "      <td>...</td>\n",
       "      <td>[]</td>\n",
       "      <td>[]</td>\n",
       "      <td>monash_m1_quarterly</td>\n",
       "      <td>1.660810</td>\n",
       "      <td>0.0</td>\n",
       "      <td>4.366176</td>\n",
       "      <td>5dd7170c16393209</td>\n",
       "      <td>False</td>\n",
       "      <td>0.6.0</td>\n",
       "      <td>1.660810</td>\n",
       "    </tr>\n",
       "    <tr>\n",
       "      <th>2</th>\n",
       "      <td>theta</td>\n",
       "      <td>autogluon/chronos_datasets</td>\n",
       "      <td>monash_m1_quarterly</td>\n",
       "      <td>8</td>\n",
       "      <td>1</td>\n",
       "      <td>-8</td>\n",
       "      <td>8</td>\n",
       "      <td>1</td>\n",
       "      <td>NaN</td>\n",
       "      <td>4</td>\n",
       "      <td>...</td>\n",
       "      <td>[]</td>\n",
       "      <td>[]</td>\n",
       "      <td>monash_m1_quarterly</td>\n",
       "      <td>1.705247</td>\n",
       "      <td>0.0</td>\n",
       "      <td>0.125761</td>\n",
       "      <td>5dd7170c16393209</td>\n",
       "      <td>False</td>\n",
       "      <td>0.6.0</td>\n",
       "      <td>1.705247</td>\n",
       "    </tr>\n",
       "    <tr>\n",
       "      <th>3</th>\n",
       "      <td>seasonal_naive</td>\n",
       "      <td>autogluon/chronos_datasets</td>\n",
       "      <td>monash_electricity_weekly</td>\n",
       "      <td>8</td>\n",
       "      <td>2</td>\n",
       "      <td>-16</td>\n",
       "      <td>8</td>\n",
       "      <td>1</td>\n",
       "      <td>NaN</td>\n",
       "      <td>1</td>\n",
       "      <td>...</td>\n",
       "      <td>[]</td>\n",
       "      <td>[]</td>\n",
       "      <td>monash_electricity_weekly</td>\n",
       "      <td>2.535526</td>\n",
       "      <td>0.0</td>\n",
       "      <td>1.175560</td>\n",
       "      <td>b7cd1c9df3391815</td>\n",
       "      <td>False</td>\n",
       "      <td>0.6.0</td>\n",
       "      <td>2.535526</td>\n",
       "    </tr>\n",
       "    <tr>\n",
       "      <th>4</th>\n",
       "      <td>ets</td>\n",
       "      <td>autogluon/chronos_datasets</td>\n",
       "      <td>monash_electricity_weekly</td>\n",
       "      <td>8</td>\n",
       "      <td>2</td>\n",
       "      <td>-16</td>\n",
       "      <td>8</td>\n",
       "      <td>1</td>\n",
       "      <td>NaN</td>\n",
       "      <td>1</td>\n",
       "      <td>...</td>\n",
       "      <td>[]</td>\n",
       "      <td>[]</td>\n",
       "      <td>monash_electricity_weekly</td>\n",
       "      <td>2.552429</td>\n",
       "      <td>0.0</td>\n",
       "      <td>3.755289</td>\n",
       "      <td>b7cd1c9df3391815</td>\n",
       "      <td>False</td>\n",
       "      <td>0.6.0</td>\n",
       "      <td>2.552429</td>\n",
       "    </tr>\n",
       "  </tbody>\n",
       "</table>\n",
       "<p>5 rows × 28 columns</p>\n",
       "</div>"
      ],
      "text/plain": [
       "       model_name                dataset_path             dataset_config  \\\n",
       "0  seasonal_naive  autogluon/chronos_datasets        monash_m1_quarterly   \n",
       "1             ets  autogluon/chronos_datasets        monash_m1_quarterly   \n",
       "2           theta  autogluon/chronos_datasets        monash_m1_quarterly   \n",
       "3  seasonal_naive  autogluon/chronos_datasets  monash_electricity_weekly   \n",
       "4             ets  autogluon/chronos_datasets  monash_electricity_weekly   \n",
       "\n",
       "   horizon  num_windows  initial_cutoff  window_step_size  min_context_length  \\\n",
       "0        8            1              -8                 8                   1   \n",
       "1        8            1              -8                 8                   1   \n",
       "2        8            1              -8                 8                   1   \n",
       "3        8            2             -16                 8                   1   \n",
       "4        8            2             -16                 8                   1   \n",
       "\n",
       "   max_context_length  seasonality  ... past_dynamic_columns static_columns  \\\n",
       "0                 NaN            4  ...                   []             []   \n",
       "1                 NaN            4  ...                   []             []   \n",
       "2                 NaN            4  ...                   []             []   \n",
       "3                 NaN            1  ...                   []             []   \n",
       "4                 NaN            1  ...                   []             []   \n",
       "\n",
       "                   task_name test_error training_time_s inference_time_s  \\\n",
       "0        monash_m1_quarterly   2.077537             0.0         1.687698   \n",
       "1        monash_m1_quarterly   1.660810             0.0         4.366176   \n",
       "2        monash_m1_quarterly   1.705247             0.0         0.125761   \n",
       "3  monash_electricity_weekly   2.535526             0.0         1.175560   \n",
       "4  monash_electricity_weekly   2.552429             0.0         3.755289   \n",
       "\n",
       "   dataset_fingerprint trained_on_this_dataset fev_version      MASE  \n",
       "0     5dd7170c16393209                   False       0.6.0  2.077537  \n",
       "1     5dd7170c16393209                   False       0.6.0  1.660810  \n",
       "2     5dd7170c16393209                   False       0.6.0  1.705247  \n",
       "3     b7cd1c9df3391815                   False       0.6.0  2.535526  \n",
       "4     b7cd1c9df3391815                   False       0.6.0  2.552429  \n",
       "\n",
       "[5 rows x 28 columns]"
      ]
     },
     "execution_count": 11,
     "metadata": {},
     "output_type": "execute_result"
    }
   ],
   "source": [
    "import pandas as pd\n",
    "\n",
    "summaries = pd.read_csv(\"https://raw.githubusercontent.com/autogluon/fev/refs/heads/main/benchmarks/example/results/results.csv\")\n",
    "summaries.head()"
   ]
  },
  {
   "cell_type": "code",
   "execution_count": 12,
   "metadata": {},
   "outputs": [
    {
     "data": {
      "text/html": [
       "<div>\n",
       "<style scoped>\n",
       "    .dataframe tbody tr th:only-of-type {\n",
       "        vertical-align: middle;\n",
       "    }\n",
       "\n",
       "    .dataframe tbody tr th {\n",
       "        vertical-align: top;\n",
       "    }\n",
       "\n",
       "    .dataframe thead th {\n",
       "        text-align: right;\n",
       "    }\n",
       "</style>\n",
       "<table border=\"1\" class=\"dataframe\">\n",
       "  <thead>\n",
       "    <tr style=\"text-align: right;\">\n",
       "      <th></th>\n",
       "      <th>skill_score</th>\n",
       "      <th>win_rate</th>\n",
       "      <th>median_training_time_s</th>\n",
       "      <th>median_inference_time_s</th>\n",
       "      <th>training_corpus_overlap</th>\n",
       "      <th>num_failures</th>\n",
       "    </tr>\n",
       "    <tr>\n",
       "      <th>model_name</th>\n",
       "      <th></th>\n",
       "      <th></th>\n",
       "      <th></th>\n",
       "      <th></th>\n",
       "      <th></th>\n",
       "      <th></th>\n",
       "    </tr>\n",
       "  </thead>\n",
       "  <tbody>\n",
       "    <tr>\n",
       "      <th>ets</th>\n",
       "      <td>0.133483</td>\n",
       "      <td>0.833333</td>\n",
       "      <td>0.0</td>\n",
       "      <td>3.755289</td>\n",
       "      <td>0.0</td>\n",
       "      <td>0</td>\n",
       "    </tr>\n",
       "    <tr>\n",
       "      <th>theta</th>\n",
       "      <td>0.105932</td>\n",
       "      <td>0.333333</td>\n",
       "      <td>0.0</td>\n",
       "      <td>0.125761</td>\n",
       "      <td>0.0</td>\n",
       "      <td>0</td>\n",
       "    </tr>\n",
       "    <tr>\n",
       "      <th>seasonal_naive</th>\n",
       "      <td>0.000000</td>\n",
       "      <td>0.333333</td>\n",
       "      <td>0.0</td>\n",
       "      <td>1.444558</td>\n",
       "      <td>0.0</td>\n",
       "      <td>0</td>\n",
       "    </tr>\n",
       "  </tbody>\n",
       "</table>\n",
       "</div>"
      ],
      "text/plain": [
       "                skill_score  win_rate  median_training_time_s  \\\n",
       "model_name                                                      \n",
       "ets                0.133483  0.833333                     0.0   \n",
       "theta              0.105932  0.333333                     0.0   \n",
       "seasonal_naive     0.000000  0.333333                     0.0   \n",
       "\n",
       "                median_inference_time_s  training_corpus_overlap  num_failures  \n",
       "model_name                                                                      \n",
       "ets                            3.755289                      0.0             0  \n",
       "theta                          0.125761                      0.0             0  \n",
       "seasonal_naive                 1.444558                      0.0             0  "
      ]
     },
     "execution_count": 12,
     "metadata": {},
     "output_type": "execute_result"
    }
   ],
   "source": [
    "# Evaluation summaries can be provided as dataframes, dicts, JSON or CSV files\n",
    "fev.leaderboard(summaries, baseline_model=\"seasonal_naive\")"
   ]
  },
  {
   "cell_type": "markdown",
   "metadata": {},
   "source": [
    "The `leaderboard` method not only summarizes the results into a single table, but also ensures that all task definitions match across different models. This ensures that the scores are comparable and the comparison is fair."
   ]
  }
 ],
 "metadata": {
  "kernelspec": {
   "display_name": "fev",
   "language": "python",
   "name": "python3"
  },
  "language_info": {
   "codemirror_mode": {
    "name": "ipython",
    "version": 3
   },
   "file_extension": ".py",
   "mimetype": "text/x-python",
   "name": "python",
   "nbconvert_exporter": "python",
   "pygments_lexer": "ipython3",
   "version": "3.11.10"
  }
 },
 "nbformat": 4,
 "nbformat_minor": 2
}
