{
 "cells": [
  {
   "cell_type": "code",
   "execution_count": 1,
   "metadata": {
    "trusted": true
   },
   "outputs": [],
   "source": [
    "import micropip\n",
    "\n",
    "await micropip.install(\"aiocoap[prettyprint]\")\n",
    "import aiocoap\n",
    "\n",
    "ctx = await aiocoap.Context.create_client_context()"
   ]
  },
  {
   "cell_type": "code",
   "execution_count": 2,
   "metadata": {
    "trusted": true
   },
   "outputs": [
    {
     "data": {
      "application/vnd.jupyter.widget-view+json": {
       "model_id": "9d812769e6724f83ae4a6dc4839b77bd",
       "version_major": 2,
       "version_minor": 0
      },
      "text/plain": "FloatSlider(value=0.0)"
     },
     "execution_count": 2,
     "metadata": {},
     "output_type": "execute_result"
    }
   ],
   "source": [
    "await micropip.install(\"ipywidgets\")\n",
    "import ipywidgets as widgets\n",
    "\n",
    "slider = widgets.FloatSlider()\n",
    "slider"
   ]
  },
  {
   "cell_type": "code",
   "execution_count": 3,
   "metadata": {
    "trusted": true
   },
   "outputs": [],
   "source": [
    "from aiocoap import resource\n",
    "import cbor2\n",
    "\n",
    "\n",
    "class Position(resource.Resource):\n",
    "    def __init__(self, widget):\n",
    "        super().__init__()\n",
    "        self.widget = widget\n",
    "\n",
    "    async def render_get(self, request):\n",
    "        # We should check some options here, or bug the aiocoap author\n",
    "        # about better abstractions for typed resources\n",
    "        return aiocoap.Message(\n",
    "            content_format=60, payload=cbor2.dumps(self.widget.value)\n",
    "        )\n",
    "\n",
    "    async def render_put(self, request):\n",
    "        self.widget.value = cbor2.loads(request.payload)\n",
    "        return aiocoap.Message(code=aiocoap.CHANGED)\n",
    "\n",
    "\n",
    "root = resource.Site()\n",
    "root.add_resource(\n",
    "    [\".well-known\", \"core\"], resource.WKCResource(root.get_resources_as_linkheader)\n",
    ")\n",
    "root.add_resource([\"position\"], Position(slider))\n",
    "ctx.serversite = root"
   ]
  },
  {
   "cell_type": "code",
   "execution_count": 4,
   "metadata": {
    "trusted": true
   },
   "outputs": [],
   "source": [
    "from aiocoap.resourcedirectory.client.register import Registerer\n",
    "\n",
    "registerer = Registerer(\n",
    "    ctx,\n",
    "    \"coaps+ws://rd.coap.amsuess.com\",\n",
    "    lt=60,\n",
    "    registration_parameters={\n",
    "        \"ep\": \"jupyter\",\n",
    "        \"proxy\": \"on\",\n",
    "    },\n",
    ")"
   ]
  }
 ],
 "metadata": {
  "kernelspec": {
   "display_name": "Python (Pyodide)",
   "language": "python",
   "name": "python"
  },
  "language_info": {
   "codemirror_mode": {
    "name": "python",
    "version": 3
   },
   "file_extension": ".py",
   "mimetype": "text/x-python",
   "name": "python",
   "nbconvert_exporter": "python",
   "pygments_lexer": "ipython3",
   "version": "3.8"
  },
  "toc-autonumbering": false,
  "toc-showcode": false,
  "toc-showtags": false,
  "widgets": {
   "application/vnd.jupyter.widget-state+json": {
    "state": {
     "5fb425d3185b4cce92be92c1375094d5": {
      "model_module": "@jupyter-widgets/base",
      "model_module_version": "2.0.0",
      "model_name": "LayoutModel",
      "state": {}
     },
     "63dd6a1378da41b7a73f6e3134b2fd04": {
      "model_module": "@jupyter-widgets/controls",
      "model_module_version": "2.0.0",
      "model_name": "SliderStyleModel",
      "state": {
       "description_width": ""
      }
     },
     "9d812769e6724f83ae4a6dc4839b77bd": {
      "model_module": "@jupyter-widgets/controls",
      "model_module_version": "2.0.0",
      "model_name": "FloatSliderModel",
      "state": {
       "behavior": "drag-tap",
       "layout": "IPY_MODEL_5fb425d3185b4cce92be92c1375094d5",
       "step": 0.1,
       "style": "IPY_MODEL_63dd6a1378da41b7a73f6e3134b2fd04"
      }
     }
    },
    "version_major": 2,
    "version_minor": 0
   }
  }
 },
 "nbformat": 4,
 "nbformat_minor": 4
}