{
 "cells": [
  {
   "cell_type": "markdown",
   "metadata": {},
   "source": [
    "## Direct location with Sentinel-2 MSI sensor \n",
    "\n",
    "This notebook shows examples on direct location performed using MSI sensor and using DEM copernicus 90m and 30m with zarr format \n"
   ]
  },
  {
   "cell_type": "markdown",
   "metadata": {},
   "source": [
    "### Setup variables and configure S2MSIGeometry"
   ]
  },
  {
   "cell_type": "code",
   "execution_count": null,
   "metadata": {},
   "outputs": [],
   "source": [
    "import os\n",
    "import json\n",
    "import logging\n",
    "\n",
    "import folium\n",
    "import numpy as np\n",
    "from zarr.storage import FSStore\n",
    "\n",
    "from tests.drivers.geojson_util import to_points\n",
    "from tests.drivers.s2geo_legacy.s2geo_interface import S2geoInterface\n",
    "from asgard.sensors.sentinel2.msi import S2MSIGeometry"
   ]
  },
  {
   "cell_type": "code",
   "execution_count": null,
   "metadata": {},
   "outputs": [],
   "source": [
    "# these directories are required \n",
    "TEST_DIR = os.environ.get(\"TEST_DIR\", \"../tests\")\n",
    "ASGARD_DATA = os.environ.get(\"ASGARD_DATA\", \"/data/asgard\")\n",
    "DEM_90_20240605 = \"S0__ADF_DEM90_20000101T000000_21000101T000000_20240605T132601.zarr\"\n",
    "DEM_30_20240604 = \"S0__ADF_DEM30_20000101T000000_21000101T000000_20240604T233343.zarr\""
   ]
  },
  {
   "cell_type": "code",
   "execution_count": null,
   "metadata": {},
   "outputs": [],
   "source": [
    "def setup_remote_dem(dem_filename) -> FSStore:\n",
    "    \"\"\"\n",
    "    Create a FSStore pointing to a DEM stored remotely on S3\n",
    "    \"\"\"\n",
    "\n",
    "    dem_path_s3 = f\"simplecache::s3://common/ADFstatic/{dem_filename}\"\n",
    "    s3_config = {\n",
    "        \"key\": os.environ.get(\"S3_COMMON_ACCESS\"),\n",
    "        \"secret\": os.environ.get(\"S3_COMMON_SECRET\"),\n",
    "        \"client_kwargs\": {\n",
    "            \"endpoint_url\": \"https://s3.sbg.perf.cloud.ovh.net\",\n",
    "            \"region_name\": \"sbg\",\n",
    "        },\n",
    "    }\n",
    "    logging.info(\"Using DEM : %s\", dem_path_s3)\n",
    "\n",
    "    return FSStore(dem_path_s3, mode=\"r\", s3=s3_config)\n"
   ]
  },
  {
   "cell_type": "code",
   "execution_count": null,
   "metadata": {},
   "outputs": [],
   "source": [
    "# generating image coordinates\n",
    "coords = np.zeros((100, 10, 2), dtype=\"int32\")\n",
    "for row in range(100):\n",
    "    for col in range(10):\n",
    "        coords[row, col, 0] = 50 * col\n",
    "        coords[row, col, 1] = 20 * row\n"
   ]
  },
  {
   "cell_type": "markdown",
   "metadata": {},
   "source": [
    "### Direct location with zarr DEM Copernicus 90m "
   ]
  },
  {
   "cell_type": "code",
   "execution_count": null,
   "metadata": {},
   "outputs": [],
   "source": [
    "# S2geo interface file -> Python dict\n",
    "config = S2geoInterface(os.path.join(ASGARD_DATA, \"S2MSIdataset/S2MSI_TDS1/L0c_DEM_zarr_S2GEO_Input_interface.xml\")).read()\n",
    "config[\"resources\"].pop(\"geoid\", \"\")\n",
    "config[\"resources\"].pop(\"dem_srtm\", \"\")\n",
    "config[\"resources\"].pop(\"dem_globe\", \"\")\n",
    "# Configure DEM 90m Zarr\n",
    "config[\"resources\"][\"dem_zarr\"] = setup_remote_dem(DEM_90_20240605)\n",
    "config[\"resources\"][\"geoid\"] = os.path.join(\n",
    "    ASGARD_DATA,\n",
    "    \"ADFstatic/S0__ADF_GEOI8_20000101T000000_21000101T000000_20240513T160103.zarr\",\n",
    ")"
   ]
  },
  {
   "cell_type": "code",
   "execution_count": null,
   "metadata": {},
   "outputs": [],
   "source": [
    "# instantiation of an S2MSI product based on python config dict\n",
    "msi_with_dem90 = S2MSIGeometry(**config)"
   ]
  },
  {
   "cell_type": "code",
   "execution_count": null,
   "metadata": {},
   "outputs": [],
   "source": [
    "# running direct locations using a pre-generated coordinates grid\n",
    "gnd_points_90m, _ = msi_with_dem90.direct_loc(coords, geometric_unit=\"B05/D11\")"
   ]
  },
  {
   "cell_type": "markdown",
   "metadata": {},
   "source": [
    "### Direct location with zarr DEM Copernicus 30m"
   ]
  },
  {
   "cell_type": "code",
   "execution_count": null,
   "metadata": {},
   "outputs": [],
   "source": [
    "# Configure DEM 30m Zarr \n",
    "config[\"resources\"][\"dem_zarr\"] = setup_remote_dem(DEM_30_20240604)"
   ]
  },
  {
   "cell_type": "code",
   "execution_count": null,
   "metadata": {},
   "outputs": [],
   "source": [
    "# instantiation of an S2MSI product based on python config dict\n",
    "msi_with_dem30 = S2MSIGeometry(**config)"
   ]
  },
  {
   "cell_type": "code",
   "execution_count": null,
   "metadata": {},
   "outputs": [],
   "source": [
    "# running direct locations using a pre-generated coordinates grid\n",
    "gnd_points_30m, _ = msi_with_dem30.direct_loc(coords, geometric_unit=\"B05/D10\")"
   ]
  },
  {
   "cell_type": "markdown",
   "metadata": {},
   "source": [
    "### Visualize direct location on map "
   ]
  },
  {
   "cell_type": "code",
   "execution_count": null,
   "metadata": {},
   "outputs": [],
   "source": [
    "# creating the GeoJSON file of data points\n",
    "live_dir = os.path.join(TEST_DIR, \"outputs/live\")\n",
    "if not os.path.exists(live_dir):\n",
    "    os.makedirs(live_dir)\n",
    "\n",
    "path_points90 = os.path.join(live_dir, \"msi_points_90m.geojson\")\n",
    "path_points30 = os.path.join(live_dir, \"msi_points_30m.geojson\")\n",
    "\n",
    "to_points(gnd_points_90m, path_points90)\n",
    "to_points(gnd_points_30m, path_points30)"
   ]
  },
  {
   "cell_type": "code",
   "execution_count": null,
   "metadata": {},
   "outputs": [],
   "source": [
    "# opening file and extracting coordinates\n",
    "with open(path_points90, 'r') as f:\n",
    "    json_data_point90 = json.load(f)\n",
    "coordinates90 = json_data_point90['features'][0]['geometry']['coordinates']\n",
    "with open(path_points30, 'r') as f:\n",
    "    json_data_point30 = json.load(f)\n",
    "coordinates30 = json_data_point30['features'][0]['geometry']['coordinates']"
   ]
  },
  {
   "cell_type": "markdown",
   "metadata": {},
   "source": [
    "### Initialize folium map to visualize direct location points and tiles of zarr DEM"
   ]
  },
  {
   "cell_type": "code",
   "execution_count": null,
   "metadata": {},
   "outputs": [],
   "source": [
    "# initializing the locations map\n",
    "m = folium.Map(location=coordinates90[0], zoom_start=3)\n",
    "# iterate through the coordinates and add them as circle-shaped markers to the map\n",
    "for feature90 in coordinates90:\n",
    "    coord90 = feature90[::-1]\n",
    "    marker = folium.CircleMarker(location=coord90, radius=5, color='blue', fill=True, fill_color='blue')\n",
    "    marker.add_to(m)\n",
    "\n",
    "for feature30 in coordinates30:\n",
    "    coordinates = feature30[::-1]\n",
    "    marker = folium.CircleMarker(location=coordinates, radius=5, color='green', fill=True, fill_color='green')\n",
    "    marker.add_to(m)\n",
    "\n",
    "# saving the resulting map\n",
    "m.save('map_msi_points.html')"
   ]
  },
  {
   "cell_type": "code",
   "execution_count": null,
   "metadata": {},
   "outputs": [],
   "source": [
    "# plotting our GeoJSON locations \n",
    "m"
   ]
  },
  {
   "cell_type": "markdown",
   "metadata": {},
   "source": [
    "### Add tiles on map"
   ]
  },
  {
   "cell_type": "code",
   "execution_count": null,
   "metadata": {},
   "outputs": [],
   "source": [
    "# Create kw dict config in order to create rectangle to represent DEM tiles\n",
    "kw = {\n",
    "    \"color\": \"black\",\n",
    "    \"line_cap\": \"round\",\n",
    "    \"fill\": True,\n",
    "    \"fill_color\": \"blue\",\n",
    "    \"weight\": 5,\n",
    "    \"popup\" : \"tile90m_1\"\n",
    "}\n",
    "bounds1_90m = np.rad2deg(np.array([[0.581776, -0.290888], [0.59632, -0.27634]]))\n",
    "bounds2_90m = np.rad2deg(np.array([[0.56723, -0.290888], [0.58177, -0.27634]]))\n",
    "bounds1_30m = np.rad2deg(np.array([[0.5817764, -0.290888], [0.58662455, -0.28604007]]))\n",
    "bounds2_30m = np.rad2deg(np.array([[0.57208014, -0.2908882], [0.576928, -0.28604007]]))\n",
    "bounds3_30m = np.rad2deg(np.array([[0.57692828, -0.2957363], [0.5817764, -0.2908882]]))\n",
    "bounds4_30m = np.rad2deg(np.array([[0.57692828, -0.2908882], [0.5817764, -0.28604007]]))\n",
    "bounds5_30m = np.rad2deg(np.array([[0.57208014, -0.2957363], [0.576928, -0.2908882]]))\n",
    "\n",
    "folium.Rectangle(\n",
    "    bounds=bounds1_90m,\n",
    "    line_join=\"round\",\n",
    "    dash_array=\"1, 1\",\n",
    "    **kw,\n",
    ").add_to(m)\n",
    "\n",
    "\n",
    "kw[\"popup\"] = \"tile90m_2\"\n",
    "folium.Rectangle(\n",
    "    bounds=bounds2_90m,\n",
    "    line_join=\"round\",\n",
    "    dash_array=\"1, 1\",\n",
    "    **kw,\n",
    ").add_to(m)\n",
    "\n",
    "kw[\"popup\"] = \"tile30m_1\"\n",
    "kw[\"color\"] = \"green\"\n",
    "kw[\"fill_color\"] = \"yellow\"\n",
    "folium.Rectangle(\n",
    "    bounds=bounds1_30m,\n",
    "    line_join=\"round\",\n",
    "    dash_array=\"1, 1\",\n",
    "    **kw,\n",
    ").add_to(m)\n",
    "\n",
    "kw[\"popup\"] = \"tile30m_2\"\n",
    "folium.Rectangle(\n",
    "    bounds=bounds2_30m,\n",
    "    line_join=\"round\",\n",
    "    dash_array=\"1, 1\",\n",
    "    **kw,\n",
    ").add_to(m)\n",
    "\n",
    "kw[\"popup\"] = \"tile30m_3\"\n",
    "folium.Rectangle(\n",
    "    bounds=bounds3_30m,\n",
    "    line_join=\"round\",\n",
    "    dash_array=\"1, 1\",\n",
    "    **kw,\n",
    ").add_to(m)\n",
    "\n",
    "kw[\"popup\"] = \"tile30m_4\"\n",
    "folium.Rectangle(\n",
    "    bounds=bounds4_30m,\n",
    "    line_join=\"round\",\n",
    "    dash_array=\"1, 1\",\n",
    "    **kw,\n",
    ").add_to(m)\n",
    "\n",
    "\n",
    "kw[\"popup\"] = \"tile30m_5\"\n",
    "folium.Rectangle(\n",
    "    bounds=bounds5_30m,\n",
    "    line_join=\"round\",\n",
    "    dash_array=\"1, 1\",\n",
    "    **kw,\n",
    ").add_to(m)\n",
    "\n",
    "# saving the resulting map\n",
    "m.save('map_msi_points.html')"
   ]
  },
  {
   "cell_type": "code",
   "execution_count": null,
   "metadata": {},
   "outputs": [],
   "source": [
    "# Visualize map\n",
    "m"
   ]
  }
 ],
 "metadata": {
  "kernelspec": {
   "display_name": ".venv",
   "language": "python",
   "name": "python3"
  },
  "language_info": {
   "codemirror_mode": {
    "name": "ipython",
    "version": 3
   },
   "file_extension": ".py",
   "mimetype": "text/x-python",
   "name": "python",
   "nbconvert_exporter": "python",
   "pygments_lexer": "ipython3",
   "version": "3.11.2"
  },
  "orig_nbformat": 4
 },
 "nbformat": 4,
 "nbformat_minor": 2
}
