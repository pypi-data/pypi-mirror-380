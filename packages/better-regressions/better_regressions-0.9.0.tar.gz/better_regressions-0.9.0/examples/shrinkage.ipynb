{
 "cells": [
  {
   "cell_type": "code",
   "execution_count": 1,
   "metadata": {},
   "outputs": [],
   "source": [
    "from better_regressions import AdaptiveLinear\n",
    "from sklearn.linear_model import ARDRegression\n",
    "from sklearn.preprocessing import StandardScaler\n",
    "from sklearn.pipeline import Pipeline\n",
    "from sklearn.base import BaseEstimator\n",
    "from sklearn.linear_model import Ridge, RidgeCV\n",
    "import numpy as np\n",
    "import matplotlib.pyplot as plt\n",
    "from tqdm.notebook import tqdm\n",
    "from pprint import pprint\n",
    "\n",
    "\n",
    "def stats(fn, *args, runs: int = 100, **kwargs) -> dict[str, str]:\n",
    "    results = [fn(*args, **kwargs) for _ in range(runs)]\n",
    "\n",
    "    metrics = {}\n",
    "    for key in results[0].keys():\n",
    "        values = [result[key] for result in results]\n",
    "        mean = np.mean(values)\n",
    "        mad = np.median(np.abs(values - mean))\n",
    "        metrics[key] = f\"{mean:.4f} ± {mad:.4f}\"\n",
    "\n",
    "    return metrics"
   ]
  },
  {
   "cell_type": "markdown",
   "metadata": {},
   "source": [
    "## Models\n",
    "1. `ARDRegression` (aka RVR)\n",
    "2. Ridge with adaptive shrinkage"
   ]
  },
  {
   "cell_type": "code",
   "execution_count": 2,
   "metadata": {},
   "outputs": [],
   "source": [
    "alphas = [1e-9, 1e-6, 3e-6, 1e-5, 3e-5, 1e-4, 3e-4, 1e-3, 3e-3, 1e-2, 3e-2, 1e-1, 3e-1, 1.0]\n",
    "models = {\n",
    "    \"Ridge\": Pipeline([(\"scaler\", StandardScaler()), (\"model\", Ridge(alpha=1e-9))]),\n",
    "    \"RidgeCV\": Pipeline([(\"scaler\", StandardScaler()), (\"model\", RidgeCV(alphas, cv=3))]),\n",
    "    \"ARD\": Pipeline([(\"scaler\", StandardScaler()), (\"model\", ARDRegression())]),\n",
    "    \"AdaptiveRidge\": Pipeline([(\"scaler\", StandardScaler()), (\"model\", AdaptiveLinear(method=\"none\"))]),\n",
    "}"
   ]
  },
  {
   "cell_type": "markdown",
   "metadata": {},
   "source": [
    "### Case 1: Multiple noisy observations of target\n",
    "\n",
    "$y \\sim \\mathcal{N}(0, \\sigma_y^2)\\quad X_i \\sim \\mathcal{N}(y_i, \\sigma_i^2)$"
   ]
  },
  {
   "cell_type": "code",
   "execution_count": 3,
   "metadata": {},
   "outputs": [
    {
     "name": "stdout",
     "output_type": "stream",
     "text": [
      "Ridge                prediction RMSE = 0.1914 ± 0.0029                weight RMSE = 0.0751 ± 0.0036               \n",
      "RidgeCV              prediction RMSE = 0.1913 ± 0.0032                weight RMSE = 0.0740 ± 0.0029               \n",
      "ARD                  prediction RMSE = 463.3696 ± 463.0295            weight RMSE = 0.0764 ± 0.0540               \n",
      "AdaptiveRidge        prediction RMSE = 0.1853 ± 0.0030                weight RMSE = 0.0093 ± 0.0039               \n"
     ]
    }
   ],
   "source": [
    "def experiment(model: BaseEstimator, target_noise: float, noise_levels: list[float], n_train: int = 100, n_test: int = 1000) -> float:\n",
    "    y_train = np.random.randn(n_train) * target_noise\n",
    "    y_test = np.random.randn(n_test) * target_noise\n",
    "\n",
    "    d = len(noise_levels)\n",
    "    noise_levels = np.array(noise_levels)[None, :]\n",
    "    X_train = y_train[:, None] + np.random.randn(n_train, d) * noise_levels\n",
    "    X_test = y_test[:, None] + np.random.randn(n_test, d) * noise_levels\n",
    "\n",
    "    model.fit(X_train, y_train)\n",
    "    y_pred = model.predict(X_test)\n",
    "\n",
    "    inputs = np.vstack([np.eye(d), np.zeros((1, d))])\n",
    "    outputs = model.predict(inputs)\n",
    "    w_model = outputs[:d] - outputs[-1]\n",
    "\n",
    "    w_optimal = noise_levels**-2\n",
    "    w_optimal /= np.sum(w_optimal)\n",
    "    weight_rmse = np.sqrt(np.mean((w_model - w_optimal) ** 2)).item()\n",
    "    prediction_rmse = np.sqrt(np.mean((y_pred - y_test) ** 2)).item()\n",
    "    return {\n",
    "        \"weight_rmse\": weight_rmse,\n",
    "        \"prediction_rmse\": prediction_rmse,\n",
    "    }\n",
    "\n",
    "\n",
    "for model_name, model in models.items():\n",
    "    result = stats(experiment, model, 1e6, [1 / 2, 1 / 3, 1 / 4], n_train=10000, n_test=1000)\n",
    "    print(f\"{model_name:<20} prediction RMSE = {result['prediction_rmse']:<30} weight RMSE = {result['weight_rmse']:<30}\")"
   ]
  },
  {
   "cell_type": "markdown",
   "metadata": {},
   "source": [
    "## Case 2: Multiple independent weak signals, of different strengths\n",
    "\n",
    "$y \\sim \\mathcal{N}(Xw, \\sigma^2), \\quad X \\sim \\mathcal{N}(0, I), \\quad \\sum w_i^2 \\ll \\sigma^2, \\quad \\min |w_i| \\ll \\max |w_i|$"
   ]
  },
  {
   "cell_type": "code",
   "execution_count": null,
   "metadata": {},
   "outputs": [
    {
     "name": "stdout",
     "output_type": "stream",
     "text": [
      "0.7706259999999999\n",
      "Ridge                prediction RMSE = 2.1073 ± 0.0461                weight RMSE = 0.2025 ± 0.0388               \n",
      "RidgeCV              prediction RMSE = 2.1012 ± 0.0503                weight RMSE = 0.2058 ± 0.0318               \n",
      "ARD                  prediction RMSE = 2.0716 ± 0.0381                weight RMSE = 0.1764 ± 0.0358               \n",
      "AdaptiveRidge        prediction RMSE = 2.0689 ± 0.0374                weight RMSE = 0.1745 ± 0.0316               \n"
     ]
    }
   ],
   "source": [
    "def experiment(model: BaseEstimator, target_noise: float, weights: np.ndarray, n_train: int = 100, n_test: int = 1000) -> dict[str, float]:\n",
    "    d = len(weights)\n",
    "    X_train = np.random.randn(n_train, d)\n",
    "    X_test = np.random.randn(n_test, d)\n",
    "    y_train = X_train @ weights + np.random.randn(n_train) * target_noise\n",
    "    y_test = X_test @ weights + np.random.randn(n_test) * target_noise\n",
    "\n",
    "    model.fit(X_train, y_train)\n",
    "    y_pred = model.predict(X_test)\n",
    "\n",
    "    inputs = np.vstack([np.eye(d), np.zeros((1, d))])\n",
    "    outputs = model.predict(inputs)\n",
    "    w_model = outputs[:d] - outputs[-1]\n",
    "\n",
    "    weight_rmse = np.sqrt(np.mean((w_model - weights) ** 2)).item()\n",
    "    prediction_rmse = np.sqrt(np.mean((y_pred - y_test) ** 2)).item()\n",
    "    return {\n",
    "        \"weight_rmse\": weight_rmse,\n",
    "        \"prediction_rmse\": prediction_rmse,\n",
    "    }\n",
    "\n",
    "\n",
    "w = np.array([0.6, 0.5, 0.4, 0.02, 0.01, 0.01, 0.005, 0.001])\n",
    "sigma = 2\n",
    "for model_name, model in models.items():\n",
    "    result = stats(experiment, model, sigma, w, n_train=100, n_test=1000)\n",
    "    print(f\"{model_name:<20} prediction RMSE = {result['prediction_rmse']:<30} weight RMSE = {result['weight_rmse']:<30}\")"
   ]
  }
 ],
 "metadata": {
  "kernelspec": {
   "display_name": ".venv",
   "language": "python",
   "name": "python3"
  },
  "language_info": {
   "codemirror_mode": {
    "name": "ipython",
    "version": 3
   },
   "file_extension": ".py",
   "mimetype": "text/x-python",
   "name": "python",
   "nbconvert_exporter": "python",
   "pygments_lexer": "ipython3",
   "version": "3.11.11"
  }
 },
 "nbformat": 4,
 "nbformat_minor": 2
}
