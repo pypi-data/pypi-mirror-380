{
  "cells": [
    {
      "cell_type": "code",
      "execution_count": null,
      "metadata": {},
      "outputs": [],
      "source": [
        "from scipy.signal import savgol_filter\n",
        "\n",
        "# Apply Savitzky-Golay filter to the 'long' column\n",
        "df['long_smoothed'] = savgol_filter(df['long'], window_length=5, polyorder=2)\n"
      ]
    },
    {
      "cell_type": "code",
      "execution_count": null,
      "metadata": {},
      "outputs": [],
      "source": [
        "from scipy.signal import savgol_filter\n",
        "\n",
        "# Apply Savitzky-Golay filter to smooth the 'lat' column\n",
        "df['lat_smoothed'] = savgol_filter(df['lat'], window_length=5, polyorder=2)\n"
      ]
    }
  ],
  "metadata": {},
  "nbformat": 4,
  "nbformat_minor": 5
}