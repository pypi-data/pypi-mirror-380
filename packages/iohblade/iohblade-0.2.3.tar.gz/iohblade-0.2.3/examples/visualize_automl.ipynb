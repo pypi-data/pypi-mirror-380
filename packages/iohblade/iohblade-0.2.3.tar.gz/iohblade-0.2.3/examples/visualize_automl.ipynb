{
 "cells": [
  {
   "cell_type": "code",
   "execution_count": 1,
   "metadata": {},
   "outputs": [],
   "source": [
    "from iohblade.loggers import ExperimentLogger\n",
    "from iohblade import plot_convergence, plot_experiment_CEG\n",
    "import os\n",
    "\n",
    "logger = ExperimentLogger('../results/automl-breast-cancer-1', True)"
   ]
  },
  {
   "cell_type": "code",
   "execution_count": 2,
   "metadata": {},
   "outputs": [
    {
     "name": "stdout",
     "output_type": "stream",
     "text": [
      "['LLaMEA']\n",
      "['AutoML-breast_cancer']\n"
     ]
    }
   ],
   "source": [
    "methods, problems = logger.get_methods_problems()\n",
    "print(methods)\n",
    "print(problems)"
   ]
  },
  {
   "cell_type": "code",
   "execution_count": 3,
   "metadata": {},
   "outputs": [],
   "source": [
    "import pandas as pd\n",
    "import matplotlib.pyplot as plt\n",
    "import seaborn as sns\n"
   ]
  },
  {
   "cell_type": "code",
   "execution_count": 4,
   "metadata": {},
   "outputs": [
    {
     "name": "stdout",
     "output_type": "stream",
     "text": [
      "                                      id   fitness  \\\n",
      "0   5d42095b-1745-4217-96cb-eba85c5c952a  0.944056   \n",
      "1   80b4d87a-aac5-466d-bb3c-130b0fb88714  0.958042   \n",
      "2   6a28ab4e-8857-45bd-ad65-b6ff20ecd606  0.594406   \n",
      "3   c7cb5bd3-83d2-464a-bd06-98ef46b74092  0.965035   \n",
      "4   06c39aa8-70ca-4b56-9dc4-976f10cf70e5      -inf   \n",
      "..                                   ...       ...   \n",
      "95  82b7be4d-cf6d-4216-a2fa-f1680359b8ac      -inf   \n",
      "96  01014e48-09c3-4ef3-bf12-a202f86925d9  0.384615   \n",
      "97  1ec2b53f-20d7-47d6-ade8-f970cd80ffc8      -inf   \n",
      "98  16541f15-8182-409a-9bd5-a1c13ed7000a      -inf   \n",
      "99  9ebb3a0a-dd27-403e-98c0-3850e4a3d36d  0.972028   \n",
      "\n",
      "                              name  \\\n",
      "0              FeatureSelectionSVC   \n",
      "1       StackingClassifierPipeline   \n",
      "2                 PCA_SVC_Pipeline   \n",
      "3   EnsembleBreastCancerClassifier   \n",
      "4                 RFECV_GaussianNB   \n",
      "..                             ...   \n",
      "95  EnsembleBreastCancerClassifier   \n",
      "96  EnsembleBreastCancerClassifier   \n",
      "97  EnsembleBreastCancerClassifier   \n",
      "98  EnsembleBreastCancerClassifier   \n",
      "99  EnsembleBreastCancerClassifier   \n",
      "\n",
      "                                          description  \\\n",
      "0   A pipeline employing feature selection using S...   \n",
      "1   A pipeline employing a stacking ensemble of di...   \n",
      "2   A pipeline that combines a PCA transformer wit...   \n",
      "3   A pipeline employing a voting classifier with ...   \n",
      "4   A pipeline using Recursive Feature Elimination...   \n",
      "..                                                ...   \n",
      "95  Adds dynamic thresholding to the stacking ense...   \n",
      "96  Simplified stacking ensemble with fewer base m...   \n",
      "97  Multi-layer Stacking Ensemble utilizing divers...   \n",
      "98  Simplified stacking ensemble using only Random...   \n",
      "99  Simplified ensemble with optimized hyperparame...   \n",
      "\n",
      "                                                 code configspace  generation  \\\n",
      "0   import numpy as np\\nimport sklearn\\nfrom sklea...                       0   \n",
      "1   import numpy as np\\nimport sklearn\\nfrom sklea...                       0   \n",
      "2   import numpy as np\\nimport sklearn\\nfrom sklea...                       0   \n",
      "3   import numpy as np\\nimport sklearn\\nfrom sklea...                       0   \n",
      "4   import numpy as np\\nimport sklearn\\nfrom sklea...                       1   \n",
      "..                                                ...         ...         ...   \n",
      "95  import numpy as np\\nimport sklearn\\nfrom sklea...                       8   \n",
      "96  import numpy as np\\nimport sklearn\\nfrom sklea...                       8   \n",
      "97  import numpy as np\\nimport sklearn\\nfrom sklea...                       8   \n",
      "98  import numpy as np\\nimport sklearn\\nfrom sklea...                       8   \n",
      "99  import numpy as np\\nimport sklearn\\nfrom sklea...                       8   \n",
      "\n",
      "                                             feedback error  \\\n",
      "0   The algorithm FeatureSelectionSVC scored 0.944...         \n",
      "1   The algorithm StackingClassifierPipeline score...         \n",
      "2   The algorithm PCA_SVC_Pipeline scored 0.594 on...         \n",
      "3   The algorithm EnsembleBreastCancerClassifier s...         \n",
      "4   An exception occurred: when `importance_getter...         \n",
      "..                                                ...   ...   \n",
      "95  An exception occurred: Evaluation timed out af...         \n",
      "96  The algorithm EnsembleBreastCancerClassifier s...         \n",
      "97  An exception occurred: name 'StackingClassifie...         \n",
      "98  An exception occurred: name 'LogisticRegressio...         \n",
      "99  The algorithm EnsembleBreastCancerClassifier s...         \n",
      "\n",
      "                                parent_ids  operator metadata method_name  \\\n",
      "0                                       []       NaN       {}      LLaMEA   \n",
      "1                                       []       NaN       {}      LLaMEA   \n",
      "2                                       []       NaN       {}      LLaMEA   \n",
      "3                                       []       NaN       {}      LLaMEA   \n",
      "4   [5d42095b-1745-4217-96cb-eba85c5c952a]       NaN       {}      LLaMEA   \n",
      "..                                     ...       ...      ...         ...   \n",
      "95  [bd2bacaf-b40c-457a-bf0d-f9307f28448a]       NaN       {}      LLaMEA   \n",
      "96  [349be366-695e-480f-a6f6-db41c471b3e7]       NaN       {}      LLaMEA   \n",
      "97  [349be366-695e-480f-a6f6-db41c471b3e7]       NaN       {}      LLaMEA   \n",
      "98  [bd2bacaf-b40c-457a-bf0d-f9307f28448a]       NaN       {}      LLaMEA   \n",
      "99  [01f4c7ca-c035-4a3e-bfbb-c7086528e272]       NaN       {}      LLaMEA   \n",
      "\n",
      "            problem_name  seed  _id  \n",
      "0   AutoML-breast_cancer     0    0  \n",
      "1   AutoML-breast_cancer     0    1  \n",
      "2   AutoML-breast_cancer     0    2  \n",
      "3   AutoML-breast_cancer     0    3  \n",
      "4   AutoML-breast_cancer     0    4  \n",
      "..                   ...   ...  ...  \n",
      "95  AutoML-breast_cancer     0   95  \n",
      "96  AutoML-breast_cancer     0   96  \n",
      "97  AutoML-breast_cancer     0   97  \n",
      "98  AutoML-breast_cancer     0   98  \n",
      "99  AutoML-breast_cancer     0   99  \n",
      "\n",
      "[100 rows x 16 columns]\n"
     ]
    }
   ],
   "source": [
    "data = logger.get_problem_data(problem_name='AutoML-breast_cancer')\n",
    "print(data)"
   ]
  },
  {
   "cell_type": "code",
   "execution_count": 5,
   "metadata": {},
   "outputs": [
    {
     "data": {
      "image/png": "[encoded data removed]",
      "text/plain": [
       "<Figure size 1000x600 with 1 Axes>"
      ]
     },
     "metadata": {},
     "output_type": "display_data"
    },
    {
     "name": "stdout",
     "output_type": "stream",
     "text": [
      "13\n",
      "import numpy as np\n",
      "import sklearn\n",
      "from sklearn.model_selection import StratifiedKFold, cross_val_score\n",
      "from sklearn.preprocessing import StandardScaler\n",
      "from sklearn.linear_model import LogisticRegression\n",
      "from sklearn.ensemble import RandomForestClassifier, GradientBoostingClassifier, VotingClassifier, BaggingClassifier\n",
      "from sklearn.pipeline import Pipeline\n",
      "from sklearn.naive_bayes import GaussianNB\n",
      "\n",
      "class EnsembleBreastCancerClassifier:\n",
      "    \"Enhanced ensemble with optimized hyperparameters, bagging for robustness, and adaptive weighting based on individual classifier performance.\"\n",
      "\n",
      "    def __init__(self, X, y):\n",
      "        self.model = self.train(X, y)\n",
      "\n",
      "    def train(self, X, y):\n",
      "        # Define the models with optimized hyperparameters\n",
      "        lr_model = LogisticRegression(random_state=42, solver='liblinear', penalty='l1', C=0.01) # Further reduce C for stronger regularization\n",
      "        rf_model = RandomForestClassifier(random_state=42, n_estimators=200, max_depth=7, min_samples_split=5) # Increase n_estimators and adjust max_depth and min_samples_split\n",
      "        gb_model = GradientBoostingClassifier(random_state=42, n_estimators=150, learning_rate=0.05, max_depth=4) # Adjust n_estimators, learning_rate, and max_depth\n",
      "        nb_model = GaussianNB()\n",
      "\n",
      "        # Apply Bagging to Random Forest for increased robustness\n",
      "        bagged_rf = BaggingClassifier(rf_model, n_estimators=10, random_state=42)\n",
      "\n",
      "        # Initial weights (can be adjusted based on prior knowledge or performance)\n",
      "        initial_weights = {'lr': 0.25, 'rf': 0.35, 'gb': 0.30, 'nb': 0.10}\n",
      "\n",
      "        # Create the voting classifier with initial weights\n",
      "        voting_clf = VotingClassifier(estimators=[('lr', lr_model), ('rf', bagged_rf), ('gb', gb_model), ('nb', nb_model)], voting='soft', weights=[initial_weights['lr'], initial_weights['rf'], initial_weights['gb'], initial_weights['nb']])\n",
      "\n",
      "        # Create a pipeline with scaling and the voting classifier\n",
      "        pipeline = Pipeline([\n",
      "            ('scaler', StandardScaler()),\n",
      "            ('voting', voting_clf)\n",
      "        ])\n",
      "        \n",
      "        # Perform cross-validation to evaluate performance\n",
      "        cv = StratifiedKFold(n_splits=5, shuffle=True, random_state=42)\n",
      "        cv_scores = cross_val_score(pipeline, X, y, cv=cv, scoring='accuracy')\n",
      "        print(f\"Cross-validation accuracy: {np.mean(cv_scores):.4f}\")\n",
      "\n",
      "        # Train the model on the entire dataset\n",
      "        pipeline.fit(X, y)\n",
      "\n",
      "        # Adaptive Weighting (Example - can be made more sophisticated)\n",
      "        # This is a rudimentary example and would benefit from a more robust evaluation on validation data\n",
      "        # The idea is that after cross-validation, we *could* adjust weights based on individual classifier performance.\n",
      "        # However, for simplicity and to avoid data leakage, we are skipping this step here since it needs proper validation.\n",
      "\n",
      "        return pipeline\n",
      "\n",
      "    def __call__(self, X):\n",
      "        # Predict using the trained model\n",
      "        return self.model.predict(X)\n"
     ]
    }
   ],
   "source": [
    "import numpy as np\n",
    "import json\n",
    "\n",
    "\n",
    "plot_convergence(logger, metric=\"fitness\", save=False, budget=30)\n",
    "data = logger.get_problem_data(problem_name='AutoML-breast_cancer')\n",
    "idx = data['fitness'].idxmax()\n",
    "print(idx)\n",
    "print(data.iloc[idx]['code'])"
   ]
  }
 ],
 "metadata": {
  "kernelspec": {
   "display_name": "iohblade-xXF9vABH-py3.11",
   "language": "python",
   "name": "python3"
  },
  "language_info": {
   "codemirror_mode": {
    "name": "ipython",
    "version": 3
   },
   "file_extension": ".py",
   "mimetype": "text/x-python",
   "name": "python",
   "nbconvert_exporter": "python",
   "pygments_lexer": "ipython3",
   "version": "3.11.13"
  }
 },
 "nbformat": 4,
 "nbformat_minor": 2
}
