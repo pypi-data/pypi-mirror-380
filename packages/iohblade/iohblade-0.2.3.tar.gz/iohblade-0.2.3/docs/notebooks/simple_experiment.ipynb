{
 "cells": [
  {
   "cell_type": "markdown",
   "id": "9448580a",
   "metadata": {},
   "source": [
    "# Comparing LLaMEA with RandomSearch\n",
    "\n",
    "This tutorial shows how to create a small experiment and compare **LLaMEA** with **RandomSearch**."
   ]
  },
  {
   "cell_type": "markdown",
   "id": "f4023570",
   "metadata": {},
   "source": [
    "## Setup\n",
    "Make sure an LLM is available. Here we use an `Ollama_LLM` instance.\n",
    "\n",
    "- Install iohblade `pip install iohblade`\n"
   ]
  },
  {
   "cell_type": "code",
   "execution_count": 1,
   "id": "42291208",
   "metadata": {},
   "outputs": [],
   "source": [
    "from iohblade.experiment import Experiment\n",
    "from iohblade.llm import Ollama_LLM\n",
    "from iohblade.methods import LLaMEA, RandomSearch\n",
    "from iohblade.problems import BBOB_SBOX\n",
    "from iohblade.loggers import ExperimentLogger"
   ]
  },
  {
   "cell_type": "markdown",
   "id": "f94efd37",
   "metadata": {},
   "source": [
    "<div class=\"alert alert-block alert-info\">\n",
    "<b>Tip:</b> Make sure OLlama is running and the model is downloaded before executing the next cell. \n",
    "When using COLAB, you might need to set up port forwarding to connect to your local Ollama instance or use Gemini/OpenAI instead.\n",
    "</div>"
   ]
  },
  {
   "cell_type": "code",
   "execution_count": 4,
   "id": "1bd2740e",
   "metadata": {},
   "outputs": [],
   "source": [
    "# We compare LLaMEA with default parameters to Random Search on the BBOB Sphere function in 5D.\n",
    "llm = Ollama_LLM('qwen2.5-coder:14b')\n",
    "budget = 30\n",
    "RS = RandomSearch(llm, budget=budget)\n",
    "LLA = LLaMEA(llm, budget=budget, name='LLaMEA')\n",
    "methods = [RS, LLA]"
   ]
  },
  {
   "cell_type": "code",
   "execution_count": 5,
   "id": "79da92a3",
   "metadata": {},
   "outputs": [],
   "source": [
    "problems = [BBOB_SBOX(training_instances=[(1,1)], dims=[5], budget_factor=100, name='BBOB-f1')]\n",
    "logger = ExperimentLogger('simple_exp')\n",
    "experiment = Experiment(methods=methods, problems=problems, runs=5, show_stdout=True, exp_logger=logger)"
   ]
  },
  {
   "cell_type": "markdown",
   "id": "e5551039",
   "metadata": {},
   "source": [
    "<div class=\"alert alert-block alert-warning\">\n",
    "<b>Warning:</b> The next step might take several hours to run (depending on the budget and number of runs) \n",
    "</div>"
   ]
  },
  {
   "cell_type": "code",
   "execution_count": null,
   "id": "d6dcf1b7",
   "metadata": {},
   "outputs": [],
   "source": [
    "experiment()  # run the experiment"
   ]
  },
  {
   "cell_type": "markdown",
   "id": "63f85d22",
   "metadata": {},
   "source": [
    "After running the experiment, use the built in plotting functions to inspect the results."
   ]
  },
  {
   "cell_type": "code",
   "execution_count": null,
   "id": "b3e23f72",
   "metadata": {},
   "outputs": [],
   "source": [
    "from iohblade import plot_convergence\n",
    "plot_convergence(logger)"
   ]
  }
 ],
 "metadata": {
  "kernelspec": {
   "display_name": "iohblade",
   "language": "python",
   "name": "python3"
  },
  "language_info": {
   "codemirror_mode": {
    "name": "ipython",
    "version": 3
   },
   "file_extension": ".py",
   "mimetype": "text/x-python",
   "name": "python",
   "nbconvert_exporter": "python",
   "pygments_lexer": "ipython3",
   "version": "3.11.13"
  }
 },
 "nbformat": 4,
 "nbformat_minor": 5
}
