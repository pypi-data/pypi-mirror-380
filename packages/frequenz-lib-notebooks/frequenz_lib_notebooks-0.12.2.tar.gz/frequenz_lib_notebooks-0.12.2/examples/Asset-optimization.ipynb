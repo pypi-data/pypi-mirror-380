{
 "cells": [
  {
   "cell_type": "markdown",
   "metadata": {
    "cell_id": "ecb69413fe59458a93d7284bd427b595",
    "deepnote_app_block_group_id": null,
    "deepnote_app_block_order": 0,
    "deepnote_app_block_visible": true,
    "deepnote_cell_type": "text-cell-h1",
    "formattedRanges": []
   },
   "source": [
    "# PV Optimization Monitoring"
   ]
  },
  {
   "cell_type": "markdown",
   "metadata": {
    "cell_id": "26aab8e8fe79411a81d212d809df0692",
    "deepnote_cell_type": "markdown"
   },
   "source": [
    "This notebook provides a workflow for monitoring and optimizing photovoltaic (PV) systems within a microgrid. It guides the user through selecting the correct component types for a specific site, fetching and visualizing power flow and battery data, and analyzing monthly aggregates. "
   ]
  },
  {
   "cell_type": "code",
   "execution_count": null,
   "metadata": {
    "cell_id": "cfe326c6efb94dada9a7f6ce36f81d7c",
    "deepnote_cell_type": "code",
    "execution_context_id": "332de439-32ca-4300-9e80-0064a729953c",
    "execution_millis": 14951,
    "execution_start": 1748455637248,
    "source_hash": "3d35b38e"
   },
   "outputs": [],
   "source": [
    "!pip install matplotlib pandas nbformat>=4.2.0 \n",
    "!pip install .. #frequenz-lib-notebooks"
   ]
  },
  {
   "cell_type": "code",
   "execution_count": null,
   "metadata": {
    "cell_id": "40984e17ae8046ec962cf11183c8d966",
    "deepnote_app_block_visible": false,
    "deepnote_app_is_code_hidden": true,
    "deepnote_app_is_output_hidden": true,
    "deepnote_cell_type": "code",
    "execution_context_id": "332de439-32ca-4300-9e80-0064a729953c",
    "execution_millis": 401,
    "execution_start": 1748455659428,
    "is_code_hidden": false,
    "source_hash": "a8f850cf"
   },
   "outputs": [],
   "source": [
    "import os\n",
    "from datetime import datetime, timedelta\n",
    "\n",
    "import frequenz.lib.notebooks.reporting.asset_optimization.data as aodata \n",
    "import frequenz.lib.notebooks.reporting.asset_optimization.viz_plotly as aoviz\n",
    "from frequenz.lib.notebooks.reporting.asset_optimization.viz_mpl import plot_monthly"
   ]
  },
  {
   "cell_type": "code",
   "execution_count": null,
   "metadata": {
    "cell_id": "08e0dbad2cd64250b49ac2b94e0840b1",
    "deepnote_app_block_visible": false,
    "deepnote_app_is_code_hidden": true,
    "deepnote_app_is_output_hidden": true,
    "deepnote_cell_type": "code",
    "execution_context_id": "332de439-32ca-4300-9e80-0064a729953c",
    "execution_millis": 102,
    "execution_start": 1748455660273,
    "source_hash": "8d5e3fdf"
   },
   "outputs": [],
   "source": [
    "mdata = aodata.init_microgrid_data(\n",
    "    dotenv_path=\"./.env\", \n",
    "    microgrid_config_dir=\"./config/\",\n",
    ")"
   ]
  },
  {
   "cell_type": "markdown",
   "metadata": {
    "cell_id": "1967a3f81896441895256ec6207117e2",
    "deepnote_cell_type": "markdown"
   },
   "source": [
    "# Power flow"
   ]
  },
  {
   "cell_type": "code",
   "execution_count": null,
   "metadata": {
    "cell_id": "64d33604c6064afa93936db9dcd2a093",
    "deepnote_app_block_group_id": null,
    "deepnote_app_block_order": 4,
    "deepnote_app_block_visible": true,
    "deepnote_cell_type": "input-select",
    "deepnote_input_label": "",
    "deepnote_variable_custom_options": [
     "Option 1",
     "Option 2"
    ],
    "deepnote_variable_name": "microgrid_id",
    "deepnote_variable_options": [
     "1",
     "3",
     "4",
     "5",
     "6",
     "7",
     "8",
     "9",
     "10",
     "11",
     "12",
     "13",
     "14",
     "15",
     "16",
     "17",
     "19",
     "20",
     "23",
     "24",
     "25",
     "26",
     "27",
     "28",
     "29",
     "30",
     "31",
     "33",
     "34",
     "35",
     "36",
     "40",
     "41",
     "42",
     "43",
     "44",
     "45",
     "48",
     "50",
     "52",
     "53",
     "54",
     "56",
     "57",
     "58",
     "59",
     "60",
     "62",
     "64",
     "65",
     "66",
     "67",
     "69",
     "70",
     "71",
     "72",
     "73",
     "74",
     "75",
     "76",
     "77",
     "78",
     "79",
     "80",
     "81",
     "82",
     "84",
     "85",
     "86",
     "87",
     "88",
     "90",
     "91",
     "92",
     "93",
     "106",
     "107",
     "108",
     "109",
     "111",
     "113",
     "115",
     "116",
     "117",
     "118",
     "119",
     "120",
     "121",
     "122",
     "123",
     "125",
     "126",
     "127",
     "128",
     "131",
     "132",
     "133",
     "137",
     "138",
     "139",
     "140",
     "141",
     "142",
     "143",
     "145",
     "146",
     "148",
     "149",
     "150",
     "152",
     "154",
     "155",
     "156",
     "157",
     "158",
     "160",
     "161",
     "162",
     "163",
     "164",
     "165",
     "168",
     "169",
     "170",
     "171",
     "172",
     "174",
     "175",
     "176",
     "177",
     "178",
     "179",
     "180",
     "181",
     "182",
     "183",
     "184",
     "185",
     "186",
     "187",
     "188",
     "189",
     "190",
     "191",
     "193",
     "194",
     "195",
     "196",
     "198",
     "199",
     "200",
     "201",
     "202",
     "203",
     "204",
     "205",
     "206",
     "207",
     "208",
     "209",
     "210"
    ],
    "deepnote_variable_select_type": "from-variable",
    "deepnote_variable_selected_variable": "mids",
    "deepnote_variable_value": "13",
    "execution_context_id": "332de439-32ca-4300-9e80-0064a729953c",
    "execution_millis": 1,
    "execution_start": 1748455664254,
    "source_hash": "b9c1d5fa"
   },
   "outputs": [],
   "source": [
    "microgrid_id = '13'"
   ]
  },
  {
   "cell_type": "code",
   "execution_count": null,
   "metadata": {
    "cell_id": "12d94c327cac4d41abbb4236206b0cea",
    "deepnote_app_is_code_hidden": true,
    "deepnote_cell_type": "code",
    "execution_context_id": "332de439-32ca-4300-9e80-0064a729953c",
    "execution_millis": 1,
    "execution_start": 1748455666860,
    "source_hash": "4638f079"
   },
   "outputs": [],
   "source": [
    "component_types = mdata.microgrid_configs[str(microgrid_id)].component_types()\n",
    "component_types"
   ]
  },
  {
   "cell_type": "code",
   "execution_count": null,
   "metadata": {
    "cell_id": "19bd8e9ab228459dbecc4a3a5c96584e",
    "deepnote_app_block_group_id": "8ab0362605df4c9aae437b1cdf4cc2e7",
    "deepnote_app_block_order": 6,
    "deepnote_app_block_visible": true,
    "deepnote_cell_type": "input-date",
    "deepnote_input_date_version": 2,
    "deepnote_input_label": "End Datum",
    "deepnote_variable_name": "end_date",
    "deepnote_variable_value": "2025-05-28T00:00:00.000Z",
    "execution_context_id": "332de439-32ca-4300-9e80-0064a729953c",
    "execution_millis": 1,
    "execution_start": 1748455671345,
    "source_hash": "fa146508"
   },
   "outputs": [],
   "source": [
    "end_time = datetime.fromisoformat('2025-08-06T00:00:00.000Z')"
   ]
  },
  {
   "cell_type": "code",
   "execution_count": null,
   "metadata": {
    "cell_id": "dd841bea93444a6faa2041baaa2d4992",
    "deepnote_app_block_group_id": "8ab0362605df4c9aae437b1cdf4cc2e7",
    "deepnote_app_block_order": 7,
    "deepnote_app_block_visible": true,
    "deepnote_cell_type": "input-text",
    "deepnote_input_label": "",
    "deepnote_variable_name": "days_back",
    "deepnote_variable_value": "7",
    "execution_context_id": "332de439-32ca-4300-9e80-0064a729953c",
    "execution_millis": 1,
    "execution_start": 1748455672474,
    "source_hash": "6f708e28"
   },
   "outputs": [],
   "source": [
    "days_back = '10'"
   ]
  },
  {
   "cell_type": "code",
   "execution_count": null,
   "metadata": {
    "cell_id": "5e3a24193dd3421eaf217b65998b2846",
    "deepnote_app_block_group_id": "8ab0362605df4c9aae437b1cdf4cc2e7",
    "deepnote_app_block_order": 8,
    "deepnote_app_block_visible": true,
    "deepnote_cell_type": "input-select",
    "deepnote_input_label": "Sampling period seconds",
    "deepnote_variable_custom_options": [
     "10",
     "60",
     "900",
     "1"
    ],
    "deepnote_variable_name": "resolution",
    "deepnote_variable_options": [
     "10",
     "60",
     "900",
     "1"
    ],
    "deepnote_variable_select_type": "from-options",
    "deepnote_variable_selected_variable": "",
    "deepnote_variable_value": "900",
    "execution_context_id": "332de439-32ca-4300-9e80-0064a729953c",
    "execution_millis": 1,
    "execution_start": 1748455673418,
    "source_hash": "ed3fae76"
   },
   "outputs": [],
   "source": [
    "resolution = '900'"
   ]
  },
  {
   "cell_type": "code",
   "execution_count": null,
   "metadata": {
    "cell_id": "d9cfecb790f243f486a9954c8c04c887",
    "deepnote_app_block_visible": false,
    "deepnote_app_is_code_hidden": true,
    "deepnote_app_is_output_hidden": true,
    "deepnote_cell_type": "code",
    "execution_context_id": "332de439-32ca-4300-9e80-0064a729953c",
    "execution_millis": 1,
    "execution_start": 1748455675820,
    "is_code_hidden": false,
    "source_hash": "f374b47"
   },
   "outputs": [],
   "source": [
    "start_time = end_time - timedelta(days=int(days_back))"
   ]
  },
  {
   "cell_type": "code",
   "execution_count": null,
   "metadata": {
    "cell_id": "e001b98f5dc54835a3521512bf07f60a",
    "deepnote_cell_type": "code",
    "execution_context_id": "332de439-32ca-4300-9e80-0064a729953c",
    "execution_millis": 1975,
    "execution_start": 1748455677076,
    "source_hash": "b99125fc"
   },
   "outputs": [],
   "source": [
    "data = await aodata.fetch_data(\n",
    "    mdata=mdata,\n",
    "    component_types=component_types,\n",
    "    mid=int(microgrid_id),\n",
    "    start_time=start_time,\n",
    "    end_time=end_time,\n",
    "    resampling_period=timedelta(seconds=int(resolution)), \n",
    "    fetch_soc=True,\n",
    ")\n",
    "\n",
    "df = data.copy()"
   ]
  },
  {
   "cell_type": "code",
   "execution_count": null,
   "metadata": {},
   "outputs": [],
   "source": [
    "aoviz.plot_power_flow(df)"
   ]
  },
  {
   "cell_type": "code",
   "execution_count": null,
   "metadata": {},
   "outputs": [],
   "source": [
    "aoviz.plot_battery_power(df)"
   ]
  },
  {
   "cell_type": "markdown",
   "metadata": {
    "cell_id": "61bcd4dfcc3a4844bef476bc047d5164",
    "deepnote_app_block_group_id": null,
    "deepnote_app_block_order": 15,
    "deepnote_app_block_visible": true,
    "deepnote_cell_type": "text-cell-h1",
    "formattedRanges": []
   },
   "source": [
    "# Monthly aggregates"
   ]
  },
  {
   "cell_type": "code",
   "execution_count": null,
   "metadata": {
    "allow_embed": false,
    "cell_id": "6ea5e39d0c7e43c7b124912556e8a839",
    "deepnote_app_block_group_id": "2bafe889eda94a609bbef795b345c773",
    "deepnote_app_block_order": 16,
    "deepnote_app_block_visible": true,
    "deepnote_cell_type": "input-date",
    "deepnote_input_date_version": 2,
    "deepnote_input_label": "Start Datum",
    "deepnote_variable_name": "start_date_2",
    "deepnote_variable_value": "2024-01-01T00:00:00.000Z",
    "execution_context_id": "332de439-32ca-4300-9e80-0064a729953c",
    "execution_millis": 0,
    "execution_start": 1748455758828,
    "source_hash": "d5b1cc3c"
   },
   "outputs": [],
   "source": [
    "\n",
    "start_time = datetime.fromisoformat('2024-01-01')\n",
    "end_time = datetime.fromisoformat('2025-08-01')"
   ]
  },
  {
   "cell_type": "code",
   "execution_count": null,
   "metadata": {
    "cell_id": "ff9701fb932e42e6ab2eed123a910db1",
    "deepnote_cell_type": "code",
    "execution_context_id": "332de439-32ca-4300-9e80-0064a729953c",
    "execution_millis": 15490,
    "execution_start": 1748455765248,
    "source_hash": "625b418"
   },
   "outputs": [],
   "source": [
    "data2 = await aodata.fetch_data(\n",
    "    mdata=mdata,\n",
    "    component_types=component_types,\n",
    "    mid=int(microgrid_id),\n",
    "    start_time=start_time,\n",
    "    end_time=end_time,  \n",
    "    resampling_period=timedelta(seconds=int(resolution)),\n",
    "    splits=True,\n",
    "    fetch_soc=False,\n",
    ")\n",
    "\n",
    "df2 = data2"
   ]
  },
  {
   "cell_type": "code",
   "execution_count": null,
   "metadata": {
    "cell_id": "0c77eb8cbbb04f92b28d31886f953645",
    "deepnote_cell_type": "code",
    "execution_context_id": "332de439-32ca-4300-9e80-0064a729953c",
    "execution_millis": 2,
    "execution_start": 1748455780788,
    "source_hash": "caa55e2e"
   },
   "outputs": [],
   "source": [
    "df2"
   ]
  },
  {
   "cell_type": "code",
   "execution_count": null,
   "metadata": {
    "cell_id": "4574e87bad7c4153ba898e87e6128986",
    "deepnote_cell_type": "code",
    "execution_context_id": "332de439-32ca-4300-9e80-0064a729953c",
    "execution_millis": 328,
    "execution_start": 1748455780838,
    "source_hash": "8a171a4c"
   },
   "outputs": [],
   "source": [
    "months = plot_monthly(df2)"
   ]
  },
  {
   "cell_type": "code",
   "execution_count": null,
   "metadata": {
    "cell_id": "b7b932701bae486bad5c4e5b909c3573",
    "deepnote_app_block_group_id": null,
    "deepnote_app_block_order": 22,
    "deepnote_app_block_visible": true,
    "deepnote_app_is_code_hidden": true,
    "deepnote_cell_type": "code",
    "deepnote_table_loading": false,
    "deepnote_table_state": {
     "cellFormattingRules": [],
     "columnDisplayNames": [],
     "columnOrder": [
      "grid",
      "pv",
      "chp",
      "battery",
      "grid_pos",
      "pv_pos",
      "chp_pos",
      "battery_pos",
      "grid_neg",
      "pv_neg",
      "chp_neg",
      "battery_neg",
      "256",
      "258",
      "259",
      "260",
      "263",
      "266",
      "269",
      "272",
      "275",
      "278",
      "281",
      "284",
      "287",
      "290",
      "293",
      "296"
     ],
     "conditionalFilters": [],
     "filters": [],
     "hiddenColumnIds": [],
     "pageIndex": 0,
     "pageSize": 50,
     "sortBy": [],
     "wrappedTextColumnIds": []
    },
    "execution_context_id": "332de439-32ca-4300-9e80-0064a729953c",
    "execution_millis": 2,
    "execution_start": 1748455781238,
    "source_hash": "b09bd4ad"
   },
   "outputs": [],
   "source": [
    "months"
   ]
  },
  {
   "cell_type": "code",
   "execution_count": null,
   "metadata": {
    "cell_id": "7113d4f46f5f4f7286c0ff83583a3693",
    "deepnote_app_block_visible": false,
    "deepnote_app_is_code_hidden": true,
    "deepnote_app_is_output_hidden": true,
    "deepnote_cell_type": "code",
    "execution_context_id": "737a3927-eac0-43bc-9dac-bc83ffd1cad0",
    "execution_millis": 189,
    "execution_start": 1745910080929,
    "source_hash": "6cf25205"
   },
   "outputs": [],
   "source": [
    "# Write the monthly data to a CSV file\n",
    "# months.to_csv(\"monthly.csv\")"
   ]
  },
  {
   "cell_type": "markdown",
   "metadata": {
    "created_in_deepnote_cell": true,
    "deepnote_cell_type": "markdown"
   },
   "source": [
    "<a style='text-decoration:none;line-height:16px;display:flex;color:#5B5B62;padding:10px;justify-content:end;' href='https://deepnote.com?utm_source=created-in-deepnote-cell&projectId=ed4eafdf-af2b-4900-b10b-223bd5cf9d49' target=\"_blank\">\n",
    "<img alt='Created in deepnote.com' style='display:inline;max-height:16px;margin:0px;margin-right:7.5px;' src='data:image/svg+xml;base64,PD94bWwgdmVyc2lvbj0iMS4wIiBlbmNvZGluZz0iVVRGLTgiPz4KPHN2ZyB3aWR0aD0iODBweCIgaGVpZ2h0PSI4MHB4IiB2aWV3Qm94PSIwIDAgODAgODAiIHZlcnNpb249IjEuMSIgeG1sbnM9Imh0dHA6Ly93d3cudzMub3JnLzIwMDAvc3ZnIiB4bWxuczp4bGluaz0iaHR0cDovL3d3dy53My5vcmcvMTk5OS94bGluayI+CiAgICA8IS0tIEdlbmVyYXRvcjogU2tldGNoIDU0LjEgKDc2NDkwKSAtIGh0dHBzOi8vc2tldGNoYXBwLmNvbSAtLT4KICAgIDx0aXRsZT5Hcm91cCAzPC90aXRsZT4KICAgIDxkZXNjPkNyZWF0ZWQgd2l0aCBTa2V0Y2guPC9kZXNjPgogICAgPGcgaWQ9IkxhbmRpbmciIHN0cm9rZT0ibm9uZSIgc3Ryb2tlLXdpZHRoPSIxIiBmaWxsPSJub25lIiBmaWxsLXJ1bGU9ImV2ZW5vZGQiPgogICAgICAgIDxnIGlkPSJBcnRib2FyZCIgdHJhbnNmb3JtPSJ0cmFuc2xhdGUoLTEyMzUuMDAwMDAwLCAtNzkuMDAwMDAwKSI+CiAgICAgICAgICAgIDxnIGlkPSJHcm91cC0zIiB0cmFuc2Zvcm09InRyYW5zbGF0ZSgxMjM1LjAwMDAwMCwgNzkuMDAwMDAwKSI+CiAgICAgICAgICAgICAgICA8cG9seWdvbiBpZD0iUGF0aC0yMCIgZmlsbD0iIzAyNjVCNCIgcG9pbnRzPSIyLjM3NjIzNzYyIDgwIDM4LjA0NzY2NjcgODAgNTcuODIxNzgyMiA3My44MDU3NTkyIDU3LjgyMTc4MjIgMzIuNzU5MjczOSAzOS4xNDAyMjc4IDMxLjY4MzE2ODMiPjwvcG9seWdvbj4KICAgICAgICAgICAgICAgIDxwYXRoIGQ9Ik0zNS4wMDc3MTgsODAgQzQyLjkwNjIwMDcsNzYuNDU0OTM1OCA0Ny41NjQ5MTY3LDcxLjU0MjI2NzEgNDguOTgzODY2LDY1LjI2MTk5MzkgQzUxLjExMjI4OTksNTUuODQxNTg0MiA0MS42NzcxNzk1LDQ5LjIxMjIyODQgMjUuNjIzOTg0Niw0OS4yMTIyMjg0IEMyNS40ODQ5Mjg5LDQ5LjEyNjg0NDggMjkuODI2MTI5Niw0My4yODM4MjQ4IDM4LjY0NzU4NjksMzEuNjgzMTY4MyBMNzIuODcxMjg3MSwzMi41NTQ0MjUgTDY1LjI4MDk3Myw2Ny42NzYzNDIxIEw1MS4xMTIyODk5LDc3LjM3NjE0NCBMMzUuMDA3NzE4LDgwIFoiIGlkPSJQYXRoLTIyIiBmaWxsPSIjMDAyODY4Ij48L3BhdGg+CiAgICAgICAgICAgICAgICA8cGF0aCBkPSJNMCwzNy43MzA0NDA1IEwyNy4xMTQ1MzcsMC4yNTcxMTE0MzYgQzYyLjM3MTUxMjMsLTEuOTkwNzE3MDEgODAsMTAuNTAwMzkyNyA4MCwzNy43MzA0NDA1IEM4MCw2NC45NjA0ODgyIDY0Ljc3NjUwMzgsNzkuMDUwMzQxNCAzNC4zMjk1MTEzLDgwIEM0Ny4wNTUzNDg5LDc3LjU2NzA4MDggNTMuNDE4MjY3Nyw3MC4zMTM2MTAzIDUzLjQxODI2NzcsNTguMjM5NTg4NSBDNTMuNDE4MjY3Nyw0MC4xMjg1NTU3IDM2LjMwMzk1NDQsMzcuNzMwNDQwNSAyNS4yMjc0MTcsMzcuNzMwNDQwNSBDMTcuODQzMDU4NiwzNy43MzA0NDA1IDkuNDMzOTE5NjYsMzcuNzMwNDQwNSAwLDM3LjczMDQ0MDUgWiIgaWQ9IlBhdGgtMTkiIGZpbGw9IiMzNzkzRUYiPjwvcGF0aD4KICAgICAgICAgICAgPC9nPgogICAgICAgIDwvZz4KICAgIDwvZz4KPC9zdmc+' > </img>\n",
    "Created in <span style='font-weight:600;margin-left:4px;'>Deepnote</span></a>"
   ]
  }
 ],
 "metadata": {
  "deepnote_app_clear_outputs": false,
  "deepnote_app_comments_enabled": false,
  "deepnote_app_hide_all_code_blocks_enabled": true,
  "deepnote_app_layout": "powerful-article",
  "deepnote_app_reactivity_enabled": true,
  "deepnote_app_run_on_input_enabled": false,
  "deepnote_app_run_on_load_enabled": false,
  "deepnote_app_table_of_contents_enabled": true,
  "deepnote_app_width": "full-width",
  "deepnote_full_width": true,
  "deepnote_notebook_id": "bfa5ed90f2bc460db93c3580af16d789",
  "kernelspec": {
   "display_name": ".venv (3.11.0)",
   "language": "python",
   "name": "python3"
  },
  "language_info": {
   "codemirror_mode": {
    "name": "ipython",
    "version": 3
   },
   "file_extension": ".py",
   "mimetype": "text/x-python",
   "name": "python",
   "nbconvert_exporter": "python",
   "pygments_lexer": "ipython3",
   "version": "3.11.0rc1"
  }
 },
 "nbformat": 4,
 "nbformat_minor": 0
}
