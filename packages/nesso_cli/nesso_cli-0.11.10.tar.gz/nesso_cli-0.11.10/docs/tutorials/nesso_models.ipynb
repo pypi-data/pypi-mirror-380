{
 "cells": [
  {
   "cell_type": "markdown",
   "id": "9c65433a-6281-47ff-81c7-2f69d2a579eb",
   "metadata": {},
   "source": [
    "# nesso models"
   ]
  },
  {
   "cell_type": "markdown",
   "id": "79a8987d",
   "metadata": {},
   "source": [
    "## Introduction\n",
    "This tutorial provides a basic walkthrough of the `nesso models` workflow. To learn about all available `nesso models` features, see [nesso CLI docs](https://nesso_cli.docs.hetzner.dyvenia.lan/).\n",
    "\n",
    "This project uses the following schema structure:\n",
    "\n",
    "- bronze schema: `landing`\n",
    "- intermediate schema: `intermediate`\n",
    "- marts schema: `marts`\n",
    "- silver schema prefix: `int`\n",
    "\n",
    "Remember that to get more information about any `nesso` CLI command, you can always run it with the `--help` flag."
   ]
  },
  {
   "cell_type": "markdown",
   "id": "613172ce",
   "metadata": {},
   "source": [
    "## Glossary\n",
    "Below is a glossary of some of the terms used in this tutorial.  \n",
    "\n",
    "- bronze schema: The schema where data is initially ingested.\n",
    "- intermediate schema: The schema where data is transformed and cleaned.\n",
    "- marts schema: The user-facing schema, where data is ready for consumption by dashboards, reports, etc.\n",
    "- silver schema prefix: Prefix that is added to the model name to make it unique, because dbt not allowing models with the same name (even if they're located in different schemas)."
   ]
  },
  {
   "cell_type": "markdown",
   "id": "43b246c0",
   "metadata": {},
   "source": [
    "## Tutorial\n",
    "\n",
    "### 1. Project set up\n"
   ]
  },
  {
   "cell_type": "code",
   "execution_count": null,
   "id": "16df05d3",
   "metadata": {
    "vscode": {
     "languageId": "shellscript"
    }
   },
   "outputs": [],
   "source": [
    "git clone https://github.com/dyvenia/nesso-cli && \\\n",
    "  cd nesso-cli/examples/nesso_models && \\\n",
    "  source .venv/bin/activate &&\n",
    "  pip install -r requirements.txt"
   ]
  },
  {
   "cell_type": "markdown",
   "id": "bd690a95",
   "metadata": {},
   "source": [
    "### 2. Adding source tables\n",
    "This step consists of two parts:  \n",
    "- Ingesting tables into the bronze schema  \n",
    "- Adding the tables into the source tables schema YAML file with `nesso models source add`  \n",
    "\n",
    "**NOTE**: This step is usually handled by a data engineering team."
   ]
  },
  {
   "cell_type": "markdown",
   "id": "8f4fe1dd",
   "metadata": {},
   "source": [
    "### Load some fake data into the demo database"
   ]
  },
  {
   "cell_type": "code",
   "execution_count": null,
   "id": "317988d9",
   "metadata": {
    "scrolled": true
   },
   "outputs": [],
   "source": [
    "python create_tutorial_tables.py"
   ]
  },
  {
   "cell_type": "markdown",
   "id": "b82ffc68",
   "metadata": {},
   "source": [
    "### Register the tables as dbt sources\n",
    "Here, we will make `dbt` aware of the tables we just ingested, so that we can later refer to them with the `{{ source(\"landing\", \"my_table\") }}` syntax (if you don't know what this is, be sure to complete the [dbt fundamentals](https://courses.getdbt.com/courses/fundamentals) course before proceeding).\n",
    "\n",
    "\n",
    "**NOTE**: Please ignore the output of the following commands."
   ]
  },
  {
   "cell_type": "code",
   "execution_count": 3,
   "id": "412916c5",
   "metadata": {
    "scrolled": true
   },
   "outputs": [
    {
     "name": "stdout",
     "output_type": "stream",
     "text": [
      "Source table \u001b[32m'staging.account'\u001b[0m already exists. Skipping\u001b[33m...\u001b[0m\n",
      "(.venv) \n"
     ]
    }
   ],
   "source": [
    "nesso models source add account -ni "
   ]
  },
  {
   "cell_type": "code",
   "execution_count": 4,
   "id": "9ccd2956",
   "metadata": {
    "scrolled": true
   },
   "outputs": [
    {
     "name": "stdout",
     "output_type": "stream",
     "text": [
      "Source table \u001b[32m'staging.contact'\u001b[0m already exists. Skipping\u001b[33m...\u001b[0m\n",
      "(.venv) \n"
     ]
    }
   ],
   "source": [
    "nesso models source add contact -ni "
   ]
  },
  {
   "cell_type": "markdown",
   "id": "f4f3bf78-1037-4f5f-9d16-c21caabd117f",
   "metadata": {},
   "source": [
    "### 3. Creating base models\n",
    "Here, we create base models for our source tables.\n",
    "First, we let `nesso models base_model bootstrap` create an empty SQL file for us (it will create required folders and use proper naming conventions):"
   ]
  },
  {
   "cell_type": "code",
   "execution_count": null,
   "id": "6b3728a8",
   "metadata": {
    "vscode": {
     "languageId": "shellscript"
    }
   },
   "outputs": [],
   "source": [
    "nesso models base_model bootstrap account"
   ]
  },
  {
   "cell_type": "code",
   "execution_count": null,
   "id": "3cf2a240",
   "metadata": {
    "vscode": {
     "languageId": "shellscript"
    }
   },
   "outputs": [],
   "source": [
    "nesso models base_model bootstrap contact"
   ]
  },
  {
   "cell_type": "markdown",
   "id": "1b3af04c",
   "metadata": {},
   "source": [
    "Now we can add our SQL inside the generated files (`models/intermediate/int_account/int_account.sql`, `models/intermediate/int_contact/int_contact.sql`)."
   ]
  },
  {
   "cell_type": "markdown",
   "id": "542be291",
   "metadata": {},
   "source": [
    "#### Bootstrapping the YAML file\n",
    "Now we can create a template YAML file for our base models:"
   ]
  },
  {
   "cell_type": "code",
   "execution_count": null,
   "id": "ae2f0e5d-c563-4718-9508-c9ad0313f170",
   "metadata": {
    "scrolled": true
   },
   "outputs": [],
   "source": [
    "nesso models base_model bootstrap-yaml account"
   ]
  },
  {
   "cell_type": "code",
   "execution_count": null,
   "id": "4c0d8acb",
   "metadata": {
    "scrolled": true
   },
   "outputs": [],
   "source": [
    "nesso models base_model bootstrap-yaml contact"
   ]
  },
  {
   "cell_type": "markdown",
   "id": "f28cfdf1-1279-47ac-ba90-7af2a8623dc4",
   "metadata": {},
   "source": [
    "Now you can also execute tests for your models:"
   ]
  },
  {
   "cell_type": "code",
   "execution_count": null,
   "id": "8d3c40af-ffc1-45a7-9020-2741095538c7",
   "metadata": {
    "scrolled": true
   },
   "outputs": [],
   "source": [
    "nesso models test --select account"
   ]
  },
  {
   "cell_type": "code",
   "execution_count": null,
   "id": "4e1516a9",
   "metadata": {
    "scrolled": true
   },
   "outputs": [],
   "source": [
    "nesso models test -s contact"
   ]
  },
  {
   "cell_type": "markdown",
   "id": "00e8e1d9",
   "metadata": {},
   "source": [
    "<div class=\"alert alert-block alert-info\"> <b>Tip:</b> `-s` is shorthand for `--select` </div>"
   ]
  },
  {
   "cell_type": "markdown",
   "id": "330a5a95-0c3f-483a-92c9-f9b5bf9af2c9",
   "metadata": {},
   "source": [
    "### 4. Creating models\n",
    "#### Bootstrapping the SQL file\n",
    "First, we let `nesso models` create an empty SQL file for us (it will create required folders and use proper naming conventions):"
   ]
  },
  {
   "cell_type": "code",
   "execution_count": null,
   "id": "065d8229-553b-433f-9b4a-5e3226a24ef5",
   "metadata": {
    "scrolled": true
   },
   "outputs": [],
   "source": [
    "nesso models model bootstrap account --subdir sales"
   ]
  },
  {
   "cell_type": "markdown",
   "id": "f735335d-0d63-4672-bc97-0326c582b7c0",
   "metadata": {},
   "source": [
    "Now we can add our SQL inside the generated file (`models/marts/sales/account/account.sql`)."
   ]
  },
  {
   "cell_type": "markdown",
   "id": "bf035704-a9ca-4789-a93c-b68e1ad1b6ae",
   "metadata": {},
   "source": [
    "#### Bootstrapping the YAML file\n",
    "Now we can create a template YAML file for our model:"
   ]
  },
  {
   "cell_type": "code",
   "execution_count": null,
   "id": "1a68687b-3ba0-4f3d-a337-0054bba4705d",
   "metadata": {
    "scrolled": true
   },
   "outputs": [],
   "source": [
    "nesso models model bootstrap-yaml account"
   ]
  },
  {
   "cell_type": "markdown",
   "id": "adbe3c62-2751-4751-b645-9b79974073b1",
   "metadata": {},
   "source": [
    "We can now add any required metadata and tests to the model YAML. \n",
    "\n",
    "See the [models user guide](https://nesso_cli.docs.hetzner.dyvenia.lan/user_guide/models) for more information on how to add metadata and tests."
   ]
  },
  {
   "cell_type": "markdown",
   "id": "ea6587f0-0abf-4547-adf6-2a55b1f941f5",
   "metadata": {},
   "source": [
    "#### Testing the model"
   ]
  },
  {
   "cell_type": "markdown",
   "id": "dcc3cdd5-5087-4d2a-a051-9433beaa588d",
   "metadata": {},
   "source": [
    "To run tests for this model, execute the following command:"
   ]
  },
  {
   "cell_type": "code",
   "execution_count": null,
   "id": "d772af5d-6ea4-41a5-b7ab-f55156451f3a",
   "metadata": {
    "scrolled": true
   },
   "outputs": [],
   "source": [
    "nesso models test -s account"
   ]
  }
 ],
 "metadata": {
  "kernelspec": {
   "display_name": "Bash",
   "language": "bash",
   "name": "bash"
  },
  "language_info": {
   "codemirror_mode": "shell",
   "file_extension": ".sh",
   "mimetype": "text/x-sh",
   "name": "bash"
  }
 },
 "nbformat": 4,
 "nbformat_minor": 5
}
