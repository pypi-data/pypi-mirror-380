{
 "cells": [
  {
   "cell_type": "markdown",
   "metadata": {},
   "source": [
    "# Creating a `nesso models` project"
   ]
  },
  {
   "cell_type": "markdown",
   "metadata": {},
   "source": [
    "## Introduction\n",
    "This tutorial provides a walkthrough of the process of creating a new `nesso models` project. \n",
    "\n",
    "<div class=\"alert alert-block alert-info\">\n",
    "<b>nesso models projects</b><br>A nesso models project is, at its core, a collection of data models.\n",
    "\n",
    "The purpose of nesso-cli is to help kickstart and manage such projects, simplifying and automating various tasks, as well as providing a seamless integration with the [luma data catalog](https://dyvenia.com/products/luma-data-catalog/).\n",
    "</div>\n",
    "\n",
    "## Project creation prerequisites\n",
    "Before creating a data modelling project, we need to be aware of how our storage layer is set up:\n",
    "- which database is used to query data?\n",
    "- what is the data architecture of the storage layer?\n",
    "<div class=\"alert alert-block alert-info\">\n",
    "<b>nesso models projects</b><br>Currently, nesso-cli supports two data architectures: data marts and medallion. For more information, see the <a href=\"../reference/glossary.md#data-architectures\">glossary</a>.\n",
    "</div>\n",
    "\n",
    "- once we establish the data architecture, we should also know the names of each layer in the storage layer. For example, if we are using a medallion architecture, our schema names might be `raw` (bronze layer), `conformed` (silver layer) and `operational` (gold layer).\n",
    "\n",
    "\n",
    "## Example project architecture\n",
    "Below are the settings we will use for our example project:\n",
    "- database: DuckDB\n",
    "- data architecture: data marts\n",
    "- schema names: `staging` and `intermediate` (with a single schema in the `marts` layer, named `sales`)\n",
    "- silver schema prefix: leave default (`int`)\n",
    "- path to the DuckDB database: leave default (`nesso.duckdb`)"
   ]
  },
  {
   "cell_type": "markdown",
   "metadata": {},
   "source": [
    "## Setup\n",
    "\n",
    "To initialize our new project, execute\n",
    "```bash\n",
    "nesso models init project\n",
    "```\n",
    "Once prompted, enter `nesso_models_example` as the project name. Provide the rest of the required values as described above.\n",
    "\n",
    "<div class=\"alert alert-block alert-info\">\n",
    "<b>That's it!</b><br>\n",
    "You've successfully created a new nesso models project. You can now start adding data models to your project. Head on to the <a href=\"./nesso_project_user_onboarding.ipynb\">next tutorial</a> to learn how to do that.\n",
    "</div>"
   ]
  },
  {
   "cell_type": "markdown",
   "metadata": {},
   "source": []
  }
 ],
 "metadata": {
  "language_info": {
   "name": "python"
  }
 },
 "nbformat": 4,
 "nbformat_minor": 2
}
