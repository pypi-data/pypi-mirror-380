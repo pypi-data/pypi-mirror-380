{
  "cells": [
    {
      "source": "1 + 2",
      "outputs": [],
      "cell_type": "code",
      "execution_count": null,
      "metadata": {},
      "id": "a7243792-6f06-4462-a6b5-7e9ec604348e"
    },
    {
      "source": "print(\"Hello World!\")",
      "outputs": [],
      "cell_type": "code",
      "execution_count": null,
      "metadata": {},
      "id": "dc428ca1-d2f1-4dc1-8811-6be77103d683"
    },
    {
      "source": "3 + 4",
      "outputs": [],
      "cell_type": "code",
      "execution_count": null,
      "metadata": {},
      "id": "a7243792-6f06-4462-a6b5-7e9ec604348f"
    }
  ],
  "metadata": {
    "kernelspec": {
      "language": "python",
      "display_name": "Python 3 (ipykernel)",
      "name": "python3"
    },
    "language_info": {
      "pygments_lexer": "ipython3",
      "codemirror_mode": {
        "version": 3,
        "name": "ipython"
      },
      "nbconvert_exporter": "python",
      "mimetype": "text/x-python",
      "file_extension": ".py",
      "name": "python",
      "version": "3.7.12"
    }
  },
  "nbformat": 4,
  "nbformat_minor": 5
}
