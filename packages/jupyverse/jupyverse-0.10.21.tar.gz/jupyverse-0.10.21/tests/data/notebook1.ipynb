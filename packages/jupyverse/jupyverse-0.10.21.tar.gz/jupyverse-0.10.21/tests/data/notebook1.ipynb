{
  "cells": [
    {
      "execution_count": null,
      "outputs": [],
      "id": "a7243792-6f06-4462-a6b5-7e9ec604348e",
      "source": "from ypywidgets_textual.switch import Switch",
      "cell_type": "code",
      "metadata": {
        "trusted": false
      }
    },
    {
      "id": "a7243792-6f06-4462-a6b5-7e9ec604348f",
      "source": "switch = Switch()\nswitch",
      "execution_count": null,
      "metadata": {
        "trusted": false
      },
      "outputs": [],
      "cell_type": "code"
    },
    {
      "outputs": [],
      "id": "a7243792-6f06-4462-a6b5-7e9ec604349f",
      "source": "switch.toggle()",
      "cell_type": "code",
      "metadata": {
        "trusted": false
      },
      "execution_count": null
    }
  ],
  "metadata": {
    "kernelspec": {
      "language": "python",
      "name": "python3",
      "display_name": "Python 3 (ipykernel)"
    },
    "language_info": {
      "version": "3.7.12",
      "codemirror_mode": {
        "version": 3,
        "name": "ipython"
      },
      "file_extension": ".py",
      "mimetype": "text/x-python",
      "name": "python",
      "pygments_lexer": "ipython3",
      "nbconvert_exporter": "python"
    }
  },
  "nbformat": 4,
  "nbformat_minor": 5
}
