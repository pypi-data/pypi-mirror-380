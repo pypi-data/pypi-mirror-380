#from matplotlib.pyplot import * 
#from numpy import *
import pynested_fit as pynf
import os

%matplotlib inline
#%matplotlib widget
#%matplotlib notebook


# Define the present path
path = os.getcwd()


# Choose one of them
path = path+'/res_3gauss_bg'





# Load the nested output data
# The available parameters and other variables that can be plotted are listed
an=nr.Analysis(path=path)


# Plot the data with the best fit (parameters corresponding to the maximum value of the data) and residual
# Other choices are median and mean parameters values selectable with "typeof='mean'" and "typeof='median'"
an.plot(path=path)


# Plot the likelihood sampling 
an.plot_like()


# Plot the weights of nested sampling corresponding to w_n = Delta X_n L_n
an.plot_weights()


# Plot the parameter convergence
# Colored regions correspond to the high value of the weights
an.plot_par('x01')


# Plot one parameter histogram
# Red, yellow and green region correspond to 1,2,3 sigmas
an.histo('x01',bins=100,xmin=350,xmax=500)


# Plot one parameter interpolated histogram using getdist
an.histo_interp('x01',path=path)


# Plot one parameter histogram
# Red, yellow and green region correspond to 1,2,3 sigmas
an.histo2D('x01','amp1',bins=200,xmin=350,xmax=500,ymin=0,ymax=300)


# Same with interpolation from getdist
an.histo2D_interp('x01','amp1',path=path)


# Triangle plot (from anesthetic) to have a look to all parameters at the same time
an.triangle_plot(['x01','x02','amp1','amp2'],path=path)


# Statistics (from anesthetic) to have a good estimation of the uncertainties (expecially for the evidence)
an.stats(path=path)



