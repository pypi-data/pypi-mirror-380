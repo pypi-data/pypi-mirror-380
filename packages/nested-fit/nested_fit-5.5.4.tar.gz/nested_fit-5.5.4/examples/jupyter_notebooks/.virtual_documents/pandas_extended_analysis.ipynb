from matplotlib.pyplot import * 
#from numpy import *
import nested_res_V4p5 as nr
import glob
import pandas as pd
import os

%matplotlib inline
#%matplotlib widget


path = os.getcwd()


directories = glob.glob('res_*') # Put here the keyword of the directories with the differen results
directories


# Run all nested fit analyses
for dir in directories:
    print('###############'+ dir + '###################')
    os.chdir(path+'/'+dir)
    os.system('nested_fit4.5.6') # Put the right version here (I probably put the wrong one)


# Prepare to load the output results files
os.chdir(path)
summary = nr.Summary()

# Name the labels from the directories names
labels = [dir.split('_')[1] for dir in directories]
print(labels)


# Fill the pandas dataframe
df = summary.add_simulations(directories,labels)
df = df.sort_index()


# Print (part) of the data frame
# For each parameter, mean, standard deviation, median, max, and credible levels (plus and minus, 68%, 95% and 99%) are available
df[['evidence','evidence_err_est','complexity','mean_x01','sd_x01','max_x01',
    'median_x01','conf_level_m99_x01','conf_level_p99_x01']]


# Plot bayesian evidence values
df['evidence'].plot(yerr=df['evidence_err_est'],fmt='ob',linestyle= 'None')
ylabel('Evidence (in log)')


# Plot bayesian complexity values (effective supported parameters)
df['complexity'].plot(yerr=df['evidence_err_est'],fmt='ob',linestyle= 'None')
ylabel('Bayesian complexity')


df['mean_x01'].plot(yerr=df['sd_x01'],fmt='ob',linestyle= 'None')
ylabel('x01 parameter value')






