{
 "cells": [
  {
   "cell_type": "markdown",
   "metadata": {},
   "source": [
    "# Create CCSNe database\n",
    "This notebook creates a database file containing 18 different CCSNe models from 6 different datasets. \n",
    "\n",
    "Running this notebook requires the user has the raw data from the different models on their computer. The raw data is not available as part of SIMPLE. It may be avaliable upon request from the original authors, listen in the accompanying paper.  \n",
    "\n",
    "The database file this notebook generates contains the abundance for each mass coordinate in the CCSNe that is ejected. See\n",
    "the CCSNe tutorial on how to use this database file.\n",
    "\n",
    "**List of models**\n",
    "- Ri18\n",
    "- Pi16\n",
    "- La22\n",
    "- Si18\n",
    "- Ra02\n",
    "- LC18\n",
    "\n"
   ]
  },
  {
   "cell_type": "code",
   "metadata": {
    "ExecuteTime": {
     "end_time": "2025-06-07T09:20:03.535793Z",
     "start_time": "2025-06-07T09:18:53.660525Z"
    }
   },
   "source": [
    "import simple\n",
    "from simple import models, ccsne\n",
    "import logging\n",
    "\n",
    "logging.basicConfig(level=logging.INFO)\n",
    "logger = logging.getLogger('Creating DB')\n",
    "\n",
    "modelcollection = simple.new_collection()\n",
    "\n",
    "datadir = 'data/'\n",
    "savefilename = 'SIMPLE_CCSNe_v3.hdf5'\n",
    "\n",
    "#########################\n",
    "### Import ref item ###\n",
    "#########################\n",
    "name = 'W17'\n",
    "logger.info(f'Generating Ref: {name}')\n",
    "values, keys = models.load_csv_h(f'{datadir}ref/isotope_mass_W17.csv')\n",
    "model = modelcollection.new_ref('IsoRef', name,\n",
    "                                  type='ref_isomass', citation='',\n",
    "                                  data_values=values, data_keys=keys, data_unit='Da')\n",
    "\n",
    "name = 'iniab2.0E-02GN93'\n",
    "logger.info(f'Generating Ref: {name}')\n",
    "values, keys = models.load_ppn(f'{datadir}ref/{name}.ppn')\n",
    "model = modelcollection.new_ref('IsoRef', name,\n",
    "                                  type='ref_isoabu', citation='',\n",
    "                                  data_values=values, data_keys=keys, \n",
    "                                  data_unit='mass')\n",
    "\n",
    "name = 'iniab2.0E-02GN93_Lo03'\n",
    "logger.info(f'Generating Ref: {name}')\n",
    "values, keys = models.load_ppn(f'{datadir}ref/{name}.ppn')\n",
    "model = modelcollection.new_ref('IsoRef', name,\n",
    "                                  type='ref_isoabu', citation='',\n",
    "                                  data_values=values, data_keys=keys,\n",
    "                                  data_unit='mass')\n",
    "\n",
    "name = 'iniab1.3E-02Lo03_Lo03_merged'\n",
    "logger.info(f'Generating Ref: {name}')\n",
    "values, keys = models.load_ppn(f'{datadir}ref/{name}.ppn')\n",
    "model = modelcollection.new_ref('IsoRef', name,\n",
    "                                  type='ref_isoabu', citation='',\n",
    "                                  data_values=values, data_keys=keys,\n",
    "                                  data_unit='mass')\n",
    "\n",
    "name = 'rau_solar_ref'\n",
    "logger.info(f'Generating Ref: {name}')\n",
    "values, keys = models.load_ppn(f'{datadir}ref/{name}.ppn')\n",
    "model = modelcollection.new_ref('IsoRef', name,\n",
    "                                  type='ref_isoabu', citation='',\n",
    "                                  data_values=values, data_keys=keys,\n",
    "                                  data_unit='mass')\n",
    "\n",
    "name = 'iniab1.3E-02As09_As09_merged'\n",
    "logger.info(f'Generating Ref: {name}')\n",
    "values, keys = models.load_ppn(f'{datadir}ref/{name}.ppn')\n",
    "model = modelcollection.new_ref('IsoRef', name,\n",
    "                                  type='ref_isoabu', citation='',\n",
    "                                  data_values=values, data_keys=keys,\n",
    "                                  data_unit='mass')\n",
    "\n",
    "###########################\n",
    "### Import CCSNe models ###\n",
    "###########################\n",
    "logger.info(f'Generating CCSNe dataset: Ri18')\n",
    "models = ccsne.load_Ri18(datadir+'R18/', 'iniab2.0E-02GN93', 'W17')\n",
    "for name, attrs in models.items(): model = modelcollection.new_model('CCSNe', name, **attrs)\n",
    "\n",
    "logger.info(f'Generating CCSNe dataset: Pi16')\n",
    "models = ccsne.load_Pi16(datadir+'P16/', 'iniab2.0E-02GN93_Lo03', 'W17')\n",
    "for name, attrs in models.items(): model = modelcollection.new_model('CCSNe', name, **attrs)\n",
    "\n",
    "logger.info(f'Generating CCSNe dataset: La22')\n",
    "models = ccsne.load_La22(datadir+'LAW22/', 'iniab2.0E-02GN93_Lo03', 'W17')\n",
    "for name, attrs in models.items(): model = modelcollection.new_model('CCSNe', name, **attrs)\n",
    "\n",
    "logger.info(f'Generating CCSNe dataset: Si18')\n",
    "models = ccsne.load_Si18(datadir+'SIE18/', 'iniab1.3E-02Lo03_Lo03_merged', 'W17')\n",
    "for name, attrs in models.items(): model = modelcollection.new_model('CCSNe', name, **attrs)\n",
    "\n",
    "logger.info(f'Generating CCSNe dataset: Ra02')\n",
    "models = ccsne.load_Ra02(datadir+'R02/', 'rau_solar_ref', 'W17')\n",
    "for name, attrs in models.items(): model = modelcollection.new_model('CCSNe', name, **attrs)\n",
    "\n",
    "logger.info(f'Generating CCSNe dataset: LC18')\n",
    "models = ccsne.load_LC18(datadir+'LC18/', 'iniab1.3E-02As09_As09_merged', 'W17')\n",
    "for name, attrs in models.items(): model = modelcollection.new_model('CCSNe', name, **attrs)\n",
    "\n",
    "#################\n",
    "### Save file ###\n",
    "#################\n",
    "\n",
    "modelcollection.save(f'{datadir}{savefilename}')"
   ],
   "outputs": [
    {
     "name": "stderr",
     "output_type": "stream",
     "text": [
      "INFO:Creating DB:Generating Ref: W17\n",
      "INFO:Creating DB:Generating Ref: iniab2.0E-02GN93\n",
      "INFO:Creating DB:Generating Ref: iniab2.0E-02GN93_Lo03\n",
      "INFO:Creating DB:Generating Ref: iniab1.3E-02Lo03_Lo03_merged\n",
      "INFO:Creating DB:Generating Ref: rau_solar_ref\n",
      "INFO:Creating DB:Generating Ref: iniab1.3E-02As09_As09_merged\n",
      "INFO:Creating DB:Generating CCSNe dataset: Ri18\n"
     ]
    },
    {
     "name": "stdout",
     "output_type": "stream",
     "text": [
      "Searching files, please wait.......\n",
      "Writing preprocessor files\n",
      "M15.0Z2.0e-02.Ma.0020601.out.h5\n",
      "File search complete.\n",
      " reading ['iso_massf']...100%0%"
     ]
    },
    {
     "name": "stderr",
     "output_type": "stream",
     "text": [
      "INFO:root:Fudging the masscoord mass from masscoord\n",
      "INFO:root:Calculating Default Onion Structure\n",
      "INFO:root:m_cut: 1.6105417670092237\n",
      "INFO:root:massmax: 12.15340998801299\n",
      "INFO:root:Lower boundary of the H shell: 4.79860944687067\n",
      "INFO:root:Lower boundary of the He/N shell: 4.446022895845686\n",
      "INFO:root:Lower boundary of the He/C shell: 3.103586549163745\n",
      "INFO:root:Lower boundary of the O/C shell: 2.9877129568426066\n",
      "INFO:root:Lower boundary of the O/Ne shell: 2.9877129568426066\n",
      "INFO:root:Lower boundary of the O/Si layer: 1.7118590207943605\n",
      "INFO:root:Lower boundary of the Si layer: 1.6569642910550864\n",
      "INFO:root:Lower boundary of the Ni layer: 1.6105417670092237\n"
     ]
    },
    {
     "name": "stdout",
     "output_type": "stream",
     "text": [
      "Closing plot_tools\n",
      "Searching files, please wait.......\n",
      "Writing preprocessor files\n",
      "M20.0Z2.0e-02.Ma.0021101.out.h5\n",
      "File search complete.\n",
      " reading ['iso_massf']...100%0%"
     ]
    },
    {
     "name": "stderr",
     "output_type": "stream",
     "text": [
      "INFO:root:Fudging the masscoord mass from masscoord\n",
      "INFO:root:Calculating Default Onion Structure\n",
      "INFO:root:m_cut: 2.736601987234811\n",
      "INFO:root:massmax: 15.398788792544517\n",
      "INFO:root:Lower boundary of the H shell: 6.816301209015895\n",
      "INFO:root:Lower boundary of the He/N shell: 6.487800472880541\n",
      "INFO:root:Lower boundary of the He/C shell: 4.86036431327737\n",
      "INFO:root:Lower boundary of the O/C shell: 4.519328566447582\n",
      "INFO:root:Lower boundary of the O/Ne shell: 3.5393725860696166\n",
      "INFO:root:Lower boundary of the O/Si layer: 2.736601987234811\n",
      "INFO:root:No lower boundary of Si layer\n",
      "INFO:root:No lower boundary of Ni layer\n"
     ]
    },
    {
     "name": "stdout",
     "output_type": "stream",
     "text": [
      "Closing plot_tools\n",
      "Searching files, please wait.......\n",
      "Writing preprocessor files\n",
      "M25.0Z2.0e-02.Ma.0023601.out.h5\n",
      "File search complete.\n",
      " reading ['iso_massf']...100%0%"
     ]
    },
    {
     "name": "stderr",
     "output_type": "stream",
     "text": [
      "INFO:root:Fudging the masscoord mass from masscoord\n",
      "INFO:root:Calculating Default Onion Structure\n",
      "INFO:root:m_cut: 5.719465825793726\n",
      "INFO:root:massmax: 12.814694011898498\n",
      "INFO:root:Lower boundary of the H shell: 9.18523709535419\n",
      "INFO:root:Lower boundary of the He/N shell: 9.021210966602963\n",
      "INFO:root:Lower boundary of the He/C shell: 6.94706946227068\n",
      "INFO:root:Lower boundary of the O/C shell: 6.536323239274477\n",
      "INFO:root:Lower boundary of the O/Ne shell: 5.719465825793726\n",
      "INFO:root:Lower boundary of the O/Si layer: 5.719465825793726\n",
      "INFO:root:No lower boundary of Si layer\n",
      "INFO:root:No lower boundary of Ni layer\n"
     ]
    },
    {
     "name": "stdout",
     "output_type": "stream",
     "text": [
      "Closing plot_tools\n"
     ]
    },
    {
     "name": "stderr",
     "output_type": "stream",
     "text": [
      "INFO:Creating DB:Generating CCSNe dataset: Pi16\n"
     ]
    },
    {
     "name": "stdout",
     "output_type": "stream",
     "text": [
      "Searching files, please wait.......\n",
      "Writing preprocessor files\n",
      "M15.0Z2.0e-02.standard.0129501.restart.h5\n",
      "M15.0Z2.0e-02.standard.0129401.restart.h5\n",
      "M15.0Z2.0e-02.standard.0129301.restart.h5\n",
      "File search complete.\n",
      " reading ['iso_massf']...100%0%"
     ]
    },
    {
     "name": "stderr",
     "output_type": "stream",
     "text": [
      "INFO:root:Fudging the masscoord mass from masscoord\n",
      "INFO:root:Calculating Default Onion Structure\n",
      "INFO:root:m_cut: 1.6262829617555918\n",
      "INFO:root:massmax: 11.768195200000001\n",
      "INFO:root:Lower boundary of the H shell: 4.859831903646646\n",
      "INFO:root:Lower boundary of the He/N shell: 4.49559132355047\n",
      "INFO:root:Lower boundary of the He/C shell: 2.973975888682408\n",
      "INFO:root:Lower boundary of the O/C shell: 2.8207610020903773\n",
      "INFO:root:Lower boundary of the O/Ne shell: 2.8207610020903773\n",
      "INFO:root:Lower boundary of the O/Si layer: 2.6781197626834494\n",
      "INFO:root:Lower boundary of the Si layer: 2.542198804939479\n",
      "INFO:root:Lower boundary of the Ni layer: 1.6262829617555918\n"
     ]
    },
    {
     "name": "stdout",
     "output_type": "stream",
     "text": [
      "Closing plot_tools\n",
      "Searching files, please wait.......\n",
      "Writing preprocessor files\n",
      "M20.0Z2.0e-02.standard.0132701.restart.h5\n",
      "M20.0Z2.0e-02.standard.0132601.restart.h5\n",
      "M20.0Z2.0e-02.standard.0132501.restart.h5\n",
      "File search complete.\n",
      " reading ['iso_massf']...100%0%"
     ]
    },
    {
     "name": "stderr",
     "output_type": "stream",
     "text": [
      "INFO:root:Fudging the masscoord mass from masscoord\n",
      "INFO:root:Calculating Default Onion Structure\n",
      "INFO:root:m_cut: 2.812338960853173\n",
      "INFO:root:massmax: 13.554847899999999\n",
      "INFO:root:Lower boundary of the H shell: 6.90840331177896\n",
      "INFO:root:Lower boundary of the He/N shell: 6.669436492076\n",
      "INFO:root:Lower boundary of the He/C shell: 4.920725568842935\n",
      "INFO:root:Lower boundary of the O/C shell: 4.137220244614744\n",
      "INFO:root:Lower boundary of the O/Ne shell: 4.137220244614744\n",
      "INFO:root:Lower boundary of the O/Si layer: 3.2226840998494164\n",
      "INFO:root:Lower boundary of the Si layer: 2.812338960853173\n",
      "INFO:root:No lower boundary of Ni layer\n"
     ]
    },
    {
     "name": "stdout",
     "output_type": "stream",
     "text": [
      "Closing plot_tools\n",
      "Searching files, please wait.......\n",
      "Writing preprocessor files\n",
      "M25.0Z2.0e-02.standard.0097101.restart.h5\n",
      "M25.0Z2.0e-02.standard.0097001.restart.h5\n",
      "M25.0Z2.0e-02.standard.0096801.restart.h5\n",
      "M25.0Z2.0e-02.standard.0096901.restart.h5\n",
      "File search complete.\n",
      " reading ['iso_massf']...100%0%"
     ]
    },
    {
     "name": "stderr",
     "output_type": "stream",
     "text": [
      "INFO:root:Fudging the masscoord mass from masscoord\n",
      "INFO:root:Calculating Default Onion Structure\n",
      "INFO:root:m_cut: 5.766551868441433\n",
      "INFO:root:massmax: 13.3260346\n",
      "INFO:root:Lower boundary of the H shell: 13.3260346\n",
      "INFO:root:Lower boundary of the He/N shell: 9.232844549760442\n",
      "INFO:root:Lower boundary of the He/C shell: 6.819586964803379\n",
      "INFO:root:Lower boundary of the O/C shell: 6.033442253477677\n",
      "INFO:root:Lower boundary of the O/Ne shell: 5.766551868441433\n",
      "INFO:root:Lower boundary of the O/Si layer: 5.766551868441433\n",
      "INFO:root:No lower boundary of Si layer\n",
      "INFO:root:No lower boundary of Ni layer\n"
     ]
    },
    {
     "name": "stdout",
     "output_type": "stream",
     "text": [
      "Closing plot_tools\n"
     ]
    },
    {
     "name": "stderr",
     "output_type": "stream",
     "text": [
      "INFO:Creating DB:Generating CCSNe dataset: La22\n",
      "INFO:root:Fudging the masscoord mass from masscoord\n",
      "INFO:root:Calculating Default Onion Structure\n",
      "INFO:root:m_cut: 1.7392\n",
      "INFO:root:massmax: 3.9667\n",
      "INFO:root:Lower boundary of the H shell: 3.9667\n",
      "INFO:root:Lower boundary of the He/N shell: 3.2141\n",
      "INFO:root:Lower boundary of the He/C shell: 2.8904\n",
      "INFO:root:Lower boundary of the O/C shell: 2.5689\n",
      "INFO:root:Lower boundary of the O/Ne shell: 2.085\n",
      "INFO:root:Lower boundary of the O/Si layer: 1.9099\n",
      "INFO:root:Lower boundary of the Si layer: 1.8307\n",
      "INFO:root:Lower boundary of the Ni layer: 1.7407\n",
      "INFO:root:Fudging the masscoord mass from masscoord\n",
      "INFO:root:Calculating Default Onion Structure\n",
      "INFO:root:m_cut: 2.2688\n",
      "INFO:root:massmax: 6.0379\n",
      "INFO:root:Lower boundary of the H shell: 6.0379\n",
      "INFO:root:Lower boundary of the He/N shell: 5.6829\n",
      "INFO:root:Lower boundary of the He/C shell: 4.8039\n",
      "INFO:root:Lower boundary of the O/C shell: 4.0516\n",
      "INFO:root:Lower boundary of the O/Ne shell: 2.271\n",
      "INFO:root:Lower boundary of the O/Si layer: 2.271\n",
      "INFO:root:No lower boundary of Si layer\n",
      "INFO:root:Lower boundary of the Ni layer: 2.2688\n",
      "INFO:root:Fudging the masscoord mass from masscoord\n",
      "INFO:root:Calculating Default Onion Structure\n",
      "INFO:root:m_cut: 1.8297\n",
      "INFO:root:massmax: 8.2397\n",
      "INFO:root:Lower boundary of the H shell: 8.2397\n",
      "INFO:root:Lower boundary of the He/N shell: 8.1974\n",
      "INFO:root:Lower boundary of the He/C shell: 7.11\n",
      "INFO:root:Lower boundary of the O/C shell: 5.8858\n",
      "INFO:root:Lower boundary of the O/Ne shell: 3.2666\n",
      "INFO:root:Lower boundary of the O/Si layer: 2.4413\n",
      "INFO:root:Lower boundary of the Si layer: 2.1616\n",
      "INFO:root:Lower boundary of the Ni layer: 1.8326\n",
      "INFO:Creating DB:Generating CCSNe dataset: Si18\n",
      "INFO:root:Fudging the masscoord mass from masscoord\n",
      "INFO:root:Calculating Default Onion Structure\n",
      "INFO:root:m_cut: 1.5421550525735461\n",
      "INFO:root:massmax: 4.088411060827673\n",
      "INFO:root:Lower boundary of the H shell: 4.088411060827673\n",
      "INFO:root:Lower boundary of the He/N shell: 2.9137778989075525\n",
      "INFO:root:Lower boundary of the He/C shell: 2.394240723981901\n",
      "INFO:root:Lower boundary of the O/C shell: 2.202221417777072\n",
      "INFO:root:Lower boundary of the O/Ne shell: 1.9081918551005561\n",
      "INFO:root:Lower boundary of the O/Si layer: 1.7461755654544904\n",
      "INFO:root:Lower boundary of the Si layer: 1.6621671189726348\n",
      "INFO:root:Lower boundary of the Ni layer: 1.5421550525735461\n",
      "INFO:root:Fudging the masscoord mass from masscoord\n",
      "INFO:root:Calculating Default Onion Structure\n",
      "INFO:root:m_cut: 1.584237857984021\n",
      "INFO:root:massmax: 6.055750987213394\n",
      "INFO:root:Lower boundary of the H shell: 6.055750987213394\n",
      "INFO:root:Lower boundary of the He/N shell: 5.340536953241336\n",
      "INFO:root:Lower boundary of the He/C shell: 3.960398190037159\n",
      "INFO:root:Lower boundary of the O/C shell: 3.540355957767534\n",
      "INFO:root:Lower boundary of the O/Ne shell: 2.276228858978483\n",
      "INFO:root:Lower boundary of the O/Si layer: 1.9321942689177338\n",
      "INFO:root:Lower boundary of the Si layer: 1.7241733539714117\n",
      "INFO:root:Lower boundary of the Ni layer: 1.584237857984021\n",
      "INFO:root:Fudging the masscoord mass from masscoord\n",
      "INFO:root:Calculating Default Onion Structure\n",
      "INFO:root:m_cut: 2.105309890899377\n",
      "INFO:root:massmax: 8.09061506935712\n",
      "INFO:root:Lower boundary of the H shell: 8.09061506935712\n",
      "INFO:root:Lower boundary of the He/N shell: 7.835787833082752\n",
      "INFO:root:Lower boundary of the He/C shell: 5.735576671726756\n",
      "INFO:root:Lower boundary of the O/C shell: 5.210523881370097\n",
      "INFO:root:Lower boundary of the O/Ne shell: 3.150316742080381\n",
      "INFO:root:Lower boundary of the O/Si layer: 2.6202634489638714\n",
      "INFO:root:Lower boundary of the Si layer: 2.370238310700945\n",
      "INFO:root:Lower boundary of the Ni layer: 2.105309890899377\n",
      "INFO:Creating DB:Generating CCSNe dataset: Ra02\n",
      "INFO:root:Calculating Default Onion Structure\n",
      "INFO:root:m_cut: 1.682971342383107\n",
      "INFO:root:massmax: 12.612971342383105\n",
      "INFO:root:Lower boundary of the H shell: 4.231176470588235\n",
      "INFO:root:Lower boundary of the He/N shell: 3.798069381598793\n",
      "INFO:root:Lower boundary of the He/C shell: 3.004690799396682\n",
      "INFO:root:Lower boundary of the O/C shell: 2.6227501256913017\n",
      "INFO:root:Lower boundary of the O/Ne shell: 2.1803167420814478\n",
      "INFO:root:Lower boundary of the O/Si layer: 1.9242986425339366\n",
      "INFO:root:Lower boundary of the Si layer: 1.8237456008044242\n",
      "INFO:root:Lower boundary of the Ni layer: 1.682971342383107\n",
      "INFO:root:Calculating Default Onion Structure\n",
      "INFO:root:m_cut: 1.5485168426344897\n",
      "INFO:root:massmax: 14.741075917546505\n",
      "INFO:root:Lower boundary of the H shell: 6.265158371040724\n",
      "INFO:root:Lower boundary of the He/N shell: 5.744595274007038\n",
      "INFO:root:Lower boundary of the He/C shell: 4.889140271493212\n",
      "INFO:root:Lower boundary of the O/C shell: 4.285796882855706\n",
      "INFO:root:Lower boundary of the O/Ne shell: 4.285796882855706\n",
      "INFO:root:Lower boundary of the O/Si layer: 1.7624786324786326\n",
      "INFO:root:Lower boundary of the Si layer: 1.6753443941679234\n",
      "INFO:root:Lower boundary of the Ni layer: 1.5485168426344897\n",
      "INFO:root:Calculating Default Onion Structure\n",
      "INFO:root:m_cut: 2.0412267471091\n",
      "INFO:root:massmax: 13.07983911513323\n",
      "INFO:root:Lower boundary of the H shell: 8.480844645550528\n",
      "INFO:root:Lower boundary of the He/N shell: 8.086425339366516\n",
      "INFO:root:Lower boundary of the He/C shell: 7.109602815485168\n",
      "INFO:root:Lower boundary of the O/C shell: 5.693413775766717\n",
      "INFO:root:Lower boundary of the O/Ne shell: 3.2709602815485166\n",
      "INFO:root:Lower boundary of the O/Si layer: 2.5138260432378075\n",
      "INFO:root:Lower boundary of the Si layer: 2.1618903971845147\n",
      "INFO:root:Lower boundary of the Ni layer: 2.0412267471091\n",
      "INFO:Creating DB:Generating CCSNe dataset: LC18\n",
      "INFO:root:Fudging the masscoord mass from masscoord\n",
      "INFO:root:Calculating Default Onion Structure\n",
      "INFO:root:m_cut: 1.67179\n",
      "INFO:root:massmax: 13.25854\n",
      "INFO:root:Lower boundary of the H shell: 5.305757\n",
      "INFO:root:Lower boundary of the He/N shell: 3.923495\n",
      "INFO:root:Lower boundary of the He/C shell: 2.766972\n",
      "INFO:root:Lower boundary of the O/C shell: 2.452396\n",
      "INFO:root:Lower boundary of the O/Ne shell: 2.135279\n",
      "INFO:root:Lower boundary of the O/Si layer: 1.849765\n",
      "INFO:root:Lower boundary of the Si layer: 1.802086\n",
      "INFO:root:Lower boundary of the Ni layer: 1.67179\n",
      "INFO:root:Fudging the masscoord mass from masscoord\n",
      "INFO:root:Calculating Default Onion Structure\n",
      "INFO:root:m_cut: 1.661228\n",
      "INFO:root:massmax: 7.540816\n",
      "INFO:root:Lower boundary of the H shell: 7.540447\n",
      "INFO:root:Lower boundary of the He/N shell: 6.448152\n",
      "INFO:root:Lower boundary of the He/C shell: 3.850515\n",
      "INFO:root:Lower boundary of the O/C shell: 3.3335\n",
      "INFO:root:Lower boundary of the O/Ne shell: 2.23887\n",
      "INFO:root:Lower boundary of the O/Si layer: 1.828452\n",
      "INFO:root:Lower boundary of the Si layer: 1.789849\n",
      "INFO:root:Lower boundary of the Ni layer: 1.661228\n",
      "INFO:root:Fudging the masscoord mass from masscoord\n",
      "INFO:root:Calculating Default Onion Structure\n",
      "INFO:root:m_cut: 1.95775\n",
      "INFO:root:massmax: 8.542744\n",
      "INFO:root:Lower boundary of the H shell: 8.542392\n",
      "INFO:root:Lower boundary of the He/N shell: 8.071966\n",
      "INFO:root:Lower boundary of the He/C shell: 6.109387\n",
      "INFO:root:Lower boundary of the O/C shell: 5.462596\n",
      "INFO:root:Lower boundary of the O/Ne shell: 2.572118\n",
      "INFO:root:Lower boundary of the O/Si layer: 2.099789\n",
      "INFO:root:Lower boundary of the Si layer: 2.056997\n",
      "INFO:root:Lower boundary of the Ni layer: 1.95775\n"
     ]
    },
    {
     "name": "stdout",
     "output_type": "stream",
     "text": [
      "saving ref: W17\n",
      "saving ref: iniab2.0E-02GN93\n",
      "saving ref: iniab2.0E-02GN93_Lo03\n",
      "saving ref: iniab1.3E-02Lo03_Lo03_merged\n",
      "saving ref: rau_solar_ref\n",
      "saving ref: iniab1.3E-02As09_As09_merged\n",
      "saving model: Ri18_m15\n",
      "saving model: Ri18_m20\n",
      "saving model: Ri18_m25\n",
      "saving model: Pi16_m15\n",
      "saving model: Pi16_m20\n",
      "saving model: Pi16_m25\n",
      "saving model: La22_m15\n",
      "saving model: La22_m20\n",
      "saving model: La22_m25\n",
      "saving model: Si18_m15\n",
      "saving model: Si18_m20\n",
      "saving model: Si18_m25\n",
      "saving model: Ra02_m15\n",
      "saving model: Ra02_m20\n",
      "saving model: Ra02_m25\n"
     ]
    },
    {
     "name": "stderr",
     "output_type": "stream",
     "text": [
      "Filesize: 95.86 MB\n",
      "INFO:SIMPLE.models:Filesize: 95.86 MB\n",
      "Time to save file: 0:00:09.296890\n",
      "INFO:SIMPLE.models:Time to save file: 0:00:09.296890\n"
     ]
    },
    {
     "name": "stdout",
     "output_type": "stream",
     "text": [
      "saving model: LC18_m15\n",
      "saving model: LC18_m20\n",
      "saving model: LC18_m25\n"
     ]
    }
   ],
   "execution_count": 1
  },
  {
   "cell_type": "code",
   "metadata": {
    "ExecuteTime": {
     "end_time": "2025-06-07T09:20:03.544596Z",
     "start_time": "2025-06-07T09:20:03.538042Z"
    }
   },
   "source": "modelcollection\n",
   "outputs": [
    {
     "data": {
      "text/plain": [
       "ModelCollection(models=[<Ri18_m15 - CCSNe>, <Ri18_m20 - CCSNe>, <Ri18_m25 - CCSNe>, <Pi16_m15 - CCSNe>, <Pi16_m20 - CCSNe>, <Pi16_m25 - CCSNe>, <La22_m15 - CCSNe>, <La22_m20 - CCSNe>, <La22_m25 - CCSNe>, <Si18_m15 - CCSNe>, <Si18_m20 - CCSNe>, <Si18_m25 - CCSNe>, <Ra02_m15 - CCSNe>, <Ra02_m20 - CCSNe>, <Ra02_m25 - CCSNe>, <LC18_m15 - CCSNe>, <LC18_m20 - CCSNe>, <LC18_m25 - CCSNe>], refs=[<W17 - IsoRef>, <iniab2.0E-02GN93 - IsoRef>, <iniab2.0E-02GN93_Lo03 - IsoRef>, <iniab1.3E-02Lo03_Lo03_merged - IsoRef>, <rau_solar_ref - IsoRef>, <iniab1.3E-02As09_As09_merged - IsoRef>])"
      ],
      "text/markdown": "Models in collection:\n\n- **[0]** ``Ri18_m15`` (CCSNe)\n- **[1]** ``Ri18_m20`` (CCSNe)\n- **[2]** ``Ri18_m25`` (CCSNe)\n- **[3]** ``Pi16_m15`` (CCSNe)\n- **[4]** ``Pi16_m20`` (CCSNe)\n- **[5]** ``Pi16_m25`` (CCSNe)\n- **[6]** ``La22_m15`` (CCSNe)\n- **[7]** ``La22_m20`` (CCSNe)\n- **[8]** ``La22_m25`` (CCSNe)\n- **[9]** ``Si18_m15`` (CCSNe)\n- **[10]** ``Si18_m20`` (CCSNe)\n- **[11]** ``Si18_m25`` (CCSNe)\n- **[12]** ``Ra02_m15`` (CCSNe)\n- **[13]** ``Ra02_m20`` (CCSNe)\n- **[14]** ``Ra02_m25`` (CCSNe)\n- **[15]** ``LC18_m15`` (CCSNe)\n- **[16]** ``LC18_m20`` (CCSNe)\n- **[17]** ``LC18_m25`` (CCSNe)\n\nReferences in collection:\n\n- ``W17`` (IsoRef)\n- ``iniab2.0E-02GN93`` (IsoRef)\n- ``iniab2.0E-02GN93_Lo03`` (IsoRef)\n- ``iniab1.3E-02Lo03_Lo03_merged`` (IsoRef)\n- ``rau_solar_ref`` (IsoRef)\n- ``iniab1.3E-02As09_As09_merged`` (IsoRef)"
     },
     "execution_count": 2,
     "metadata": {},
     "output_type": "execute_result"
    }
   ],
   "execution_count": 2
  },
  {
   "metadata": {
    "ExecuteTime": {
     "end_time": "2025-06-07T09:20:03.549646Z",
     "start_time": "2025-06-07T09:20:03.545699Z"
    }
   },
   "cell_type": "code",
   "source": "modelcollection[6]",
   "outputs": [
    {
     "data": {
      "text/plain": [
       "<La22_m15 - CCSNe>"
      ],
      "text/markdown": "**Name**: La22_m15\\\n**Type**: CCSNe\\\n**Dataset**: La22\\\n**Mass**: 15\\\n**Attributes**: *name*, *type*, *dataset*, *citation*, *refid_isoabu*, *refid_isomass*, *mass*, *masscoord*, *masscoord_mass*, *abundance_values*, *abundance_keys*, *abundance_unit*, *onion_lbounds*, *zone*, *clsname*, *abundance*, *ref_isoabu*, *ref_isomass*"
     },
     "execution_count": 3,
     "metadata": {},
     "output_type": "execute_result"
    }
   ],
   "execution_count": 3
  }
 ],
 "metadata": {
  "kernelspec": {
   "display_name": "Python 3 (ipykernel)",
   "language": "python",
   "name": "python3"
  },
  "language_info": {
   "codemirror_mode": {
    "name": "ipython",
    "version": 3
   },
   "file_extension": ".py",
   "mimetype": "text/x-python",
   "name": "python",
   "nbconvert_exporter": "python",
   "pygments_lexer": "ipython3",
   "version": "3.9.19"
  }
 },
 "nbformat": 4,
 "nbformat_minor": 4
}
