{
 "cells": [
  {
   "cell_type": "markdown",
   "metadata": {
    "colab_type": "text",
    "id": "view-in-github"
   },
   "source": [
    "[![Open In Colab](https://colab.research.google.com/assets/colab-badge.svg)](https://colab.research.google.com/github/IXZZZ9/GradES/blob/main/examples/unsloth_fft_grades.ipynb)"
   ]
  },
  {
   "cell_type": "markdown",
   "metadata": {},
   "source": [
    "# 🚀 Unsloth + GradES: Full Fine-tuning (FFT) with 40-50% Speed Up\n",
    "\n",
    "This notebook demonstrates how to use **GradES** (Gradient-based Early Stopping) with **Unsloth** for ultra-fast full fine-tuning of large language models.\n",
    "\n",
    "## Key Benefits:\n",
    "- 🚀 **40-50% computational savings** compared to standard full fine-tuning\n",
    "- 🎯 **Superior performance** with full parameter updates\n",
    "- 🔧 **Easy integration** with existing Unsloth workflows\n",
    "- 📊 **Real-time monitoring** with WandB integration\n",
    "\n",
    "## Paper: \n",
    "📖 [GradES: Significantly Faster Training in Transformers with Gradient-Based Early Stopping](https://arxiv.org/abs/2509.01842)"
   ]
  },
  {
   "cell_type": "markdown",
   "metadata": {},
   "source": [
    "## 🔧 Installation"
   ]
  },
  {
   "cell_type": "code",
   "execution_count": null,
   "metadata": {},
   "outputs": [],
   "source": [
    "# Install GradES and Unsloth\n",
    "!pip install grades\n",
    "!pip install \"unsloth[colab-new] @ git+https://github.com/unslothai/unsloth.git\"\n",
    "!pip install --no-deps \"trl<0.9.0\" peft accelerate bitsandbytes"
   ]
  },
  {
   "cell_type": "markdown",
   "metadata": {},
   "source": [
    "## 📚 Setup Model and Tokenizer (Full Fine-tuning Mode)"
   ]
  },
  {
   "cell_type": "code",
   "execution_count": null,
   "metadata": {},
   "outputs": [],
   "source": [
    "from unsloth import FastLanguageModel\n",
    "import torch\n",
    "\n",
    "max_seq_length = 2048 # Choose any! We auto support RoPE Scaling internally!\n",
    "dtype = None # None for auto detection. Float16 for Tesla T4, V100, Bfloat16 for Ampere+\n",
    "load_in_4bit = False # Set to False for full fine-tuning! Important!\n",
    "\n",
    "# Load model for full fine-tuning\n",
    "model, tokenizer = FastLanguageModel.from_pretrained(\n",
    "    model_name = \"unsloth/llama-3-8b\", # Use non-quantized model for FFT\n",
    "    max_seq_length = max_seq_length,\n",
    "    dtype = dtype,\n",
    "    load_in_4bit = load_in_4bit,\n",
    "    full_finetuning = True,  # 🚀 Enable full fine-tuning!\n",
    ")\n",
    "\n",
    "# For full fine-tuning, we don't use LoRA\n",
    "# Skip FastLanguageModel.get_peft_model() call\n",
    "print(\"✅ Model loaded for full fine-tuning!\")\n",
    "print(f\"   Model: {model.config.name_or_path}\")\n",
    "print(f\"   Parameters: {model.num_parameters():,}\")"
   ]
  },
  {
   "cell_type": "markdown",
   "metadata": {},
   "source": [
    "## 📊 Setup Dataset"
   ]
  },
  {
   "cell_type": "code",
   "execution_count": null,
   "metadata": {},
   "outputs": [],
   "source": [
    "alpaca_prompt = \"\"\"Below is an instruction that describes a task, paired with an input that provides further context. Write a response that appropriately completes the request.\n",
    "\n",
    "### Instruction:\n",
    "{}\n",
    "\n",
    "### Input:\n",
    "{}\n",
    "\n",
    "### Response:\n",
    "{}\"\"\"\n",
    "\n",
    "EOS_TOKEN = tokenizer.eos_token # Must add EOS_TOKEN\n",
    "def formatting_prompts_func(examples):\n",
    "    instructions = examples[\"instruction\"]\n",
    "    inputs       = examples[\"input\"]\n",
    "    outputs      = examples[\"output\"]\n",
    "    texts = []\n",
    "    for instruction, input, output in zip(instructions, inputs, outputs):\n",
    "        # Must add EOS_TOKEN, otherwise your generation will go on forever!\n",
    "        text = alpaca_prompt.format(instruction, input, output) + EOS_TOKEN\n",
    "        texts.append(text)\n",
    "    return { \"text\" : texts, }\n",
    "\n",
    "from datasets import load_dataset\n",
    "dataset = load_dataset(\"yahma/alpaca-cleaned\", split = \"train\")\n",
    "dataset = dataset.map(formatting_prompts_func, batched = True,)\n",
    "\n",
    "# Use smaller subset for demo (full fine-tuning is more resource intensive)\n",
    "dataset = dataset.select(range(1000))  # Use first 1000 examples for demo\n",
    "print(f\"📊 Dataset prepared: {len(dataset)} examples\")"
   ]
  },
  {
   "cell_type": "markdown",
   "metadata": {},
   "source": [
    "## 🎯 Setup GradES Callback for Full Fine-tuning"
   ]
  },
  {
   "cell_type": "code",
   "execution_count": null,
   "metadata": {},
   "outputs": [],
   "source": [
    "from grades import GradEarlyStoppingCallback, GradEarlyStoppingConfig\n",
    "\n",
    "# Configure GradES for full fine-tuning\n",
    "config = GradEarlyStoppingConfig(\n",
    "    tau=1e-10,                   # Convergence threshold (very low for FFT)\n",
    "    alpha=0.90,                  # Allow freezing after 90% of training (higher for FFT)\n",
    "    enable_wandb_logging=True,   # Enable WandB logging for monitoring\n",
    "    log_interval=5,              # Log every 5 steps\n",
    "    save_stats=True,             # Save component statistics\n",
    "    max_frozen_ratio=0.8,        # Allow up to 80% of components to be frozen\n",
    ")\n",
    "\n",
    "# Create the callback\n",
    "grades_callback = GradEarlyStoppingCallback(config)\n",
    "\n",
    "print(\"🎯 GradES configured for Full Fine-tuning!\")\n",
    "print(f\"   Convergence threshold (tau): {config.tau}\")\n",
    "print(f\"   Minimum training progress (alpha): {config.alpha}\")\n",
    "print(f\"   Max frozen ratio: {config.max_frozen_ratio}\")\n",
    "print(f\"   WandB logging: {config.enable_wandb_logging}\")"
   ]
  },
  {
   "cell_type": "markdown",
   "metadata": {},
   "source": [
    "## 🚀 Full Fine-tuning with GradES"
   ]
  },
  {
   "cell_type": "code",
   "execution_count": null,
   "metadata": {},
   "outputs": [],
   "source": [
    "from trl import SFTTrainer, SFTConfig\n",
    "\n",
    "trainer = SFTTrainer(\n",
    "    model = model,\n",
    "    tokenizer = tokenizer,\n",
    "    train_dataset = dataset,\n",
    "    eval_dataset = None, # Can set up evaluation!\n",
    "    callbacks = [grades_callback],  # 🎯 Add GradES callback here!\n",
    "    args = SFTConfig(\n",
    "        dataset_text_field = \"text\",\n",
    "        per_device_train_batch_size = 1,    # Smaller batch size for FFT\n",
    "        gradient_accumulation_steps = 1,    # Adjust based on your GPU memory\n",
    "        warmup_ratio = 0.05,\n",
    "        num_train_epochs = 1,               # Set epochs instead of steps for FFT\n",
    "        learning_rate = 2e-5,               # Lower LR for full fine-tuning\n",
    "        logging_steps = 1,\n",
    "        optim = \"adamw_torch\",\n",
    "        weight_decay = 0.01,\n",
    "        lr_scheduler_type = \"cosine\",\n",
    "        seed = 3407,\n",
    "        report_to = \"wandb\",                # Use this for WandB etc\n",
    "        # Memory optimizations\n",
    "        gradient_checkpointing=True,         # Enable gradient checkpointing\n",
    "        dataloader_drop_last=True,           # Drop incomplete batches\n",
    "        bf16=True,                          # Use bf16 for better stability\n",
    "        dataloader_pin_memory=True,\n",
    "        dataloader_num_workers=0,\n",
    "        remove_unused_columns=False,\n",
    "        # Additional memory optimizations for FFT\n",
    "        max_grad_norm=1.0,                  # Gradient clipping\n",
    "        save_strategy=\"epoch\",              # Save less frequently\n",
    "        evaluation_strategy=\"no\",           # Disable evaluation to save memory\n",
    "    ),\n",
    ")\n",
    "\n",
    "print(\"🚀 Starting Full Fine-tuning with GradES...\")\n",
    "print(\"   This will update ALL model parameters.\")\n",
    "print(\"   Watch for component freezing messages!\")\n",
    "print(\"   Expected 40-50% speedup compared to standard FFT.\")"
   ]
  },
  {
   "cell_type": "code",
   "execution_count": null,
   "metadata": {},
   "outputs": [],
   "source": [
    "# Start training!\n",
    "trainer_stats = trainer.train()"
   ]
  },
  {
   "cell_type": "markdown",
   "metadata": {},
   "source": [
    "## 📊 Training Results Analysis"
   ]
  },
  {
   "cell_type": "code",
   "execution_count": null,
   "metadata": {},
   "outputs": [],
   "source": [
    "# Print training statistics\n",
    "print(\"🎉 Full Fine-tuning completed!\")\n",
    "print(f\"Total training time: {trainer_stats.metrics['train_runtime']:.2f} seconds\")\n",
    "print(f\"Training samples per second: {trainer_stats.metrics['train_samples_per_second']:.2f}\")\n",
    "\n",
    "# Access GradES statistics if available\n",
    "if hasattr(grades_callback, 'component_stats'):\n",
    "    print(\"\\n📈 GradES Component Statistics:\")\n",
    "    total_components = len(grades_callback.component_stats)\n",
    "    frozen_components = sum(1 for stats in grades_callback.component_stats.values() if stats.is_frozen)\n",
    "    print(f\"   Total components: {total_components}\")\n",
    "    print(f\"   Frozen components: {frozen_components}\")\n",
    "    print(f\"   Freeze ratio: {frozen_components/total_components*100:.1f}%\")\n",
    "    \n",
    "    if frozen_components > 0:\n",
    "        print(f\"\\n🎯 GradES successfully froze {frozen_components} components!\")\n",
    "        print(\"   This contributes to significant computational savings.\")\n",
    "        \n",
    "        # Show some example frozen components\n",
    "        frozen_names = [name for name, stats in grades_callback.component_stats.items() if stats.is_frozen]\n",
    "        print(f\"   Example frozen components: {frozen_names[:5]}...\")"
   ]
  },
  {
   "cell_type": "markdown",
   "metadata": {},
   "source": [
    "## 🧪 Test the Fully Fine-tuned Model"
   ]
  },
  {
   "cell_type": "code",
   "execution_count": null,
   "metadata": {},
   "outputs": [],
   "source": [
    "# alpaca_prompt = Copied from above\n",
    "FastLanguageModel.for_inference(model) # Enable native 2x faster inference\n",
    "inputs = tokenizer(\n",
    "[\n",
    "    alpaca_prompt.format(\n",
    "        \"Explain the benefits of full fine-tuning vs LoRA.\", # instruction\n",
    "        \"\", # input\n",
    "        \"\", # output - leave this blank for generation!\n",
    "    )\n",
    "], return_tensors = \"pt\").to(\"cuda\")\n",
    "\n",
    "outputs = model.generate(**inputs, max_new_tokens = 128, use_cache = True, temperature=0.7)\n",
    "response = tokenizer.batch_decode(outputs)[0]\n",
    "print(\"🧪 Model Response:\")\n",
    "print(response.split(\"### Response:\\n\")[1] if \"### Response:\\n\" in response else response)"
   ]
  },
  {
   "cell_type": "markdown",
   "metadata": {},
   "source": [
    "## 💾 Save the Fully Fine-tuned Model"
   ]
  },
  {
   "cell_type": "code",
   "execution_count": null,
   "metadata": {},
   "outputs": [],
   "source": [
    "# Save the fully fine-tuned model\n",
    "model.save_pretrained(\"fft_model\")\n",
    "tokenizer.save_pretrained(\"fft_model\")\n",
    "\n",
    "# Also save in 16bit to reduce size\n",
    "model.save_pretrained_merged(\"fft_model_16bit\", tokenizer, save_method = \"merged_16bit\",)\n",
    "\n",
    "print(\"💾 Fully fine-tuned model saved successfully!\")\n",
    "print(\"   Full model: ./fft_model\")\n",
    "print(\"   16bit model: ./fft_model_16bit\")\n",
    "print(\"   Note: FFT models contain all updated parameters.\")"
   ]
  },
  {
   "cell_type": "markdown",
   "metadata": {},
   "source": [
    "## 📈 Compare FFT vs LoRA"
   ]
  },
  {
   "cell_type": "code",
   "execution_count": null,
   "metadata": {},
   "outputs": [],
   "source": [
    "print(\"📈 Full Fine-tuning (FFT) vs LoRA Comparison:\")\n",
    "print(\"\\n🚀 Full Fine-tuning (FFT) Benefits:\")\n",
    "print(\"   ✅ Updates ALL model parameters\")\n",
    "print(\"   ✅ Typically achieves better performance\")\n",
    "print(\"   ✅ No adapter layers - native model architecture\")\n",
    "print(\"   ✅ Better for significant domain adaptation\")\n",
    "print(\"   ⚠️  Requires more GPU memory\")\n",
    "print(\"   ⚠️  Slower than LoRA (but GradES helps!)\")\n",
    "\n",
    "print(\"\\n🔥 LoRA Benefits:\")\n",
    "print(\"   ✅ Much faster training\")\n",
    "print(\"   ✅ Lower memory requirements\")\n",
    "print(\"   ✅ Easy to switch between tasks\")\n",
    "print(\"   ✅ Smaller model files\")\n",
    "print(\"   ⚠️  May not achieve peak performance\")\n",
    "print(\"   ⚠️  Limited to rank-constrained updates\")\n",
    "\n",
    "print(\"\\n🎯 GradES Benefits for Both:\")\n",
    "print(\"   🚀 40-50% computational savings\")\n",
    "print(\"   🎯 Maintains performance quality\")\n",
    "print(\"   📊 Real-time convergence monitoring\")\n",
    "print(\"   🔧 Easy integration with existing workflows\")"
   ]
  },
  {
   "cell_type": "markdown",
   "metadata": {},
   "source": [
    "## 🎉 Summary\n",
    "\n",
    "Congratulations! You've successfully performed full fine-tuning using **GradES + Unsloth** with the following achievements:\n",
    "\n",
    "- 🚀 **40-50% faster FFT** through intelligent component freezing\n",
    "- 🎯 **Superior model quality** with full parameter updates\n",
    "- 📊 **Real-time monitoring** of training efficiency via WandB\n",
    "- 🔧 **Seamless integration** with Unsloth's optimized training\n",
    "\n",
    "### Key Insights from This Run:\n",
    "- **Components frozen**: Check the statistics above to see how many components GradES froze\n",
    "- **Training efficiency**: Compare training time with and without GradES\n",
    "- **Model quality**: The fully fine-tuned model should show improved performance\n",
    "\n",
    "### Next Steps:\n",
    "1. **Scale up**: Try with larger models or datasets\n",
    "2. **Hyperparameter tuning**: Experiment with different `alpha` values for FFT\n",
    "3. **Domain adaptation**: Use FFT for significant domain shifts\n",
    "4. **Evaluation**: Compare FFT vs LoRA results on your specific tasks\n",
    "\n",
    "### Resources:\n",
    "- 📖 **Paper**: [arXiv:2509.01842](https://arxiv.org/abs/2509.01842)\n",
    "- 🐙 **GitHub**: [IXZZZ9/GradES](https://github.com/IXZZZ9/GradES)\n",
    "- 📦 **PyPI**: `pip install grades`\n",
    "- 🦙 **LoRA Notebook**: Try the LoRA version for comparison!\n",
    "\n",
    "---\n",
    "**Made with ❤️ by the GradES Team**"
   ]
  }
 ],
 "metadata": {
  "accelerator": "GPU",\n",
  "colab": {\n   \"gpuType\": \"A100\",\n   \"provenance\": []\n  },\n  \"kernelspec\": {\n   \"display_name\": \"Python 3\",\n   \"name\": \"python3\"\n  },\n  \"language_info\": {\n   \"name\": \"python\"\n  }\n },\n \"nbformat\": 4,\n \"nbformat_minor\": 0\n}