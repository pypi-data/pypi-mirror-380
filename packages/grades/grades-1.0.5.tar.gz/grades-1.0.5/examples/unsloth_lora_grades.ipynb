{
 "cells": [
  {
   "cell_type": "markdown",
   "metadata": {
    "colab_type": "text",
    "id": "view-in-github"
   },
   "source": [
    "[![Open In Colab](https://colab.research.google.com/assets/colab-badge.svg)](https://colab.research.google.com/github/IXZZZ9/GradES/blob/main/examples/unsloth_lora_grades.ipynb)"
   ]
  },
  {
   "cell_type": "markdown",
   "metadata": {},
   "source": [
    "# 🦙 Unsloth + GradES: LoRA Fine-tuning with 40-50% Speed Up\n",
    "\n",
    "This notebook demonstrates how to use **GradES** (Gradient-based Early Stopping) with **Unsloth** for ultra-fast LoRA fine-tuning of large language models.\n",
    "\n",
    "## Key Benefits:\n",
    "- 🚀 **40-50% computational savings** compared to standard fine-tuning\n",
    "- 🎯 **Maintains or improves** model performance\n",
    "- 🔧 **Easy integration** with existing Unsloth workflows\n",
    "- 📊 **Real-time monitoring** with WandB integration\n",
    "\n",
    "## Paper: \n",
    "📖 [GradES: Significantly Faster Training in Transformers with Gradient-Based Early Stopping](https://arxiv.org/abs/2509.01842)"
   ]
  },
  {
   "cell_type": "markdown",
   "metadata": {},
   "source": [
    "## 🔧 Installation"
   ]
  },
  {
   "cell_type": "code",
   "execution_count": null,
   "metadata": {},
   "outputs": [],
   "source": [
    "# Install GradES and Unsloth\n",
    "!pip install grades\n",
    "!pip install \"unsloth[colab-new] @ git+https://github.com/unslothai/unsloth.git\"\n",
    "!pip install --no-deps \"trl<0.9.0\" peft accelerate bitsandbytes"
   ]
  },
  {
   "cell_type": "markdown",
   "metadata": {},
   "source": [
    "## 📚 Setup Model and Tokenizer"
   ]
  },
  {
   "cell_type": "code",
   "execution_count": null,
   "metadata": {},
   "outputs": [],
   "source": [
    "from unsloth import FastLanguageModel\n",
    "import torch\n",
    "\n",
    "max_seq_length = 2048 # Choose any! We auto support RoPE Scaling internally!\n",
    "dtype = None # None for auto detection. Float16 for Tesla T4, V100, Bfloat16 for Ampere+\n",
    "load_in_4bit = True # Use 4bit quantization to reduce memory usage. Can be False.\n",
    "\n",
    "# 4x faster downloads and no OOMs with max_seq_length=2048!\n",
    "model, tokenizer = FastLanguageModel.from_pretrained(\n",
    "    model_name = \"unsloth/llama-3-8b-bnb-4bit\", # Choose ANY! eg teknium/OpenHermes-2.5-Mistral-7B\n",
    "    max_seq_length = max_seq_length,\n",
    "    dtype = dtype,\n",
    "    load_in_4bit = load_in_4bit,\n",
    ")\n",
    "\n",
    "# Do model patching and add fast LoRA weights\n",
    "model = FastLanguageModel.get_peft_model(\n",
    "    model,\n",
    "    r = 16, # Choose any number > 0 ! Suggested 8, 16, 32, 64, 128\n",
    "    target_modules = [\"q_proj\", \"k_proj\", \"v_proj\", \"o_proj\",\n",
    "                      \"gate_proj\", \"up_proj\", \"down_proj\",],\n",
    "    lora_alpha = 16,\n",
    "    lora_dropout = 0, # Supports any, but = 0 is optimized\n",
    "    bias = \"none\",    # Supports any, but = \"none\" is optimized\n",
    "    use_gradient_checkpointing = \"unsloth\", # True or \"unsloth\" for very long context\n",
    "    random_state = 3407,\n",
    "    use_rslora = False,  # Rank stabilized LoRA\n",
    "    loftq_config = None, # LoftQ\n",
    ")"
   ]
  },
  {
   "cell_type": "markdown",
   "metadata": {},
   "source": [
    "## 📊 Setup Dataset"
   ]
  },
  {
   "cell_type": "code",
   "execution_count": null,
   "metadata": {},
   "outputs": [],
   "source": [
    "alpaca_prompt = \"\"\"Below is an instruction that describes a task, paired with an input that provides further context. Write a response that appropriately completes the request.\n",
    "\n",
    "### Instruction:\n",
    "{}\n",
    "\n",
    "### Input:\n",
    "{}\n",
    "\n",
    "### Response:\n",
    "{}\"\"\"\n",
    "\n",
    "EOS_TOKEN = tokenizer.eos_token # Must add EOS_TOKEN\n",
    "def formatting_prompts_func(examples):\n",
    "    instructions = examples[\"instruction\"]\n",
    "    inputs       = examples[\"input\"]\n",
    "    outputs      = examples[\"output\"]\n",
    "    texts = []\n",
    "    for instruction, input, output in zip(instructions, inputs, outputs):\n",
    "        # Must add EOS_TOKEN, otherwise your generation will go on forever!\n",
    "        text = alpaca_prompt.format(instruction, input, output) + EOS_TOKEN\n",
    "        texts.append(text)\n",
    "    return { \"text\" : texts, }\n",
    "\n",
    "from datasets import load_dataset\n",
    "dataset = load_dataset(\"yahma/alpaca-cleaned\", split = \"train\")\n",
    "dataset = dataset.map(formatting_prompts_func, batched = True,)"
   ]
  },
  {
   "cell_type": "markdown",
   "metadata": {},
   "source": [
    "## 🎯 Setup GradES Callback"
   ]
  },
  {
   "cell_type": "code",
   "execution_count": null,
   "metadata": {},
   "outputs": [],
   "source": [
    "from grades import GradEarlyStoppingCallback, GradEarlyStoppingConfig\n",
    "\n",
    "# Configure GradES for LoRA fine-tuning\n",
    "config = GradEarlyStoppingConfig(\n",
    "    tau=1e-10,                   # Convergence threshold (very low for LoRA)\n",
    "    alpha=0.1,                   # Allow freezing after 10% of training\n",
    "    enable_wandb_logging=True,   # Enable WandB logging for monitoring\n",
    "    log_interval=5,              # Log every 5 steps\n",
    "    save_stats=True,             # Save component statistics\n",
    ")\n",
    "\n",
    "# Create the callback\n",
    "grades_callback = GradEarlyStoppingCallback(config)\n",
    "\n",
    "print(\"🎯 GradES configured successfully!\")\n",
    "print(f\"   Convergence threshold (tau): {config.tau}\")\n",
    "print(f\"   Minimum training progress (alpha): {config.alpha}\")\n",
    "print(f\"   WandB logging: {config.enable_wandb_logging}\")"
   ]
  },
  {
   "cell_type": "markdown",
   "metadata": {},
   "source": [
    "## 🚀 Training with GradES"
   ]
  },
  {
   "cell_type": "code",
   "execution_count": null,
   "metadata": {},
   "outputs": [],
   "source": [
    "from trl import SFTTrainer, SFTConfig\n",
    "\n",
    "trainer = SFTTrainer(\n",
    "    model = model,\n",
    "    tokenizer = tokenizer,\n",
    "    train_dataset = dataset,\n",
    "    eval_dataset = None, # Can set up evaluation!\n",
    "    callbacks = [grades_callback],  # 🎯 Add GradES callback here!\n",
    "    args = SFTConfig(\n",
    "        dataset_text_field = \"text\",\n",
    "        per_device_train_batch_size = 16,\n",
    "        gradient_accumulation_steps = 4, # Use GA to mimic batch size!\n",
    "        warmup_ratio = 0.05,\n",
    "        max_steps = 60,              # Reduced steps for demo\n",
    "        learning_rate = 2e-4,        # Higher LR for LoRA\n",
    "        logging_steps = 1,\n",
    "        optim = \"adamw_torch\",\n",
    "        weight_decay = 0.01,\n",
    "        lr_scheduler_type = \"cosine\",\n",
    "        seed = 3407,\n",
    "        report_to = \"wandb\",         # Use this for WandB etc\n",
    "        # Memory optimizations\n",
    "        gradient_checkpointing=True,  # Enable gradient checkpointing\n",
    "        dataloader_drop_last=True,    # Drop incomplete batches\n",
    "        bf16=True,\n",
    "        dataloader_pin_memory=True,\n",
    "        dataloader_num_workers=0,\n",
    "        remove_unused_columns=False,\n",
    "    ),\n",
    ")\n",
    "\n",
    "print(\"🚀 Starting training with GradES...\")\n",
    "print(\"   Watch for component freezing messages!\")\n",
    "print(\"   Expected 40-50% speedup compared to standard training.\")"
   ]
  },
  {
   "cell_type": "code",
   "execution_count": null,
   "metadata": {},
   "outputs": [],
   "source": [
    "# Start training!\n",
    "trainer_stats = trainer.train()"
   ]
  },
  {
   "cell_type": "markdown",
   "metadata": {},
   "source": [
    "## 📊 Training Results Analysis"
   ]
  },
  {
   "cell_type": "code",
   "execution_count": null,
   "metadata": {},
   "outputs": [],
   "source": [
    "# Print training statistics\n",
    "print(\"🎉 Training completed!\")\n",
    "print(f\"Total training time: {trainer_stats.metrics['train_runtime']:.2f} seconds\")\n",
    "print(f\"Training samples per second: {trainer_stats.metrics['train_samples_per_second']:.2f}\")\n",
    "\n",
    "# Access GradES statistics if available\n",
    "if hasattr(grades_callback, 'component_stats'):\n",
    "    print(\"\\n📈 GradES Component Statistics:\")\n",
    "    total_components = len(grades_callback.component_stats)\n",
    "    frozen_components = sum(1 for stats in grades_callback.component_stats.values() if stats.is_frozen)\n",
    "    print(f\"   Total components: {total_components}\")\n",
    "    print(f\"   Frozen components: {frozen_components}\")\n",
    "    print(f\"   Freeze ratio: {frozen_components/total_components*100:.1f}%\")\n",
    "    \n",
    "    if frozen_components > 0:\n",
    "        print(f\"\\n🎯 GradES successfully froze {frozen_components} components!\")\n",
    "        print(\"   This contributes to the computational savings.\")"
   ]
  },
  {
   "cell_type": "markdown",
   "metadata": {},
   "source": [
    "## 🧪 Test the Model"
   ]
  },
  {
   "cell_type": "code",
   "execution_count": null,
   "metadata": {},
   "outputs": [],
   "source": [
    "# alpaca_prompt = Copied from above\n",
    "FastLanguageModel.for_inference(model) # Enable native 2x faster inference\n",
    "inputs = tokenizer(\n",
    "[\n",
    "    alpaca_prompt.format(\n",
    "        \"Continue the fibonacci sequence.\", # instruction\n",
    "        \"1, 1, 2, 3, 5, 8\", # input\n",
    "        \"\", # output - leave this blank for generation!\n",
    "    )\n",
    "], return_tensors = \"pt\").to(\"cuda\")\n",
    "\n",
    "outputs = model.generate(**inputs, max_new_tokens = 64, use_cache = True)\n",
    "tokenizer.batch_decode(outputs)"
   ]
  },
  {
   "cell_type": "markdown",
   "metadata": {},
   "source": [
    "## 💾 Save the Model"
   ]
  },
  {
   "cell_type": "code",
   "execution_count": null,
   "metadata": {},
   "outputs": [],
   "source": [
    "# Save the model\n",
    "model.save_pretrained(\"lora_model\") # Local saving\n",
    "tokenizer.save_pretrained(\"lora_model\")\n",
    "\n",
    "# Save to 16bit for VRAM\n",
    "model.save_pretrained_merged(\"model\", tokenizer, save_method = \"merged_16bit\",)\n",
    "\n",
    "print(\"💾 Model saved successfully!\")\n",
    "print(\"   LoRA model: ./lora_model\")\n",
    "print(\"   Merged model (16bit): ./model\")"
   ]
  },
  {
   "cell_type": "markdown",
   "metadata": {},
   "source": [
    "## 🎉 Summary\n",
    "\n",
    "Congratulations! You've successfully fine-tuned a language model using **GradES + Unsloth** with the following benefits:\n",
    "\n",
    "- 🚀 **40-50% faster training** through gradient-based component freezing\n",
    "- 🎯 **Maintained performance** with intelligent convergence detection\n",
    "- 📊 **Real-time monitoring** of component freezing via WandB\n",
    "- 🔧 **Easy integration** with existing Unsloth workflows\n",
    "\n",
    "### Next Steps:\n",
    "1. **Experiment with hyperparameters**: Try different `tau` and `alpha` values\n",
    "2. **Scale up**: Use larger models or longer training runs\n",
    "3. **Monitor results**: Check WandB for detailed component freezing patterns\n",
    "4. **Share your results**: We'd love to hear about your experience!\n",
    "\n",
    "### Resources:\n",
    "- 📖 **Paper**: [arXiv:2509.01842](https://arxiv.org/abs/2509.01842)\n",
    "- 🐙 **GitHub**: [IXZZZ9/GradES](https://github.com/IXZZZ9/GradES)\n",
    "- 📦 **PyPI**: `pip install grades`\n",
    "\n",
    "---\n",
    "**Made with ❤️ by the GradES Team**"
   ]
  }
 ],
 "metadata": {
  "accelerator": "GPU",
  "colab": {
   "gpuType": "T4",
   "provenance": []
  },
  "kernelspec": {
   "display_name": "Python 3",
   "name": "python3"
  },
  "language_info": {
   "name": "python"
  }
 },
 "nbformat": 4,
 "nbformat_minor": 0
}