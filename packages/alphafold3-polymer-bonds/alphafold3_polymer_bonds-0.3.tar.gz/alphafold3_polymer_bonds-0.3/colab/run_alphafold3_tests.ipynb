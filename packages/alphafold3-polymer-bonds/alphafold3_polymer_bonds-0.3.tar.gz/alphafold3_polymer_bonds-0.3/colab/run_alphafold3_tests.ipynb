{
  "nbformat": 4,
  "nbformat_minor": 0,
  "metadata": {
    "colab": {
      "provenance": [],
      "machine_shape": "hm",
      "gpuType": "L4"
    },
    "kernelspec": {
      "name": "python3",
      "display_name": "Python 3"
    },
    "language_info": {
      "name": "python"
    },
    "accelerator": "GPU"
  },
  "cells": [
    {
      "cell_type": "code",
      "execution_count": 1,
      "metadata": {
        "colab": {
          "base_uri": "https://localhost:8080/"
        },
        "id": "NgvxGW-6WGob",
        "outputId": "20baf7d1-4d20-45fa-8d62-adfb023865c7"
      },
      "outputs": [
        {
          "output_type": "stream",
          "name": "stdout",
          "text": [
            "Installing AlphaFold v3.0.1\n",
            "Installing colabfold\n",
            "Downloading run script to /app/alphafold\n"
          ]
        }
      ],
      "source": [
        "# Run installation script\n",
        "!source <(curl -fsSL https://raw.githubusercontent.com/jurgjn/alphafold3-polymer-bonds/refs/heads/main/colab/install)"
      ]
    },
    {
      "cell_type": "code",
      "source": [
        "# Copy weights from Google Drive to the default location at /root/models/af3.bin.zst\n",
        "from google.colab import drive\n",
        "drive.mount('/content/drive')\n",
        "!mkdir -p /root/models/\n",
        "!cp /content/drive/MyDrive/alphafold3/models/af3.bin.zst /root/models/af3.bin.zst\n",
        "!md5sum /root/models/af3.bin.zst\n",
        "drive.flush_and_unmount()"
      ],
      "metadata": {
        "colab": {
          "base_uri": "https://localhost:8080/"
        },
        "id": "JZKCDpQLWeXZ",
        "outputId": "11f610ea-838c-4ff6-bdd0-0bb9dd47b6f1"
      },
      "execution_count": 2,
      "outputs": [
        {
          "output_type": "stream",
          "name": "stdout",
          "text": [
            "Mounted at /content/drive\n",
            "ea076e2d05168d66a3d9a3fa62e029d0  /root/models/af3.bin.zst\n"
          ]
        }
      ]
    },
    {
      "cell_type": "code",
      "source": [
        "%%shell\n",
        "source /alphafold3_venv/bin/activate\n",
        "PATH=\"/hmmer/bin:$PATH\"\n",
        "cd /app/alphafold\n",
        "XLA_PYTHON_CLIENT_PREALLOCATE=true\n",
        "XLA_CLIENT_MEM_FRACTION=0.95\n",
        "python3 run_alphafold_data_test.py"
      ],
      "metadata": {
        "colab": {
          "base_uri": "https://localhost:8080/"
        },
        "id": "R0DZzIaJWn92",
        "outputId": "09c391ed-c299-47ad-b06e-72e431cf5046"
      },
      "execution_count": 3,
      "outputs": [
        {
          "output_type": "stream",
          "name": "stdout",
          "text": [
            "Running tests under Python 3.12.11: /alphafold3_venv/bin/python3\n",
            "[ RUN      ] DataPipelineTest.test_config\n",
            "[       OK ] DataPipelineTest.test_config\n",
            "[ RUN      ] DataPipelineTest.test_featurisation\n",
            "Processing chain A\n",
            "I0919 08:08:18.835558 136821763601024 pipeline.py:82] Getting protein MSAs for sequence SEFEKLRQTGDELVQAFQRLREIFDKGDDDSLEQVLEEIEELIQKHRQLFDNRQEAADTEAAKQGDQWVQLFQRFREAIDKGDKDSLEQLLEELEQALQKIRELAEKKN\n",
            "I0919 08:08:18.836528 136820211406400 jackhmmer.py:78] Query sequence: SEFEKLRQTGDELVQAFQRLREIFDKGDDDSLEQVLEEIEELIQKHRQLFDNRQEAADTEAAKQGDQWVQLFQRFREAIDKGDKDSLEQLLEELEQALQKIRELAEKKN\n",
            "I0919 08:08:18.836854 136820203013696 jackhmmer.py:78] Query sequence: SEFEKLRQTGDELVQAFQRLREIFDKGDDDSLEQVLEEIEELIQKHRQLFDNRQEAADTEAAKQGDQWVQLFQRFREAIDKGDKDSLEQLLEELEQALQKIRELAEKKN\n",
            "I0919 08:08:18.837332 136820194620992 jackhmmer.py:78] Query sequence: SEFEKLRQTGDELVQAFQRLREIFDKGDDDSLEQVLEEIEELIQKHRQLFDNRQEAADTEAAKQGDQWVQLFQRFREAIDKGDKDSLEQLLEELEQALQKIRELAEKKN\n",
            "I0919 08:08:18.837855 136820211406400 subprocess_utils.py:68] Launching subprocess \"/hmmer/bin/jackhmmer -o /dev/null -A /tmp/tmpkz0h_ka3/output.sto --noali --F1 0.0005 --F2 5e-05 --F3 5e-07 --cpu 8 -N 1 -E 0.0001 --incE 0.0001 /tmp/tmpkz0h_ka3/query.fasta /alphafold3_venv/lib/python3.12/site-packages/alphafold3/test_data/miniature_databases/uniref90__subsampled_1000.fasta\"\n",
            "I0919 08:08:18.837962 136820186228288 jackhmmer.py:78] Query sequence: SEFEKLRQTGDELVQAFQRLREIFDKGDDDSLEQVLEEIEELIQKHRQLFDNRQEAADTEAAKQGDQWVQLFQRFREAIDKGDKDSLEQLLEELEQALQKIRELAEKKN\n",
            "I0919 08:08:18.838114 136820203013696 subprocess_utils.py:68] Launching subprocess \"/hmmer/bin/jackhmmer -o /dev/null -A /tmp/tmpvjzq2pjt/output.sto --noali --F1 0.0005 --F2 5e-05 --F3 5e-07 --cpu 8 -N 1 -E 0.0001 --incE 0.0001 /tmp/tmpvjzq2pjt/query.fasta /alphafold3_venv/lib/python3.12/site-packages/alphafold3/test_data/miniature_databases/mgy_clusters__subsampled_1000.fa\"\n",
            "I0919 08:08:18.838279 136820194620992 subprocess_utils.py:68] Launching subprocess \"/hmmer/bin/jackhmmer -o /dev/null -A /tmp/tmp2z3y45m1/output.sto --noali --F1 0.0005 --F2 5e-05 --F3 5e-07 --cpu 8 -N 1 -E 0.0001 --incE 0.0001 /tmp/tmp2z3y45m1/query.fasta /alphafold3_venv/lib/python3.12/site-packages/alphafold3/test_data/miniature_databases/bfd-first_non_consensus_sequences__subsampled_1000.fasta\"\n",
            "I0919 08:08:18.838885 136820186228288 subprocess_utils.py:68] Launching subprocess \"/hmmer/bin/jackhmmer -o /dev/null -A /tmp/tmpdc_uhegh/output.sto --noali --F1 0.0005 --F2 5e-05 --F3 5e-07 --cpu 8 -N 1 -E 0.0001 --incE 0.0001 /tmp/tmpdc_uhegh/query.fasta /alphafold3_venv/lib/python3.12/site-packages/alphafold3/test_data/miniature_databases/uniprot_all__subsampled_1000.fasta\"\n",
            "I0919 08:08:18.869846 136820203013696 subprocess_utils.py:97] Finished Jackhmmer in 0.031 seconds\n",
            "I0919 08:08:18.871113 136820194620992 subprocess_utils.py:97] Finished Jackhmmer in 0.032 seconds\n",
            "I0919 08:08:18.871976 136820211406400 subprocess_utils.py:97] Finished Jackhmmer in 0.034 seconds\n",
            "I0919 08:08:18.872339 136820186228288 subprocess_utils.py:97] Finished Jackhmmer in 0.033 seconds\n",
            "I0919 08:08:18.873181 136821763601024 pipeline.py:115] Getting protein MSAs took 0.04 seconds for sequence SEFEKLRQTGDELVQAFQRLREIFDKGDDDSLEQVLEEIEELIQKHRQLFDNRQEAADTEAAKQGDQWVQLFQRFREAIDKGDKDSLEQLLEELEQALQKIRELAEKKN\n",
            "I0919 08:08:18.873288 136821763601024 pipeline.py:121] Deduplicating MSAs for sequence SEFEKLRQTGDELVQAFQRLREIFDKGDDDSLEQVLEEIEELIQKHRQLFDNRQEAADTEAAKQGDQWVQLFQRFREAIDKGDKDSLEQLLEELEQALQKIRELAEKKN\n",
            "I0919 08:08:18.873946 136821763601024 pipeline.py:134] Deduplicating MSAs took 0.00 seconds for sequence SEFEKLRQTGDELVQAFQRLREIFDKGDDDSLEQVLEEIEELIQKHRQLFDNRQEAADTEAAKQGDQWVQLFQRFREAIDKGDKDSLEQLLEELEQALQKIRELAEKKN, found 1 unpaired sequences, 1 paired sequences\n",
            "I0919 08:08:18.874043 136821763601024 pipeline.py:40] Getting protein templates for sequence SEFEKLRQTGDELVQAFQRLREIFDKGDDDSLEQVLEEIEELIQKHRQLFDNRQEAADTEAAKQGDQWVQLFQRFREAIDKGDKDSLEQLLEELEQALQKIRELAEKKN\n",
            "I0919 08:08:18.874534 136821763601024 subprocess_utils.py:68] Launching subprocess \"/hmmer/bin/hmmbuild --informat stockholm --hand --amino /tmp/tmp5c3wtd0j/output.hmm /tmp/tmp5c3wtd0j/query.msa\"\n",
            "I0919 08:08:18.925116 136821763601024 subprocess_utils.py:97] Finished Hmmbuild in 0.050 seconds\n",
            "I0919 08:08:18.925687 136821763601024 subprocess_utils.py:68] Launching subprocess \"/hmmer/bin/hmmsearch --noali --cpu 8 --F1 0.1 --F2 0.1 --F3 0.1 -E 100 --incE 100 --domE 100 --incdomE 100 -A /tmp/tmp49ng0_2e/output.sto /tmp/tmp49ng0_2e/query.hmm /alphafold3_venv/lib/python3.12/site-packages/alphafold3/test_data/miniature_databases/pdb_seqres_2022_09_28__subsampled_1000.fasta\"\n",
            "I0919 08:08:18.999286 136821763601024 subprocess_utils.py:97] Finished Hmmsearch in 0.073 seconds\n",
            "I0919 08:08:19.029138 136821763601024 pipeline.py:52] Getting 4 protein templates took 0.16 seconds for sequence SEFEKLRQTGDELVQAFQRLREIFDKGDDDSLEQVLEEIEELIQKHRQLFDNRQEAADTEAAKQGDQWVQLFQRFREAIDKGDKDSLEQLLEELEQALQKIRELAEKKN\n",
            "Processing chain A took 0.23 seconds\n",
            "Processing chain B\n",
            "Processing chain B took 0.00 seconds\n",
            "I0919 08:08:25.204611 136821763601024 pipeline.py:164] processing 5tgy, random_seed=1234\n",
            "I0919 08:08:25.348211 136821763601024 pipeline.py:257] Calculating bucket size for input with 150 tokens.\n",
            "I0919 08:08:25.348437 136821763601024 pipeline.py:263] Got bucket size 150 for input with 150 tokens, resulting in 0 padded tokens.\n",
            "[08:08:26] UFFTYPER: Unrecognized charge state for atom: 48\n",
            "[08:08:26] UFFTYPER: Unrecognized atom type: Zn4+2 (48)\n",
            "[08:08:27] UFFTYPER: Unrecognized charge state for atom: 48\n",
            "[08:08:27] UFFTYPER: Unrecognized atom type: Zn4+2 (48)\n",
            "[       OK ] DataPipelineTest.test_featurisation\n",
            "[ RUN      ] DataPipelineTest.test_process_fold_input_runs_only_data_pipeline\n",
            "Processing fold input 5tgy\n",
            "Running data pipeline...\n",
            "Processing chain A\n",
            "Processing chain A took 0.04 seconds\n",
            "Processing chain B\n",
            "Processing chain B took 0.00 seconds\n",
            "Output directory: /tmp/absl_testing/DataPipelineTest/test_process_fold_input_runs_only_data_pipeline/tmpzjxam45h\n",
            "Writing model input JSON to /tmp/absl_testing/DataPipelineTest/test_process_fold_input_runs_only_data_pipeline/tmpzjxam45h\n",
            "Skipping inference...\n",
            "Done processing fold input 5tgy.\n",
            "[       OK ] DataPipelineTest.test_process_fold_input_runs_only_data_pipeline\n",
            "[ RUN      ] DataPipelineTest.test_replace_db_dir0 (num_db_dirs=1)\n",
            "[       OK ] DataPipelineTest.test_replace_db_dir0 (num_db_dirs=1)\n",
            "[ RUN      ] DataPipelineTest.test_replace_db_dir1 (num_db_dirs=2)\n",
            "[       OK ] DataPipelineTest.test_replace_db_dir1 (num_db_dirs=2)\n",
            "[ RUN      ] DataPipelineTest.test_write_input_json\n",
            "[       OK ] DataPipelineTest.test_write_input_json\n",
            "----------------------------------------------------------------------\n",
            "Ran 6 tests in 8.824s\n",
            "\n",
            "OK\n"
          ]
        },
        {
          "output_type": "execute_result",
          "data": {
            "text/plain": []
          },
          "metadata": {},
          "execution_count": 3
        }
      ]
    },
    {
      "cell_type": "code",
      "source": [
        "%%shell\n",
        "source /alphafold3_venv/bin/activate\n",
        "PATH=\"/hmmer/bin:$PATH\"\n",
        "cd /app/alphafold\n",
        "XLA_PYTHON_CLIENT_PREALLOCATE=true\n",
        "XLA_CLIENT_MEM_FRACTION=0.95\n",
        "python3 run_alphafold_test.py"
      ],
      "metadata": {
        "colab": {
          "base_uri": "https://localhost:8080/"
        },
        "id": "SiS10l1AWq8f",
        "outputId": "d542d22e-6e61-4d18-a852-5bb9adc17fb1"
      },
      "execution_count": 4,
      "outputs": [
        {
          "output_type": "stream",
          "name": "stdout",
          "text": [
            "Running tests under Python 3.12.11: /alphafold3_venv/bin/python3\n",
            "[ RUN      ] InferenceTest.test_inference_bucket_1024\n",
            "I0919 08:08:30.487777 136438097801856 xla_bridge.py:895] Unable to initialize backend 'rocm': module 'jaxlib.xla_extension' has no attribute 'GpuAllocatorConfig'\n",
            "I0919 08:08:30.488854 136438097801856 xla_bridge.py:895] Unable to initialize backend 'tpu': INTERNAL: Failed to open libtpu.so: libtpu.so: cannot open shared object file: No such file or directory\n",
            "Processing fold input 5tgy\n",
            "Checking we can load the model parameters...\n",
            "2025-09-19 08:08:30.550890: W external/xla/xla/service/gpu/nvptx_compiler.cc:930] The NVIDIA driver's CUDA version is 12.4 which is older than the PTX compiler version 12.6.77. Because the driver is older than the PTX compiler version, XLA is disabling parallel compilation, which may slow down compilation. You should update your NVIDIA driver or use the NVIDIA-provided CUDA forward compatibility packages.\n",
            "Running data pipeline...\n",
            "Processing chain A\n",
            "I0919 08:08:35.395087 136438097801856 pipeline.py:82] Getting protein MSAs for sequence SEFEKLRQTGDELVQAFQRLREIFDKGDDDSLEQVLEEIEELIQKHRQLFDNRQEAADTEAAKQGDQWVQLFQRFREAIDKGDKDSLEQLLEELEQALQKIRELAEKKN\n",
            "I0919 08:08:35.396367 136432622495296 jackhmmer.py:78] Query sequence: SEFEKLRQTGDELVQAFQRLREIFDKGDDDSLEQVLEEIEELIQKHRQLFDNRQEAADTEAAKQGDQWVQLFQRFREAIDKGDKDSLEQLLEELEQALQKIRELAEKKN\n",
            "I0919 08:08:35.396651 136432614102592 jackhmmer.py:78] Query sequence: SEFEKLRQTGDELVQAFQRLREIFDKGDDDSLEQVLEEIEELIQKHRQLFDNRQEAADTEAAKQGDQWVQLFQRFREAIDKGDKDSLEQLLEELEQALQKIRELAEKKN\n",
            "I0919 08:08:35.400147 136432622495296 subprocess_utils.py:68] Launching subprocess \"/hmmer/bin/jackhmmer -o /dev/null -A /tmp/tmp62wa0lwx/output.sto --noali --F1 0.0005 --F2 5e-05 --F3 5e-07 --cpu 8 -N 1 -E 0.0001 --incE 0.0001 /tmp/tmp62wa0lwx/query.fasta /alphafold3_venv/lib/python3.12/site-packages/alphafold3/test_data/miniature_databases/uniref90__subsampled_1000.fasta\"\n",
            "I0919 08:08:35.400265 136432605709888 jackhmmer.py:78] Query sequence: SEFEKLRQTGDELVQAFQRLREIFDKGDDDSLEQVLEEIEELIQKHRQLFDNRQEAADTEAAKQGDQWVQLFQRFREAIDKGDKDSLEQLLEELEQALQKIRELAEKKN\n",
            "I0919 08:08:35.400420 136413978957376 jackhmmer.py:78] Query sequence: SEFEKLRQTGDELVQAFQRLREIFDKGDDDSLEQVLEEIEELIQKHRQLFDNRQEAADTEAAKQGDQWVQLFQRFREAIDKGDKDSLEQLLEELEQALQKIRELAEKKN\n",
            "I0919 08:08:35.400556 136432614102592 subprocess_utils.py:68] Launching subprocess \"/hmmer/bin/jackhmmer -o /dev/null -A /tmp/tmpxf382yap/output.sto --noali --F1 0.0005 --F2 5e-05 --F3 5e-07 --cpu 8 -N 1 -E 0.0001 --incE 0.0001 /tmp/tmpxf382yap/query.fasta /alphafold3_venv/lib/python3.12/site-packages/alphafold3/test_data/miniature_databases/mgy_clusters__subsampled_1000.fa\"\n",
            "I0919 08:08:35.401488 136432605709888 subprocess_utils.py:68] Launching subprocess \"/hmmer/bin/jackhmmer -o /dev/null -A /tmp/tmpm6g9zt8f/output.sto --noali --F1 0.0005 --F2 5e-05 --F3 5e-07 --cpu 8 -N 1 -E 0.0001 --incE 0.0001 /tmp/tmpm6g9zt8f/query.fasta /alphafold3_venv/lib/python3.12/site-packages/alphafold3/test_data/miniature_databases/bfd-first_non_consensus_sequences__subsampled_1000.fasta\"\n",
            "I0919 08:08:35.401705 136413978957376 subprocess_utils.py:68] Launching subprocess \"/hmmer/bin/jackhmmer -o /dev/null -A /tmp/tmp38yuhtv_/output.sto --noali --F1 0.0005 --F2 5e-05 --F3 5e-07 --cpu 8 -N 1 -E 0.0001 --incE 0.0001 /tmp/tmp38yuhtv_/query.fasta /alphafold3_venv/lib/python3.12/site-packages/alphafold3/test_data/miniature_databases/uniprot_all__subsampled_1000.fasta\"\n",
            "I0919 08:08:35.432289 136432614102592 subprocess_utils.py:97] Finished Jackhmmer in 0.031 seconds\n",
            "I0919 08:08:35.433609 136432605709888 subprocess_utils.py:97] Finished Jackhmmer in 0.032 seconds\n",
            "I0919 08:08:35.435035 136432622495296 subprocess_utils.py:97] Finished Jackhmmer in 0.034 seconds\n",
            "I0919 08:08:35.435374 136413978957376 subprocess_utils.py:97] Finished Jackhmmer in 0.034 seconds\n",
            "I0919 08:08:35.436285 136438097801856 pipeline.py:115] Getting protein MSAs took 0.04 seconds for sequence SEFEKLRQTGDELVQAFQRLREIFDKGDDDSLEQVLEEIEELIQKHRQLFDNRQEAADTEAAKQGDQWVQLFQRFREAIDKGDKDSLEQLLEELEQALQKIRELAEKKN\n",
            "I0919 08:08:35.436367 136438097801856 pipeline.py:121] Deduplicating MSAs for sequence SEFEKLRQTGDELVQAFQRLREIFDKGDDDSLEQVLEEIEELIQKHRQLFDNRQEAADTEAAKQGDQWVQLFQRFREAIDKGDKDSLEQLLEELEQALQKIRELAEKKN\n",
            "I0919 08:08:35.437057 136438097801856 pipeline.py:134] Deduplicating MSAs took 0.00 seconds for sequence SEFEKLRQTGDELVQAFQRLREIFDKGDDDSLEQVLEEIEELIQKHRQLFDNRQEAADTEAAKQGDQWVQLFQRFREAIDKGDKDSLEQLLEELEQALQKIRELAEKKN, found 1 unpaired sequences, 1 paired sequences\n",
            "I0919 08:08:35.437157 136438097801856 pipeline.py:40] Getting protein templates for sequence SEFEKLRQTGDELVQAFQRLREIFDKGDDDSLEQVLEEIEELIQKHRQLFDNRQEAADTEAAKQGDQWVQLFQRFREAIDKGDKDSLEQLLEELEQALQKIRELAEKKN\n",
            "I0919 08:08:35.437612 136438097801856 subprocess_utils.py:68] Launching subprocess \"/hmmer/bin/hmmbuild --informat stockholm --hand --amino /tmp/tmpn7ois35i/output.hmm /tmp/tmpn7ois35i/query.msa\"\n",
            "I0919 08:08:35.488232 136438097801856 subprocess_utils.py:97] Finished Hmmbuild in 0.051 seconds\n",
            "I0919 08:08:35.488777 136438097801856 subprocess_utils.py:68] Launching subprocess \"/hmmer/bin/hmmsearch --noali --cpu 8 --F1 0.1 --F2 0.1 --F3 0.1 -E 100 --incE 100 --domE 100 --incdomE 100 -A /tmp/tmpl6clvedf/output.sto /tmp/tmpl6clvedf/query.hmm /alphafold3_venv/lib/python3.12/site-packages/alphafold3/test_data/miniature_databases/pdb_seqres_2022_09_28__subsampled_1000.fasta\"\n",
            "I0919 08:08:35.560838 136438097801856 subprocess_utils.py:97] Finished Hmmsearch in 0.072 seconds\n",
            "I0919 08:08:35.587662 136438097801856 pipeline.py:52] Getting 4 protein templates took 0.15 seconds for sequence SEFEKLRQTGDELVQAFQRLREIFDKGDDDSLEQVLEEIEELIQKHRQLFDNRQEAADTEAAKQGDQWVQLFQRFREAIDKGDKDSLEQLLEELEQALQKIRELAEKKN\n",
            "Processing chain A took 0.23 seconds\n",
            "Processing chain B\n",
            "Processing chain B took 0.00 seconds\n",
            "Output directory: /tmp/absl_testing/InferenceTest/test_inference_bucket_1024/tmplsbi8e5y\n",
            "Writing model input JSON to /tmp/absl_testing/InferenceTest/test_inference_bucket_1024/tmplsbi8e5y\n",
            "Predicting 3D structure for 5tgy for seed(s) (1234,)...\n",
            "Featurising data for seeds (1234,)...\n",
            "Featurising 5tgy with rng_seed 1234.\n",
            "I0919 08:08:41.729917 136438097801856 pipeline.py:164] processing 5tgy, random_seed=1234\n",
            "I0919 08:08:41.745381 136438097801856 pipeline.py:257] Calculating bucket size for input with 150 tokens.\n",
            "I0919 08:08:41.745560 136438097801856 pipeline.py:263] Got bucket size 1024 for input with 150 tokens, resulting in 874 padded tokens.\n",
            "[08:08:43] UFFTYPER: Unrecognized charge state for atom: 48\n",
            "[08:08:43] UFFTYPER: Unrecognized atom type: Zn4+2 (48)\n",
            "[08:08:44] UFFTYPER: Unrecognized charge state for atom: 48\n",
            "[08:08:44] UFFTYPER: Unrecognized atom type: Zn4+2 (48)\n",
            "Featurising 5tgy with rng_seed 1234 took 2.52 seconds.\n",
            "Featurising data for seeds (1234,) took  8.62 seconds.\n",
            "Running model inference for seed 1234...\n",
            "Running model inference for seed 1234 took  497.63 seconds.\n",
            "Extracting output structures (one per sample) for seed 1234...\n",
            "Extracting output structures (one per sample) for seed 1234 took  0.28 seconds.\n",
            "Running model inference and extracting output structures for seed 1234 took 497.91 seconds.\n",
            "Running model inference and extracting output structures for seeds (1234,) took 497.91 seconds.\n",
            "Writing outputs for 5tgy for seed(s) (1234,)...\n",
            "Done processing fold input 5tgy.\n",
            "I0919 08:17:17.568956 136438097801856 run_alphafold_test.py:259] finished get_inference_result\n",
            "I0919 08:17:20.332694 136438097801856 run_alphafold_test.py:362] Comparing inference results with expected values.\n",
            "[       OK ] InferenceTest.test_inference_bucket_1024\n",
            "[ RUN      ] InferenceTest.test_inference_default_bucket\n",
            "Processing fold input 5tgy\n",
            "Checking we can load the model parameters...\n",
            "Running data pipeline...\n",
            "Processing chain A\n",
            "Processing chain A took 0.04 seconds\n",
            "Processing chain B\n",
            "Processing chain B took 0.00 seconds\n",
            "Output directory: /tmp/absl_testing/InferenceTest/test_inference_default_bucket/tmp_x__46ik\n",
            "Writing model input JSON to /tmp/absl_testing/InferenceTest/test_inference_default_bucket/tmp_x__46ik\n",
            "Predicting 3D structure for 5tgy for seed(s) (1234,)...\n",
            "Featurising data for seeds (1234,)...\n",
            "Featurising 5tgy with rng_seed 1234.\n",
            "I0919 08:17:23.424016 136438097801856 pipeline.py:164] processing 5tgy, random_seed=1234\n",
            "I0919 08:17:23.441258 136438097801856 pipeline.py:257] Calculating bucket size for input with 150 tokens.\n",
            "I0919 08:17:23.441370 136438097801856 pipeline.py:263] Got bucket size 150 for input with 150 tokens, resulting in 0 padded tokens.\n",
            "[08:17:24] UFFTYPER: Unrecognized charge state for atom: 48\n",
            "[08:17:24] UFFTYPER: Unrecognized atom type: Zn4+2 (48)\n",
            "[08:17:25] UFFTYPER: Unrecognized charge state for atom: 48\n",
            "[08:17:25] UFFTYPER: Unrecognized atom type: Zn4+2 (48)\n",
            "Featurising 5tgy with rng_seed 1234 took 2.34 seconds.\n",
            "Featurising data for seeds (1234,) took  2.34 seconds.\n",
            "Running model inference for seed 1234...\n",
            "Running model inference for seed 1234 took  113.09 seconds.\n",
            "Extracting output structures (one per sample) for seed 1234...\n",
            "Extracting output structures (one per sample) for seed 1234 took  0.26 seconds.\n",
            "Running model inference and extracting output structures for seed 1234 took 113.36 seconds.\n",
            "Running model inference and extracting output structures for seeds (1234,) took 113.36 seconds.\n",
            "Writing outputs for 5tgy for seed(s) (1234,)...\n",
            "Done processing fold input 5tgy.\n",
            "I0919 08:19:21.546089 136438097801856 run_alphafold_test.py:259] finished get_inference_result\n",
            "I0919 08:19:21.685713 136438097801856 run_alphafold_test.py:362] Comparing inference results with expected values.\n",
            "[       OK ] InferenceTest.test_inference_default_bucket\n",
            "[ RUN      ] InferenceTest.test_model_inference\n",
            "[       OK ] InferenceTest.test_model_inference\n",
            "[ RUN      ] InferenceTest.test_process_fold_input_runs_only_inference\n",
            "Processing fold input 5tgy\n",
            "Checking we can load the model parameters...\n",
            "Skipping data pipeline...\n",
            "Output directory: /tmp/absl_testing/InferenceTest/test_process_fold_input_runs_only_inference/tmpm1bylai0\n",
            "Writing model input JSON to /tmp/absl_testing/InferenceTest/test_process_fold_input_runs_only_inference/tmpm1bylai0\n",
            "Predicting 3D structure for 5tgy for seed(s) (1234,)...\n",
            "Featurising data for seeds (1234,)...\n",
            "[       OK ] InferenceTest.test_process_fold_input_runs_only_inference\n",
            "----------------------------------------------------------------------\n",
            "Ran 4 tests in 729.083s\n",
            "\n",
            "OK\n"
          ]
        },
        {
          "output_type": "execute_result",
          "data": {
            "text/plain": []
          },
          "metadata": {},
          "execution_count": 4
        }
      ]
    }
  ]
}