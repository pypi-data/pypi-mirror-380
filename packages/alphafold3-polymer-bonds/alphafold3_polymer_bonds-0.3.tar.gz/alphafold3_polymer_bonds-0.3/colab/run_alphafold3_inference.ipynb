{
  "nbformat": 4,
  "nbformat_minor": 0,
  "metadata": {
    "colab": {
      "provenance": [],
      "machine_shape": "hm",
      "gpuType": "L4"
    },
    "kernelspec": {
      "name": "python3",
      "display_name": "Python 3"
    },
    "language_info": {
      "name": "python"
    },
    "accelerator": "GPU"
  },
  "cells": [
    {
      "cell_type": "code",
      "source": [
        "# Run installation script\n",
        "!source <(curl -fsSL https://raw.githubusercontent.com/jurgjn/alphafold3-polymer-bonds/refs/heads/main/colab/install)"
      ],
      "metadata": {
        "colab": {
          "base_uri": "https://localhost:8080/"
        },
        "id": "r0ZxiP7zvHYU",
        "outputId": "b6b12f28-64b7-4c07-aaaf-b8fce171cad2"
      },
      "execution_count": 2,
      "outputs": [
        {
          "output_type": "stream",
          "name": "stdout",
          "text": [
            "Installing AlphaFold v3.0.1\n",
            "Installing colabfold\n",
            "Downloading run script to /app/alphafold\n"
          ]
        }
      ]
    },
    {
      "cell_type": "code",
      "source": [
        "# Copy weights from Google Drive to the default location at /root/models/af3.bin.zst\n",
        "from google.colab import drive\n",
        "drive.mount('/content/drive')\n",
        "!mkdir -p /root/models/\n",
        "!cp /content/drive/MyDrive/alphafold3/models/af3.bin.zst /root/models/af3.bin.zst\n",
        "!md5sum /root/models/af3.bin.zst"
      ],
      "metadata": {
        "colab": {
          "base_uri": "https://localhost:8080/"
        },
        "id": "b0aD2KT4nM0Y",
        "outputId": "9fa8b501-0771-4960-c832-fba905c53ef7"
      },
      "execution_count": 3,
      "outputs": [
        {
          "output_type": "stream",
          "name": "stdout",
          "text": [
            "Mounted at /content/drive\n",
            "ea076e2d05168d66a3d9a3fa62e029d0  /root/models/af3.bin.zst\n"
          ]
        }
      ]
    },
    {
      "cell_type": "code",
      "source": [
        "%%shell\n",
        "mkdir -p /content/alphafold3_examples/fasta\n",
        "cd /content/alphafold3_examples/fasta\n",
        "wget https://rest.uniprot.org/uniprotkb/O00244.fasta\n",
        "wget https://rest.uniprot.org/uniprotkb/P0CG48.fasta\n",
        "wget https://rest.uniprot.org/uniprotkb/Q01973.fasta"
      ],
      "metadata": {
        "colab": {
          "base_uri": "https://localhost:8080/"
        },
        "id": "80lJ3CBm7tqd",
        "outputId": "507b1db8-9b31-4263-ff50-bb23390a0a61"
      },
      "execution_count": 4,
      "outputs": [
        {
          "output_type": "stream",
          "name": "stdout",
          "text": [
            "--2025-09-19 08:07:43--  https://rest.uniprot.org/uniprotkb/O00244.fasta\n",
            "Resolving rest.uniprot.org (rest.uniprot.org)... 193.62.193.81\n",
            "Connecting to rest.uniprot.org (rest.uniprot.org)|193.62.193.81|:443... connected.\n",
            "HTTP request sent, awaiting response... 200 OK\n",
            "Length: 167 [text/plain]\n",
            "Saving to: ‘O00244.fasta’\n",
            "\n",
            "O00244.fasta        100%[===================>]     167  --.-KB/s    in 0s      \n",
            "\n",
            "2025-09-19 08:07:44 (21.2 MB/s) - ‘O00244.fasta’ saved [167/167]\n",
            "\n",
            "--2025-09-19 08:07:44--  https://rest.uniprot.org/uniprotkb/P0CG48.fasta\n",
            "Resolving rest.uniprot.org (rest.uniprot.org)... 193.62.193.81\n",
            "Connecting to rest.uniprot.org (rest.uniprot.org)|193.62.193.81|:443... connected.\n",
            "HTTP request sent, awaiting response... 200 OK\n",
            "Length: 775 [text/plain]\n",
            "Saving to: ‘P0CG48.fasta’\n",
            "\n",
            "P0CG48.fasta        100%[===================>]     775  --.-KB/s    in 0s      \n",
            "\n",
            "2025-09-19 08:07:44 (727 MB/s) - ‘P0CG48.fasta’ saved [775/775]\n",
            "\n",
            "--2025-09-19 08:07:44--  https://rest.uniprot.org/uniprotkb/Q01973.fasta\n",
            "Resolving rest.uniprot.org (rest.uniprot.org)... 193.62.193.81\n",
            "Connecting to rest.uniprot.org (rest.uniprot.org)|193.62.193.81|:443... connected.\n",
            "HTTP request sent, awaiting response... 200 OK\n",
            "Length: 1078 (1.1K) [text/plain]\n",
            "Saving to: ‘Q01973.fasta’\n",
            "\n",
            "Q01973.fasta        100%[===================>]   1.05K  --.-KB/s    in 0s      \n",
            "\n",
            "2025-09-19 08:07:45 (665 MB/s) - ‘Q01973.fasta’ saved [1078/1078]\n",
            "\n"
          ]
        },
        {
          "output_type": "execute_result",
          "data": {
            "text/plain": []
          },
          "metadata": {},
          "execution_count": 4
        }
      ]
    },
    {
      "cell_type": "code",
      "source": [
        "%%shell\n",
        "MPLBACKEND=AGG\n",
        "source /colabfold_venv/bin/activate\n",
        "mkdir -p /content/alphafold3_examples/colabfold_msas\n",
        "colabfold_batch --msa-only --af3-json /content/alphafold3_examples/fasta/O00244.fasta /content/alphafold3_examples/colabfold_msas\n",
        "colabfold_batch --msa-only --af3-json /content/alphafold3_examples/fasta/P0CG48.fasta /content/alphafold3_examples/colabfold_msas\n",
        "colabfold_batch --msa-only --af3-json /content/alphafold3_examples/fasta/Q01973.fasta /content/alphafold3_examples/colabfold_msas"
      ],
      "metadata": {
        "colab": {
          "base_uri": "https://localhost:8080/"
        },
        "id": "LzswjHp576Lh",
        "outputId": "837d681d-ae30-4f87-9986-f6d4aaba5b1d"
      },
      "execution_count": 5,
      "outputs": [
        {
          "output_type": "stream",
          "name": "stdout",
          "text": [
            "2025-09-19 08:07:48,578 Running colabfold 1.5.5 (e8ebd9a612b9da5fe12bbbc09513d5c52a9af633)\n",
            "\n",
            "WARNING: You are welcome to use the default MSA server, however keep in mind that it's a\n",
            "limited shared resource only capable of processing a few thousand MSAs per day. Please\n",
            "submit jobs only from a single IP address. We reserve the right to limit access to the\n",
            "server case-by-case when usage exceeds fair use. If you require more MSAs: You can \n",
            "precompute all MSAs with `colabfold_search` or host your own API and pass it to `--host-url`\n",
            "\n",
            "COMPLETE: 100% 150/150 [00:01<00:00, 116.49it/s]\n",
            "2025-09-19 08:07:51,415 Running colabfold 1.5.5 (e8ebd9a612b9da5fe12bbbc09513d5c52a9af633)\n",
            "\n",
            "WARNING: You are welcome to use the default MSA server, however keep in mind that it's a\n",
            "limited shared resource only capable of processing a few thousand MSAs per day. Please\n",
            "submit jobs only from a single IP address. We reserve the right to limit access to the\n",
            "server case-by-case when usage exceeds fair use. If you require more MSAs: You can \n",
            "precompute all MSAs with `colabfold_search` or host your own API and pass it to `--host-url`\n",
            "\n",
            "COMPLETE: 100% 150/150 [00:01<00:00, 80.42it/s] \n",
            "2025-09-19 08:07:55,074 Running colabfold 1.5.5 (e8ebd9a612b9da5fe12bbbc09513d5c52a9af633)\n",
            "\n",
            "WARNING: You are welcome to use the default MSA server, however keep in mind that it's a\n",
            "limited shared resource only capable of processing a few thousand MSAs per day. Please\n",
            "submit jobs only from a single IP address. We reserve the right to limit access to the\n",
            "server case-by-case when usage exceeds fair use. If you require more MSAs: You can \n",
            "precompute all MSAs with `colabfold_search` or host your own API and pass it to `--host-url`\n",
            "\n",
            "COMPLETE: 100% 150/150 [00:01<00:00, 80.47it/s] \n"
          ]
        },
        {
          "output_type": "execute_result",
          "data": {
            "text/plain": []
          },
          "metadata": {},
          "execution_count": 5
        }
      ]
    },
    {
      "cell_type": "code",
      "source": [
        "!mkdir -p /content/alphafold3_examples/input\n",
        "!jq -r '.name |= \"O00244\"' \\\n",
        "  /content/alphafold3_examples/colabfold_msas/sp_O00244_ATOX1_HUMAN_Copper_transport_protein_ATOX1_OS_Homo_sapiens_OX_9606_GN_ATOX1_PE_1_SV_1.json \\\n",
        "  > /content/alphafold3_examples/input/O00244.json\n",
        "!jq -r '.name |= \"P0CG48\"' \\\n",
        "  /content/alphafold3_examples/colabfold_msas/sp_P0CG48_UBC_HUMAN_Polyubiquitin-C_OS_Homo_sapiens_OX_9606_GN_UBC_PE_1_SV_3.json \\\n",
        "  > /content/alphafold3_examples/input/P0CG48.json\n",
        "!jq -r '.name |= \"Q01973\"' \\\n",
        "  /content/alphafold3_examples/colabfold_msas/sp_Q01973_ROR1_HUMAN_Inactive_tyrosine-protein_kinase_transmembrane_receptor_ROR1_OS_Homo_sapiens_OX_9606_GN_ROR1_PE_1_SV_2.json \\\n",
        "  > /content/alphafold3_examples/input/Q01973.json"
      ],
      "metadata": {
        "id": "eu3mDU1N8APc"
      },
      "execution_count": 6,
      "outputs": []
    },
    {
      "cell_type": "code",
      "source": [
        "%%shell\n",
        "source /alphafold3_venv/bin/activate\n",
        "/app/alphafold/run_alphafold3_autogpu.sh \\\n",
        "  --input_dir=/content/alphafold3_examples/input/ \\\n",
        "  --output_dir=/content/alphafold3_examples/output \\\n",
        "  --norun_data_pipeline"
      ],
      "metadata": {
        "colab": {
          "base_uri": "https://localhost:8080/"
        },
        "id": "nJwE6RHPEUug",
        "outputId": "14cd2ea8-9b66-46b1-87aa-e5c8c4aea9f0"
      },
      "execution_count": 7,
      "outputs": [
        {
          "output_type": "stream",
          "name": "stdout",
          "text": [
            "Updated 0 paths from the index\n",
            "Compilation Time Workaround with XLA Flags\n",
            "GPU capability: 8\n",
            "GPU memory: 23034\n",
            "Using low-memory setup (40 GB GPU RAM)\n",
            "Adjusting pair_transition_shard_spec in model_config.py\n",
            "Enabling unified memory\n",
            "Executing run_alphafold.py\n",
            "I0919 08:08:00.961979 138879790076544 xla_bridge.py:895] Unable to initialize backend 'rocm': module 'jaxlib.xla_extension' has no attribute 'GpuAllocatorConfig'\n",
            "I0919 08:08:00.963072 138879790076544 xla_bridge.py:895] Unable to initialize backend 'tpu': INTERNAL: Failed to open libtpu.so: libtpu.so: cannot open shared object file: No such file or directory\n",
            "Running AlphaFold 3. Please note that standard AlphaFold 3 model parameters are\n",
            "only available under terms of use provided at\n",
            "https://github.com/google-deepmind/alphafold3/blob/main/WEIGHTS_TERMS_OF_USE.md.\n",
            "If you do not agree to these terms and are using AlphaFold 3 derived model\n",
            "parameters, cancel execution of AlphaFold 3 inference with CTRL-C, and do not\n",
            "use the model parameters.\n",
            "Skipping running the data pipeline.\n",
            "Found local devices: [CudaDevice(id=0)], using device 0: cuda:0\n",
            "Building model from scratch...\n",
            "Processing fold inputs.\n",
            "Processing fold input #1\n",
            "Processing fold input O00244\n",
            "Checking we can load the model parameters...\n",
            "2025-09-19 08:08:01.041415: W external/xla/xla/service/gpu/nvptx_compiler.cc:930] The NVIDIA driver's CUDA version is 12.4 which is older than the PTX compiler version 12.6.77. Because the driver is older than the PTX compiler version, XLA is disabling parallel compilation, which may slow down compilation. You should update your NVIDIA driver or use the NVIDIA-provided CUDA forward compatibility packages.\n",
            "Skipping data pipeline...\n",
            "Output directory: /content/alphafold3_examples/output/o00244\n",
            "Writing model input JSON to /content/alphafold3_examples/output/o00244\n",
            "Predicting 3D structure for O00244 for seed(s) (1,)...\n",
            "Featurising data for seeds (1,)...\n",
            "Featurising O00244 with rng_seed 1.\n",
            "I0919 08:08:12.110759 138879790076544 pipeline.py:164] processing O00244, random_seed=1\n",
            "I0919 08:08:12.123318 138879790076544 pipeline.py:257] Calculating bucket size for input with 68 tokens.\n",
            "I0919 08:08:12.123499 138879790076544 pipeline.py:263] Got bucket size 256 for input with 68 tokens, resulting in 188 padded tokens.\n",
            "Featurising O00244 with rng_seed 1 took 1.41 seconds.\n",
            "Featurising data for seeds (1,) took  7.60 seconds.\n",
            "Running model inference for seed 1...\n",
            "Running model inference for seed 1 took  118.35 seconds.\n",
            "Extracting output structures (one per sample) for seed 1...\n",
            "Extracting output structures (one per sample) for seed 1 took  0.17 seconds.\n",
            "Running model inference and extracting output structures for seed 1 took 118.52 seconds.\n",
            "Running model inference and extracting output structures for seeds (1,) took 118.52 seconds.\n",
            "Writing outputs for O00244 for seed(s) (1,)...\n",
            "Done processing fold input O00244.\n",
            "Processing fold input #2\n",
            "Processing fold input P0CG48\n",
            "Checking we can load the model parameters...\n",
            "Skipping data pipeline...\n",
            "Output directory: /content/alphafold3_examples/output/p0cg48\n",
            "Writing model input JSON to /content/alphafold3_examples/output/p0cg48\n",
            "Predicting 3D structure for P0CG48 for seed(s) (1,)...\n",
            "Featurising data for seeds (1,)...\n",
            "Featurising P0CG48 with rng_seed 1.\n",
            "I0919 08:10:12.360325 138879790076544 pipeline.py:164] processing P0CG48, random_seed=1\n",
            "I0919 08:10:12.418806 138879790076544 pipeline.py:257] Calculating bucket size for input with 685 tokens.\n",
            "I0919 08:10:12.418939 138879790076544 pipeline.py:263] Got bucket size 768 for input with 685 tokens, resulting in 83 padded tokens.\n",
            "Featurising P0CG48 with rng_seed 1 took 20.74 seconds.\n",
            "Featurising data for seeds (1,) took  20.74 seconds.\n",
            "Running model inference for seed 1...\n",
            "Running model inference for seed 1 took  332.45 seconds.\n",
            "Extracting output structures (one per sample) for seed 1...\n",
            "Extracting output structures (one per sample) for seed 1 took  1.07 seconds.\n",
            "Running model inference and extracting output structures for seed 1 took 333.52 seconds.\n",
            "Running model inference and extracting output structures for seeds (1,) took 333.52 seconds.\n",
            "Writing outputs for P0CG48 for seed(s) (1,)...\n",
            "Done processing fold input P0CG48.\n",
            "Processing fold input #3\n",
            "Processing fold input Q01973\n",
            "Checking we can load the model parameters...\n",
            "Skipping data pipeline...\n",
            "Output directory: /content/alphafold3_examples/output/q01973\n",
            "Writing model input JSON to /content/alphafold3_examples/output/q01973\n",
            "Predicting 3D structure for Q01973 for seed(s) (1,)...\n",
            "Featurising data for seeds (1,)...\n",
            "Featurising Q01973 with rng_seed 1.\n",
            "I0919 08:16:08.704565 138879790076544 pipeline.py:164] processing Q01973, random_seed=1\n",
            "I0919 08:16:08.779803 138879790076544 pipeline.py:257] Calculating bucket size for input with 937 tokens.\n",
            "I0919 08:16:08.779938 138879790076544 pipeline.py:263] Got bucket size 1024 for input with 937 tokens, resulting in 87 padded tokens.\n",
            "Featurising Q01973 with rng_seed 1 took 25.41 seconds.\n",
            "Featurising data for seeds (1,) took  25.41 seconds.\n",
            "Running model inference for seed 1...\n",
            "Running model inference for seed 1 took  528.01 seconds.\n",
            "Extracting output structures (one per sample) for seed 1...\n",
            "Extracting output structures (one per sample) for seed 1 took  1.64 seconds.\n",
            "Running model inference and extracting output structures for seed 1 took 529.65 seconds.\n",
            "Running model inference and extracting output structures for seeds (1,) took 529.65 seconds.\n",
            "Writing outputs for Q01973 for seed(s) (1,)...\n",
            "Done processing fold input Q01973.\n",
            "Done processing 3 fold inputs.\n"
          ]
        },
        {
          "output_type": "execute_result",
          "data": {
            "text/plain": []
          },
          "metadata": {},
          "execution_count": 7
        }
      ]
    }
  ]
}