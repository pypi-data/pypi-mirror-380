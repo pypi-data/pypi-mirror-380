{
 "cells": [
  {
   "cell_type": "code",
   "execution_count": 1,
   "id": "6c250124",
   "metadata": {
    "vscode": {
     "languageId": "shellscript"
    }
   },
   "outputs": [],
   "source": [
    "import pdbeccdutils, pdbeccdutils.core, pdbeccdutils.core.ccd_reader, pdbeccdutils.core.depictions"
   ]
  },
  {
   "cell_type": "code",
   "execution_count": null,
   "id": "694e27e7",
   "metadata": {
    "vscode": {
     "languageId": "shellscript"
    }
   },
   "outputs": [
    {
     "ename": "",
     "evalue": "",
     "output_type": "error",
     "traceback": [
      "\u001b[1;31mThe Kernel crashed while executing code in the current cell or a previous cell. \n",
      "\u001b[1;31mPlease review the code in the cell(s) to identify a possible cause of the failure. \n",
      "\u001b[1;31mClick <a href='https://aka.ms/vscodeJupyterKernelCrash'>here</a> for more info. \n",
      "\u001b[1;31mView Jupyter <a href='command:jupyter.viewOutput'>log</a> for further details."
     ]
    }
   ],
   "source": [
    "components_result = pdbeccdutils.core.ccd_reader.read_pdb_components_file('A_modified.cif', sanitize=False)\n",
    "component = components_result['A_COPY'].component\n",
    "component"
   ]
  },
  {
   "cell_type": "code",
   "execution_count": null,
   "id": "db6f15db",
   "metadata": {
    "vscode": {
     "languageId": "shellscript"
    }
   },
   "outputs": [],
   "source": [
    "depictions = pdbeccdutils.core.depictions.DepictionManager('pubchem_templates_dir', 'general_templates_dir')\n",
    "depiction_result = component.compute_2d(depictions)\n",
    "depiction_result"
   ]
  },
  {
   "cell_type": "code",
   "execution_count": null,
   "id": "5cd5e10d",
   "metadata": {
    "vscode": {
     "languageId": "shellscript"
    }
   },
   "outputs": [],
   "source": [
    "component.export_2d_svg('A_names.svg', names=True)"
   ]
  },
  {
   "cell_type": "code",
   "execution_count": null,
   "id": "0694619f",
   "metadata": {
    "vscode": {
     "languageId": "shellscript"
    }
   },
   "outputs": [],
   "source": [
    "print(type(component.mol))\n",
    "print(component.mol.GetNumAtoms())\n",
    "print(rdkit.Chem.MolToSmiles(component.mol))\n",
    "dir(component.mol)"
   ]
  },
  {
   "cell_type": "code",
   "execution_count": null,
   "id": "d02ab6ee",
   "metadata": {
    "vscode": {
     "languageId": "shellscript"
    }
   },
   "outputs": [],
   "source": [
    "from pprint import pprint\n",
    "\n",
    "mol_ = rdkit.Chem.rdchem.RWMol(component.mol)\n",
    "print(mol_.GetNumAtoms(), mol_.GetNumBonds())\n",
    "\n",
    "with mol_ as mol_rm_:\n",
    "    print('Removing:', mol_rm_.GetAtomWithIdx(0).GetProp('name'))\n",
    "    mol_rm_.RemoveAtom(0)\n",
    "    print('Removing:', mol_rm_.GetAtomWithIdx(23).GetProp('name'))\n",
    "    mol_rm_.RemoveAtom(23)\n",
    "\n",
    "#print(mol_rm_.GetAtomWithIdx(0).GetProp('name'))\n",
    "print(mol_rm_.GetNumAtoms(), mol_rm_.GetNumBonds())\n",
    "print(rdkit.Chem.MolToSmiles(mol_rm_))\n",
    "import rdkit.Chem.Draw\n",
    "sanitisation_result = pdbeccdutils.helpers.mol_tools.sanitize(mol_rm_)\n",
    "print('sanitising', sanitisation_result)\n",
    "print(mol_rm_.GetNumAtoms(), mol_rm_.GetNumBonds())\n",
    "\n",
    "rdkit.Chem.Draw.MolToImage(mol_rm_)"
   ]
  },
  {
   "cell_type": "code",
   "execution_count": null,
   "id": "a1705372",
   "metadata": {
    "vscode": {
     "languageId": "shellscript"
    }
   },
   "outputs": [],
   "source": [
    "edit_ = pdbeccdutils.core.component.Component(mol_rw_, component.ccd_cif_block, component._cif_properties)\n",
    "edit_.export_2d_svg('A_edited_names.svg', names=True)"
   ]
  },
  {
   "cell_type": "code",
   "execution_count": null,
   "id": "789f00d7",
   "metadata": {
    "vscode": {
     "languageId": "shellscript"
    }
   },
   "outputs": [],
   "source": [
    "type(component.ccd_cif_block)"
   ]
  },
  {
   "cell_type": "code",
   "execution_count": null,
   "id": "822e053a",
   "metadata": {
    "vscode": {
     "languageId": "shellscript"
    }
   },
   "outputs": [],
   "source": [
    "dir(component.ccd_cif_block)"
   ]
  },
  {
   "cell_type": "code",
   "execution_count": null,
   "id": "195d1489",
   "metadata": {
    "vscode": {
     "languageId": "shellscript"
    }
   },
   "outputs": [],
   "source": [
    "mol_rw_"
   ]
  },
  {
   "cell_type": "code",
   "execution_count": null,
   "id": "24a3edd7",
   "metadata": {
    "vscode": {
     "languageId": "shellscript"
    }
   },
   "outputs": [],
   "source": [
    "dir(component)"
   ]
  },
  {
   "cell_type": "code",
   "execution_count": null,
   "id": "5c311f93",
   "metadata": {
    "vscode": {
     "languageId": "shellscript"
    }
   },
   "outputs": [],
   "source": [
    "mol_rm_"
   ]
  },
  {
   "cell_type": "code",
   "execution_count": null,
   "id": "4268c228",
   "metadata": {
    "vscode": {
     "languageId": "shellscript"
    }
   },
   "outputs": [],
   "source": [
    "import rdkit.Chem.rdchem"
   ]
  },
  {
   "cell_type": "code",
   "execution_count": null,
   "id": "d03030e2",
   "metadata": {
    "vscode": {
     "languageId": "shellscript"
    }
   },
   "outputs": [],
   "source": [
    "component.mol.GetAtomWithIdx(2)"
   ]
  },
  {
   "cell_type": "code",
   "execution_count": null,
   "id": "b6b6fb5e",
   "metadata": {
    "vscode": {
     "languageId": "shellscript"
    }
   },
   "outputs": [],
   "source": [
    "component.atoms_ids"
   ]
  },
  {
   "cell_type": "code",
   "execution_count": null,
   "id": "7b168493",
   "metadata": {
    "vscode": {
     "languageId": "shellscript"
    }
   },
   "outputs": [],
   "source": [
    "dir(component)"
   ]
  },
  {
   "cell_type": "code",
   "execution_count": null,
   "id": "0c3a5c56",
   "metadata": {
    "vscode": {
     "languageId": "shellscript"
    }
   },
   "outputs": [],
   "source": [
    "# wget https://files.wwpdb.org/pub/pdb/data/monomers/components.cif\n",
    "#from pprint import pprint\n",
    "#import pdbecif, pdbecif.mmcif_\n",
    "import gemmi"
   ]
  },
  {
   "cell_type": "code",
   "execution_count": null,
   "id": "2e48da96",
   "metadata": {
    "vscode": {
     "languageId": "shellscript"
    }
   },
   "outputs": [],
   "source": [
    "!wget https://files.rcsb.org/ligands/view/A.cif"
   ]
  },
  {
   "cell_type": "code",
   "execution_count": null,
   "id": "a48ded35",
   "metadata": {
    "vscode": {
     "languageId": "shellscript"
    }
   },
   "outputs": [],
   "source": [
    "st = gemmi.read_small_structure('A.cif')\n",
    "st"
   ]
  },
  {
   "cell_type": "code",
   "execution_count": null,
   "id": "86d05876",
   "metadata": {
    "vscode": {
     "languageId": "shellscript"
    }
   },
   "outputs": [],
   "source": [
    "dir(st)"
   ]
  },
  {
   "cell_type": "code",
   "execution_count": null,
   "id": "eff5eaff",
   "metadata": {
    "vscode": {
     "languageId": "shellscript"
    }
   },
   "outputs": [],
   "source": [
    "block = gemmi.cif.read('A.cif')[-1]\n",
    "chemcomp = gemmi.make_chemcomp_from_block(block)\n",
    "for atom in chemcomp.atoms:\n",
    "    print(atom.id, atom.el, atom.charge)\n",
    "print(dir(atom))"
   ]
  },
  {
   "cell_type": "code",
   "execution_count": null,
   "id": "c55cd0f0",
   "metadata": {
    "vscode": {
     "languageId": "shellscript"
    }
   },
   "outputs": [],
   "source": [
    "chemcomp.atoms.pop(0)\n",
    "chemcomp.atoms.pop(22)\n",
    "for atom in chemcomp.atoms:\n",
    "    print(atom.id)"
   ]
  },
  {
   "cell_type": "code",
   "execution_count": null,
   "id": "88fa554e",
   "metadata": {
    "vscode": {
     "languageId": "shellscript"
    }
   },
   "outputs": [],
   "source": [
    "doc = gemmi.cif.Document()\n",
    "block_one = doc.add_new_block('A')\n",
    "gemmi.add_chemcomp_to_block(chemcomp, block_one)\n",
    "doc.write_file('A_gemmi_edited.cif')"
   ]
  },
  {
   "cell_type": "code",
   "execution_count": null,
   "id": "cad578e7",
   "metadata": {
    "vscode": {
     "languageId": "shellscript"
    }
   },
   "outputs": [],
   "source": [
    "doc"
   ]
  },
  {
   "cell_type": "code",
   "execution_count": null,
   "id": "17ad2f40",
   "metadata": {
    "vscode": {
     "languageId": "shellscript"
    }
   },
   "outputs": [],
   "source": [
    "dir(chemgroup)"
   ]
  },
  {
   "cell_type": "code",
   "execution_count": null,
   "id": "aa7f6923",
   "metadata": {
    "vscode": {
     "languageId": "shellscript"
    }
   },
   "outputs": [],
   "source": [
    "pprint(dir(gemmi))"
   ]
  },
  {
   "cell_type": "code",
   "execution_count": null,
   "id": "fc6229e9",
   "metadata": {
    "vscode": {
     "languageId": "shellscript"
    }
   },
   "outputs": [],
   "source": [
    "sel = gemmi.Selection()\n",
    "sel"
   ]
  },
  {
   "cell_type": "code",
   "execution_count": null,
   "id": "12b1faeb",
   "metadata": {
    "vscode": {
     "languageId": "shellscript"
    }
   },
   "outputs": [],
   "source": [
    "dir(st.make_cif_block())"
   ]
  },
  {
   "cell_type": "code",
   "execution_count": null,
   "id": "decde40b",
   "metadata": {
    "vscode": {
     "languageId": "shellscript"
    }
   },
   "outputs": [],
   "source": [
    "dir(st)"
   ]
  },
  {
   "cell_type": "code",
   "execution_count": null,
   "id": "ada0c54d",
   "metadata": {
    "vscode": {
     "languageId": "shellscript"
    }
   },
   "outputs": [],
   "source": [
    "for model in sel.models(ligand):\n",
    "    print(dir(model))\n",
    "    #print(atom)"
   ]
  },
  {
   "cell_type": "code",
   "execution_count": null,
   "id": "df85d916",
   "metadata": {
    "vscode": {
     "languageId": "shellscript"
    }
   },
   "outputs": [],
   "source": [
    "ligand"
   ]
  },
  {
   "cell_type": "code",
   "execution_count": null,
   "id": "25cfade1",
   "metadata": {
    "vscode": {
     "languageId": "shellscript"
    }
   },
   "outputs": [],
   "source": [
    "gemmi.__version__"
   ]
  },
  {
   "cell_type": "code",
   "execution_count": null,
   "id": "9a15ec68",
   "metadata": {
    "vscode": {
     "languageId": "shellscript"
    }
   },
   "outputs": [],
   "source": [
    "gemmi.read_small_structure"
   ]
  },
  {
   "cell_type": "code",
   "execution_count": null,
   "id": "3a8fb6b1",
   "metadata": {
    "vscode": {
     "languageId": "shellscript"
    }
   },
   "outputs": [],
   "source": [
    "doc = gemmi.cif.read('components_head_subset.cif')\n",
    "doc"
   ]
  },
  {
   "cell_type": "code",
   "execution_count": null,
   "id": "b970770a",
   "metadata": {
    "vscode": {
     "languageId": "shellscript"
    }
   },
   "outputs": [],
   "source": [
    "st = gemmi.make_structure_from_block(doc.find_block('002'))\n",
    "st"
   ]
  },
  {
   "cell_type": "code",
   "execution_count": null,
   "id": "0b42eefa",
   "metadata": {
    "vscode": {
     "languageId": "shellscript"
    }
   },
   "outputs": [],
   "source": [
    "#data = pdbecif.mmcif_io.CifFileReader().read('components_head.cif')\n",
    "#data = pdbecif.mmcif_io.CIFWrapper(pdbecif.mmcif_io.CifFileReader().read('components_head.cif'))\n",
    "#data"
   ]
  },
  {
   "cell_type": "code",
   "execution_count": null,
   "id": "20ae5ac7",
   "metadata": {
    "vscode": {
     "languageId": "shellscript"
    }
   },
   "outputs": [],
   "source": [
    "cfr = pdbecif.mmcif_io.CifFileReader(input='data')\n",
    "cif_file = cfr.read('components_head.cif', output='cif_file')"
   ]
  },
  {
   "cell_type": "code",
   "execution_count": null,
   "id": "0c89eeb8",
   "metadata": {
    "vscode": {
     "languageId": "shellscript"
    }
   },
   "outputs": [],
   "source": [
    "cif_file.getDataBlocks()"
   ]
  },
  {
   "cell_type": "code",
   "execution_count": null,
   "id": "5daabb2d",
   "metadata": {
    "vscode": {
     "languageId": "shellscript"
    }
   },
   "outputs": [],
   "source": [
    "cif_file.getDataBlock(\"002\").getCategoryIds()"
   ]
  },
  {
   "cell_type": "code",
   "execution_count": null,
   "id": "7e80bb35",
   "metadata": {
    "vscode": {
     "languageId": "shellscript"
    }
   },
   "outputs": [],
   "source": [
    "cif_file.getDataBlock(\"002\").getCategory(\"chem_comp_atom\").getItem('model_Cartn_x').getRawValue() #.getItems()"
   ]
  },
  {
   "cell_type": "code",
   "execution_count": null,
   "id": "883ead24",
   "metadata": {
    "vscode": {
     "languageId": "shellscript"
    }
   },
   "outputs": [],
   "source": [
    "dir(pdbecif.mmcif_io.CifFileReader())"
   ]
  },
  {
   "cell_type": "code",
   "execution_count": null,
   "id": "0e31feb4",
   "metadata": {
    "vscode": {
     "languageId": "shellscript"
    }
   },
   "outputs": [],
   "source": [
    "data.getDataBlockIds()"
   ]
  },
  {
   "cell_type": "code",
   "execution_count": null,
   "id": "ae71bc80",
   "metadata": {
    "vscode": {
     "languageId": "shellscript"
    }
   },
   "outputs": [],
   "source": [
    "data_filtered = { k: v for k, v in data.items() if v['_chem_comp']['id'] in {'002', '003'} }\n",
    "print(len(data_filtered))\n",
    "data_filtered"
   ]
  },
  {
   "cell_type": "code",
   "execution_count": null,
   "id": "7a51e05f",
   "metadata": {
    "vscode": {
     "languageId": "shellscript"
    }
   },
   "outputs": [],
   "source": [
    "pdbecif.mmcif_io.CifFileWriter('components_head_subset.cif').write(data_filtered)"
   ]
  },
  {
   "cell_type": "code",
   "execution_count": null,
   "id": "83143cb5",
   "metadata": {
    "vscode": {
     "languageId": "shellscript"
    }
   },
   "outputs": [],
   "source": [
    "for k, v in data.items():\n",
    "    if :\n",
    "        pprint(v)\n"
   ]
  },
  {
   "cell_type": "code",
   "execution_count": null,
   "id": "01bf3afd",
   "metadata": {
    "vscode": {
     "languageId": "shellscript"
    }
   },
   "outputs": [],
   "source": [
    "cif_data._entity_poly.search('entity_id', '1')"
   ]
  },
  {
   "cell_type": "code",
   "execution_count": null,
   "id": "d21e719d",
   "metadata": {
    "vscode": {
     "languageId": "shellscript"
    }
   },
   "outputs": [],
   "source": [
    "cif_obj"
   ]
  },
  {
   "cell_type": "code",
   "execution_count": null,
   "id": "368c3fa6",
   "metadata": {
    "vscode": {
     "languageId": "shellscript"
    }
   },
   "outputs": [],
   "source": [
    "!wget https://files.rcsb.org/ligands/view/A.cif"
   ]
  },
  {
   "cell_type": "code",
   "execution_count": null,
   "id": "8854860f",
   "metadata": {
    "vscode": {
     "languageId": "shellscript"
    }
   },
   "outputs": [],
   "source": [
    "import rdkit, rdkit.Chem"
   ]
  },
  {
   "cell_type": "code",
   "execution_count": null,
   "id": "172b578c",
   "metadata": {
    "vscode": {
     "languageId": "shellscript"
    }
   },
   "outputs": [],
   "source": [
    "m = rdkit.Chem.MolFromMolFile('A.cif')\n",
    "m"
   ]
  },
  {
   "cell_type": "code",
   "execution_count": null,
   "id": "0e1a01e9",
   "metadata": {
    "vscode": {
     "languageId": "shellscript"
    }
   },
   "outputs": [],
   "source": [
    "stringWithMolData=open('A.cif','r').read()\n",
    "stringWithMolData"
   ]
  },
  {
   "cell_type": "code",
   "execution_count": null,
   "id": "34fc18ee",
   "metadata": {
    "vscode": {
     "languageId": "shellscript"
    }
   },
   "outputs": [],
   "source": [
    "rdkit.Chem.MolFromMolBlock(stringWithMolData)"
   ]
  },
  {
   "cell_type": "code",
   "execution_count": null,
   "id": "8b7e5875",
   "metadata": {
    "vscode": {
     "languageId": "shellscript"
    }
   },
   "outputs": [],
   "source": [
    "dir(rdkit.Chem)"
   ]
  },
  {
   "cell_type": "code",
   "execution_count": null,
   "id": "8be79ed8",
   "metadata": {
    "vscode": {
     "languageId": "shellscript"
    }
   },
   "outputs": [],
   "source": [
    "from openbabel import pybel"
   ]
  },
  {
   "cell_type": "code",
   "execution_count": null,
   "id": "9426bdad",
   "metadata": {
    "vscode": {
     "languageId": "shellscript"
    }
   },
   "outputs": [],
   "source": [
    "mol = next(pybel.readfile(\"mmcif\", \"A.cif\"))"
   ]
  },
  {
   "cell_type": "code",
   "execution_count": null,
   "id": "7f2f1f61",
   "metadata": {
    "vscode": {
     "languageId": "shellscript"
    }
   },
   "outputs": [],
   "source": [
    "pwd"
   ]
  },
  {
   "cell_type": "code",
   "execution_count": null,
   "id": "e632f14b",
   "metadata": {
    "vscode": {
     "languageId": "shellscript"
    }
   },
   "outputs": [],
   "source": [
    "!cat A.cif"
   ]
  },
  {
   "cell_type": "code",
   "execution_count": null,
   "id": "e0ed02f3",
   "metadata": {
    "vscode": {
     "languageId": "shellscript"
    }
   },
   "outputs": [],
   "source": []
  }
 ],
 "metadata": {
  "kernelspec": {
   "display_name": "af2genomics-25.06",
   "language": "python",
   "name": "python3"
  },
  "language_info": {
   "codemirror_mode": {
    "name": "ipython",
    "version": 3
   },
   "file_extension": ".py",
   "mimetype": "text/x-python",
   "name": "python",
   "nbconvert_exporter": "python",
   "pygments_lexer": "ipython3",
   "version": "3.12.3"
  }
 },
 "nbformat": 4,
 "nbformat_minor": 5
}
