{
 "cells": [
  {
   "cell_type": "markdown",
   "metadata": {},
   "source": [
    "# QuantRS2 Circuit Visualization in Jupyter\n",
    "\n",
    "This notebook demonstrates the circuit visualization capabilities of QuantRS2 within Jupyter notebooks.\n",
    "The HTML-based visualizations provide an intuitive representation of quantum circuits."
   ]
  },
  {
   "cell_type": "code",
   "execution_count": null,
   "metadata": {},
   "source": [
    "import quantrs2 as qrs\n",
    "import numpy as np\n",
    "import math\n",
    "\n",
    "# Check that we have the required functionality\n",
    "print(f\"QuantRS2 version: {qrs.__version__}\")"
   ]
  },
  {
   "cell_type": "markdown",
   "metadata": {},
   "source": [
    "## Example 1: Bell State Circuit\n",
    "\n",
    "The Bell state is one of the simplest examples of quantum entanglement."
   ]
  },
  {
   "cell_type": "code",
   "execution_count": null,
   "metadata": {},
   "source": [
    "bell_circuit = qrs.PyCircuit(2)\n",
    "bell_circuit.h(0)\n",
    "bell_circuit.cnot(0, 1)\n",
    "\n",
    "# Display the circuit - this will use the _repr_html_ method automatically\n",
    "bell_circuit"
   ]
  },
  {
   "cell_type": "markdown",
   "metadata": {},
   "source": [
    "We can also get a text representation of the circuit:"
   ]
  },
  {
   "cell_type": "code",
   "execution_count": null,
   "metadata": {},
   "source": [
    "print(bell_circuit.draw())"
   ]
  },
  {
   "cell_type": "markdown",
   "metadata": {},
   "source": [
    "Let's run the Bell state circuit and see the results:"
   ]
  },
  {
   "cell_type": "code",
   "execution_count": null,
   "metadata": {},
   "source": [
    "result = bell_circuit.run_auto()\n",
    "probabilities = result.probabilities()\n",
    "states = result.state_probabilities()\n",
    "\n",
    "print(\"Probabilities:\")\n",
    "for state, prob in states.items():\n",
    "    print(f\"|{state}⟩: {prob:.4f}\")"
   ]
  },
  {
   "cell_type": "markdown",
   "metadata": {},
   "source": [
    "## Example 2: GHZ State\n",
    "\n",
    "The Greenberger-Horne-Zeilinger (GHZ) state is a maximally entangled quantum state of 3 or more qubits."
   ]
  },
  {
   "cell_type": "code",
   "execution_count": null,
   "metadata": {},
   "source": [
    "ghz_circuit = qrs.PyCircuit(5)\n",
    "\n",
    "# Create a 5-qubit GHZ state: (|00000⟩ + |11111⟩)/√2\n",
    "ghz_circuit.h(0)\n",
    "ghz_circuit.cnot(0, 1)\n",
    "ghz_circuit.cnot(1, 2)\n",
    "ghz_circuit.cnot(2, 3)\n",
    "ghz_circuit.cnot(3, 4)\n",
    "\n",
    "# Display the circuit\n",
    "ghz_circuit"
   ]
  },
  {
   "cell_type": "code",
   "execution_count": null,
   "metadata": {},
   "source": [
    "# Run the GHZ circuit\n",
    "result = ghz_circuit.run_auto()\n",
    "states = result.state_probabilities()\n",
    "\n",
    "print(\"Probabilities:\")\n",
    "for state, prob in states.items():\n",
    "    print(f\"|{state}⟩: {prob:.4f}\")"
   ]
  },
  {
   "cell_type": "markdown",
   "metadata": {},
   "source": [
    "## Example 3: Complex Circuit with Different Gates\n",
    "\n",
    "We'll demonstrate a more complex circuit using various gates."
   ]
  },
  {
   "cell_type": "code",
   "execution_count": null,
   "metadata": {},
   "source": [
    "complex_circuit = qrs.PyCircuit(4)\n",
    "\n",
    "# Add a variety of gates\n",
    "complex_circuit.h(0)\n",
    "complex_circuit.x(1)\n",
    "complex_circuit.y(2)\n",
    "complex_circuit.z(3)\n",
    "complex_circuit.cnot(0, 1)\n",
    "complex_circuit.cz(1, 2)\n",
    "complex_circuit.swap(2, 3)\n",
    "complex_circuit.rx(0, np.pi/4)\n",
    "complex_circuit.ry(1, np.pi/3)\n",
    "complex_circuit.rz(2, np.pi/2)\n",
    "complex_circuit.crx(0, 3, np.pi/2)\n",
    "\n",
    "# Display the circuit\n",
    "complex_circuit"
   ]
  },
  {
   "cell_type": "markdown",
   "metadata": {},
   "source": [
    "## Example 4: Quantum Fourier Transform (QFT)\n",
    "\n",
    "The Quantum Fourier Transform is a fundamental quantum algorithm that is used in many quantum algorithms, including Shor's algorithm."
   ]
  },
  {
   "cell_type": "code",
   "execution_count": null,
   "metadata": {},
   "source": [
    "def create_qft_circuit(n_qubits):\n",
    "    \"\"\"Create a circuit for Quantum Fourier Transform.\"\"\"\n",
    "    qft_circuit = qrs.PyCircuit(n_qubits)\n",
    "    \n",
    "    # Implement QFT\n",
    "    for i in range(n_qubits):\n",
    "        # Apply Hadamard to the current qubit\n",
    "        qft_circuit.h(i)\n",
    "        \n",
    "        # Apply controlled rotations\n",
    "        for j in range(i + 1, n_qubits):\n",
    "            # Phase rotation angle\n",
    "            theta = 2 * math.pi / (2 ** (j - i))\n",
    "            qft_circuit.crz(i, j, theta)\n",
    "    \n",
    "    # Swap qubits to reverse the order (in-place bit reversal)\n",
    "    for i in range(n_qubits // 2):\n",
    "        qft_circuit.swap(i, n_qubits - i - 1)\n",
    "    \n",
    "    return qft_circuit\n",
    "\n",
    "# Create a 4-qubit QFT circuit\n",
    "qft_circuit = create_qft_circuit(4)\n",
    "\n",
    "# Display the circuit\n",
    "qft_circuit"
   ]
  },
  {
   "cell_type": "markdown",
   "metadata": {},
   "source": [
    "## Example 5: Using the Circuit Visualizer Directly\n",
    "\n",
    "Sometimes you might want to use the circuit visualizer directly, without creating a full circuit."
   ]
  },
  {
   "cell_type": "code",
   "execution_count": null,
   "metadata": {},
   "source": [
    "# Create a visualizer\n",
    "visualizer = qrs.PyCircuitVisualizer(3)\n",
    "\n",
    "# Add gates manually\n",
    "visualizer.add_gate(\"H\", [0], None)\n",
    "visualizer.add_gate(\"CNOT\", [0, 1], None)\n",
    "visualizer.add_gate(\"SWAP\", [1, 2], None)\n",
    "visualizer.add_gate(\"RZ\", [0], \"π/2\")\n",
    "visualizer.add_gate(\"Toffoli\", [0, 1, 2], None)\n",
    "\n",
    "# Display the circuit\n",
    "visualizer"
   ]
  },
  {
   "cell_type": "markdown",
   "metadata": {},
   "source": [
    "## Customizing the Visualization\n",
    "\n",
    "If you want to customize the visualization further, you can access the circuit data in dictionary format:"
   ]
  },
  {
   "cell_type": "code",
   "execution_count": null,
   "metadata": {},
   "source": [
    "circuit_data = visualizer.to_dict()\n",
    "circuit_data"
   ]
  },
  {
   "cell_type": "markdown",
   "metadata": {},
   "source": [
    "## Conclusion\n",
    "\n",
    "The circuit visualization capabilities in QuantRS2 make it easy to design, inspect, and understand quantum circuits. This is especially useful when designing complex algorithms or teaching quantum computing concepts."
   ]
  }
 ],
 "metadata": {
  "language_info": {
   "name": "python"
  }
 },
 "nbformat": 4,
 "nbformat_minor": 2
}