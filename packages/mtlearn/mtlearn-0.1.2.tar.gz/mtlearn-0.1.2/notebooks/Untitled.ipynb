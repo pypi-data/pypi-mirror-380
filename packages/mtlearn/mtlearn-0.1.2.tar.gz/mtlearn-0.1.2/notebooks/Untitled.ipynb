{
 "cells": [
  {
   "cell_type": "code",
   "execution_count": 1,
   "id": "1ce8c532-1987-4c8a-95ec-490f6416a1c0",
   "metadata": {},
   "outputs": [],
   "source": [
    "import mtlearn"
   ]
  },
  {
   "cell_type": "code",
   "execution_count": 13,
   "id": "7ab4ac85-7cb6-4f1a-a765-3c4a680f9043",
   "metadata": {},
   "outputs": [
    {
     "data": {
      "text/plain": [
       "<mtlearn._mtlearn.TreeStats at 0x12b02ee30>"
      ]
     },
     "execution_count": 13,
     "metadata": {},
     "output_type": "execute_result"
    }
   ],
   "source": [
    "mtlearn.make_tree_stats(40)"
   ]
  },
  {
   "cell_type": "code",
   "execution_count": null,
   "id": "2bffed54-ad3e-45f3-a2ca-3dcc95fd3ea3",
   "metadata": {},
   "outputs": [],
   "source": []
  }
 ],
 "metadata": {
  "kernelspec": {
   "display_name": "Python 3 (ipykernel)",
   "language": "python",
   "name": "python3"
  },
  "language_info": {
   "codemirror_mode": {
    "name": "ipython",
    "version": 3
   },
   "file_extension": ".py",
   "mimetype": "text/x-python",
   "name": "python",
   "nbconvert_exporter": "python",
   "pygments_lexer": "ipython3",
   "version": "3.12.3"
  }
 },
 "nbformat": 4,
 "nbformat_minor": 5
}
