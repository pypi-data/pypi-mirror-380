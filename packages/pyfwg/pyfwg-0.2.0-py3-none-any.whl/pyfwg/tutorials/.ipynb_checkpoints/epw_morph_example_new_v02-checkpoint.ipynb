{
 "cells": [
  {
   "cell_type": "markdown",
   "metadata": {},
   "source": [
    "# Using `pyfwg` for Direct Morphing\n",
    "\n",
    "This notebook demonstrates the simplest and most direct way to use the `pyfwg` library: the high-level API functions.\n",
    "\n",
    "The library provides two main functions for this purpose:\n",
    "- `morph_epw_global()`: For use with the standard, global version of the FutureWeatherGenerator tool.\n",
    "- `morph_epw_europe()`: For use with the Europe-specific version of the tool.\n",
    "\n",
    "This notebook will focus on **`morph_epw_global`**. These functions are designed as one-shot tools that provide full access to all of the tool's parameters without requiring the user to manage the multi-step `MorphingWorkflow` class. They handle parameter validation, temporary file management, and final file placement in a single call."
   ]
  },
  {
   "cell_type": "markdown",
   "metadata": {},
   "source": [
    "## Understanding the `morph_epw` Parameters\n",
    "\n",
    "The functions are powerful because they expose all of the underlying tool's options. Here is a complete reference for all arguments.\n",
    "\n",
    "### Core Parameters\n",
    "\n",
    "*   `epw_paths` (`Union[str, List[str]]`): **Required.** The path to a single EPW file (as a string) or a list of paths to multiple EPW files.\n",
    "*   `fwg_jar_path` (`str`): **Required.** The absolute or relative path to the appropriate `.jar` file.\n",
    "\n",
    "### Workflow Control Parameters\n",
    "\n",
    "*   `output_dir` (`str`, default: `'./morphed_epws'`): The directory where the final morphed `.epw` and `.stat` files will be saved.\n",
    "*   `delete_temp_files` (`bool`, default: `True`): If `True`, the temporary folders are deleted after processing. Set to `False` for debugging.\n",
    "*   `fwg_show_tool_output` (`bool`, default: `False`): If `True`, prints the FWG tool's console output in real-time. Highly recommended for monitoring progress.\n",
    "\n",
    "### FutureWeatherGenerator Tool Parameters\n",
    "\n",
    "*   `fwg_gcms` (`Optional[List[str]]`, default: `None`): A list of GCMs to use. This is specific to the **global** tool (`morph_epw_global`).\n",
    "*   `fwg_rcm_pairs` (`Optional[List[str]]`, default: `None`): A list of GCM-RCM pairs to use. This is specific to the **europe** tool (`morph_epw_europe`).\n",
    "*   `fwg_create_ensemble` (`bool`, default: `True`): If `True`, creates an ensemble from the selected models.\n",
    "*   (All other `fwg_` parameters like `fwg_interpolation_method_id`, `fwg_add_uhi`, etc., are also available. Refer to the library's documentation for a full list.)"
   ]
  },
  {
   "cell_type": "markdown",
   "metadata": {},
   "source": [
    "## Step 1: Imports and Setup\n",
    "\n",
    "First, we'll import the necessary functions and set up our file paths. \n",
    "\n",
    "**Important:** You must change the `jar_path` variable to the correct location of the `FutureWeatherGenerator_v3.0.1.jar` file on your system. You must also ensure that the `epw_file` path is correct relative to where you are running this notebook."
   ]
  },
  {
   "cell_type": "code",
   "execution_count": null,
   "metadata": {},
   "outputs": [],
   "source": [
    "import os\n",
    "from pyfwg import morph_epw_global, get_available_lczs, check_lcz_availability, DEFAULT_GLOBAL_GCMS\n",
    "\n",
    "# --- Configuration ---\n",
    "# Define the path to the EPW file to be processed.\n",
    "epw_file = 'epws/w_pattern/sevilla_uhi-type-1.epw'\n",
    "\n",
    "# !!! IMPORTANT: You MUST change this path to the correct location on your PC !!!\n",
    "jar_path = r\"D:\\OneDrive - Universidad de Cádiz (uca.es)\\Programas\\FutureWeatherGenerator_v3.0.1.jar\""
   ]
  },
  {
   "cell_type": "markdown",
   "metadata": {},
   "source": [
    "## Step 2: Pre-flight Checks (Recommended)\n",
    "\n",
    "Before running a long morphing process, it's a good practice to validate your parameters. `pyfwg` provides utility functions to help with this.\n",
    "\n",
    "### Check Available LCZs\n",
    "\n",
    "The `fwg_epw_original_lcz` and `fwg_target_uhi_lcz` parameters depend on which Local Climate Zones are available for a specific weather file location. We can find this out using `get_available_lczs`."
   ]
  },
  {
   "cell_type": "code",
   "execution_count": null,
   "metadata": {},
   "outputs": [],
   "source": [
    "available_zones = get_available_lczs(\n",
    "    epw_paths=epw_file,\n",
    "    fwg_jar_path=jar_path,\n",
    "    # In java_class_path_prefix, use 'futureweathergenerator' for the global scope FWG tool, otherwise 'futureweathergenerator_europe'\n",
    "    java_class_path_prefix='futureweathergenerator'\n",
    ")\n",
    "\n",
    "# Print the results in a user-friendly format\n",
    "for filename, lcz_list in available_zones.items():\n",
    "    print(f\"\\nAvailable LCZs for: {filename}\")\n",
    "    if lcz_list:\n",
    "        print(f\"  {lcz_list}\")\n",
    "    else:\n",
    "        print(\"  Could not be determined.\")"
   ]
  },
  {
   "cell_type": "markdown",
   "metadata": {},
   "source": [
    "## Step 3: Run the Morphing Process\n",
    "\n",
    "Now that we have validated our parameters, we can confidently call `morph_epw_global`. We will use the valid LCZ values we identified and a specific GCM for speed."
   ]
  },
  {
   "cell_type": "code",
   "execution_count": null,
   "metadata": {},
   "outputs": [],
   "source": [
    "try:\n",
    "    created_files = morph_epw_global(\n",
    "        epw_paths=epw_file,\n",
    "        fwg_jar_path=jar_path,\n",
    "        output_dir='./custom_output',\n",
    "        fwg_show_tool_output=True,      # See the tool's progress in real-time\n",
    "        fwg_gcms=['CanESM5'],           # Use only one specific GCM for speed\n",
    "        fwg_interpolation_method_id=2,  # Use the \"nearest point\" method\n",
    "        fwg_epw_original_lcz=2,         # Use a validated LCZ from the check above\n",
    "        fwg_target_uhi_lcz=3          # Use a validated LCZ from the check above\n",
    "    )\n",
    "\n",
    "    print(\"\\nSuccessfully created files:\")\n",
    "    for f in created_files:\n",
    "        print(f)\n",
    "        \n",
    "except ValueError as e:\n",
    "    print(f\"\\nEXECUTION FAILED: {e}\")\n",
    "except Exception as e:\n",
    "    print(f\"\\nAN UNEXPECTED ERROR OCCURRED: {e}\")"
   ]
  },
  {
   "cell_type": "markdown",
   "metadata": {},
   "source": [
    "## Next Steps\n",
    "\n",
    "When you need to run multiple morphing configurations or require complex, custom renaming of the output files, the `MorphingWorkflowGlobal` class is the right tool. See the `advanced_workflow_example.ipynb` notebook for a complete guide."
   ]
  }
 ],
 "metadata": {
  "kernelspec": {
   "display_name": "Python 3",
   "language": "python",
   "name": "python3"
  },
  "language_info": {
   "codemirror_mode": {
    "name": "ipython",
    "version": 3
   },
   "file_extension": ".py",
   "mimetype": "text/x-python",
   "name": "python",
   "nbconvert_exporter": "python",
   "pygments_lexer": "ipython3",
   "version": "3.9.13"
  }
 },
 "nbformat": 4,
 "nbformat_minor": 4
}
