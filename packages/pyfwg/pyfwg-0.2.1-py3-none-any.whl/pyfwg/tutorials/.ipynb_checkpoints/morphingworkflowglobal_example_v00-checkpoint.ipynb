{
 "cells": [
  {
   "cell_type": "markdown",
   "metadata": {},
   "source": [
    "# Advanced usage: The `MorphingWorkflow` classes: `MorphingWorkflowGlobal` and `MorphingWorkflowEurope`\n",
    "\n",
    "This notebook demonstrates the advanced, step-by-step approach to morphing EPW files using the specialized `MorphingWorkflow` classes (`MorphingWorkflowGlobal` and `MorphingWorkflowEurope`).\n",
    "\n",
    "While the `morph_epw_*` functions are great for direct, one-shot tasks, the workflow classes are designed for complex projects where you need full control over **filename parsing, custom renaming, and process validation**. They enforce a safe, multi-step process that allows you to review and confirm each stage before executing the time-consuming morphing computation.\n",
    "\n",
    "This notebook will focus on **`MorphingWorkflowGlobal`**, and will show a quick example using **`MorphingWorkflowEurope`** highlighting the differences."
   ]
  },
  {
   "cell_type": "markdown",
   "metadata": {},
   "source": [
    "## The Three-Step Workflow\n",
    "\n",
    "The class is designed to be used as a state machine, guiding you through a logical sequence:\n",
    "\n",
    "1.  **`map_categories()`**: Analyze the input filenames to extract meaningful data (like city, building type, etc.).\n",
    "2.  **`configure_and_preview()`**: Define all execution parameters, validate them, and generate a \"dry run\" plan of how the final files will be named and organized.\n",
    "3.  **`execute_morphing()`**: Run the final computation, confident that your plan and configuration are correct."
   ]
  },
  {
   "cell_type": "markdown",
   "metadata": {},
   "source": [
    "## Using `MorphingWorkflowGlobal`"
   ]
  },
  {
   "cell_type": "markdown",
   "metadata": {},
   "source": [
    "### General Setup\n",
    "\n",
    "First, we'll import the necessary class and set up the paths for our files. \n",
    "\n",
    "**Important:** You must change the `jar_path` variable to the correct location of the `FutureWeatherGenerator_v3.0.1.jar` file on your system. You must also ensure that the EPW files exist at the specified paths."
   ]
  },
  {
   "cell_type": "code",
   "execution_count": 1,
   "metadata": {},
   "outputs": [],
   "source": [
    "import os\n",
    "import pandas as pd\n",
    "from pyfwg import MorphingWorkflowGlobal, DEFAULT_GLOBAL_GCMS\n",
    "\n",
    "# --- Configuration ---\n",
    "# !!! IMPORTANT: You MUST change this path to the correct location on your PC !!!\n",
    "jar_path = r\"D:\\OneDrive - Universidad de Cádiz (uca.es)\\Programas\\FutureWeatherGenerator_v3.0.1.jar\"\n",
    "\n",
    "# --- Define file paths for the examples ---\n",
    "pattern_epw_dir = 'epws/w_pattern'\n",
    "keyword_epw_dir = 'epws/wo_pattern'"
   ]
  },
  {
   "cell_type": "markdown",
   "metadata": {},
   "source": [
    "### Step 1: Map Categories from Filenames\n",
    "\n",
    "This is the first and most critical step for organizing your workflow. The `map_categories` method analyzes your source filenames and extracts meaningful data that will be used later for renaming the output files."
   ]
  },
  {
   "cell_type": "code",
   "execution_count": 2,
   "metadata": {},
   "outputs": [],
   "source": [
    "# Instantiate a workflow object for this example\n",
    "workflow = MorphingWorkflowGlobal()"
   ]
  },
  {
   "cell_type": "markdown",
   "metadata": {},
   "source": [
    "Let's have a look at the filenames of the EPWs we are going to work with. First, the set that has a pattern we can define with regex:"
   ]
  },
  {
   "cell_type": "code",
   "execution_count": 3,
   "metadata": {},
   "outputs": [
    {
     "name": "stdout",
     "output_type": "stream",
     "text": [
      "['epws/w_pattern\\\\london_uhi-type-2.epw', 'epws/w_pattern\\\\sevilla_uhi-type-1.epw']\n"
     ]
    }
   ],
   "source": [
    "# Define the list of files for this specific case\n",
    "epw_files_with_pattern = [os.path.join(pattern_epw_dir, f) for f in os.listdir(pattern_epw_dir) if f.endswith('.epw')]\n",
    "print(epw_files_with_pattern)"
   ]
  },
  {
   "cell_type": "markdown",
   "metadata": {},
   "source": [
    "And second, the set that does not have a pattern:"
   ]
  },
  {
   "cell_type": "code",
   "execution_count": 4,
   "metadata": {},
   "outputs": [
    {
     "name": "stdout",
     "output_type": "stream",
     "text": [
      "['epws/wo_pattern\\\\GBR_London.Gatwick.037760_IWEC_uhi_type-2.epw', 'epws/wo_pattern\\\\sevilla_in_this_one_the_uhi_is_type-1.epw']\n"
     ]
    }
   ],
   "source": [
    "# Define the list of files for this specific case\n",
    "epw_files_without_pattern = [os.path.join(keyword_epw_dir, f) for f in os.listdir(keyword_epw_dir) if f.endswith('.epw')]\n",
    "print(epw_files_without_pattern)"
   ]
  },
  {
   "cell_type": "markdown",
   "metadata": {},
   "source": [
    "We can also provide a `keyword_mapping` dictionary to translate the extracted raw values (like `sevilla`) into a clean, final format (like `Seville`)."
   ]
  },
  {
   "cell_type": "code",
   "execution_count": 5,
   "metadata": {},
   "outputs": [],
   "source": [
    "# Define the mapping rules to categorize filenames based on their content.\n",
    "# This dictionary provides the logic for both keyword searching and normalization.\n",
    "mapping_rules = {\n",
    "    # The top-level keys ('city', 'uhi') define the final category names\n",
    "    # that will be available as placeholders (e.g., {city}) in the output filename.\n",
    "    'city': {\n",
    "        # The second-level keys ('Seville', 'London') are the final, clean values\n",
    "        # that will be assigned to the 'city' category.\n",
    "        'Seville': ['sevilla', 'SVQ'],  # The keywords to search for (case-insensitive).\n",
    "        'London': ['london', 'gatwick'] # A list is used for multiple possible keywords.\n",
    "    },\n",
    "    'uhi': {\n",
    "        # For convenience, if there is only one keyword to search for,\n",
    "        # you can provide it as a single string instead of a list with one item.\n",
    "        'type-1': 'type-1',\n",
    "        'type-2': 'type-2'\n",
    "    }\n",
    "}\n",
    "\n",
    "# For example, if a filename contains 'SVQ', pyfwg will assign the value 'Seville'\n",
    "# to the 'city' category for that file."
   ]
  },
  {
   "cell_type": "markdown",
   "metadata": {},
   "source": [
    "#### Example 1.1: Using a Regex Pattern with Normalization\n",
    "\n",
    "If the filenames follow a consistent pattern, you can use the `input_filename_pattern` argument."
   ]
  },
  {
   "cell_type": "code",
   "execution_count": 6,
   "metadata": {},
   "outputs": [
    {
     "name": "stderr",
     "output_type": "stream",
     "text": [
      "\u001b[32m2025-09-23 12:19:43 - INFO - --- Step 1: Mapping categories from filenames ---\u001b[0m\n",
      "\u001b[32m2025-09-23 12:19:43 - INFO - Mapped 'epws/w_pattern\\london_uhi-type-2.epw': {'city': 'London', 'uhi': 'uhi-type-2'}\u001b[0m\n",
      "\u001b[32m2025-09-23 12:19:43 - INFO - Mapped 'epws/w_pattern\\sevilla_uhi-type-1.epw': {'city': 'Seville', 'uhi': 'uhi-type-1'}\u001b[0m\n",
      "\u001b[32m2025-09-23 12:19:43 - INFO - Category mapping complete.\u001b[0m\n"
     ]
    }
   ],
   "source": [
    "workflow.map_categories(\n",
    "    epw_files=epw_files_with_pattern,\n",
    "    # This pattern extracts raw values like 'sevilla' and 'type-1'\n",
    "    input_filename_pattern=r'(?P<city>.*?)_(?P<uhi>.*)',\n",
    "    # This dictionary then normalizes them to 'Seville' and 'type-1'. In case of type-1, we want to keep it as it is, so we use the same value.\n",
    "    keyword_mapping=mapping_rules\n",
    ")"
   ]
  },
  {
   "cell_type": "markdown",
   "metadata": {},
   "source": [
    "The mapped categories are saved to the attribute `.epw_categories` as a dictionary. Let's view it as a DataFrame for better visualization:"
   ]
  },
  {
   "cell_type": "code",
   "execution_count": 7,
   "metadata": {},
   "outputs": [
    {
     "data": {
      "text/html": [
       "<div>\n",
       "<style scoped>\n",
       "    .dataframe tbody tr th:only-of-type {\n",
       "        vertical-align: middle;\n",
       "    }\n",
       "\n",
       "    .dataframe tbody tr th {\n",
       "        vertical-align: top;\n",
       "    }\n",
       "\n",
       "    .dataframe thead th {\n",
       "        text-align: right;\n",
       "    }\n",
       "</style>\n",
       "<table border=\"1\" class=\"dataframe\">\n",
       "  <thead>\n",
       "    <tr style=\"text-align: right;\">\n",
       "      <th></th>\n",
       "      <th>epws/w_pattern\\london_uhi-type-2.epw</th>\n",
       "      <th>epws/w_pattern\\sevilla_uhi-type-1.epw</th>\n",
       "    </tr>\n",
       "  </thead>\n",
       "  <tbody>\n",
       "    <tr>\n",
       "      <th>city</th>\n",
       "      <td>London</td>\n",
       "      <td>Seville</td>\n",
       "    </tr>\n",
       "    <tr>\n",
       "      <th>uhi</th>\n",
       "      <td>uhi-type-2</td>\n",
       "      <td>uhi-type-1</td>\n",
       "    </tr>\n",
       "  </tbody>\n",
       "</table>\n",
       "</div>"
      ],
      "text/plain": [
       "     epws/w_pattern\\london_uhi-type-2.epw  \\\n",
       "city                               London   \n",
       "uhi                            uhi-type-2   \n",
       "\n",
       "     epws/w_pattern\\sevilla_uhi-type-1.epw  \n",
       "city                               Seville  \n",
       "uhi                             uhi-type-1  "
      ]
     },
     "execution_count": 7,
     "metadata": {},
     "output_type": "execute_result"
    }
   ],
   "source": [
    "pd.DataFrame(workflow.epw_categories)"
   ]
  },
  {
   "cell_type": "markdown",
   "metadata": {},
   "source": [
    "#### Example 1.2: Using Keyword-Only Search\n",
    "\n",
    "If your files are irregularly named, set `input_filename_pattern` to `None`. `pyfwg` will then search for the keywords from your mapping dictionary anywhere in the filename."
   ]
  },
  {
   "cell_type": "code",
   "execution_count": 8,
   "metadata": {},
   "outputs": [
    {
     "name": "stderr",
     "output_type": "stream",
     "text": [
      "\u001b[32m2025-09-23 12:19:43 - INFO - --- Step 1: Mapping categories from filenames ---\u001b[0m\n",
      "\u001b[32m2025-09-23 12:19:43 - INFO - Mapped 'epws/wo_pattern\\GBR_London.Gatwick.037760_IWEC_uhi_type-2.epw': {'city': 'London', 'uhi': 'type-2'}\u001b[0m\n",
      "\u001b[32m2025-09-23 12:19:43 - INFO - Mapped 'epws/wo_pattern\\sevilla_in_this_one_the_uhi_is_type-1.epw': {'city': 'Seville', 'uhi': 'type-1'}\u001b[0m\n",
      "\u001b[32m2025-09-23 12:19:43 - INFO - Category mapping complete.\u001b[0m\n"
     ]
    }
   ],
   "source": [
    "workflow.map_categories(\n",
    "    epw_files=epw_files_without_pattern,\n",
    "    input_filename_pattern=None,\n",
    "    keyword_mapping=mapping_rules\n",
    ")"
   ]
  },
  {
   "cell_type": "markdown",
   "metadata": {},
   "source": [
    "Let's view the newly mapped categories:"
   ]
  },
  {
   "cell_type": "code",
   "execution_count": 9,
   "metadata": {},
   "outputs": [
    {
     "data": {
      "text/html": [
       "<div>\n",
       "<style scoped>\n",
       "    .dataframe tbody tr th:only-of-type {\n",
       "        vertical-align: middle;\n",
       "    }\n",
       "\n",
       "    .dataframe tbody tr th {\n",
       "        vertical-align: top;\n",
       "    }\n",
       "\n",
       "    .dataframe thead th {\n",
       "        text-align: right;\n",
       "    }\n",
       "</style>\n",
       "<table border=\"1\" class=\"dataframe\">\n",
       "  <thead>\n",
       "    <tr style=\"text-align: right;\">\n",
       "      <th></th>\n",
       "      <th>epws/wo_pattern\\GBR_London.Gatwick.037760_IWEC_uhi_type-2.epw</th>\n",
       "      <th>epws/wo_pattern\\sevilla_in_this_one_the_uhi_is_type-1.epw</th>\n",
       "    </tr>\n",
       "  </thead>\n",
       "  <tbody>\n",
       "    <tr>\n",
       "      <th>city</th>\n",
       "      <td>London</td>\n",
       "      <td>Seville</td>\n",
       "    </tr>\n",
       "    <tr>\n",
       "      <th>uhi</th>\n",
       "      <td>type-2</td>\n",
       "      <td>type-1</td>\n",
       "    </tr>\n",
       "  </tbody>\n",
       "</table>\n",
       "</div>"
      ],
      "text/plain": [
       "     epws/wo_pattern\\GBR_London.Gatwick.037760_IWEC_uhi_type-2.epw  \\\n",
       "city                                             London              \n",
       "uhi                                              type-2              \n",
       "\n",
       "     epws/wo_pattern\\sevilla_in_this_one_the_uhi_is_type-1.epw  \n",
       "city                                            Seville         \n",
       "uhi                                              type-1         "
      ]
     },
     "execution_count": 9,
     "metadata": {},
     "output_type": "execute_result"
    }
   ],
   "source": [
    "pd.DataFrame(workflow.epw_categories)"
   ]
  },
  {
   "cell_type": "markdown",
   "metadata": {},
   "source": [
    "### Step 2: Configure and Preview the Plan\n",
    "\n",
    "This is the combined configuration and preview step. Here, you define all the parameters for the FutureWeatherGenerator tool and the output filenames. The method validates everything and then shows you a \"dry run\" plan of the final results.\n",
    "\n",
    "The `output_filename_pattern` is very powerful. It can use placeholders from your mapped categories (like `{city}`) and also placeholders for any of the `fwg_` parameters (like `{fwg_interpolation_method_id}`)."
   ]
  },
  {
   "cell_type": "code",
   "execution_count": 15,
   "metadata": {},
   "outputs": [
    {
     "name": "stderr",
     "output_type": "stream",
     "text": [
      "\u001b[32m2025-09-23 12:21:21 - INFO - --- Step 2: Configuring and Previewing Morphing Plan ---\u001b[0m\n"
     ]
    },
    {
     "name": "stdout",
     "output_type": "stream",
     "text": [
      "\n",
      "============================================================\n",
      "          MORPHING CONFIGURATION & PREVIEW\n",
      "============================================================\n",
      "  - FWG JAR Path: D:\\OneDrive - Universidad de Cádiz (uca.es)\\Programas\\FutureWeatherGenerator_v3.0.1.jar\n",
      "  - Final Output Directory: D:\\PythonProjects\\pyfwg\\pyfwg\\tutorials\\final_results_workflow\n",
      "  - EPWs to be Morphed (2 files):\n",
      "    - GBR_London.Gatwick.037760_IWEC_uhi_type-2.epw\n",
      "    - sevilla_in_this_one_the_uhi_is_type-1.epw\n",
      "\n",
      "  For input file: GBR_London.Gatwick.037760_IWEC_uhi_type-2.epw\n",
      "    -> Generated 'ssp126_2050.epw' will be moved to: D:\\PythonProjects\\pyfwg\\pyfwg\\tutorials\\final_results_workflow\\London_type-2_ssp126_2050_interp-2.epw\n",
      "    -> Generated 'ssp245_2050.epw' will be moved to: D:\\PythonProjects\\pyfwg\\pyfwg\\tutorials\\final_results_workflow\\London_type-2_SSP2-4.5_2050_interp-2.epw\n",
      "    -> Generated 'ssp370_2050.epw' will be moved to: D:\\PythonProjects\\pyfwg\\pyfwg\\tutorials\\final_results_workflow\\London_type-2_ssp370_2050_interp-2.epw\n",
      "    -> Generated 'ssp585_2050.epw' will be moved to: D:\\PythonProjects\\pyfwg\\pyfwg\\tutorials\\final_results_workflow\\London_type-2_SSP5-8.5_2050_interp-2.epw\n",
      "    -> Generated 'ssp126_2080.epw' will be moved to: D:\\PythonProjects\\pyfwg\\pyfwg\\tutorials\\final_results_workflow\\London_type-2_ssp126_2080_interp-2.epw\n",
      "    -> Generated 'ssp245_2080.epw' will be moved to: D:\\PythonProjects\\pyfwg\\pyfwg\\tutorials\\final_results_workflow\\London_type-2_SSP2-4.5_2080_interp-2.epw\n",
      "    -> Generated 'ssp370_2080.epw' will be moved to: D:\\PythonProjects\\pyfwg\\pyfwg\\tutorials\\final_results_workflow\\London_type-2_ssp370_2080_interp-2.epw\n",
      "    -> Generated 'ssp585_2080.epw' will be moved to: D:\\PythonProjects\\pyfwg\\pyfwg\\tutorials\\final_results_workflow\\London_type-2_SSP5-8.5_2080_interp-2.epw\n",
      "\n",
      "  For input file: sevilla_in_this_one_the_uhi_is_type-1.epw\n",
      "    -> Generated 'ssp126_2050.epw' will be moved to: D:\\PythonProjects\\pyfwg\\pyfwg\\tutorials\\final_results_workflow\\Seville_type-1_ssp126_2050_interp-2.epw\n",
      "    -> Generated 'ssp245_2050.epw' will be moved to: D:\\PythonProjects\\pyfwg\\pyfwg\\tutorials\\final_results_workflow\\Seville_type-1_SSP2-4.5_2050_interp-2.epw\n",
      "    -> Generated 'ssp370_2050.epw' will be moved to: D:\\PythonProjects\\pyfwg\\pyfwg\\tutorials\\final_results_workflow\\Seville_type-1_ssp370_2050_interp-2.epw\n",
      "    -> Generated 'ssp585_2050.epw' will be moved to: D:\\PythonProjects\\pyfwg\\pyfwg\\tutorials\\final_results_workflow\\Seville_type-1_SSP5-8.5_2050_interp-2.epw\n",
      "    -> Generated 'ssp126_2080.epw' will be moved to: D:\\PythonProjects\\pyfwg\\pyfwg\\tutorials\\final_results_workflow\\Seville_type-1_ssp126_2080_interp-2.epw\n",
      "    -> Generated 'ssp245_2080.epw' will be moved to: D:\\PythonProjects\\pyfwg\\pyfwg\\tutorials\\final_results_workflow\\Seville_type-1_SSP2-4.5_2080_interp-2.epw\n",
      "    -> Generated 'ssp370_2080.epw' will be moved to: D:\\PythonProjects\\pyfwg\\pyfwg\\tutorials\\final_results_workflow\\Seville_type-1_ssp370_2080_interp-2.epw\n",
      "    -> Generated 'ssp585_2080.epw' will be moved to: D:\\PythonProjects\\pyfwg\\pyfwg\\tutorials\\final_results_workflow\\Seville_type-1_SSP5-8.5_2080_interp-2.epw\n",
      "============================================================\n",
      "Configuration set. Call execute_morphing() to start the process.\n"
     ]
    }
   ],
   "source": [
    "# We will continue with the 'workflow' object, which now contains the keyword-mapped files.\n",
    "workflow.configure_and_preview(\n",
    "    final_output_dir='./final_results_workflow',\n",
    "    # The placeholders {city} and {uhi} match the mapping rule keys\n",
    "    output_filename_pattern='{city}_{uhi}_{ssp}_{year}_interp-{fwg_interpolation_method_id}',\n",
    "    # The {ssp} placeholder will be populated from this mapping\n",
    "    # For instance, the SSP scenario will be shown as 'SSP2-4.5' in the output filename instead of 'ssp245'.\n",
    "    scenario_mapping={'ssp245': 'SSP2-4.5', 'ssp585': 'SSP5-8.5'},\n",
    "    \n",
    "    # --- FWG Configuration ---\n",
    "    fwg_jar_path=jar_path,\n",
    "    fwg_gcms=['BCC_CSM2_MR'], # Use just one GCM for a quick test\n",
    "    fwg_interpolation_method_id=2, # This value will appear in the filename\n",
    "    fwg_epw_original_lcz=2,         # Use a validated LCZ from the check above\n",
    "    fwg_target_uhi_lcz=3,          # Use a validated LCZ from the check above\n",
    "    fwg_show_tool_output=True,\n",
    "    delete_temp_files=False # Set to False for debugging\n",
    ")"
   ]
  },
  {
   "cell_type": "markdown",
   "metadata": {},
   "source": [
    "You can also inspect the rename plan just shown above in the attribute `.rename_plan`"
   ]
  },
  {
   "cell_type": "code",
   "execution_count": 16,
   "metadata": {},
   "outputs": [
    {
     "data": {
      "text/plain": [
       "{'epws/wo_pattern\\\\GBR_London.Gatwick.037760_IWEC_uhi_type-2.epw': {'ssp126_2050.epw': './final_results_workflow\\\\London_type-2_ssp126_2050_interp-2.epw',\n",
       "  'ssp245_2050.epw': './final_results_workflow\\\\London_type-2_SSP2-4.5_2050_interp-2.epw',\n",
       "  'ssp370_2050.epw': './final_results_workflow\\\\London_type-2_ssp370_2050_interp-2.epw',\n",
       "  'ssp585_2050.epw': './final_results_workflow\\\\London_type-2_SSP5-8.5_2050_interp-2.epw',\n",
       "  'ssp126_2080.epw': './final_results_workflow\\\\London_type-2_ssp126_2080_interp-2.epw',\n",
       "  'ssp245_2080.epw': './final_results_workflow\\\\London_type-2_SSP2-4.5_2080_interp-2.epw',\n",
       "  'ssp370_2080.epw': './final_results_workflow\\\\London_type-2_ssp370_2080_interp-2.epw',\n",
       "  'ssp585_2080.epw': './final_results_workflow\\\\London_type-2_SSP5-8.5_2080_interp-2.epw'},\n",
       " 'epws/wo_pattern\\\\sevilla_in_this_one_the_uhi_is_type-1.epw': {'ssp126_2050.epw': './final_results_workflow\\\\Seville_type-1_ssp126_2050_interp-2.epw',\n",
       "  'ssp245_2050.epw': './final_results_workflow\\\\Seville_type-1_SSP2-4.5_2050_interp-2.epw',\n",
       "  'ssp370_2050.epw': './final_results_workflow\\\\Seville_type-1_ssp370_2050_interp-2.epw',\n",
       "  'ssp585_2050.epw': './final_results_workflow\\\\Seville_type-1_SSP5-8.5_2050_interp-2.epw',\n",
       "  'ssp126_2080.epw': './final_results_workflow\\\\Seville_type-1_ssp126_2080_interp-2.epw',\n",
       "  'ssp245_2080.epw': './final_results_workflow\\\\Seville_type-1_SSP2-4.5_2080_interp-2.epw',\n",
       "  'ssp370_2080.epw': './final_results_workflow\\\\Seville_type-1_ssp370_2080_interp-2.epw',\n",
       "  'ssp585_2080.epw': './final_results_workflow\\\\Seville_type-1_SSP5-8.5_2080_interp-2.epw'}}"
      ]
     },
     "execution_count": 16,
     "metadata": {},
     "output_type": "execute_result"
    }
   ],
   "source": [
    "workflow.rename_plan"
   ]
  },
  {
   "cell_type": "markdown",
   "metadata": {},
   "source": [
    "The inputs you have defined as well as the default values automatically set for the arguments not specified can be inspected in the attribute `.inputs` prior to running the morphing workflow."
   ]
  },
  {
   "cell_type": "code",
   "execution_count": 17,
   "metadata": {},
   "outputs": [
    {
     "data": {
      "text/plain": [
       "{'epw_files': ['epws/wo_pattern\\\\GBR_London.Gatwick.037760_IWEC_uhi_type-2.epw',\n",
       "  'epws/wo_pattern\\\\sevilla_in_this_one_the_uhi_is_type-1.epw'],\n",
       " 'final_output_dir': './final_results_workflow',\n",
       " 'output_filename_pattern': '{city}_{uhi}_{ssp}_{year}_interp-{fwg_interpolation_method_id}',\n",
       " 'scenario_mapping': {'ssp245': 'SSP2-4.5', 'ssp585': 'SSP5-8.5'},\n",
       " 'fwg_jar_path': 'D:\\\\OneDrive - Universidad de Cádiz (uca.es)\\\\Programas\\\\FutureWeatherGenerator_v3.0.1.jar',\n",
       " 'run_incomplete_files': False,\n",
       " 'delete_temp_files': False,\n",
       " 'temp_base_dir': './morphing_temp_results',\n",
       " 'show_tool_output': True,\n",
       " 'fwg_params': {'gcms': ['BCC_CSM2_MR'],\n",
       "  'create_ensemble': True,\n",
       "  'winter_sd_shift': 0.0,\n",
       "  'summer_sd_shift': 0.0,\n",
       "  'month_transition_hours': 72,\n",
       "  'use_multithreading': True,\n",
       "  'interpolation_method_id': 2,\n",
       "  'limit_variables': True,\n",
       "  'solar_hour_adjustment': 1,\n",
       "  'diffuse_irradiation_model': 1,\n",
       "  'add_uhi': True,\n",
       "  'epw_original_lcz': 2,\n",
       "  'target_uhi_lcz': 3},\n",
       " 'fwg_params_formatted': {'models': 'BCC_CSM2_MR',\n",
       "  'ensemble': '1',\n",
       "  'sd_shift': '0.0:0.0',\n",
       "  'month_transition_hours': '72',\n",
       "  'do_multithred_computation': 'true',\n",
       "  'interpolation_method_id': '2',\n",
       "  'do_limit_variables': 'true',\n",
       "  'solar_hour_adjustment_option': '1',\n",
       "  'diffuse_irradiation_model_option': '1',\n",
       "  'uhi_combined': '1:2:3'}}"
      ]
     },
     "execution_count": 17,
     "metadata": {},
     "output_type": "execute_result"
    }
   ],
   "source": [
    "workflow.inputs"
   ]
  },
  {
   "cell_type": "markdown",
   "metadata": {},
   "source": [
    "The attribute `.inputs` is a dictionary, which contains among others the arguments used in the FWG tool, that is, the values that are going to be passed to the CMD prompt. You can inspect these in the dictionary nested in key `fwg_params`."
   ]
  },
  {
   "cell_type": "code",
   "execution_count": 18,
   "metadata": {},
   "outputs": [
    {
     "data": {
      "text/plain": [
       "{'gcms': ['BCC_CSM2_MR'],\n",
       " 'create_ensemble': True,\n",
       " 'winter_sd_shift': 0.0,\n",
       " 'summer_sd_shift': 0.0,\n",
       " 'month_transition_hours': 72,\n",
       " 'use_multithreading': True,\n",
       " 'interpolation_method_id': 2,\n",
       " 'limit_variables': True,\n",
       " 'solar_hour_adjustment': 1,\n",
       " 'diffuse_irradiation_model': 1,\n",
       " 'add_uhi': True,\n",
       " 'epw_original_lcz': 2,\n",
       " 'target_uhi_lcz': 3}"
      ]
     },
     "execution_count": 18,
     "metadata": {},
     "output_type": "execute_result"
    }
   ],
   "source": [
    "workflow.inputs['fwg_params']"
   ]
  },
  {
   "cell_type": "markdown",
   "metadata": {},
   "source": [
    "### Step 3: Execute the Morphing Process\n",
    "\n",
    "This is the final step. The `execute_morphing` method takes **no arguments**. It acts as the \"Go\" button, running the entire process based on the configuration from the previous step."
   ]
  },
  {
   "cell_type": "code",
   "execution_count": 19,
   "metadata": {},
   "outputs": [
    {
     "name": "stderr",
     "output_type": "stream",
     "text": [
      "\u001b[32m2025-09-23 12:21:21 - INFO - --- Step 4: Executing morphing workflow ---\u001b[0m\n",
      "\u001b[32m2025-09-23 12:21:21 - INFO - Validating LCZ availability for GBR_London.Gatwick.037760_IWEC_uhi_type-2.epw...\u001b[0m\n",
      "\u001b[32m2025-09-23 12:21:21 - INFO - Checking LCZ pair (Original: 2, Target: 3) availability for GBR_London.Gatwick.037760_IWEC_uhi_type-2.epw...\u001b[0m\n",
      "\u001b[32m2025-09-23 12:21:21 - INFO - --- Applying UHI effect to GBR_London.Gatwick.037760_IWEC_uhi_type-2.epw ---\u001b[0m\n",
      "\u001b[32m2025-09-23 12:21:21 - INFO - Executing command: java -cp \"D:\\OneDrive - Universidad de Cádiz (uca.es)\\Programas\\FutureWeatherGenerator_v3.0.1.jar\" futureweathergenerator.UHI_Morph D:\\PythonProjects\\pyfwg\\pyfwg\\tutorials\\epws\\wo_pattern\\GBR_London.Gatwick.037760_IWEC_uhi_type-2.epw C:\\Users\\danie\\AppData\\Local\\Temp\\tmp028_zogk/ true 2:3\u001b[0m\n",
      "\u001b[32m2025-09-23 12:21:23 - INFO - UHI effect applied successfully.\u001b[0m\n",
      "\u001b[32m2025-09-23 12:21:23 - INFO - LCZ pair (Original: 2, Target: 3) is available.\u001b[0m\n",
      "\u001b[32m2025-09-23 12:21:23 - INFO - Copied input file to temporary directory: ./morphing_temp_results\\GBR_London.Gatwick.037760_IWEC_uhi_type-2\\GBR_London.Gatwick.037760_IWEC_uhi_type-2.epw\u001b[0m\n"
     ]
    },
    {
     "name": "stdout",
     "output_type": "stream",
     "text": [
      "\n",
      "-------------------- Executing FWG for GBR_London.Gatwick.037760_IWEC_uhi_type-2.epw --------------------\n",
      "  Full Command (for reference): java -cp \"D:\\OneDrive - Universidad de Cádiz (uca.es)\\Programas\\FutureWeatherGenerator_v3.0.1.jar\" futureweathergenerator.Morph D:\\PythonProjects\\pyfwg\\pyfwg\\tutorials\\epws\\wo_pattern\\GBR_London.Gatwick.037760_IWEC_uhi_type-2.epw BCC_CSM2_MR 1 0.0:0.0 72 D:\\PythonProjects\\pyfwg\\pyfwg\\tutorials\\morphing_temp_results\\GBR_London.Gatwick.037760_IWEC_uhi_type-2/ true 2 true 1 1 1:2:3\n",
      "  --- FWG Real-time Output ---\n"
     ]
    },
    {
     "name": "stderr",
     "output_type": "stream",
     "text": [
      "\u001b[32m2025-09-23 12:21:48 - INFO - Processing generated files in: ./morphing_temp_results\\GBR_London.Gatwick.037760_IWEC_uhi_type-2\u001b[0m\n",
      "\u001b[32m2025-09-23 12:21:48 - INFO - Skipping auxiliary file: 'GBR_-_LONDON-GATWICK_BCC_CSM2_MR_ssp126_2050_GridPointVariables.csv'\u001b[0m\n",
      "\u001b[32m2025-09-23 12:21:48 - INFO - Skipping auxiliary file: 'GBR_-_LONDON-GATWICK_BCC_CSM2_MR_ssp126_2080_GridPointVariables.csv'\u001b[0m\n",
      "\u001b[32m2025-09-23 12:21:48 - INFO - Skipping auxiliary file: 'GBR_-_LONDON-GATWICK_BCC_CSM2_MR_ssp245_2050_GridPointVariables.csv'\u001b[0m\n",
      "\u001b[32m2025-09-23 12:21:48 - INFO - Skipping auxiliary file: 'GBR_-_LONDON-GATWICK_BCC_CSM2_MR_ssp245_2080_GridPointVariables.csv'\u001b[0m\n",
      "\u001b[32m2025-09-23 12:21:48 - INFO - Skipping auxiliary file: 'GBR_-_LONDON-GATWICK_BCC_CSM2_MR_ssp370_2050_GridPointVariables.csv'\u001b[0m\n",
      "\u001b[32m2025-09-23 12:21:48 - INFO - Skipping auxiliary file: 'GBR_-_LONDON-GATWICK_BCC_CSM2_MR_ssp370_2080_GridPointVariables.csv'\u001b[0m\n",
      "\u001b[32m2025-09-23 12:21:48 - INFO - Skipping auxiliary file: 'GBR_-_LONDON-GATWICK_BCC_CSM2_MR_ssp585_2050_GridPointVariables.csv'\u001b[0m\n",
      "\u001b[32m2025-09-23 12:21:48 - INFO - Skipping auxiliary file: 'GBR_-_LONDON-GATWICK_BCC_CSM2_MR_ssp585_2080_GridPointVariables.csv'\u001b[0m\n",
      "\u001b[32m2025-09-23 12:21:48 - INFO - Moving './morphing_temp_results\\GBR_London.Gatwick.037760_IWEC_uhi_type-2\\GBR_-_LONDON-GATWICK_Ensemble_ssp126_2050.epw' to './final_results_workflow\\London_type-2_ssp126_2050_interp-2.epw'\u001b[0m\n",
      "\u001b[32m2025-09-23 12:21:48 - INFO - Moving './morphing_temp_results\\GBR_London.Gatwick.037760_IWEC_uhi_type-2\\GBR_-_LONDON-GATWICK_Ensemble_ssp126_2050.stat' to './final_results_workflow\\London_type-2_ssp126_2050_interp-2.stat'\u001b[0m\n",
      "\u001b[32m2025-09-23 12:21:48 - INFO - Skipping auxiliary file: 'GBR_-_LONDON-GATWICK_Ensemble_ssp126_2050_ErrorsAndWarnings.log'\u001b[0m\n",
      "\u001b[32m2025-09-23 12:21:48 - INFO - Skipping auxiliary file: 'GBR_-_LONDON-GATWICK_Ensemble_ssp126_2050_GridPointVariables.csv'\u001b[0m\n",
      "\u001b[32m2025-09-23 12:21:48 - INFO - Skipping auxiliary file: 'GBR_-_LONDON-GATWICK_Ensemble_ssp126_2050_MorphedEPWsComparison.csv'\u001b[0m\n",
      "\u001b[32m2025-09-23 12:21:48 - INFO - Moving './morphing_temp_results\\GBR_London.Gatwick.037760_IWEC_uhi_type-2\\GBR_-_LONDON-GATWICK_Ensemble_ssp126_2080.epw' to './final_results_workflow\\London_type-2_ssp126_2080_interp-2.epw'\u001b[0m\n",
      "\u001b[32m2025-09-23 12:21:48 - INFO - Moving './morphing_temp_results\\GBR_London.Gatwick.037760_IWEC_uhi_type-2\\GBR_-_LONDON-GATWICK_Ensemble_ssp126_2080.stat' to './final_results_workflow\\London_type-2_ssp126_2080_interp-2.stat'\u001b[0m\n",
      "\u001b[32m2025-09-23 12:21:48 - INFO - Skipping auxiliary file: 'GBR_-_LONDON-GATWICK_Ensemble_ssp126_2080_ErrorsAndWarnings.log'\u001b[0m\n",
      "\u001b[32m2025-09-23 12:21:48 - INFO - Skipping auxiliary file: 'GBR_-_LONDON-GATWICK_Ensemble_ssp126_2080_GridPointVariables.csv'\u001b[0m\n",
      "\u001b[32m2025-09-23 12:21:48 - INFO - Skipping auxiliary file: 'GBR_-_LONDON-GATWICK_Ensemble_ssp126_2080_MorphedEPWsComparison.csv'\u001b[0m\n",
      "\u001b[32m2025-09-23 12:21:48 - INFO - Moving './morphing_temp_results\\GBR_London.Gatwick.037760_IWEC_uhi_type-2\\GBR_-_LONDON-GATWICK_Ensemble_ssp245_2050.epw' to './final_results_workflow\\London_type-2_SSP2-4.5_2050_interp-2.epw'\u001b[0m\n",
      "\u001b[32m2025-09-23 12:21:48 - INFO - Moving './morphing_temp_results\\GBR_London.Gatwick.037760_IWEC_uhi_type-2\\GBR_-_LONDON-GATWICK_Ensemble_ssp245_2050.stat' to './final_results_workflow\\London_type-2_SSP2-4.5_2050_interp-2.stat'\u001b[0m\n",
      "\u001b[32m2025-09-23 12:21:48 - INFO - Skipping auxiliary file: 'GBR_-_LONDON-GATWICK_Ensemble_ssp245_2050_ErrorsAndWarnings.log'\u001b[0m\n",
      "\u001b[32m2025-09-23 12:21:48 - INFO - Skipping auxiliary file: 'GBR_-_LONDON-GATWICK_Ensemble_ssp245_2050_GridPointVariables.csv'\u001b[0m\n",
      "\u001b[32m2025-09-23 12:21:48 - INFO - Skipping auxiliary file: 'GBR_-_LONDON-GATWICK_Ensemble_ssp245_2050_MorphedEPWsComparison.csv'\u001b[0m\n",
      "\u001b[32m2025-09-23 12:21:48 - INFO - Moving './morphing_temp_results\\GBR_London.Gatwick.037760_IWEC_uhi_type-2\\GBR_-_LONDON-GATWICK_Ensemble_ssp245_2080.epw' to './final_results_workflow\\London_type-2_SSP2-4.5_2080_interp-2.epw'\u001b[0m\n",
      "\u001b[32m2025-09-23 12:21:48 - INFO - Moving './morphing_temp_results\\GBR_London.Gatwick.037760_IWEC_uhi_type-2\\GBR_-_LONDON-GATWICK_Ensemble_ssp245_2080.stat' to './final_results_workflow\\London_type-2_SSP2-4.5_2080_interp-2.stat'\u001b[0m\n",
      "\u001b[32m2025-09-23 12:21:48 - INFO - Skipping auxiliary file: 'GBR_-_LONDON-GATWICK_Ensemble_ssp245_2080_ErrorsAndWarnings.log'\u001b[0m\n",
      "\u001b[32m2025-09-23 12:21:48 - INFO - Skipping auxiliary file: 'GBR_-_LONDON-GATWICK_Ensemble_ssp245_2080_GridPointVariables.csv'\u001b[0m\n",
      "\u001b[32m2025-09-23 12:21:48 - INFO - Skipping auxiliary file: 'GBR_-_LONDON-GATWICK_Ensemble_ssp245_2080_MorphedEPWsComparison.csv'\u001b[0m\n",
      "\u001b[32m2025-09-23 12:21:48 - INFO - Moving './morphing_temp_results\\GBR_London.Gatwick.037760_IWEC_uhi_type-2\\GBR_-_LONDON-GATWICK_Ensemble_ssp370_2050.epw' to './final_results_workflow\\London_type-2_ssp370_2050_interp-2.epw'\u001b[0m\n",
      "\u001b[32m2025-09-23 12:21:48 - INFO - Moving './morphing_temp_results\\GBR_London.Gatwick.037760_IWEC_uhi_type-2\\GBR_-_LONDON-GATWICK_Ensemble_ssp370_2050.stat' to './final_results_workflow\\London_type-2_ssp370_2050_interp-2.stat'\u001b[0m\n"
     ]
    },
    {
     "name": "stdout",
     "output_type": "stream",
     "text": [
      "  --- End of FWG Output ---\n"
     ]
    },
    {
     "name": "stderr",
     "output_type": "stream",
     "text": [
      "\u001b[32m2025-09-23 12:21:48 - INFO - Skipping auxiliary file: 'GBR_-_LONDON-GATWICK_Ensemble_ssp370_2050_ErrorsAndWarnings.log'\u001b[0m\n",
      "\u001b[32m2025-09-23 12:21:48 - INFO - Skipping auxiliary file: 'GBR_-_LONDON-GATWICK_Ensemble_ssp370_2050_GridPointVariables.csv'\u001b[0m\n",
      "\u001b[32m2025-09-23 12:21:48 - INFO - Skipping auxiliary file: 'GBR_-_LONDON-GATWICK_Ensemble_ssp370_2050_MorphedEPWsComparison.csv'\u001b[0m\n",
      "\u001b[32m2025-09-23 12:21:48 - INFO - Moving './morphing_temp_results\\GBR_London.Gatwick.037760_IWEC_uhi_type-2\\GBR_-_LONDON-GATWICK_Ensemble_ssp370_2080.epw' to './final_results_workflow\\London_type-2_ssp370_2080_interp-2.epw'\u001b[0m\n",
      "\u001b[32m2025-09-23 12:21:48 - INFO - Moving './morphing_temp_results\\GBR_London.Gatwick.037760_IWEC_uhi_type-2\\GBR_-_LONDON-GATWICK_Ensemble_ssp370_2080.stat' to './final_results_workflow\\London_type-2_ssp370_2080_interp-2.stat'\u001b[0m\n",
      "\u001b[32m2025-09-23 12:21:48 - INFO - Skipping auxiliary file: 'GBR_-_LONDON-GATWICK_Ensemble_ssp370_2080_ErrorsAndWarnings.log'\u001b[0m\n",
      "\u001b[32m2025-09-23 12:21:48 - INFO - Skipping auxiliary file: 'GBR_-_LONDON-GATWICK_Ensemble_ssp370_2080_GridPointVariables.csv'\u001b[0m\n",
      "\u001b[32m2025-09-23 12:21:48 - INFO - Skipping auxiliary file: 'GBR_-_LONDON-GATWICK_Ensemble_ssp370_2080_MorphedEPWsComparison.csv'\u001b[0m\n",
      "\u001b[32m2025-09-23 12:21:48 - INFO - Moving './morphing_temp_results\\GBR_London.Gatwick.037760_IWEC_uhi_type-2\\GBR_-_LONDON-GATWICK_Ensemble_ssp585_2050.epw' to './final_results_workflow\\London_type-2_SSP5-8.5_2050_interp-2.epw'\u001b[0m\n",
      "\u001b[32m2025-09-23 12:21:48 - INFO - Moving './morphing_temp_results\\GBR_London.Gatwick.037760_IWEC_uhi_type-2\\GBR_-_LONDON-GATWICK_Ensemble_ssp585_2050.stat' to './final_results_workflow\\London_type-2_SSP5-8.5_2050_interp-2.stat'\u001b[0m\n",
      "\u001b[32m2025-09-23 12:21:48 - INFO - Skipping auxiliary file: 'GBR_-_LONDON-GATWICK_Ensemble_ssp585_2050_ErrorsAndWarnings.log'\u001b[0m\n",
      "\u001b[32m2025-09-23 12:21:48 - INFO - Skipping auxiliary file: 'GBR_-_LONDON-GATWICK_Ensemble_ssp585_2050_GridPointVariables.csv'\u001b[0m\n",
      "\u001b[32m2025-09-23 12:21:48 - INFO - Skipping auxiliary file: 'GBR_-_LONDON-GATWICK_Ensemble_ssp585_2050_MorphedEPWsComparison.csv'\u001b[0m\n",
      "\u001b[32m2025-09-23 12:21:48 - INFO - Moving './morphing_temp_results\\GBR_London.Gatwick.037760_IWEC_uhi_type-2\\GBR_-_LONDON-GATWICK_Ensemble_ssp585_2080.epw' to './final_results_workflow\\London_type-2_SSP5-8.5_2080_interp-2.epw'\u001b[0m\n",
      "\u001b[32m2025-09-23 12:21:48 - INFO - Moving './morphing_temp_results\\GBR_London.Gatwick.037760_IWEC_uhi_type-2\\GBR_-_LONDON-GATWICK_Ensemble_ssp585_2080.stat' to './final_results_workflow\\London_type-2_SSP5-8.5_2080_interp-2.stat'\u001b[0m\n",
      "\u001b[32m2025-09-23 12:21:48 - INFO - Skipping auxiliary file: 'GBR_-_LONDON-GATWICK_Ensemble_ssp585_2080_ErrorsAndWarnings.log'\u001b[0m\n",
      "\u001b[32m2025-09-23 12:21:48 - INFO - Skipping auxiliary file: 'GBR_-_LONDON-GATWICK_Ensemble_ssp585_2080_GridPointVariables.csv'\u001b[0m\n",
      "\u001b[32m2025-09-23 12:21:48 - INFO - Skipping auxiliary file: 'GBR_-_LONDON-GATWICK_Ensemble_ssp585_2080_MorphedEPWsComparison.csv'\u001b[0m\n",
      "\u001b[32m2025-09-23 12:21:48 - INFO - Validating LCZ availability for sevilla_in_this_one_the_uhi_is_type-1.epw...\u001b[0m\n",
      "\u001b[32m2025-09-23 12:21:48 - INFO - Checking LCZ pair (Original: 2, Target: 3) availability for sevilla_in_this_one_the_uhi_is_type-1.epw...\u001b[0m\n",
      "\u001b[32m2025-09-23 12:21:48 - INFO - --- Applying UHI effect to sevilla_in_this_one_the_uhi_is_type-1.epw ---\u001b[0m\n",
      "\u001b[32m2025-09-23 12:21:48 - INFO - Executing command: java -cp \"D:\\OneDrive - Universidad de Cádiz (uca.es)\\Programas\\FutureWeatherGenerator_v3.0.1.jar\" futureweathergenerator.UHI_Morph D:\\PythonProjects\\pyfwg\\pyfwg\\tutorials\\epws\\wo_pattern\\sevilla_in_this_one_the_uhi_is_type-1.epw C:\\Users\\danie\\AppData\\Local\\Temp\\tmp3v_w01_b/ true 2:3\u001b[0m\n",
      "\u001b[32m2025-09-23 12:21:50 - INFO - UHI effect applied successfully.\u001b[0m\n",
      "\u001b[32m2025-09-23 12:21:50 - INFO - LCZ pair (Original: 2, Target: 3) is available.\u001b[0m\n",
      "\u001b[32m2025-09-23 12:21:50 - INFO - Copied input file to temporary directory: ./morphing_temp_results\\sevilla_in_this_one_the_uhi_is_type-1\\sevilla_in_this_one_the_uhi_is_type-1.epw\u001b[0m\n"
     ]
    },
    {
     "name": "stdout",
     "output_type": "stream",
     "text": [
      "\n",
      "-------------------- Executing FWG for sevilla_in_this_one_the_uhi_is_type-1.epw --------------------\n",
      "  Full Command (for reference): java -cp \"D:\\OneDrive - Universidad de Cádiz (uca.es)\\Programas\\FutureWeatherGenerator_v3.0.1.jar\" futureweathergenerator.Morph D:\\PythonProjects\\pyfwg\\pyfwg\\tutorials\\epws\\wo_pattern\\sevilla_in_this_one_the_uhi_is_type-1.epw BCC_CSM2_MR 1 0.0:0.0 72 D:\\PythonProjects\\pyfwg\\pyfwg\\tutorials\\morphing_temp_results\\sevilla_in_this_one_the_uhi_is_type-1/ true 2 true 1 1 1:2:3\n",
      "  --- FWG Real-time Output ---\n"
     ]
    },
    {
     "name": "stderr",
     "output_type": "stream",
     "text": [
      "\u001b[32m2025-09-23 12:22:18 - INFO - Processing generated files in: ./morphing_temp_results\\sevilla_in_this_one_the_uhi_is_type-1\u001b[0m\n",
      "\u001b[32m2025-09-23 12:22:18 - INFO - Skipping auxiliary file: 'ESP_-_SEVILLA_BCC_CSM2_MR_ssp126_2050_GridPointVariables.csv'\u001b[0m\n",
      "\u001b[32m2025-09-23 12:22:18 - INFO - Skipping auxiliary file: 'ESP_-_SEVILLA_BCC_CSM2_MR_ssp126_2080_GridPointVariables.csv'\u001b[0m\n",
      "\u001b[32m2025-09-23 12:22:18 - INFO - Skipping auxiliary file: 'ESP_-_SEVILLA_BCC_CSM2_MR_ssp245_2050_GridPointVariables.csv'\u001b[0m\n",
      "\u001b[32m2025-09-23 12:22:18 - INFO - Skipping auxiliary file: 'ESP_-_SEVILLA_BCC_CSM2_MR_ssp245_2080_GridPointVariables.csv'\u001b[0m\n",
      "\u001b[32m2025-09-23 12:22:18 - INFO - Skipping auxiliary file: 'ESP_-_SEVILLA_BCC_CSM2_MR_ssp370_2050_GridPointVariables.csv'\u001b[0m\n",
      "\u001b[32m2025-09-23 12:22:18 - INFO - Skipping auxiliary file: 'ESP_-_SEVILLA_BCC_CSM2_MR_ssp370_2080_GridPointVariables.csv'\u001b[0m\n",
      "\u001b[32m2025-09-23 12:22:18 - INFO - Skipping auxiliary file: 'ESP_-_SEVILLA_BCC_CSM2_MR_ssp585_2050_GridPointVariables.csv'\u001b[0m\n",
      "\u001b[32m2025-09-23 12:22:18 - INFO - Skipping auxiliary file: 'ESP_-_SEVILLA_BCC_CSM2_MR_ssp585_2080_GridPointVariables.csv'\u001b[0m\n",
      "\u001b[32m2025-09-23 12:22:18 - INFO - Moving './morphing_temp_results\\sevilla_in_this_one_the_uhi_is_type-1\\ESP_-_SEVILLA_Ensemble_ssp126_2050.epw' to './final_results_workflow\\Seville_type-1_ssp126_2050_interp-2.epw'\u001b[0m\n",
      "\u001b[32m2025-09-23 12:22:18 - INFO - Moving './morphing_temp_results\\sevilla_in_this_one_the_uhi_is_type-1\\ESP_-_SEVILLA_Ensemble_ssp126_2050.stat' to './final_results_workflow\\Seville_type-1_ssp126_2050_interp-2.stat'\u001b[0m\n",
      "\u001b[32m2025-09-23 12:22:18 - INFO - Skipping auxiliary file: 'ESP_-_SEVILLA_Ensemble_ssp126_2050_ErrorsAndWarnings.log'\u001b[0m\n",
      "\u001b[32m2025-09-23 12:22:18 - INFO - Skipping auxiliary file: 'ESP_-_SEVILLA_Ensemble_ssp126_2050_GridPointVariables.csv'\u001b[0m\n",
      "\u001b[32m2025-09-23 12:22:18 - INFO - Skipping auxiliary file: 'ESP_-_SEVILLA_Ensemble_ssp126_2050_MorphedEPWsComparison.csv'\u001b[0m\n",
      "\u001b[32m2025-09-23 12:22:18 - INFO - Moving './morphing_temp_results\\sevilla_in_this_one_the_uhi_is_type-1\\ESP_-_SEVILLA_Ensemble_ssp126_2080.epw' to './final_results_workflow\\Seville_type-1_ssp126_2080_interp-2.epw'\u001b[0m\n",
      "\u001b[32m2025-09-23 12:22:18 - INFO - Moving './morphing_temp_results\\sevilla_in_this_one_the_uhi_is_type-1\\ESP_-_SEVILLA_Ensemble_ssp126_2080.stat' to './final_results_workflow\\Seville_type-1_ssp126_2080_interp-2.stat'\u001b[0m\n",
      "\u001b[32m2025-09-23 12:22:18 - INFO - Skipping auxiliary file: 'ESP_-_SEVILLA_Ensemble_ssp126_2080_ErrorsAndWarnings.log'\u001b[0m\n",
      "\u001b[32m2025-09-23 12:22:18 - INFO - Skipping auxiliary file: 'ESP_-_SEVILLA_Ensemble_ssp126_2080_GridPointVariables.csv'\u001b[0m\n",
      "\u001b[32m2025-09-23 12:22:18 - INFO - Skipping auxiliary file: 'ESP_-_SEVILLA_Ensemble_ssp126_2080_MorphedEPWsComparison.csv'\u001b[0m\n",
      "\u001b[32m2025-09-23 12:22:18 - INFO - Moving './morphing_temp_results\\sevilla_in_this_one_the_uhi_is_type-1\\ESP_-_SEVILLA_Ensemble_ssp245_2050.epw' to './final_results_workflow\\Seville_type-1_SSP2-4.5_2050_interp-2.epw'\u001b[0m\n",
      "\u001b[32m2025-09-23 12:22:18 - INFO - Moving './morphing_temp_results\\sevilla_in_this_one_the_uhi_is_type-1\\ESP_-_SEVILLA_Ensemble_ssp245_2050.stat' to './final_results_workflow\\Seville_type-1_SSP2-4.5_2050_interp-2.stat'\u001b[0m\n",
      "\u001b[32m2025-09-23 12:22:18 - INFO - Skipping auxiliary file: 'ESP_-_SEVILLA_Ensemble_ssp245_2050_ErrorsAndWarnings.log'\u001b[0m\n",
      "\u001b[32m2025-09-23 12:22:18 - INFO - Skipping auxiliary file: 'ESP_-_SEVILLA_Ensemble_ssp245_2050_GridPointVariables.csv'\u001b[0m\n",
      "\u001b[32m2025-09-23 12:22:18 - INFO - Skipping auxiliary file: 'ESP_-_SEVILLA_Ensemble_ssp245_2050_MorphedEPWsComparison.csv'\u001b[0m\n",
      "\u001b[32m2025-09-23 12:22:18 - INFO - Moving './morphing_temp_results\\sevilla_in_this_one_the_uhi_is_type-1\\ESP_-_SEVILLA_Ensemble_ssp245_2080.epw' to './final_results_workflow\\Seville_type-1_SSP2-4.5_2080_interp-2.epw'\u001b[0m\n",
      "\u001b[32m2025-09-23 12:22:18 - INFO - Moving './morphing_temp_results\\sevilla_in_this_one_the_uhi_is_type-1\\ESP_-_SEVILLA_Ensemble_ssp245_2080.stat' to './final_results_workflow\\Seville_type-1_SSP2-4.5_2080_interp-2.stat'\u001b[0m\n",
      "\u001b[32m2025-09-23 12:22:18 - INFO - Skipping auxiliary file: 'ESP_-_SEVILLA_Ensemble_ssp245_2080_ErrorsAndWarnings.log'\u001b[0m\n",
      "\u001b[32m2025-09-23 12:22:18 - INFO - Skipping auxiliary file: 'ESP_-_SEVILLA_Ensemble_ssp245_2080_GridPointVariables.csv'\u001b[0m\n",
      "\u001b[32m2025-09-23 12:22:18 - INFO - Skipping auxiliary file: 'ESP_-_SEVILLA_Ensemble_ssp245_2080_MorphedEPWsComparison.csv'\u001b[0m\n",
      "\u001b[32m2025-09-23 12:22:18 - INFO - Moving './morphing_temp_results\\sevilla_in_this_one_the_uhi_is_type-1\\ESP_-_SEVILLA_Ensemble_ssp370_2050.epw' to './final_results_workflow\\Seville_type-1_ssp370_2050_interp-2.epw'\u001b[0m\n",
      "\u001b[32m2025-09-23 12:22:18 - INFO - Moving './morphing_temp_results\\sevilla_in_this_one_the_uhi_is_type-1\\ESP_-_SEVILLA_Ensemble_ssp370_2050.stat' to './final_results_workflow\\Seville_type-1_ssp370_2050_interp-2.stat'\u001b[0m\n",
      "\u001b[32m2025-09-23 12:22:18 - INFO - Skipping auxiliary file: 'ESP_-_SEVILLA_Ensemble_ssp370_2050_ErrorsAndWarnings.log'\u001b[0m\n",
      "\u001b[32m2025-09-23 12:22:18 - INFO - Skipping auxiliary file: 'ESP_-_SEVILLA_Ensemble_ssp370_2050_GridPointVariables.csv'\u001b[0m\n",
      "\u001b[32m2025-09-23 12:22:18 - INFO - Skipping auxiliary file: 'ESP_-_SEVILLA_Ensemble_ssp370_2050_MorphedEPWsComparison.csv'\u001b[0m\n",
      "\u001b[32m2025-09-23 12:22:18 - INFO - Moving './morphing_temp_results\\sevilla_in_this_one_the_uhi_is_type-1\\ESP_-_SEVILLA_Ensemble_ssp370_2080.epw' to './final_results_workflow\\Seville_type-1_ssp370_2080_interp-2.epw'\u001b[0m\n",
      "\u001b[32m2025-09-23 12:22:18 - INFO - Moving './morphing_temp_results\\sevilla_in_this_one_the_uhi_is_type-1\\ESP_-_SEVILLA_Ensemble_ssp370_2080.stat' to './final_results_workflow\\Seville_type-1_ssp370_2080_interp-2.stat'\u001b[0m\n",
      "\u001b[32m2025-09-23 12:22:18 - INFO - Skipping auxiliary file: 'ESP_-_SEVILLA_Ensemble_ssp370_2080_ErrorsAndWarnings.log'\u001b[0m\n",
      "\u001b[32m2025-09-23 12:22:18 - INFO - Skipping auxiliary file: 'ESP_-_SEVILLA_Ensemble_ssp370_2080_GridPointVariables.csv'\u001b[0m\n",
      "\u001b[32m2025-09-23 12:22:18 - INFO - Skipping auxiliary file: 'ESP_-_SEVILLA_Ensemble_ssp370_2080_MorphedEPWsComparison.csv'\u001b[0m\n",
      "\u001b[32m2025-09-23 12:22:18 - INFO - Moving './morphing_temp_results\\sevilla_in_this_one_the_uhi_is_type-1\\ESP_-_SEVILLA_Ensemble_ssp585_2050.epw' to './final_results_workflow\\Seville_type-1_SSP5-8.5_2050_interp-2.epw'\u001b[0m\n",
      "\u001b[32m2025-09-23 12:22:18 - INFO - Moving './morphing_temp_results\\sevilla_in_this_one_the_uhi_is_type-1\\ESP_-_SEVILLA_Ensemble_ssp585_2050.stat' to './final_results_workflow\\Seville_type-1_SSP5-8.5_2050_interp-2.stat'\u001b[0m\n",
      "\u001b[32m2025-09-23 12:22:18 - INFO - Skipping auxiliary file: 'ESP_-_SEVILLA_Ensemble_ssp585_2050_ErrorsAndWarnings.log'\u001b[0m\n",
      "\u001b[32m2025-09-23 12:22:18 - INFO - Skipping auxiliary file: 'ESP_-_SEVILLA_Ensemble_ssp585_2050_GridPointVariables.csv'\u001b[0m\n",
      "\u001b[32m2025-09-23 12:22:18 - INFO - Skipping auxiliary file: 'ESP_-_SEVILLA_Ensemble_ssp585_2050_MorphedEPWsComparison.csv'\u001b[0m\n",
      "\u001b[32m2025-09-23 12:22:18 - INFO - Moving './morphing_temp_results\\sevilla_in_this_one_the_uhi_is_type-1\\ESP_-_SEVILLA_Ensemble_ssp585_2080.epw' to './final_results_workflow\\Seville_type-1_SSP5-8.5_2080_interp-2.epw'\u001b[0m\n",
      "\u001b[32m2025-09-23 12:22:18 - INFO - Moving './morphing_temp_results\\sevilla_in_this_one_the_uhi_is_type-1\\ESP_-_SEVILLA_Ensemble_ssp585_2080.stat' to './final_results_workflow\\Seville_type-1_SSP5-8.5_2080_interp-2.stat'\u001b[0m\n",
      "\u001b[32m2025-09-23 12:22:18 - INFO - Skipping auxiliary file: 'ESP_-_SEVILLA_Ensemble_ssp585_2080_ErrorsAndWarnings.log'\u001b[0m\n",
      "\u001b[32m2025-09-23 12:22:18 - INFO - Skipping auxiliary file: 'ESP_-_SEVILLA_Ensemble_ssp585_2080_GridPointVariables.csv'\u001b[0m\n",
      "\u001b[32m2025-09-23 12:22:18 - INFO - Skipping auxiliary file: 'ESP_-_SEVILLA_Ensemble_ssp585_2080_MorphedEPWsComparison.csv'\u001b[0m\n",
      "\u001b[32m2025-09-23 12:22:18 - INFO - Morphing workflow finished.\u001b[0m\n"
     ]
    },
    {
     "name": "stdout",
     "output_type": "stream",
     "text": [
      "  --- End of FWG Output ---\n"
     ]
    }
   ],
   "source": [
    "workflow.execute_morphing()"
   ]
  },
  {
   "cell_type": "markdown",
   "metadata": {},
   "source": [
    "Let's take a look at the files we have created."
   ]
  },
  {
   "cell_type": "code",
   "execution_count": 20,
   "metadata": {},
   "outputs": [
    {
     "data": {
      "text/plain": [
       "['London_type-2_ssp126_2050_interp-2.epw',\n",
       " 'London_type-2_ssp126_2050_interp-2.stat',\n",
       " 'London_type-2_ssp126_2080_interp-2.epw',\n",
       " 'London_type-2_ssp126_2080_interp-2.stat',\n",
       " 'London_type-2_SSP2-4.5_2050_interp-2.epw',\n",
       " 'London_type-2_SSP2-4.5_2050_interp-2.stat',\n",
       " 'London_type-2_SSP2-4.5_2080_interp-2.epw',\n",
       " 'London_type-2_SSP2-4.5_2080_interp-2.stat',\n",
       " 'London_type-2_ssp370_2050_interp-2.epw',\n",
       " 'London_type-2_ssp370_2050_interp-2.stat',\n",
       " 'London_type-2_ssp370_2080_interp-2.epw',\n",
       " 'London_type-2_ssp370_2080_interp-2.stat',\n",
       " 'London_type-2_SSP5-8.5_2050_interp-2.epw',\n",
       " 'London_type-2_SSP5-8.5_2050_interp-2.stat',\n",
       " 'London_type-2_SSP5-8.5_2080_interp-2.epw',\n",
       " 'London_type-2_SSP5-8.5_2080_interp-2.stat',\n",
       " 'Seville_type-1_ssp126_2050_interp-2.epw',\n",
       " 'Seville_type-1_ssp126_2050_interp-2.stat',\n",
       " 'Seville_type-1_ssp126_2080_interp-2.epw',\n",
       " 'Seville_type-1_ssp126_2080_interp-2.stat',\n",
       " 'Seville_type-1_SSP2-4.5_2050_interp-2.epw',\n",
       " 'Seville_type-1_SSP2-4.5_2050_interp-2.stat',\n",
       " 'Seville_type-1_SSP2-4.5_2080_interp-2.epw',\n",
       " 'Seville_type-1_SSP2-4.5_2080_interp-2.stat',\n",
       " 'Seville_type-1_ssp370_2050_interp-2.epw',\n",
       " 'Seville_type-1_ssp370_2050_interp-2.stat',\n",
       " 'Seville_type-1_ssp370_2080_interp-2.epw',\n",
       " 'Seville_type-1_ssp370_2080_interp-2.stat',\n",
       " 'Seville_type-1_SSP5-8.5_2050_interp-2.epw',\n",
       " 'Seville_type-1_SSP5-8.5_2050_interp-2.stat',\n",
       " 'Seville_type-1_SSP5-8.5_2080_interp-2.epw',\n",
       " 'Seville_type-1_SSP5-8.5_2080_interp-2.stat']"
      ]
     },
     "execution_count": 20,
     "metadata": {},
     "output_type": "execute_result"
    }
   ],
   "source": [
    "new_files = [i for i in os.listdir('./final_results_workflow')]\n",
    "new_files"
   ]
  },
  {
   "cell_type": "markdown",
   "metadata": {},
   "source": [
    "## Using `MorphingWorkflowEurope`"
   ]
  },
  {
   "cell_type": "markdown",
   "metadata": {},
   "source": [
    "### Differences compared to `MorphingWorkflowGlobal`\n",
    ">**FYI**: the usage of `MorphingWorkflowEurope` is very similar to the global version. The only differences are:\n",
    "\n",
    ">* Instead of argument `fwg_gcms`, you need to use `fwg_rcm_pairs`.\n",
    ">* Instead of variable `DEFAULT_GLOBAL_GCMS`, the available models are in variable `DEFAULT_EUROPE_RCMS`. Therefore, the models you can use in `fwg_rcm_pairs` are those included in `DEFAULT_EUROPE_RCMS`.\n",
    ">* Future scenarios are RCP instead of SSP. Therefore, in `.configure_and_preview`'s' `scenario_mapping` argument, the dictionary keys must be `'rcp26'`, `'rcp45'` and `'rcp85'`. Also, instead of placeholder `{ssp}`, you must use placeholder **`{rcp}`**\n",
    ">* You have to remember using the `jar_path` to the FutureWeatherGenerator_Europe_vx.x.x.jar file."
   ]
  },
  {
   "cell_type": "markdown",
   "metadata": {},
   "source": [
    "### Example of use\n",
    "\n",
    "Since we have already explain the details in the `MorphingWorkflowGlobal` class and highlighted the differences, we are going to show the usage of `MorphingWorkflowEurope` in the following cell."
   ]
  },
  {
   "cell_type": "code",
   "execution_count": 4,
   "metadata": {},
   "outputs": [
    {
     "name": "stderr",
     "output_type": "stream",
     "text": [
      "\u001b[32m2025-09-24 08:00:35 - INFO - --- Step 1: Mapping categories from filenames ---\u001b[0m\n",
      "\u001b[32m2025-09-24 08:00:35 - INFO - Mapped 'epws/wo_pattern\\GBR_London.Gatwick.037760_IWEC_uhi_type-2.epw': {'city': 'London', 'uhi': 'type-2'}\u001b[0m\n",
      "\u001b[32m2025-09-24 08:00:35 - INFO - Mapped 'epws/wo_pattern\\sevilla_in_this_one_the_uhi_is_type-1.epw': {'city': 'Seville', 'uhi': 'type-1'}\u001b[0m\n",
      "\u001b[32m2025-09-24 08:00:35 - INFO - Category mapping complete.\u001b[0m\n",
      "\u001b[32m2025-09-24 08:00:35 - INFO - --- Step 2: Configuring and Previewing Morphing Plan ---\u001b[0m\n",
      "\u001b[32m2025-09-24 08:00:35 - INFO - --- Step 4: Executing morphing workflow ---\u001b[0m\n",
      "\u001b[32m2025-09-24 08:00:35 - INFO - Validating LCZ availability for GBR_London.Gatwick.037760_IWEC_uhi_type-2.epw...\u001b[0m\n",
      "\u001b[32m2025-09-24 08:00:35 - INFO - Checking LCZ pair (Original: 2, Target: 3) availability for GBR_London.Gatwick.037760_IWEC_uhi_type-2.epw...\u001b[0m\n",
      "\u001b[32m2025-09-24 08:00:35 - INFO - --- Applying UHI effect to GBR_London.Gatwick.037760_IWEC_uhi_type-2.epw ---\u001b[0m\n",
      "\u001b[32m2025-09-24 08:00:35 - INFO - Executing command: java -cp \"D:\\OneDrive - Universidad de Cádiz (uca.es)\\Programas\\FutureWeatherGenerator_Europe_v1.0.1.jar\" futureweathergenerator_europe.UHI_Morph D:\\Python\\pyfwg\\pyfwg\\tutorials\\epws\\wo_pattern\\GBR_London.Gatwick.037760_IWEC_uhi_type-2.epw C:\\Users\\sanga\\AppData\\Local\\Temp\\tmp8g5yjnm0/ true 2:3\u001b[0m\n"
     ]
    },
    {
     "name": "stdout",
     "output_type": "stream",
     "text": [
      "\n",
      "============================================================\n",
      "          MORPHING CONFIGURATION & PREVIEW\n",
      "============================================================\n",
      "  - FWG JAR Path: D:\\OneDrive - Universidad de Cádiz (uca.es)\\Programas\\FutureWeatherGenerator_Europe_v1.0.1.jar\n",
      "  - Final Output Directory: D:\\Python\\pyfwg\\pyfwg\\tutorials\\final_results_workflow_europe\n",
      "  - EPWs to be Morphed (2 files):\n",
      "    - GBR_London.Gatwick.037760_IWEC_uhi_type-2.epw\n",
      "    - sevilla_in_this_one_the_uhi_is_type-1.epw\n",
      "\n",
      "  For input file: GBR_London.Gatwick.037760_IWEC_uhi_type-2.epw\n",
      "    -> Generated 'rcp26_2050.epw' will be moved to: D:\\Python\\pyfwg\\pyfwg\\tutorials\\final_results_workflow_europe\\London_type-2_RCP-2.6_2050_interp-2.epw\n",
      "    -> Generated 'rcp45_2050.epw' will be moved to: D:\\Python\\pyfwg\\pyfwg\\tutorials\\final_results_workflow_europe\\London_type-2_rcp45_2050_interp-2.epw\n",
      "    -> Generated 'rcp85_2050.epw' will be moved to: D:\\Python\\pyfwg\\pyfwg\\tutorials\\final_results_workflow_europe\\London_type-2_rcp85_2050_interp-2.epw\n",
      "    -> Generated 'rcp26_2080.epw' will be moved to: D:\\Python\\pyfwg\\pyfwg\\tutorials\\final_results_workflow_europe\\London_type-2_RCP-2.6_2080_interp-2.epw\n",
      "    -> Generated 'rcp45_2080.epw' will be moved to: D:\\Python\\pyfwg\\pyfwg\\tutorials\\final_results_workflow_europe\\London_type-2_rcp45_2080_interp-2.epw\n",
      "    -> Generated 'rcp85_2080.epw' will be moved to: D:\\Python\\pyfwg\\pyfwg\\tutorials\\final_results_workflow_europe\\London_type-2_rcp85_2080_interp-2.epw\n",
      "\n",
      "  For input file: sevilla_in_this_one_the_uhi_is_type-1.epw\n",
      "    -> Generated 'rcp26_2050.epw' will be moved to: D:\\Python\\pyfwg\\pyfwg\\tutorials\\final_results_workflow_europe\\Seville_type-1_RCP-2.6_2050_interp-2.epw\n",
      "    -> Generated 'rcp45_2050.epw' will be moved to: D:\\Python\\pyfwg\\pyfwg\\tutorials\\final_results_workflow_europe\\Seville_type-1_rcp45_2050_interp-2.epw\n",
      "    -> Generated 'rcp85_2050.epw' will be moved to: D:\\Python\\pyfwg\\pyfwg\\tutorials\\final_results_workflow_europe\\Seville_type-1_rcp85_2050_interp-2.epw\n",
      "    -> Generated 'rcp26_2080.epw' will be moved to: D:\\Python\\pyfwg\\pyfwg\\tutorials\\final_results_workflow_europe\\Seville_type-1_RCP-2.6_2080_interp-2.epw\n",
      "    -> Generated 'rcp45_2080.epw' will be moved to: D:\\Python\\pyfwg\\pyfwg\\tutorials\\final_results_workflow_europe\\Seville_type-1_rcp45_2080_interp-2.epw\n",
      "    -> Generated 'rcp85_2080.epw' will be moved to: D:\\Python\\pyfwg\\pyfwg\\tutorials\\final_results_workflow_europe\\Seville_type-1_rcp85_2080_interp-2.epw\n",
      "============================================================\n",
      "Configuration set. Call execute_morphing() to start the process.\n"
     ]
    },
    {
     "name": "stderr",
     "output_type": "stream",
     "text": [
      "\u001b[32m2025-09-24 08:00:40 - INFO - UHI effect applied successfully.\u001b[0m\n",
      "\u001b[32m2025-09-24 08:00:40 - INFO - LCZ pair (Original: 2, Target: 3) is available.\u001b[0m\n",
      "\u001b[32m2025-09-24 08:00:40 - INFO - Copied input file to temporary directory: ./morphing_temp_results_europe\\GBR_London.Gatwick.037760_IWEC_uhi_type-2\\GBR_London.Gatwick.037760_IWEC_uhi_type-2.epw\u001b[0m\n"
     ]
    },
    {
     "name": "stdout",
     "output_type": "stream",
     "text": [
      "\n",
      "-------------------- Executing FWG for GBR_London.Gatwick.037760_IWEC_uhi_type-2.epw --------------------\n",
      "  Full Command (for reference): java -cp \"D:\\OneDrive - Universidad de Cádiz (uca.es)\\Programas\\FutureWeatherGenerator_Europe_v1.0.1.jar\" futureweathergenerator_europe.Morph D:\\Python\\pyfwg\\pyfwg\\tutorials\\epws\\wo_pattern\\GBR_London.Gatwick.037760_IWEC_uhi_type-2.epw NCC_NorESM1_M_SMHI_RCA4 1 0.0:0.0 72 D:\\Python\\pyfwg\\pyfwg\\tutorials\\morphing_temp_results_europe\\GBR_London.Gatwick.037760_IWEC_uhi_type-2/ true 2 true 1 1 1:2:3\n",
      "  --- FWG Real-time Output ---\n"
     ]
    },
    {
     "name": "stderr",
     "output_type": "stream",
     "text": [
      "\u001b[32m2025-09-24 08:01:30 - INFO - Processing generated files in: ./morphing_temp_results_europe\\GBR_London.Gatwick.037760_IWEC_uhi_type-2\u001b[0m\n",
      "\u001b[32m2025-09-24 08:01:30 - INFO - Moving './morphing_temp_results_europe\\GBR_London.Gatwick.037760_IWEC_uhi_type-2\\GBR_-_LONDON-GATWICK_Ensemble_rcp26_2050.epw' to './final_results_workflow_europe\\London_type-2_RCP-2.6_2050_interp-2.epw'\u001b[0m\n",
      "\u001b[32m2025-09-24 08:01:30 - INFO - Moving './morphing_temp_results_europe\\GBR_London.Gatwick.037760_IWEC_uhi_type-2\\GBR_-_LONDON-GATWICK_Ensemble_rcp26_2050.stat' to './final_results_workflow_europe\\London_type-2_RCP-2.6_2050_interp-2.stat'\u001b[0m\n",
      "\u001b[32m2025-09-24 08:01:30 - INFO - Skipping auxiliary file: 'GBR_-_LONDON-GATWICK_Ensemble_rcp26_2050_ErrorsAndWarnings.log'\u001b[0m\n",
      "\u001b[32m2025-09-24 08:01:30 - INFO - Skipping auxiliary file: 'GBR_-_LONDON-GATWICK_Ensemble_rcp26_2050_GridPointVariables.csv'\u001b[0m\n",
      "\u001b[32m2025-09-24 08:01:30 - INFO - Skipping auxiliary file: 'GBR_-_LONDON-GATWICK_Ensemble_rcp26_2050_MorphedEPWsComparison.csv'\u001b[0m\n",
      "\u001b[32m2025-09-24 08:01:30 - INFO - Moving './morphing_temp_results_europe\\GBR_London.Gatwick.037760_IWEC_uhi_type-2\\GBR_-_LONDON-GATWICK_Ensemble_rcp26_2080.epw' to './final_results_workflow_europe\\London_type-2_RCP-2.6_2080_interp-2.epw'\u001b[0m\n",
      "\u001b[32m2025-09-24 08:01:30 - INFO - Moving './morphing_temp_results_europe\\GBR_London.Gatwick.037760_IWEC_uhi_type-2\\GBR_-_LONDON-GATWICK_Ensemble_rcp26_2080.stat' to './final_results_workflow_europe\\London_type-2_RCP-2.6_2080_interp-2.stat'\u001b[0m\n",
      "\u001b[32m2025-09-24 08:01:30 - INFO - Skipping auxiliary file: 'GBR_-_LONDON-GATWICK_Ensemble_rcp26_2080_ErrorsAndWarnings.log'\u001b[0m\n",
      "\u001b[32m2025-09-24 08:01:30 - INFO - Skipping auxiliary file: 'GBR_-_LONDON-GATWICK_Ensemble_rcp26_2080_GridPointVariables.csv'\u001b[0m\n",
      "\u001b[32m2025-09-24 08:01:30 - INFO - Skipping auxiliary file: 'GBR_-_LONDON-GATWICK_Ensemble_rcp26_2080_MorphedEPWsComparison.csv'\u001b[0m\n",
      "\u001b[32m2025-09-24 08:01:30 - INFO - Moving './morphing_temp_results_europe\\GBR_London.Gatwick.037760_IWEC_uhi_type-2\\GBR_-_LONDON-GATWICK_Ensemble_rcp45_2050.epw' to './final_results_workflow_europe\\London_type-2_rcp45_2050_interp-2.epw'\u001b[0m\n",
      "\u001b[32m2025-09-24 08:01:30 - INFO - Moving './morphing_temp_results_europe\\GBR_London.Gatwick.037760_IWEC_uhi_type-2\\GBR_-_LONDON-GATWICK_Ensemble_rcp45_2050.stat' to './final_results_workflow_europe\\London_type-2_rcp45_2050_interp-2.stat'\u001b[0m\n",
      "\u001b[32m2025-09-24 08:01:30 - INFO - Skipping auxiliary file: 'GBR_-_LONDON-GATWICK_Ensemble_rcp45_2050_ErrorsAndWarnings.log'\u001b[0m\n",
      "\u001b[32m2025-09-24 08:01:30 - INFO - Skipping auxiliary file: 'GBR_-_LONDON-GATWICK_Ensemble_rcp45_2050_GridPointVariables.csv'\u001b[0m\n",
      "\u001b[32m2025-09-24 08:01:30 - INFO - Skipping auxiliary file: 'GBR_-_LONDON-GATWICK_Ensemble_rcp45_2050_MorphedEPWsComparison.csv'\u001b[0m\n",
      "\u001b[32m2025-09-24 08:01:30 - INFO - Moving './morphing_temp_results_europe\\GBR_London.Gatwick.037760_IWEC_uhi_type-2\\GBR_-_LONDON-GATWICK_Ensemble_rcp45_2080.epw' to './final_results_workflow_europe\\London_type-2_rcp45_2080_interp-2.epw'\u001b[0m\n",
      "\u001b[32m2025-09-24 08:01:30 - INFO - Moving './morphing_temp_results_europe\\GBR_London.Gatwick.037760_IWEC_uhi_type-2\\GBR_-_LONDON-GATWICK_Ensemble_rcp45_2080.stat' to './final_results_workflow_europe\\London_type-2_rcp45_2080_interp-2.stat'\u001b[0m\n",
      "\u001b[32m2025-09-24 08:01:30 - INFO - Skipping auxiliary file: 'GBR_-_LONDON-GATWICK_Ensemble_rcp45_2080_ErrorsAndWarnings.log'\u001b[0m\n",
      "\u001b[32m2025-09-24 08:01:30 - INFO - Skipping auxiliary file: 'GBR_-_LONDON-GATWICK_Ensemble_rcp45_2080_GridPointVariables.csv'\u001b[0m\n",
      "\u001b[32m2025-09-24 08:01:30 - INFO - Skipping auxiliary file: 'GBR_-_LONDON-GATWICK_Ensemble_rcp45_2080_MorphedEPWsComparison.csv'\u001b[0m\n",
      "\u001b[32m2025-09-24 08:01:30 - INFO - Moving './morphing_temp_results_europe\\GBR_London.Gatwick.037760_IWEC_uhi_type-2\\GBR_-_LONDON-GATWICK_Ensemble_rcp85_2050.epw' to './final_results_workflow_europe\\London_type-2_rcp85_2050_interp-2.epw'\u001b[0m\n",
      "\u001b[32m2025-09-24 08:01:30 - INFO - Moving './morphing_temp_results_europe\\GBR_London.Gatwick.037760_IWEC_uhi_type-2\\GBR_-_LONDON-GATWICK_Ensemble_rcp85_2050.stat' to './final_results_workflow_europe\\London_type-2_rcp85_2050_interp-2.stat'\u001b[0m\n",
      "\u001b[32m2025-09-24 08:01:30 - INFO - Skipping auxiliary file: 'GBR_-_LONDON-GATWICK_Ensemble_rcp85_2050_ErrorsAndWarnings.log'\u001b[0m\n",
      "\u001b[32m2025-09-24 08:01:30 - INFO - Skipping auxiliary file: 'GBR_-_LONDON-GATWICK_Ensemble_rcp85_2050_GridPointVariables.csv'\u001b[0m\n",
      "\u001b[32m2025-09-24 08:01:30 - INFO - Skipping auxiliary file: 'GBR_-_LONDON-GATWICK_Ensemble_rcp85_2050_MorphedEPWsComparison.csv'\u001b[0m\n",
      "\u001b[32m2025-09-24 08:01:30 - INFO - Moving './morphing_temp_results_europe\\GBR_London.Gatwick.037760_IWEC_uhi_type-2\\GBR_-_LONDON-GATWICK_Ensemble_rcp85_2080.epw' to './final_results_workflow_europe\\London_type-2_rcp85_2080_interp-2.epw'\u001b[0m\n",
      "\u001b[32m2025-09-24 08:01:30 - INFO - Moving './morphing_temp_results_europe\\GBR_London.Gatwick.037760_IWEC_uhi_type-2\\GBR_-_LONDON-GATWICK_Ensemble_rcp85_2080.stat' to './final_results_workflow_europe\\London_type-2_rcp85_2080_interp-2.stat'\u001b[0m\n",
      "\u001b[32m2025-09-24 08:01:30 - INFO - Skipping auxiliary file: 'GBR_-_LONDON-GATWICK_Ensemble_rcp85_2080_ErrorsAndWarnings.log'\u001b[0m\n",
      "\u001b[32m2025-09-24 08:01:30 - INFO - Skipping auxiliary file: 'GBR_-_LONDON-GATWICK_Ensemble_rcp85_2080_GridPointVariables.csv'\u001b[0m\n",
      "\u001b[32m2025-09-24 08:01:30 - INFO - Skipping auxiliary file: 'GBR_-_LONDON-GATWICK_Ensemble_rcp85_2080_MorphedEPWsComparison.csv'\u001b[0m\n",
      "\u001b[32m2025-09-24 08:01:30 - INFO - Skipping auxiliary file: 'GBR_-_LONDON-GATWICK_NCC_NorESM1_M_SMHI_RCA4_rcp26_2050_GridPointVariables.csv'\u001b[0m\n",
      "\u001b[32m2025-09-24 08:01:30 - INFO - Skipping auxiliary file: 'GBR_-_LONDON-GATWICK_NCC_NorESM1_M_SMHI_RCA4_rcp26_2080_GridPointVariables.csv'\u001b[0m\n",
      "\u001b[32m2025-09-24 08:01:30 - INFO - Skipping auxiliary file: 'GBR_-_LONDON-GATWICK_NCC_NorESM1_M_SMHI_RCA4_rcp45_2050_GridPointVariables.csv'\u001b[0m\n",
      "\u001b[32m2025-09-24 08:01:30 - INFO - Skipping auxiliary file: 'GBR_-_LONDON-GATWICK_NCC_NorESM1_M_SMHI_RCA4_rcp45_2080_GridPointVariables.csv'\u001b[0m\n",
      "\u001b[32m2025-09-24 08:01:30 - INFO - Skipping auxiliary file: 'GBR_-_LONDON-GATWICK_NCC_NorESM1_M_SMHI_RCA4_rcp85_2050_GridPointVariables.csv'\u001b[0m\n",
      "\u001b[32m2025-09-24 08:01:30 - INFO - Skipping auxiliary file: 'GBR_-_LONDON-GATWICK_NCC_NorESM1_M_SMHI_RCA4_rcp85_2080_GridPointVariables.csv'\u001b[0m\n",
      "\u001b[32m2025-09-24 08:01:30 - INFO - Validating LCZ availability for sevilla_in_this_one_the_uhi_is_type-1.epw...\u001b[0m\n",
      "\u001b[32m2025-09-24 08:01:30 - INFO - Checking LCZ pair (Original: 2, Target: 3) availability for sevilla_in_this_one_the_uhi_is_type-1.epw...\u001b[0m\n",
      "\u001b[32m2025-09-24 08:01:30 - INFO - --- Applying UHI effect to sevilla_in_this_one_the_uhi_is_type-1.epw ---\u001b[0m\n",
      "\u001b[32m2025-09-24 08:01:30 - INFO - Executing command: java -cp \"D:\\OneDrive - Universidad de Cádiz (uca.es)\\Programas\\FutureWeatherGenerator_Europe_v1.0.1.jar\" futureweathergenerator_europe.UHI_Morph D:\\Python\\pyfwg\\pyfwg\\tutorials\\epws\\wo_pattern\\sevilla_in_this_one_the_uhi_is_type-1.epw C:\\Users\\sanga\\AppData\\Local\\Temp\\tmpnenyvs2x/ true 2:3\u001b[0m\n"
     ]
    },
    {
     "name": "stdout",
     "output_type": "stream",
     "text": [
      "  --- End of FWG Output ---\n"
     ]
    },
    {
     "name": "stderr",
     "output_type": "stream",
     "text": [
      "\u001b[32m2025-09-24 08:01:34 - INFO - UHI effect applied successfully.\u001b[0m\n",
      "\u001b[32m2025-09-24 08:01:34 - INFO - LCZ pair (Original: 2, Target: 3) is available.\u001b[0m\n",
      "\u001b[32m2025-09-24 08:01:34 - INFO - Copied input file to temporary directory: ./morphing_temp_results_europe\\sevilla_in_this_one_the_uhi_is_type-1\\sevilla_in_this_one_the_uhi_is_type-1.epw\u001b[0m\n"
     ]
    },
    {
     "name": "stdout",
     "output_type": "stream",
     "text": [
      "\n",
      "-------------------- Executing FWG for sevilla_in_this_one_the_uhi_is_type-1.epw --------------------\n",
      "  Full Command (for reference): java -cp \"D:\\OneDrive - Universidad de Cádiz (uca.es)\\Programas\\FutureWeatherGenerator_Europe_v1.0.1.jar\" futureweathergenerator_europe.Morph D:\\Python\\pyfwg\\pyfwg\\tutorials\\epws\\wo_pattern\\sevilla_in_this_one_the_uhi_is_type-1.epw NCC_NorESM1_M_SMHI_RCA4 1 0.0:0.0 72 D:\\Python\\pyfwg\\pyfwg\\tutorials\\morphing_temp_results_europe\\sevilla_in_this_one_the_uhi_is_type-1/ true 2 true 1 1 1:2:3\n",
      "  --- FWG Real-time Output ---\n"
     ]
    },
    {
     "name": "stderr",
     "output_type": "stream",
     "text": [
      "\u001b[32m2025-09-24 08:02:27 - INFO - Processing generated files in: ./morphing_temp_results_europe\\sevilla_in_this_one_the_uhi_is_type-1\u001b[0m\n",
      "\u001b[32m2025-09-24 08:02:27 - INFO - Moving './morphing_temp_results_europe\\sevilla_in_this_one_the_uhi_is_type-1\\ESP_-_SEVILLA_Ensemble_rcp26_2050.epw' to './final_results_workflow_europe\\Seville_type-1_RCP-2.6_2050_interp-2.epw'\u001b[0m\n",
      "\u001b[32m2025-09-24 08:02:27 - INFO - Moving './morphing_temp_results_europe\\sevilla_in_this_one_the_uhi_is_type-1\\ESP_-_SEVILLA_Ensemble_rcp26_2050.stat' to './final_results_workflow_europe\\Seville_type-1_RCP-2.6_2050_interp-2.stat'\u001b[0m\n",
      "\u001b[32m2025-09-24 08:02:27 - INFO - Skipping auxiliary file: 'ESP_-_SEVILLA_Ensemble_rcp26_2050_ErrorsAndWarnings.log'\u001b[0m\n",
      "\u001b[32m2025-09-24 08:02:27 - INFO - Skipping auxiliary file: 'ESP_-_SEVILLA_Ensemble_rcp26_2050_GridPointVariables.csv'\u001b[0m\n",
      "\u001b[32m2025-09-24 08:02:27 - INFO - Skipping auxiliary file: 'ESP_-_SEVILLA_Ensemble_rcp26_2050_MorphedEPWsComparison.csv'\u001b[0m\n",
      "\u001b[32m2025-09-24 08:02:27 - INFO - Moving './morphing_temp_results_europe\\sevilla_in_this_one_the_uhi_is_type-1\\ESP_-_SEVILLA_Ensemble_rcp26_2080.epw' to './final_results_workflow_europe\\Seville_type-1_RCP-2.6_2080_interp-2.epw'\u001b[0m\n",
      "\u001b[32m2025-09-24 08:02:27 - INFO - Moving './morphing_temp_results_europe\\sevilla_in_this_one_the_uhi_is_type-1\\ESP_-_SEVILLA_Ensemble_rcp26_2080.stat' to './final_results_workflow_europe\\Seville_type-1_RCP-2.6_2080_interp-2.stat'\u001b[0m\n",
      "\u001b[32m2025-09-24 08:02:27 - INFO - Skipping auxiliary file: 'ESP_-_SEVILLA_Ensemble_rcp26_2080_ErrorsAndWarnings.log'\u001b[0m\n",
      "\u001b[32m2025-09-24 08:02:27 - INFO - Skipping auxiliary file: 'ESP_-_SEVILLA_Ensemble_rcp26_2080_GridPointVariables.csv'\u001b[0m\n",
      "\u001b[32m2025-09-24 08:02:27 - INFO - Skipping auxiliary file: 'ESP_-_SEVILLA_Ensemble_rcp26_2080_MorphedEPWsComparison.csv'\u001b[0m\n",
      "\u001b[32m2025-09-24 08:02:27 - INFO - Moving './morphing_temp_results_europe\\sevilla_in_this_one_the_uhi_is_type-1\\ESP_-_SEVILLA_Ensemble_rcp45_2050.epw' to './final_results_workflow_europe\\Seville_type-1_rcp45_2050_interp-2.epw'\u001b[0m\n",
      "\u001b[32m2025-09-24 08:02:27 - INFO - Moving './morphing_temp_results_europe\\sevilla_in_this_one_the_uhi_is_type-1\\ESP_-_SEVILLA_Ensemble_rcp45_2050.stat' to './final_results_workflow_europe\\Seville_type-1_rcp45_2050_interp-2.stat'\u001b[0m\n",
      "\u001b[32m2025-09-24 08:02:27 - INFO - Skipping auxiliary file: 'ESP_-_SEVILLA_Ensemble_rcp45_2050_ErrorsAndWarnings.log'\u001b[0m\n",
      "\u001b[32m2025-09-24 08:02:27 - INFO - Skipping auxiliary file: 'ESP_-_SEVILLA_Ensemble_rcp45_2050_GridPointVariables.csv'\u001b[0m\n",
      "\u001b[32m2025-09-24 08:02:27 - INFO - Skipping auxiliary file: 'ESP_-_SEVILLA_Ensemble_rcp45_2050_MorphedEPWsComparison.csv'\u001b[0m\n",
      "\u001b[32m2025-09-24 08:02:27 - INFO - Moving './morphing_temp_results_europe\\sevilla_in_this_one_the_uhi_is_type-1\\ESP_-_SEVILLA_Ensemble_rcp45_2080.epw' to './final_results_workflow_europe\\Seville_type-1_rcp45_2080_interp-2.epw'\u001b[0m\n",
      "\u001b[32m2025-09-24 08:02:27 - INFO - Moving './morphing_temp_results_europe\\sevilla_in_this_one_the_uhi_is_type-1\\ESP_-_SEVILLA_Ensemble_rcp45_2080.stat' to './final_results_workflow_europe\\Seville_type-1_rcp45_2080_interp-2.stat'\u001b[0m\n",
      "\u001b[32m2025-09-24 08:02:27 - INFO - Skipping auxiliary file: 'ESP_-_SEVILLA_Ensemble_rcp45_2080_ErrorsAndWarnings.log'\u001b[0m\n",
      "\u001b[32m2025-09-24 08:02:27 - INFO - Skipping auxiliary file: 'ESP_-_SEVILLA_Ensemble_rcp45_2080_GridPointVariables.csv'\u001b[0m\n",
      "\u001b[32m2025-09-24 08:02:27 - INFO - Skipping auxiliary file: 'ESP_-_SEVILLA_Ensemble_rcp45_2080_MorphedEPWsComparison.csv'\u001b[0m\n",
      "\u001b[32m2025-09-24 08:02:27 - INFO - Moving './morphing_temp_results_europe\\sevilla_in_this_one_the_uhi_is_type-1\\ESP_-_SEVILLA_Ensemble_rcp85_2050.epw' to './final_results_workflow_europe\\Seville_type-1_rcp85_2050_interp-2.epw'\u001b[0m\n",
      "\u001b[32m2025-09-24 08:02:27 - INFO - Moving './morphing_temp_results_europe\\sevilla_in_this_one_the_uhi_is_type-1\\ESP_-_SEVILLA_Ensemble_rcp85_2050.stat' to './final_results_workflow_europe\\Seville_type-1_rcp85_2050_interp-2.stat'\u001b[0m\n",
      "\u001b[32m2025-09-24 08:02:27 - INFO - Skipping auxiliary file: 'ESP_-_SEVILLA_Ensemble_rcp85_2050_ErrorsAndWarnings.log'\u001b[0m\n",
      "\u001b[32m2025-09-24 08:02:27 - INFO - Skipping auxiliary file: 'ESP_-_SEVILLA_Ensemble_rcp85_2050_GridPointVariables.csv'\u001b[0m\n",
      "\u001b[32m2025-09-24 08:02:27 - INFO - Skipping auxiliary file: 'ESP_-_SEVILLA_Ensemble_rcp85_2050_MorphedEPWsComparison.csv'\u001b[0m\n",
      "\u001b[32m2025-09-24 08:02:27 - INFO - Moving './morphing_temp_results_europe\\sevilla_in_this_one_the_uhi_is_type-1\\ESP_-_SEVILLA_Ensemble_rcp85_2080.epw' to './final_results_workflow_europe\\Seville_type-1_rcp85_2080_interp-2.epw'\u001b[0m\n",
      "\u001b[32m2025-09-24 08:02:27 - INFO - Moving './morphing_temp_results_europe\\sevilla_in_this_one_the_uhi_is_type-1\\ESP_-_SEVILLA_Ensemble_rcp85_2080.stat' to './final_results_workflow_europe\\Seville_type-1_rcp85_2080_interp-2.stat'\u001b[0m\n",
      "\u001b[32m2025-09-24 08:02:27 - INFO - Skipping auxiliary file: 'ESP_-_SEVILLA_Ensemble_rcp85_2080_ErrorsAndWarnings.log'\u001b[0m\n",
      "\u001b[32m2025-09-24 08:02:27 - INFO - Skipping auxiliary file: 'ESP_-_SEVILLA_Ensemble_rcp85_2080_GridPointVariables.csv'\u001b[0m\n",
      "\u001b[32m2025-09-24 08:02:27 - INFO - Skipping auxiliary file: 'ESP_-_SEVILLA_Ensemble_rcp85_2080_MorphedEPWsComparison.csv'\u001b[0m\n",
      "\u001b[32m2025-09-24 08:02:27 - INFO - Skipping auxiliary file: 'ESP_-_SEVILLA_NCC_NorESM1_M_SMHI_RCA4_rcp26_2050_GridPointVariables.csv'\u001b[0m\n",
      "\u001b[32m2025-09-24 08:02:27 - INFO - Skipping auxiliary file: 'ESP_-_SEVILLA_NCC_NorESM1_M_SMHI_RCA4_rcp26_2080_GridPointVariables.csv'\u001b[0m\n",
      "\u001b[32m2025-09-24 08:02:27 - INFO - Skipping auxiliary file: 'ESP_-_SEVILLA_NCC_NorESM1_M_SMHI_RCA4_rcp45_2050_GridPointVariables.csv'\u001b[0m\n",
      "\u001b[32m2025-09-24 08:02:27 - INFO - Skipping auxiliary file: 'ESP_-_SEVILLA_NCC_NorESM1_M_SMHI_RCA4_rcp45_2080_GridPointVariables.csv'\u001b[0m\n",
      "\u001b[32m2025-09-24 08:02:27 - INFO - Skipping auxiliary file: 'ESP_-_SEVILLA_NCC_NorESM1_M_SMHI_RCA4_rcp85_2050_GridPointVariables.csv'\u001b[0m\n",
      "\u001b[32m2025-09-24 08:02:27 - INFO - Skipping auxiliary file: 'ESP_-_SEVILLA_NCC_NorESM1_M_SMHI_RCA4_rcp85_2080_GridPointVariables.csv'\u001b[0m\n",
      "\u001b[32m2025-09-24 08:02:27 - INFO - Morphing workflow finished.\u001b[0m\n"
     ]
    },
    {
     "name": "stdout",
     "output_type": "stream",
     "text": [
      "  --- End of FWG Output ---\n"
     ]
    }
   ],
   "source": [
    "import os\n",
    "import pandas as pd\n",
    "from pyfwg import MorphingWorkflowEurope, DEFAULT_EUROPE_RCMS\n",
    "\n",
    "# --- Configuration ---\n",
    "# !!! IMPORTANT: You MUST change this path to the correct location on your PC !!!\n",
    "# Also, remember to define the path to the FutureWeatherGenerator_Europe_vx.x.x.jar file\n",
    "# if you are going to instantiate a MorphingWorkflowEurope class.\n",
    "jar_path = r\"D:\\OneDrive - Universidad de Cádiz (uca.es)\\Programas\\FutureWeatherGenerator_Europe_v1.0.1.jar\"\n",
    "\n",
    "# --- Define file paths for the examples ---\n",
    "pattern_epw_dir = 'epws/w_pattern'\n",
    "keyword_epw_dir = 'epws/wo_pattern'\n",
    "\n",
    "# Instantiate a workflow object for this example\n",
    "workflow = MorphingWorkflowEurope()\n",
    "\n",
    "# Define the list of files for this specific case\n",
    "epw_files_without_pattern = [os.path.join(keyword_epw_dir, f) for f in os.listdir(keyword_epw_dir) if f.endswith('.epw')]\n",
    "\n",
    "# Define the mapping rules to categorize filenames based on their content.\n",
    "# This dictionary provides the logic for both keyword searching and normalization.\n",
    "mapping_rules = {\n",
    "    # The top-level keys ('city', 'uhi') define the final category names\n",
    "    # that will be available as placeholders (e.g., {city}) in the output filename.\n",
    "    'city': {\n",
    "        # The second-level keys ('Seville', 'London') are the final, clean values\n",
    "        # that will be assigned to the 'city' category.\n",
    "        'Seville': ['sevilla', 'SVQ'],  # The keywords to search for (case-insensitive).\n",
    "        'London': ['london', 'gatwick'] # A list is used for multiple possible keywords.\n",
    "    },\n",
    "    'uhi': {\n",
    "        # For convenience, if there is only one keyword to search for,\n",
    "        # you can provide it as a single string instead of a list with one item.\n",
    "        'type-1': 'type-1',\n",
    "        'type-2': 'type-2'\n",
    "    }\n",
    "}\n",
    "# For example, if a filename contains 'SVQ', pyfwg will assign the value 'Seville'\n",
    "# to the 'city' category for that file.\n",
    "\n",
    "# Let's map the files to the categories.\n",
    "workflow.map_categories(\n",
    "    epw_files=epw_files_without_pattern,\n",
    "    input_filename_pattern=None,\n",
    "    keyword_mapping=mapping_rules\n",
    ")\n",
    "\n",
    "# We will continue with the 'workflow' object, which now contains the keyword-mapped files.\n",
    "workflow.configure_and_preview(\n",
    "    final_output_dir='./final_results_workflow_europe',\n",
    "    # The placeholders {city} and {uhi} match the mapping rule keys\n",
    "    output_filename_pattern='{city}_{uhi}_{rcp}_{year}_interp-{fwg_interpolation_method_id}',\n",
    "    # The {ssp} placeholder will be populated from this mapping\n",
    "    # For instance, the SSP scenario will be shown as 'SSP2-4.5' in the output filename instead of 'ssp245'.\n",
    "    scenario_mapping={'rcp26': 'RCP-2.6'},\n",
    "\n",
    "    # --- FWG Configuration ---\n",
    "    fwg_jar_path=jar_path,\n",
    "    # Important: remember to use fwg_rcm_pairs in the MorphingWorkflowEurope instead of fwg_gcms!\n",
    "    fwg_rcm_pairs=[list(DEFAULT_EUROPE_RCMS)[0]],  # Let's use the first RCM of the list for a quick test. Remember it must be a list (even if it contains just 1 item)\n",
    "    fwg_interpolation_method_id=2,  # This value will appear in the filename\n",
    "    fwg_epw_original_lcz=2,  # Use a validated LCZ from the check above\n",
    "    fwg_target_uhi_lcz=3,  # Use a validated LCZ from the check above\n",
    "    fwg_show_tool_output=True,\n",
    "    delete_temp_files=False  # Set to False for debugging\n",
    ")\n",
    "\n",
    "# Execute the morphing process\n",
    "workflow.execute_morphing()"
   ]
  },
  {
   "cell_type": "markdown",
   "metadata": {},
   "source": [
    "In this case, the new files we have generated are:"
   ]
  },
  {
   "cell_type": "code",
   "execution_count": 5,
   "metadata": {},
   "outputs": [
    {
     "data": {
      "text/plain": [
       "['London_type-2_RCP-2.6_2050_interp-2.epw',\n",
       " 'London_type-2_RCP-2.6_2050_interp-2.stat',\n",
       " 'London_type-2_RCP-2.6_2080_interp-2.epw',\n",
       " 'London_type-2_RCP-2.6_2080_interp-2.stat',\n",
       " 'London_type-2_rcp45_2050_interp-2.epw',\n",
       " 'London_type-2_rcp45_2050_interp-2.stat',\n",
       " 'London_type-2_rcp45_2080_interp-2.epw',\n",
       " 'London_type-2_rcp45_2080_interp-2.stat',\n",
       " 'London_type-2_rcp85_2050_interp-2.epw',\n",
       " 'London_type-2_rcp85_2050_interp-2.stat',\n",
       " 'London_type-2_rcp85_2080_interp-2.epw',\n",
       " 'London_type-2_rcp85_2080_interp-2.stat',\n",
       " 'Seville_type-1_RCP-2.6_2050_interp-2.epw',\n",
       " 'Seville_type-1_RCP-2.6_2050_interp-2.stat',\n",
       " 'Seville_type-1_RCP-2.6_2080_interp-2.epw',\n",
       " 'Seville_type-1_RCP-2.6_2080_interp-2.stat',\n",
       " 'Seville_type-1_rcp45_2050_interp-2.epw',\n",
       " 'Seville_type-1_rcp45_2050_interp-2.stat',\n",
       " 'Seville_type-1_rcp45_2080_interp-2.epw',\n",
       " 'Seville_type-1_rcp45_2080_interp-2.stat',\n",
       " 'Seville_type-1_rcp85_2050_interp-2.epw',\n",
       " 'Seville_type-1_rcp85_2050_interp-2.stat',\n",
       " 'Seville_type-1_rcp85_2080_interp-2.epw',\n",
       " 'Seville_type-1_rcp85_2080_interp-2.stat']"
      ]
     },
     "execution_count": 5,
     "metadata": {},
     "output_type": "execute_result"
    }
   ],
   "source": [
    "new_files_europe = [i for i in os.listdir('./final_results_workflow_europe')]\n",
    "new_files_europe"
   ]
  }
 ],
 "metadata": {
  "kernelspec": {
   "display_name": "Python 3 (ipykernel)",
   "language": "python",
   "name": "python3"
  },
  "language_info": {
   "codemirror_mode": {
    "name": "ipython",
    "version": 3
   },
   "file_extension": ".py",
   "mimetype": "text/x-python",
   "name": "python",
   "nbconvert_exporter": "python",
   "pygments_lexer": "ipython3",
   "version": "3.9.13"
  }
 },
 "nbformat": 4,
 "nbformat_minor": 4
}
