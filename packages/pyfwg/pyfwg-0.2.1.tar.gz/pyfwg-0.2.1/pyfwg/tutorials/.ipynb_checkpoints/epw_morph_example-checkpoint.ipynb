{
 "cells": [
  {
   "cell_type": "markdown",
   "metadata": {},
   "source": [
    "# Using `pyfwg` for Direct Morphing with `morph_epw`\n",
    "\n",
    "This notebook demonstrates the simplest and most direct way to use the `pyfwg` library: the `morph_epw` function.\n",
    "\n",
    "This function is designed as a one-shot tool that provides full access to all of the FutureWeatherGenerator's parameters without requiring the user to manage the multi-step `MorphingWorkflow` class. It handles parameter validation, temporary file management, and final file placement in a single call."
   ]
  },
  {
   "cell_type": "markdown",
   "metadata": {},
   "source": [
    "## Understanding the `morph_epw` Parameters\n",
    "\n",
    "The `morph_epw` function is powerful because it exposes all of the underlying tool's options. Here is a complete reference for all its arguments.\n",
    "\n",
    "### Core Parameters\n",
    "\n",
    "*   `epw_paths` (`Union[str, List[str]]`): **Required.** The path to a single EPW file (as a string) or a list of paths to multiple EPW files.\n",
    "*   `fwg_jar_path` (`str`): **Required.** The absolute or relative path to the `FutureWeatherGenerator_v3.0.0.jar` file.\n",
    "\n",
    "### Workflow Control Parameters\n",
    "\n",
    "*   `output_dir` (`str`, default: `'./morphed_epws'`): The directory where the final morphed `.epw` and `.stat` files will be saved.\n",
    "*   `delete_temp_files` (`bool`, default: `True`): If `True`, the temporary folders are deleted after processing. Set to `False` for debugging.\n",
    "*   `temp_base_dir` (`str`, default: `'./morphing_temp_results'`): The base directory where temporary folders will be created.\n",
    "*   `fwg_show_tool_output` (`bool`, default: `False`): If `True`, prints the FWG tool's console output in real-time. Highly recommended for monitoring progress.\n",
    "*   `fwg_params` (`Optional[Dict]`, default: `None`): A dictionary for providing a base set of FWG parameters. Any explicit `fwg_` argument will override the values in this dictionary.\n",
    "\n",
    "### FutureWeatherGenerator Tool Parameters\n",
    "\n",
    "These arguments correspond directly to the options in the FWG command-line tool.\n",
    "\n",
    "*   `fwg_gcms` (`Optional[List[str]]`, default: `None`): A list of GCMs to use. If `None`, the full default list is used to create an ensemble.\n",
    "*   `fwg_create_ensemble` (`bool`, default: `True`): If `True`, creates an ensemble from the selected GCMs (Argument: `%ensemble%`).\n",
    "*   `fwg_winter_sd_shift` (`float`, default: `0.0`): Temperature's standard deviation shift for the winter peak month. Range: -2.0 to 2.0.\n",
    "*   `fwg_summer_sd_shift` (`float`, default: `0.0`): Temperature's standard deviation shift for the summer peak month. Range: -2.0 to 2.0.\n",
    "*   `fwg_month_transition_hours` (`int`, default: `72`): Number of hours to smooth the transition between months. Range: 0 to 336.\n",
    "*   `fwg_use_multithreading` (`bool`, default: `True`): If `True`, performs computations in multithread (Argument: `%do_multithred_computation%`).\n",
    "*   `fwg_interpolation_method_id` (`int`, default: `0`): Selects the grid method. Options: `0` (inversed distance weighting), `1` (average of four nearest points), `2` (nearest point).\n",
    "*   `fwg_limit_variables` (`bool`, default: `True`): If `True`, bounds each generated variable to its physical limits (Argument: `%do_limit_variables%`).\n",
    "*   `fwg_solar_hour_adjustment` (`int`, default: `1`): Option for solar hour adjustment. Options: `0` (None), `1` (ByMonth), `2` (ByDay).\n",
    "*   `fwg_diffuse_irradiation_model` (`int`, default: `1`): Option for diffuse solar irradiation model. Options: `0` (Ridley), `1` (Engerer), `2` (Paulescu).\n",
    "*   `fwg_add_uhi` (`bool`, default: `True`): Option to pre-process the Urban Heat Island (UHI) effect.\n",
    "*   `fwg_epw_original_lcz` (`int`, default: `14`): The Local Climate Zone (LCZ) of the original EPW. Range: 1 to 17.\n",
    "*   `fwg_target_uhi_lcz` (`int`, default: `1`): The target LCZ of the generated EPW. Range: 1 to 17."
   ]
  },
  {
   "cell_type": "markdown",
   "metadata": {},
   "source": [
    "## Step 1: Imports and Setup\n",
    "\n",
    "First, we'll import the necessary function and set up our file paths. \n",
    "\n",
    "**Important:** You must change the `jar_path` variable to the correct location of the `FutureWeatherGenerator_v3.0.0.jar` file on your system. You must also ensure that the `epw_file` path is correct relative to where you are running this notebook."
   ]
  },
  {
   "cell_type": "code",
   "execution_count": 1,
   "metadata": {},
   "outputs": [],
   "source": [
    "import os\n",
    "from pyfwg import morph_epw\n",
    "\n",
    "# --- Configuration ---\n",
    "# Define the path to the EPW file to be processed.\n",
    "epw_file = 'epws/w_pattern/sevilla_uhi-type-1.epw'\n",
    "\n",
    "# !!! IMPORTANT: You MUST change this path to the correct location on your PC !!!\n",
    "jar_path = r\"D:\\OneDrive - Universidad de Cádiz (uca.es)\\Programas\\FutureWeatherGenerator_v3.0.0.jar\""
   ]
  },
  {
   "cell_type": "markdown",
   "metadata": {},
   "source": [
    "## Step 2: Run the Morphing Process\n",
    "\n",
    "Now, we can call the `morph_epw` function. We will override a few of the default parameters to demonstrate how to customize the process. To speed up the process, let's use just one GCM. If you don't know which are these, you can import the list containing the default models:"
   ]
  },
  {
   "cell_type": "code",
   "execution_count": 2,
   "metadata": {},
   "outputs": [
    {
     "name": "stdout",
     "output_type": "stream",
     "text": [
      "{'CNRM_CM6_1', 'EC_Earth3_Veg_LR', 'GISS_E2_1_G', 'CanESM5_CanOE', 'MIROC_ES2H', 'MIROC_ES2L', 'CNRM_ESM2_1', 'MIROC6', 'MRI_ESM2_0', 'CMCC_ESM2', 'CNRM_CM6_1_HR', 'CanESM5_1', 'GISS_E2_1_H', 'EC_Earth3', 'IPSL_CM6A_LR', 'BCC_CSM2_MR', 'FGOALS_g3', 'CanESM5', 'EC_Earth3_Veg', 'GFDL_ESM4', 'CAS_ESM2_0', 'UKESM1_0_LL', 'GISS_E2_2_G'}\n"
     ]
    }
   ],
   "source": [
    "from pyfwg import DEFAULT_GCMS\n",
    "print(DEFAULT_GCMS)"
   ]
  },
  {
   "cell_type": "markdown",
   "metadata": {},
   "source": [
    "So let's use for instance \"CanESM5\":"
   ]
  },
  {
   "cell_type": "code",
   "execution_count": 3,
   "metadata": {},
   "outputs": [
    {
     "name": "stderr",
     "output_type": "stream",
     "text": [
      "2025-08-15 08:48:29 - INFO - --- Starting Direct Morphing Process ---\n",
      "2025-08-15 08:48:29 - INFO - --- Step 3: Setting and Validating Morphing Configuration ---\n",
      "2025-08-15 08:48:29 - INFO - Copied input file to temporary directory: ./morphing_temp_results\\sevilla_uhi-type-1\\sevilla_uhi-type-1.epw\n"
     ]
    },
    {
     "name": "stdout",
     "output_type": "stream",
     "text": [
      "\n",
      "============================================================\n",
      "          MORPHING CONFIGURATION REVIEW\n",
      "============================================================\n",
      "  - FWG JAR Path: D:\\OneDrive - Universidad de Cádiz (uca.es)\\Programas\\FutureWeatherGenerator_v3.0.0.jar\n",
      "  - Run Incomplete Files: False\n",
      "  - Delete Temporary Files: True\n",
      "  - Show Tool Output: True\n",
      "\n",
      "  - EPWs to be Morphed (1 files):\n",
      "    - sevilla_uhi-type-1.epw\n",
      "\n",
      "  --- Final Formatted FWG Parameters ---\n",
      "    - gcms: CanESM5\n",
      "    - ensemble: 1\n",
      "    - sd_shift: 0.0:0.0\n",
      "    - month_transition_hours: 72\n",
      "    - do_multithred_computation: true\n",
      "    - interpolation_method_id: 2\n",
      "    - do_limit_variables: true\n",
      "    - solar_hour_adjustment_option: 1\n",
      "    - diffuse_irradiation_model_option: 1\n",
      "    - uhi_combined: 1:14:1\n",
      "============================================================\n",
      "Configuration set. Call execute_morphing() to start the process.\n",
      "\n",
      "-------------------- Executing FWG for sevilla_uhi-type-1.epw --------------------\n",
      "  Full Command: java -cp D:\\OneDrive - Universidad de Cádiz (uca.es)\\Programas\\FutureWeatherGenerator_v3.0.0.jar futureweathergenerator.Morph D:\\OneDrive - Universidad de Cádiz (uca.es)\\Python\\pyfwg\\morphing_temp_results\\sevilla_uhi-type-1\\sevilla_uhi-type-1.epw CanESM5 1 0.0:0.0 72 D:\\OneDrive - Universidad de Cádiz (uca.es)\\Python\\pyfwg\\morphing_temp_results\\sevilla_uhi-type-1\\ true 2 true 1 1 1:14:1\n",
      "  --- FWG Real-time Output ---\n"
     ]
    },
    {
     "name": "stderr",
     "output_type": "stream",
     "text": [
      "2025-08-15 08:49:05 - WARNING - PermissionError deleting ./morphing_temp_results\\sevilla_uhi-type-1. Retrying in 0.5s... (Attempt 1/5)\n"
     ]
    },
    {
     "name": "stdout",
     "output_type": "stream",
     "text": [
      "  --- End of FWG Output ---\n"
     ]
    },
    {
     "name": "stderr",
     "output_type": "stream",
     "text": [
      "2025-08-15 08:49:06 - WARNING - PermissionError deleting ./morphing_temp_results\\sevilla_uhi-type-1. Retrying in 0.5s... (Attempt 2/5)\n",
      "2025-08-15 08:49:06 - WARNING - PermissionError deleting ./morphing_temp_results\\sevilla_uhi-type-1. Retrying in 0.5s... (Attempt 3/5)\n",
      "2025-08-15 08:49:07 - WARNING - PermissionError deleting ./morphing_temp_results\\sevilla_uhi-type-1. Retrying in 0.5s... (Attempt 4/5)\n",
      "2025-08-15 08:49:07 - WARNING - PermissionError deleting ./morphing_temp_results\\sevilla_uhi-type-1. Retrying in 0.5s... (Attempt 5/5)\n",
      "2025-08-15 08:49:08 - ERROR - Failed to delete directory ./morphing_temp_results\\sevilla_uhi-type-1 after 5 retries.\n",
      "2025-08-15 08:49:08 - INFO - Direct morphing complete. 17 files created in D:\\OneDrive - Universidad de Cádiz (uca.es)\\Python\\pyfwg\\custom_output\n"
     ]
    },
    {
     "name": "stdout",
     "output_type": "stream",
     "text": [
      "\n",
      "Successfully created files:\n",
      "D:\\OneDrive - Universidad de Cádiz (uca.es)\\Python\\pyfwg\\custom_output\\ESP_-_SEVILLA_Ensemble_ssp126_2050.epw\n",
      "D:\\OneDrive - Universidad de Cádiz (uca.es)\\Python\\pyfwg\\custom_output\\ESP_-_SEVILLA_Ensemble_ssp126_2050.stat\n",
      "D:\\OneDrive - Universidad de Cádiz (uca.es)\\Python\\pyfwg\\custom_output\\ESP_-_SEVILLA_Ensemble_ssp126_2080.epw\n",
      "D:\\OneDrive - Universidad de Cádiz (uca.es)\\Python\\pyfwg\\custom_output\\ESP_-_SEVILLA_Ensemble_ssp126_2080.stat\n",
      "D:\\OneDrive - Universidad de Cádiz (uca.es)\\Python\\pyfwg\\custom_output\\ESP_-_SEVILLA_Ensemble_ssp245_2050.epw\n",
      "D:\\OneDrive - Universidad de Cádiz (uca.es)\\Python\\pyfwg\\custom_output\\ESP_-_SEVILLA_Ensemble_ssp245_2050.stat\n",
      "D:\\OneDrive - Universidad de Cádiz (uca.es)\\Python\\pyfwg\\custom_output\\ESP_-_SEVILLA_Ensemble_ssp245_2080.epw\n",
      "D:\\OneDrive - Universidad de Cádiz (uca.es)\\Python\\pyfwg\\custom_output\\ESP_-_SEVILLA_Ensemble_ssp245_2080.stat\n",
      "D:\\OneDrive - Universidad de Cádiz (uca.es)\\Python\\pyfwg\\custom_output\\ESP_-_SEVILLA_Ensemble_ssp370_2050.epw\n",
      "D:\\OneDrive - Universidad de Cádiz (uca.es)\\Python\\pyfwg\\custom_output\\ESP_-_SEVILLA_Ensemble_ssp370_2050.stat\n",
      "D:\\OneDrive - Universidad de Cádiz (uca.es)\\Python\\pyfwg\\custom_output\\ESP_-_SEVILLA_Ensemble_ssp370_2080.epw\n",
      "D:\\OneDrive - Universidad de Cádiz (uca.es)\\Python\\pyfwg\\custom_output\\ESP_-_SEVILLA_Ensemble_ssp370_2080.stat\n",
      "D:\\OneDrive - Universidad de Cádiz (uca.es)\\Python\\pyfwg\\custom_output\\ESP_-_SEVILLA_Ensemble_ssp585_2050.epw\n",
      "D:\\OneDrive - Universidad de Cádiz (uca.es)\\Python\\pyfwg\\custom_output\\ESP_-_SEVILLA_Ensemble_ssp585_2050.stat\n",
      "D:\\OneDrive - Universidad de Cádiz (uca.es)\\Python\\pyfwg\\custom_output\\ESP_-_SEVILLA_Ensemble_ssp585_2080.epw\n",
      "D:\\OneDrive - Universidad de Cádiz (uca.es)\\Python\\pyfwg\\custom_output\\ESP_-_SEVILLA_Ensemble_ssp585_2080.stat\n",
      "D:\\OneDrive - Universidad de Cádiz (uca.es)\\Python\\pyfwg\\custom_output\\sevilla_uhi-type-1.epw\n"
     ]
    }
   ],
   "source": [
    "# The validation of parameters is executed automatically inside the function.\n",
    "created_files_custom = morph_epw(\n",
    "    epw_paths=epw_file,\n",
    "    fwg_jar_path=jar_path,\n",
    "    output_dir='./custom_output',\n",
    "    fwg_show_tool_output=True,      # See the tool's progress in real-time\n",
    "    fwg_gcms=['CanESM5'],           # Use only one specific GCM\n",
    "    fwg_interpolation_method_id=2 # Use the \"nearest point\" method\n",
    ")\n",
    "\n",
    "print(\"\\nSuccessfully created files:\")\n",
    "for f in created_files_custom:\n",
    "    print(f)"
   ]
  },
  {
   "cell_type": "markdown",
   "metadata": {},
   "source": [
    "## Expected Output\n",
    "\n",
    "When you run the code above, you should see:\n",
    "1. A detailed printout of the command being executed for your EPW file.\n",
    "2. The real-time console output from the FutureWeatherGenerator tool (since `fwg_show_tool_output=True`).\n",
    "3. A final message listing all the `.epw` and `.stat` files that were successfully created and moved to the `./custom_output` directory."
   ]
  }
 ],
 "metadata": {
  "kernelspec": {
   "display_name": "Python 3 (ipykernel)",
   "language": "python",
   "name": "python3"
  },
  "language_info": {
   "codemirror_mode": {
    "name": "ipython",
    "version": 3
   },
   "file_extension": ".py",
   "mimetype": "text/x-python",
   "name": "python",
   "nbconvert_exporter": "python",
   "pygments_lexer": "ipython3",
   "version": "3.9.13"
  }
 },
 "nbformat": 4,
 "nbformat_minor": 4
}
