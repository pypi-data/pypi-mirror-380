{
 "cells": [
  {
   "cell_type": "markdown",
   "metadata": {},
   "source": [
    "# Parametric Analysis with `MorphingIterator`\n",
    "\n",
    "This notebook demonstrates the most powerful feature of the `pyfwg` library: the `MorphingIterator` class. \n",
    "\n",
    "This class is designed for running **parametric studies**, where you need to execute the morphing process multiple times with different parameters (e.g., different GCMs, interpolation methods, or even different EPW files). It uses a Pandas DataFrame to define all the runs in a structured and easy-to-manage way."
   ]
  },
  {
   "cell_type": "markdown",
   "metadata": {},
   "source": [
    "## The Iterator Workflow\n",
    "\n",
    "The iterator is designed to be used in a clear, multi-step process that provides control and visibility at each stage:\n",
    "\n",
    "1.  **Instantiate the Iterator**: Choose which tool you want to work with (`MorphingWorkflowGlobal` or `MorphingWorkflowEurope`).\n",
    "2.  **Set Default Values**: Define parameters that are common to all runs in your batch.\n",
    "3.  **Define the Runs**: Specify the parameters that will change for each run, using either an Excel file or a Pandas DataFrame directly.\n",
    "4.  **Generate the Plan & Prepare Workflows**: A single command that applies all defaults, validates the plan, and prepares all the workflow instances for execution.\n",
    "5.  **Execute the Workflows**: A final command to run the entire batch of simulations."
   ]
  },
  {
   "cell_type": "markdown",
   "metadata": {},
   "source": [
    "### Step 1: Instantiate the Iterator\n",
    "\n",
    "First, we import the necessary classes and create an instance of the `MorphingIterator`. We must tell it which workflow class it will be managing. In this example, we'll use `MorphingWorkflowGlobal`."
   ]
  },
  {
   "cell_type": "code",
   "execution_count": null,
   "metadata": {},
   "outputs": [],
   "source": [
    "import pandas as pd\n",
    "import os\n",
    "from pyfwg import MorphingIterator, MorphingWorkflowGlobal, export_template_to_excel, load_runs_from_excel\n",
    "\n",
    "# We specify that we want to use the Global tool for all runs.\n",
    "iterator = MorphingIterator(workflow_class=MorphingWorkflowGlobal)"
   ]
  },
  {
   "cell_type": "markdown",
   "metadata": {},
   "source": [
    "### Step 2: Define Common Parameters (Default Values)\n",
    "\n",
    "To avoid repeating the same information for every run, we can set default values that will apply to the entire batch. This is perfect for parameters like the `fwg_jar_path` or a common `output_filename_pattern`."
   ]
  },
  {
   "cell_type": "code",
   "execution_count": null,
   "metadata": {},
   "outputs": [],
   "source": [
    "# Define the keyword mapping rules that will be used for all runs in this batch.\n",
    "mapping_rules = {\n",
    "    'city': {\n",
    "        'seville': ['sevilla', 'SVQ'],\n",
    "        'london': ['london', 'gatwick']\n",
    "    },\n",
    "    'uhi': {\n",
    "        'type-1': 'type-1',\n",
    "        'type-2': 'type-2'\n",
    "    }\n",
    "}\n",
    "\n",
    "# We set the JAR path and other common settings as defaults for the entire batch.\n",
    "iterator.set_default_values(\n",
    "    fwg_jar_path=r\"D:\\OneDrive - Universidad de Cádiz (uca.es)\\Programas\\FutureWeatherGenerator_v3.0.1.jar\",\n",
    "    output_filename_pattern='{city}_{uhi}_interp-{fwg_interpolation_method_id}_{ssp}_{year}',\n",
    "    fwg_epw_original_lcz=2,\n",
    "    fwg_target_uhi_lcz=3\n",
    ")"
   ]
  },
  {
   "cell_type": "markdown",
   "metadata": {},
   "source": [
    "### Step 3: Define the Runs DataFrame\n",
    "\n",
    "This is where you specify what will change between each run. You have two convenient options for this."
   ]
  },
  {
   "cell_type": "markdown",
   "metadata": {},
   "source": [
    "#### Step 3.1: Option A - Using an Excel Template\n",
    "\n",
    "This is the recommended approach for non-programmers or for managing a large number of runs. You can export a blank template, fill it in with your scenarios, and load it back into `pyfwg`."
   ]
  },
  {
   "cell_type": "code",
   "execution_count": null,
   "metadata": {},
   "outputs": [],
   "source": [
    "# 1. Export the template to an Excel file.\n",
    "template_path = 'my_parametric_study.xlsx'\n",
    "export_template_to_excel(iterator, file_path=template_path)\n",
    "\n",
    "# --- At this point, you would open 'my_parametric_study.xlsx', ---\n",
    "# --- fill in the rows with your scenarios, and save it.      ---\n",
    "# --- For example, you could save it as 'my_parametric_study_modified.xlsx' ---\n",
    "\n",
    "# 2. Load the completed scenarios from your edited Excel file.\n",
    "# The load function automatically converts text like \"['CanESM5']\" back into a Python list.\n",
    "# runs_df = load_runs_from_excel('my_parametric_study_modified.xlsx')"
   ]
  },
  {
   "cell_type": "markdown",
   "metadata": {},
   "source": [
    "#### Step 3.2: Option B - Using a Pandas DataFrame Directly\n",
    "\n",
    "For quick tests or when working within a script, you can define your runs programmatically."
   ]
  },
  {
   "cell_type": "code",
   "execution_count": null,
   "metadata": {},
   "outputs": [],
   "source": [
    "# Get the blank template DataFrame.\n",
    "runs_df = iterator.get_template_dataframe()\n",
    "\n",
    "# Define the list of EPW files to be processed.\n",
    "epw_files_dir = 'epws/wo_pattern'\n",
    "epw_files = [os.path.join(epw_files_dir, f) for f in os.listdir(epw_files_dir)]\n",
    "\n",
    "# --- Run 1: Run the first EPW file with one set of GCMs ---\n",
    "runs_df.loc[0] = {\n",
    "    'epw_paths': epw_files[0],\n",
    "    'final_output_dir': './results/0',\n",
    "    'fwg_gcms': ['CanESM5']\n",
    "}\n",
    "\n",
    "# --- Run 2: Run the second EPW file with a different GCM ---\n",
    "runs_df.loc[1] = {\n",
    "    'epw_paths': epw_files[1],\n",
    "    'final_output_dir': './results/1',\n",
    "    'fwg_gcms': ['MIROC6']\n",
    "}"
   ]
  },
  {
   "cell_type": "markdown",
   "metadata": {},
   "source": [
    "### Step 4: Generate the Morphing Workflows and Execution Plan\n",
    "\n",
    "This single method is the core of the planning phase. It takes your DataFrame of runs, applies all defaults, maps the file categories, and prepares all the underlying workflow instances. It returns a complete DataFrame of the final execution plan for you to review."
   ]
  },
  {
   "cell_type": "code",
   "execution_count": null,
   "metadata": {},
   "outputs": [],
   "source": [
    "# The mapping strategy is a static argument for the whole batch.\n",
    "execution_plan_df = iterator.generate_morphing_workflows(\n",
    "    runs_df=runs_df,\n",
    "    keyword_mapping=mapping_rules\n",
    ")\n",
    "\n",
    "print(\"--- Detailed Execution Plan ---\")\n",
    "# Display key columns to verify the plan, including the new category columns.\n",
    "display_cols = [\n",
    "    'epw_paths',\n",
    "    'final_output_dir',\n",
    "    'fwg_gcms',\n",
    "    'cat_city',\n",
    "    'cat_uhi'\n",
    "]\n",
    "print(execution_plan_df[display_cols])"
   ]
  },
  {
   "cell_type": "markdown",
   "metadata": {},
   "source": [
    "At this point, you can also inspect the prepared workflow instances themselves."
   ]
  },
  {
   "cell_type": "code",
   "execution_count": null,
   "metadata": {},
   "outputs": [],
   "source": [
    "print(\"\\n--- Inspecting first prepared workflow ---\")\n",
    "if iterator.prepared_workflows:\n",
    "    first_workflow = iterator.prepared_workflows[0]\n",
    "    print(f\"Is config valid? {first_workflow.is_config_valid}\")\n",
    "    print(f\"Files to be morphed: {[os.path.basename(p) for p in first_workflow.epws_to_be_morphed]}\")\n",
    "else:\n",
    "    print(\"No workflows were prepared, likely due to errors in the plan.\")"
   ]
  },
  {
   "cell_type": "markdown",
   "metadata": {},
   "source": [
    "### Step 5: Execute the Morphing Workflows\n",
    "\n",
    "This is the final step. The `run_morphing_workflows` method takes no arguments to define the runs, as it simply executes the workflows that were prepared in the previous step."
   ]
  },
  {
   "cell_type": "code",
   "execution_count": null,
   "metadata": {},
   "outputs": [],
   "source": [
    "# Uncomment the following line to run the process:\n",
    "# iterator.run_morphing_workflows(show_tool_output=True)\n",
    "\n",
    "print(\"Script finished. Uncomment the final line to execute the morphing.\")"
   ]
  }
 ],
 "metadata": {
  "kernelspec": {
   "display_name": "Python 3 (ipykernel)",
   "language": "python",
   "name": "python3"
  },
  "language_info": {
   "codemirror_mode": {
    "name": "ipython",
    "version": 3
   },
   "file_extension": ".py",
   "mimetype": "text/x-python",
   "name": "python",
   "nbconvert_exporter": "python",
   "pygments_lexer": "ipython3",
   "version": "3.9.13"
  }
 },
 "nbformat": 4,
 "nbformat_minor": 4
}
