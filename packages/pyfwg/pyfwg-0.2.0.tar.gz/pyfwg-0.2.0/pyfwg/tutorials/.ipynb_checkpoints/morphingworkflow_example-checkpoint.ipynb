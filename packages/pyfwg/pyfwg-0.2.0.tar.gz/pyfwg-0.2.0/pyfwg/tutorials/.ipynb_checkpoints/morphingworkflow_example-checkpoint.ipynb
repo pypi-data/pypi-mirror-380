{
 "cells": [
  {
   "cell_type": "markdown",
   "metadata": {},
   "source": [
    "# Advanced Usage: The `MorphingWorkflow` Class\n",
    "\n",
    "This notebook demonstrates the advanced, step-by-step approach to morphing EPW files using the `MorphingWorkflow` class.\n",
    "\n",
    "While the `morph_epw` function is great for direct, one-shot tasks, the `MorphingWorkflow` class is designed for complex projects where you need full control over **filename parsing, custom renaming, and process validation**. It enforces a safe, four-step process that allows you to review and confirm each stage before executing the time-consuming morphing computation."
   ]
  },
  {
   "cell_type": "markdown",
   "metadata": {},
   "source": [
    "## General Setup\n",
    "\n",
    "First, we'll import the necessary class and set up the paths for our files. \n",
    "\n",
    "**Important:** You must change the `jar_path` variable to the correct location of the `FutureWeatherGenerator_v3.0.0.jar` file on your system. You must also ensure that the EPW files exist at the specified paths."
   ]
  },
  {
   "cell_type": "code",
   "execution_count": 1,
   "metadata": {},
   "outputs": [],
   "source": [
    "import os\n",
    "from pyfwg import MorphingWorkflow\n",
    "\n",
    "# --- Configuration ---\n",
    "# !!! IMPORTANT: You MUST change this path to the correct location on your PC !!!\n",
    "jar_path = r\"D:\\OneDrive - Universidad de Cádiz (uca.es)\\Programas\\FutureWeatherGenerator_v3.0.0.jar\"\n",
    "\n",
    "# --- Define file paths for the examples ---\n",
    "pattern_epw_dir = 'epws/w_pattern'\n",
    "keyword_epw_dir = 'epws/wo_pattern' # Assuming a similar folder for the second example"
   ]
  },
  {
   "cell_type": "markdown",
   "metadata": {},
   "source": [
    "## Step 1: Map Categories from Filenames\n",
    "\n",
    "This is the first and most critical step for organizing your workflow. The `map_categories` method analyzes your source filenames and extracts meaningful data that will be used later for renaming the output files.\n",
    "\n",
    "### `map_categories` Parameters\n",
    "\n",
    "*   `epw_files` (`List[str]`): **Required.** A list of paths to the EPW files you want to process.\n",
    "*   `input_filename_pattern` (`Optional[str]`, default: `None`): A Python regex string with **named capture groups** (e.g., `(?P<city>...)`) to extract structured data from filenames.\n",
    "*   `keyword_mapping` (`Optional[Dict]`, default: `None`): A dictionary of rules. Searches the entire filename for keywords to assign categories. This is ideal for irregularly named files.\n",
    "    *The innermost value can be a single string or a list of strings (e.g., `'seville': ['sevilla', 'svq']`).*"
   ]
  },
  {
   "cell_type": "code",
   "execution_count": 2,
   "metadata": {},
   "outputs": [
    {
     "name": "stdout",
     "output_type": "stream",
     "text": [
      "--- Running Step 1: map_categories ---\n"
     ]
    }
   ],
   "source": [
    "print(\"--- Running Step 1: map_categories ---\")\n",
    "\n",
    "# Instantiate a workflow object for this example\n",
    "workflow = MorphingWorkflow()"
   ]
  },
  {
   "cell_type": "markdown",
   "metadata": {},
   "source": [
    "Let's have a look at the filenames of the epws we are going to work with. First, the set that have a pattern that we can define with regex:"
   ]
  },
  {
   "cell_type": "code",
   "execution_count": 3,
   "metadata": {},
   "outputs": [
    {
     "data": {
      "text/plain": [
       "['epws/w_pattern\\\\MAD_uhi-type-2.epw',\n",
       " 'epws/w_pattern\\\\sevilla_uhi-type-1.epw']"
      ]
     },
     "execution_count": 3,
     "metadata": {},
     "output_type": "execute_result"
    }
   ],
   "source": [
    "# Define the list of files for this specific case\n",
    "epw_files_with_pattern = [os.path.join(pattern_epw_dir, f) for f in os.listdir(pattern_epw_dir)]\n",
    "epw_files_with_pattern"
   ]
  },
  {
   "cell_type": "markdown",
   "metadata": {},
   "source": [
    "And second, the set that does not have a pattern:"
   ]
  },
  {
   "cell_type": "code",
   "execution_count": 4,
   "metadata": {},
   "outputs": [
    {
     "data": {
      "text/plain": [
       "['epws/wo_pattern\\\\MAD_ICU-type-2.epw',\n",
       " 'epws/wo_pattern\\\\sevilla_in_this_one_the_uhi_is_type-1.epw']"
      ]
     },
     "execution_count": 4,
     "metadata": {},
     "output_type": "execute_result"
    }
   ],
   "source": [
    "# Define the list of files for this specific case\n",
    "epw_files_without_pattern = [os.path.join(keyword_epw_dir, f) for f in os.listdir(keyword_epw_dir)]\n",
    "epw_files_without_pattern"
   ]
  },
  {
   "cell_type": "code",
   "execution_count": 5,
   "metadata": {},
   "outputs": [],
   "source": [
    "# Define the mapping rules to normalize the extracted values\n",
    "mapping_rules = {\n",
    "    'city': {\n",
    "        'seville': ['sevilla', 'SVQ'],\n",
    "        'madrid': ['madrid', 'MAD']\n",
    "    },\n",
    "        'uhi': {\n",
    "            'type-1': 'type-1',\n",
    "            'type-2': 'type-2'\n",
    "        }\n",
    "}"
   ]
  },
  {
   "cell_type": "markdown",
   "metadata": {},
   "source": [
    "### Example 1.1: Using a Regex Pattern with Normalization\n",
    "First, if the filenames follow a regex pattern, you can introduce it in the `input_filename_pattern` argument. "
   ]
  },
  {
   "cell_type": "code",
   "execution_count": 6,
   "metadata": {},
   "outputs": [
    {
     "name": "stderr",
     "output_type": "stream",
     "text": [
      "2025-08-16 09:26:50 - INFO - --- Step 1: Mapping categories from filenames ---\n",
      "2025-08-16 09:26:50 - INFO - Mapped 'epws/w_pattern\\MAD_uhi-type-2.epw': {'city': 'madrid', 'uhi': 'uhi-type-2'}\n",
      "2025-08-16 09:26:50 - INFO - Mapped 'epws/w_pattern\\sevilla_uhi-type-1.epw': {'city': 'seville', 'uhi': 'uhi-type-1'}\n",
      "2025-08-16 09:26:50 - INFO - Category mapping complete.\n"
     ]
    }
   ],
   "source": [
    "workflow.map_categories(\n",
    "    epw_files=epw_files_with_pattern,\n",
    "    # This pattern extracts raw values like 'MAD' and 'uhi-tipo-2'\n",
    "    input_filename_pattern=r'(?P<city>.*?)_(?P<uhi>.*)',\n",
    "    # This dictionary then normalizes them to 'madrid' and 'type-2'\n",
    "    keyword_mapping=mapping_rules\n",
    ")"
   ]
  },
  {
   "cell_type": "markdown",
   "metadata": {},
   "source": [
    "The mapped categories are saved to the attribute `.epw_categories` as a dictionary."
   ]
  },
  {
   "cell_type": "code",
   "execution_count": 7,
   "metadata": {},
   "outputs": [
    {
     "data": {
      "text/plain": [
       "{'epws/w_pattern\\\\MAD_uhi-type-2.epw': {'city': 'madrid', 'uhi': 'uhi-type-2'},\n",
       " 'epws/w_pattern\\\\sevilla_uhi-type-1.epw': {'city': 'seville',\n",
       "  'uhi': 'uhi-type-1'}}"
      ]
     },
     "execution_count": 7,
     "metadata": {},
     "output_type": "execute_result"
    }
   ],
   "source": [
    "workflow.epw_categories"
   ]
  },
  {
   "cell_type": "markdown",
   "metadata": {},
   "source": [
    "Let's show it as a dataframe for a better visualization:"
   ]
  },
  {
   "cell_type": "code",
   "execution_count": 8,
   "metadata": {},
   "outputs": [
    {
     "data": {
      "text/html": [
       "<div>\n",
       "<style scoped>\n",
       "    .dataframe tbody tr th:only-of-type {\n",
       "        vertical-align: middle;\n",
       "    }\n",
       "\n",
       "    .dataframe tbody tr th {\n",
       "        vertical-align: top;\n",
       "    }\n",
       "\n",
       "    .dataframe thead th {\n",
       "        text-align: right;\n",
       "    }\n",
       "</style>\n",
       "<table border=\"1\" class=\"dataframe\">\n",
       "  <thead>\n",
       "    <tr style=\"text-align: right;\">\n",
       "      <th></th>\n",
       "      <th>epws/w_pattern\\MAD_uhi-type-2.epw</th>\n",
       "      <th>epws/w_pattern\\sevilla_uhi-type-1.epw</th>\n",
       "    </tr>\n",
       "  </thead>\n",
       "  <tbody>\n",
       "    <tr>\n",
       "      <th>city</th>\n",
       "      <td>madrid</td>\n",
       "      <td>seville</td>\n",
       "    </tr>\n",
       "    <tr>\n",
       "      <th>uhi</th>\n",
       "      <td>uhi-type-2</td>\n",
       "      <td>uhi-type-1</td>\n",
       "    </tr>\n",
       "  </tbody>\n",
       "</table>\n",
       "</div>"
      ],
      "text/plain": [
       "     epws/w_pattern\\MAD_uhi-type-2.epw epws/w_pattern\\sevilla_uhi-type-1.epw\n",
       "city                            madrid                               seville\n",
       "uhi                         uhi-type-2                            uhi-type-1"
      ]
     },
     "execution_count": 8,
     "metadata": {},
     "output_type": "execute_result"
    }
   ],
   "source": [
    "import pandas as pd\n",
    "df = pd.DataFrame(workflow.epw_categories)\n",
    "df"
   ]
  },
  {
   "cell_type": "markdown",
   "metadata": {},
   "source": [
    "### Example 1.2: Using Keyword-Only Search\n",
    "\n",
    "However, if these are irregularly named files without a regex pattern, you should set the `input_filename_pattern` to `None`. Then, pyfwg will search the strings in the filenames and set the values according to the diccionary introduced in `keyword_mapping`. In this case, we have defined it as `mapping_rules`, so let's have a quick look at it:"
   ]
  },
  {
   "cell_type": "code",
   "execution_count": 9,
   "metadata": {},
   "outputs": [
    {
     "data": {
      "text/plain": [
       "{'city': {'seville': ['sevilla', 'SVQ'], 'madrid': ['madrid', 'MAD']},\n",
       " 'uhi': {'type-1': 'type-1', 'type-2': 'type-2'}}"
      ]
     },
     "execution_count": 9,
     "metadata": {},
     "output_type": "execute_result"
    }
   ],
   "source": [
    "mapping_rules"
   ]
  },
  {
   "cell_type": "markdown",
   "metadata": {},
   "source": [
    "In this example, pyfwg will create a category names 'city'. For that category, it will search the strings 'sevilla' and 'SVQ' in the epw filenames and if any of these matches, it will set the category value 'seville' for these. Let's continue and execute `map_categories` for files without regex pattern:"
   ]
  },
  {
   "cell_type": "code",
   "execution_count": 10,
   "metadata": {},
   "outputs": [
    {
     "name": "stderr",
     "output_type": "stream",
     "text": [
      "2025-08-16 09:26:50 - INFO - --- Step 1: Mapping categories from filenames ---\n",
      "2025-08-16 09:26:50 - INFO - Mapped 'epws/wo_pattern\\MAD_ICU-type-2.epw': {'city': 'madrid', 'uhi': 'type-2'}\n",
      "2025-08-16 09:26:50 - INFO - Mapped 'epws/wo_pattern\\sevilla_in_this_one_the_uhi_is_type-1.epw': {'city': 'seville', 'uhi': 'type-1'}\n",
      "2025-08-16 09:26:50 - INFO - Category mapping complete.\n"
     ]
    }
   ],
   "source": [
    "workflow.map_categories(\n",
    "    epw_files=epw_files_without_pattern,\n",
    "    input_filename_pattern=None,\n",
    "    keyword_mapping=mapping_rules\n",
    ")"
   ]
  },
  {
   "cell_type": "markdown",
   "metadata": {},
   "source": [
    "Again, the mapped categories are saved to the attribute `.epw_categories` as a dictionary."
   ]
  },
  {
   "cell_type": "code",
   "execution_count": 11,
   "metadata": {},
   "outputs": [
    {
     "data": {
      "text/plain": [
       "{'epws/wo_pattern\\\\MAD_ICU-type-2.epw': {'city': 'madrid', 'uhi': 'type-2'},\n",
       " 'epws/wo_pattern\\\\sevilla_in_this_one_the_uhi_is_type-1.epw': {'city': 'seville',\n",
       "  'uhi': 'type-1'}}"
      ]
     },
     "execution_count": 11,
     "metadata": {},
     "output_type": "execute_result"
    }
   ],
   "source": [
    "workflow.epw_categories"
   ]
  },
  {
   "cell_type": "markdown",
   "metadata": {},
   "source": [
    "Let's show it as a dataframe for a better visualization:"
   ]
  },
  {
   "cell_type": "code",
   "execution_count": 12,
   "metadata": {},
   "outputs": [
    {
     "data": {
      "text/html": [
       "<div>\n",
       "<style scoped>\n",
       "    .dataframe tbody tr th:only-of-type {\n",
       "        vertical-align: middle;\n",
       "    }\n",
       "\n",
       "    .dataframe tbody tr th {\n",
       "        vertical-align: top;\n",
       "    }\n",
       "\n",
       "    .dataframe thead th {\n",
       "        text-align: right;\n",
       "    }\n",
       "</style>\n",
       "<table border=\"1\" class=\"dataframe\">\n",
       "  <thead>\n",
       "    <tr style=\"text-align: right;\">\n",
       "      <th></th>\n",
       "      <th>epws/wo_pattern\\MAD_ICU-type-2.epw</th>\n",
       "      <th>epws/wo_pattern\\sevilla_in_this_one_the_uhi_is_type-1.epw</th>\n",
       "    </tr>\n",
       "  </thead>\n",
       "  <tbody>\n",
       "    <tr>\n",
       "      <th>city</th>\n",
       "      <td>madrid</td>\n",
       "      <td>seville</td>\n",
       "    </tr>\n",
       "    <tr>\n",
       "      <th>uhi</th>\n",
       "      <td>type-2</td>\n",
       "      <td>type-1</td>\n",
       "    </tr>\n",
       "  </tbody>\n",
       "</table>\n",
       "</div>"
      ],
      "text/plain": [
       "     epws/wo_pattern\\MAD_ICU-type-2.epw  \\\n",
       "city                             madrid   \n",
       "uhi                              type-2   \n",
       "\n",
       "     epws/wo_pattern\\sevilla_in_this_one_the_uhi_is_type-1.epw  \n",
       "city                                            seville         \n",
       "uhi                                              type-1         "
      ]
     },
     "execution_count": 12,
     "metadata": {},
     "output_type": "execute_result"
    }
   ],
   "source": [
    "import pandas as pd\n",
    "df = pd.DataFrame(workflow.epw_categories)\n",
    "df"
   ]
  },
  {
   "cell_type": "markdown",
   "metadata": {},
   "source": [
    "## Step 2: Preview the Rename Plan\n",
    "\n",
    "Now that the categories are mapped, we can generate a \"dry run\" plan to see exactly how our files will be renamed and organized. This step is crucial for catching errors before any computation happens.\n",
    "\n",
    "### `preview_rename_plan` Parameters\n",
    "\n",
    "*   `final_output_dir` (`str`): **Required.** The path to the directory where your final, renamed files will be saved.\n",
    "*   `output_filename_pattern` (`str`): **Required.** A template string for the final filenames. It uses placeholders in braces `{}` that **must match the category names** you defined in `map_categories`.\n",
    "    *   **CRITICAL:** This pattern **MUST** contain the placeholders `{ssp}` and `{year}` to prevent generated files from being overwritten.\n",
    "    *   *Example:* `'{city}_{uhi}_{ssp}_{year}'`\n",
    "*   `scenario_mapping` (`Optional[Dict]`, default: `None`): A dictionary to translate raw scenario names (e.g., `'ssp126'`) into a descriptive format (e.g., `'SSP1-2.6'`) for the `{ssp}` placeholder."
   ]
  },
  {
   "cell_type": "code",
   "execution_count": 13,
   "metadata": {},
   "outputs": [
    {
     "name": "stderr",
     "output_type": "stream",
     "text": [
      "2025-08-16 09:26:50 - INFO - --- Step 2: Generating rename and move plan ---\n"
     ]
    },
    {
     "name": "stdout",
     "output_type": "stream",
     "text": [
      "\n",
      "--- Running Step 2: preview_rename_plan ---\n",
      "\n",
      "============================================================\n",
      "          MORPHING AND RENAMING PREVIEW\n",
      "============================================================\n",
      "\n",
      "Final Output Directory: D:\\OneDrive - Universidad de Cádiz (uca.es)\\Python\\pyfwg\\final_results_workflow\n",
      "\n",
      "  For input file: MAD_ICU-type-2.epw\n",
      "    -> Generated 'ssp126_2050.epw' will be moved to: D:\\OneDrive - Universidad de Cádiz (uca.es)\\Python\\pyfwg\\final_results_workflow\\madrid_type-2_ssp126_2050.epw\n",
      "    -> Generated 'ssp245_2050.epw' will be moved to: D:\\OneDrive - Universidad de Cádiz (uca.es)\\Python\\pyfwg\\final_results_workflow\\madrid_type-2_SSP2-4.5_2050.epw\n",
      "    -> Generated 'ssp370_2050.epw' will be moved to: D:\\OneDrive - Universidad de Cádiz (uca.es)\\Python\\pyfwg\\final_results_workflow\\madrid_type-2_ssp370_2050.epw\n",
      "    -> Generated 'ssp585_2050.epw' will be moved to: D:\\OneDrive - Universidad de Cádiz (uca.es)\\Python\\pyfwg\\final_results_workflow\\madrid_type-2_SSP5-8.5_2050.epw\n",
      "    -> Generated 'ssp126_2080.epw' will be moved to: D:\\OneDrive - Universidad de Cádiz (uca.es)\\Python\\pyfwg\\final_results_workflow\\madrid_type-2_ssp126_2080.epw\n",
      "    -> Generated 'ssp245_2080.epw' will be moved to: D:\\OneDrive - Universidad de Cádiz (uca.es)\\Python\\pyfwg\\final_results_workflow\\madrid_type-2_SSP2-4.5_2080.epw\n",
      "    -> Generated 'ssp370_2080.epw' will be moved to: D:\\OneDrive - Universidad de Cádiz (uca.es)\\Python\\pyfwg\\final_results_workflow\\madrid_type-2_ssp370_2080.epw\n",
      "    -> Generated 'ssp585_2080.epw' will be moved to: D:\\OneDrive - Universidad de Cádiz (uca.es)\\Python\\pyfwg\\final_results_workflow\\madrid_type-2_SSP5-8.5_2080.epw\n",
      "\n",
      "  For input file: sevilla_in_this_one_the_uhi_is_type-1.epw\n",
      "    -> Generated 'ssp126_2050.epw' will be moved to: D:\\OneDrive - Universidad de Cádiz (uca.es)\\Python\\pyfwg\\final_results_workflow\\seville_type-1_ssp126_2050.epw\n",
      "    -> Generated 'ssp245_2050.epw' will be moved to: D:\\OneDrive - Universidad de Cádiz (uca.es)\\Python\\pyfwg\\final_results_workflow\\seville_type-1_SSP2-4.5_2050.epw\n",
      "    -> Generated 'ssp370_2050.epw' will be moved to: D:\\OneDrive - Universidad de Cádiz (uca.es)\\Python\\pyfwg\\final_results_workflow\\seville_type-1_ssp370_2050.epw\n",
      "    -> Generated 'ssp585_2050.epw' will be moved to: D:\\OneDrive - Universidad de Cádiz (uca.es)\\Python\\pyfwg\\final_results_workflow\\seville_type-1_SSP5-8.5_2050.epw\n",
      "    -> Generated 'ssp126_2080.epw' will be moved to: D:\\OneDrive - Universidad de Cádiz (uca.es)\\Python\\pyfwg\\final_results_workflow\\seville_type-1_ssp126_2080.epw\n",
      "    -> Generated 'ssp245_2080.epw' will be moved to: D:\\OneDrive - Universidad de Cádiz (uca.es)\\Python\\pyfwg\\final_results_workflow\\seville_type-1_SSP2-4.5_2080.epw\n",
      "    -> Generated 'ssp370_2080.epw' will be moved to: D:\\OneDrive - Universidad de Cádiz (uca.es)\\Python\\pyfwg\\final_results_workflow\\seville_type-1_ssp370_2080.epw\n",
      "    -> Generated 'ssp585_2080.epw' will be moved to: D:\\OneDrive - Universidad de Cádiz (uca.es)\\Python\\pyfwg\\final_results_workflow\\seville_type-1_SSP5-8.5_2080.epw\n",
      "============================================================\n",
      "Preview complete. If this plan is correct, call set_morphing_config().\n"
     ]
    }
   ],
   "source": [
    "print(\"\\n--- Running Step 2: preview_rename_plan ---\")\n",
    "\n",
    "# We will continue with the 'workflow' object from the first example.\n",
    "workflow.preview_rename_plan(\n",
    "    final_output_dir='./final_results_workflow',\n",
    "    # The placeholders {city} and {uhi} match the pattern's capture group names\n",
    "    output_filename_pattern='{city}_{uhi}_{ssp}_{year}',\n",
    "    # The {ssp} placeholder will be populated from this mapping\n",
    "    # In this case, we are going to rename only the SSP scenarios 2 and 5; \n",
    "    # you'll be able to see the diferences with SSP! and SSP3, which won't be renamed.\n",
    "    scenario_mapping={'ssp245': 'SSP2-4.5', 'ssp585': 'SSP5-8.5'} \n",
    ")"
   ]
  },
  {
   "cell_type": "markdown",
   "metadata": {},
   "source": [
    "The rename plan is saved as a dictionary for each epw in the attribute `.rename_plan`. Let's have a look:"
   ]
  },
  {
   "cell_type": "code",
   "execution_count": 14,
   "metadata": {},
   "outputs": [
    {
     "data": {
      "text/plain": [
       "{'epws/wo_pattern\\\\MAD_ICU-type-2.epw': {'ssp126_2050.epw': './final_results_workflow\\\\madrid_type-2_ssp126_2050.epw',\n",
       "  'ssp245_2050.epw': './final_results_workflow\\\\madrid_type-2_SSP2-4.5_2050.epw',\n",
       "  'ssp370_2050.epw': './final_results_workflow\\\\madrid_type-2_ssp370_2050.epw',\n",
       "  'ssp585_2050.epw': './final_results_workflow\\\\madrid_type-2_SSP5-8.5_2050.epw',\n",
       "  'ssp126_2080.epw': './final_results_workflow\\\\madrid_type-2_ssp126_2080.epw',\n",
       "  'ssp245_2080.epw': './final_results_workflow\\\\madrid_type-2_SSP2-4.5_2080.epw',\n",
       "  'ssp370_2080.epw': './final_results_workflow\\\\madrid_type-2_ssp370_2080.epw',\n",
       "  'ssp585_2080.epw': './final_results_workflow\\\\madrid_type-2_SSP5-8.5_2080.epw'},\n",
       " 'epws/wo_pattern\\\\sevilla_in_this_one_the_uhi_is_type-1.epw': {'ssp126_2050.epw': './final_results_workflow\\\\seville_type-1_ssp126_2050.epw',\n",
       "  'ssp245_2050.epw': './final_results_workflow\\\\seville_type-1_SSP2-4.5_2050.epw',\n",
       "  'ssp370_2050.epw': './final_results_workflow\\\\seville_type-1_ssp370_2050.epw',\n",
       "  'ssp585_2050.epw': './final_results_workflow\\\\seville_type-1_SSP5-8.5_2050.epw',\n",
       "  'ssp126_2080.epw': './final_results_workflow\\\\seville_type-1_ssp126_2080.epw',\n",
       "  'ssp245_2080.epw': './final_results_workflow\\\\seville_type-1_SSP2-4.5_2080.epw',\n",
       "  'ssp370_2080.epw': './final_results_workflow\\\\seville_type-1_ssp370_2080.epw',\n",
       "  'ssp585_2080.epw': './final_results_workflow\\\\seville_type-1_SSP5-8.5_2080.epw'}}"
      ]
     },
     "execution_count": 14,
     "metadata": {},
     "output_type": "execute_result"
    }
   ],
   "source": [
    "workflow.rename_plan"
   ]
  },
  {
   "cell_type": "markdown",
   "metadata": {},
   "source": [
    "## Step 3: Set the Morphing Configuration\n",
    "\n",
    "This is the final configuration step. Here, you define all the parameters for the FutureWeatherGenerator tool itself and control the workflow's behavior (e.g., whether to delete temporary files).\n",
    "\n",
    "### `set_morphing_config` Parameters\n",
    "\n",
    "*   `fwg_jar_path` (`str`): **Required.** The path to the `FutureWeatherGenerator_v3.0.0.jar` file.\n",
    "*   `run_incomplete_files` (`bool`, default: `False`): If `True`, the workflow will also process files that were only partially categorized.\n",
    "*   `delete_temp_files` (`bool`, default: `True`): If `True`, temporary folders are deleted after processing.\n",
    "*   `temp_base_dir` (`str`, default: `'./morphing_temp_results'`): The base directory where temporary folders will be created.\n",
    "*   `fwg_show_tool_output` (`bool`, default: `False`): If `True`, prints the FWG tool's console output in real-time. Highly recommended for monitoring progress.\n",
    "*   `fwg_params` (`Optional[Dict]`, default: `None`): A dictionary for providing a base set of FWG parameters. Any explicit `fwg_` argument will override the values in this dictionary.\n",
    "\n",
    "> **Note:** The `fwg_show_tool_output` argument and all other `fwg_` arguments (e.g., `fwg_gcms`, `fwg_interpolation_method_id`, etc.) are identical to the ones in the `morph_epw` function. You can refer to the other notebook for a full list, or inspect the function's docstring.\n",
    "\n",
    "### FutureWeatherGenerator Tool Parameters\n",
    "\n",
    "These arguments correspond directly to the options in the FWG command-line tool.\n",
    "\n",
    "*   `fwg_gcms` (`Optional[List[str]]`, default: `None`): A list of GCMs to use. If `None`, the full default list is used to create an ensemble.\n",
    "*   `fwg_create_ensemble` (`bool`, default: `True`): If `True`, creates an ensemble from the selected GCMs (Argument: `%ensemble%`).\n",
    "*   `fwg_winter_sd_shift` (`float`, default: `0.0`): Temperature's standard deviation shift for the winter peak month. Range: -2.0 to 2.0.\n",
    "*   `fwg_summer_sd_shift` (`float`, default: `0.0`): Temperature's standard deviation shift for the summer peak month. Range: -2.0 to 2.0.\n",
    "*   `fwg_month_transition_hours` (`int`, default: `72`): Number of hours to smooth the transition between months. Range: 0 to 336.\n",
    "*   `fwg_use_multithreading` (`bool`, default: `True`): If `True`, performs computations in multithread (Argument: `%do_multithred_computation%`).\n",
    "*   `fwg_interpolation_method_id` (`int`, default: `0`): Selects the grid method. Options: `0` (inversed distance weighting), `1` (average of four nearest points), `2` (nearest point).\n",
    "*   `fwg_limit_variables` (`bool`, default: `True`): If `True`, bounds each generated variable to its physical limits (Argument: `%do_limit_variables%`).\n",
    "*   `fwg_solar_hour_adjustment` (`int`, default: `1`): Option for solar hour adjustment. Options: `0` (None), `1` (ByMonth), `2` (ByDay).\n",
    "*   `fwg_diffuse_irradiation_model` (`int`, default: `1`): Option for diffuse solar irradiation model. Options: `0` (Ridley), `1` (Engerer), `2` (Paulescu).\n",
    "*   `fwg_add_uhi` (`bool`, default: `True`): Option to pre-process the Urban Heat Island (UHI) effect.\n",
    "*   `fwg_epw_original_lcz` (`int`, default: `14`): The Local Climate Zone (LCZ) of the original EPW. Range: 1 to 17.\n",
    "*   `fwg_target_uhi_lcz` (`int`, default: `1`): The target LCZ of the generated EPW. Range: 1 to 17.\n",
    "\n",
    "\n",
    "\n",
    "You can also import the list of all valid GCMs to help you choose:\n",
    "```python\n",
    "from pyfwg import DEFAULT_GCMS\n",
    "print(DEFAULT_GCMS)\n",
    "```"
   ]
  },
  {
   "cell_type": "code",
   "execution_count": 15,
   "metadata": {},
   "outputs": [
    {
     "name": "stderr",
     "output_type": "stream",
     "text": [
      "2025-08-16 09:26:50 - INFO - --- Step 3: Setting and Validating Morphing Configuration ---\n"
     ]
    },
    {
     "name": "stdout",
     "output_type": "stream",
     "text": [
      "\n",
      "--- Running Step 3: set_morphing_config ---\n",
      "Available GCMs: {'BCC_CSM2_MR', 'GISS_E2_1_G', 'EC_Earth3', 'GFDL_ESM4', 'CNRM_CM6_1', 'CanESM5_1', 'EC_Earth3_Veg_LR', 'UKESM1_0_LL', 'MIROC_ES2L', 'EC_Earth3_Veg', 'IPSL_CM6A_LR', 'CanESM5_CanOE', 'CNRM_ESM2_1', 'GISS_E2_1_H', 'CanESM5', 'CNRM_CM6_1_HR', 'GISS_E2_2_G', 'CMCC_ESM2', 'MRI_ESM2_0', 'FGOALS_g3', 'MIROC_ES2H', 'MIROC6', 'CAS_ESM2_0'}\n",
      "\n",
      "============================================================\n",
      "          MORPHING CONFIGURATION REVIEW\n",
      "============================================================\n",
      "  - FWG JAR Path: D:\\OneDrive - Universidad de Cádiz (uca.es)\\Programas\\FutureWeatherGenerator_v3.0.0.jar\n",
      "  - Run Incomplete Files: False\n",
      "  - Delete Temporary Files: False\n",
      "  - Show Tool Output: True\n",
      "\n",
      "  - EPWs to be Morphed (2 files):\n",
      "    - MAD_ICU-type-2.epw\n",
      "    - sevilla_in_this_one_the_uhi_is_type-1.epw\n",
      "\n",
      "  --- Final Formatted FWG Parameters ---\n",
      "    - gcms: BCC_CSM2_MR\n",
      "    - ensemble: 1\n",
      "    - sd_shift: 0.0:0.0\n",
      "    - month_transition_hours: 72\n",
      "    - do_multithred_computation: true\n",
      "    - interpolation_method_id: 0\n",
      "    - do_limit_variables: true\n",
      "    - solar_hour_adjustment_option: 1\n",
      "    - diffuse_irradiation_model_option: 1\n",
      "    - uhi_combined: 1:14:1\n",
      "============================================================\n",
      "Configuration set. Call execute_morphing() to start the process.\n"
     ]
    }
   ],
   "source": [
    "print(\"\\n--- Running Step 3: set_morphing_config ---\")\n",
    "\n",
    "from pyfwg import DEFAULT_GCMS\n",
    "print(\"Available GCMs:\", DEFAULT_GCMS)\n",
    "\n",
    "workflow.set_morphing_config(\n",
    "    fwg_jar_path=jar_path,\n",
    "    run_incomplete_files=False,\n",
    "    delete_temp_files=False, # Set to False for debugging\n",
    "    fwg_show_tool_output=True,\n",
    "    fwg_gcms=['BCC_CSM2_MR'], # Use just one GCM for a quick test\n",
    "    temp_base_dir=r'D:\\temp_pyfwg_workflow' # Use a full path for clarity\n",
    ")"
   ]
  },
  {
   "cell_type": "markdown",
   "metadata": {},
   "source": [
    "## Step 4: Execute the Morphing Process\n",
    "\n",
    "This is the final step. The `execute_morphing` method takes **no arguments**. It acts as the \"Go\" button, running the entire process based on the configuration from the previous three steps.\n",
    "\n",
    "As a safeguard, it will raise an error if the configuration is invalid, so it's good practice to check the `is_config_valid` flag first."
   ]
  },
  {
   "cell_type": "code",
   "execution_count": 16,
   "metadata": {},
   "outputs": [
    {
     "name": "stderr",
     "output_type": "stream",
     "text": [
      "2025-08-16 09:26:50 - INFO - --- Step 4: Executing morphing workflow ---\n",
      "2025-08-16 09:26:50 - INFO - Copied input file to temporary directory: D:\\temp_pyfwg_workflow\\MAD_ICU-type-2\\MAD_ICU-type-2.epw\n"
     ]
    },
    {
     "name": "stdout",
     "output_type": "stream",
     "text": [
      "\n",
      "--- Running Step 4: execute_morphing ---\n",
      "\n",
      "-------------------- Executing FWG for MAD_ICU-type-2.epw --------------------\n",
      "  Full Command: java -cp D:\\OneDrive - Universidad de Cádiz (uca.es)\\Programas\\FutureWeatherGenerator_v3.0.0.jar futureweathergenerator.Morph D:\\temp_pyfwg_workflow\\MAD_ICU-type-2\\MAD_ICU-type-2.epw BCC_CSM2_MR 1 0.0:0.0 72 D:\\temp_pyfwg_workflow\\MAD_ICU-type-2\\ true 0 true 1 1 1:14:1\n",
      "  --- FWG Real-time Output ---\n"
     ]
    },
    {
     "name": "stderr",
     "output_type": "stream",
     "text": [
      "2025-08-16 09:27:25 - INFO - Processing generated files in: D:\\temp_pyfwg_workflow\\MAD_ICU-type-2\n",
      "2025-08-16 09:27:25 - INFO - Skipping auxiliary file: 'ESP_-_SEVILLA_BCC_CSM2_MR_ssp126_2050_GridPointVariables.csv'\n",
      "2025-08-16 09:27:25 - INFO - Skipping auxiliary file: 'ESP_-_SEVILLA_BCC_CSM2_MR_ssp126_2080_GridPointVariables.csv'\n",
      "2025-08-16 09:27:25 - INFO - Skipping auxiliary file: 'ESP_-_SEVILLA_BCC_CSM2_MR_ssp245_2050_GridPointVariables.csv'\n",
      "2025-08-16 09:27:25 - INFO - Skipping auxiliary file: 'ESP_-_SEVILLA_BCC_CSM2_MR_ssp245_2080_GridPointVariables.csv'\n",
      "2025-08-16 09:27:25 - INFO - Skipping auxiliary file: 'ESP_-_SEVILLA_BCC_CSM2_MR_ssp370_2050_GridPointVariables.csv'\n",
      "2025-08-16 09:27:25 - INFO - Skipping auxiliary file: 'ESP_-_SEVILLA_BCC_CSM2_MR_ssp370_2080_GridPointVariables.csv'\n",
      "2025-08-16 09:27:25 - INFO - Skipping auxiliary file: 'ESP_-_SEVILLA_BCC_CSM2_MR_ssp585_2050_GridPointVariables.csv'\n",
      "2025-08-16 09:27:25 - INFO - Skipping auxiliary file: 'ESP_-_SEVILLA_BCC_CSM2_MR_ssp585_2080_GridPointVariables.csv'\n",
      "2025-08-16 09:27:25 - INFO - Moving 'D:\\temp_pyfwg_workflow\\MAD_ICU-type-2\\ESP_-_SEVILLA_Ensemble_ssp126_2050.epw' to './final_results_workflow\\madrid_type-2_ssp126_2050.epw'\n",
      "2025-08-16 09:27:25 - INFO - Moving 'D:\\temp_pyfwg_workflow\\MAD_ICU-type-2\\ESP_-_SEVILLA_Ensemble_ssp126_2050.stat' to './final_results_workflow\\madrid_type-2_ssp126_2050.stat'\n",
      "2025-08-16 09:27:25 - INFO - Skipping auxiliary file: 'ESP_-_SEVILLA_Ensemble_ssp126_2050_ErrorsAndWarnings.log'\n",
      "2025-08-16 09:27:25 - INFO - Skipping auxiliary file: 'ESP_-_SEVILLA_Ensemble_ssp126_2050_GridPointVariables.csv'\n",
      "2025-08-16 09:27:25 - INFO - Skipping auxiliary file: 'ESP_-_SEVILLA_Ensemble_ssp126_2050_MorphedEPWsComparison.csv'\n",
      "2025-08-16 09:27:25 - INFO - Moving 'D:\\temp_pyfwg_workflow\\MAD_ICU-type-2\\ESP_-_SEVILLA_Ensemble_ssp126_2080.epw' to './final_results_workflow\\madrid_type-2_ssp126_2080.epw'\n",
      "2025-08-16 09:27:25 - INFO - Moving 'D:\\temp_pyfwg_workflow\\MAD_ICU-type-2\\ESP_-_SEVILLA_Ensemble_ssp126_2080.stat' to './final_results_workflow\\madrid_type-2_ssp126_2080.stat'\n",
      "2025-08-16 09:27:25 - INFO - Skipping auxiliary file: 'ESP_-_SEVILLA_Ensemble_ssp126_2080_ErrorsAndWarnings.log'\n",
      "2025-08-16 09:27:25 - INFO - Skipping auxiliary file: 'ESP_-_SEVILLA_Ensemble_ssp126_2080_GridPointVariables.csv'\n",
      "2025-08-16 09:27:25 - INFO - Skipping auxiliary file: 'ESP_-_SEVILLA_Ensemble_ssp126_2080_MorphedEPWsComparison.csv'\n",
      "2025-08-16 09:27:25 - INFO - Moving 'D:\\temp_pyfwg_workflow\\MAD_ICU-type-2\\ESP_-_SEVILLA_Ensemble_ssp245_2050.epw' to './final_results_workflow\\madrid_type-2_SSP2-4.5_2050.epw'\n",
      "2025-08-16 09:27:25 - INFO - Moving 'D:\\temp_pyfwg_workflow\\MAD_ICU-type-2\\ESP_-_SEVILLA_Ensemble_ssp245_2050.stat' to './final_results_workflow\\madrid_type-2_SSP2-4.5_2050.stat'\n",
      "2025-08-16 09:27:25 - INFO - Skipping auxiliary file: 'ESP_-_SEVILLA_Ensemble_ssp245_2050_ErrorsAndWarnings.log'\n",
      "2025-08-16 09:27:25 - INFO - Skipping auxiliary file: 'ESP_-_SEVILLA_Ensemble_ssp245_2050_GridPointVariables.csv'\n",
      "2025-08-16 09:27:25 - INFO - Skipping auxiliary file: 'ESP_-_SEVILLA_Ensemble_ssp245_2050_MorphedEPWsComparison.csv'\n",
      "2025-08-16 09:27:25 - INFO - Moving 'D:\\temp_pyfwg_workflow\\MAD_ICU-type-2\\ESP_-_SEVILLA_Ensemble_ssp245_2080.epw' to './final_results_workflow\\madrid_type-2_SSP2-4.5_2080.epw'\n",
      "2025-08-16 09:27:25 - INFO - Moving 'D:\\temp_pyfwg_workflow\\MAD_ICU-type-2\\ESP_-_SEVILLA_Ensemble_ssp245_2080.stat' to './final_results_workflow\\madrid_type-2_SSP2-4.5_2080.stat'\n",
      "2025-08-16 09:27:25 - INFO - Skipping auxiliary file: 'ESP_-_SEVILLA_Ensemble_ssp245_2080_ErrorsAndWarnings.log'\n",
      "2025-08-16 09:27:25 - INFO - Skipping auxiliary file: 'ESP_-_SEVILLA_Ensemble_ssp245_2080_GridPointVariables.csv'\n",
      "2025-08-16 09:27:25 - INFO - Skipping auxiliary file: 'ESP_-_SEVILLA_Ensemble_ssp245_2080_MorphedEPWsComparison.csv'\n",
      "2025-08-16 09:27:25 - INFO - Moving 'D:\\temp_pyfwg_workflow\\MAD_ICU-type-2\\ESP_-_SEVILLA_Ensemble_ssp370_2050.epw' to './final_results_workflow\\madrid_type-2_ssp370_2050.epw'\n",
      "2025-08-16 09:27:25 - INFO - Moving 'D:\\temp_pyfwg_workflow\\MAD_ICU-type-2\\ESP_-_SEVILLA_Ensemble_ssp370_2050.stat' to './final_results_workflow\\madrid_type-2_ssp370_2050.stat'\n",
      "2025-08-16 09:27:25 - INFO - Skipping auxiliary file: 'ESP_-_SEVILLA_Ensemble_ssp370_2050_ErrorsAndWarnings.log'\n",
      "2025-08-16 09:27:25 - INFO - Skipping auxiliary file: 'ESP_-_SEVILLA_Ensemble_ssp370_2050_GridPointVariables.csv'\n",
      "2025-08-16 09:27:25 - INFO - Skipping auxiliary file: 'ESP_-_SEVILLA_Ensemble_ssp370_2050_MorphedEPWsComparison.csv'\n",
      "2025-08-16 09:27:25 - INFO - Moving 'D:\\temp_pyfwg_workflow\\MAD_ICU-type-2\\ESP_-_SEVILLA_Ensemble_ssp370_2080.epw' to './final_results_workflow\\madrid_type-2_ssp370_2080.epw'\n",
      "2025-08-16 09:27:25 - INFO - Moving 'D:\\temp_pyfwg_workflow\\MAD_ICU-type-2\\ESP_-_SEVILLA_Ensemble_ssp370_2080.stat' to './final_results_workflow\\madrid_type-2_ssp370_2080.stat'\n"
     ]
    },
    {
     "name": "stdout",
     "output_type": "stream",
     "text": [
      "  --- End of FWG Output ---\n"
     ]
    },
    {
     "name": "stderr",
     "output_type": "stream",
     "text": [
      "2025-08-16 09:27:25 - INFO - Skipping auxiliary file: 'ESP_-_SEVILLA_Ensemble_ssp370_2080_ErrorsAndWarnings.log'\n",
      "2025-08-16 09:27:25 - INFO - Skipping auxiliary file: 'ESP_-_SEVILLA_Ensemble_ssp370_2080_GridPointVariables.csv'\n",
      "2025-08-16 09:27:25 - INFO - Skipping auxiliary file: 'ESP_-_SEVILLA_Ensemble_ssp370_2080_MorphedEPWsComparison.csv'\n",
      "2025-08-16 09:27:25 - INFO - Moving 'D:\\temp_pyfwg_workflow\\MAD_ICU-type-2\\ESP_-_SEVILLA_Ensemble_ssp585_2050.epw' to './final_results_workflow\\madrid_type-2_SSP5-8.5_2050.epw'\n",
      "2025-08-16 09:27:25 - INFO - Moving 'D:\\temp_pyfwg_workflow\\MAD_ICU-type-2\\ESP_-_SEVILLA_Ensemble_ssp585_2050.stat' to './final_results_workflow\\madrid_type-2_SSP5-8.5_2050.stat'\n",
      "2025-08-16 09:27:25 - INFO - Skipping auxiliary file: 'ESP_-_SEVILLA_Ensemble_ssp585_2050_ErrorsAndWarnings.log'\n",
      "2025-08-16 09:27:25 - INFO - Skipping auxiliary file: 'ESP_-_SEVILLA_Ensemble_ssp585_2050_GridPointVariables.csv'\n",
      "2025-08-16 09:27:25 - INFO - Skipping auxiliary file: 'ESP_-_SEVILLA_Ensemble_ssp585_2050_MorphedEPWsComparison.csv'\n",
      "2025-08-16 09:27:25 - INFO - Moving 'D:\\temp_pyfwg_workflow\\MAD_ICU-type-2\\ESP_-_SEVILLA_Ensemble_ssp585_2080.epw' to './final_results_workflow\\madrid_type-2_SSP5-8.5_2080.epw'\n",
      "2025-08-16 09:27:25 - INFO - Moving 'D:\\temp_pyfwg_workflow\\MAD_ICU-type-2\\ESP_-_SEVILLA_Ensemble_ssp585_2080.stat' to './final_results_workflow\\madrid_type-2_SSP5-8.5_2080.stat'\n",
      "2025-08-16 09:27:25 - INFO - Skipping auxiliary file: 'ESP_-_SEVILLA_Ensemble_ssp585_2080_ErrorsAndWarnings.log'\n",
      "2025-08-16 09:27:25 - INFO - Skipping auxiliary file: 'ESP_-_SEVILLA_Ensemble_ssp585_2080_GridPointVariables.csv'\n",
      "2025-08-16 09:27:25 - INFO - Skipping auxiliary file: 'ESP_-_SEVILLA_Ensemble_ssp585_2080_MorphedEPWsComparison.csv'\n",
      "2025-08-16 09:27:25 - INFO - Copied input file to temporary directory: D:\\temp_pyfwg_workflow\\sevilla_in_this_one_the_uhi_is_type-1\\sevilla_in_this_one_the_uhi_is_type-1.epw\n"
     ]
    },
    {
     "name": "stdout",
     "output_type": "stream",
     "text": [
      "\n",
      "-------------------- Executing FWG for sevilla_in_this_one_the_uhi_is_type-1.epw --------------------\n",
      "  Full Command: java -cp D:\\OneDrive - Universidad de Cádiz (uca.es)\\Programas\\FutureWeatherGenerator_v3.0.0.jar futureweathergenerator.Morph D:\\temp_pyfwg_workflow\\sevilla_in_this_one_the_uhi_is_type-1\\sevilla_in_this_one_the_uhi_is_type-1.epw BCC_CSM2_MR 1 0.0:0.0 72 D:\\temp_pyfwg_workflow\\sevilla_in_this_one_the_uhi_is_type-1\\ true 0 true 1 1 1:14:1\n",
      "  --- FWG Real-time Output ---\n"
     ]
    },
    {
     "name": "stderr",
     "output_type": "stream",
     "text": [
      "2025-08-16 09:28:01 - INFO - Processing generated files in: D:\\temp_pyfwg_workflow\\sevilla_in_this_one_the_uhi_is_type-1\n",
      "2025-08-16 09:28:01 - INFO - Skipping auxiliary file: 'ESP_-_SEVILLA_BCC_CSM2_MR_ssp126_2050_GridPointVariables.csv'\n",
      "2025-08-16 09:28:01 - INFO - Skipping auxiliary file: 'ESP_-_SEVILLA_BCC_CSM2_MR_ssp126_2080_GridPointVariables.csv'\n",
      "2025-08-16 09:28:01 - INFO - Skipping auxiliary file: 'ESP_-_SEVILLA_BCC_CSM2_MR_ssp245_2050_GridPointVariables.csv'\n",
      "2025-08-16 09:28:01 - INFO - Skipping auxiliary file: 'ESP_-_SEVILLA_BCC_CSM2_MR_ssp245_2080_GridPointVariables.csv'\n",
      "2025-08-16 09:28:01 - INFO - Skipping auxiliary file: 'ESP_-_SEVILLA_BCC_CSM2_MR_ssp370_2050_GridPointVariables.csv'\n",
      "2025-08-16 09:28:01 - INFO - Skipping auxiliary file: 'ESP_-_SEVILLA_BCC_CSM2_MR_ssp370_2080_GridPointVariables.csv'\n",
      "2025-08-16 09:28:01 - INFO - Skipping auxiliary file: 'ESP_-_SEVILLA_BCC_CSM2_MR_ssp585_2050_GridPointVariables.csv'\n",
      "2025-08-16 09:28:01 - INFO - Skipping auxiliary file: 'ESP_-_SEVILLA_BCC_CSM2_MR_ssp585_2080_GridPointVariables.csv'\n",
      "2025-08-16 09:28:01 - INFO - Moving 'D:\\temp_pyfwg_workflow\\sevilla_in_this_one_the_uhi_is_type-1\\ESP_-_SEVILLA_Ensemble_ssp126_2050.epw' to './final_results_workflow\\seville_type-1_ssp126_2050.epw'\n",
      "2025-08-16 09:28:01 - INFO - Moving 'D:\\temp_pyfwg_workflow\\sevilla_in_this_one_the_uhi_is_type-1\\ESP_-_SEVILLA_Ensemble_ssp126_2050.stat' to './final_results_workflow\\seville_type-1_ssp126_2050.stat'\n",
      "2025-08-16 09:28:01 - INFO - Skipping auxiliary file: 'ESP_-_SEVILLA_Ensemble_ssp126_2050_ErrorsAndWarnings.log'\n",
      "2025-08-16 09:28:01 - INFO - Skipping auxiliary file: 'ESP_-_SEVILLA_Ensemble_ssp126_2050_GridPointVariables.csv'\n",
      "2025-08-16 09:28:01 - INFO - Skipping auxiliary file: 'ESP_-_SEVILLA_Ensemble_ssp126_2050_MorphedEPWsComparison.csv'\n",
      "2025-08-16 09:28:01 - INFO - Moving 'D:\\temp_pyfwg_workflow\\sevilla_in_this_one_the_uhi_is_type-1\\ESP_-_SEVILLA_Ensemble_ssp126_2080.epw' to './final_results_workflow\\seville_type-1_ssp126_2080.epw'\n",
      "2025-08-16 09:28:01 - INFO - Moving 'D:\\temp_pyfwg_workflow\\sevilla_in_this_one_the_uhi_is_type-1\\ESP_-_SEVILLA_Ensemble_ssp126_2080.stat' to './final_results_workflow\\seville_type-1_ssp126_2080.stat'\n",
      "2025-08-16 09:28:01 - INFO - Skipping auxiliary file: 'ESP_-_SEVILLA_Ensemble_ssp126_2080_ErrorsAndWarnings.log'\n",
      "2025-08-16 09:28:01 - INFO - Skipping auxiliary file: 'ESP_-_SEVILLA_Ensemble_ssp126_2080_GridPointVariables.csv'\n",
      "2025-08-16 09:28:01 - INFO - Skipping auxiliary file: 'ESP_-_SEVILLA_Ensemble_ssp126_2080_MorphedEPWsComparison.csv'\n",
      "2025-08-16 09:28:01 - INFO - Moving 'D:\\temp_pyfwg_workflow\\sevilla_in_this_one_the_uhi_is_type-1\\ESP_-_SEVILLA_Ensemble_ssp245_2050.epw' to './final_results_workflow\\seville_type-1_SSP2-4.5_2050.epw'\n",
      "2025-08-16 09:28:01 - INFO - Moving 'D:\\temp_pyfwg_workflow\\sevilla_in_this_one_the_uhi_is_type-1\\ESP_-_SEVILLA_Ensemble_ssp245_2050.stat' to './final_results_workflow\\seville_type-1_SSP2-4.5_2050.stat'\n",
      "2025-08-16 09:28:01 - INFO - Skipping auxiliary file: 'ESP_-_SEVILLA_Ensemble_ssp245_2050_ErrorsAndWarnings.log'\n",
      "2025-08-16 09:28:01 - INFO - Skipping auxiliary file: 'ESP_-_SEVILLA_Ensemble_ssp245_2050_GridPointVariables.csv'\n",
      "2025-08-16 09:28:01 - INFO - Skipping auxiliary file: 'ESP_-_SEVILLA_Ensemble_ssp245_2050_MorphedEPWsComparison.csv'\n",
      "2025-08-16 09:28:01 - INFO - Moving 'D:\\temp_pyfwg_workflow\\sevilla_in_this_one_the_uhi_is_type-1\\ESP_-_SEVILLA_Ensemble_ssp245_2080.epw' to './final_results_workflow\\seville_type-1_SSP2-4.5_2080.epw'\n",
      "2025-08-16 09:28:01 - INFO - Moving 'D:\\temp_pyfwg_workflow\\sevilla_in_this_one_the_uhi_is_type-1\\ESP_-_SEVILLA_Ensemble_ssp245_2080.stat' to './final_results_workflow\\seville_type-1_SSP2-4.5_2080.stat'\n",
      "2025-08-16 09:28:01 - INFO - Skipping auxiliary file: 'ESP_-_SEVILLA_Ensemble_ssp245_2080_ErrorsAndWarnings.log'\n",
      "2025-08-16 09:28:01 - INFO - Skipping auxiliary file: 'ESP_-_SEVILLA_Ensemble_ssp245_2080_GridPointVariables.csv'\n",
      "2025-08-16 09:28:01 - INFO - Skipping auxiliary file: 'ESP_-_SEVILLA_Ensemble_ssp245_2080_MorphedEPWsComparison.csv'\n"
     ]
    },
    {
     "name": "stdout",
     "output_type": "stream",
     "text": [
      "  --- End of FWG Output ---\n"
     ]
    },
    {
     "name": "stderr",
     "output_type": "stream",
     "text": [
      "2025-08-16 09:28:01 - INFO - Moving 'D:\\temp_pyfwg_workflow\\sevilla_in_this_one_the_uhi_is_type-1\\ESP_-_SEVILLA_Ensemble_ssp370_2050.epw' to './final_results_workflow\\seville_type-1_ssp370_2050.epw'\n",
      "2025-08-16 09:28:01 - INFO - Moving 'D:\\temp_pyfwg_workflow\\sevilla_in_this_one_the_uhi_is_type-1\\ESP_-_SEVILLA_Ensemble_ssp370_2050.stat' to './final_results_workflow\\seville_type-1_ssp370_2050.stat'\n",
      "2025-08-16 09:28:01 - INFO - Skipping auxiliary file: 'ESP_-_SEVILLA_Ensemble_ssp370_2050_ErrorsAndWarnings.log'\n",
      "2025-08-16 09:28:01 - INFO - Skipping auxiliary file: 'ESP_-_SEVILLA_Ensemble_ssp370_2050_GridPointVariables.csv'\n",
      "2025-08-16 09:28:01 - INFO - Skipping auxiliary file: 'ESP_-_SEVILLA_Ensemble_ssp370_2050_MorphedEPWsComparison.csv'\n",
      "2025-08-16 09:28:01 - INFO - Moving 'D:\\temp_pyfwg_workflow\\sevilla_in_this_one_the_uhi_is_type-1\\ESP_-_SEVILLA_Ensemble_ssp370_2080.epw' to './final_results_workflow\\seville_type-1_ssp370_2080.epw'\n",
      "2025-08-16 09:28:01 - INFO - Moving 'D:\\temp_pyfwg_workflow\\sevilla_in_this_one_the_uhi_is_type-1\\ESP_-_SEVILLA_Ensemble_ssp370_2080.stat' to './final_results_workflow\\seville_type-1_ssp370_2080.stat'\n",
      "2025-08-16 09:28:01 - INFO - Skipping auxiliary file: 'ESP_-_SEVILLA_Ensemble_ssp370_2080_ErrorsAndWarnings.log'\n",
      "2025-08-16 09:28:01 - INFO - Skipping auxiliary file: 'ESP_-_SEVILLA_Ensemble_ssp370_2080_GridPointVariables.csv'\n",
      "2025-08-16 09:28:01 - INFO - Skipping auxiliary file: 'ESP_-_SEVILLA_Ensemble_ssp370_2080_MorphedEPWsComparison.csv'\n",
      "2025-08-16 09:28:01 - INFO - Moving 'D:\\temp_pyfwg_workflow\\sevilla_in_this_one_the_uhi_is_type-1\\ESP_-_SEVILLA_Ensemble_ssp585_2050.epw' to './final_results_workflow\\seville_type-1_SSP5-8.5_2050.epw'\n",
      "2025-08-16 09:28:01 - INFO - Moving 'D:\\temp_pyfwg_workflow\\sevilla_in_this_one_the_uhi_is_type-1\\ESP_-_SEVILLA_Ensemble_ssp585_2050.stat' to './final_results_workflow\\seville_type-1_SSP5-8.5_2050.stat'\n",
      "2025-08-16 09:28:01 - INFO - Skipping auxiliary file: 'ESP_-_SEVILLA_Ensemble_ssp585_2050_ErrorsAndWarnings.log'\n",
      "2025-08-16 09:28:01 - INFO - Skipping auxiliary file: 'ESP_-_SEVILLA_Ensemble_ssp585_2050_GridPointVariables.csv'\n",
      "2025-08-16 09:28:01 - INFO - Skipping auxiliary file: 'ESP_-_SEVILLA_Ensemble_ssp585_2050_MorphedEPWsComparison.csv'\n",
      "2025-08-16 09:28:01 - INFO - Moving 'D:\\temp_pyfwg_workflow\\sevilla_in_this_one_the_uhi_is_type-1\\ESP_-_SEVILLA_Ensemble_ssp585_2080.epw' to './final_results_workflow\\seville_type-1_SSP5-8.5_2080.epw'\n",
      "2025-08-16 09:28:01 - INFO - Moving 'D:\\temp_pyfwg_workflow\\sevilla_in_this_one_the_uhi_is_type-1\\ESP_-_SEVILLA_Ensemble_ssp585_2080.stat' to './final_results_workflow\\seville_type-1_SSP5-8.5_2080.stat'\n",
      "2025-08-16 09:28:01 - INFO - Skipping auxiliary file: 'ESP_-_SEVILLA_Ensemble_ssp585_2080_ErrorsAndWarnings.log'\n",
      "2025-08-16 09:28:01 - INFO - Skipping auxiliary file: 'ESP_-_SEVILLA_Ensemble_ssp585_2080_GridPointVariables.csv'\n",
      "2025-08-16 09:28:01 - INFO - Skipping auxiliary file: 'ESP_-_SEVILLA_Ensemble_ssp585_2080_MorphedEPWsComparison.csv'\n",
      "2025-08-16 09:28:01 - INFO - Morphing workflow finished.\n"
     ]
    },
    {
     "name": "stdout",
     "output_type": "stream",
     "text": [
      "Script finished.\n"
     ]
    }
   ],
   "source": [
    "print(\"\\n--- Running Step 4: execute_morphing ---\")\n",
    "\n",
    "# This is only called after you are satisfied with the preview and config.\n",
    "# We check the is_config_valid flag first as a safeguard.\n",
    "\n",
    "workflow.execute_morphing()\n",
    "\n",
    "print(\"Script finished.\")"
   ]
  },
  {
   "cell_type": "markdown",
   "metadata": {},
   "source": [
    "We previously specified the output directory in the argument `final_output_dir` as './final_results_workflow'. So let's have a look at the files we have generated:"
   ]
  },
  {
   "cell_type": "code",
   "execution_count": 17,
   "metadata": {},
   "outputs": [
    {
     "data": {
      "text/plain": [
       "['madrid_type-2_ssp126_2050.epw',\n",
       " 'madrid_type-2_ssp126_2050.stat',\n",
       " 'madrid_type-2_ssp126_2080.epw',\n",
       " 'madrid_type-2_ssp126_2080.stat',\n",
       " 'madrid_type-2_SSP2-4.5_2050.epw',\n",
       " 'madrid_type-2_SSP2-4.5_2050.stat',\n",
       " 'madrid_type-2_SSP2-4.5_2080.epw',\n",
       " 'madrid_type-2_SSP2-4.5_2080.stat',\n",
       " 'madrid_type-2_ssp370_2050.epw',\n",
       " 'madrid_type-2_ssp370_2050.stat',\n",
       " 'madrid_type-2_ssp370_2080.epw',\n",
       " 'madrid_type-2_ssp370_2080.stat',\n",
       " 'madrid_type-2_SSP5-8.5_2050.epw',\n",
       " 'madrid_type-2_SSP5-8.5_2050.stat',\n",
       " 'madrid_type-2_SSP5-8.5_2080.epw',\n",
       " 'madrid_type-2_SSP5-8.5_2080.stat',\n",
       " 'seville_type-1_ssp126_2050.epw',\n",
       " 'seville_type-1_ssp126_2050.stat',\n",
       " 'seville_type-1_ssp126_2080.epw',\n",
       " 'seville_type-1_ssp126_2080.stat',\n",
       " 'seville_type-1_SSP2-4.5_2050.epw',\n",
       " 'seville_type-1_SSP2-4.5_2050.stat',\n",
       " 'seville_type-1_SSP2-4.5_2080.epw',\n",
       " 'seville_type-1_SSP2-4.5_2080.stat',\n",
       " 'seville_type-1_ssp370_2050.epw',\n",
       " 'seville_type-1_ssp370_2050.stat',\n",
       " 'seville_type-1_ssp370_2080.epw',\n",
       " 'seville_type-1_ssp370_2080.stat',\n",
       " 'seville_type-1_SSP5-8.5_2050.epw',\n",
       " 'seville_type-1_SSP5-8.5_2050.stat',\n",
       " 'seville_type-1_SSP5-8.5_2080.epw',\n",
       " 'seville_type-1_SSP5-8.5_2080.stat']"
      ]
     },
     "execution_count": 17,
     "metadata": {},
     "output_type": "execute_result"
    }
   ],
   "source": [
    "new_files = [i for i in os.listdir('./final_results_workflow')]\n",
    "new_files"
   ]
  },
  {
   "cell_type": "code",
   "execution_count": null,
   "metadata": {},
   "outputs": [],
   "source": []
  }
 ],
 "metadata": {
  "kernelspec": {
   "display_name": "Python 3 (ipykernel)",
   "language": "python",
   "name": "python3"
  },
  "language_info": {
   "codemirror_mode": {
    "name": "ipython",
    "version": 3
   },
   "file_extension": ".py",
   "mimetype": "text/x-python",
   "name": "python",
   "nbconvert_exporter": "python",
   "pygments_lexer": "ipython3",
   "version": "3.9.13"
  }
 },
 "nbformat": 4,
 "nbformat_minor": 4
}
