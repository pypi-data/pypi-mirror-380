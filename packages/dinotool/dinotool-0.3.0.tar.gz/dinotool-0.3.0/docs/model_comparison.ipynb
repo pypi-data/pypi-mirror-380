{
 "cells": [
  {
   "cell_type": "code",
   "execution_count": null,
   "id": "08f4ed10",
   "metadata": {},
   "outputs": [],
   "source": [
    "from dinotool import DinoToolModel\n",
    "from PIL import Image\n",
    "import matplotlib.pyplot as plt\n",
    "\n",
    "images= [Image.open(\"../test/data/bird1.jpg\"),\n",
    "         Image.open(\"../test/data/imagefolder/suo.tif\"),\n",
    "         Image.open(\"../test/data/pepper.png\"),\n",
    "         Image.open(\"../test/data/still_life.png\")\n",
    "]\n",
    "\n",
    "\n",
    "dinov3s = DinoToolModel(model_name=\"dinov3-s\")\n",
    "dinov3 = DinoToolModel(model_name=\"dinov3-b\")\n",
    "dinov3_sat = DinoToolModel(model_name=\"dinov3-l-sat\")\n",
    "\n",
    "dinov2s = DinoToolModel(model_name=\"dinov2-s\")\n",
    "dinov2 = DinoToolModel(model_name=\"dinov2-b\")\n",
    "radio = DinoToolModel(model_name=\"radio-b\")\n",
    "siglip2 = DinoToolModel(model_name=\"siglip2\")"
   ]
  },
  {
   "cell_type": "code",
   "execution_count": null,
   "id": "2c4dd474",
   "metadata": {},
   "outputs": [],
   "source": [
    "models = [dinov3s, dinov3, dinov3_sat, dinov2s, dinov2, radio, siglip2]\n",
    "model_names = [model.model_name_shortcut for model in models]\n",
    "model_names = [\"DINOv3-S\\ndinov3-s\",\n",
    "               \"DINOv3-B\\ndinov3-b\",\n",
    "               \"DINOv3-L (SAT)\\ndinov3-l-sat\",\n",
    "               \"DINOv2-S\\nvit-s\",\n",
    "               \"DINOv2-B\\nvit-b\",\n",
    "               \"C-RADIOv3-B\\nradio-b\",\n",
    "               \"SigLIP2-B\\nsiglip2\"]\n",
    "image_names = [\"bird1\", \"suo\", \"pepper\", \"still_life\"]\n",
    "img_sizes = [img.size for img in images]"
   ]
  },
  {
   "cell_type": "code",
   "execution_count": null,
   "id": "620fb796",
   "metadata": {},
   "outputs": [],
   "source": [
    "pcas = []\n",
    "for model in models:\n",
    "    for img in images:\n",
    "        img = img.convert(\"RGB\")\n",
    "        print(model.model_name, img.size)\n",
    "        img_tensor = model.get_transform(img.size).transform(img).unsqueeze(0)\n",
    "        features = model(img_tensor)\n",
    "        pca_array = model.pca(features)\n",
    "        pcas.append(pca_array)"
   ]
  },
  {
   "cell_type": "code",
   "execution_count": null,
   "id": "0ba4c2d6",
   "metadata": {},
   "outputs": [],
   "source": [
    "fig, ax = plt.subplots(len(image_names), len(model_names)+1, figsize=(8, 5))\n",
    "\n",
    "# Titles for each model column\n",
    "ax[0][0].set_title(\"Original image\", fontsize=10)\n",
    "for j, model_name in enumerate(model_names):\n",
    "    ax[0][j+1].set_title(model_name, fontsize=10)\n",
    "\n",
    "for i, img in enumerate(images):\n",
    "    ax[i][0].imshow(img)\n",
    "    ax[i][0].set_ylabel(img_sizes[i], fontsize=10)  # or \"Image\"\n",
    "    ax[i][0].xaxis.set_visible(False)\n",
    "    ax[i][0].tick_params(left=False, bottom=False, labelleft=False)\n",
    "\n",
    "n = 0\n",
    "for j, model_name in enumerate(model_names):\n",
    "    # First column = original images\n",
    "    # Fill in remaining columns with pcas\n",
    "    for i, image_size in enumerate(img_sizes):\n",
    "        ax[i][j+1].imshow(pcas[n])\n",
    "        ax[i][j+1].xaxis.set_visible(False)\n",
    "        ax[i][j+1].yaxis.set_visible(False)\n",
    "        ax[i][j+1].tick_params(left=False, bottom=False, labelleft=False)\n",
    "        n += 1\n",
    "\n",
    "plt.tight_layout()\n",
    "plt.savefig(\"resources/model_comparison.png\", dpi=300)"
   ]
  }
 ],
 "metadata": {
  "kernelspec": {
   "display_name": ".venv",
   "language": "python",
   "name": "python3"
  },
  "language_info": {
   "codemirror_mode": {
    "name": "ipython",
    "version": 3
   },
   "file_extension": ".py",
   "mimetype": "text/x-python",
   "name": "python",
   "nbconvert_exporter": "python",
   "pygments_lexer": "ipython3",
   "version": "3.12.9"
  }
 },
 "nbformat": 4,
 "nbformat_minor": 5
}
