{
 "cells": [
  {
   "cell_type": "code",
   "execution_count": null,
   "metadata": {},
   "outputs": [],
   "source": [
    "import terrapyn as tp\n",
    "import pandas as pd\n",
    "import xarray as xr\n",
    "import numpy as np\n",
    "from scipy import stats as st\n",
    "import matplotlib.pyplot as plt"
   ]
  },
  {
   "cell_type": "markdown",
   "metadata": {},
   "source": [
    "# SPI\n",
    "\n",
    "SPI is normally calculated for each month the year, grouping together the same month across all years. These monthly values are typically the rolling mean over a given period: 3, 6, 12, 24, 48 months. The choice of the number of months over which to calculate a rolling mean is related to the phenomena/timescale of interest, where 3 month SPI is used for a short-term or seasonal drought index, 12 month SPI for an intermediate-term drought index, and 48 month SPI for a long-term drought index.\n",
    "\n",
    "\n",
    "### Note:\n",
    "* Data should have monthly timesteps. If the timesteps have a frequency higher than monthly, the data should be resampled to monthly timesteps.\n",
    "* SPI is calculated separately for each month, where a Gamma distribution is fit to all values for that month for all years. , then perform the gamma -to-normal transformation.\n",
    "* The result should have monthly timesteps\n",
    "* There should be the ability to output the gamma alpha and beta coeff, and a way to use these coeff with new data to calculate SPI for the new data - i.e. we calculate alpha and beta for the reference data, then the new data is compared to this distribution, the probability value transformed from gamma to normal, and the SPI obtained\n"
   ]
  },
  {
   "cell_type": "markdown",
   "metadata": {},
   "source": [
    "### Example to show the fit of a Gamma PDF"
   ]
  },
  {
   "cell_type": "code",
   "execution_count": null,
   "metadata": {},
   "outputs": [],
   "source": [
    "orig_shape = 2\n",
    "orig_scale = 1\n",
    "orig_loc = 0\n",
    "n_values = 50\n",
    "values = st.gamma.rvs(orig_shape, orig_loc, orig_scale, size=n_values, random_state=123)"
   ]
  },
  {
   "cell_type": "markdown",
   "metadata": {},
   "source": [
    "Let's plot the data"
   ]
  },
  {
   "cell_type": "code",
   "execution_count": null,
   "metadata": {},
   "outputs": [],
   "source": [
    "_ = plt.hist(values, bins=50, density=True, align=\"mid\");"
   ]
  },
  {
   "cell_type": "markdown",
   "metadata": {},
   "source": [
    "* To calculate SPI, we need to determine the probability density function of the data, so we can convert it to the Normal probability density function.\n",
    "* We can do this by fitting a Gamma Probability Distribution Function (PDF) to the values.\n",
    "    - For a Gamma function, the `shape` and `scale` parameters are required to define the PDF."
   ]
  },
  {
   "cell_type": "code",
   "execution_count": null,
   "metadata": {},
   "outputs": [],
   "source": [
    "# Fit the Gamma PDF\n",
    "shape, scale = tp.indices.spi._fit_gamma_pdf(values)\n",
    "shape, scale"
   ]
  },
  {
   "cell_type": "markdown",
   "metadata": {},
   "source": [
    "Now lets plot the original data with the fitted Gamma PDF"
   ]
  },
  {
   "cell_type": "code",
   "execution_count": null,
   "metadata": {},
   "outputs": [],
   "source": [
    "def plot_pdf(values, shape, scale, orig_shape=None, orig_scale=None):\n",
    "\txi = np.linspace(values.min(), values.max(), 1000)\n",
    "\tpdf = st.gamma.pdf(xi, a=shape, loc=0, scale=scale)\n",
    "\tplt.hist(values, bins=50, density=True, align=\"mid\")\n",
    "\tplt.plot(xi, pdf, label=\"fitted\", lw=2, color=\"red\")\n",
    "\tif all([orig_shape, orig_loc, orig_scale]):\n",
    "\t\torig_pdf = st.gamma.pdf(xi, a=orig_shape, loc=0, scale=orig_scale)\n",
    "\t\tplt.plot(xi, orig_pdf, label=\"original\", color=\"k\", lw=2)\n",
    "\tplt.legend()"
   ]
  },
  {
   "cell_type": "code",
   "execution_count": null,
   "metadata": {},
   "outputs": [],
   "source": [
    "plot_pdf(values, shape, scale, orig_shape, orig_scale)"
   ]
  },
  {
   "cell_type": "markdown",
   "metadata": {},
   "source": [
    "With the Gamma PDF defined, we can easily calculate the Gamma Cumulative Distribution Function (CDF). This is how we will transform the Gamma distribution into the Normal distribution."
   ]
  },
  {
   "cell_type": "code",
   "execution_count": null,
   "metadata": {},
   "outputs": [],
   "source": [
    "prob_zero = np.sum(values == 0) / values.shape[0]  # Fraction of zero values\n",
    "sorted_values = np.sort(values)\n",
    "values_cum_prob = np.linspace(0, 1, sorted_values.shape[0])\n",
    "fitted_xi = np.linspace(sorted_values[0], sorted_values[-1], n_values)\n",
    "fitted_cdf = prob_zero + (1 - prob_zero) * st.gamma.cdf(fitted_xi, a=shape, loc=0, scale=scale)"
   ]
  },
  {
   "cell_type": "code",
   "execution_count": null,
   "metadata": {},
   "outputs": [],
   "source": [
    "plt.plot(sorted_values, values_cum_prob, label=\"Values\", color=\"k\", ls=\"none\", marker=\".\")\n",
    "plt.plot(fitted_xi, fitted_cdf, label=\"Fitted CDF\", color=\"red\")\n",
    "plt.xlabel(\"value\")\n",
    "plt.ylabel(\"cumulative probability\")\n",
    "plt.legend();"
   ]
  },
  {
   "cell_type": "code",
   "execution_count": null,
   "metadata": {},
   "outputs": [],
   "source": [
    "# Empiracal cumulative prob func\n",
    "# Kth value is k-1 from the lowest, n is sample size\n",
    "# emp cum prob = k / (n + 1)\n",
    "# k = 1,2,3...\n",
    "\n",
    "# TODO only count non-nan\n",
    "n = values.shape[0]\n",
    "\n",
    "prob_zero = np.sum(values == 0) / n  # Fraction of zero values\n",
    "\n",
    "sorted_values = np.sort(values)\n",
    "cum_prob = np.linspace(0, 1, sorted_values.shape[0])\n",
    "fitted_xi = np.linspace(sorted_values[0], sorted_values[-1], n_values)\n",
    "fitted_cdf = prob_zero + (1 - prob_zero) * st.gamma.cdf(fitted_xi, a=shape, loc=0, scale=scale)"
   ]
  },
  {
   "cell_type": "code",
   "execution_count": null,
   "metadata": {},
   "outputs": [],
   "source": [
    "# Calculate the CDF for the values using the fitted parameters\n",
    "gamma_cdf = tp.indices.spi._calc_gamma_cdf(values, shape=shape, scale=scale)"
   ]
  },
  {
   "cell_type": "code",
   "execution_count": null,
   "metadata": {},
   "outputs": [],
   "source": [
    "# Apply the inverse normal distribution to the cdf\n",
    "normal_ppf = tp.indices.spi.cdf_to_normal_ppf(pd.Series(gamma_cdf))"
   ]
  },
  {
   "cell_type": "code",
   "execution_count": null,
   "metadata": {},
   "outputs": [],
   "source": [
    "norm_xi = np.linspace(normal_ppf.min(), normal_ppf.max(), 1000)\n",
    "norm_pdf = st.norm.pdf(norm_xi, loc=0, scale=1)\n",
    "_ = plt.hist(normal_ppf, bins=50, density=True)\n",
    "plt.plot(norm_xi, norm_pdf);"
   ]
  },
  {
   "cell_type": "code",
   "execution_count": null,
   "metadata": {},
   "outputs": [],
   "source": [
    "neg_index = normal_ppf < 0\n",
    "pos_index = ~neg_index\n",
    "\n",
    "x = np.arange(0, normal_ppf.shape[0])\n",
    "\n",
    "bin_width = 1\n",
    "\n",
    "fig, ax = plt.subplots(figsize=(12, 6))\n",
    "ax.bar(x[pos_index], normal_ppf[pos_index], width=bin_width, align=\"center\", color=\"b\")\n",
    "ax.bar(x[neg_index], normal_ppf[neg_index], width=bin_width, align=\"center\", color=\"r\")\n",
    "ax.grid(True)\n",
    "ax.set_xlabel(\"Date\")\n",
    "ax.set_ylabel(\"SPI\");"
   ]
  },
  {
   "cell_type": "markdown",
   "metadata": {},
   "source": [
    "# Monthly SPI\n",
    "\n",
    "SPI is normally calculated for each month the year, grouping together the same month across all years. These monthly values are typically the rolling mean over a given period: 3, 6, 12, 24, 48 months. The choice of the number of months over which to calculate a rolling mean is related to the phenomena/timescale of interest, where 3 month SPI is used for a short-term or seasonal drought index, 12 month SPI for an intermediate-term drought index, and 48 month SPI for a long-term drought index."
   ]
  },
  {
   "cell_type": "markdown",
   "metadata": {},
   "source": [
    "\n",
    "## Generate test data\n",
    "* Data that follows a Gamma distribution and could represent daily/monthly precipitation over many years"
   ]
  },
  {
   "cell_type": "code",
   "execution_count": null,
   "metadata": {},
   "outputs": [],
   "source": [
    "orig_shape = 2\n",
    "orig_scale = 1\n",
    "orig_loc = 0  # This should always be 0 for precipitation\n",
    "n_values = 12 * 70  # 70 years of monthly data\n",
    "values = np.array(\n",
    "\t[\n",
    "\t\tst.gamma.rvs(orig_shape, orig_loc, orig_scale, size=n_values, random_state=random_state)\n",
    "\t\tfor random_state in [123, 42, 3, 14]\n",
    "\t]\n",
    ").reshape(2, 2, n_values)\n",
    "\n",
    "da = xr.DataArray(\n",
    "\tvalues,\n",
    "\tcoords={\"lat\": [1, 2], \"lon\": [3, 4], \"time\": pd.date_range(\"1950-01-01\", periods=n_values, freq=\"MS\")},\n",
    "\tname=\"tp\",\n",
    ")\n",
    "series = da.isel(lon=0, lat=0).to_series()"
   ]
  },
  {
   "cell_type": "code",
   "execution_count": null,
   "metadata": {},
   "outputs": [],
   "source": [
    "n_months = 3\n",
    "time_dim = \"time\""
   ]
  },
  {
   "cell_type": "code",
   "execution_count": null,
   "metadata": {},
   "outputs": [],
   "source": [
    "spi, gamma_parameters = tp.indices.spi.calc_spi(da, return_gamma_params=True)"
   ]
  },
  {
   "cell_type": "code",
   "execution_count": null,
   "metadata": {},
   "outputs": [],
   "source": [
    "# spi = tp.indices.spi.calc_spi(da, gamma_parameters=gamma_parameters)"
   ]
  },
  {
   "cell_type": "code",
   "execution_count": null,
   "metadata": {},
   "outputs": [],
   "source": [
    "point = spi.isel(lat=0, lon=0)"
   ]
  },
  {
   "cell_type": "code",
   "execution_count": null,
   "metadata": {},
   "outputs": [],
   "source": [
    "neg_index = point.values < 0\n",
    "pos_index = ~neg_index\n",
    "\n",
    "bin_width = 1\n",
    "\n",
    "x = np.arange(len(point[\"time\"].values))\n",
    "# x = point.time.values\n",
    "\n",
    "fig, ax = plt.subplots(figsize=(12, 6))\n",
    "ax.bar(\n",
    "\t# point['time'][pos_index].values.astype(dt.datetime),\n",
    "\tx[pos_index],\n",
    "\theight=point[pos_index].values,\n",
    "\twidth=bin_width,\n",
    "\talign=\"center\",\n",
    "\tcolor=\"b\",\n",
    ")\n",
    "ax.bar(\n",
    "\tx[neg_index],\n",
    "\t# point['time'][neg_index].values,\n",
    "\theight=point[neg_index].values,\n",
    "\twidth=bin_width,\n",
    "\talign=\"center\",\n",
    "\tcolor=\"r\",\n",
    ")\n",
    "ax.grid(True)\n",
    "ax.set_xlabel(\"Date\")\n",
    "ax.set_ylabel(\"SPI\");"
   ]
  },
  {
   "cell_type": "markdown",
   "metadata": {},
   "source": [
    "## Simple example including all data\n",
    "\n",
    "This is conceptually wrong, since we should group by month. However, it demonstrates each step in the process.\n",
    "\n",
    "* First fit the Gamma PDF to the data"
   ]
  },
  {
   "cell_type": "code",
   "execution_count": null,
   "metadata": {},
   "outputs": [],
   "source": [
    "gamma_parameters = tp.indices.spi.fit_gamma_pdf(da)\n",
    "gamma_parameters"
   ]
  },
  {
   "cell_type": "code",
   "execution_count": null,
   "metadata": {},
   "outputs": [],
   "source": [
    "plot_pdf(\n",
    "\tda.isel(lat=0, lon=0), gamma_parameters[\"shape\"].isel(lat=0, lon=0), gamma_parameters[\"scale\"].isel(lat=0, lon=0)\n",
    ")"
   ]
  },
  {
   "cell_type": "markdown",
   "metadata": {},
   "source": [
    "Next calculate the Gamma CDF for the data"
   ]
  },
  {
   "cell_type": "code",
   "execution_count": null,
   "metadata": {},
   "outputs": [],
   "source": [
    "gamma_cdf = tp.indices.spi.calc_gamma_cdf(da, gamma_parameters)\n",
    "# gamma_cdf"
   ]
  },
  {
   "cell_type": "markdown",
   "metadata": {},
   "source": [
    "Finally, transform the Gamma CDF to a Normal PPF"
   ]
  },
  {
   "cell_type": "code",
   "execution_count": null,
   "metadata": {},
   "outputs": [],
   "source": [
    "normal_ppf = tp.indices.spi.cdf_to_normal_ppf(gamma_cdf)\n",
    "# normal_ppf"
   ]
  },
  {
   "cell_type": "markdown",
   "metadata": {},
   "source": [
    "These values are in units of `std` of the zero-centered Normal distribution. We can plot all the values to show where each transformed value lies in the distribution of all values."
   ]
  },
  {
   "cell_type": "code",
   "execution_count": null,
   "metadata": {},
   "outputs": [],
   "source": [
    "# Select one coordinate\n",
    "point = normal_ppf.isel(lat=0, lon=0)"
   ]
  },
  {
   "cell_type": "code",
   "execution_count": null,
   "metadata": {},
   "outputs": [],
   "source": [
    "neg_index = point < 0\n",
    "pos_index = ~neg_index\n",
    "\n",
    "x = np.arange(len(point[\"time\"].values))\n",
    "\n",
    "bin_width = 1\n",
    "\n",
    "fig, ax = plt.subplots(figsize=(12, 6))\n",
    "ax.bar(\n",
    "\t# point['time'][pos_index].values,\n",
    "\tx[pos_index],\n",
    "\theight=point[pos_index].values,\n",
    "\twidth=bin_width,\n",
    "\talign=\"center\",\n",
    "\tcolor=\"b\",\n",
    ")\n",
    "ax.bar(\n",
    "\tx[neg_index],\n",
    "\t# point['time'][neg_index].values\n",
    "\theight=point[neg_index].values,\n",
    "\twidth=bin_width,\n",
    "\talign=\"center\",\n",
    "\tcolor=\"r\",\n",
    ")\n",
    "ax.grid(True)\n",
    "ax.set_xlabel(\"Date\")\n",
    "ax.set_ylabel(\"SPI\");"
   ]
  },
  {
   "cell_type": "code",
   "execution_count": null,
   "metadata": {},
   "outputs": [],
   "source": []
  }
 ],
 "metadata": {
  "interpreter": {
   "hash": "31f2aee4e71d21fbe5cf8b01ff0e069b9275f58929596ceb00d14d90e3e16cd6"
  },
  "kernelspec": {
   "display_name": "Python 3.8.2 64-bit",
   "language": "python",
   "name": "python3"
  },
  "language_info": {
   "codemirror_mode": {
    "name": "ipython",
    "version": 3
   },
   "file_extension": ".py",
   "mimetype": "text/x-python",
   "name": "python",
   "nbconvert_exporter": "python",
   "pygments_lexer": "ipython3",
   "version": "3.9.7"
  }
 },
 "nbformat": 4,
 "nbformat_minor": 2
}
