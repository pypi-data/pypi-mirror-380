{
 "cells": [
  {
   "cell_type": "code",
   "execution_count": 5,
   "metadata": {},
   "outputs": [],
   "source": [
    "import os\n",
    "from ase.io import read\n",
    "import rdkit.Chem as Chem\n",
    "\n",
    "PATH = os.getcwd()"
   ]
  },
  {
   "cell_type": "code",
   "execution_count": 4,
   "metadata": {},
   "outputs": [
    {
     "name": "stdout",
     "output_type": "stream",
     "text": [
      "Atoms(symbols='CNC3OC3H7', pbc=False)\n"
     ]
    }
   ],
   "source": [
    "XYZ_PATH = os.path.join(PATH, 'assets', 'test.xyz')\n",
    "atoms = read(XYZ_PATH)\n",
    "print(atoms)"
   ]
  },
  {
   "cell_type": "code",
   "execution_count": 9,
   "metadata": {},
   "outputs": [
    {
     "name": "stdout",
     "output_type": "stream",
     "text": [
      "<rdkit.Chem.rdchem.RWMol object at 0x77525efa3a60>\n"
     ]
    }
   ],
   "source": [
    "from scipy.spatial.distance import pdist, squareform\n",
    "\n",
    "mol = Chem.RWMol()\n",
    "for atom in atoms:\n",
    "    rd_atom = Chem.Atom(atom.symbol)\n",
    "    mol.AddAtom(rd_atom)\n",
    "    \n",
    "conf = Chem.Conformer(len(atoms))\n",
    "for i, atom in enumerate(atoms):\n",
    "    conf.SetAtomPosition(i, atom.position)\n",
    "mol.AddConformer(conf)\n",
    "\n",
    "# Calculate pairwise distances between atoms\n",
    "positions = [atom.position for atom in atoms]\n",
    "distances = squareform(pdist(positions))\n",
    "\n",
    "# Define a threshold distance for bonding (in Angstroms)\n",
    "bond_threshold = 1.6\n",
    "\n",
    "# Add bonds based on the threshold distance\n",
    "num_atoms = len(atoms)\n",
    "for i in range(num_atoms):\n",
    "    for j in range(i + 1, num_atoms):\n",
    "        if distances[i, j] < bond_threshold:\n",
    "            mol.AddBond(i, j, Chem.BondType.SINGLE)\n",
    "\n",
    "print(mol)"
   ]
  },
  {
   "cell_type": "code",
   "execution_count": 10,
   "metadata": {},
   "outputs": [],
   "source": [
    "from rdkit.Chem import Draw\n",
    "\n",
    "# Draw the molecule\n",
    "img = Draw.MolToImage(mol)\n",
    "img.show()"
   ]
  },
  {
   "cell_type": "code",
   "execution_count": 11,
   "metadata": {},
   "outputs": [
    {
     "name": "stdout",
     "output_type": "stream",
     "text": [
      "    Index                                                Mol\n",
      "0       0  <rdkit.Chem.rdchem.RWMol object at 0x77525efa3...\n",
      "1       1  <rdkit.Chem.rdchem.RWMol object at 0x77525efa3...\n",
      "2       2  <rdkit.Chem.rdchem.RWMol object at 0x77525efa3...\n",
      "3       3  <rdkit.Chem.rdchem.RWMol object at 0x77525efa3...\n",
      "4       4  <rdkit.Chem.rdchem.RWMol object at 0x77525efa3...\n",
      "5       5  <rdkit.Chem.rdchem.RWMol object at 0x77525efa3...\n",
      "6       6  <rdkit.Chem.rdchem.RWMol object at 0x77525efa3...\n",
      "7       7  <rdkit.Chem.rdchem.RWMol object at 0x77525efa3...\n",
      "8       8  <rdkit.Chem.rdchem.RWMol object at 0x77525efa3...\n",
      "9       9  <rdkit.Chem.rdchem.RWMol object at 0x77525efa3...\n",
      "10     10  <rdkit.Chem.rdchem.RWMol object at 0x77525efa3...\n",
      "11     11  <rdkit.Chem.rdchem.RWMol object at 0x77525efa3...\n",
      "12     12  <rdkit.Chem.rdchem.RWMol object at 0x77525efa3...\n",
      "13     13  <rdkit.Chem.rdchem.RWMol object at 0x77525efa3...\n",
      "14     14  <rdkit.Chem.rdchem.RWMol object at 0x77525efa3...\n",
      "15     15  <rdkit.Chem.rdchem.RWMol object at 0x77525efa3...\n"
     ]
    }
   ],
   "source": [
    "import pandas as pd\n",
    "\n",
    "# Create a DataFrame with index and Mol object\n",
    "data = {'Index': [i for i in range(num_atoms)], 'Mol': [mol] * num_atoms}\n",
    "df = pd.DataFrame(data)\n",
    "\n",
    "print(df)"
   ]
  },
  {
   "cell_type": "code",
   "execution_count": null,
   "metadata": {},
   "outputs": [],
   "source": []
  }
 ],
 "metadata": {
  "kernelspec": {
   "display_name": "venv",
   "language": "python",
   "name": "python3"
  },
  "language_info": {
   "codemirror_mode": {
    "name": "ipython",
    "version": 3
   },
   "file_extension": ".py",
   "mimetype": "text/x-python",
   "name": "python",
   "nbconvert_exporter": "python",
   "pygments_lexer": "ipython3",
   "version": "3.10.12"
  }
 },
 "nbformat": 4,
 "nbformat_minor": 2
}
