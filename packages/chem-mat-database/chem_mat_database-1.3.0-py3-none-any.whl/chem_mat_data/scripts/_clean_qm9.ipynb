{
 "cells": [
  {
   "cell_type": "code",
   "execution_count": 7,
   "metadata": {},
   "outputs": [],
   "source": [
    "import os\n",
    "import shutil\n",
    "\n",
    "PATH = os.getcwd()"
   ]
  },
  {
   "cell_type": "code",
   "execution_count": 3,
   "metadata": {},
   "outputs": [
    {
     "name": "stdout",
     "output_type": "stream",
     "text": [
      "exists True\n"
     ]
    }
   ],
   "source": [
    "DATASET_FOLDER_PATH = '/media/data/Downloads/QM9/dsgdb9nsd.xyz'\n",
    "\n",
    "print('exists', os.path.exists(DATASET_FOLDER_PATH))"
   ]
  },
  {
   "cell_type": "code",
   "execution_count": null,
   "metadata": {},
   "outputs": [
    {
     "name": "stdout",
     "output_type": "stream",
     "text": [
      "133885\n",
      "num elements:  1\n"
     ]
    }
   ],
   "source": [
    "dataset: dict[int, dict] = {}\n",
    "\n",
    "index = 0\n",
    "for file_name in os.listdir(DATASET_FOLDER_PATH):\n",
    "    if file_name.endswith('.xyz'):\n",
    "        file_path = os.path.join(DATASET_FOLDER_PATH, file_name)\n",
    "        if os.path.isfile(file_path):\n",
    "            dataset[index] = {\n",
    "                'index': index,\n",
    "                'path': file_path,\n",
    "            }\n",
    "            index += 1\n",
    "            \n",
    "print('num elements: ', len(dataset))"
   ]
  },
  {
   "cell_type": "code",
   "execution_count": null,
   "metadata": {},
   "outputs": [],
   "source": [
    "DEST_FOLDER = os.path.join(PATH, 'qm9.xyz_bundle')\n",
    "if os.path.exists(DEST_FOLDER):\n",
    "    shutil.rmtree(DEST_FOLDER)\n",
    "    \n",
    "os.makedirs(DEST_FOLDER)\n",
    "\n",
    "for index, info in dataset.items():\n",
    "    \n",
    "    with open(info['path'], 'r') as file:\n",
    "        content = file.read()\n",
    "        \n",
    "    "
   ]
  }
 ],
 "metadata": {
  "kernelspec": {
   "display_name": "venv",
   "language": "python",
   "name": "python3"
  },
  "language_info": {
   "codemirror_mode": {
    "name": "ipython",
    "version": 3
   },
   "file_extension": ".py",
   "mimetype": "text/x-python",
   "name": "python",
   "nbconvert_exporter": "python",
   "pygments_lexer": "ipython3",
   "version": "3.10.12"
  }
 },
 "nbformat": 4,
 "nbformat_minor": 2
}
