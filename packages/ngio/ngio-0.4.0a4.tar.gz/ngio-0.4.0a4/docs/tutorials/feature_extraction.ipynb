{
 "cells": [
  {
   "cell_type": "markdown",
   "metadata": {},
   "source": [
    "# Feature Extraction\n",
    "\n",
    "This sections will cover how to extract regionprops features from an image using `ngio`, `skimage`. Moreover we will also write the features to a table in the ome-zarr container.\n",
    "\n",
    "# Step 1: Open the OME-Zarr Container"
   ]
  },
  {
   "cell_type": "code",
   "execution_count": null,
   "metadata": {},
   "outputs": [],
   "source": [
    "from pathlib import Path\n",
    "\n",
    "from ngio import open_ome_zarr_container\n",
    "from ngio.utils import download_ome_zarr_dataset\n",
    "\n",
    "# Download the dataset\n",
    "download_dir = Path(\".\").absolute().parent.parent / \"data\"\n",
    "hcs_path = download_ome_zarr_dataset(\"CardiomyocyteTinyMip\", download_dir=download_dir)\n",
    "image_path = hcs_path / \"B\" / \"03\" / \"0\"\n",
    "\n",
    "# Open the ome-zarr container\n",
    "ome_zarr = open_ome_zarr_container(image_path)"
   ]
  },
  {
   "cell_type": "markdown",
   "metadata": {},
   "source": [
    "## Step 2: Compute the Regionprops Features"
   ]
  },
  {
   "cell_type": "code",
   "execution_count": null,
   "metadata": {},
   "outputs": [],
   "source": [
    "import pandas as pd\n",
    "from skimage import measure\n",
    "\n",
    "from ngio.tables import FeatureTable\n",
    "\n",
    "# First we will need the image object and the FOVs table\n",
    "nuclei = ome_zarr.get_label(\"nuclei\")\n",
    "image_data = ome_zarr.get_image(pixel_size=nuclei.pixel_size).get_as_numpy(\n",
    "    axes_order=[\"z\", \"y\", \"x\", \"c\"]\n",
    ")\n",
    "nuclei_data = nuclei.get_as_numpy(axes_order=[\"z\", \"y\", \"x\"])\n",
    "\n",
    "feat_table = measure.regionprops_table(\n",
    "    label_image=nuclei_data,\n",
    "    intensity_image=image_data,\n",
    "    properties=[\"label\", \"area\", \"mean_intensity\", \"max_intensity\", \"min_intensity\"],\n",
    ")\n",
    "\n",
    "feat_table = pd.DataFrame(feat_table)\n",
    "feat_table = feat_table.set_index(\"label\")\n",
    "\n",
    "# Convert to a FeatureTable\n",
    "feature_table = FeatureTable(table_data=feat_table, reference_label=\"nuclei\")\n",
    "\n",
    "# Save the Table in the ome-zarr container\n",
    "ome_zarr.add_table(\"nuclei_regionprops\", feature_table)"
   ]
  },
  {
   "cell_type": "markdown",
   "metadata": {},
   "source": [
    "## Sanity Check: Read the Table back"
   ]
  },
  {
   "cell_type": "code",
   "execution_count": null,
   "metadata": {},
   "outputs": [],
   "source": [
    "ome_zarr.get_table(\"nuclei_regionprops\").lazy_frame.collect()"
   ]
  },
  {
   "cell_type": "markdown",
   "metadata": {},
   "source": []
  }
 ],
 "metadata": {
  "kernelspec": {
   "display_name": "dev",
   "language": "python",
   "name": "python3"
  },
  "language_info": {
   "codemirror_mode": {
    "name": "ipython",
    "version": 3
   },
   "file_extension": ".py",
   "mimetype": "text/x-python",
   "name": "python",
   "nbconvert_exporter": "python",
   "pygments_lexer": "ipython3",
   "version": "3.11.13"
  }
 },
 "nbformat": 4,
 "nbformat_minor": 2
}
