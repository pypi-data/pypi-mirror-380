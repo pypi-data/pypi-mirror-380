{
 "cells": [
  {
   "cell_type": "markdown",
   "metadata": {},
   "source": [
    "# Image Processing\n",
    "\n",
    "This is a minimal example of how to use the `ngio` library for applying some basic image processing techniques.\n",
    "\n",
    "For this example we will apply gaussian blur to an image.\n",
    "\n",
    "\n",
    "# Step 1: Setup\n",
    "\n",
    "We will first create a simple function to apply gaussian blur to an image. This function will take an image and a sigma value as input and return the blurred image."
   ]
  },
  {
   "cell_type": "code",
   "execution_count": null,
   "metadata": {},
   "outputs": [],
   "source": [
    "import numpy as np\n",
    "import skimage\n",
    "\n",
    "\n",
    "def gaussian_blur(image: np.ndarray, sigma: float) -> np.ndarray:\n",
    "    \"\"\"Apply gaussian blur to an image.\"\"\"\n",
    "    original_type = image.dtype\n",
    "    image = skimage.filters.gaussian(\n",
    "        image, sigma=sigma, channel_axis=0, preserve_range=True\n",
    "    )\n",
    "    # Convert the image back to the original type\n",
    "    image = image.astype(original_type)\n",
    "    return image"
   ]
  },
  {
   "cell_type": "markdown",
   "metadata": {},
   "source": [
    "## Step 2: Open the OmeZarr container"
   ]
  },
  {
   "cell_type": "code",
   "execution_count": null,
   "metadata": {},
   "outputs": [],
   "source": [
    "from pathlib import Path\n",
    "\n",
    "from ngio import open_ome_zarr_container\n",
    "from ngio.utils import download_ome_zarr_dataset\n",
    "\n",
    "# Download the dataset\n",
    "download_dir = Path(\".\").absolute().parent.parent / \"data\"\n",
    "\n",
    "hcs_path = download_ome_zarr_dataset(\"CardiomyocyteTiny\", download_dir=download_dir)\n",
    "image_path = hcs_path / \"B\" / \"03\" / \"0\"\n",
    "\n",
    "# Open the ome-zarr container\n",
    "ome_zarr = open_ome_zarr_container(image_path)"
   ]
  },
  {
   "cell_type": "markdown",
   "metadata": {},
   "source": [
    "## Step 3: Create a new empty omeZarr container\n",
    "\n",
    "ngio provide a simple way to \"derive\" a new container from an existing one. This is useful when you want to apply some processing to an image and save the results in a new container that \n",
    "preserves the original metadata and dimensions (unless explicitly changed when deriving)."
   ]
  },
  {
   "cell_type": "code",
   "execution_count": null,
   "metadata": {},
   "outputs": [],
   "source": [
    "# First we will need the image object\n",
    "image = ome_zarr.get_image()\n",
    "\n",
    "# Second we need to derive a new ome-zarr image where we will store\n",
    "# the processed image\n",
    "\n",
    "blurred_omezarr_path = image_path.parent / \"0_blurred\"\n",
    "blurred_omezarr = ome_zarr.derive_image(\n",
    "    store=blurred_omezarr_path, name=\"Blurred Image\", overwrite=True\n",
    ")\n",
    "blurred_image = blurred_omezarr.get_image()"
   ]
  },
  {
   "cell_type": "markdown",
   "metadata": {},
   "source": [
    "# Step 4: Apply the gaussian blur and consolidate the processed image"
   ]
  },
  {
   "cell_type": "code",
   "execution_count": null,
   "metadata": {},
   "outputs": [],
   "source": [
    "# We can use the axes order to specify how we query the image data.\n",
    "# Here we will reorder the axes to be [\"c\", \"z\", \"y\", \"x\"].\n",
    "# So that it will be compatible with the gaussian blur function\n",
    "# which expects the channel axis to be the first one.\n",
    "image_data = image.get_as_numpy(axes_order=[\"c\", \"z\", \"y\", \"x\"])\n",
    "# Apply gaussian blur to the image\n",
    "sigma = 5.0\n",
    "blurred_image_data = gaussian_blur(image_data, sigma=sigma)\n",
    "\n",
    "# Set the processed image data back to the ome-zarr image\n",
    "blurred_image.set_array(patch=blurred_image_data, axes_order=[\"c\", \"z\", \"y\", \"x\"])\n",
    "\n",
    "# The `set_array` method only saved the blurred image to the container at a specific\n",
    "# resolution level. So all other resolution levels are still empty.\n",
    "# To propagate the changes to all resolution levels,\n",
    "# we can use the `consolidate` method.\n",
    "blurred_image.consolidate()"
   ]
  },
  {
   "cell_type": "markdown",
   "metadata": {},
   "source": [
    "# Plot the results\n",
    "\n",
    "Finally, we can visualize the original and blurred images using `matplotlib`."
   ]
  },
  {
   "cell_type": "code",
   "execution_count": null,
   "metadata": {},
   "outputs": [],
   "source": [
    "import matplotlib.pyplot as plt\n",
    "import numpy as np\n",
    "from matplotlib.colors import ListedColormap\n",
    "\n",
    "rand_cmap = np.random.rand(1000, 3)\n",
    "rand_cmap[0] = 0\n",
    "rand_cmap = ListedColormap(rand_cmap)\n",
    "\n",
    "fig, axs = plt.subplots(2, 1, figsize=(8, 4))\n",
    "axs[0].set_title(\"Original image\")\n",
    "axs[0].imshow(image.get_as_numpy(c=0, z=1, axes_order=[\"y\", \"x\"]), cmap=\"gray\")\n",
    "axs[1].set_title(\"Blurred image\")\n",
    "axs[1].imshow(blurred_image.get_as_numpy(c=0, z=1, axes_order=[\"y\", \"x\"]), cmap=\"gray\")\n",
    "for ax in axs:\n",
    "    ax.axis(\"off\")\n",
    "plt.tight_layout()\n",
    "plt.show()"
   ]
  },
  {
   "cell_type": "markdown",
   "metadata": {},
   "source": [
    "## Out of memory processing\n",
    "\n",
    "Sometimes we want to apply some simple processing to larger than memory images. In this case, we can use the `dask` library to process the image in chunks. In `ngio` we can simply query the data as a `dask` array and apply the desired processing function to it."
   ]
  },
  {
   "cell_type": "code",
   "execution_count": null,
   "metadata": {},
   "outputs": [],
   "source": [
    "from dask import array as da\n",
    "\n",
    "\n",
    "def dask_gaussian_blur(image: da.Array, sigma: float) -> da.Array:\n",
    "    \"\"\"Apply gaussian blur to a dask array.\"\"\"\n",
    "    return da.map_blocks(gaussian_blur, image, dtype=image.dtype, sigma=sigma)\n",
    "\n",
    "\n",
    "image_dask = image.get_as_dask(axes_order=[\"c\", \"z\", \"y\", \"x\"])\n",
    "blurred_image_dask = dask_gaussian_blur(image_dask, sigma=sigma)\n",
    "blurred_image_dask"
   ]
  },
  {
   "cell_type": "markdown",
   "metadata": {},
   "source": []
  }
 ],
 "metadata": {
  "kernelspec": {
   "display_name": "dev",
   "language": "python",
   "name": "python3"
  },
  "language_info": {
   "codemirror_mode": {
    "name": "ipython",
    "version": 3
   },
   "file_extension": ".py",
   "mimetype": "text/x-python",
   "name": "python",
   "nbconvert_exporter": "python",
   "pygments_lexer": "ipython3",
   "version": "3.11.13"
  }
 },
 "nbformat": 4,
 "nbformat_minor": 2
}
