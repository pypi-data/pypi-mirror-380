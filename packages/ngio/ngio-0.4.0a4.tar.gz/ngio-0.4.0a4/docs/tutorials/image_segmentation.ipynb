{
 "cells": [
  {
   "cell_type": "markdown",
   "metadata": {},
   "source": [
    "# Image Segmentation\n",
    "\n",
    "This is a minimal tutorial on how to use ngio for image segmentation.\n",
    "\n",
    "## Step 1: Setup\n",
    "\n",
    "We will first implement a very simple function to segment an image. We will use skimage to do this. \n"
   ]
  },
  {
   "cell_type": "code",
   "execution_count": null,
   "metadata": {},
   "outputs": [],
   "source": [
    "# Setup a simple segmentation function\n",
    "import numpy as np\n",
    "import skimage\n",
    "\n",
    "\n",
    "def otsu_threshold_segmentation(image: np.ndarray, max_label: int) -> np.ndarray:\n",
    "    \"\"\"Simple segmentation using Otsu thresholding.\"\"\"\n",
    "    threshold = skimage.filters.threshold_otsu(image)\n",
    "    binary = image > threshold\n",
    "    label_image = skimage.measure.label(binary)\n",
    "    label_image += max_label\n",
    "    label_image = np.where(binary, label_image, 0)\n",
    "    return label_image.astype(np.uint32)"
   ]
  },
  {
   "cell_type": "markdown",
   "metadata": {},
   "source": [
    "## Step 2: Open the OmeZarr container"
   ]
  },
  {
   "cell_type": "code",
   "execution_count": null,
   "metadata": {},
   "outputs": [],
   "source": [
    "from pathlib import Path\n",
    "\n",
    "from ngio import open_ome_zarr_container\n",
    "from ngio.utils import download_ome_zarr_dataset\n",
    "\n",
    "# Download the dataset\n",
    "download_dir = Path(\".\").absolute().parent.parent / \"data\"\n",
    "hcs_path = download_ome_zarr_dataset(\"CardiomyocyteTiny\", download_dir=download_dir)\n",
    "image_path = hcs_path / \"B\" / \"03\" / \"0\"\n",
    "\n",
    "# Open the ome-zarr container\n",
    "ome_zarr = open_ome_zarr_container(image_path)"
   ]
  },
  {
   "cell_type": "markdown",
   "metadata": {},
   "source": [
    "## Step 3: Segment the image\n",
    "\n",
    "For this example, we will not segment the image all at once. Instead we will iterate over the image FOVs and segment them one by one."
   ]
  },
  {
   "cell_type": "code",
   "execution_count": null,
   "metadata": {},
   "outputs": [],
   "source": [
    "# First we will need the image object and the FOVs table\n",
    "image = ome_zarr.get_image()\n",
    "roi_table = ome_zarr.get_roi_table(\"FOV_ROI_table\")\n",
    "\n",
    "# Second we need to derive a new label image to use as target for the segmentation\n",
    "\n",
    "label = ome_zarr.derive_label(\"new_label\", overwrite=True)\n",
    "\n",
    "max_label = 0  # We will use this to avoid label collisions\n",
    "for roi in roi_table.rois():\n",
    "    # Get the image data for the ROI\n",
    "    image_data = image.get_roi_as_numpy(roi=roi, c=0, axes_order=[\"z\", \"y\", \"x\"])\n",
    "\n",
    "    roi_segmentation = otsu_threshold_segmentation(\n",
    "        image_data, max_label\n",
    "    )  # Segment the image\n",
    "\n",
    "    max_label = roi_segmentation.max()  # Get the max label for the next iteration\n",
    "\n",
    "    label.set_roi(\n",
    "        roi=roi, patch=roi_segmentation\n",
    "    )  # Write the segmentation to the label image"
   ]
  },
  {
   "cell_type": "markdown",
   "metadata": {},
   "source": [
    "# Step 4: Consolidate the segmentation\n",
    "\n",
    "The `new_label` has data only at a single resolution lebel. To consolidate the segmentation to all other levels we will \n",
    "need to call the `consolidate` method."
   ]
  },
  {
   "cell_type": "code",
   "execution_count": null,
   "metadata": {},
   "outputs": [],
   "source": [
    "label.consolidate()"
   ]
  },
  {
   "cell_type": "markdown",
   "metadata": {},
   "source": [
    "## Plot the segmentation"
   ]
  },
  {
   "cell_type": "code",
   "execution_count": null,
   "metadata": {},
   "outputs": [],
   "source": [
    "import matplotlib.pyplot as plt\n",
    "import numpy as np\n",
    "from matplotlib.colors import ListedColormap\n",
    "\n",
    "rand_cmap = np.random.rand(1000, 3)\n",
    "rand_cmap[0] = 0\n",
    "rand_cmap = ListedColormap(rand_cmap)\n",
    "\n",
    "fig, axs = plt.subplots(2, 1, figsize=(8, 4))\n",
    "axs[0].set_title(\"Original image\")\n",
    "axs[0].imshow(image.get_as_numpy(c=0, z=1, axes_order=[\"y\", \"x\"]), cmap=\"gray\")\n",
    "axs[1].set_title(\"Final segmentation\")\n",
    "axs[1].imshow(label.get_as_numpy(z=1, axes_order=[\"y\", \"x\"]), cmap=rand_cmap)\n",
    "for ax in axs:\n",
    "    ax.axis(\"off\")\n",
    "plt.tight_layout()\n",
    "plt.show()"
   ]
  },
  {
   "cell_type": "code",
   "execution_count": null,
   "metadata": {},
   "outputs": [],
   "source": []
  }
 ],
 "metadata": {
  "kernelspec": {
   "display_name": "dev",
   "language": "python",
   "name": "python3"
  },
  "language_info": {
   "codemirror_mode": {
    "name": "ipython",
    "version": 3
   },
   "file_extension": ".py",
   "mimetype": "text/x-python",
   "name": "python",
   "nbconvert_exporter": "python",
   "pygments_lexer": "ipython3",
   "version": "3.11.13"
  }
 },
 "nbformat": 4,
 "nbformat_minor": 2
}
