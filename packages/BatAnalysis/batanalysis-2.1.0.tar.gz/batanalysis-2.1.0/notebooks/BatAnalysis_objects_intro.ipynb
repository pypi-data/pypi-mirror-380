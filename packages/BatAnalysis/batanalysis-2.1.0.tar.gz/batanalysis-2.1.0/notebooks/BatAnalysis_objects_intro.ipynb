{
 "cells": [
  {
   "cell_type": "markdown",
   "id": "5494e5b5",
   "metadata": {},
   "source": [
    "# Intro to the BatAnalysis Objects\n",
    "\n",
    "In this notebook, we will cover the basics of the BatAnalysis objects that are manipulated to conduct BAT analyses. First, lets import the BatAnalysis package.  "
   ]
  },
  {
   "cell_type": "code",
   "execution_count": 1,
   "id": "f7d9ea46",
   "metadata": {},
   "outputs": [
    {
     "name": "stderr",
     "output_type": "stream",
     "text": [
      "<frozen importlib._bootstrap>:219: RuntimeWarning: scipy._lib.messagestream.MessageStream size changed, may indicate binary incompatibility. Expected 56 from C header, got 64 from PyObject\n"
     ]
    }
   ],
   "source": [
    "import batanalysis as ba"
   ]
  },
  {
   "cell_type": "markdown",
   "id": "7f7aa81a",
   "metadata": {},
   "source": [
    "At any point, we can do:"
   ]
  },
  {
   "cell_type": "code",
   "execution_count": null,
   "id": "2c4d3743",
   "metadata": {},
   "outputs": [],
   "source": [
    "ba.BatObservation?"
   ]
  },
  {
   "cell_type": "markdown",
   "id": "c1de98b4",
   "metadata": {},
   "source": [
    "to pull up the doc string for reference. \n",
    "\n",
    "This BatObservation object is the most basic object that all other objects are derived from and we will not spend any time on this portion of the BatAnalysis code."
   ]
  },
  {
   "cell_type": "markdown",
   "id": "755e26bc",
   "metadata": {},
   "source": [
    "## The BatSurvey Object\n",
    "\n",
    "This object is the primary way to analyze BAT survey data. If we pull up the docstring by doing:"
   ]
  },
  {
   "cell_type": "code",
   "execution_count": 4,
   "id": "a7f131c0",
   "metadata": {},
   "outputs": [],
   "source": [
    "ba.BatSurvey?"
   ]
  },
  {
   "cell_type": "markdown",
   "id": "22d28c58",
   "metadata": {},
   "source": [
    "We see that there are a number of methods that can be run to call HEASoftpy's `batsurvey` with specified parameters, merging the results of `batsurvey`, reading various information into the BatSurvey, and saving/loading the status of the BatSurvey object. These methods are run in the parallel function call in the various example notebooks included in the notebook directory.\n",
    "\n",
    "\n",
    "One important aspect of the BatSurvey object is the way that it is organized. This can be understood in the framework of a system directory. The BatSurvey object is organized as follows:\n",
    "\n",
    "- BatSurvey object/\n",
    "    - obs_id $\\rightarrow$ observation ID\n",
    "    - obs_dir $\\rightarrow$ directory of the batsurvey data\n",
    "    - survey_input $\\rightarrow$ inputs that were passed to HEASoft's `batsurvey`\n",
    "    - result_dir $\\rightarrow$ the directory with the analyses products of `batsurvey`\n",
    "    - batsurvey_result $\\rightarrow$ the output of the batsurvey function\n",
    "    - pointing_flux_files  $\\rightarrow$ all catalog files produced by `batcelldetect` within `batsurvey`\n",
    "    - pointing_ids  $\\rightarrow$ all the pointing IDs that are included in this survey observation\n",
    "    - pha_file_names_list $\\rightarrow$ list of all PHA files that have been created and their paths\n",
    "    - channel = [1, 2, 3, 4, 5, 6, 7, 8]\n",
    "    - emin = [14.0, 20.0, 24.0, 35.0, 50.0, 75.0, 100.0, 150.0]\n",
    "    - emax = [20.0, 24.0, 35.0, 50.0, 75.0, 100.0, 150.0, 195.0]\n",
    "    - syserr = [0.6, 0.3, 0.15, 0.15, 0.15, 0.15, 0.15, 0.6]\n",
    "    - other properties that are specific to a given BAT survey observation\n",
    "    - pointing ID 1/\n",
    "        - success $\\rightarrow$ Boolean denoting if `batsurvey` ran successfully\n",
    "        - fail_code $\\rightarrow$ if `batsurvey` did not run correctly, what is the reason for failure\n",
    "        - {met,utc,mjd}\\_time $\\rightarrow$ the start time of the observation\n",
    "        - exposure $\\rightarrow$ the exposure of the pointing observation\n",
    "        - source 1/\n",
    "            - rate $\\rightarrow$ count rate of the source in each energy band including the full energy integrated band _(if the load_source_information method is called)_\n",
    "            - rate_error $\\rightarrow$ count rate standard deviation of the source in each energy band including the full energy integrated band _(if the load_source_information method is called)_\n",
    "            - bkg_var $\\rightarrow$ background standard deviation in each energy band including the full energy integrated band _(if the load_source_information method is called)_\n",
    "            - snr $\\rightarrow$ SNR of the source detection in each energy band including the full energy integrated band _(if the load_source_information method is called)_\n",
    "            - model_params/ $\\rightarrow$ any pyxspec fittings are saved here\n",
    "                - val\n",
    "                - lolim\n",
    "                - hilim\n",
    "                - errflag\n",
    "            - xspec_model $\\rightarrow$ the path to the saved xspec fitting session\n",
    "            - nsigma_lg10flux_upperlim $\\rightarrow$ a flux upper limit if one is calculated\n",
    "            - other information related to the source\n",
    "    - pointing ID 2/\n",
    "        - _identical pieces of information as for pointing ID 1_\n",
    "        - source 1/\n",
    "            - _identical pieces of information as for pointing ID 1 if the same methods were called for this pointing ID_\n",
    "            - other information related to the source\n",
    "\n",
    "### Obtaining Information \n",
    "\n",
    "When trying to get information from the first level, one can simply do `.obs_id` or `.<value>` where \\<value\\> can be replaced with any of the variable names that live under the first level of the BatSurvey object.\n",
    "\n",
    "When trying to get information at the pointing ID level we can use the `get_pointing_info` method and specify the pointing ID of interest eg `.get_pointing_info(\"pointing ID 1\")`. \n",
    "\n",
    "To get information at the source level we need to also specify the pointing ID that we want the information from. To get the source info from \"pointing ID 1\" we would do `.get_pointing_info(\"pointing ID 1\", source_id=\"source 1\")`.\n",
    "\n",
    "### Setting Information \n",
    "\n",
    "It is also possible for the user to set information at each level if they would like to do so. \n",
    "\n",
    "To set information at the first level one can do `.<new_attribute>=new_value` where \\<new_attribute\\> is the variable thaat new_value will be stored under in the BatSurvey object.\n",
    "\n",
    "To set information in the pointing ID or source level, we would use the set method. For example: `.set_pointing_info(\"pointing ID 1\", key, value)` would create a new attribute called `key` and save the quantity stored in `value` under the specified key under \"pointing ID 1\". To set information at the source level we would, for example, do `.set_pointing_info(\"pointing ID 1\", key, value, source_id=\"source 1\")`."
   ]
  },
  {
   "cell_type": "markdown",
   "id": "5ebb687b",
   "metadata": {},
   "source": [
    "## The MosaicBatSurvey Object\n",
    "\n",
    "This object is the primary way to analyze BAT mosaic images, __not create the mosaic images__. If we pull up the docstring by doing:"
   ]
  },
  {
   "cell_type": "code",
   "execution_count": 5,
   "id": "dfd34086",
   "metadata": {},
   "outputs": [],
   "source": [
    "ba.MosaicBatSurvey?"
   ]
  },
  {
   "cell_type": "markdown",
   "id": "df0e7ae9",
   "metadata": {},
   "source": [
    "we see that it has all the same methods as our BatSurvey object with a few modifications to deal with the special analyses steps that are necessary for mosaic images. \n",
    "\n",
    "Similar to the BatSurvey object, the structure of the MosaicBatSurvey visualized as a filesystem looks like:\n",
    "\n",
    "- MosaicBatSurvey object/\n",
    "    - result_dir $\\rightarrow$ the directory with the mosaic image \n",
    "    - pointing_flux_files  $\\rightarrow$ all catalog files produced by `batcelldetect` when run on the mosaic image\n",
    "    - pointing_ids  $\\rightarrow$ this is just set to [\"mosaic\"]\n",
    "    - pha_file_names_list $\\rightarrow$ list of all PHA files that have been created and their paths\n",
    "    - channel = [1, 2, 3, 4, 5, 6, 7, 8]\n",
    "    - emin = [14.0, 20.0, 24.0, 35.0, 50.0, 75.0, 100.0, 150.0]\n",
    "    - emax = [20.0, 24.0, 35.0, 50.0, 75.0, 100.0, 150.0, 195.0]\n",
    "    - syserr = [0.6, 0.3, 0.15, 0.15, 0.15, 0.15, 0.15, 0.6]\n",
    "    - properties related to the mosaic image \n",
    "    - pointing ID/ $\\rightarrow$ this is automatically set to: \"mosaic\"\n",
    "        - {met,utc,mjd}\\_time $\\rightarrow$ the start time of the first survey pointing included in the mosaic image\n",
    "        - exposure $\\rightarrow$ the sum of bat survey exposures in the creation of the mosaic image\n",
    "         - {met,utc,mjd}\\_stop\\_time $\\rightarrow$ the end time of the last survey pointing included in the mosaic image\n",
    "         - elapse_time $\\rightarrow$ time elapsed between met\\_stop\\_time and met\\_time\n",
    "         -user\\_timebin/ $\\rightarrow$ this contains user specified quantities used to construct the mosaic image\n",
    "             - {met,utc,mjd}\\_time $\\rightarrow$ the start of the time bin that the user specified for the mosaic image _Note: this may not line up with the definition at the pointing ID level since survey data is taken sporatically_\n",
    "             - {met,utc,mjd}\\_stop\\_time $\\rightarrow$ the end of the time bin that the user specified in the creation of the mosaic image _Note: this may not line up with the definition at the pointing ID level since survey data is taken sporatically_\n",
    "        - source 1/\n",
    "            - _identical information as can be found in a BatSurvey object_\n",
    "            - other information related to the source\n",
    "            \n",
    "            \n",
    "The way to obtain (or get) and set information with MosaicBatSurvey objects is identical to doing these operations on BatSurvey objects."
   ]
  },
  {
   "cell_type": "code",
   "execution_count": null,
   "id": "df749f9b",
   "metadata": {},
   "outputs": [],
   "source": []
  }
 ],
 "metadata": {
  "kernelspec": {
   "display_name": "Python 3 (ipykernel)",
   "language": "python",
   "name": "python3"
  },
  "language_info": {
   "codemirror_mode": {
    "name": "ipython",
    "version": 3
   },
   "file_extension": ".py",
   "mimetype": "text/x-python",
   "name": "python",
   "nbconvert_exporter": "python",
   "pygments_lexer": "ipython3",
   "version": "3.8.16"
  }
 },
 "nbformat": 4,
 "nbformat_minor": 5
}
