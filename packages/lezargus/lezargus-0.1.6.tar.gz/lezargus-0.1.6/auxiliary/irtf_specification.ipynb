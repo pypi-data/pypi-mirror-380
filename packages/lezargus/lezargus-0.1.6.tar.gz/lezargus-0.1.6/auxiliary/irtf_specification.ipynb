{
 "cells": [
  {
   "cell_type": "code",
   "execution_count": null,
   "metadata": {},
   "outputs": [],
   "source": [
    "import os\n",
    "import glob\n",
    "import numpy as np\n",
    "import scipy\n",
    "import astropy.table\n",
    "import astropy.io.fits\n",
    "import astropy.units\n",
    "\n",
    "import matplotlib.pyplot as plt\n",
    "\n",
    "import lezargus\n",
    "\n",
    "\n",
    "%matplotlib Qt"
   ]
  },
  {
   "cell_type": "code",
   "execution_count": null,
   "metadata": {},
   "outputs": [],
   "source": [
    "lezargus.initialize.initialize_logging_outputs()\n",
    "# Making sure that the output directory exists.\n",
    "os.makedirs(\"./products/irtf_specification/\", exist_ok=True)"
   ]
  },
  {
   "cell_type": "markdown",
   "metadata": {},
   "source": [
    "# Primary Mirror"
   ]
  },
  {
   "cell_type": "code",
   "execution_count": null,
   "metadata": {},
   "outputs": [],
   "source": [
    "# We read in the primary mirror transmission data file.\n",
    "primary_data_file = (\n",
    "    \"./base/irtf_specification/irtf_primary_mirror_reflectivity.dat\"\n",
    ")\n",
    "primary_data = np.genfromtxt(\n",
    "    primary_data_file, dtype=float, comments=\"#\", delimiter=\"|\"\n",
    ")\n",
    "primary_wavelength, primary_reflectivity = np.transpose(primary_data)\n",
    "# Packing and writing the data.\n",
    "package_wavelength = primary_wavelength\n",
    "package_data = primary_reflectivity\n",
    "# We package the data into plain-text MRT tables. The actual meta data needs\n",
    "# to be added later.\n",
    "wavelength_meter = package_wavelength * 1e-6\n",
    "wavelength_column = astropy.table.Column(\n",
    "    wavelength_meter, name=\"wavelength\", unit=\"m\", dtype=float\n",
    ")\n",
    "data_column = astropy.table.Column(\n",
    "    package_data, name=\"efficiency\", unit=\"\", dtype=float\n",
    ")\n",
    "\n",
    "table_columns = [wavelength_column, data_column]\n",
    "primary_table = astropy.table.Table(table_columns)\n",
    "# Too much precision makes unnessary large file sizes.\n",
    "primary_filename = (\n",
    "    f\"./products/irtf_specification/efficiency_irtf_primary_mirror.dat\"\n",
    ")\n",
    "primary_table.write(\n",
    "    primary_filename,\n",
    "    format=\"ascii.mrt\",\n",
    "    formats={keydex: \"%.7e\" for keydex in primary_table.keys()},\n",
    "    overwrite=True,\n",
    ")"
   ]
  },
  {
   "cell_type": "markdown",
   "metadata": {},
   "source": [
    "# Secondary Mirror"
   ]
  },
  {
   "cell_type": "code",
   "execution_count": null,
   "metadata": {},
   "outputs": [],
   "source": [
    "# We read in the secondary mirror transmission data file.\n",
    "secondary_data_file = (\n",
    "    \"./base/irtf_specification/irtf_secondary_mirror_reflectivity.dat\"\n",
    ")\n",
    "secondary_data = np.genfromtxt(\n",
    "    secondary_data_file, dtype=float, comments=\"#\", delimiter=\"|\"\n",
    ")\n",
    "secondary_wavelength, secondary_reflectivity = np.transpose(secondary_data)\n",
    "# Packing and writing the data.\n",
    "package_wavelength = secondary_wavelength\n",
    "package_data = secondary_reflectivity\n",
    "# We package the data into plain-text MRT tables. The actual meta data needs\n",
    "# to be added later.\n",
    "wavelength_meter = package_wavelength * 1e-6\n",
    "wavelength_column = astropy.table.Column(\n",
    "    wavelength_meter, name=\"wavelength\", unit=\"m\", dtype=float\n",
    ")\n",
    "data_column = astropy.table.Column(\n",
    "    package_data, name=\"efficiency\", unit=\"\", dtype=float\n",
    ")\n",
    "\n",
    "table_columns = [wavelength_column, data_column]\n",
    "secondary_table = astropy.table.Table(table_columns)\n",
    "# Too much precision makes unnessary large file sizes.\n",
    "secondary_filename = (\n",
    "    f\"./products/irtf_specification/efficiency_irtf_secondary_mirror.dat\"\n",
    ")\n",
    "secondary_table.write(\n",
    "    secondary_filename,\n",
    "    format=\"ascii.mrt\",\n",
    "    formats={keydex: \"%.7e\" for keydex in secondary_table.keys()},\n",
    "    overwrite=True,\n",
    ")"
   ]
  },
  {
   "cell_type": "code",
   "execution_count": null,
   "metadata": {},
   "outputs": [],
   "source": []
  }
 ],
 "metadata": {
  "kernelspec": {
   "display_name": "Python 3",
   "language": "python",
   "name": "python3"
  },
  "language_info": {
   "codemirror_mode": {
    "name": "ipython",
    "version": 3
   },
   "file_extension": ".py",
   "mimetype": "text/x-python",
   "name": "python",
   "nbconvert_exporter": "python",
   "pygments_lexer": "ipython3",
   "version": "3.11.2"
  }
 },
 "nbformat": 4,
 "nbformat_minor": 2
}
