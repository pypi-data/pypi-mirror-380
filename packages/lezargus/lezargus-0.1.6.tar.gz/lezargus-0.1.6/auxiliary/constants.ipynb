{
 "cells": [
  {
   "cell_type": "code",
   "execution_count": null,
   "metadata": {},
   "outputs": [
    {
     "name": "stderr",
     "output_type": "stream",
     "text": [
      "ToDoError - Uncertainty values on integrations need to be done.\n",
      "ToDoError - Uncertainty values on integrations need to be done.\n",
      "ToDoError - Uncertainty values on integrations need to be done.\n",
      "ToDoError - Uncertainty values on integrations need to be done.\n",
      "ToDoError - Uncertainty values on integrations need to be done.\n",
      "ToDoError - Uncertainty values on integrations need to be done.\n",
      "ToDoError - Uncertainty values on integrations need to be done.\n",
      "ToDoError - Uncertainty values on integrations need to be done.\n",
      "ToDoError - Uncertainty values on integrations need to be done.\n",
      "ToDoError - Uncertainty values on integrations need to be done.\n",
      "ToDoError - Uncertainty values on integrations need to be done.\n",
      "ToDoError - Uncertainty values on integrations need to be done.\n"
     ]
    }
   ],
   "source": [
    "import glob\n",
    "import os\n",
    "import numpy as np\n",
    "import scipy\n",
    "import astropy.table\n",
    "import astropy.io.fits\n",
    "import astropy.units\n",
    "\n",
    "import matplotlib.pyplot as plt\n",
    "\n",
    "import lezargus\n",
    "\n",
    "\n",
    "%matplotlib Qt\n",
    "\n",
    "\n",
    "# We just use a dictionary to store them all so it is easy to save after.\n",
    "# as a plain text file.\n",
    "CONSTANTS = {}"
   ]
  },
  {
   "cell_type": "code",
   "execution_count": null,
   "metadata": {},
   "outputs": [],
   "source": [
    "lezargus.initialize.initialize_logging_outputs()\n",
    "# Making sure that the output directory exists.\n",
    "os.makedirs(\"./products/constants/\", exist_ok=True)"
   ]
  },
  {
   "cell_type": "markdown",
   "metadata": {},
   "source": [
    "# Constants"
   ]
  },
  {
   "cell_type": "markdown",
   "metadata": {},
   "source": [
    "#### General Constants"
   ]
  },
  {
   "cell_type": "code",
   "execution_count": 2,
   "metadata": {},
   "outputs": [],
   "source": [
    "# The number of slices SPECTRE has.\n",
    "CONSTANTS[\"CONST_SPECTRE_SLICES\"] = 36\n",
    "\n",
    "# The number of pixels (on one edge) of the detector.\n",
    "CONSTANTS[\"CONST_VISIBLE_DETECTOR_SIZE\"] = 2048\n",
    "CONSTANTS[\"CONST_NEARIR_DETECTOR_SIZE\"] = 2048\n",
    "CONSTANTS[\"CONST_MIDIR_DETECTOR_SIZE\"] = 2048\n",
    "# Pixel sizes, in meters, though we notate it in microns (then convert to SI)\n",
    "# as that is the more traditional measurement.\n",
    "CONSTANTS[\"CONST_VISIBLE_PIXEL_SIZE\"] = 15 * 1e-6\n",
    "CONSTANTS[\"CONST_NEARIR_PIXEL_SIZE\"] = 18 * 1e-6\n",
    "CONSTANTS[\"CONST_MIDIR_PIXEL_SIZE\"] = 18 * 1e-6\n",
    "\n",
    "# Detector gain values.\n",
    "CONSTANTS[\"CONST_VISIBLE_DETECTOR_GAIN\"] = 1\n",
    "CONSTANTS[\"CONST_NEARIR_DETECTOR_GAIN\"] = 1\n",
    "CONSTANTS[\"CONST_MIDIR_DETECTOR_GAIN\"] = 1\n",
    "\n",
    "# Cosmic rays give hot pixel values, we describe them here.\n",
    "# The cosmic ray rate provided is per second per square meter.\n",
    "CONSTANTS[\"CONST_COSMIC_RAY_VALUE\"] = 1e5\n",
    "CONSTANTS[\"CONST_COSMIC_RAY_RATE\"] = 1e-5"
   ]
  },
  {
   "cell_type": "markdown",
   "metadata": {},
   "source": [
    "#### Simulator Hot Optics Solid Angles"
   ]
  },
  {
   "cell_type": "code",
   "execution_count": 3,
   "metadata": {},
   "outputs": [],
   "source": [
    "# The physical unit parameters, in meters.\n",
    "primary_secondary_distance = 7.029\n",
    "secondary_window_distance = 8.976\n",
    "window_fplane_distance = 0.363\n",
    "window_beam_height = 3.5 / 1000  # FIX ME!!\n",
    "focal_plane_height = 3.5 / 1000\n",
    "# Calculated angles.\n",
    "primary_angle = 2 * np.arctan(\n",
    "    focal_plane_height\n",
    "    / (\n",
    "        2\n",
    "        * (\n",
    "            primary_secondary_distance\n",
    "            + secondary_window_distance\n",
    "            + window_fplane_distance\n",
    "        )\n",
    "    )\n",
    ")\n",
    "secondary_angle = 2 * np.arctan(\n",
    "    focal_plane_height\n",
    "    / (2 * (secondary_window_distance + window_fplane_distance))\n",
    ")\n",
    "window_angle = 2 * np.arctan(\n",
    "    window_beam_height / (2 * (window_fplane_distance))\n",
    ")\n",
    "\n",
    "primary_solid_angle = primary_angle**2\n",
    "secondary_solid_angle = secondary_angle**2\n",
    "window_solid_angle = window_angle**2\n",
    "\n",
    "CONSTANTS[\"CONST_PRIMARY_MIRROR_SOLID_ANGLE\"] = primary_solid_angle\n",
    "CONSTANTS[\"CONST_SECONDARY_MIRROR_SOLID_ANGLE\"] = secondary_solid_angle\n",
    "CONSTANTS[\"CONST_ENTRANCE_WINDOW_SOLID_ANGLE\"] = window_solid_angle"
   ]
  },
  {
   "cell_type": "markdown",
   "metadata": {},
   "source": [
    "## Saving Constants File"
   ]
  },
  {
   "cell_type": "code",
   "execution_count": null,
   "metadata": {},
   "outputs": [],
   "source": [
    "# The lines of the file.\n",
    "file_lines = []\n",
    "\n",
    "# The header information of the file.\n",
    "file_header = \"\"\"\n",
    "# Data constants for the Lezargus package. We do not expect these constants to \n",
    "# change throughout usage of the program. Changeable constants are instead \n",
    "# considered configuration values and should be changed by the configuration \n",
    "# file accordingly.\n",
    "# \n",
    "# Only basic ASCII-like values should be applied as values to these constants. \n",
    "# These constants are usually generated via the appropriate auxiliary file.\n",
    "# --- --- --- --- --- --- --- --- --- --- --- --- --- --- --- --- --- --- ---\n",
    "\n",
    "\"\"\"\n",
    "# We sort the constants alphabetically as we cannot really do sections\n",
    "# programatically, and there is little value to it anyways.\n",
    "sorted_constants = {\n",
    "    keydex: valuedex for keydex, valuedex in sorted(CONSTANTS.items())\n",
    "}\n",
    "\n",
    "for keydex, valuedex in sorted_constants.items():\n",
    "    # We save the constants in a simple text file. Formatting the keys and\n",
    "    # values first.\n",
    "    str_keydex = str(keydex).upper()\n",
    "    str_valuedex = str(valuedex)\n",
    "\n",
    "    # The key must start with \"CONST\".\n",
    "    if not str_keydex.startswith(\"CONST\"):\n",
    "        raise ValueError(\n",
    "            f\"The constant key {str_keydex} needs to start with `CONST` per\"\n",
    "            \" convention.\"\n",
    "        )\n",
    "\n",
    "    # If it passed the above checks, we add the line.\n",
    "    linedex = f\"{str_keydex}  =  {str_valuedex}\"\n",
    "    file_lines.append(linedex)\n",
    "# We need to add the line breaks.\n",
    "file_lines = [linedex + \"\\n\" for linedex in file_lines]\n",
    "\n",
    "\n",
    "# Writing the file.\n",
    "filename = \"./products/constants/constants.txt\"\n",
    "\n",
    "with open(filename, mode=\"wt\", encoding=\"utf8\") as file:\n",
    "    file.write(file_header)\n",
    "    file.writelines(file_lines)"
   ]
  },
  {
   "cell_type": "code",
   "execution_count": null,
   "metadata": {},
   "outputs": [],
   "source": []
  },
  {
   "cell_type": "code",
   "execution_count": null,
   "metadata": {},
   "outputs": [],
   "source": []
  },
  {
   "cell_type": "code",
   "execution_count": null,
   "metadata": {},
   "outputs": [],
   "source": []
  }
 ],
 "metadata": {
  "kernelspec": {
   "display_name": "Python 3",
   "language": "python",
   "name": "python3"
  },
  "language_info": {
   "codemirror_mode": {
    "name": "ipython",
    "version": 3
   },
   "file_extension": ".py",
   "mimetype": "text/x-python",
   "name": "python",
   "nbconvert_exporter": "python",
   "pygments_lexer": "ipython3",
   "version": "3.12.7"
  }
 },
 "nbformat": 4,
 "nbformat_minor": 2
}
