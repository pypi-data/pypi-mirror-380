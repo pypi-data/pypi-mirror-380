{
 "cells": [
  {
   "cell_type": "markdown",
   "metadata": {},
   "source": [
    "# Gemini North Telescope Data"
   ]
  },
  {
   "cell_type": "code",
   "execution_count": null,
   "metadata": {},
   "outputs": [],
   "source": [
    "import os\n",
    "import numpy as np\n",
    "import scipy as sp\n",
    "import scipy.io.idl as spioidl\n",
    "import astropy as ap\n",
    "import astropy.table as ap_table\n",
    "import astropy.io.fits as ap_fits\n",
    "import astropy.units as ap_unit\n",
    "import astropy.constants as ap_const\n",
    "\n",
    "import matplotlib.pyplot as plt\n",
    "\n",
    "import lezargus\n",
    "\n",
    "\n",
    "%matplotlib Qt"
   ]
  },
  {
   "cell_type": "code",
   "execution_count": null,
   "metadata": {},
   "outputs": [
    {
     "name": "stderr",
     "output_type": "stream",
     "text": [
      "\u001b[38;2;0;68;136m[Lezargus] 2024-01-19T02:33:34     INFO -- Configuration file C:\\Users\\psmdi\\AppData\\Local\\Programs\\Python\\Python312\\Lib\\site-packages\\lezargus\\configuration.yaml was loaded and applied.\u001b[0m\n",
      "\u001b[38;2;0;68;136m[Lezargus] 2024-01-19T02:33:34     INFO -- The temporary log file C:\\Users\\psmdi\\AppData\\Local\\Programs\\Python\\Python312\\Lib\\site-packages\\lezargus\\lezargus_067bc3eeda2c41e88f0fd0275a02e640.log is currently in-use, we defer  deletion until the next load.\u001b[0m\n",
      "\u001b[38;2;0;68;136m[Lezargus] 2024-01-19T02:33:34     INFO -- The temporary log file C:\\Users\\psmdi\\AppData\\Local\\Programs\\Python\\Python312\\Lib\\site-packages\\lezargus\\lezargus_0d2bc794d00b43dd98886bb6640d725d.log is currently in-use, we defer  deletion until the next load.\u001b[0m\n",
      "\u001b[38;2;0;68;136m[Lezargus] 2024-01-19T02:33:34     INFO -- The temporary log file C:\\Users\\psmdi\\AppData\\Local\\Programs\\Python\\Python312\\Lib\\site-packages\\lezargus\\lezargus_483c8a2313154c2fba0c209078b8db66.log is currently in-use, we defer  deletion until the next load.\u001b[0m\n",
      "\u001b[38;2;0;68;136m[Lezargus] 2024-01-19T02:33:34     INFO -- The temporary log file C:\\Users\\psmdi\\AppData\\Local\\Programs\\Python\\Python312\\Lib\\site-packages\\lezargus\\lezargus_51aa3031bc514b50bee4e68b52e63244.log is currently in-use, we defer  deletion until the next load.\u001b[0m\n",
      "\u001b[38;2;0;68;136m[Lezargus] 2024-01-19T02:33:34     INFO -- The temporary log file C:\\Users\\psmdi\\AppData\\Local\\Programs\\Python\\Python312\\Lib\\site-packages\\lezargus\\lezargus_62c331fa9fac464eb0dfcd64cd8c81e0.log is currently in-use, we defer  deletion until the next load.\u001b[0m\n",
      "\u001b[38;2;0;68;136m[Lezargus] 2024-01-19T02:33:34     INFO -- The temporary log file C:\\Users\\psmdi\\AppData\\Local\\Programs\\Python\\Python312\\Lib\\site-packages\\lezargus\\lezargus_64041f40b2a143ceab2001b2885d88a3.log is currently in-use, we defer  deletion until the next load.\u001b[0m\n",
      "\u001b[38;2;0;68;136m[Lezargus] 2024-01-19T02:33:34     INFO -- The temporary log file C:\\Users\\psmdi\\AppData\\Local\\Programs\\Python\\Python312\\Lib\\site-packages\\lezargus\\lezargus_828997f551a44ae386a70153bd5e7f16.log is currently in-use, we defer  deletion until the next load.\u001b[0m\n",
      "\u001b[38;2;0;68;136m[Lezargus] 2024-01-19T02:33:35     INFO -- The temporary log file C:\\Users\\psmdi\\AppData\\Local\\Programs\\Python\\Python312\\Lib\\site-packages\\lezargus\\lezargus_85da5cede7734c2db5f08363e05a2491.log is currently in-use, we defer  deletion until the next load.\u001b[0m\n",
      "\u001b[38;2;0;68;136m[Lezargus] 2024-01-19T02:33:35     INFO -- The temporary log file C:\\Users\\psmdi\\AppData\\Local\\Programs\\Python\\Python312\\Lib\\site-packages\\lezargus\\lezargus_8a828abc8b2741b89435eaed2b9f609c.log is currently in-use, we defer  deletion until the next load.\u001b[0m\n",
      "\u001b[38;2;0;68;136m[Lezargus] 2024-01-19T02:33:35     INFO -- The temporary log file C:\\Users\\psmdi\\AppData\\Local\\Programs\\Python\\Python312\\Lib\\site-packages\\lezargus\\lezargus_8f2a9eb010014c509974e283b801af84.log is currently in-use, we defer  deletion until the next load.\u001b[0m\n",
      "\u001b[38;2;0;68;136m[Lezargus] 2024-01-19T02:33:35     INFO -- The temporary log file C:\\Users\\psmdi\\AppData\\Local\\Programs\\Python\\Python312\\Lib\\site-packages\\lezargus\\lezargus_ae3a3054ade1445491cdf8fe52884fff.log is currently in-use, we defer  deletion until the next load.\u001b[0m\n",
      "\u001b[38;2;0;68;136m[Lezargus] 2024-01-19T02:33:35     INFO -- The temporary log file C:\\Users\\psmdi\\AppData\\Local\\Programs\\Python\\Python312\\Lib\\site-packages\\lezargus\\lezargus_b087a67d04b0401fab1aed2aad8b135c.log is currently in-use, we defer  deletion until the next load.\u001b[0m\n",
      "\u001b[38;2;0;68;136m[Lezargus] 2024-01-19T02:33:35     INFO -- The temporary log file C:\\Users\\psmdi\\AppData\\Local\\Programs\\Python\\Python312\\Lib\\site-packages\\lezargus\\lezargus_bcc4f3b426264efe925d4431036b1577.log is currently in-use, we defer  deletion until the next load.\u001b[0m\n",
      "\u001b[38;2;0;68;136m[Lezargus] 2024-01-19T02:33:35     INFO -- The temporary log file C:\\Users\\psmdi\\AppData\\Local\\Programs\\Python\\Python312\\Lib\\site-packages\\lezargus\\lezargus_e9e3b2bc57a14c52942711342a630458.log is currently in-use, we defer  deletion until the next load.\u001b[0m\n",
      "\u001b[38;2;0;68;136m[Lezargus] 2024-01-19T02:33:35     INFO -- The temporary log file C:\\Users\\psmdi\\AppData\\Local\\Programs\\Python\\Python312\\Lib\\site-packages\\lezargus\\lezargus_f0959911d097459fa8052d0c58a51387.log is currently in-use, we defer  deletion until the next load.\u001b[0m\n",
      "\u001b[38;2;0;68;136m[Lezargus] 2024-01-19T02:33:35     INFO -- The temporary log file C:\\Users\\psmdi\\AppData\\Local\\Programs\\Python\\Python312\\Lib\\site-packages\\lezargus\\lezargus_fa8e77b8c0f4446594d4558b1644317a.log is currently in-use, we defer  deletion until the next load.\u001b[0m\n"
     ]
    }
   ],
   "source": [
    "lezargus.initialize.initialize_logging_outputs()\n",
    "# Making sure that the output directory exists.\n",
    "os.makedirs(\"./products/gemini_data/\", exist_ok=True)"
   ]
  },
  {
   "cell_type": "markdown",
   "metadata": {},
   "source": [
    "## Optical Sky Spectra"
   ]
  },
  {
   "cell_type": "code",
   "execution_count": 64,
   "metadata": {},
   "outputs": [],
   "source": [
    "opt_data = np.genfromtxt(\n",
    "    \"./base/gemini_sky_rad_opt.dat\", comments=\"#\", delimiter=None\n",
    ").T\n",
    "opt_wave, opt_flux_photon = opt_data"
   ]
  },
  {
   "cell_type": "code",
   "execution_count": 65,
   "metadata": {},
   "outputs": [],
   "source": [
    "# The wavelength is in units of nanometers, we convert to meters.\n",
    "opt_wave_meter = opt_wave / 1e9\n",
    "# The optical flux is in phot/s/nm/arcsec^2/m^2.\n",
    "# We first convert the photons to energy.\n",
    "opt_photon_energy = (ap_const.h * ap_const.c).value / opt_wave_meter\n",
    "opt_flux_energy = opt_flux_photon * opt_photon_energy\n",
    "# And then we convert to SI.\n",
    "gem_unit = ap_unit.Unit(\"J s^-1 nm^-1 arcsec^-2 m^-2\")\n",
    "lz_unit = ap_unit.Unit(\"W m^-1 sr^-1 m^-2\")\n",
    "scale_factor = gem_unit.to(lz_unit)\n",
    "opt_flux_si = opt_flux_energy * scale_factor"
   ]
  },
  {
   "cell_type": "code",
   "execution_count": 66,
   "metadata": {},
   "outputs": [
    {
     "name": "stderr",
     "output_type": "stream",
     "text": [
      "\u001b[38;2;255;225;0m[Lezargus] 2024-01-19T02:33:35  WARNING -- FileWarning - The FITS file c:\\Users\\psmdi\\Desktop\\LZ\\Lezargus\\utility\\products\\gem_atm_opt_rad.fits already exists, overwriting as overwrite is True.\u001b[0m\n"
     ]
    }
   ],
   "source": [
    "# Saving the spectra.\n",
    "# We do not really know the airmass from the information, so we assume 1.\n",
    "header = {}\n",
    "header[\"LZI_INST\"] = \"Gemini\"\n",
    "header[\"LZO_NAME\"] = \"Gemini Opt Radiance\"\n",
    "header[\"LZO_AIRM\"] = 1\n",
    "\n",
    "# Creating the object.\n",
    "lz_gem_opt_rad = lezargus.container.LezargusSpectra(\n",
    "    wavelength=opt_wave_meter,\n",
    "    data=opt_flux_si,\n",
    "    uncertainty=None,\n",
    "    wavelength_unit=\"m\",\n",
    "    data_unit=lz_unit,\n",
    "    flags=None,\n",
    "    header=header,\n",
    ")\n",
    "lz_gem_opt_rad.write_fits_file(\n",
    "    f\"./products/gem_atm_opt_rad.fits\", overwrite=True\n",
    ")"
   ]
  },
  {
   "cell_type": "markdown",
   "metadata": {},
   "source": [
    "## Infrared Sky Spectra"
   ]
  },
  {
   "cell_type": "code",
   "execution_count": 67,
   "metadata": {},
   "outputs": [],
   "source": [
    "ir_data = np.genfromtxt(\n",
    "    \"./base/gemini_sky_rad_ir.dat\", comments=\"#\", delimiter=None\n",
    ").T\n",
    "ir_wave, ir_flux_photon = ir_data"
   ]
  },
  {
   "cell_type": "code",
   "execution_count": 68,
   "metadata": {},
   "outputs": [],
   "source": [
    "# The wavelength is in units of nanometers, we convert to meters.\n",
    "ir_wave_meter = ir_wave / 1e9\n",
    "# The optical flux is in phot/s/nm/arcsec^2/m^2.\n",
    "# We first convert the photons to energy.\n",
    "ir_photon_energy = (ap_const.h * ap_const.c).value / ir_wave_meter\n",
    "ir_flux_energy = ir_flux_photon * ir_photon_energy\n",
    "# And then we convert to SI.\n",
    "gem_unit = ap_unit.Unit(\"J s^-1 nm^-1 arcsec^-2 m^-2\")\n",
    "lz_unit = ap_unit.Unit(\"W m^-1 sr^-1 m^-2\")\n",
    "scale_factor = gem_unit.to(lz_unit)\n",
    "ir_flux_si = ir_flux_energy * scale_factor"
   ]
  },
  {
   "cell_type": "code",
   "execution_count": 69,
   "metadata": {},
   "outputs": [
    {
     "name": "stderr",
     "output_type": "stream",
     "text": [
      "\u001b[38;2;255;225;0m[Lezargus] 2024-01-19T02:33:35  WARNING -- FileWarning - The FITS file c:\\Users\\psmdi\\Desktop\\LZ\\Lezargus\\utility\\products\\gem_atm_ir_rad.fits already exists, overwriting as overwrite is True.\u001b[0m\n"
     ]
    }
   ],
   "source": [
    "# Saving the spectra.\n",
    "# The file we got had an airmass of 1.\n",
    "header = {}\n",
    "header[\"LZI_INST\"] = \"Gemini\"\n",
    "header[\"LZO_NAME\"] = \"Gemini IR Radiance\"\n",
    "header[\"LZO_AIRM\"] = 1\n",
    "\n",
    "# Creating the object.\n",
    "lz_gem_ir_rad = lezargus.container.LezargusSpectra(\n",
    "    wavelength=ir_wave_meter,\n",
    "    data=ir_flux_si,\n",
    "    uncertainty=None,\n",
    "    wavelength_unit=\"m\",\n",
    "    data_unit=lz_unit,\n",
    "    flags=None,\n",
    "    header=header,\n",
    ")\n",
    "lz_gem_ir_rad.write_fits_file(f\"./products/gem_atm_ir_rad.fits\", overwrite=True)"
   ]
  },
  {
   "cell_type": "code",
   "execution_count": null,
   "metadata": {},
   "outputs": [],
   "source": []
  }
 ],
 "metadata": {
  "kernelspec": {
   "display_name": "Python 3",
   "language": "python",
   "name": "python3"
  },
  "language_info": {
   "codemirror_mode": {
    "name": "ipython",
    "version": 3
   },
   "file_extension": ".py",
   "mimetype": "text/x-python",
   "name": "python",
   "nbconvert_exporter": "python",
   "pygments_lexer": "ipython3",
   "version": "3.12.1"
  }
 },
 "nbformat": 4,
 "nbformat_minor": 2
}
