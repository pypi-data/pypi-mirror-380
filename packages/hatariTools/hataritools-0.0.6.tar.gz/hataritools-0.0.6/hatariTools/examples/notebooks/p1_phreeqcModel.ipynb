{
 "cells": [
  {
   "cell_type": "markdown",
   "metadata": {},
   "source": [
    "## Phreeqc example - Speciation Calculation\n",
    "\n",
    "Download Phreeqc batch version from this link:\n",
    "https://water.usgs.gov/water-resources/software/PHREEQC/index.html\n",
    "\n"
   ]
  },
  {
   "cell_type": "markdown",
   "metadata": {},
   "source": [
    "### Create a Phreeqc object, define executables and databse"
   ]
  },
  {
   "cell_type": "code",
   "execution_count": null,
   "metadata": {},
   "outputs": [],
   "source": [
    "# import required packages and classes\n",
    "import os\n",
    "from hatariTools.modelEngines.phrTools import phreeqcModel\n",
    "from pathlib import Path\n",
    "\n",
    "#define the model object\n",
    "chemModel = phreeqcModel()\n",
    "\n",
    "#assing the executable and database\n",
    "phPath = \"C:\\\\Program Files\\\\USGS\\\\\"\n",
    "chemModel.phBin = os.path.join(phPath,\"bin\\\\phreeqc.bat\")\n",
    "chemModel.phDb = os.path.join(phPath,\"database\\\\phreeqc.dat\")\n",
    "chemModel.phDb"
   ]
  },
  {
   "cell_type": "markdown",
   "metadata": {
    "tags": []
   },
   "source": [
    "### Set up input and output file"
   ]
  },
  {
   "cell_type": "code",
   "execution_count": null,
   "metadata": {},
   "outputs": [],
   "source": [
    "chemModel.inputFile = Path(\"../In/ex1a.phr\")\n",
    "chemModel.outputFile = Path(\"../Out/ex1a.out\")\n",
    "chemModel.inputFile"
   ]
  },
  {
   "cell_type": "markdown",
   "metadata": {},
   "source": [
    "### Rum model and show simulation data"
   ]
  },
  {
   "cell_type": "code",
   "execution_count": null,
   "metadata": {},
   "outputs": [],
   "source": [
    "chemModel.runModel()"
   ]
  },
  {
   "cell_type": "code",
   "execution_count": null,
   "metadata": {},
   "outputs": [],
   "source": [
    "chemModel.showSimulations()"
   ]
  },
  {
   "cell_type": "markdown",
   "metadata": {},
   "source": [
    "### Show simulation component"
   ]
  },
  {
   "cell_type": "code",
   "execution_count": null,
   "metadata": {},
   "outputs": [],
   "source": [
    "simObj = chemModel.getSimulation(1)"
   ]
  }
 ],
 "metadata": {
  "kernelspec": {
   "display_name": "Python 3 (ipykernel)",
   "language": "python",
   "name": "python3"
  },
  "language_info": {
   "codemirror_mode": {
    "name": "ipython",
    "version": 3
   },
   "file_extension": ".py",
   "mimetype": "text/x-python",
   "name": "python",
   "nbconvert_exporter": "python",
   "pygments_lexer": "ipython3",
   "version": "3.12.3"
  }
 },
 "nbformat": 4,
 "nbformat_minor": 4
}
