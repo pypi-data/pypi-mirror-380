{
 "cells": [
  {
   "cell_type": "code",
   "execution_count": null,
   "id": "75a69620",
   "metadata": {},
   "outputs": [],
   "source": [
    "from hatariTools.geospatialIA.cropRecognition import cropCounting ## Org\n",
    "import matplotlib.pyplot as plt ## Org"
   ]
  },
  {
   "cell_type": "code",
   "execution_count": null,
   "id": "792e42c8",
   "metadata": {},
   "outputs": [],
   "source": [
    "# Create crop object\n",
    "crop = cropCounting() ## Org"
   ]
  },
  {
   "cell_type": "code",
   "execution_count": null,
   "id": "1be89cbc",
   "metadata": {},
   "outputs": [],
   "source": [
    "# Define raster and sample plants\n",
    "crop.defineRaster('PATH-TO-YOUR-RASTER-FILE') ## Org"
   ]
  },
  {
   "cell_type": "code",
   "execution_count": null,
   "id": "1d3e0a32",
   "metadata": {},
   "outputs": [],
   "source": [
    "crop.definePoints('PATH-TO-YOUR-SAMPLE-POINTS-SHAPEFILE') ## Org"
   ]
  },
  {
   "cell_type": "code",
   "execution_count": null,
   "id": "70a123f0",
   "metadata": {},
   "outputs": [],
   "source": [
    "# get point coordinates\n",
    "crop.pointCoords ## Org"
   ]
  },
  {
   "cell_type": "code",
   "execution_count": null,
   "id": "08de4bda",
   "metadata": {},
   "outputs": [],
   "source": [
    "#aprox cell diameter = 2.5m, get cell radius in meters\n",
    "cellRad = int(2.5/2//crop.rasterRes) ## Org\n",
    "print(cellRad) ## Org"
   ]
  },
  {
   "cell_type": "code",
   "execution_count": null,
   "id": "88ba4add",
   "metadata": {},
   "outputs": [],
   "source": [
    "# ratio of analysis\n",
    "crop.pointRatio = 70 ## Org\n",
    "# raster band for the match template analysis\n",
    "crop.selectedBand = 0.2125 * crop.redBand + 0.7154 * crop.greenBand \\\n",
    "                + 0.0721 * crop.blueBand ## Org\n",
    "# sample row, col and array for each point\n",
    "crop.getPointRowCol() ## Org"
   ]
  },
  {
   "cell_type": "code",
   "execution_count": null,
   "id": "d87db6e5",
   "metadata": {},
   "outputs": [],
   "source": [
    "# plant arrays\n",
    "crop.plotReferenceImages() ## Org"
   ]
  },
  {
   "cell_type": "code",
   "execution_count": null,
   "id": "134715dd",
   "metadata": {},
   "outputs": [],
   "source": [
    "# define object order and output raster path\n",
    "#matchTemplate = crop.singleMatchTemplate(1,'../rst/matchTemplate.tif')"
   ]
  },
  {
   "cell_type": "code",
   "execution_count": null,
   "id": "afcab1ea",
   "metadata": {},
   "outputs": [],
   "source": [
    "# plot match template\n",
    "#plt.imshow(matchTemplate)"
   ]
  },
  {
   "cell_type": "code",
   "execution_count": null,
   "id": "81d294cc",
   "metadata": {},
   "outputs": [],
   "source": [
    "#plot histogram to check theshold values\n",
    "crop.singleMatchHistogram(1) ## Org"
   ]
  },
  {
   "cell_type": "code",
   "execution_count": null,
   "id": "db5833e6",
   "metadata": {},
   "outputs": [],
   "source": [
    "# define method (quantile or threshold) and value\n",
    "crop.pointsMatchTemplate('threshold',0.45) ## Org"
   ]
  },
  {
   "cell_type": "code",
   "execution_count": null,
   "id": "2b241146",
   "metadata": {},
   "outputs": [],
   "source": [
    "#working with all points => takes time\n",
    "# plot all templates \n",
    "# crop.plotAllTemp/lates()\n",
    "\n",
    "# save match template to a shapefile\n",
    "#crop.saveMatchShp('../outShp/matchCrop.shp', limit=10000)"
   ]
  },
  {
   "cell_type": "code",
   "execution_count": null,
   "id": "5d47cb44",
   "metadata": {},
   "outputs": [],
   "source": [
    "# Birch clustering\n",
    "crop.birchFilter() ## Org"
   ]
  },
  {
   "cell_type": "code",
   "execution_count": null,
   "id": "f7b85697",
   "metadata": {},
   "outputs": [],
   "source": [
    "# plot birch points\n",
    "crop.plotBirchPoints() ## Org"
   ]
  },
  {
   "cell_type": "code",
   "execution_count": null,
   "id": "64b2b0a6",
   "metadata": {},
   "outputs": [],
   "source": [
    "# save cluster points as shapefile\n",
    "crop.saveBirchShp('../outShp/birchCrop.shp') ## Org"
   ]
  }
 ],
 "metadata": {
  "kernelspec": {
   "display_name": "Python 3",
   "language": "python",
   "name": "python3"
  },
  "language_info": {
   "codemirror_mode": {
    "name": "ipython",
    "version": 3
   },
   "file_extension": ".py",
   "mimetype": "text/x-python",
   "name": "python",
   "nbconvert_exporter": "python",
   "pygments_lexer": "ipython3",
   "version": "3.12.3"
  }
 },
 "nbformat": 4,
 "nbformat_minor": 5
}
