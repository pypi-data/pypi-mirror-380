{
 "cells": [
  {
   "cell_type": "markdown",
   "metadata": {},
   "source": [
    "# Hierarchical Design Patterns\n",
    "\n",
    "This page covers best practices and design patterns for creating composable dynamical systems models, control algorithms, and other modular functionality using Archimedes.\n",
    "By leveraging the [`struct`](#archimedes.tree.struct) decorator, you can create modular components that can be combined into complex hierarchical models while maintaining clean, organized code.\n",
    "However, the recommendations in this guide are strictly suggestions; you can design your models and workflows however you wish."
   ]
  },
  {
   "cell_type": "markdown",
   "metadata": {},
   "source": [
    "## Core Concepts\n",
    "\n",
    "The basic concepts of structured data types and tree operations are covered in the [\"Structured Data Types\"](../../trees.md) documentation page.\n",
    "Here we'll build on these concepts to see how they can be used for intuitive and scalable design patterns.\n",
    "\n",
    "### Trees for structured states\n",
    "\n",
    "Dynamical systems often have state variables that benefit from logical grouping.\n",
    "Using tree-structured representations allows you to:\n",
    "\n",
    "1. Group related state variables together\n",
    "2. Create nested hierarchies that mirror the physical structure of your system\n",
    "3. Maintain clean interfaces between subsystems\n",
    "4. Flatten and unflatten states automatically for ODE solvers\n",
    "\n",
    "### Design Patterns\n",
    "\n",
    "Some recommended patterns for building modular dynamics components in Archimedes are:\n",
    "\n",
    "1. **Modular Components**: Create a [`struct`](#archimedes.tree.struct) for each logical system component\n",
    "2. **Hierarchical Parameters**: Add model parameters as fields in the struct\n",
    "3. **Nested State Classes**: Define a `State` class inside each model component\n",
    "4. **Dynamics Methods**: Implement `dynamics(self, t, state, ...)` methods that return state derivatives\n",
    "5. **Compositional Models**: Build larger models by combining smaller components"
   ]
  },
  {
   "cell_type": "markdown",
   "metadata": {},
   "source": [
    "## Basic Component Pattern\n",
    "\n",
    "Here's a basic example of using these patterns to creating a modular dynamical system component:"
   ]
  },
  {
   "cell_type": "code",
   "execution_count": null,
   "metadata": {},
   "outputs": [
    {
     "data": {
      "text/plain": [
       "Oscillator.State(x=1.0, v=0.0)"
      ]
     },
     "execution_count": 1,
     "metadata": {},
     "output_type": "execute_result"
    }
   ],
   "source": [
    "import os\n",
    "\n",
    "import matplotlib.pyplot as plt\n",
    "import numpy as np\n",
    "\n",
    "import archimedes as arc\n",
    "from archimedes import struct\n",
    "\n",
    "THEME = os.environ.get(\"ARCHIMEDES_THEME\", \"dark\")\n",
    "arc.theme.set_theme(THEME)\n",
    "\n",
    "\n",
    "@struct\n",
    "class Oscillator:\n",
    "    \"\"\"A basic mass-spring-damper component.\"\"\"\n",
    "\n",
    "    # Define model parameters as fields in the struct\n",
    "    m: float  # Mass\n",
    "    k: float  # Spring constant\n",
    "    b: float  # Damping constant\n",
    "\n",
    "    # Define a nested State class as another struct\n",
    "    @struct\n",
    "    class State:\n",
    "        \"\"\"State variables for the mass-spring-damper system.\"\"\"\n",
    "\n",
    "        x: np.ndarray\n",
    "        v: np.ndarray\n",
    "\n",
    "    def dynamics(self, t, state: State, f_ext=0.0):\n",
    "        \"\"\"Compute the time derivatives of the state variables.\"\"\"\n",
    "\n",
    "        # Compute derivatives\n",
    "        f_net = f_ext - self.k * state.x - self.b * state.v\n",
    "\n",
    "        # Return state derivatives in the same structure\n",
    "        return self.State(\n",
    "            x=state.v,\n",
    "            v=f_net / self.m,\n",
    "        )\n",
    "\n",
    "\n",
    "system = Oscillator(m=1.0, k=1.0, b=0.1)\n",
    "x0 = system.State(x=1.0, v=0.0)\n",
    "x0"
   ]
  },
  {
   "cell_type": "markdown",
   "metadata": {},
   "source": [
    "For such a simple system, the advantages to this design are relatively limited, but because these nodes can be nested within each other, it can be a useful way to organize states, parameters, and functions associated with complex models."
   ]
  },
  {
   "cell_type": "markdown",
   "metadata": {},
   "source": [
    "## Working with tree-structured data\n",
    "\n",
    "Many functions like ODE solvers expect to work with flat vectors.\n",
    "Tree operations in Archimedes make conversion to and from flat vectors easy.\n",
    "For example, we can \"ravel\" a tree-structured state to a vector and \"unravel\" back to the original state:"
   ]
  },
  {
   "cell_type": "code",
   "execution_count": 2,
   "metadata": {},
   "outputs": [
    {
     "name": "stdout",
     "output_type": "stream",
     "text": [
      "[1. 0.]\n",
      "Oscillator.State(x=array(1.), v=array(0.))\n"
     ]
    }
   ],
   "source": [
    "x0_flat, unravel = arc.tree.ravel(x0)\n",
    "print(x0_flat)\n",
    "print(unravel(x0_flat))"
   ]
  },
  {
   "cell_type": "markdown",
   "metadata": {},
   "source": [
    "The `unravel` function created by [`tree.ravel`](#archimedes.tree.ravel) is specific to the original argument data type, so it can be used within ODE functions, for example:"
   ]
  },
  {
   "cell_type": "code",
   "execution_count": 3,
   "metadata": {},
   "outputs": [],
   "source": [
    "@arc.compile\n",
    "def ode_rhs(t, state_flat, system):\n",
    "    # Unflatten the state vector to our structured state\n",
    "    state = unravel(state_flat)\n",
    "\n",
    "    # Compute state derivatives using model dynamics\n",
    "    state_deriv = system.dynamics(t, state)\n",
    "\n",
    "    # Flatten derivatives back to a vector\n",
    "    state_deriv_flat, _ = arc.tree.ravel(state_deriv)\n",
    "\n",
    "    return state_deriv_flat\n",
    "\n",
    "\n",
    "# Solve the ODE\n",
    "t_span = (0.0, 10.0)\n",
    "t_eval = np.linspace(*t_span, 100)\n",
    "solution_flat = arc.odeint(\n",
    "    ode_rhs,\n",
    "    t_span=t_span,\n",
    "    x0=x0_flat,\n",
    "    t_eval=t_eval,\n",
    "    args=(system,),\n",
    ")"
   ]
  },
  {
   "cell_type": "markdown",
   "metadata": {},
   "source": [
    "Since the model itself is also a [`struct`](#archimedes.tree.struct), we can also apply [`ravel`](#archimedes.tree.ravel) directly to it, giving us a flat vector of the parameters defined as fields:"
   ]
  },
  {
   "cell_type": "code",
   "execution_count": 4,
   "metadata": {},
   "outputs": [
    {
     "name": "stdout",
     "output_type": "stream",
     "text": [
      "[1.  1.  0.1]\n"
     ]
    }
   ],
   "source": [
    "p_flat, unravel_system = arc.tree.ravel(system)\n",
    "print(p_flat)  # [1.  1.  0.1]"
   ]
  },
  {
   "cell_type": "markdown",
   "metadata": {},
   "source": [
    "This is useful for applications in optimization and parameter estimation.\n",
    "\n",
    "Another common pattern is to define yet another `struct` for the parameters, rather than having them as fields in the system model.\n",
    "This comes down to individual preference and whatever works best for the specific application."
   ]
  },
  {
   "cell_type": "markdown",
   "metadata": {},
   "source": [
    "## Complete Example: Coupled Oscillators\n",
    "\n",
    "Larger systems can be built by composing multiple components together.\n",
    "Let's build a system of coupled oscillators to demonstrate these patterns."
   ]
  },
  {
   "cell_type": "code",
   "execution_count": null,
   "metadata": {},
   "outputs": [
    {
     "data": {
      "image/png": "[encoded data removed]",
      "text/plain": [
       "<Figure size 700x200 with 1 Axes>"
      ]
     },
     "metadata": {},
     "output_type": "display_data"
    }
   ],
   "source": [
    "@struct\n",
    "class CoupledOscillators:\n",
    "    \"\"\"A system of two coupled oscillators.\"\"\"\n",
    "\n",
    "    osc1: Oscillator\n",
    "    osc2: Oscillator\n",
    "    coupling_constant: float\n",
    "\n",
    "    @struct\n",
    "    class State:\n",
    "        \"\"\"Combined state of both oscillators.\"\"\"\n",
    "\n",
    "        osc1: Oscillator.State\n",
    "        osc2: Oscillator.State\n",
    "\n",
    "    def dynamics(self, t, state):\n",
    "        \"\"\"Compute dynamics of the coupled system.\"\"\"\n",
    "        # Extract states\n",
    "        x1 = state.osc1.x\n",
    "        x2 = state.osc2.x\n",
    "\n",
    "        # Compute equal and opposite coupling force\n",
    "        f_ext = self.coupling_constant * (x2 - x1)\n",
    "\n",
    "        return self.State(\n",
    "            osc1=self.osc1.dynamics(t, state.osc1, f_ext),\n",
    "            osc2=self.osc2.dynamics(t, state.osc2, -f_ext),\n",
    "        )\n",
    "\n",
    "\n",
    "# Create a coupled oscillator system\n",
    "system = CoupledOscillators(\n",
    "    osc1=Oscillator(m=1.0, k=4.0, b=0.1),\n",
    "    osc2=Oscillator(m=1.5, k=2.0, b=0.2),\n",
    "    coupling_constant=0.5,\n",
    ")\n",
    "\n",
    "# Create initial state\n",
    "x0 = system.State(\n",
    "    osc1=Oscillator.State(x=1.0, v=0.0),\n",
    "    osc2=Oscillator.State(x=-0.5, v=0.0),\n",
    ")\n",
    "\n",
    "# Flatten the state for ODE solver\n",
    "x0_flat, state_unravel = arc.tree.ravel(x0)\n",
    "\n",
    "\n",
    "# ODE function that works with flat arrays\n",
    "@arc.compile\n",
    "def ode_rhs(t, state_flat, system):\n",
    "    state = state_unravel(state_flat)\n",
    "    state_deriv = system.dynamics(t, state)\n",
    "    state_deriv_flat, _ = arc.tree.ravel(state_deriv)\n",
    "    return state_deriv_flat\n",
    "\n",
    "\n",
    "# Solve the system\n",
    "t_span = (0.0, 20.0)\n",
    "t_eval = np.linspace(*t_span, 200)\n",
    "sol_flat = arc.odeint(\n",
    "    ode_rhs,\n",
    "    t_span=t_span,\n",
    "    x0=x0_flat,\n",
    "    t_eval=t_eval,\n",
    "    args=(system,),\n",
    ")\n",
    "\n",
    "# Postprocessing: create a \"vectorized map\" of the unravel\n",
    "# function to map back to the original tree-structured state\n",
    "sol = arc.vmap(state_unravel, in_axes=1)(sol_flat)\n",
    "\n",
    "# Plot the results\n",
    "plt.figure(figsize=(7, 2))\n",
    "plt.plot(t_eval, sol.osc1.x, label=\"Oscillator 1\")\n",
    "plt.plot(t_eval, sol.osc2.x, label=\"Oscillator 2\")\n",
    "plt.xlabel(\"Time\")\n",
    "plt.ylabel(\"Position\")\n",
    "plt.title(\"Coupled Oscillators\")\n",
    "plt.legend()\n",
    "plt.grid(True)\n",
    "plt.show()"
   ]
  },
  {
   "cell_type": "markdown",
   "metadata": {},
   "source": [
    "## Summary\n",
    "\n",
    "The recommended approach to building hierarchical and modular dynamical systems in Archimedes follows these key patterns:\n",
    "\n",
    "1. Use [`@struct`](#archimedes.tree.struct) to define structured component classes\n",
    "2. Create nested `State` classes to organize state variables\n",
    "3. Implement `dynamics` methods that compute state derivatives\n",
    "4. Compose larger systems from smaller components\n",
    "5. Add helper methods to simplify simulation and analysis\n",
    "\n",
    "Other best practices include:\n",
    "\n",
    "1. **Consistent Interfaces**: Keep the `dynamics(self, t, state, *args)` method signature consistent across all components\n",
    "2. **Immutable States**: Always return new state objects instead of modifying existing ones\n",
    "3. **Physical Units**: Document physical units in comments or docstrings\n",
    "4. **Input Validation**: Add validation in constructors to catch errors early\n",
    "5. **Meaningful Names**: Use descriptive names that reflect physical components, or consistent pseudo-mathematical notation like the [monogram](https://drake.mit.edu/doxygen_cxx/group__multibody__notation__basics.html) convention\n",
    "6. **Domain Decomposition**: Decompose complex systems into logical components (mechanical, electrical, etc.)\n",
    "7. **Structured Parameters**: Define physical parameters as fields in the structs, and use the [`field(static=True)`](#archimedes.tree.field) annotation to mark configuration variables.\n",
    "\n",
    "\n",
    "These patterns enable clean, organized, and reusable model components by leveraging Archimedes' tree operations to handle the conversion between structured and flat representations needed by ODE solvers."
   ]
  }
 ],
 "metadata": {
  "kernelspec": {
   "display_name": "archimedes",
   "language": "python",
   "name": "archimedes"
  },
  "language_info": {
   "codemirror_mode": {
    "name": "ipython",
    "version": 3
   },
   "file_extension": ".py",
   "mimetype": "text/x-python",
   "name": "python",
   "nbconvert_exporter": "python",
   "pygments_lexer": "ipython3",
   "version": "3.12.9"
  }
 },
 "nbformat": 4,
 "nbformat_minor": 2
}
