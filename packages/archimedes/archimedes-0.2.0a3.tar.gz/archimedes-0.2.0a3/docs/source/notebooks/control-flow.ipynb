{
 "cells": [
  {
   "cell_type": "markdown",
   "id": "2e35a3c4",
   "metadata": {},
   "source": [
    "# Structured Control Flow\n",
    "\n",
    "Control flow is a fundamental aspect of programming, allowing us to make decisions (if/else) and repeat operations (loops). However, in symbolic computation frameworks like Archimedes, standard Python control flow constructs don't work as expected. This page explains why this happens and introduces structured control flow mechanisms that enable these patterns in a symbolic-computation-friendly way.\n",
    "\n",
    "Note that much of the design of these control flow functions is based on JAX; it may be worth taking a look at [the JAX documentation on control flow](https://docs.jax.dev/en/latest/control-flow.html) for further reading.\n"
   ]
  },
  {
   "cell_type": "code",
   "execution_count": 1,
   "id": "1fa81007",
   "metadata": {},
   "outputs": [],
   "source": [
    "import numpy as np\n",
    "\n",
    "import archimedes as arc\n",
    "from archimedes import struct"
   ]
  },
  {
   "cell_type": "markdown",
   "id": "9c5cedfb",
   "metadata": {},
   "source": [
    "\n",
    "## The Problem with Standard Control Flow\n",
    "\n",
    "When working with symbolic computation, Python's standard control flow constructs often fail because they require evaluating conditions on symbolic values, which cannot be directly converted to boolean values. For example:"
   ]
  },
  {
   "cell_type": "code",
   "execution_count": 9,
   "id": "cd15f506",
   "metadata": {},
   "outputs": [
    {
     "data": {
      "text/plain": [
       "(array(0.54030231), np.float64(0.8414709848078965))"
      ]
     },
     "execution_count": 9,
     "metadata": {},
     "output_type": "execute_result"
    }
   ],
   "source": [
    "@arc.compile\n",
    "def f(x):\n",
    "    if x > 0:  # This doesn't work! x is symbolic here\n",
    "        return np.sin(x)\n",
    "    else:\n",
    "        return np.cos(x)\n",
    "\n",
    "\n",
    "x = 1.0\n",
    "f(x), np.sin(x)  # Incorrect!"
   ]
  },
  {
   "cell_type": "markdown",
   "id": "5592873b",
   "metadata": {},
   "source": [
    "This fails because `x > 0` produces a symbolic expression representing the condition, not a concrete `True` or `False` value that Python's `if` statement requires.\n",
    "\n",
    "Similarly, loops with symbolic bounds or termination conditions don't work:"
   ]
  },
  {
   "cell_type": "code",
   "execution_count": 40,
   "id": "07c48fba",
   "metadata": {},
   "outputs": [
    {
     "name": "stdout",
     "output_type": "stream",
     "text": [
      "Error: 'SymbolicArray' object cannot be interpreted as an integer\n"
     ]
    }
   ],
   "source": [
    "@arc.compile\n",
    "def f(x):\n",
    "    y = 0\n",
    "    for i in range(x):  # Error: x is symbolic, can't be converted to int\n",
    "        y += i\n",
    "    return y\n",
    "\n",
    "\n",
    "try:\n",
    "    f(5)\n",
    "except TypeError as e:\n",
    "    print(\"Error:\", e)"
   ]
  },
  {
   "cell_type": "markdown",
   "id": "7f96da89",
   "metadata": {},
   "source": [
    "## When You Can Use Standard Python Loops\n",
    "\n",
    "Despite these limitations, standard Python loops can be used in specific cases:\n",
    "\n",
    "1. When loop bounds are static (known at compile time)\n",
    "2. When the loop iteration count doesn't depend on symbolic values\n",
    "3. When there's no early termination based on symbolic conditions\n",
    "\n",
    "For example, this will work:"
   ]
  },
  {
   "cell_type": "code",
   "execution_count": 15,
   "id": "d4e05d30",
   "metadata": {},
   "outputs": [
    {
     "data": {
      "text/plain": [
       "array(15)"
      ]
     },
     "execution_count": 15,
     "metadata": {},
     "output_type": "execute_result"
    }
   ],
   "source": [
    "@arc.compile\n",
    "def f(x):\n",
    "    y = 0\n",
    "    for i in range(len(x)):  # Fixed, static bound\n",
    "        y += x[i]\n",
    "    return y\n",
    "\n",
    "\n",
    "x = np.array([1, 2, 3, 4, 5])\n",
    "f(x)"
   ]
  },
  {
   "cell_type": "markdown",
   "id": "aded575e",
   "metadata": {},
   "source": [
    "However, even when loops are structurally valid, using standard Python loops inside compiled functions can lead to large computational graphs, which may impact performance and memory usage.\n",
    "\n",
    "\n",
    "## Structured Control Flow Mechanisms\n",
    "\n",
    "Archimedes provides three primary mechanisms for structured control flow:\n",
    "\n",
    "1. [`np.where`](#numpy.where) - For element-wise conditional operations\n",
    "2. [`scan`](#archimedes.scan) - For iterative computations (similar to functional fold/reduce)\n",
    "3. [`switch`](#archimedes.switch) - For selecting between multiple computational branches\n",
    "4. [`vmap`](#archimedes.vmap) - For vectorizing operations across batch dimensions\n",
    "\n",
    "Let's explore each of these in detail.\n"
   ]
  },
  {
   "cell_type": "markdown",
   "id": "a7a3f285",
   "metadata": {},
   "source": [
    "### Iterative Computation with [`scan`](#archimedes.scan)\n",
    "\n",
    "For loops and iterative algorithms, [`scan`](#archimedes.scan) provides a functional way to express loops that are compatible with symbolic computation:"
   ]
  },
  {
   "cell_type": "code",
   "execution_count": 19,
   "id": "20fdc713",
   "metadata": {},
   "outputs": [
    {
     "name": "stdout",
     "output_type": "stream",
     "text": [
      "15\n",
      "[ 1  3  6 10 15]\n"
     ]
    }
   ],
   "source": [
    "# Define a function for a single iteration\n",
    "@arc.compile\n",
    "def iteration_step(carry, x):\n",
    "    new_carry = carry + x\n",
    "    return new_carry, new_carry  # Return both state and output\n",
    "\n",
    "\n",
    "# Apply this function repeatedly\n",
    "xs = np.array([1, 2, 3, 4, 5])\n",
    "final_state, ys = arc.scan(iteration_step, 0, xs)\n",
    "\n",
    "print(final_state)  # 15 (sum of all values)\n",
    "print(ys)  # [1, 3, 6, 10, 15] (running sum)"
   ]
  },
  {
   "cell_type": "markdown",
   "id": "b0b12a13",
   "metadata": {},
   "source": [
    "[`scan`](#archimedes.scan) takes a function with the signature `f(carry, x) -> (new_carry, y)`, applies it to each element of `xs` (or for a specified number of iterations), and returns the final state and all intermediate outputs `ys`.\n",
    "\n",
    "This is useful for constructing efficient computational graphs when there is a loop with many iterations; the [`scan`](#archimedes.scan) operation condenses all of these to a single node in the computational graph, compared to one node per loop iteration."
   ]
  },
  {
   "cell_type": "markdown",
   "id": "0e972606",
   "metadata": {},
   "source": [
    "\n",
    "### Conditional Logic with `np.where`\n",
    "\n",
    "The simplest way to implement conditional logic is using NumPy's [`where`](#numpy.where) function, which works with symbolic values:"
   ]
  },
  {
   "cell_type": "code",
   "execution_count": 16,
   "id": "a2dbe26e",
   "metadata": {},
   "outputs": [
    {
     "name": "stdout",
     "output_type": "stream",
     "text": [
      "0.8414709848078965 0.8414709848078965\n",
      "0.5403023058681398 0.5403023058681398\n"
     ]
    }
   ],
   "source": [
    "@arc.compile\n",
    "def f(x):\n",
    "    return np.where(x > 0, np.sin(x), np.cos(x))\n",
    "\n",
    "\n",
    "print(f(1.0), np.sin(1.0))\n",
    "print(f(-1.0), np.cos(-1.0))"
   ]
  },
  {
   "cell_type": "markdown",
   "id": "c193ab8c",
   "metadata": {},
   "source": [
    "This approach works for simple conditionals but becomes unwieldy for complex branching logic or when the branches involve substantial computation.\n",
    "\n",
    "### Branch Selection with [`switch`](#archimedes.switch)\n",
    "\n",
    "For more complex conditional branching, where different functions need to be applied based on an index value, [`switch`](#archimedes.switch) provides a clean solution:\n"
   ]
  },
  {
   "cell_type": "code",
   "execution_count": 18,
   "id": "ef7d50ac",
   "metadata": {},
   "outputs": [
    {
     "name": "stdout",
     "output_type": "stream",
     "text": [
      "4.0 0.9092974268256817 -2.0\n"
     ]
    }
   ],
   "source": [
    "@arc.compile\n",
    "def apply_operation(x, op_index):\n",
    "    return arc.switch(\n",
    "        op_index,\n",
    "        (\n",
    "            lambda x: x**2,  # Branch 0\n",
    "            lambda x: np.sin(x),  # Branch 1\n",
    "            lambda x: -x,\n",
    "        ),  # Branch 2\n",
    "        x,\n",
    "    )\n",
    "\n",
    "\n",
    "# Call with different branch indices\n",
    "result0 = apply_operation(2.0, 0)  # 4.0 (square)\n",
    "result1 = apply_operation(2.0, 1)  # ~0.91 (sine)\n",
    "result2 = apply_operation(2.0, 2)  # -2.0 (negate)\n",
    "\n",
    "print(result0, result1, result2)"
   ]
  },
  {
   "cell_type": "markdown",
   "id": "d813a267",
   "metadata": {},
   "source": [
    "[`switch`](#archimedes.switch) evaluates all branches during compilation to ensure they return compatible outputs, but at runtime, only the selected branch executes (i.e. evaluation is \"short-circuiting\")."
   ]
  },
  {
   "cell_type": "markdown",
   "id": "2acd446d",
   "metadata": {},
   "source": [
    "\n",
    "### Vectorization with [`vmap`](#archimedes.vmap)\n",
    "\n",
    "For applying the same operation to multiple inputs in parallel, [`vmap`](#archimedes.vmap) transforms a function that works on single elements into one that works on batches:\n"
   ]
  },
  {
   "cell_type": "code",
   "execution_count": 23,
   "id": "35dccddd",
   "metadata": {},
   "outputs": [
    {
     "name": "stdout",
     "output_type": "stream",
     "text": [
      "[ 23  67 127]\n"
     ]
    }
   ],
   "source": [
    "def dot(a, b):\n",
    "    return np.dot(a, b)\n",
    "\n",
    "\n",
    "# Vectorize to compute multiple dot products at once\n",
    "batched_dot = arc.vmap(dot)\n",
    "\n",
    "# Input: batch of vectors (3 vectors of length 2)\n",
    "x = np.array([[1, 2], [3, 4], [5, 6]])\n",
    "y = np.array([[7, 8], [9, 10], [11, 12]])\n",
    "\n",
    "# Output: batch of scalars (3 dot products)\n",
    "print(batched_dot(x, y))  # [23, 67, 127]"
   ]
  },
  {
   "cell_type": "markdown",
   "id": "bed6b752",
   "metadata": {},
   "source": [
    "\n",
    "## Common Control Flow Patterns\n",
    "\n",
    "Now let's look at how to implement common control flow patterns using these mechanisms.\n",
    "\n",
    "### Implementing if/else logic\n",
    "\n",
    "As mentioned above, for simple conditionals it is easiest to use [`np.where`](#numpy.where).  However, when the branches are more complex, an `if_else` function can be constructed with [`switch`](#archimedes.switch):\n"
   ]
  },
  {
   "cell_type": "code",
   "execution_count": 30,
   "id": "b1346fed",
   "metadata": {},
   "outputs": [
    {
     "name": "stdout",
     "output_type": "stream",
     "text": [
      "5\n",
      "-1\n"
     ]
    }
   ],
   "source": [
    "def true_branch(x, y):\n",
    "    return x + y\n",
    "\n",
    "\n",
    "def false_branch(x, y):\n",
    "    return x - y\n",
    "\n",
    "\n",
    "@arc.compile\n",
    "def f(condition, x, y):\n",
    "    # Convert boolean condition to 0/1 index\n",
    "    return arc.switch(condition, (false_branch, true_branch), x, y)\n",
    "\n",
    "\n",
    "print(f(True, 2, 3))  # Returns 5 (true branch)\n",
    "print(f(False, 2, 3))  # Returns -1 (false branch)"
   ]
  },
  {
   "cell_type": "markdown",
   "id": "2fd806fa",
   "metadata": {},
   "source": [
    "### Creating a Bounded While Loop\n",
    "\n",
    "While [`scan`](#archimedes.scan) typically iterates for a fixed number of steps, you can implement a bounded while loop by carrying a condition flag and using early-return values:\n"
   ]
  },
  {
   "cell_type": "code",
   "execution_count": null,
   "id": "f4e1b36f",
   "metadata": {},
   "outputs": [],
   "source": [
    "@arc.compile(static_argnames=(\"loop_func\", \"max_iterations\"))\n",
    "def bounded_while(loop_func, init_state, max_iterations=100):\n",
    "    def body(state, i):\n",
    "        # Unpack state: (value, done)\n",
    "        x, done = state\n",
    "\n",
    "        # Compute new value if not done\n",
    "        new_x = np.where(done, x, loop_func(x))\n",
    "\n",
    "        # Check termination condition (with a maximum iteration bound)\n",
    "        done = np.where(done + (np.abs(new_x - x) < 1e-6), 1, 0)\n",
    "\n",
    "        # Return updated state and the current value\n",
    "        return (new_x, done), new_x\n",
    "\n",
    "    # Initialize with not-done flag\n",
    "    init_full_state = (init_state, False)\n",
    "\n",
    "    # Run the scan for the maximum number of iterations\n",
    "    final_state, values = arc.scan(body, init_full_state, length=max_iterations)\n",
    "\n",
    "    # Return the final converged value\n",
    "    return final_state[0]"
   ]
  },
  {
   "cell_type": "markdown",
   "id": "7dd97a2a",
   "metadata": {},
   "source": [
    "### Vectorizing Tree Operations\n",
    "\n",
    "When working with structured data types, [`vmap`](#archimedes.vmap) is a particularly useful transformation:"
   ]
  },
  {
   "cell_type": "code",
   "execution_count": 36,
   "id": "17ab5b44",
   "metadata": {},
   "outputs": [],
   "source": [
    "@struct\n",
    "class Particle:\n",
    "    pos: np.ndarray\n",
    "    vel: np.ndarray\n",
    "\n",
    "\n",
    "def update(particle, dt):\n",
    "    new_pos = particle.pos + dt * particle.vel\n",
    "    return Particle(pos=new_pos, vel=particle.vel)\n",
    "\n",
    "\n",
    "# Create a batch of particles\n",
    "positions = np.random.randn(100, 3)  # 100 particles in 3D space\n",
    "velocities = np.random.randn(100, 3)\n",
    "particles = Particle(pos=positions, vel=velocities)\n",
    "\n",
    "# Update all particles at once\n",
    "batch_update = arc.vmap(update, in_axes=(0, None))\n",
    "new_particles = batch_update(particles, 0.1)"
   ]
  },
  {
   "cell_type": "markdown",
   "id": "eb1e9fbe",
   "metadata": {},
   "source": [
    "[`vmap`](#archimedes.vmap) can also be used to batch-unravel flat arrays, for example the results of a simulation:"
   ]
  },
  {
   "cell_type": "code",
   "execution_count": 38,
   "id": "cdd4930e",
   "metadata": {},
   "outputs": [
    {
     "name": "stdout",
     "output_type": "stream",
     "text": [
      "Error: cannot reshape array of size 200 into shape (2,)\n",
      "(2, 100)\n"
     ]
    }
   ],
   "source": [
    "x0 = Particle(pos=np.array([0.0, 0.0]), vel=np.array([1.0, 1.0]))\n",
    "\n",
    "# Flatten the single particle\n",
    "x0_flat, unravel = arc.tree.ravel(x0)\n",
    "\n",
    "# Dummy data in the shape of a simulation result\n",
    "xs_flat = np.random.randn(4, 100)  # 4 timesteps, 100 particles\n",
    "\n",
    "# We cannot directly unravel the data\n",
    "try:\n",
    "    x0_unraveled = unravel(xs_flat)\n",
    "except ValueError as e:\n",
    "    print(\"Error:\", e)\n",
    "\n",
    "# Instead use vmap:\n",
    "xs = arc.vmap(unravel, in_axes=1, out_axes=1)(xs_flat)\n",
    "print(xs.pos.shape)  # (2, 100)"
   ]
  },
  {
   "cell_type": "code",
   "execution_count": null,
   "id": "b7e2b84b",
   "metadata": {},
   "outputs": [],
   "source": []
  }
 ],
 "metadata": {
  "kernelspec": {
   "display_name": "archimedes",
   "language": "python",
   "name": "archimedes"
  },
  "language_info": {
   "codemirror_mode": {
    "name": "ipython",
    "version": 3
   },
   "file_extension": ".py",
   "mimetype": "text/x-python",
   "name": "python",
   "nbconvert_exporter": "python",
   "pygments_lexer": "ipython3",
   "version": "3.12.9"
  }
 },
 "nbformat": 4,
 "nbformat_minor": 5
}
