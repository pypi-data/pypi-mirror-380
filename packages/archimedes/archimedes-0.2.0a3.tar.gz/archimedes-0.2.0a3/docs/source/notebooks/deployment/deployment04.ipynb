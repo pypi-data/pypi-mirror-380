{
 "cells": [
  {
   "cell_type": "code",
   "execution_count": 1,
   "id": "84a17cf8",
   "metadata": {},
   "outputs": [],
   "source": [
    "# ruff: noqa: N802, N803, N806, N815, N816\n",
    "import os\n",
    "import pprint\n",
    "\n",
    "import numpy as np\n",
    "from scipy import signal\n",
    "\n",
    "# Simple utilities for displaying generated code in the notebook\n",
    "from utils import cleanup\n",
    "\n",
    "import archimedes as arc\n",
    "from archimedes import struct\n",
    "from archimedes.docs.utils import display_text\n",
    "\n",
    "THEME = os.environ.get(\"ARCHIMEDES_THEME\", \"dark\")\n",
    "arc.theme.set_theme(THEME)\n",
    "\n",
    "cleanup()  # Clean up any previous generated code"
   ]
  },
  {
   "cell_type": "markdown",
   "id": "d8f0ef81",
   "metadata": {},
   "source": [
    "# Structured data types\n",
    "\n",
    "So far we have been working with a function that operates with regular arrays:"
   ]
  },
  {
   "cell_type": "code",
   "execution_count": 2,
   "id": "7806c990",
   "metadata": {},
   "outputs": [],
   "source": [
    "# Design a simple IIR filter with SciPy\n",
    "dt = 0.01  # Sampling time [seconds]\n",
    "Wn = 10  # Cutoff frequency [Hz]\n",
    "order = 4\n",
    "b, a = signal.butter(order, Wn, \"low\", analog=False, fs=1 / dt)\n",
    "\n",
    "\n",
    "@arc.compile(return_names=(\"u_hist\", \"y_hist\"))\n",
    "def iir_filter_flat(u, b, a, u_prev, y_prev):\n",
    "    # Update input history\n",
    "    u_prev[1:] = u_prev[:-1]\n",
    "    u_prev[0] = u\n",
    "\n",
    "    # Compute output using the direct II transposed structure\n",
    "    y = (np.dot(b, u_prev) - np.dot(a[1:], y_prev[: len(a) - 1])) / a[0]\n",
    "\n",
    "    # Update output history\n",
    "    y_prev[1:] = y_prev[:-1]\n",
    "    y_prev[0] = y\n",
    "\n",
    "    return u_prev, y_prev"
   ]
  },
  {
   "cell_type": "markdown",
   "id": "f826ceae",
   "metadata": {},
   "source": [
    "However, this approach of passing each individual input, output, or state component as an arg doesn't scale well to more complex algorithms.\n",
    "Additionally, for stateful functions it requires manual state management:\n",
    "\n",
    "```c\n",
    "// Copy output arrays back to inputs\n",
    "for (int j = 0; j < n; j++) {\n",
    "    arg.u_prev[j] = res.u_hist[j];\n",
    "    arg.y_prev[j] = res.y_hist[j];\n",
    "}\n",
    "arg.u_prev[n] = res.u_hist[n];\n",
    "```"
   ]
  },
  {
   "cell_type": "markdown",
   "id": "98655428",
   "metadata": {},
   "source": [
    "This single filter uses five arguments; even if we just added two extra IIR filters, we might need as many as 15 arguments to keep track of the filter histories, coefficients, etc.\n",
    "This quickly becomes difficult to understand and maintain.\n",
    "\n",
    "One solution is to use hierarchical data structures with well-defined fields and sizes to organize the arguments and returns.\n",
    "We call these \"structured data types\" or \"trees\", using terminology borrowed from [JAX](https://docs.jax.dev/en/latest/pytrees.html).\n",
    "These let you organize state and parameters in dataclass-like containers which can be mapped directly to a C `struct`.\n",
    "They can even be nested inside of one another to arbitrary depth.\n",
    "See the overview of [structured data types](../../../trees.md) or the documentation for the [`@struct`](#archimedes.tree.struct) decorator for more details."
   ]
  },
  {
   "cell_type": "markdown",
   "id": "e9ada525",
   "metadata": {},
   "source": [
    "## Multiple filters\n",
    "\n",
    "For example, let's say we have an algorithm that is composed of three discrete transfer functions, implemented as IIR filters:\n",
    "\n",
    "```raw\n",
    "                  |--> G --> y_g\n",
    "u --> F --> y_f --|\n",
    "                  |--> H --> y_h\n",
    "```\n",
    "\n",
    "Instead of maintaining six arrays (one each for `u` and `y` histories, across three filters), plus inputs and outputs, we can organize these into a logical hierarchical structure."
   ]
  },
  {
   "cell_type": "markdown",
   "id": "b1796dfa",
   "metadata": {},
   "source": [
    "First, let's rewrite the basic IIR filter to work with a structured state:"
   ]
  },
  {
   "cell_type": "code",
   "execution_count": 3,
   "id": "d8edff74",
   "metadata": {},
   "outputs": [],
   "source": [
    "@struct\n",
    "class FilterState:\n",
    "    u_prev: np.ndarray\n",
    "    y_prev: np.ndarray\n",
    "\n",
    "\n",
    "def iir_filter(\n",
    "    x: FilterState, u: float, b: np.ndarray, a: np.ndarray\n",
    ") -> tuple[FilterState, float]:\n",
    "    u_prev, y_prev = x.u_prev, x.y_prev\n",
    "\n",
    "    # Update input history\n",
    "    u_prev[1:] = u_prev[:-1]\n",
    "    u_prev[0] = u\n",
    "\n",
    "    # Compute output using the direct II transposed structure\n",
    "    y = (np.dot(b, u_prev) - np.dot(a[1:], y_prev[: len(a) - 1])) / a[0]\n",
    "\n",
    "    # Update output history\n",
    "    y_prev[1:] = y_prev[:-1]\n",
    "    y_prev[0] = y\n",
    "\n",
    "    return FilterState(u_prev, y_prev), y"
   ]
  },
  {
   "cell_type": "markdown",
   "id": "e76f51f5",
   "metadata": {},
   "source": [
    "Next we can combine three such filters into our \"compound\" filter with transfer functions `F`, `G`, and `H`:"
   ]
  },
  {
   "cell_type": "code",
   "execution_count": 4,
   "id": "a5530a7c",
   "metadata": {},
   "outputs": [
    {
     "name": "stdout",
     "output_type": "stream",
     "text": [
      "CompoundOutput(y_f=array(0.00482434),\n",
      "               y_g=array(2.32742888e-05),\n",
      "               y_h=array(2.32742888e-05))\n"
     ]
    }
   ],
   "source": [
    "@struct\n",
    "class CompoundState:\n",
    "    x_f: FilterState\n",
    "    x_g: FilterState\n",
    "    x_h: FilterState\n",
    "\n",
    "\n",
    "@struct\n",
    "class CompoundOutput:\n",
    "    y_f: float\n",
    "    y_g: float\n",
    "    y_h: float\n",
    "\n",
    "\n",
    "@arc.compile(return_names=(\"state_new\", \"y\"))\n",
    "def compound_filter(\n",
    "    state: CompoundState, u: float\n",
    ") -> tuple[CompoundState, CompoundOutput]:\n",
    "    # For simplicity, just re-use the coefficients from the low-pass filter\n",
    "    # we've already designed\n",
    "    x_f, y_f = iir_filter(state.x_f, u, b, a)\n",
    "    x_g, y_g = iir_filter(state.x_g, y_f, b, a)\n",
    "    x_h, y_h = iir_filter(state.x_h, y_f, b, a)\n",
    "\n",
    "    return CompoundState(x_f, x_g, x_h), CompoundOutput(y_f, y_g, y_h)\n",
    "\n",
    "\n",
    "x0 = CompoundState(\n",
    "    x_f=FilterState(u_prev=np.zeros(len(b)), y_prev=np.zeros(len(a) - 1)),\n",
    "    x_g=FilterState(u_prev=np.zeros(len(b)), y_prev=np.zeros(len(a) - 1)),\n",
    "    x_h=FilterState(u_prev=np.zeros(len(b)), y_prev=np.zeros(len(a) - 1)),\n",
    ")\n",
    "u0 = 1.0\n",
    "\n",
    "args = (x0, u0)\n",
    "x, y = compound_filter(*args)\n",
    "\n",
    "pprint.pprint(y)"
   ]
  },
  {
   "cell_type": "markdown",
   "id": "ea8c0a42",
   "metadata": {},
   "source": [
    "If you've read the documentation on [structured data types](../../../trees.md) and/or worked with them a bit, you can probably already see where this is going - a class decorated with `@struct` behaves a lot like a C `struct`!\n",
    "This makes it straightforward to generate code that maps directly back to your Python data structures."
   ]
  },
  {
   "cell_type": "code",
   "execution_count": 5,
   "id": "a8f44cb9",
   "metadata": {},
   "outputs": [
    {
     "data": {
      "text/markdown": [
       "```c\n",
       "\n",
       "#ifndef COMPOUND_FILTER_H\n",
       "#define COMPOUND_FILTER_H\n",
       "\n",
       "#include \"compound_filter_kernel.h\"\n",
       "\n",
       "#ifdef __cplusplus\n",
       "extern \"C\" {\n",
       "#endif\n",
       "\n",
       "typedef struct {\n",
       "    float u_prev[5];\n",
       "    float y_prev[4];\n",
       "} filter_state_t;\n",
       "\n",
       "typedef struct {\n",
       "    filter_state_t x_f;\n",
       "    filter_state_t x_g;\n",
       "    filter_state_t x_h;\n",
       "} compound_state_t;\n",
       "\n",
       "typedef struct {\n",
       "    float y_f;\n",
       "    float y_g;\n",
       "    float y_h;\n",
       "} compound_output_t;\n",
       "\n",
       "// Input arguments struct\n",
       "typedef struct {\n",
       "    compound_state_t state;\n",
       "    float u;\n",
       "} compound_filter_arg_t;\n",
       "\n",
       "// Output results struct\n",
       "typedef struct {\n",
       "    compound_state_t state_new;\n",
       "    compound_output_t y;\n",
       "} compound_filter_res_t;\n",
       "\n",
       "// Workspace struct\n",
       "typedef struct {\n",
       "    long int iw[compound_filter_SZ_IW];\n",
       "    float w[compound_filter_SZ_W];\n",
       "} compound_filter_work_t;\n",
       "\n",
       "// Runtime API\n",
       "int compound_filter_init(compound_filter_arg_t* arg, compound_filter_res_t* res, compound_filter_work_t* work);\n",
       "int compound_filter_step(compound_filter_arg_t* arg, compound_filter_res_t* res, compound_filter_work_t* work);\n",
       "\n",
       "\n",
       "#ifdef __cplusplus\n",
       "}\n",
       "#endif\n",
       "\n",
       "#endif // COMPOUND_FILTER_H\n",
       "```"
      ],
      "text/plain": [
       "<IPython.core.display.Markdown object>"
      ]
     },
     "metadata": {},
     "output_type": "display_data"
    }
   ],
   "source": [
    "arc.codegen(compound_filter, args)\n",
    "\n",
    "with open(\"compound_filter.h\", \"r\") as f:\n",
    "    c_code = f.read()\n",
    "\n",
    "display_text(c_code)"
   ]
  },
  {
   "cell_type": "markdown",
   "id": "83bd169a",
   "metadata": {},
   "source": [
    "We see that the `FilterState` struct is automatically translated to `filter_state_t`, and the `CompoundState` and `CompoundOutput` structs are likewise translated to `compound_state_t` and `compound_output_t`.\n",
    "\n",
    "These can be nested in one another just as in the Python code, so for example a `compound_state_t` is composed of three `filter_state_t`s\n",
    "\n",
    "## State management\n",
    "\n",
    "As before, the `_step` function will **not** copy the output state in `res` back into `arg`; it is still implemented as a \"pure\" function.\n",
    "\n",
    "As a result, you do still need to manually manage the state by copying the data from `res` back the `arg`, but now this is much easier by virtue of C's \"direct assignment\" semantics for structs.\n",
    "Since all of the data in our structs is either a scalar, a statically-allocated array, or another struct (or statically-allocated array of structs) with the same property, copying all stateful data is now a one-liner, regardless of how complex the state is:\n",
    "\n",
    "```c\n",
    "filter_arg.state = filter_res.state_new;\n",
    "```\n"
   ]
  },
  {
   "cell_type": "markdown",
   "id": "f3f87daa",
   "metadata": {},
   "source": [
    "\n",
    "## Using the generated code\n",
    "\n",
    "Code using the generated API will now look like the following:\n",
    "\n",
    "```c\n",
    "// Initialize as before\n",
    "compound_filter_arg_t filter_arg;\n",
    "compound_filter_res_t filter_res;\n",
    "compound_filter_work_t filter_work;\n",
    "compound_filter_init(&filter_arg, &filter_res, &filter_work);\n",
    "\n",
    "// Set up the inputs to the function\n",
    "filter_arg.u = read_sensor();\n",
    "\n",
    "// Access nested states if necessary\n",
    "check_state(&filter_arg.state.x_f);\n",
    "\n",
    "// Evaluate the function numerically\n",
    "compound_filter_step(&filter_arg, &filter_res, &filter_work);\n",
    "\n",
    "// Copy state back to the argument\n",
    "filter_arg.state = filter_res.state_new;\n",
    "\n",
    "// Do something with the outputs\n",
    "handle_outputs(filter_res.y.y_g, filter_res.y.y_h);\n",
    "```\n",
    "\n",
    "When you call the `_step` function, all that happens is that the pointers to the underlying data are \"marshalled\" into a pointer array and passed to CasADi, amounting to minimal overhead compared to the gain in flexibility and readability for more complex functions.\n",
    "\n",
    "With this approach you can create maintainable and scalable data types that match how you think about parameters, plant models, and control algorithms."
   ]
  },
  {
   "cell_type": "markdown",
   "id": "cdd3a0a6",
   "metadata": {},
   "source": [
    "## Supported data types\n",
    "\n",
    "We've already seen that codegen is supported for scalars (floats), NumPy arrays (up to 2D), and `@struct` classes.\n",
    "\n",
    "Similar to `@struct` classes, dicts and NamedTuples have named fields containing heterogeneous data; these can also be mapped to C `struct` types.\n",
    "\n",
    "For instance,\n",
    "\n",
    "```python\n",
    "class Point(NamedTuple):\n",
    "    x: float\n",
    "    y: float\n",
    "\n",
    "state = {\"pos\": np.zeros(3), \"vel\": np.zeros(3)}\n",
    "```\n",
    "\n",
    "would generate the following C code:\n",
    "\n",
    "```c\n",
    "typedef struct {\n",
    "    float x;\n",
    "    float y;\n",
    "} point_t;\n",
    "\n",
    "typedef struct {\n",
    "    float pos[3];\n",
    "    float vel[3];\n",
    "} state_t;\n",
    "```\n",
    "\n",
    "Lists and tuples map to arrays, provided their data is \"homogeneous\", meaning that all items have the same type.\n",
    "\n",
    "That is, a list of three NamedTuple `Point` objects in Python will generate a C array like `point_t points[3]`, but a list containing one `Point` and a dict will raise an error (since this cannot be mapped to a C array).\n",
    "For containers with heterogeneous data types, use a NamedTuple, dict, or (recommended) [`@struct`](#archimedes.tree.struct)."
   ]
  },
  {
   "cell_type": "markdown",
   "id": "0b39ae63",
   "metadata": {},
   "source": [
    "\n",
    "The full set of supported conversions is summarized in this table:\n",
    "\n",
    "| Python type | C type |\n",
    "| :------: | :------: |\n",
    "| `float`  | `float`  |\n",
    "| `np.ndarray`  | `float[]`  |\n",
    "| `@struct`  | `{name}_t`  |\n",
    "| `dict \\| NamedTuple`  | `{name}_t`  |\n",
    "| `list[T] \\| tuple[T]`  | `T[]`  |\n",
    "\n",
    "These can compose with one another; you can have a dict whose entries are lists of NamedTuples: this will generate a struct containing arrays of structs.\n",
    "\n",
    "This flexibility lets you create composite data structures in Python to represent complex input, output, and state and get a predictable C API that maps logically to the Python."
   ]
  },
  {
   "cell_type": "markdown",
   "id": "3c601fdd",
   "metadata": {},
   "source": [
    "## Summary\n",
    "\n",
    "In this final part of the hardware deployment tutorial, we've finally put the pieces together to illustrate a scalable workflow for converting compatible Python functions to embedded-friendly C code.\n",
    "\n",
    "This code generation provides a convenient workflow for writing and evaluating high-level logic in Python and then rapidly deploying to a range of C environments.\n",
    "\n",
    "### Where to Go From Here\n",
    "\n",
    "For an example of a more comprehensive development workflow, a great next step is the [end-to-end controller workflow tutorial](../../../notebooks/workflow/workflow00.md).\n",
    "In that series we walk through the development of a simple DC motor controller, including system identification, controller design, HIL testing, and hardware deployment.\n",
    "\n",
    "This code generation and hardware deployment workflow is an early proof of concept, but it is central to the Archimedes roadmap.\n",
    "**If you're using Archimedes for hardware development and have questions, comments, or requests, please don't hesitate to reach out!**"
   ]
  },
  {
   "cell_type": "code",
   "execution_count": 6,
   "id": "7aef53ce",
   "metadata": {},
   "outputs": [],
   "source": [
    "cleanup()"
   ]
  },
  {
   "cell_type": "code",
   "execution_count": null,
   "id": "b159673a",
   "metadata": {},
   "outputs": [],
   "source": []
  }
 ],
 "metadata": {
  "kernelspec": {
   "display_name": "archimedes",
   "language": "python",
   "name": "archimedes"
  },
  "language_info": {
   "codemirror_mode": {
    "name": "ipython",
    "version": 3
   },
   "file_extension": ".py",
   "mimetype": "text/x-python",
   "name": "python",
   "nbconvert_exporter": "python",
   "pygments_lexer": "ipython3",
   "version": "3.12.9"
  }
 },
 "nbformat": 4,
 "nbformat_minor": 5
}
