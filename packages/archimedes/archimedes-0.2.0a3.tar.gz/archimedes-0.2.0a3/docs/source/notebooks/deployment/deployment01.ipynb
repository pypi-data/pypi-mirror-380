{
 "cells": [
  {
   "cell_type": "code",
   "execution_count": 1,
   "id": "dd401c6f",
   "metadata": {},
   "outputs": [],
   "source": [
    "# ruff: noqa: N802, N803, N806, N815, N816\n",
    "import os\n",
    "\n",
    "from utils import display_text\n",
    "\n",
    "import archimedes as arc"
   ]
  },
  {
   "cell_type": "markdown",
   "id": "29e278a6",
   "metadata": {},
   "source": [
    "# Quickstart\n",
    "\n",
    "This section will walk through a \"Hello, World!\" example of C code generation and usage without getting into the details of the structure of the generated code.\n",
    "The remaining sections will expand on this same basic workflow so that you can build a deeper understanding of what is generated, why, and how to use it effectively."
   ]
  },
  {
   "cell_type": "markdown",
   "id": "408c570a",
   "metadata": {},
   "source": [
    "## Python implementation\n",
    "\n",
    "To keep this as simple as possible, we'll work with a Python implementation of the classic Fibonnaci sequence:"
   ]
  },
  {
   "cell_type": "code",
   "execution_count": 2,
   "id": "ee0a1b83",
   "metadata": {},
   "outputs": [
    {
     "name": "stdout",
     "output_type": "stream",
     "text": [
      "1\n",
      "1\n",
      "2\n",
      "3\n",
      "5\n",
      "8\n",
      "13\n",
      "21\n",
      "34\n",
      "55\n"
     ]
    }
   ],
   "source": [
    "def fib(a, b):\n",
    "    return b, a + b\n",
    "\n",
    "\n",
    "# Generate the first 10 Fibonacci numbers\n",
    "a, b = 0, 1\n",
    "for _ in range(10):\n",
    "    a, b = fib(a, b)\n",
    "    print(a)"
   ]
  },
  {
   "cell_type": "markdown",
   "id": "ad19fd98",
   "metadata": {},
   "source": [
    "## Converting to C code\n",
    "\n",
    "Next we generate a C implementation of the Python logic using the [`codegen`](#archimedes.codegen) function, including initial values of the inputs.  Note that we have to provide names for the output variables so that the generated code can use meaningful names."
   ]
  },
  {
   "cell_type": "code",
   "execution_count": 3,
   "id": "f0636888",
   "metadata": {},
   "outputs": [],
   "source": [
    "# Create \"template\" arguments for type inference\n",
    "# and initialization\n",
    "a, b = 0, 1\n",
    "\n",
    "arc.codegen(fib, (a, b), return_names=(\"a_new\", \"b_new\"))"
   ]
  },
  {
   "cell_type": "markdown",
   "id": "88517393",
   "metadata": {},
   "source": [
    "This will generate several files.  For our purposes in this quick start, the only one we need to look at is `fib.h`."
   ]
  },
  {
   "cell_type": "code",
   "execution_count": 4,
   "id": "8777ba37",
   "metadata": {},
   "outputs": [
    {
     "data": {
      "text/markdown": [
       "```c\n",
       "\n",
       "#ifndef FIB_H\n",
       "#define FIB_H\n",
       "\n",
       "#include \"fib_kernel.h\"\n",
       "\n",
       "#ifdef __cplusplus\n",
       "extern \"C\" {\n",
       "#endif\n",
       "\n",
       "// Input arguments struct\n",
       "typedef struct {\n",
       "    float a;\n",
       "    float b;\n",
       "} fib_arg_t;\n",
       "\n",
       "// Output results struct\n",
       "typedef struct {\n",
       "    float a_new;\n",
       "    float b_new;\n",
       "} fib_res_t;\n",
       "\n",
       "// Workspace struct\n",
       "typedef struct {\n",
       "    long int iw[fib_SZ_IW];\n",
       "    float w[fib_SZ_W];\n",
       "} fib_work_t;\n",
       "\n",
       "// Runtime API\n",
       "int fib_init(fib_arg_t* arg, fib_res_t* res, fib_work_t* work);\n",
       "int fib_step(fib_arg_t* arg, fib_res_t* res, fib_work_t* work);\n",
       "\n",
       "\n",
       "#ifdef __cplusplus\n",
       "}\n",
       "#endif\n",
       "\n",
       "#endif // FIB_H\n",
       "```"
      ],
      "text/plain": [
       "<IPython.core.display.Markdown object>"
      ]
     },
     "metadata": {},
     "output_type": "display_data"
    }
   ],
   "source": [
    "with open(\"fib.h\", \"r\") as f:\n",
    "    c_code = f.read()\n",
    "\n",
    "display_text(c_code)"
   ]
  },
  {
   "cell_type": "markdown",
   "id": "b4cced1a",
   "metadata": {},
   "source": [
    "## Using the generated code\n",
    "\n",
    "The basic structure of this API, which is the same for _all_ generated code, is that there are specific structs to hold the input data (`arg`), output data (`res`) and preallocated working memory (`work`).  There are also two functions: an `_init` function to initialize the data (this will also use the \"template\" values we provided earlier), and a `_step` function that executes the code and stores the results in the `res` struct.\n",
    "\n",
    "Here's a minimal `main.c` \"application\" that shows how to use this API to generate the same results we saw from Python:"
   ]
  },
  {
   "cell_type": "code",
   "execution_count": 5,
   "id": "f6e02486",
   "metadata": {},
   "outputs": [
    {
     "data": {
      "text/markdown": [
       "```c\n",
       "// gcc -o main main.c fib.c fib_kernel.c\n",
       "\n",
       "#include <stdio.h>\n",
       "#include \"fib.h\"\n",
       "\n",
       "\n",
       "// Declare the argument, result, and workspace structures\n",
       "fib_arg_t arg;\n",
       "fib_res_t res;\n",
       "fib_work_t work;\n",
       "\n",
       "\n",
       "int main() {\n",
       "\n",
       "    // Initialize the structs\n",
       "    fib_init(&arg, &res, &work);\n",
       "\n",
       "    for (int i = 0; i < 10; i++) {\n",
       "        // Perform a step in the Fibonacci sequence\n",
       "        fib_step(&arg, &res, &work);\n",
       "\n",
       "        // Update the arguments for the next step\n",
       "        arg.a = res.a_new;\n",
       "        arg.b = res.b_new;\n",
       "\n",
       "        // Print the current Fibonacci number\n",
       "        printf(\"%d\\n\", (int)arg.a);\n",
       "    }\n",
       "\n",
       "    return 0;\n",
       "}\n",
       "```"
      ],
      "text/plain": [
       "<IPython.core.display.Markdown object>"
      ]
     },
     "metadata": {},
     "output_type": "display_data"
    }
   ],
   "source": [
    "with open(\"main.c\", \"r\") as f:\n",
    "    c_code = f.read()\n",
    "\n",
    "display_text(c_code)"
   ]
  },
  {
   "cell_type": "code",
   "execution_count": 6,
   "id": "b9ccb591",
   "metadata": {},
   "outputs": [
    {
     "name": "stdout",
     "output_type": "stream",
     "text": [
      "1\n",
      "1\n",
      "2\n",
      "3\n",
      "5\n",
      "8\n",
      "13\n",
      "21\n",
      "34\n",
      "55\n",
      "\n"
     ]
    }
   ],
   "source": [
    "# Compile and run the C application\n",
    "os.system(\"gcc -o main main.c fib.c fib_kernel.c\")\n",
    "os.system(\"./main > output.txt\")\n",
    "\n",
    "with open(\"output.txt\", \"r\") as f:\n",
    "    output = f.read()\n",
    "\n",
    "print(output)"
   ]
  },
  {
   "cell_type": "markdown",
   "id": "abcc09b2",
   "metadata": {},
   "source": [
    "That's all there is to it.  The generated C code is self-contained, portable, and efficient, so it can be used in a standalone C application like this, called with Cython bindings for speed, or (most importantly) deployed to a wide variety of embedded controllers.\n",
    "\n",
    "Next we will delve into some of the details of the generated code and work through a more practical example: digital filtering."
   ]
  }
 ],
 "metadata": {
  "kernelspec": {
   "display_name": "archimedes",
   "language": "python",
   "name": "archimedes"
  },
  "language_info": {
   "codemirror_mode": {
    "name": "ipython",
    "version": 3
   },
   "file_extension": ".py",
   "mimetype": "text/x-python",
   "name": "python",
   "nbconvert_exporter": "python",
   "pygments_lexer": "ipython3",
   "version": "3.12.9"
  }
 },
 "nbformat": 4,
 "nbformat_minor": 5
}
