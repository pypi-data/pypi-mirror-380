{
 "cells": [
  {
   "cell_type": "markdown",
   "metadata": {},
   "source": [
    "# Circular orbit transfer problem"
   ]
  },
  {
   "cell_type": "markdown",
   "metadata": {},
   "source": [
    "$$\n",
    "\\min_{\\Delta v, \\mathbf{x}(t)} \\sum |\\Delta v|^2\n",
    "$$\n",
    "\n",
    "subject to the dynamic constraints\n",
    "\n",
    "$$\n",
    "\\begin{gather*}\n",
    "\\dot{r} = u \\\\\n",
    "\\dot{\\theta} = v \\\\\n",
    "\\dot{u} = \\frac{v^2}{r} - \\frac{\\mu}{r^2} \\\\\n",
    "\\dot{v} = -\\frac{uv}{r}\n",
    "\\end{gather*}\n",
    "$$\n",
    "\n",
    "and boundary conditions\n",
    "\n",
    "$$\n",
    "\\begin{gather*}\n",
    "r(0) = r_0 \\\\\n",
    "\\theta(0) = 0 \\\\\n",
    "u(0) = 0 \\\\\n",
    "v(0) = \\sqrt{\\frac{\\mu}{r_0}} \\\\\n",
    "r(t_f) = r_f \\\\\n",
    "\\theta(t_f) = 0 \\\\\n",
    "u(t_f) = 0 \\\\\n",
    "v(t_f) = \\sqrt{\\frac{\\mu}{r_f}}.\n",
    "\\end{gather*}\n",
    "$$\n",
    "\n",
    "There are three stages (although the OCP does not need to be constructed this way): an initial circular orbit, an elliptic orbit, and a final circular orbit.  Each pair of stages is joined by a $\\Delta v$ maneuver, but the positions must be continuous.\n",
    "\n",
    "In arbitrary units, $\\mu = 1.0$, $r_0 = 1.0$, and $r_f = 1.5$.\n",
    "\n",
    "(__TODO:__ Make this a real transfer from LEO to GEO)"
   ]
  },
  {
   "cell_type": "code",
   "execution_count": 1,
   "metadata": {},
   "outputs": [],
   "source": [
    "import numpy as np\n",
    "\n",
    "import archimedes as arc\n",
    "from archimedes.experimental import coco as cc\n",
    "import matplotlib.pyplot as plt\n",
    "\n",
    "arc.theme.set_theme(\"dark\")\n",
    "\n",
    "%load_ext autoreload\n",
    "%autoreload 2"
   ]
  },
  {
   "cell_type": "markdown",
   "metadata": {},
   "source": [
    "# Single-stage problem"
   ]
  },
  {
   "cell_type": "code",
   "execution_count": 2,
   "metadata": {},
   "outputs": [
    {
     "name": "stdout",
     "output_type": "stream",
     "text": [
      "\n",
      "******************************************************************************\n",
      "This program contains Ipopt, a library for large-scale nonlinear optimization.\n",
      " Ipopt is released as open source code under the Eclipse Public License (EPL).\n",
      "         For more information visit https://github.com/coin-or/Ipopt\n",
      "******************************************************************************\n",
      "\n",
      "This is Ipopt version 3.14.11, running with linear solver MUMPS 5.4.1.\n",
      "\n",
      "Number of nonzeros in equality constraint Jacobian...:     1990\n",
      "Number of nonzeros in inequality constraint Jacobian.:        2\n",
      "Number of nonzeros in Lagrangian Hessian.............:      222\n",
      "\n",
      "Total number of variables............................:       88\n",
      "                     variables with only lower bounds:        0\n",
      "                variables with lower and upper bounds:        0\n",
      "                     variables with only upper bounds:        0\n",
      "Total number of equality constraints.................:       88\n",
      "Total number of inequality constraints...............:        1\n",
      "        inequality constraints with only lower bounds:        1\n",
      "   inequality constraints with lower and upper bounds:        0\n",
      "        inequality constraints with only upper bounds:        0\n",
      "\n",
      "iter    objective    inf_pr   inf_du lg(mu)  ||d||  lg(rg) alpha_du alpha_pr  ls\n",
      "   0  0.0000000e+00 6.79e-01 1.00e+00  -1.0 0.00e+00    -  0.00e+00 0.00e+00   0\n",
      "   1  3.5070562e-02 3.88e+00 2.89e+04  -1.0 3.87e+01    -  1.03e-01 1.00e+00h  1\n",
      "   2  2.4223785e-02 1.88e+00 9.22e+04  -1.0 3.29e+01    -  1.00e+00 1.00e+00h  1\n",
      "   3  1.0168885e-02 9.06e-01 6.85e+03  -1.0 1.99e+00    -  1.00e+00 1.00e+00h  1\n",
      "   4  1.0679860e-02 4.40e-01 1.47e+04  -1.0 4.05e+01    -  1.00e+00 1.07e-01h  2\n",
      "   5  1.7076286e-02 5.86e-02 1.37e+04  -1.0 4.23e-01    -  1.00e+00 1.00e+00h  1\n",
      "   6  1.6560333e-02 1.82e-03 7.50e+02  -1.0 2.12e-01    -  1.00e+00 1.00e+00h  1\n",
      "   7  1.6540170e-02 4.65e-06 1.16e+00  -1.0 1.21e-02    -  1.00e+00 1.00e+00h  1\n",
      "   8  1.6540182e-02 9.22e-12 5.77e-06  -1.0 1.42e-05    -  1.00e+00 1.00e+00h  1\n",
      "\n",
      "Number of Iterations....: 8\n",
      "\n",
      "                                   (scaled)                 (unscaled)\n",
      "Objective...............:   1.6540181979533466e-02    1.6540181979533466e-02\n",
      "Dual infeasibility......:   3.6809444381447065e-13    3.6809444381447065e-13\n",
      "Constraint violation....:   9.1880392183441018e-12    9.2186258626725248e-12\n",
      "Variable bound violation:   0.0000000000000000e+00    0.0000000000000000e+00\n",
      "Complementarity.........:   0.0000000000000000e+00    0.0000000000000000e+00\n",
      "Overall NLP error.......:   9.1880392183441018e-12    9.2186258626725248e-12\n",
      "\n",
      "\n",
      "Number of objective function evaluations             = 11\n",
      "Number of objective gradient evaluations             = 9\n",
      "Number of equality constraint evaluations            = 11\n",
      "Number of inequality constraint evaluations          = 11\n",
      "Number of equality constraint Jacobian evaluations   = 9\n",
      "Number of inequality constraint Jacobian evaluations = 9\n",
      "Number of Lagrangian Hessian evaluations             = 8\n",
      "Total seconds in IPOPT                               = 0.033\n",
      "\n",
      "EXIT: Optimal Solution Found.\n",
      "      solver  :   t_proc      (avg)   t_wall      (avg)    n_eval\n",
      "       nlp_f  |  37.00us (  3.36us)  36.29us (  3.30us)        11\n",
      "       nlp_g  | 431.00us ( 39.18us) 411.98us ( 37.45us)        11\n",
      "  nlp_grad_f  |  92.00us (  9.20us)  88.57us (  8.86us)        10\n",
      "  nlp_hess_l  |   3.69ms (461.00us)   3.71ms (464.19us)         8\n",
      "   nlp_jac_g  |  17.31ms (  1.73ms)  17.63ms (  1.76ms)        10\n",
      "       total  |  33.49ms ( 33.49ms)  34.01ms ( 34.01ms)         1\n"
     ]
    },
    {
     "data": {
      "text/plain": [
       "array([0.09544512, 0.08619984])"
      ]
     },
     "execution_count": 2,
     "metadata": {},
     "output_type": "execute_result"
    }
   ],
   "source": [
    "mu = 1.0\n",
    "r0 = 1.0\n",
    "rf = 1.5\n",
    "\n",
    "nx, nu = 4, 0\n",
    "t0 = 0.0\n",
    "\n",
    "\n",
    "def j(t, x, phi, p):\n",
    "    return 0.0\n",
    "\n",
    "\n",
    "def f(t, x, phi, p):\n",
    "    r, θ, u, v = x\n",
    "    return np.array(\n",
    "        [\n",
    "            u,\n",
    "            v / r,\n",
    "            v**2 / r - mu / r**2,\n",
    "            -u * v / r,\n",
    "        ],\n",
    "        like=x,\n",
    "    )\n",
    "\n",
    "\n",
    "def cost(x0, t0, xf, tf, q, p):\n",
    "    return sum(p**2)  # Total delta-v expenditure\n",
    "\n",
    "\n",
    "# Add impulsive (tangential) velocity at the beginning\n",
    "def initial_constraint(boundary_data):\n",
    "    dv1 = boundary_data.p[0]\n",
    "    x0_transfer = np.array(\n",
    "        [r0, 0.0, 0.0, np.sqrt(mu / r0) + dv1], like=boundary_data.x0\n",
    "    )\n",
    "    return x0_transfer - boundary_data.x0\n",
    "\n",
    "\n",
    "# Final state of the transfer orbit should be the target orbit,\n",
    "# less the impulsive (tangential) velocity change. The final anomaly\n",
    "# is not constrained\n",
    "def terminal_constraint(boundary_data):\n",
    "    dv2 = boundary_data.p[1]\n",
    "    xf = boundary_data.xf[[0, 2, 3]]\n",
    "    xf_circular = np.array([rf, 0.0, np.sqrt(mu / rf) - dv2], like=boundary_data.xf)\n",
    "    return xf_circular - xf\n",
    "\n",
    "\n",
    "# Discretize the domain\n",
    "N = [20]\n",
    "knots = []\n",
    "domain = cc.RadauFiniteElements(N=N, knots=knots)\n",
    "\n",
    "\n",
    "# Boundary conditions\n",
    "bcs = [\n",
    "    cc.start_time(t0),\n",
    "    cc.Constraint(initial_constraint, 4),\n",
    "    cc.Constraint(terminal_constraint, 3),\n",
    "]\n",
    "\n",
    "# Define the problem in three stages\n",
    "ocp = cc.OptimalControlProblem(\n",
    "    nx=nx,\n",
    "    nu=nu,\n",
    "    np=2,\n",
    "    ode=f,\n",
    "    quad=j,\n",
    "    cost=cost,\n",
    "    boundary_constraints=bcs,\n",
    ")\n",
    "\n",
    "# Linearly interpolate initial guess\n",
    "x0_guess = np.array([r0, 0.0, 0.0, np.sqrt(mu / r0)])\n",
    "xf_guess = np.array([rf, np.pi, 0.0, np.sqrt(mu / rf)])\n",
    "tf_guess = 4.5\n",
    "\n",
    "\n",
    "def x_guess(t):\n",
    "    return x0_guess + (t - t0) * (xf_guess - x0_guess) / (tf_guess - t0)\n",
    "\n",
    "\n",
    "sol = ocp.solve(domain, t_guess=(t0, tf_guess), x_guess=x_guess)\n",
    "sol.p"
   ]
  },
  {
   "cell_type": "code",
   "execution_count": 3,
   "metadata": {},
   "outputs": [
    {
     "data": {
      "text/plain": [
       "(np.float64(0.09544511501033215), np.float64(0.08619983758750457))"
      ]
     },
     "execution_count": 3,
     "metadata": {},
     "output_type": "execute_result"
    }
   ],
   "source": [
    "# Hohmann solution\n",
    "dv1_ex = np.sqrt(mu / r0) * (np.sqrt(2 * rf / (r0 + rf)) - 1)\n",
    "dv2_ex = np.sqrt(mu / rf) * (1 - np.sqrt(2 * r0 / (r0 + rf)))\n",
    "dv1_ex, dv2_ex"
   ]
  },
  {
   "cell_type": "code",
   "execution_count": 4,
   "metadata": {},
   "outputs": [
    {
     "name": "stdout",
     "output_type": "stream",
     "text": [
      "(100,) (100, 4) (100, 4)\n",
      "(100, 4) (100,) (100,)\n"
     ]
    },
    {
     "data": {
      "text/plain": [
       "Text(0.5, 0, '$t$')"
      ]
     },
     "execution_count": 4,
     "metadata": {},
     "output_type": "execute_result"
    },
    {
     "data": {
      "image/png": "[encoded data removed]",
      "text/plain": [
       "<Figure size 700x300 with 4 Axes>"
      ]
     },
     "metadata": {},
     "output_type": "display_data"
    }
   ],
   "source": [
    "t_plt = np.linspace(t0, sol.tf, 100)\n",
    "x_plt = sol.x(t_plt)\n",
    "\n",
    "fig, ax = plt.subplots(4, 1, figsize=(7, 3), sharex=True)\n",
    "\n",
    "ax[0].scatter(sol.tp, sol.xp[:, 0], s=10, c=\"k\")\n",
    "ax[0].plot(t_plt, x_plt[:, 0], \"k\")\n",
    "ax[0].grid()\n",
    "ax[0].set_ylabel(\"$r$\")\n",
    "ax[1].scatter(sol.tp, sol.xp[:, 1], s=10, c=\"k\")\n",
    "ax[1].plot(t_plt, x_plt[:, 1], \"k\")\n",
    "ax[1].grid()\n",
    "ax[1].set_ylabel(r\"$\\theta$\")\n",
    "ax[2].scatter(sol.tp, sol.xp[:, 2], s=10, c=\"k\")\n",
    "ax[2].plot(t_plt, x_plt[:, 2], \"k\")\n",
    "ax[2].grid()\n",
    "ax[2].set_ylabel(\"$u$\")\n",
    "ax[3].scatter(sol.tp, sol.xp[:, 3], s=10, c=\"k\")\n",
    "ax[3].plot(t_plt, x_plt[:, 3], \"k\")\n",
    "ax[3].grid()\n",
    "ax[3].set_ylabel(\"$v$\")\n",
    "ax[3].set_xlabel(\"$t$\")"
   ]
  },
  {
   "cell_type": "code",
   "execution_count": 5,
   "metadata": {},
   "outputs": [
    {
     "data": {
      "image/png": "[encoded data removed]",
      "text/plain": [
       "<Figure size 400x400 with 1 Axes>"
      ]
     },
     "metadata": {},
     "output_type": "display_data"
    }
   ],
   "source": [
    "fig, ax = plt.subplots(1, 1, figsize=(4, 4))\n",
    "\n",
    "r, θ = x_plt[:, 0], x_plt[:, 1]\n",
    "x, y = r * np.cos(θ), r * np.sin(θ)\n",
    "\n",
    "rf = r[-1]\n",
    "r0 = r[0]\n",
    "rmax = max(r)\n",
    "\n",
    "ax.plot(x, y, c=\"xkcd:brick\")\n",
    "\n",
    "θ = np.linspace(0, 2 * np.pi, 1000)\n",
    "ax.plot(r0 * np.cos(θ), r0 * np.sin(θ), c=\"grey\", ls=\"--\")\n",
    "ax.plot(rf * np.cos(θ), rf * np.sin(θ), c=\"k\", ls=\"--\")\n",
    "\n",
    "ax.set_xlim([-1.2 * rmax, 1.2 * rmax])\n",
    "ax.set_ylim([-1.2 * rmax, 1.2 * rmax])\n",
    "ax.grid()\n",
    "plt.show()"
   ]
  },
  {
   "cell_type": "markdown",
   "metadata": {},
   "source": [
    "# Two-stage problem\n",
    "\n",
    "Same basic problem, but add a constraint on the final anomaly so that the time of the transfer becomes part of the problem.  This simulates a rendezvous-type problem or falling into a specified GEO slot."
   ]
  },
  {
   "cell_type": "code",
   "execution_count": 6,
   "metadata": {},
   "outputs": [
    {
     "name": "stdout",
     "output_type": "stream",
     "text": [
      "This is Ipopt version 3.14.11, running with linear solver MUMPS 5.4.1.\n",
      "\n",
      "Number of nonzeros in equality constraint Jacobian...:     3981\n",
      "Number of nonzeros in inequality constraint Jacobian.:        4\n",
      "Number of nonzeros in Lagrangian Hessian.............:      442\n",
      "\n",
      "Total number of variables............................:      174\n",
      "                     variables with only lower bounds:        0\n",
      "                variables with lower and upper bounds:        0\n",
      "                     variables with only upper bounds:        0\n",
      "Total number of equality constraints.................:      174\n",
      "Total number of inequality constraints...............:        2\n",
      "        inequality constraints with only lower bounds:        2\n",
      "   inequality constraints with lower and upper bounds:        0\n",
      "        inequality constraints with only upper bounds:        0\n",
      "\n",
      "iter    objective    inf_pr   inf_du lg(mu)  ||d||  lg(rg) alpha_du alpha_pr  ls\n",
      "   0  0.0000000e+00 5.65e+00 1.00e+00  -1.0 0.00e+00    -  0.00e+00 0.00e+00   0\n",
      "   1  4.9089168e-05 5.64e+00 2.93e+01  -1.0 1.90e+02    -  2.70e-03 2.60e-03h  1\n",
      "   2  4.4295751e-04 5.64e+00 4.22e+02  -1.0 1.10e+03    -  1.91e-03 9.03e-06h  1\n",
      "   3r 4.4295751e-04 5.64e+00 9.99e+02   0.8 0.00e+00    -  0.00e+00 4.45e-08R  2\n",
      "   4r 2.4596611e-02 5.08e+00 9.59e+02   0.8 1.44e+01    -  4.38e-01 3.92e-02f  1\n",
      "   5r 3.8384546e-02 4.49e-01 5.91e+02   0.8 1.32e+01    -  7.55e-03 3.85e-01f  1\n",
      "   6r 3.6068187e-02 4.49e-01 7.51e+02   0.8 4.37e+00    -  4.92e-01 1.15e-02f  1\n",
      "   7r 6.1418053e-04 3.81e+01 1.10e+05   0.8 1.43e+01   0.0 1.33e-01 3.51e-01f  1\n",
      "   8r 8.3354537e-05 3.61e+01 1.04e+05   0.8 3.78e+00   2.2 9.56e-02 5.53e-02h  1\n",
      "   9r 3.3539866e-04 3.52e+01 1.01e+05   0.8 1.27e+00   2.7 6.01e-02 2.57e-02h  1\n",
      "iter    objective    inf_pr   inf_du lg(mu)  ||d||  lg(rg) alpha_du alpha_pr  ls\n",
      "  10r 1.5770642e-02 2.79e+01 7.88e+04   0.8 3.34e+00   2.2 7.27e-03 3.71e-01h  1\n",
      "  11r 2.6264892e-01 1.60e+01 4.53e+04   0.8 1.48e+00   2.6 3.20e-01 8.51e-01h  1\n",
      "  12r 2.3780083e-01 1.27e+01 3.62e+04   0.8 5.94e-01   3.0 3.91e-01 2.34e-01h  1\n",
      "  13r 2.0437803e-01 9.69e+00 2.81e+04   0.8 4.26e-01   3.5 5.53e-01 2.76e-01f  1\n",
      "  14r 2.6793230e-01 4.47e+00 1.46e+04   0.8 7.74e-01   3.0 3.82e-01 1.00e+00h  1\n",
      "  15r 3.0089776e-01 4.46e+00 1.46e+04   0.8 3.63e+01   2.5 2.72e-03 2.53e-03h  2\n",
      "  16r 3.1733686e-01 3.49e+00 1.22e+04   0.8 1.77e+00   2.9 4.19e-01 2.64e-01f  1\n",
      "  17r 3.8520379e-01 3.00e+00 1.05e+04   0.8 3.95e+00   2.5 1.24e-01 1.45e-01f  1\n",
      "  18r 3.7778436e-01 2.91e+00 1.02e+04   0.8 1.24e+00   2.9 1.00e+00 3.33e-02f  1\n",
      "  19r 3.9155124e-01 2.40e+00 8.51e+03   0.8 2.21e+00   2.4 1.00e+00 1.73e-01f  1\n",
      "iter    objective    inf_pr   inf_du lg(mu)  ||d||  lg(rg) alpha_du alpha_pr  ls\n",
      "  20r 3.0872821e-01 1.88e+00 6.84e+03   0.8 4.10e-01   2.8 5.67e-01 2.19e-01f  1\n",
      "  21r 1.2151262e-01 1.19e+00 4.60e+03   0.8 5.53e-01   2.4 4.34e-01 3.69e-01f  1\n",
      "  22r 1.2518565e-01 1.08e+00 4.16e+03   0.8 8.36e-01   1.9 2.26e-02 9.48e-02f  1\n",
      "  23r 1.0617267e-01 7.07e-01 2.75e+03   0.8 2.63e-01   2.3 1.00e+00 3.45e-01f  1\n",
      "  24r 1.4213030e-01 3.38e-01 9.26e+02   0.8 6.66e-01   1.8 8.09e-01 6.59e-01f  1\n",
      "  25r 4.7322420e-02 2.66e-01 1.06e+02   0.8 4.58e-01   2.2 1.00e+00 1.00e+00f  1\n",
      "  26r 3.4852753e-02 2.89e-01 1.15e+02   0.1 6.23e+00   1.8 5.28e-02 2.95e-02f  1\n",
      "  27r 4.0110837e-02 2.30e-01 1.25e+03   0.1 3.50e-01   2.2 1.00e+00 2.03e-01f  1\n",
      "  28r 4.0117535e-02 1.86e-01 1.03e+03   0.1 3.28e-01   1.7 4.44e-01 2.71e-01f  1\n",
      "  29r 5.3831456e-02 1.49e-01 2.08e+02   0.1 1.69e-01   2.1 7.62e-01 7.95e-01f  1\n",
      "iter    objective    inf_pr   inf_du lg(mu)  ||d||  lg(rg) alpha_du alpha_pr  ls\n",
      "  30r 4.6366957e-02 1.27e-01 5.42e+02   0.1 4.32e-01   1.7 1.00e+00 4.18e-01f  1\n",
      "  31r 2.5855788e-02 2.46e-01 3.62e+02   0.1 1.60e+00   1.2 1.00e+00 6.97e-01f  1\n",
      "  32r 2.4863886e-02 2.37e-01 3.65e+02   0.1 3.76e+00    -  8.87e-02 4.69e-02f  1\n",
      "  33r 2.6476763e-02 1.96e-01 3.77e+02   0.1 5.27e-01   1.6 1.00e+00 1.80e-01f  1\n",
      "  34r 1.8851771e-02 9.73e-02 4.00e+02   0.1 1.42e+00    -  1.00e+00 5.27e-01f  1\n",
      "  35r 1.7769503e-02 5.81e-02 3.99e+02   0.1 2.90e-01    -  1.00e+00 4.06e-01h  1\n",
      "  36r 1.6682855e-02 1.03e-03 3.12e+00   0.1 1.18e-01    -  1.00e+00 1.00e+00f  1\n",
      "  37r 1.6527563e-02 1.17e-04 5.60e+00  -1.3 1.15e-02    -  1.00e+00 1.00e+00f  1\n",
      "  38r 1.6540568e-02 1.17e-05 6.33e-02  -1.3 3.43e-03    -  1.00e+00 1.00e+00f  1\n",
      "  39r 1.6540174e-02 1.08e-07 1.20e+00  -3.1 2.25e-04    -  1.00e+00 1.00e+00f  1\n",
      "iter    objective    inf_pr   inf_du lg(mu)  ||d||  lg(rg) alpha_du alpha_pr  ls\n",
      "  40r 1.6540183e-02 1.36e-08 1.62e-05  -3.1 2.24e-06    -  1.00e+00 1.00e+00h  1\n",
      "  41r 1.6540182e-02 8.30e-12 1.89e-01  -6.9 8.62e-07    -  1.00e+00 1.00e+00f  1\n",
      "\n",
      "Number of Iterations....: 41\n",
      "\n",
      "                                   (scaled)                 (unscaled)\n",
      "Objective...............:   1.6540181982384709e-02    1.6540181982384709e-02\n",
      "Dual infeasibility......:   1.5812988365236392e-14    1.5812988365236392e-14\n",
      "Constraint violation....:   8.3030249342641582e-12    8.3030249342641582e-12\n",
      "Variable bound violation:   0.0000000000000000e+00    0.0000000000000000e+00\n",
      "Complementarity.........:   0.0000000000000000e+00    0.0000000000000000e+00\n",
      "Overall NLP error.......:   8.3030249342641582e-12    8.3030249342641582e-12\n",
      "\n",
      "\n",
      "Number of objective function evaluations             = 46\n",
      "Number of objective gradient evaluations             = 5\n",
      "Number of equality constraint evaluations            = 46\n",
      "Number of inequality constraint evaluations          = 46\n",
      "Number of equality constraint Jacobian evaluations   = 43\n",
      "Number of inequality constraint Jacobian evaluations = 43\n",
      "Number of Lagrangian Hessian evaluations             = 41\n",
      "Total seconds in IPOPT                               = 0.327\n",
      "\n",
      "EXIT: Optimal Solution Found.\n",
      "      solver  :   t_proc      (avg)   t_wall      (avg)    n_eval\n",
      "       nlp_f  | 231.00us (  5.02us) 215.69us (  4.69us)        46\n",
      "       nlp_g  |   2.32ms ( 50.46us)   2.28ms ( 49.50us)        46\n",
      "  nlp_grad_f  |  55.00us (  9.17us)  51.31us (  8.55us)         6\n",
      "  nlp_hess_l  |  39.78ms (994.40us)  44.74ms (  1.12ms)        40\n",
      "   nlp_jac_g  | 153.19ms (  3.48ms) 167.77ms (  3.81ms)        44\n",
      "       total  | 298.62ms (298.62ms) 327.02ms (327.02ms)         1\n"
     ]
    }
   ],
   "source": [
    "mu = 1.0\n",
    "r0 = 1.0\n",
    "rf = 1.5\n",
    "\n",
    "\n",
    "nx, nu = 4, 0\n",
    "x0 = np.array([r0, 0.0, 0.0, np.sqrt(mu / r0)])\n",
    "xf = np.array([rf, 2 * np.pi, 0.0, np.sqrt(mu / rf)])\n",
    "t0 = 0.0\n",
    "\n",
    "\n",
    "def j(t, x, phi, p):\n",
    "    return 0.0\n",
    "\n",
    "\n",
    "def f(t, x, phi, p):\n",
    "    r, θ, u, v = x\n",
    "    return np.array(\n",
    "        [\n",
    "            u,\n",
    "            v / r,\n",
    "            v**2 / r - mu / r**2,\n",
    "            -u * v / r,\n",
    "        ],\n",
    "        like=x,\n",
    "    )\n",
    "\n",
    "\n",
    "def cost_stage1(x0, t0, xf, tf, q, p):\n",
    "    return sum(p**2)  # Total delta-v expenditure\n",
    "\n",
    "\n",
    "def cost_stage2(x0, t0, xf, tf, q, p):\n",
    "    return sum(p**2)  # Total delta-v expenditure\n",
    "\n",
    "\n",
    "# State continuity between stages\n",
    "def stage_constraint(boundary_data):\n",
    "    bd1, bd2 = boundary_data\n",
    "    bd2_x0 = bd1.xf\n",
    "    bd2_x0[3] += bd1.p  # Add delta-v to tangential velocity\n",
    "    return bd2_x0 - bd2.x0\n",
    "\n",
    "\n",
    "def terminal_constraint(boundary_data):\n",
    "    dv2 = boundary_data.p\n",
    "    stage_xf = boundary_data.xf\n",
    "    xf_circular = np.array([xf[0], xf[1], xf[2], xf[3] - dv2], like=stage_xf)\n",
    "    return xf_circular - stage_xf\n",
    "\n",
    "\n",
    "# Discretize the domain (same for all three stages)\n",
    "N = [20]\n",
    "knots = []\n",
    "stage_domain = cc.RadauFiniteElements(N=N, knots=knots)\n",
    "\n",
    "\n",
    "# Boundary conditions for each stage\n",
    "bcs1 = [cc.start_time(t0), cc.initial_condition(x0)]\n",
    "bcs2 = [cc.Constraint(terminal_constraint, 4)]\n",
    "\n",
    "# Define the problem in three stages\n",
    "stage1 = cc.OptimalControlProblem(\n",
    "    nx=nx,\n",
    "    nu=nu,\n",
    "    np=1,\n",
    "    ode=f,\n",
    "    quad=j,\n",
    "    cost=cost_stage1,\n",
    "    boundary_constraints=bcs1,\n",
    ")\n",
    "\n",
    "stage2 = cc.OptimalControlProblem(\n",
    "    nx=nx,\n",
    "    nu=nu,\n",
    "    np=1,\n",
    "    ode=f,\n",
    "    quad=j,\n",
    "    cost=cost_stage2,\n",
    "    boundary_constraints=bcs2,\n",
    ")\n",
    "\n",
    "# Define the full problem\n",
    "ocp = cc.MultiStageOptimalControlProblem(\n",
    "    stages=[stage1, stage2],\n",
    "    stage_constraints=[\n",
    "        cc.Constraint(stage_constraint, 4),\n",
    "    ],\n",
    ")\n",
    "\n",
    "\n",
    "domain = [stage_domain, stage_domain]\n",
    "\n",
    "# Linearly interpolate initial guess\n",
    "tf_guess = 5.0\n",
    "\n",
    "\n",
    "def x_guess(t):\n",
    "    return x0 + (t - t0) * (xf_guess - x0) / (tf_guess - t0)\n",
    "\n",
    "\n",
    "t_guess = np.linspace(t0, tf_guess, 3)\n",
    "sol = ocp.solve(domain, x_guess=x_guess)"
   ]
  },
  {
   "cell_type": "code",
   "execution_count": 7,
   "metadata": {},
   "outputs": [
    {
     "data": {
      "text/plain": [
       "(array([0.09544512]), array([0.08619984]))"
      ]
     },
     "execution_count": 7,
     "metadata": {},
     "output_type": "execute_result"
    }
   ],
   "source": [
    "sol[0].p, sol[1].p  # Should match the single-stage values exactly"
   ]
  },
  {
   "cell_type": "code",
   "execution_count": 8,
   "metadata": {},
   "outputs": [
    {
     "name": "stdout",
     "output_type": "stream",
     "text": [
      "(100,) (100, 4) (100, 4)\n",
      "(100, 4) (100,) (100,)\n",
      "(100,) (100, 4) (100, 4)\n",
      "(100, 4) (100,) (100,)\n"
     ]
    },
    {
     "data": {
      "text/plain": [
       "Text(0.5, 0, '$t$')"
      ]
     },
     "execution_count": 8,
     "metadata": {},
     "output_type": "execute_result"
    },
    {
     "data": {
      "image/png": "[encoded data removed]",
      "text/plain": [
       "<Figure size 700x300 with 4 Axes>"
      ]
     },
     "metadata": {},
     "output_type": "display_data"
    }
   ],
   "source": [
    "fig, ax = plt.subplots(4, 1, figsize=(7, 3), sharex=True)\n",
    "\n",
    "for i in range(len(sol)):\n",
    "    t_plt = np.linspace(sol[i].t0, sol[i].tf, 100)\n",
    "    x_plt = sol[i].x(t_plt)\n",
    "\n",
    "    (l,) = ax[0].plot(t_plt, x_plt[:, 0])\n",
    "    ax[0].scatter(sol[i].tp, sol[i].xp[:, 0], s=10, c=l.get_color())\n",
    "\n",
    "    ax[1].plot(t_plt, x_plt[:, 1], c=l.get_color())\n",
    "    ax[1].scatter(sol[i].tp, sol[i].xp[:, 1], s=10, c=l.get_color())\n",
    "\n",
    "    ax[2].plot(t_plt, x_plt[:, 2], c=l.get_color())\n",
    "    ax[2].scatter(sol[i].tp, sol[i].xp[:, 2], s=10, c=l.get_color())\n",
    "\n",
    "    ax[3].plot(t_plt, x_plt[:, 3], c=l.get_color())\n",
    "    ax[3].scatter(sol[i].tp, sol[i].xp[:, 3], s=10, c=l.get_color())\n",
    "\n",
    "\n",
    "ax[0].grid()\n",
    "ax[0].set_ylabel(\"$r$\")\n",
    "ax[1].grid()\n",
    "ax[1].set_ylabel(r\"$\\theta$\")\n",
    "ax[2].grid()\n",
    "ax[2].set_ylabel(\"$u$\")\n",
    "ax[3].grid()\n",
    "ax[3].set_ylabel(\"$v$\")\n",
    "ax[3].set_xlabel(\"$t$\")"
   ]
  },
  {
   "cell_type": "code",
   "execution_count": 9,
   "metadata": {},
   "outputs": [
    {
     "data": {
      "image/png": "[encoded data removed]",
      "text/plain": [
       "<Figure size 400x400 with 1 Axes>"
      ]
     },
     "metadata": {},
     "output_type": "display_data"
    }
   ],
   "source": [
    "fig, ax = plt.subplots(1, 1, figsize=(4, 4))\n",
    "\n",
    "for i in range(len(sol)):\n",
    "    t_plt = np.linspace(sol[i].t0, sol[i].tf, 100)\n",
    "    x_plt = sol[i].x(t_plt)\n",
    "    r, θ = x_plt[:, 0], x_plt[:, 1]\n",
    "    x, y = r * np.cos(θ), r * np.sin(θ)\n",
    "\n",
    "    ax.plot(x, y, lw=2, c=\"xkcd:brick\")\n",
    "\n",
    "θ = np.linspace(0, 2 * np.pi, 1000)\n",
    "ax.plot(r0 * np.cos(θ), r0 * np.sin(θ), c=\"grey\", ls=\"--\")\n",
    "ax.plot(rf * np.cos(θ), rf * np.sin(θ), c=\"k\", ls=\"--\")\n",
    "\n",
    "ax.set_xlim([-1.2 * rf, 1.2 * rf])\n",
    "ax.set_ylim([-1.2 * rf, 1.2 * rf])\n",
    "ax.grid()\n",
    "plt.show()"
   ]
  },
  {
   "cell_type": "code",
   "execution_count": null,
   "metadata": {},
   "outputs": [],
   "source": []
  }
 ],
 "metadata": {
  "kernelspec": {
   "display_name": "archimedes",
   "language": "python",
   "name": "archimedes"
  },
  "language_info": {
   "codemirror_mode": {
    "name": "ipython",
    "version": 3
   },
   "file_extension": ".py",
   "mimetype": "text/x-python",
   "name": "python",
   "nbconvert_exporter": "python",
   "pygments_lexer": "ipython3",
   "version": "3.12.9"
  }
 },
 "nbformat": 4,
 "nbformat_minor": 2
}
