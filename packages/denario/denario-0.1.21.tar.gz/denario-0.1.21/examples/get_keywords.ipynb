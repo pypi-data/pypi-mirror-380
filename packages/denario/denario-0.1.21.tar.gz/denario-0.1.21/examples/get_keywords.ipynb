{
 "cells": [
  {
   "cell_type": "markdown",
   "id": "977f68cb-d4b0-4251-ae4f-d5f80ec89f9c",
   "metadata": {},
   "source": [
    "# Get AAS Keywords\n",
    "\n",
    "Example showing the feature to get keywords given a prompt."
   ]
  },
  {
   "cell_type": "code",
   "execution_count": 1,
   "id": "7ddff9c2-1801-43ca-90ee-f7e220b77fb3",
   "metadata": {},
   "outputs": [],
   "source": [
    "from denario import Denario\n",
    "\n",
    "den = Denario()"
   ]
  },
  {
   "cell_type": "markdown",
   "id": "f8489b48-d7bc-4880-ba8a-21a31816b052",
   "metadata": {},
   "source": [
    "Indicate the prompt with topic description."
   ]
  },
  {
   "cell_type": "code",
   "execution_count": 2,
   "id": "6fcf3fa0-263d-4077-821e-19b5332a1d87",
   "metadata": {},
   "outputs": [],
   "source": [
    "text = r\"\"\"\n",
    "Multi-agent systems (MAS) utilizing multiple Large Language Model agents with Retrieval Augmented Generation and that can execute code locally may become beneficial in cosmological data analysis.\n",
    "Here, we illustrate a first small step towards AI-assisted analyses and a glimpse of the potential of MAS to automate and optimize scientific workflows in Cosmology.\n",
    "The system architecture of our example package, that builds upon the autogen/ag2 framework, can be applied to MAS in any area of quantitative scientific research.\n",
    "The particular task we apply our methods to is the cosmological parameter analysis of the Atacama Cosmology Telescope lensing power spectrum likelihood using Monte Carlo Markov Chains.\n",
    "Our work-in-progress code is open source and available at this https URL.\n",
    "\"\"\""
   ]
  },
  {
   "cell_type": "markdown",
   "id": "68e4e974-52a3-42d4-bd30-d0cdd83d136c",
   "metadata": {},
   "source": [
    "Get the keywords:"
   ]
  },
  {
   "cell_type": "code",
   "execution_count": 3,
   "id": "49257cfe-3b85-47cd-960b-236478a69995",
   "metadata": {},
   "outputs": [
    {
     "name": "stdout",
     "output_type": "stream",
     "text": [
      "Find the relevant AAS keywords\n",
      "\n",
      "--------------------------------------------------------------------------------\n",
      "\u001b[32m\n",
      "Calling aas_keyword_finder...\n",
      "\u001b[0m\n",
      "             Model              agent    Cost  Prompt Tokens  Completion Tokens  Total Tokens\n",
      "o3-mini-2025-01-31 aas_keyword_finder 0.02907          10551               3969         14520\n",
      "\n",
      "--------------------------------------------------------------------------------\n",
      "\n",
      "**AAS keywords**:\n",
      "\n",
      "- [Cosmology](http://astrothesaurus.org/uat/343)\n",
      "- [Astronomy data analysis](http://astrothesaurus.org/uat/1858)\n",
      "- [Astroinformatics](http://astrothesaurus.org/uat/78)\n",
      "- [Gravitational lensing](http://astrothesaurus.org/uat/670)\n",
      "- [Computational methods](http://astrothesaurus.org/uat/1965)\n",
      "- [Cosmological models](http://astrothesaurus.org/uat/337)\n",
      "- [Cosmic microwave background radiation](http://astrothesaurus.org/uat/322)\n",
      "- [Computational astronomy](http://astrothesaurus.org/uat/293)\n",
      "\n",
      "\n",
      "--------------------------------------------------------------------------------\n",
      "\u001b[32m\n",
      "Calling control...\n",
      "\u001b[0m\n",
      "             Model   agent    Cost  Prompt Tokens  Completion Tokens  Total Tokens\n",
      "gpt-4.1-2025-04-14 control 0.00210            886                 41           927\n",
      "\n",
      "--------------------------------------------------------------------------------\n",
      "\n",
      "**Step number:** 1 out of 1.\n",
      " \n",
      "**Sub-task:** solve the main task.\n",
      " \n",
      "**Agent in charge of sub-task:** `aas_keyword_finder`\n",
      " \n",
      "**Instructions:**\n",
      " \n",
      "solve the main task.\n",
      " \n",
      "**Status:** completed ✅\n",
      "        \n",
      "\n",
      "--------------------------------------------------------------------------------\n",
      "Terminating...\n",
      "\n",
      "             Model      agent    Cost  Prompt Tokens  Completion Tokens  Total Tokens\n",
      "gpt-4.1-2025-04-14 terminator 0.00085            419                  1           420\n",
      "\n",
      "--------------------------------------------------------------------------------\n",
      "Session terminated.\n",
      "\n",
      "--------------------------------------------------------------------------------\n",
      "\n",
      "Displaying cost…\n",
      "\n",
      "| Agent              | Cost ($)    | Prompt Tokens | Completion Tokens | Total Tokens |\n",
      "|:-------------------|------------:|--------------:|------------------:|-------------:|\n",
      "| terminator         | $0.00084600 |           419 |                 1 |          420 |\n",
      "| aas keyword finder | $0.02906970 |         10551 |              3969 |        14520 |\n",
      "| control            | $0.00210000 |           886 |                41 |          927 |\n",
      "|--------------------|-------------|---------------|-------------------|--------------|\n",
      "| Total              | $0.03201570 |         11856 |              4011 |        15867 |\n",
      "\n",
      "Cost report data saved to: /home/tda/PABLO/AstroPilot/notebooks/cmbagent_output/cost_report_20250724_154742.json\n",
      "\n"
     ]
    }
   ],
   "source": [
    "den.get_keywords(input_text=text, n_keywords=8)"
   ]
  },
  {
   "cell_type": "markdown",
   "id": "51d68f9c",
   "metadata": {},
   "source": [
    "Acces the keywords through the `denario.research` object or via the `show_keywords()` method."
   ]
  },
  {
   "cell_type": "code",
   "execution_count": 4,
   "id": "c241a614-b8d3-4ffc-b824-34964abffec7",
   "metadata": {},
   "outputs": [
    {
     "data": {
      "text/plain": [
       "{'Cosmology': 'http://astrothesaurus.org/uat/343',\n",
       " 'Astronomy data analysis': 'http://astrothesaurus.org/uat/1858',\n",
       " 'Astroinformatics': 'http://astrothesaurus.org/uat/78',\n",
       " 'Gravitational lensing': 'http://astrothesaurus.org/uat/670',\n",
       " 'Computational methods': 'http://astrothesaurus.org/uat/1965',\n",
       " 'Cosmological models': 'http://astrothesaurus.org/uat/337',\n",
       " 'Cosmic microwave background radiation': 'http://astrothesaurus.org/uat/322',\n",
       " 'Computational astronomy': 'http://astrothesaurus.org/uat/293'}"
      ]
     },
     "execution_count": 4,
     "metadata": {},
     "output_type": "execute_result"
    }
   ],
   "source": [
    "den.research.keywords"
   ]
  },
  {
   "cell_type": "code",
   "execution_count": 5,
   "id": "ba5195eb-74d1-49da-97bb-cac1bfd5c461",
   "metadata": {},
   "outputs": [
    {
     "name": "stdout",
     "output_type": "stream",
     "text": [
      "- [Cosmology](http://astrothesaurus.org/uat/343)\n",
      "- [Astronomy data analysis](http://astrothesaurus.org/uat/1858)\n",
      "- [Astroinformatics](http://astrothesaurus.org/uat/78)\n",
      "- [Gravitational lensing](http://astrothesaurus.org/uat/670)\n",
      "- [Computational methods](http://astrothesaurus.org/uat/1965)\n",
      "- [Cosmological models](http://astrothesaurus.org/uat/337)\n",
      "- [Cosmic microwave background radiation](http://astrothesaurus.org/uat/322)\n",
      "- [Computational astronomy](http://astrothesaurus.org/uat/293)\n"
     ]
    }
   ],
   "source": [
    "den.show_keywords()"
   ]
  }
 ],
 "metadata": {
  "kernelspec": {
   "display_name": "denario",
   "language": "python",
   "name": "python3"
  },
  "language_info": {
   "codemirror_mode": {
    "name": "ipython",
    "version": 3
   },
   "file_extension": ".py",
   "mimetype": "text/x-python",
   "name": "python",
   "nbconvert_exporter": "python",
   "pygments_lexer": "ipython3",
   "version": "3.13.1"
  }
 },
 "nbformat": 4,
 "nbformat_minor": 5
}
