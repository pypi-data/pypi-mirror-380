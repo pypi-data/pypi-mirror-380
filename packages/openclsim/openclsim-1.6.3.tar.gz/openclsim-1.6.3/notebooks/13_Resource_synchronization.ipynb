{
 "cells": [
  {
   "cell_type": "markdown",
   "metadata": {},
   "source": [
    "## resource synchronization\n",
    "\n",
    "Synchronization of resources means that before objects can be moved from one location to another, the processor as well as the origin and the destination resource must be available. If a resource is not available the process will wait untill the resource available.\n",
    "\n",
    "Currently this waiting time is not recorded in the logs. The waiting time can be derived from the activity log by identifying time differences between the completion of an activity and the start of the subsequent activity.\n",
    "\n",
    "This is an incomplete feature since preserve reservations can not be released automatically. Recommendation is to have a request_resource and a release_resource activity.\n",
    "\n",
    "The current mechanism is based on two attributes of activities\n",
    "- **keep_resources** a list of resources, which should not be released at the end of an activity\n",
    "- **reserved_resources** is a dictionary, should be initialized for all activities of a process with the same variable. This will enable the transfer of reserved resources from one activity to another one."
   ]
  },
  {
   "cell_type": "markdown",
   "metadata": {},
   "source": [
    "#### 0. Import libraries"
   ]
  },
  {
   "cell_type": "code",
   "execution_count": 1,
   "metadata": {},
   "outputs": [],
   "source": [
    "import datetime, time\n",
    "import simpy\n",
    "\n",
    "import shapely.geometry\n",
    "import pandas as pd\n",
    "\n",
    "import openclsim.core as core\n",
    "import openclsim.model as model\n",
    "import openclsim.plot as plot"
   ]
  },
  {
   "cell_type": "markdown",
   "metadata": {},
   "source": [
    "#### 1. Initialise simpy environment"
   ]
  },
  {
   "cell_type": "code",
   "execution_count": 2,
   "metadata": {},
   "outputs": [],
   "source": [
    "# setup environment\n",
    "simulation_start = 0\n",
    "my_env = simpy.Environment(initial_time=simulation_start)"
   ]
  },
  {
   "cell_type": "markdown",
   "metadata": {},
   "source": [
    "#### 2. Define object classes"
   ]
  },
  {
   "cell_type": "code",
   "execution_count": 4,
   "metadata": {},
   "outputs": [],
   "source": [
    "# create a Site object based on desired mixin classes\n",
    "Site = type(\n",
    "    \"Site\",\n",
    "    (\n",
    "        core.Identifiable,\n",
    "        core.Log,\n",
    "        core.Locatable,\n",
    "        core.HasContainer,\n",
    "        core.HasResource,\n",
    "    ),\n",
    "    {},\n",
    ")\n",
    "\n",
    "# create a TransportProcessingResource object based on desired mixin classes\n",
    "TransportProcessingResource = type(\n",
    "    \"TransportProcessingResource\",\n",
    "    (\n",
    "        core.ContainerDependentMovable,\n",
    "        core.Processor,\n",
    "        core.HasResource,\n",
    "        core.LoadingFunction,\n",
    "        core.UnloadingFunction,\n",
    "        core.Identifiable,\n",
    "        core.Log,\n",
    "    ),\n",
    "    {},\n",
    ")"
   ]
  },
  {
   "cell_type": "markdown",
   "metadata": {},
   "source": [
    "#### 3. Create objects\n",
    "##### 3.1. Create site object(s)"
   ]
  },
  {
   "cell_type": "code",
   "execution_count": null,
   "metadata": {},
   "outputs": [],
   "source": [
    "# prepare input data for from_site\n",
    "location_from_site = shapely.geometry.Point(4.18055556, 52.18664444)\n",
    "data_from_site = {\"env\": my_env,\n",
    "                  \"name\": \"from_site\",\n",
    "                  \"geometry\": location_from_site,\n",
    "                  \"capacity\": 10,\n",
    "                  \"level\": 8\n",
    "                 }\n",
    "# instantiate from_site \n",
    "from_site = Site(**data_from_site)"
   ]
  },
  {
   "cell_type": "markdown",
   "metadata": {},
   "source": [
    "##### 3.2. Create vessel object(s)"
   ]
  },
  {
   "cell_type": "code",
   "execution_count": null,
   "metadata": {},
   "outputs": [],
   "source": [
    "# prepare input data for vessel_01\n",
    "data_vessel01 = {\"env\": my_env,\n",
    "                 \"name\": \"vessel01\",\n",
    "                 \"geometry\": location_from_site, \n",
    "                 \"loading_rate\": 1,\n",
    "                 \"unloading_rate\": 1,\n",
    "                 \"capacity\": 4,\n",
    "                 \"compute_v\": lambda x: 10\n",
    "               }\n",
    "# instantiate vessel_01 \n",
    "vessel01 = TransportProcessingResource(**data_vessel01)\n",
    "\n",
    "# prepare input data for vessel_02\n",
    "data_vessel02 = {\"env\": my_env,\n",
    "                 \"name\": \"vessel02\",\n",
    "                 \"geometry\": location_from_site, \n",
    "                 \"loading_rate\": 1,\n",
    "                 \"unloading_rate\": 1,\n",
    "                 \"capacity\": 4,\n",
    "                 \"compute_v\": lambda x: 10\n",
    "               }\n",
    "# instantiate vessel_02 \n",
    "vessel02 = TransportProcessingResource(**data_vessel02)"
   ]
  },
  {
   "cell_type": "markdown",
   "metadata": {},
   "source": [
    "##### 3.3 Create activity/activities\n",
    "Then **requested_resources1** variable is used to initialize all activities below. This enables the transfer of reserved resources to the next activity.\n",
    "\n",
    "The **keep_resources** parameter tells that after hopper1 has received an object from *from_site* it should not release the *from_site* resource."
   ]
  },
  {
   "cell_type": "code",
   "execution_count": null,
   "metadata": {},
   "outputs": [],
   "source": [
    "# initialise registry and keep_resources\n",
    "registry = {}\n",
    "keep_resources = {}"
   ]
  },
  {
   "cell_type": "code",
   "execution_count": null,
   "metadata": {},
   "outputs": [],
   "source": [
    "requested_resources1 = {}\n",
    "activity1 = model.ShiftAmountActivity(\n",
    "    env=my_env,\n",
    "    name=\"Transfer 1\",\n",
    "    registry=registry,\n",
    "    processor=vessel01,\n",
    "    origin=from_site,\n",
    "    destination=vessel01,\n",
    "    amount=1,\n",
    "    duration=20,\n",
    "    requested_resources=requested_resources1,\n",
    ")\n",
    "\n",
    "seq_activity1 = model.SequentialActivity(\n",
    "    env=my_env,\n",
    "    name=\"Sequential process 1\",\n",
    "    registry=registry,\n",
    "    sub_processes=[activity1],\n",
    "    requested_resources=requested_resources1,\n",
    ")\n",
    "\n",
    "while1 = model.WhileActivity(\n",
    "    env=my_env,\n",
    "    name=\"While 1\",\n",
    "    registry=registry,\n",
    "    sub_processes=[seq_activity1],\n",
    "    requested_resources=requested_resources1,\n",
    "    condition_event=[\n",
    "        {\n",
    "            \"or\": [\n",
    "                {\"type\": \"container\", \"concept\": vessel01, \"state\": \"full\"},\n",
    "                {\"type\": \"container\", \"concept\": from_site, \"state\": \"empty\"},\n",
    "            ]\n",
    "        }\n",
    "    ],\n",
    ")"
   ]
  },
  {
   "cell_type": "markdown",
   "metadata": {},
   "source": [
    "The second activity is a normal process without special parameters."
   ]
  },
  {
   "cell_type": "code",
   "execution_count": null,
   "metadata": {},
   "outputs": [],
   "source": [
    "activity2 = model.ShiftAmountActivity(\n",
    "    env=my_env,\n",
    "    name=\"Transfer 2\",\n",
    "    registry=registry,\n",
    "    processor=vessel02,\n",
    "    origin=from_site,\n",
    "    destination=vessel02,\n",
    "    amount=1,\n",
    "    duration=20,\n",
    ")\n",
    "\n",
    "seq_activity2 = model.SequentialActivity(\n",
    "    env=my_env,\n",
    "    name=\"Sequential process 2\",\n",
    "    registry=registry,\n",
    "    sub_processes=[activity2],\n",
    ")\n",
    "while2 = model.WhileActivity(\n",
    "    env=my_env,\n",
    "    name=\"While 2\",\n",
    "    registry=registry,\n",
    "    sub_processes=[seq_activity2],\n",
    "    condition_event=[\n",
    "        {\n",
    "            \"or\": [\n",
    "                {\"type\": \"container\", \"concept\": vessel02, \"state\": \"full\"},\n",
    "                {\"type\": \"container\", \"concept\": from_site, \"state\": \"empty\"},\n",
    "            ]\n",
    "        }\n",
    "    ],\n",
    ")"
   ]
  },
  {
   "cell_type": "markdown",
   "metadata": {},
   "source": [
    "#### 4. Register processes and run simpy"
   ]
  },
  {
   "cell_type": "code",
   "execution_count": null,
   "metadata": {
    "tags": [
     "outputPrepend"
    ]
   },
   "outputs": [],
   "source": [
    "# initate the simpy processes defined in the two 'while activities' and run simpy\n",
    "model.register_processes([while1, while2])\n",
    "my_env.run()"
   ]
  },
  {
   "cell_type": "markdown",
   "metadata": {},
   "source": [
    "#### 5. Inspect results\n",
    "##### 5.1 Inspect logs"
   ]
  },
  {
   "cell_type": "code",
   "execution_count": null,
   "metadata": {},
   "outputs": [],
   "source": [
    "plot.get_log_dataframe(from_site, [while1, while2])"
   ]
  },
  {
   "cell_type": "code",
   "execution_count": null,
   "metadata": {},
   "outputs": [],
   "source": [
    "plot.get_log_dataframe(vessel01, [while1, while2])"
   ]
  },
  {
   "cell_type": "code",
   "execution_count": null,
   "metadata": {},
   "outputs": [],
   "source": [
    "plot.get_log_dataframe(vessel02, [while1, while2])"
   ]
  },
  {
   "cell_type": "code",
   "execution_count": null,
   "metadata": {},
   "outputs": [],
   "source": [
    "plot.get_log_dataframe(vessel02, [while1, while2])"
   ]
  },
  {
   "cell_type": "markdown",
   "metadata": {},
   "source": [
    "Interesting in this scenario is that the process of hopper2 is not executed at all because hopper1 takes requests the resource *from_site* and never releases it again, thus hopper2 process can not start.\n",
    "\n",
    "By commenting out the **keep_resource** parameter in shift amount activity of hopper1, will result in hopper1 and hopper2 getting access to the resource *from_site* one after each other."
   ]
  },
  {
   "cell_type": "markdown",
   "metadata": {},
   "source": [
    "##### 5.2 Visualise gantt charts"
   ]
  },
  {
   "cell_type": "code",
   "execution_count": null,
   "metadata": {},
   "outputs": [],
   "source": [
    "fig = plot.get_gantt_chart([from_site, vessel01, vessel02],id_map=[while1, while2])"
   ]
  },
  {
   "cell_type": "markdown",
   "metadata": {},
   "source": [
    "##### 5.3 Visualise step charts"
   ]
  },
  {
   "cell_type": "code",
   "execution_count": null,
   "metadata": {},
   "outputs": [],
   "source": [
    "fig = plot.get_step_chart([from_site, vessel01, vessel02])"
   ]
  },
  {
   "cell_type": "code",
   "execution_count": null,
   "metadata": {},
   "outputs": [],
   "source": []
  }
 ],
 "metadata": {
  "kernelspec": {
   "display_name": "Python 3 (ipykernel)",
   "language": "python",
   "name": "python3"
  },
  "language_info": {
   "codemirror_mode": {
    "name": "ipython",
    "version": 3
   },
   "file_extension": ".py",
   "mimetype": "text/x-python",
   "name": "python",
   "nbconvert_exporter": "python",
   "pygments_lexer": "ipython3",
   "version": "3.9.16"
  }
 },
 "nbformat": 4,
 "nbformat_minor": 2
}
