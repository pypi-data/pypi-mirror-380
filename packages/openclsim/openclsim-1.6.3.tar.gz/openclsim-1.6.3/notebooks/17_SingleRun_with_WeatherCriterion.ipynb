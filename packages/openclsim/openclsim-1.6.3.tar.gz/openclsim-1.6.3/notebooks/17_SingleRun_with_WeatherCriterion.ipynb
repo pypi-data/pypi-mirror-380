{
 "cells": [
  {
   "cell_type": "markdown",
   "metadata": {},
   "source": [
    "## SingleRun + WeatherCriterion\n",
    "\n",
    "This notebook provides an example of a simulation that takes a number of __sub_processes__, grouped in a __SequentialActivity__, that is __executed while a stop condition is not yet met__. In this case the elements of the sub_processes have __weather limitations__. A separate 'significant wave height' criterion is defined for moving and for amount shifting. \n",
    "\n",
    "For this example we work with the following sub processes:\n",
    "* sailing empty\n",
    "* loading\n",
    "* sailing full\n",
    "* unloading"
   ]
  },
  {
   "cell_type": "markdown",
   "metadata": {},
   "source": [
    "#### 0. Import libraries"
   ]
  },
  {
   "cell_type": "code",
   "execution_count": 1,
   "metadata": {},
   "outputs": [
    {
     "data": {
      "text/html": [
       "        <script type=\"text/javascript\">\n",
       "        window.PlotlyConfig = {MathJaxConfig: 'local'};\n",
       "        if (window.MathJax) {MathJax.Hub.Config({SVG: {font: \"STIX-Web\"}});}\n",
       "        if (typeof require !== 'undefined') {\n",
       "        require.undef(\"plotly\");\n",
       "        requirejs.config({\n",
       "            paths: {\n",
       "                'plotly': ['https://cdn.plot.ly/plotly-2.8.3.min']\n",
       "            }\n",
       "        });\n",
       "        require(['plotly'], function(Plotly) {\n",
       "            window._Plotly = Plotly;\n",
       "        });\n",
       "        }\n",
       "        </script>\n",
       "        "
      ]
     },
     "metadata": {},
     "output_type": "display_data"
    }
   ],
   "source": [
    "import datetime, time\n",
    "import simpy\n",
    "\n",
    "import shapely.geometry\n",
    "import pandas as pd\n",
    "import numpy as np\n",
    "\n",
    "import openclsim.core as core\n",
    "import openclsim.utils as utils\n",
    "import openclsim.model as model\n",
    "import openclsim.plot as plot\n",
    "import openclsim.plugins as plugin\n",
    "\n",
    "from plotly.offline import init_notebook_mode, iplot\n",
    "import plotly.graph_objs as go\n",
    "\n",
    "src_path = utils.find_src_path()\n",
    "init_notebook_mode(connected=True)"
   ]
  },
  {
   "cell_type": "markdown",
   "metadata": {},
   "source": [
    "#### 1. Initialise simpy environment"
   ]
  },
  {
   "cell_type": "code",
   "execution_count": 2,
   "metadata": {},
   "outputs": [],
   "source": [
    "# setup environment (simulation time needs to match the available weather data)\n",
    "simulation_start  = datetime.datetime(2010, 1, 1, 0, 0)\n",
    "my_env = simpy.Environment(initial_time=simulation_start.timestamp())"
   ]
  },
  {
   "cell_type": "markdown",
   "metadata": {},
   "source": [
    "#### 2. Define object classes"
   ]
  },
  {
   "cell_type": "code",
   "execution_count": 4,
   "metadata": {},
   "outputs": [],
   "source": [
    "# create a Site object based on desired mixin classes\n",
    "Site = type(\n",
    "    \"Site\",\n",
    "    (\n",
    "        core.Identifiable,\n",
    "        core.Log,\n",
    "        core.Locatable,\n",
    "        core.HasContainer,\n",
    "        core.HasResource,\n",
    "    ),\n",
    "    {},\n",
    ")\n",
    "\n",
    "# create a TransportProcessingResource object based on desired mixin classes\n",
    "TransportProcessingResource = type(\n",
    "    \"TransportProcessingResource\",\n",
    "    (\n",
    "        core.ContainerDependentMovable,\n",
    "        core.Processor,\n",
    "        core.HasResource,  # NB: LoadingFunction and UnloadingFunction are not mixed in\n",
    "        core.Identifiable,\n",
    "        core.Log,\n",
    "    ),\n",
    "    {},\n",
    ")\n",
    "\n",
    "# create a TestMoveActivity object based on desired mixin classes\n",
    "TestMoveActivity =  type(\n",
    "    \"TestMoveActivity\",\n",
    "    (\n",
    "        plugin.HasWeatherPluginActivity,\n",
    "        model.MoveActivity,  # the order is critical!\n",
    "    ),\n",
    "    {},\n",
    ")\n",
    "\n",
    "# create a TestShiftActivity object based on desired mixin classes\n",
    "TestShiftActivity =  type(\n",
    "    \"TestShiftActivity\",\n",
    "    (\n",
    "        plugin.HasWeatherPluginActivity,\n",
    "        model.ShiftAmountActivity,  # the order is critical!\n",
    "    ),\n",
    "    {},\n",
    ")"
   ]
  },
  {
   "cell_type": "markdown",
   "metadata": {},
   "source": [
    "#### 3. Create objects\n",
    "##### 3.1. Create site object(s)"
   ]
  },
  {
   "cell_type": "code",
   "execution_count": null,
   "metadata": {},
   "outputs": [],
   "source": [
    "# prepare input data for from_site\n",
    "location_from_site = shapely.geometry.Point(4.18055556, 52.18664444)\n",
    "data_from_site = {\"env\": my_env,\n",
    "                  \"name\": \"from_site\",\n",
    "                  \"geometry\": location_from_site,\n",
    "                  \"capacity\": 120,\n",
    "                  \"level\": 120\n",
    "                 }\n",
    "# instantiate from_site \n",
    "from_site = Site(**data_from_site)\n",
    "\n",
    "# prepare input data for to_site\n",
    "location_to_site = shapely.geometry.Point(4.25222222, 52.11428333)\n",
    "data_to_site = {\"env\": my_env,\n",
    "                \"name\": \"to_site\",\n",
    "                \"geometry\": location_to_site,\n",
    "                \"capacity\": 120,\n",
    "                \"level\": 0\n",
    "               }\n",
    "# instantiate to_site \n",
    "to_site = Site(**data_to_site)"
   ]
  },
  {
   "cell_type": "markdown",
   "metadata": {},
   "source": [
    "##### 3.2. Create vessel object(s)"
   ]
  },
  {
   "cell_type": "code",
   "execution_count": null,
   "metadata": {},
   "outputs": [],
   "source": [
    "# prepare input data for vessel_01\n",
    "data_vessel01 = {\"env\": my_env,\n",
    "                 \"name\": \"vessel01\",\n",
    "                 \"geometry\": location_from_site, \n",
    "                 \"capacity\": 4,\n",
    "                 \"compute_v\": lambda x: 10\n",
    "               }\n",
    "# instantiate vessel_01 \n",
    "vessel01 = TransportProcessingResource(**data_vessel01)"
   ]
  },
  {
   "cell_type": "markdown",
   "metadata": {},
   "source": [
    "##### 3.3 Create activity/activities"
   ]
  },
  {
   "cell_type": "code",
   "execution_count": null,
   "metadata": {},
   "outputs": [],
   "source": [
    "# generate a dataframe with weather data\n",
    "metocean_df = pd.read_csv(src_path / \"..\" / \"tests\" / \"data\" / \"unit_test_weather.csv\")\n",
    "metocean_df = metocean_df.set_index(pd.to_datetime(metocean_df[\"Time\"], dayfirst=True))\n",
    "metocean_df = metocean_df.sort_index()\n",
    "\n",
    "metocean_df[\"Hs [m]\"] = 4 + \\\n",
    "                        1.5*np.sin(metocean_df['  Hour']/24 * 8 *np.pi) + \\\n",
    "                        1.5*np.sin(metocean_df['  Hour']/24 * 6 *np.pi)\n",
    "\n",
    "metocean_df = metocean_df.set_index(pd.to_datetime(metocean_df[\"Time\"], dayfirst=True))\n",
    "metocean_df = metocean_df.sort_index()\n",
    "metocean_df[\"ts\"] = metocean_df.index.values.astype(float) / 1_000_000_000\n",
    "\n",
    "metocean_df.head()"
   ]
  },
  {
   "cell_type": "code",
   "execution_count": null,
   "metadata": {},
   "outputs": [],
   "source": [
    "# generate a weather criterion for the sailing process\n",
    "sailing_crit = plugin.WeatherCriterion(\n",
    "    name=\"sailing_crit\",\n",
    "    condition=\"Hs [m]\",\n",
    "    maximum=6,\n",
    "    window_length=3600,\n",
    ")\n",
    "\n",
    "# generate a weather criterion for the loading process\n",
    "loading_crit = plugin.WeatherCriterion(\n",
    "    name=\"loading_crit\",\n",
    "    condition=\"Hs [m]\",\n",
    "    maximum=4.5,\n",
    "    window_length=3600,\n",
    ")"
   ]
  },
  {
   "cell_type": "code",
   "execution_count": null,
   "metadata": {},
   "outputs": [],
   "source": [
    "# initialise registry\n",
    "registry = {}"
   ]
  },
  {
   "cell_type": "code",
   "execution_count": null,
   "metadata": {},
   "outputs": [],
   "source": [
    "# create a list of the sub processes\n",
    "sub_processes = [\n",
    "    TestMoveActivity(\n",
    "        env=my_env,\n",
    "        name=\"sailing empty\",\n",
    "        registry=registry,\n",
    "        mover=vessel01,\n",
    "        destination=from_site,\n",
    "        metocean_criteria=sailing_crit,\n",
    "        metocean_df=metocean_df,\n",
    "    ),\n",
    "    TestShiftActivity(\n",
    "        env=my_env,\n",
    "        name=\"loading\",\n",
    "        registry=registry,\n",
    "        processor=vessel01,\n",
    "        origin=from_site,\n",
    "        destination=vessel01,\n",
    "        amount=4,\n",
    "        duration=3600,\n",
    "        metocean_criteria=loading_crit,\n",
    "        metocean_df=metocean_df,\n",
    "    ),\n",
    "    TestMoveActivity(\n",
    "        env=my_env,\n",
    "        name=\"sailing full\",\n",
    "        registry=registry,\n",
    "        mover=vessel01,\n",
    "        destination=to_site,\n",
    "        metocean_criteria=sailing_crit,\n",
    "        metocean_df=metocean_df,\n",
    "    ),\n",
    "    TestShiftActivity(\n",
    "        env=my_env,\n",
    "        name=\"unloading\",\n",
    "        registry=registry,\n",
    "        processor=vessel01,\n",
    "        origin=vessel01,\n",
    "        destination=to_site,\n",
    "        amount=4,\n",
    "        duration=3600,\n",
    "        metocean_criteria=loading_crit,\n",
    "        metocean_df=metocean_df,\n",
    "    ),\n",
    "]\n",
    "\n",
    "# create a 'sequential activity' that is made up of the 'sub_processes'\n",
    "sequential_activity = model.SequentialActivity(\n",
    "    env=my_env,\n",
    "    name=\"sequential_activity_subcycle\",\n",
    "    registry=registry,\n",
    "    sub_processes=sub_processes,\n",
    ")\n",
    "\n",
    "# create a while activity that executes the 'sequential activity' while the stop condition is not triggered \n",
    "while_activity = model.WhileActivity(\n",
    "    env=my_env,\n",
    "    name=\"while_sequential_activity_subcycle\",\n",
    "    registry=registry,\n",
    "    sub_processes=[sequential_activity],\n",
    "    condition_event=[{\"type\": \"container\", \"concept\": to_site, \"state\": \"full\"}],\n",
    ")"
   ]
  },
  {
   "cell_type": "markdown",
   "metadata": {},
   "source": [
    "#### 4. Register processes and run simpy"
   ]
  },
  {
   "cell_type": "code",
   "execution_count": null,
   "metadata": {},
   "outputs": [],
   "source": [
    "# initate the simpy processes defined in the 'while activity' and run simpy\n",
    "model.register_processes([while_activity])\n",
    "my_env.run()"
   ]
  },
  {
   "cell_type": "markdown",
   "metadata": {},
   "source": [
    "#### 5. Inspect results\n",
    "##### 5.1 Inspect logs"
   ]
  },
  {
   "cell_type": "code",
   "execution_count": null,
   "metadata": {
    "scrolled": false
   },
   "outputs": [],
   "source": [
    "plot.get_log_dataframe(while_activity, [while_activity]).head()"
   ]
  },
  {
   "cell_type": "code",
   "execution_count": null,
   "metadata": {},
   "outputs": [],
   "source": [
    "plot.get_log_dataframe(sub_processes[0], [while_activity]).head()"
   ]
  },
  {
   "cell_type": "markdown",
   "metadata": {},
   "source": [
    "##### 5.2 Visualise gantt charts"
   ]
  },
  {
   "cell_type": "code",
   "execution_count": null,
   "metadata": {},
   "outputs": [],
   "source": [
    "res = plot.get_gantt_chart([vessel01], y_scale=\"numbers\", static=True, id_map=[while_activity])\n",
    "data = res['data']\n",
    "layout = res['layout']\n",
    "\n",
    "data.append({\n",
    "    \"name\": \"sailing_crit\",\n",
    "    \"x\":[vessel01.log[\"Timestamp\"][0].isoformat(), vessel01.log[\"Timestamp\"][-1].isoformat()],\n",
    "    \"y\":[sailing_crit.maximum,sailing_crit.maximum],\n",
    "})\n",
    "\n",
    "data.append({\n",
    "    \"name\": \"Weather\",\n",
    "    \"x\":metocean_df.index,\n",
    "    \"y\":metocean_df[sailing_crit.condition],\n",
    "})\n",
    "\n",
    "data.append({\n",
    "    \"name\": \"loading_crit\",\n",
    "    \"x\":[vessel01.log[\"Timestamp\"][0].isoformat(), vessel01.log[\"Timestamp\"][-1].isoformat()],\n",
    "    \"y\":[loading_crit.maximum,loading_crit.maximum],\n",
    "})\n",
    "\n",
    "go.Figure(data=data, layout=layout)"
   ]
  },
  {
   "cell_type": "markdown",
   "metadata": {},
   "source": [
    "**_Some observations:_**\n",
    "* The moving criterion states that sailing can only commence when Hs is below 6 m, and there is a window of at least 3600 seconds. While the first data point from the metocean file has a Hs below 6 m, viz. 4 m, the next data point has a Hs higher than 6 m. Since the time interval is exactly 3600 seconds the vessel decides to wait. The first data point with a Hs lower than 6 m is found at 03:00 hours. The vessel then starts 'sailing empty'. However, since the vessels origin is 'to_site', 'sailing empty' takes 0 seconds. \n",
    "* The vessel is ready to start loading at 03:00 hours. However, the loading criterion states that loading can only commence when Hs is below 4.5 m. The first time this happens in the metocean dataseries is 04:00 o'clock. So the loading commences at 04:00 hours. "
   ]
  },
  {
   "cell_type": "code",
   "execution_count": null,
   "metadata": {},
   "outputs": [],
   "source": [
    "plot.get_gantt_chart(sub_processes)"
   ]
  },
  {
   "cell_type": "markdown",
   "metadata": {},
   "source": [
    "##### 5.3 Visualise container volume developments"
   ]
  },
  {
   "cell_type": "code",
   "execution_count": null,
   "metadata": {},
   "outputs": [],
   "source": [
    "fig = plot.get_step_chart([vessel01, from_site, to_site])"
   ]
  }
 ],
 "metadata": {
  "kernelspec": {
   "display_name": "Python 3 (ipykernel)",
   "language": "python",
   "name": "python3"
  },
  "language_info": {
   "codemirror_mode": {
    "name": "ipython",
    "version": 3
   },
   "file_extension": ".py",
   "mimetype": "text/x-python",
   "name": "python",
   "nbconvert_exporter": "python",
   "pygments_lexer": "ipython3",
   "version": "3.9.16"
  }
 },
 "nbformat": 4,
 "nbformat_minor": 2
}
