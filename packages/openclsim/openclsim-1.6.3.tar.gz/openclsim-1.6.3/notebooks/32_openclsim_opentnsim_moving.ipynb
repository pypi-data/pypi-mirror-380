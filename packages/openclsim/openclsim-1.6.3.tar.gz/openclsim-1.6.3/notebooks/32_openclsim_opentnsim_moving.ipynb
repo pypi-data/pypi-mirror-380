{
 "cells": [
  {
   "cell_type": "markdown",
   "id": "014edd2c",
   "metadata": {},
   "source": [
    "# Combining OpenCLSim and OpenTNSim\n",
    "\n",
    "This notebook shows how to combine elements from OpenCLSim and OpenTNSim. You need OpenTNSim>=1.3.0 and OpenCLSim>=1.6 for this notebook to work. Since that version the core components (`Locatable`, `Identifiable`, `SimpyObject`) of opentnsim are referring to the versions from OpenCLSim. \n",
    "\n",
    "In this notebook we show how to use the \"move\" functionality of OpenTNSim with the activity workflow from OpenCLSim.\n",
    "OpenCLSim does not allow sailing over graphs by default. On the other hand, OpenTNSim does not have the concept of activities."
   ]
  },
  {
   "cell_type": "code",
   "execution_count": 1,
   "id": "bf80dcb5",
   "metadata": {},
   "outputs": [],
   "source": [
    "import datetime\n",
    "import time\n",
    "\n",
    "import simpy\n",
    "import pandas as pd\n",
    "import shapely\n",
    "\n",
    "import openclsim\n",
    "import openclsim.model\n",
    "import opentnsim\n",
    "import networkx as nx\n",
    "\n",
    "import pyproj\n",
    "\n",
    "# Earth, to compute spherical distances\n",
    "WGS84 = pyproj.Geod(ellps=\"WGS84\")"
   ]
  },
  {
   "cell_type": "markdown",
   "id": "93ae47bf",
   "metadata": {},
   "source": [
    "# Create a simulation environment\n",
    "This environment is shared between OpenCLSim & OpenTNSim through the `openclsim.core.SimpyObject`. "
   ]
  },
  {
   "cell_type": "code",
   "execution_count": 2,
   "id": "21a191b6",
   "metadata": {},
   "outputs": [],
   "source": [
    "simulation_start = 0\n",
    "env = simpy.Environment(initial_time=simulation_start)"
   ]
  },
  {
   "cell_type": "markdown",
   "id": "4e5a5aba",
   "metadata": {},
   "source": [
    "# Create sites and create a network\n",
    "\n",
    "Here we'll combine the site (OpenCLSim) and graph (OpenTNSim) properties from both models. OpenTNSim has the concept of a graph, but does not use sites. We specify the site using OpenCLSim components. We create a route and graph using networkx and shapely as expected by OpenTNSim.\n"
   ]
  },
  {
   "cell_type": "code",
   "execution_count": 3,
   "id": "52318fab",
   "metadata": {},
   "outputs": [],
   "source": [
    "# create a Site object based on desired mixin classes\n",
    "Site = type(\n",
    "    \"Site\",\n",
    "    (\n",
    "        openclsim.core.Identifiable,\n",
    "        openclsim.core.Log,\n",
    "        openclsim.core.Locatable,\n",
    "        openclsim.core.HasContainer,\n",
    "        openclsim.core.HasResource,\n",
    "    ),\n",
    "    {},\n",
    ")\n"
   ]
  },
  {
   "cell_type": "markdown",
   "id": "c0b02f28",
   "metadata": {},
   "source": [
    "## Create the points and geometries\n",
    "In OpenTNSim nodes are points, you can sail over a linestring between points. Here we add an extra point in between the `location_from_site` and the `location_to_site`. That way you can sail more complex routes than just great circles. "
   ]
  },
  {
   "cell_type": "code",
   "execution_count": 4,
   "id": "cafedd1f",
   "metadata": {},
   "outputs": [
    {
     "data": {
      "image/svg+xml": [
       "<svg xmlns=\"http://www.w3.org/2000/svg\" xmlns:xlink=\"http://www.w3.org/1999/xlink\" width=\"100.0\" height=\"100.0\" viewBox=\"4.1776611156 52.1113888856 0.07745554879999972 0.07814999880000073\" preserveAspectRatio=\"xMinYMin meet\"><g transform=\"matrix(1,0,0,-1,0,104.30092777)\"><polyline fill=\"none\" stroke=\"#66cc99\" stroke-width=\"0.0015629999760000146\" points=\"4.18055556,52.18664444 4.2,52.14 4.25222222,52.11428333\" opacity=\"0.8\" /></g></svg>"
      ],
      "text/plain": [
       "<LINESTRING (4.181 52.187, 4.2 52.14, 4.252 52.114)>"
      ]
     },
     "execution_count": 4,
     "metadata": {},
     "output_type": "execute_result"
    }
   ],
   "source": [
    "# prepare input data for from_site (note: in this example we only need the start location)\n",
    "location_from_site = shapely.geometry.Point(4.18055556, 52.18664444)\n",
    "\n",
    "# prepare input data for to_site\n",
    "location_to_site = shapely.geometry.Point(4.25222222, 52.11428333)\n",
    "\n",
    "# create a geometry in between\n",
    "intermediate_point = shapely.geometry.Point(4.2, 52.14)\n",
    "\n",
    "# Line of 3 points\n",
    "edge_geometry =  shapely.geometry.LineString([location_from_site, intermediate_point, location_to_site])\n",
    "edge_geometry"
   ]
  },
  {
   "cell_type": "markdown",
   "id": "c91a813e",
   "metadata": {},
   "source": [
    "## Create the OpenCLSim sites\n",
    "OpenCLSim ships always sail between sites. At each site it typically has to do something, like wait for a resource or fill a container. "
   ]
  },
  {
   "cell_type": "code",
   "execution_count": 5,
   "id": "b2ee2d9a",
   "metadata": {},
   "outputs": [],
   "source": [
    "# The from site\n",
    "data_from_site = {\n",
    "    \"env\": env,\n",
    "    \"name\": \"from_site\",\n",
    "    \"geometry\": location_from_site,\n",
    "    \"capacity\": 100,\n",
    "    \"level\": 100,\n",
    "}\n",
    "# instantiate to_site \n",
    "from_site = Site(**data_from_site)\n",
    "\n",
    "# We only need to define the to_site as an instance for OpenCLSim\n",
    "data_to_site = {\n",
    "    \"env\": env,\n",
    "    \"name\": \"to_site\",\n",
    "    \"geometry\": location_to_site,\n",
    "    \"capacity\": 100,\n",
    "    \"level\": 100,\n",
    "}\n",
    "# instantiate to_site \n",
    "to_site = Site(**data_to_site)"
   ]
  },
  {
   "cell_type": "markdown",
   "id": "e951c4f8",
   "metadata": {},
   "source": [
    "## Create the OpenTNSim graph\n",
    "OpenTNSim has the concept of a graph. It sails between nodes, over edges. Each node and edge is expected to have a geometry. "
   ]
  },
  {
   "cell_type": "code",
   "execution_count": 6,
   "id": "3e4a3b86",
   "metadata": {},
   "outputs": [],
   "source": [
    "graph = nx.Graph()\n",
    "\n",
    "# create a location based graph (with geometry as nodes)\n",
    "graph.add_node(from_site.name, geometry=from_site.geometry)\n",
    "graph.add_node(to_site.name, geometry=to_site.geometry)\n",
    "graph.add_edge(from_site.name, to_site.name, geometry=edge_geometry)\n",
    "\n",
    "env.graph = graph"
   ]
  },
  {
   "cell_type": "markdown",
   "id": "1234d4bc",
   "metadata": {},
   "source": [
    "## Define the vessel\n",
    "Here we start to integrate OpenCLSim and OpenTNSim. We make a composed type of `Movable` and the OpenCLSim components that allow to move and transport goods (`HasContainer`, `Processor`). "
   ]
  },
  {
   "cell_type": "code",
   "execution_count": 7,
   "id": "3be50ba8",
   "metadata": {},
   "outputs": [],
   "source": [
    "\n",
    "# create a TransportProcessingResource object based on desired mixin classes\n",
    "TransportProcessingResource = type(\n",
    "    \"TransportProcessingResource\",\n",
    "    (\n",
    "        opentnsim.core.Movable,\n",
    "        openclsim.core.Identifiable,\n",
    "        openclsim.core.Log,\n",
    "        openclsim.core.HasResource,\n",
    "        openclsim.core.HasContainer,\n",
    "        openclsim.core.Processor,\n",
    "        # capture extra metadata to make sure we don't have leftover arguments\n",
    "        opentnsim.core.ExtraMetadata\n",
    "    ),\n",
    "    {},\n",
    ")"
   ]
  },
  {
   "cell_type": "markdown",
   "id": "564a50d5",
   "metadata": {},
   "source": [
    "## Instantiate the vessel\n",
    "We can now make the vessel. Compared to a normal OpenCLSim route we have an extra `route` property."
   ]
  },
  {
   "cell_type": "code",
   "execution_count": 8,
   "id": "bed66786",
   "metadata": {},
   "outputs": [],
   "source": [
    "# prepare input data for vessel_01\n",
    "data_vessel01 = {\n",
    "    \"env\": env,\n",
    "    \"name\": \"vessel-01\",\n",
    "    \"geometry\": location_from_site, \n",
    "    \"capacity\": 5,\n",
    "    \"v\": 10,\n",
    "    \"route\": [from_site.name, to_site.name]\n",
    "}\n",
    "# instantiate vessel \n",
    "vessel = TransportProcessingResource(**data_vessel01)\n",
    "assert not vessel.metadata"
   ]
  },
  {
   "cell_type": "markdown",
   "id": "685a5b9f",
   "metadata": {},
   "source": [
    "## Setup the simulation\n",
    "We can now have all the elements from the simulation. We can setup the regular OpenCLSim housekeeping."
   ]
  },
  {
   "cell_type": "code",
   "execution_count": 9,
   "id": "34f963b3",
   "metadata": {},
   "outputs": [],
   "source": [
    "# initialise registry\n",
    "registry = {}"
   ]
  },
  {
   "cell_type": "code",
   "execution_count": 10,
   "id": "88cabb7c",
   "metadata": {},
   "outputs": [],
   "source": [
    "activity = openclsim.model.MoveActivity(\n",
    "    env=env,\n",
    "    name=\"Move activity\",\n",
    "    registry=registry,\n",
    "    mover=vessel,\n",
    "    destination=to_site,\n",
    ")"
   ]
  },
  {
   "cell_type": "code",
   "execution_count": 11,
   "id": "485057d1",
   "metadata": {},
   "outputs": [],
   "source": [
    "# initate the simpy processes defined in the 'move activity' and run simpy\n",
    "openclsim.model.register_processes([activity])\n",
    "env.run()"
   ]
  },
  {
   "cell_type": "markdown",
   "id": "9b8cc0e7",
   "metadata": {},
   "source": [
    "## Show the results\n",
    "We can now display how long it took."
   ]
  },
  {
   "cell_type": "code",
   "execution_count": 12,
   "id": "44e6f1a7",
   "metadata": {},
   "outputs": [
    {
     "data": {
      "text/html": [
       "<div>\n",
       "<style scoped>\n",
       "    .dataframe tbody tr th:only-of-type {\n",
       "        vertical-align: middle;\n",
       "    }\n",
       "\n",
       "    .dataframe tbody tr th {\n",
       "        vertical-align: top;\n",
       "    }\n",
       "\n",
       "    .dataframe thead th {\n",
       "        text-align: right;\n",
       "    }\n",
       "</style>\n",
       "<table border=\"1\" class=\"dataframe\">\n",
       "  <thead>\n",
       "    <tr style=\"text-align: right;\">\n",
       "      <th></th>\n",
       "      <th>Activity</th>\n",
       "      <th>Timestamp</th>\n",
       "      <th>ActivityState</th>\n",
       "    </tr>\n",
       "  </thead>\n",
       "  <tbody>\n",
       "    <tr>\n",
       "      <th>0</th>\n",
       "      <td>6c3e62da-1229-42c1-b1da-035a7743920a</td>\n",
       "      <td>1970-01-01 00:00:00.000000</td>\n",
       "      <td>START</td>\n",
       "    </tr>\n",
       "    <tr>\n",
       "      <th>1</th>\n",
       "      <td>6c3e62da-1229-42c1-b1da-035a7743920a</td>\n",
       "      <td>1970-01-01 00:16:33.819868</td>\n",
       "      <td>STOP</td>\n",
       "    </tr>\n",
       "  </tbody>\n",
       "</table>\n",
       "</div>"
      ],
      "text/plain": [
       "                               Activity                  Timestamp  \\\n",
       "0  6c3e62da-1229-42c1-b1da-035a7743920a 1970-01-01 00:00:00.000000   \n",
       "1  6c3e62da-1229-42c1-b1da-035a7743920a 1970-01-01 00:16:33.819868   \n",
       "\n",
       "  ActivityState  \n",
       "0         START  \n",
       "1          STOP  "
      ]
     },
     "metadata": {},
     "output_type": "display_data"
    }
   ],
   "source": [
    "display(openclsim.plot.get_log_dataframe(activity))"
   ]
  },
  {
   "cell_type": "code",
   "execution_count": 13,
   "id": "833ba8d1-06d1-492c-ae10-9ee0401502a5",
   "metadata": {},
   "outputs": [
    {
     "data": {
      "text/plain": [
       "datetime.datetime(1970, 1, 1, 0, 16, 33, 819868)"
      ]
     },
     "execution_count": 13,
     "metadata": {},
     "output_type": "execute_result"
    }
   ],
   "source": [
    "# compute by hand to confirm the duration\n",
    "\n",
    "distance = WGS84.geometry_length(edge_geometry)\n",
    "datetime.datetime(1970, 1, 1) + datetime.timedelta(seconds=distance / vessel.v)"
   ]
  },
  {
   "cell_type": "code",
   "execution_count": null,
   "id": "805fd1c5-8e96-411b-949d-36e7e3d475a8",
   "metadata": {},
   "outputs": [],
   "source": []
  }
 ],
 "metadata": {
  "kernelspec": {
   "display_name": "Python 3 (ipykernel)",
   "language": "python",
   "name": "python3"
  },
  "language_info": {
   "codemirror_mode": {
    "name": "ipython",
    "version": 3
   },
   "file_extension": ".py",
   "mimetype": "text/x-python",
   "name": "python",
   "nbconvert_exporter": "python",
   "pygments_lexer": "ipython3",
   "version": "3.11.6"
  }
 },
 "nbformat": 4,
 "nbformat_minor": 5
}
