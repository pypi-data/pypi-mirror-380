{
 "cells": [
  {
   "cell_type": "code",
   "execution_count": null,
   "id": "initial_id",
   "metadata": {
    "collapsed": true
   },
   "outputs": [],
   "source": [
    ""
   ]
  },
  {
   "metadata": {
    "ExecuteTime": {
     "end_time": "2025-09-13T21:21:23.264259Z",
     "start_time": "2025-09-13T21:21:18.128201Z"
    }
   },
   "cell_type": "code",
   "source": [
    "import numpy as np\n",
    "import csv\n",
    "import math\n",
    "import pandas as pd\n",
    "import matplotlib.pyplot as plt\n",
    "from scipy.interpolate import make_interp_spline\n",
    "from numpy.typing import NDArray\n",
    "from physics.models.aeroshell import Aeroshell\n",
    "\n",
    "drag_csv = pd.read_csv(\"drag_csv.csv\")\n",
    "data = pd.DataFrame(drag_csv)"
   ],
   "id": "589a83acf352533e",
   "outputs": [
    {
     "name": "stderr",
     "output_type": "stream",
     "text": [
      "C:\\Users\\sanar\\PyCharmMiscProject\\.venv\\Lib\\site-packages\\filterpy\\common\\helpers.py:364: SyntaxWarning: invalid escape sequence '\\S'\n",
      "  \"\"\"\n"
     ]
    }
   ],
   "execution_count": 27
  },
  {
   "metadata": {
    "ExecuteTime": {
     "end_time": "2025-09-13T21:21:26.969088Z",
     "start_time": "2025-09-13T21:21:26.941056Z"
    }
   },
   "cell_type": "code",
   "source": "data.head()",
   "id": "2de987cffdd462c0",
   "outputs": [
    {
     "data": {
      "text/plain": [
       "        Angle of Attack        0        18          36          54  \\\n",
       "0  Projected Area [m^2]   1.1853  1.695979    2.458166    3.047409   \n",
       "1                   CdA  0.11609    0.1377    0.242700    0.401800   \n",
       "2              Drag [N]    23.41     39.73  101.510000  208.350000   \n",
       "3                   ClA  -0.3166   -0.1992   -0.234500   -0.284700   \n",
       "4              Lift [N]   -63.84    -57.48  -98.060000 -147.610000   \n",
       "\n",
       "           72          90         108         126        144        162  \\\n",
       "0    3.490568    3.567229    3.491993    3.057534   2.455826   1.691499   \n",
       "1    0.533400    0.667600    0.593700    0.519200   0.226600   0.126600   \n",
       "2  316.840000  411.290000  352.760000  270.130000  94.670000  36.430000   \n",
       "3   -0.342500   -0.752200   -0.636600   -0.517300  -0.070000  -0.111300   \n",
       "4 -203.430000 -457.570000 -378.230000 -269.120000 -29.260000 -32.030000   \n",
       "\n",
       "         180  \n",
       "0   1.187159  \n",
       "1   0.116800  \n",
       "2  23.580000  \n",
       "3  -0.181400  \n",
       "4 -36.640000  "
      ],
      "text/html": [
       "<div>\n",
       "<style scoped>\n",
       "    .dataframe tbody tr th:only-of-type {\n",
       "        vertical-align: middle;\n",
       "    }\n",
       "\n",
       "    .dataframe tbody tr th {\n",
       "        vertical-align: top;\n",
       "    }\n",
       "\n",
       "    .dataframe thead th {\n",
       "        text-align: right;\n",
       "    }\n",
       "</style>\n",
       "<table border=\"1\" class=\"dataframe\">\n",
       "  <thead>\n",
       "    <tr style=\"text-align: right;\">\n",
       "      <th></th>\n",
       "      <th>Angle of Attack</th>\n",
       "      <th>0</th>\n",
       "      <th>18</th>\n",
       "      <th>36</th>\n",
       "      <th>54</th>\n",
       "      <th>72</th>\n",
       "      <th>90</th>\n",
       "      <th>108</th>\n",
       "      <th>126</th>\n",
       "      <th>144</th>\n",
       "      <th>162</th>\n",
       "      <th>180</th>\n",
       "    </tr>\n",
       "  </thead>\n",
       "  <tbody>\n",
       "    <tr>\n",
       "      <th>0</th>\n",
       "      <td>Projected Area [m^2]</td>\n",
       "      <td>1.1853</td>\n",
       "      <td>1.695979</td>\n",
       "      <td>2.458166</td>\n",
       "      <td>3.047409</td>\n",
       "      <td>3.490568</td>\n",
       "      <td>3.567229</td>\n",
       "      <td>3.491993</td>\n",
       "      <td>3.057534</td>\n",
       "      <td>2.455826</td>\n",
       "      <td>1.691499</td>\n",
       "      <td>1.187159</td>\n",
       "    </tr>\n",
       "    <tr>\n",
       "      <th>1</th>\n",
       "      <td>CdA</td>\n",
       "      <td>0.11609</td>\n",
       "      <td>0.1377</td>\n",
       "      <td>0.242700</td>\n",
       "      <td>0.401800</td>\n",
       "      <td>0.533400</td>\n",
       "      <td>0.667600</td>\n",
       "      <td>0.593700</td>\n",
       "      <td>0.519200</td>\n",
       "      <td>0.226600</td>\n",
       "      <td>0.126600</td>\n",
       "      <td>0.116800</td>\n",
       "    </tr>\n",
       "    <tr>\n",
       "      <th>2</th>\n",
       "      <td>Drag [N]</td>\n",
       "      <td>23.41</td>\n",
       "      <td>39.73</td>\n",
       "      <td>101.510000</td>\n",
       "      <td>208.350000</td>\n",
       "      <td>316.840000</td>\n",
       "      <td>411.290000</td>\n",
       "      <td>352.760000</td>\n",
       "      <td>270.130000</td>\n",
       "      <td>94.670000</td>\n",
       "      <td>36.430000</td>\n",
       "      <td>23.580000</td>\n",
       "    </tr>\n",
       "    <tr>\n",
       "      <th>3</th>\n",
       "      <td>ClA</td>\n",
       "      <td>-0.3166</td>\n",
       "      <td>-0.1992</td>\n",
       "      <td>-0.234500</td>\n",
       "      <td>-0.284700</td>\n",
       "      <td>-0.342500</td>\n",
       "      <td>-0.752200</td>\n",
       "      <td>-0.636600</td>\n",
       "      <td>-0.517300</td>\n",
       "      <td>-0.070000</td>\n",
       "      <td>-0.111300</td>\n",
       "      <td>-0.181400</td>\n",
       "    </tr>\n",
       "    <tr>\n",
       "      <th>4</th>\n",
       "      <td>Lift [N]</td>\n",
       "      <td>-63.84</td>\n",
       "      <td>-57.48</td>\n",
       "      <td>-98.060000</td>\n",
       "      <td>-147.610000</td>\n",
       "      <td>-203.430000</td>\n",
       "      <td>-457.570000</td>\n",
       "      <td>-378.230000</td>\n",
       "      <td>-269.120000</td>\n",
       "      <td>-29.260000</td>\n",
       "      <td>-32.030000</td>\n",
       "      <td>-36.640000</td>\n",
       "    </tr>\n",
       "  </tbody>\n",
       "</table>\n",
       "</div>"
      ]
     },
     "execution_count": 28,
     "metadata": {},
     "output_type": "execute_result"
    }
   ],
   "execution_count": 28
  },
  {
   "metadata": {
    "ExecuteTime": {
     "end_time": "2025-09-13T21:21:35.108653Z",
     "start_time": "2025-09-13T21:21:35.092502Z"
    }
   },
   "cell_type": "code",
   "source": [
    "angles = data.loc[1].astype(str)\n",
    "coeff = data.loc[2].astype(str)\n",
    "\n",
    "print(angles)\n",
    "\n",
    "\n",
    "#down/drag = tan theta"
   ],
   "id": "cbff712fbcc52c02",
   "outputs": [
    {
     "name": "stdout",
     "output_type": "stream",
     "text": [
      "Angle of Attack        CdA\n",
      "0                  0.11609\n",
      "18                  0.1377\n",
      "36                  0.2427\n",
      "54                  0.4018\n",
      "72                  0.5334\n",
      "90                  0.6676\n",
      "108                 0.5937\n",
      "126                 0.5192\n",
      "144                 0.2266\n",
      "162                 0.1266\n",
      "180                 0.1168\n",
      "Name: 1, dtype: object\n"
     ]
    }
   ],
   "execution_count": 30
  },
  {
   "metadata": {
    "ExecuteTime": {
     "end_time": "2025-09-13T21:21:36.272184Z",
     "start_time": "2025-09-13T21:21:36.167005Z"
    }
   },
   "cell_type": "code",
   "source": "plt.plot(coeff, angles)",
   "id": "9d54929b74f0180b",
   "outputs": [
    {
     "data": {
      "text/plain": [
       "[<matplotlib.lines.Line2D at 0x1d9e9483f80>]"
      ]
     },
     "execution_count": 31,
     "metadata": {},
     "output_type": "execute_result"
    },
    {
     "data": {
      "text/plain": [
       "<Figure size 640x480 with 1 Axes>"
      ],
      "image/png": "[encoded data removed]"
     },
     "metadata": {},
     "output_type": "display_data"
    }
   ],
   "execution_count": 31
  },
  {
   "metadata": {
    "ExecuteTime": {
     "end_time": "2025-09-13T21:21:39.001339Z",
     "start_time": "2025-09-13T21:21:38.985634Z"
    }
   },
   "cell_type": "code",
   "source": [
    "aeroshell_motor = Aeroshell(drag_lookup={\n",
    "\n",
    "\n",
    "\n",
    "    0:\n",
    "    0.11609,\n",
    "    18:\n",
    "    0.1377,\n",
    "    36:\n",
    "    0.2427,\n",
    "    54:\n",
    "    0.4018,\n",
    "    72:\n",
    "    0.5334,\n",
    "    90:\n",
    "    0.6676,\n",
    "    108:\n",
    "    0.5937,\n",
    "    126:\n",
    "    0.5192,\n",
    "    144:\n",
    "    0.2266,\n",
    "    162:\n",
    "    0.1266\n",
    "        # 0: 23.41,\n",
    "        #                           18: 39.73,\n",
    "        #                           36: 101.51,\n",
    "        #                           54: 208.35,\n",
    "        #                           72: 316.84,\n",
    "        #                           90: 411.29,\n",
    "        #                           108: 352.76,\n",
    "        #                           126: 270.13,\n",
    "        #                           144: 94.67,\n",
    "        #                           162: 36.43,\n",
    "        #                           180: 23.58\n",
    "                                  }, down_lookup={\n",
    "        0: 63.84,\n",
    "        18: 57.48,\n",
    "        36: 98.06,\n",
    "        54: 147.61,\n",
    "        72: 203.43,\n",
    "        90: 457.57,\n",
    "        108: 378.23,\n",
    "        126: 269.12,\n",
    "        144: 29.26,\n",
    "        162: 32.03,\n",
    "        180: 36.64\n",
    "    }, wind_reference_speed=16.667, density = 1.225)\n",
    "\n",
    "\n"
   ],
   "id": "84d7e430ef8dde62",
   "outputs": [],
   "execution_count": 32
  },
  {
   "metadata": {
    "ExecuteTime": {
     "end_time": "2025-09-13T21:35:04.340532Z",
     "start_time": "2025-09-13T21:35:04.134999Z"
    }
   },
   "cell_type": "code",
   "source": [
    "\n",
    "    # Define deterministic inputs for the calculate drag_force method\n",
    "\n",
    "    wind_attack_angles = np.array([0.0, 18.0, 36.0])\n",
    "    wind_speeds = np.zeros_like(wind_attack_angles)\n",
    "    required_speed_ms = np.full_like(wind_attack_angles, 16.67)\n",
    "    drag_force = aeroshell_motor.calculate_drag(wind_speeds, wind_attack_angles, required_speed_ms)\n",
    "    expected = np.array([23.41842819, 39.7443038, 101.54654616])\n",
    "    print(drag_force)\n",
    "    #assert np.allclose(drag_force, expected, atol=1e-3)\n",
    "\n",
    "\n",
    "\n",
    "#"
   ],
   "id": "c495ed17b5a5285b",
   "outputs": [
    {
     "name": "stdout",
     "output_type": "stream",
     "text": [
      "[19.75932497 22.29038443 33.41986672]\n"
     ]
    },
    {
     "ename": "ValueError",
     "evalue": "could not convert string to float: 'CdA'",
     "output_type": "error",
     "traceback": [
      "\u001B[1;31m---------------------------------------------------------------------------\u001B[0m",
      "\u001B[1;31mValueError\u001B[0m                                Traceback (most recent call last)",
      "Cell \u001B[1;32mIn[35], line 11\u001B[0m\n\u001B[0;32m      8\u001B[0m \u001B[38;5;28mprint\u001B[39m(drag_force)\n\u001B[0;32m      9\u001B[0m \u001B[38;5;66;03m#assert np.allclose(drag_force, expected, atol=1e-3)\u001B[39;00m\n\u001B[1;32m---> 11\u001B[0m interp_func \u001B[38;5;241m=\u001B[39m \u001B[43mmake_interp_spline\u001B[49m\u001B[43m(\u001B[49m\u001B[43mwind_attack_angles\u001B[49m\u001B[43m,\u001B[49m\u001B[43m \u001B[49m\u001B[43mangles\u001B[49m\u001B[43m)\u001B[49m\n\u001B[0;32m     14\u001B[0m \u001B[38;5;66;03m#\u001B[39;00m\n",
      "File \u001B[1;32m~\\PyCharmMiscProject\\.venv\\Lib\\site-packages\\scipy\\interpolate\\_bsplines.py:1374\u001B[0m, in \u001B[0;36mmake_interp_spline\u001B[1;34m(x, y, k, t, bc_type, axis, check_finite)\u001B[0m\n\u001B[0;32m   1371\u001B[0m axis \u001B[38;5;241m=\u001B[39m normalize_axis_index(axis, y\u001B[38;5;241m.\u001B[39mndim)\n\u001B[0;32m   1373\u001B[0m x \u001B[38;5;241m=\u001B[39m _as_float_array(x, check_finite)\n\u001B[1;32m-> 1374\u001B[0m y \u001B[38;5;241m=\u001B[39m \u001B[43m_as_float_array\u001B[49m\u001B[43m(\u001B[49m\u001B[43my\u001B[49m\u001B[43m,\u001B[49m\u001B[43m \u001B[49m\u001B[43mcheck_finite\u001B[49m\u001B[43m)\u001B[49m\n\u001B[0;32m   1376\u001B[0m y \u001B[38;5;241m=\u001B[39m np\u001B[38;5;241m.\u001B[39mmoveaxis(y, axis, \u001B[38;5;241m0\u001B[39m)    \u001B[38;5;66;03m# now internally interp axis is zero\u001B[39;00m\n\u001B[0;32m   1378\u001B[0m \u001B[38;5;66;03m# sanity check the input\u001B[39;00m\n",
      "File \u001B[1;32m~\\PyCharmMiscProject\\.venv\\Lib\\site-packages\\scipy\\interpolate\\_bsplines.py:35\u001B[0m, in \u001B[0;36m_as_float_array\u001B[1;34m(x, check_finite)\u001B[0m\n\u001B[0;32m     33\u001B[0m x \u001B[38;5;241m=\u001B[39m np\u001B[38;5;241m.\u001B[39mascontiguousarray(x)\n\u001B[0;32m     34\u001B[0m dtyp \u001B[38;5;241m=\u001B[39m _get_dtype(x\u001B[38;5;241m.\u001B[39mdtype)\n\u001B[1;32m---> 35\u001B[0m x \u001B[38;5;241m=\u001B[39m \u001B[43mx\u001B[49m\u001B[38;5;241;43m.\u001B[39;49m\u001B[43mastype\u001B[49m\u001B[43m(\u001B[49m\u001B[43mdtyp\u001B[49m\u001B[43m,\u001B[49m\u001B[43m \u001B[49m\u001B[43mcopy\u001B[49m\u001B[38;5;241;43m=\u001B[39;49m\u001B[38;5;28;43;01mFalse\u001B[39;49;00m\u001B[43m)\u001B[49m\n\u001B[0;32m     36\u001B[0m \u001B[38;5;28;01mif\u001B[39;00m check_finite \u001B[38;5;129;01mand\u001B[39;00m \u001B[38;5;129;01mnot\u001B[39;00m np\u001B[38;5;241m.\u001B[39misfinite(x)\u001B[38;5;241m.\u001B[39mall():\n\u001B[0;32m     37\u001B[0m     \u001B[38;5;28;01mraise\u001B[39;00m \u001B[38;5;167;01mValueError\u001B[39;00m(\u001B[38;5;124m\"\u001B[39m\u001B[38;5;124mArray must not contain infs or nans.\u001B[39m\u001B[38;5;124m\"\u001B[39m)\n",
      "\u001B[1;31mValueError\u001B[0m: could not convert string to float: 'CdA'"
     ]
    }
   ],
   "execution_count": 35
  },
  {
   "metadata": {},
   "cell_type": "code",
   "outputs": [],
   "execution_count": null,
   "source": [
    "\n",
    " interp_func = make_interp_spline(wind_attack_angles, angles)\n"
   ],
   "id": "cfe69d1fd4d8c241"
  },
  {
   "metadata": {
    "ExecuteTime": {
     "end_time": "2025-09-13T21:35:40.494316Z",
     "start_time": "2025-09-13T21:35:40.398925Z"
    }
   },
   "cell_type": "code",
   "source": "angles.astype(float)",
   "id": "47ef651ff25721df",
   "outputs": [
    {
     "ename": "ValueError",
     "evalue": "could not convert string to float: 'CdA'",
     "output_type": "error",
     "traceback": [
      "\u001B[1;31m---------------------------------------------------------------------------\u001B[0m",
      "\u001B[1;31mValueError\u001B[0m                                Traceback (most recent call last)",
      "Cell \u001B[1;32mIn[37], line 1\u001B[0m\n\u001B[1;32m----> 1\u001B[0m \u001B[43mangles\u001B[49m\u001B[38;5;241;43m.\u001B[39;49m\u001B[43mastype\u001B[49m\u001B[43m(\u001B[49m\u001B[38;5;28;43mfloat\u001B[39;49m\u001B[43m)\u001B[49m\n",
      "File \u001B[1;32m~\\PyCharmMiscProject\\.venv\\Lib\\site-packages\\pandas\\core\\generic.py:6643\u001B[0m, in \u001B[0;36mNDFrame.astype\u001B[1;34m(self, dtype, copy, errors)\u001B[0m\n\u001B[0;32m   6637\u001B[0m     results \u001B[38;5;241m=\u001B[39m [\n\u001B[0;32m   6638\u001B[0m         ser\u001B[38;5;241m.\u001B[39mastype(dtype, copy\u001B[38;5;241m=\u001B[39mcopy, errors\u001B[38;5;241m=\u001B[39merrors) \u001B[38;5;28;01mfor\u001B[39;00m _, ser \u001B[38;5;129;01min\u001B[39;00m \u001B[38;5;28mself\u001B[39m\u001B[38;5;241m.\u001B[39mitems()\n\u001B[0;32m   6639\u001B[0m     ]\n\u001B[0;32m   6641\u001B[0m \u001B[38;5;28;01melse\u001B[39;00m:\n\u001B[0;32m   6642\u001B[0m     \u001B[38;5;66;03m# else, only a single dtype is given\u001B[39;00m\n\u001B[1;32m-> 6643\u001B[0m     new_data \u001B[38;5;241m=\u001B[39m \u001B[38;5;28;43mself\u001B[39;49m\u001B[38;5;241;43m.\u001B[39;49m\u001B[43m_mgr\u001B[49m\u001B[38;5;241;43m.\u001B[39;49m\u001B[43mastype\u001B[49m\u001B[43m(\u001B[49m\u001B[43mdtype\u001B[49m\u001B[38;5;241;43m=\u001B[39;49m\u001B[43mdtype\u001B[49m\u001B[43m,\u001B[49m\u001B[43m \u001B[49m\u001B[43mcopy\u001B[49m\u001B[38;5;241;43m=\u001B[39;49m\u001B[43mcopy\u001B[49m\u001B[43m,\u001B[49m\u001B[43m \u001B[49m\u001B[43merrors\u001B[49m\u001B[38;5;241;43m=\u001B[39;49m\u001B[43merrors\u001B[49m\u001B[43m)\u001B[49m\n\u001B[0;32m   6644\u001B[0m     res \u001B[38;5;241m=\u001B[39m \u001B[38;5;28mself\u001B[39m\u001B[38;5;241m.\u001B[39m_constructor_from_mgr(new_data, axes\u001B[38;5;241m=\u001B[39mnew_data\u001B[38;5;241m.\u001B[39maxes)\n\u001B[0;32m   6645\u001B[0m     \u001B[38;5;28;01mreturn\u001B[39;00m res\u001B[38;5;241m.\u001B[39m__finalize__(\u001B[38;5;28mself\u001B[39m, method\u001B[38;5;241m=\u001B[39m\u001B[38;5;124m\"\u001B[39m\u001B[38;5;124mastype\u001B[39m\u001B[38;5;124m\"\u001B[39m)\n",
      "File \u001B[1;32m~\\PyCharmMiscProject\\.venv\\Lib\\site-packages\\pandas\\core\\internals\\managers.py:430\u001B[0m, in \u001B[0;36mBaseBlockManager.astype\u001B[1;34m(self, dtype, copy, errors)\u001B[0m\n\u001B[0;32m    427\u001B[0m \u001B[38;5;28;01melif\u001B[39;00m using_copy_on_write():\n\u001B[0;32m    428\u001B[0m     copy \u001B[38;5;241m=\u001B[39m \u001B[38;5;28;01mFalse\u001B[39;00m\n\u001B[1;32m--> 430\u001B[0m \u001B[38;5;28;01mreturn\u001B[39;00m \u001B[38;5;28;43mself\u001B[39;49m\u001B[38;5;241;43m.\u001B[39;49m\u001B[43mapply\u001B[49m\u001B[43m(\u001B[49m\n\u001B[0;32m    431\u001B[0m \u001B[43m    \u001B[49m\u001B[38;5;124;43m\"\u001B[39;49m\u001B[38;5;124;43mastype\u001B[39;49m\u001B[38;5;124;43m\"\u001B[39;49m\u001B[43m,\u001B[49m\n\u001B[0;32m    432\u001B[0m \u001B[43m    \u001B[49m\u001B[43mdtype\u001B[49m\u001B[38;5;241;43m=\u001B[39;49m\u001B[43mdtype\u001B[49m\u001B[43m,\u001B[49m\n\u001B[0;32m    433\u001B[0m \u001B[43m    \u001B[49m\u001B[43mcopy\u001B[49m\u001B[38;5;241;43m=\u001B[39;49m\u001B[43mcopy\u001B[49m\u001B[43m,\u001B[49m\n\u001B[0;32m    434\u001B[0m \u001B[43m    \u001B[49m\u001B[43merrors\u001B[49m\u001B[38;5;241;43m=\u001B[39;49m\u001B[43merrors\u001B[49m\u001B[43m,\u001B[49m\n\u001B[0;32m    435\u001B[0m \u001B[43m    \u001B[49m\u001B[43musing_cow\u001B[49m\u001B[38;5;241;43m=\u001B[39;49m\u001B[43musing_copy_on_write\u001B[49m\u001B[43m(\u001B[49m\u001B[43m)\u001B[49m\u001B[43m,\u001B[49m\n\u001B[0;32m    436\u001B[0m \u001B[43m\u001B[49m\u001B[43m)\u001B[49m\n",
      "File \u001B[1;32m~\\PyCharmMiscProject\\.venv\\Lib\\site-packages\\pandas\\core\\internals\\managers.py:363\u001B[0m, in \u001B[0;36mBaseBlockManager.apply\u001B[1;34m(self, f, align_keys, **kwargs)\u001B[0m\n\u001B[0;32m    361\u001B[0m         applied \u001B[38;5;241m=\u001B[39m b\u001B[38;5;241m.\u001B[39mapply(f, \u001B[38;5;241m*\u001B[39m\u001B[38;5;241m*\u001B[39mkwargs)\n\u001B[0;32m    362\u001B[0m     \u001B[38;5;28;01melse\u001B[39;00m:\n\u001B[1;32m--> 363\u001B[0m         applied \u001B[38;5;241m=\u001B[39m \u001B[38;5;28;43mgetattr\u001B[39;49m\u001B[43m(\u001B[49m\u001B[43mb\u001B[49m\u001B[43m,\u001B[49m\u001B[43m \u001B[49m\u001B[43mf\u001B[49m\u001B[43m)\u001B[49m\u001B[43m(\u001B[49m\u001B[38;5;241;43m*\u001B[39;49m\u001B[38;5;241;43m*\u001B[39;49m\u001B[43mkwargs\u001B[49m\u001B[43m)\u001B[49m\n\u001B[0;32m    364\u001B[0m     result_blocks \u001B[38;5;241m=\u001B[39m extend_blocks(applied, result_blocks)\n\u001B[0;32m    366\u001B[0m out \u001B[38;5;241m=\u001B[39m \u001B[38;5;28mtype\u001B[39m(\u001B[38;5;28mself\u001B[39m)\u001B[38;5;241m.\u001B[39mfrom_blocks(result_blocks, \u001B[38;5;28mself\u001B[39m\u001B[38;5;241m.\u001B[39maxes)\n",
      "File \u001B[1;32m~\\PyCharmMiscProject\\.venv\\Lib\\site-packages\\pandas\\core\\internals\\blocks.py:758\u001B[0m, in \u001B[0;36mBlock.astype\u001B[1;34m(self, dtype, copy, errors, using_cow, squeeze)\u001B[0m\n\u001B[0;32m    755\u001B[0m         \u001B[38;5;28;01mraise\u001B[39;00m \u001B[38;5;167;01mValueError\u001B[39;00m(\u001B[38;5;124m\"\u001B[39m\u001B[38;5;124mCan not squeeze with more than one column.\u001B[39m\u001B[38;5;124m\"\u001B[39m)\n\u001B[0;32m    756\u001B[0m     values \u001B[38;5;241m=\u001B[39m values[\u001B[38;5;241m0\u001B[39m, :]  \u001B[38;5;66;03m# type: ignore[call-overload]\u001B[39;00m\n\u001B[1;32m--> 758\u001B[0m new_values \u001B[38;5;241m=\u001B[39m \u001B[43mastype_array_safe\u001B[49m\u001B[43m(\u001B[49m\u001B[43mvalues\u001B[49m\u001B[43m,\u001B[49m\u001B[43m \u001B[49m\u001B[43mdtype\u001B[49m\u001B[43m,\u001B[49m\u001B[43m \u001B[49m\u001B[43mcopy\u001B[49m\u001B[38;5;241;43m=\u001B[39;49m\u001B[43mcopy\u001B[49m\u001B[43m,\u001B[49m\u001B[43m \u001B[49m\u001B[43merrors\u001B[49m\u001B[38;5;241;43m=\u001B[39;49m\u001B[43merrors\u001B[49m\u001B[43m)\u001B[49m\n\u001B[0;32m    760\u001B[0m new_values \u001B[38;5;241m=\u001B[39m maybe_coerce_values(new_values)\n\u001B[0;32m    762\u001B[0m refs \u001B[38;5;241m=\u001B[39m \u001B[38;5;28;01mNone\u001B[39;00m\n",
      "File \u001B[1;32m~\\PyCharmMiscProject\\.venv\\Lib\\site-packages\\pandas\\core\\dtypes\\astype.py:237\u001B[0m, in \u001B[0;36mastype_array_safe\u001B[1;34m(values, dtype, copy, errors)\u001B[0m\n\u001B[0;32m    234\u001B[0m     dtype \u001B[38;5;241m=\u001B[39m dtype\u001B[38;5;241m.\u001B[39mnumpy_dtype\n\u001B[0;32m    236\u001B[0m \u001B[38;5;28;01mtry\u001B[39;00m:\n\u001B[1;32m--> 237\u001B[0m     new_values \u001B[38;5;241m=\u001B[39m \u001B[43mastype_array\u001B[49m\u001B[43m(\u001B[49m\u001B[43mvalues\u001B[49m\u001B[43m,\u001B[49m\u001B[43m \u001B[49m\u001B[43mdtype\u001B[49m\u001B[43m,\u001B[49m\u001B[43m \u001B[49m\u001B[43mcopy\u001B[49m\u001B[38;5;241;43m=\u001B[39;49m\u001B[43mcopy\u001B[49m\u001B[43m)\u001B[49m\n\u001B[0;32m    238\u001B[0m \u001B[38;5;28;01mexcept\u001B[39;00m (\u001B[38;5;167;01mValueError\u001B[39;00m, \u001B[38;5;167;01mTypeError\u001B[39;00m):\n\u001B[0;32m    239\u001B[0m     \u001B[38;5;66;03m# e.g. _astype_nansafe can fail on object-dtype of strings\u001B[39;00m\n\u001B[0;32m    240\u001B[0m     \u001B[38;5;66;03m#  trying to convert to float\u001B[39;00m\n\u001B[0;32m    241\u001B[0m     \u001B[38;5;28;01mif\u001B[39;00m errors \u001B[38;5;241m==\u001B[39m \u001B[38;5;124m\"\u001B[39m\u001B[38;5;124mignore\u001B[39m\u001B[38;5;124m\"\u001B[39m:\n",
      "File \u001B[1;32m~\\PyCharmMiscProject\\.venv\\Lib\\site-packages\\pandas\\core\\dtypes\\astype.py:182\u001B[0m, in \u001B[0;36mastype_array\u001B[1;34m(values, dtype, copy)\u001B[0m\n\u001B[0;32m    179\u001B[0m     values \u001B[38;5;241m=\u001B[39m values\u001B[38;5;241m.\u001B[39mastype(dtype, copy\u001B[38;5;241m=\u001B[39mcopy)\n\u001B[0;32m    181\u001B[0m \u001B[38;5;28;01melse\u001B[39;00m:\n\u001B[1;32m--> 182\u001B[0m     values \u001B[38;5;241m=\u001B[39m \u001B[43m_astype_nansafe\u001B[49m\u001B[43m(\u001B[49m\u001B[43mvalues\u001B[49m\u001B[43m,\u001B[49m\u001B[43m \u001B[49m\u001B[43mdtype\u001B[49m\u001B[43m,\u001B[49m\u001B[43m \u001B[49m\u001B[43mcopy\u001B[49m\u001B[38;5;241;43m=\u001B[39;49m\u001B[43mcopy\u001B[49m\u001B[43m)\u001B[49m\n\u001B[0;32m    184\u001B[0m \u001B[38;5;66;03m# in pandas we don't store numpy str dtypes, so convert to object\u001B[39;00m\n\u001B[0;32m    185\u001B[0m \u001B[38;5;28;01mif\u001B[39;00m \u001B[38;5;28misinstance\u001B[39m(dtype, np\u001B[38;5;241m.\u001B[39mdtype) \u001B[38;5;129;01mand\u001B[39;00m \u001B[38;5;28missubclass\u001B[39m(values\u001B[38;5;241m.\u001B[39mdtype\u001B[38;5;241m.\u001B[39mtype, \u001B[38;5;28mstr\u001B[39m):\n",
      "File \u001B[1;32m~\\PyCharmMiscProject\\.venv\\Lib\\site-packages\\pandas\\core\\dtypes\\astype.py:133\u001B[0m, in \u001B[0;36m_astype_nansafe\u001B[1;34m(arr, dtype, copy, skipna)\u001B[0m\n\u001B[0;32m    129\u001B[0m     \u001B[38;5;28;01mraise\u001B[39;00m \u001B[38;5;167;01mValueError\u001B[39;00m(msg)\n\u001B[0;32m    131\u001B[0m \u001B[38;5;28;01mif\u001B[39;00m copy \u001B[38;5;129;01mor\u001B[39;00m arr\u001B[38;5;241m.\u001B[39mdtype \u001B[38;5;241m==\u001B[39m \u001B[38;5;28mobject\u001B[39m \u001B[38;5;129;01mor\u001B[39;00m dtype \u001B[38;5;241m==\u001B[39m \u001B[38;5;28mobject\u001B[39m:\n\u001B[0;32m    132\u001B[0m     \u001B[38;5;66;03m# Explicit copy, or required since NumPy can't view from / to object.\u001B[39;00m\n\u001B[1;32m--> 133\u001B[0m     \u001B[38;5;28;01mreturn\u001B[39;00m \u001B[43marr\u001B[49m\u001B[38;5;241;43m.\u001B[39;49m\u001B[43mastype\u001B[49m\u001B[43m(\u001B[49m\u001B[43mdtype\u001B[49m\u001B[43m,\u001B[49m\u001B[43m \u001B[49m\u001B[43mcopy\u001B[49m\u001B[38;5;241;43m=\u001B[39;49m\u001B[38;5;28;43;01mTrue\u001B[39;49;00m\u001B[43m)\u001B[49m\n\u001B[0;32m    135\u001B[0m \u001B[38;5;28;01mreturn\u001B[39;00m arr\u001B[38;5;241m.\u001B[39mastype(dtype, copy\u001B[38;5;241m=\u001B[39mcopy)\n",
      "\u001B[1;31mValueError\u001B[0m: could not convert string to float: 'CdA'"
     ]
    }
   ],
   "execution_count": 37
  },
  {
   "metadata": {
    "ExecuteTime": {
     "end_time": "2025-09-13T21:22:14.479325Z",
     "start_time": "2025-09-13T21:22:14.302805Z"
    }
   },
   "cell_type": "code",
   "source": "plt.scatter(wind_attack_angles, expected)",
   "id": "56b52ea75f72c14a",
   "outputs": [
    {
     "data": {
      "text/plain": [
       "<matplotlib.collections.PathCollection at 0x1d9ea7297f0>"
      ]
     },
     "execution_count": 34,
     "metadata": {},
     "output_type": "execute_result"
    },
    {
     "data": {
      "text/plain": [
       "<Figure size 640x480 with 1 Axes>"
      ],
      "image/png": "[encoded data removed]"
     },
     "metadata": {},
     "output_type": "display_data"
    }
   ],
   "execution_count": 34
  },
  {
   "metadata": {},
   "cell_type": "code",
   "outputs": [],
   "execution_count": null,
   "source": "",
   "id": "b68d71c75cadcd9c"
  }
 ],
 "metadata": {
  "kernelspec": {
   "display_name": "Python 3",
   "language": "python",
   "name": "python3"
  },
  "language_info": {
   "codemirror_mode": {
    "name": "ipython",
    "version": 2
   },
   "file_extension": ".py",
   "mimetype": "text/x-python",
   "name": "python",
   "nbconvert_exporter": "python",
   "pygments_lexer": "ipython2",
   "version": "2.7.6"
  }
 },
 "nbformat": 4,
 "nbformat_minor": 5
}
