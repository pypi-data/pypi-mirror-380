{
 "cells": [
  {
   "cell_type": "code",
   "execution_count": 7,
   "id": "22e4e8b1-6179-42fc-8be9-503322000c5b",
   "metadata": {},
   "outputs": [
    {
     "ename": "Error",
     "evalue": "No such file or directory (os error 2)",
     "output_type": "error",
     "traceback": [
      "\u001b[31mError:\u001b[0m No such file or directory (os error 2)"
     ]
    }
   ],
   "source": [
    ":dep "
   ]
  },
  {
   "cell_type": "code",
   "execution_count": null,
   "id": "8964664d-5c3b-4875-aecc-2405f97c76fa",
   "metadata": {},
   "outputs": [],
   "source": []
  }
 ],
 "metadata": {
  "kernelspec": {
   "display_name": "Rust",
   "language": "rust",
   "name": "rust"
  },
  "language_info": {
   "codemirror_mode": "rust",
   "file_extension": ".rs",
   "mimetype": "text/rust",
   "name": "Rust",
   "pygment_lexer": "rust",
   "version": ""
  }
 },
 "nbformat": 4,
 "nbformat_minor": 5
}
