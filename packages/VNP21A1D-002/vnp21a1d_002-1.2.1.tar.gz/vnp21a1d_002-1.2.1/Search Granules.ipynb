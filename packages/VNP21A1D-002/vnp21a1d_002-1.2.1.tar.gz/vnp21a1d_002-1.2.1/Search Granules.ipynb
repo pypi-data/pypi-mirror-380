{
 "cells": [
  {
   "cell_type": "code",
   "execution_count": 1,
   "id": "7aab7aa3",
   "metadata": {},
   "outputs": [],
   "source": [
    "import VNP21A1D_002"
   ]
  },
  {
   "cell_type": "code",
   "execution_count": 2,
   "id": "d31145a2",
   "metadata": {},
   "outputs": [],
   "source": [
    "tile = \"h08v05\""
   ]
  },
  {
   "cell_type": "code",
   "execution_count": 4,
   "id": "f12b9246",
   "metadata": {},
   "outputs": [
    {
     "name": "stdout",
     "output_type": "stream",
     "text": [
      "[2025-09-28 15:04:08 INFO] Found the following granules for VIIRS 2 using the CMR search:\n",
      "[2025-09-28 15:04:08 INFO]   \u001b[34mVNP21A1D.A2025264.h08v05.002.2025265115837\u001b[0m\n",
      "[2025-09-28 15:04:08 INFO]   \u001b[34mVNP21A1D.A2025265.h08v05.002.2025266123844\u001b[0m\n",
      "[2025-09-28 15:04:08 INFO]   \u001b[34mVNP21A1D.A2025266.h08v05.002.2025268034755\u001b[0m\n",
      "[2025-09-28 15:04:08 INFO]   \u001b[34mVNP21A1D.A2025267.h08v05.002.2025269224204\u001b[0m\n",
      "[2025-09-28 15:04:08 INFO]   \u001b[34mVNP21A1D.A2025269.h08v05.002.2025270133734\u001b[0m\n",
      "[2025-09-28 15:04:08 INFO]   \u001b[34mVNP21A1D.A2025270.h08v05.002.2025271102411\u001b[0m\n",
      "[2025-09-28 15:04:08 INFO] Number of VIIRS 2 granules found using CMR search: 6\n"
     ]
    },
    {
     "data": {
      "text/plain": [
       "[Collection: {'ShortName': 'VNP21A1D', 'Version': '002'}\n",
       " Spatial coverage: {'HorizontalSpatialDomain': {'Geometry': {'GPolygons': [{'Boundary': {'Points': [{'Longitude': -115.3696, 'Latitude': 29.8308}, {'Longitude': -103.6998, 'Latitude': 29.9063}, {'Longitude': -117.3606, 'Latitude': 40.0852}, {'Longitude': -130.5407, 'Latitude': 40.0}, {'Longitude': -115.3696, 'Latitude': 29.8308}]}}]}}}\n",
       " Temporal coverage: {'RangeDateTime': {'BeginningDateTime': '2025-09-21T00:00:00.000Z', 'EndingDateTime': '2025-09-21T23:59:59.000Z'}}\n",
       " Size(MB): 2.3372058868408203\n",
       " Data: ['https://data.lpdaac.earthdatacloud.nasa.gov/lp-prod-protected/VNP21A1D.002/VNP21A1D.A2025264.h08v05.002.2025265115837/VNP21A1D.A2025264.h08v05.002.2025265115837.h5'],\n",
       " Collection: {'ShortName': 'VNP21A1D', 'Version': '002'}\n",
       " Spatial coverage: {'HorizontalSpatialDomain': {'Geometry': {'GPolygons': [{'Boundary': {'Points': [{'Longitude': -115.3696, 'Latitude': 29.8308}, {'Longitude': -103.6998, 'Latitude': 29.9063}, {'Longitude': -117.3606, 'Latitude': 40.0852}, {'Longitude': -130.5407, 'Latitude': 40.0}, {'Longitude': -115.3696, 'Latitude': 29.8308}]}}]}}}\n",
       " Temporal coverage: {'RangeDateTime': {'BeginningDateTime': '2025-09-22T00:00:00.000Z', 'EndingDateTime': '2025-09-22T23:59:59.000Z'}}\n",
       " Size(MB): 3.244283676147461\n",
       " Data: ['https://data.lpdaac.earthdatacloud.nasa.gov/lp-prod-protected/VNP21A1D.002/VNP21A1D.A2025265.h08v05.002.2025266123844/VNP21A1D.A2025265.h08v05.002.2025266123844.h5'],\n",
       " Collection: {'ShortName': 'VNP21A1D', 'Version': '002'}\n",
       " Spatial coverage: {'HorizontalSpatialDomain': {'Geometry': {'GPolygons': [{'Boundary': {'Points': [{'Longitude': -115.3696, 'Latitude': 29.8308}, {'Longitude': -103.6998, 'Latitude': 29.9063}, {'Longitude': -117.3606, 'Latitude': 40.0852}, {'Longitude': -130.5407, 'Latitude': 40.0}, {'Longitude': -115.3696, 'Latitude': 29.8308}]}}]}}}\n",
       " Temporal coverage: {'RangeDateTime': {'BeginningDateTime': '2025-09-23T00:00:00.000Z', 'EndingDateTime': '2025-09-23T23:59:59.000Z'}}\n",
       " Size(MB): 3.445797920227051\n",
       " Data: ['https://data.lpdaac.earthdatacloud.nasa.gov/lp-prod-protected/VNP21A1D.002/VNP21A1D.A2025266.h08v05.002.2025268034755/VNP21A1D.A2025266.h08v05.002.2025268034755.h5'],\n",
       " Collection: {'ShortName': 'VNP21A1D', 'Version': '002'}\n",
       " Spatial coverage: {'HorizontalSpatialDomain': {'Geometry': {'GPolygons': [{'Boundary': {'Points': [{'Longitude': -115.3696, 'Latitude': 29.8308}, {'Longitude': -103.6998, 'Latitude': 29.9063}, {'Longitude': -117.3606, 'Latitude': 40.0852}, {'Longitude': -130.5407, 'Latitude': 40.0}, {'Longitude': -115.3696, 'Latitude': 29.8308}]}}]}}}\n",
       " Temporal coverage: {'RangeDateTime': {'BeginningDateTime': '2025-09-24T00:00:00.000Z', 'EndingDateTime': '2025-09-24T23:59:59.000Z'}}\n",
       " Size(MB): 3.163698196411133\n",
       " Data: ['https://data.lpdaac.earthdatacloud.nasa.gov/lp-prod-protected/VNP21A1D.002/VNP21A1D.A2025267.h08v05.002.2025269224204/VNP21A1D.A2025267.h08v05.002.2025269224204.h5'],\n",
       " Collection: {'ShortName': 'VNP21A1D', 'Version': '002'}\n",
       " Spatial coverage: {'HorizontalSpatialDomain': {'Geometry': {'GPolygons': [{'Boundary': {'Points': [{'Longitude': -115.3696, 'Latitude': 29.8308}, {'Longitude': -103.6998, 'Latitude': 29.9063}, {'Longitude': -117.3606, 'Latitude': 40.0852}, {'Longitude': -130.5407, 'Latitude': 40.0}, {'Longitude': -115.3696, 'Latitude': 29.8308}]}}]}}}\n",
       " Temporal coverage: {'RangeDateTime': {'BeginningDateTime': '2025-09-26T00:00:00.000Z', 'EndingDateTime': '2025-09-26T23:59:59.000Z'}}\n",
       " Size(MB): 2.547517776489258\n",
       " Data: ['https://data.lpdaac.earthdatacloud.nasa.gov/lp-prod-protected/VNP21A1D.002/VNP21A1D.A2025269.h08v05.002.2025270133734/VNP21A1D.A2025269.h08v05.002.2025270133734.h5'],\n",
       " Collection: {'ShortName': 'VNP21A1D', 'Version': '002'}\n",
       " Spatial coverage: {'HorizontalSpatialDomain': {'Geometry': {'GPolygons': [{'Boundary': {'Points': [{'Longitude': -115.3696, 'Latitude': 29.8308}, {'Longitude': -103.6998, 'Latitude': 29.9063}, {'Longitude': -117.3606, 'Latitude': 40.0852}, {'Longitude': -130.5407, 'Latitude': 40.0}, {'Longitude': -115.3696, 'Latitude': 29.8308}]}}]}}}\n",
       " Temporal coverage: {'RangeDateTime': {'BeginningDateTime': '2025-09-27T00:00:00.000Z', 'EndingDateTime': '2025-09-27T23:59:59.000Z'}}\n",
       " Size(MB): 2.6895017623901367\n",
       " Data: ['https://data.lpdaac.earthdatacloud.nasa.gov/lp-prod-protected/VNP21A1D.002/VNP21A1D.A2025270.h08v05.002.2025271102411/VNP21A1D.A2025270.h08v05.002.2025271102411.h5']]"
      ]
     },
     "execution_count": 4,
     "metadata": {},
     "output_type": "execute_result"
    }
   ],
   "source": [
    "VNP21A1D_002.search_granules(\n",
    "    tile=tile,\n",
    "    start_date_UTC=\"2025-09-21\",\n",
    "    end_date_UTC=\"2025-09-28\",\n",
    ")"
   ]
  },
  {
   "cell_type": "code",
   "execution_count": null,
   "id": "fcf602d2",
   "metadata": {},
   "outputs": [],
   "source": []
  }
 ],
 "metadata": {
  "kernelspec": {
   "display_name": "VNP21A1D-002",
   "language": "python",
   "name": "python3"
  },
  "language_info": {
   "codemirror_mode": {
    "name": "ipython",
    "version": 3
   },
   "file_extension": ".py",
   "mimetype": "text/x-python",
   "name": "python",
   "nbconvert_exporter": "python",
   "pygments_lexer": "ipython3",
   "version": "3.10.18"
  }
 },
 "nbformat": 4,
 "nbformat_minor": 5
}
