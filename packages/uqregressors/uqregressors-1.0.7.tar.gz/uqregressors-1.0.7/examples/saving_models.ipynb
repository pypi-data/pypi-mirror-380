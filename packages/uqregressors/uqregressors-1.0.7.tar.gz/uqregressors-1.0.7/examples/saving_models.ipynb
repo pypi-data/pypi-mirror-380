{
 "cells": [
  {
   "cell_type": "markdown",
   "id": "9648cacc",
   "metadata": {},
   "source": [
    "# Example: Saving and Loading Models and Data with UQRegressors\n",
    "\n",
    "This notebook demonstrates how to train a regression model, save the trained model and associated data to disk, and then load them back for further use or evaluation.\n",
    "\n",
    "The workflow includes:\n",
    "\n",
    "1. Generating synthetic data\n",
    "2. Training a Deep Ensemble regressor\n",
    "3. Saving the model, metrics, and datasets using the `FileManager` utility\n",
    "4. Loading the saved model and data\n",
    "5. Verifying that predictions from the loaded model match the original\n"
   ]
  },
  {
   "cell_type": "markdown",
   "id": "83e163c2",
   "metadata": {},
   "source": [
    "## Import Required Libraries\n",
    "\n",
    "We import the necessary modules from UQRegressors and scikit-learn. The `FileManager` utility handles saving and loading models and data, while `DeepEnsembleRegressor` is used as the example model."
   ]
  },
  {
   "cell_type": "code",
   "execution_count": 1,
   "id": "e8c5a5c6",
   "metadata": {},
   "outputs": [],
   "source": [
    "import numpy as np\n",
    "from sklearn.model_selection import train_test_split\n",
    "from uqregressors.bayesian.deep_ens import DeepEnsembleRegressor\n",
    "from uqregressors.utils.file_manager import FileManager\n",
    "from sklearn.metrics import mean_squared_error\n",
    "from uqregressors.utils.logging import set_logging_config\n",
    "set_logging_config(print=False)"
   ]
  },
  {
   "cell_type": "markdown",
   "id": "e22285ad",
   "metadata": {},
   "source": [
    "## Generate Synthetic Data\n",
    "\n",
    "For demonstration purposes, we generate a simple synthetic regression dataset. The target variable is a nonlinear function of the features, with added Gaussian noise."
   ]
  },
  {
   "cell_type": "code",
   "execution_count": 2,
   "id": "eb9f3a54",
   "metadata": {},
   "outputs": [],
   "source": [
    "# Function to generate synthetic data\n",
    "def generate_data(n_samples=200, n_features=5):\n",
    "    X = np.random.randn(n_samples, n_features)\n",
    "    y = np.sin(X[:, 0]) + X[:, 1] ** 2 + np.random.normal(0, 0.1, size=n_samples)\n",
    "    return X, y\n",
    "\n",
    "# Generate data and split into train/test sets\n",
    "X, y = generate_data()\n",
    "X_train, X_test, y_train, y_test = train_test_split(X, y, test_size=0.2, random_state=42)"
   ]
  },
  {
   "cell_type": "markdown",
   "id": "910711a7",
   "metadata": {},
   "source": [
    "## Train a Deep Ensemble Regressor\n",
    "\n",
    "We instantiate and train a `DeepEnsembleRegressor` on the training data. This model is an ensemble of neural networks, which provides both predictions and uncertainty estimates. For simplicity, we use a small number of epochs."
   ]
  },
  {
   "cell_type": "code",
   "execution_count": 3,
   "id": "e9bea59d",
   "metadata": {},
   "outputs": [
    {
     "name": "stdout",
     "output_type": "stream",
     "text": [
      "Test MSE: 1.5120\n"
     ]
    }
   ],
   "source": [
    "# Create and train the regressor\n",
    "reg = DeepEnsembleRegressor(epochs=10, random_seed=42)\n",
    "reg.fit(X_train, y_train)\n",
    "\n",
    "# Predict on the test set\n",
    "mean_pred, lower, upper = reg.predict(X_test)\n",
    "mse = mean_squared_error(y_test, mean_pred)\n",
    "print(f\"Test MSE: {mse:.4f}\")"
   ]
  },
  {
   "cell_type": "markdown",
   "id": "c245f7bb",
   "metadata": {},
   "source": [
    "## Save the Model, Metrics, and Datasets\n",
    "\n",
    "We use the `FileManager` utility to save the trained model, evaluation metrics, and the train/test datasets to disk. This makes it easy to reload the model and data later for reproducibility or further analysis."
   ]
  },
  {
   "cell_type": "code",
   "execution_count": 4,
   "id": "3b71c7c1",
   "metadata": {},
   "outputs": [
    {
     "name": "stdout",
     "output_type": "stream",
     "text": [
      "Model and additional artifacts saved to: C:\\Users\\arsha\\.uqregressors\\models\\DeepEnsembleRegressor_20250709_115438\n"
     ]
    }
   ],
   "source": [
    "# Initialize the FileManager and save everything\n",
    "fm = FileManager() # Can also be initialized with a 'BASE_DIR', e.g., FileManager(base_dir=\"C:/my_models\")\n",
    "# When not specified, 'BASE_DIR' defaults to a folder named 'models' in the user's home directory. \n",
    "\n",
    "save_path = fm.save_model(\n",
    "    # Can include a custom path, e.g., save_path=\"C:/my_models/deep_ensemble_regressor\" \n",
    "    # or a custom name, e.g., save_name=\"deep_ensemble_regressor\", which will save in 'BASE_DIR'/models/'save_name'\n",
    "    reg,\n",
    "    metrics={\"mse\": mse},\n",
    "    X_train=X_train,\n",
    "    y_train=y_train,\n",
    "    X_test=X_test,\n",
    "    y_test=y_test,\n",
    ")"
   ]
  },
  {
   "cell_type": "markdown",
   "id": "309b3a36",
   "metadata": {},
   "source": [
    "## Load the Model, Metrics, and Datasets\n",
    "\n",
    "We demonstrate how to load the saved model, metrics, and datasets using the `FileManager`. This allows you to resume work, evaluate, or make predictions without retraining."
   ]
  },
  {
   "cell_type": "code",
   "execution_count": 5,
   "id": "a0cc3471",
   "metadata": {},
   "outputs": [
    {
     "name": "stderr",
     "output_type": "stream",
     "text": [
      "D:\\uqregressors\\src\\uqregressors\\bayesian\\deep_ens.py:412: FutureWarning: You are using `torch.load` with `weights_only=False` (the current default value), which uses the default pickle module implicitly. It is possible to construct malicious pickle data which will execute arbitrary code during unpickling (See https://github.com/pytorch/pytorch/blob/main/SECURITY.md#untrusted-models for more details). In a future release, the default value for `weights_only` will be flipped to `True`. This limits the functions that could be executed during unpickling. Arbitrary objects will no longer be allowed to be loaded via this mode unless they are explicitly allowlisted by the user via `torch.serialization.add_safe_globals`. We recommend you start setting `weights_only=True` for any use case where you don't have full control of the loaded file. Please open an issue on GitHub for any issues related to this experimental feature.\n",
      "  m.load_state_dict(torch.load(path / f\"model_{i}.pt\", map_location=device))\n"
     ]
    }
   ],
   "source": [
    "# Load everything back from disk\n",
    "load_dict = fm.load_model(DeepEnsembleRegressor, save_path, load_logs=True) # Returns a dictionary\n",
    "loaded_model = load_dict[\"model\"]\n",
    "X_test_loaded = load_dict[\"X_test\"]\n",
    "y_test_loaded = load_dict[\"y_test\"]\n",
    "mse_loaded = load_dict[\"metrics\"][\"mse\"]"
   ]
  },
  {
   "cell_type": "markdown",
   "id": "4d72e452",
   "metadata": {},
   "source": [
    "## Predict with the Loaded Model and Verify Results\n",
    "\n",
    "Finally, we use the loaded model to make predictions on the loaded test set and verify that the mean squared error matches the value saved earlier. This confirms that the model and data were saved and loaded correctly."
   ]
  },
  {
   "cell_type": "code",
   "execution_count": 6,
   "id": "a932cf0e",
   "metadata": {},
   "outputs": [
    {
     "name": "stdout",
     "output_type": "stream",
     "text": [
      "Loaded MSE: 1.5120 (should match saved: 1.5120)\n"
     ]
    }
   ],
   "source": [
    "# Predict with the loaded model and check MSE\n",
    "mean_pred_loaded, _, _ = loaded_model.predict(X_test_loaded)\n",
    "loaded_mse = mean_squared_error(y_test_loaded, mean_pred_loaded)\n",
    "print(f\"Loaded MSE: {loaded_mse:.4f} (should match saved: {mse_loaded:.4f})\")"
   ]
  }
 ],
 "metadata": {
  "kernelspec": {
   "display_name": "uqregressors",
   "language": "python",
   "name": "python3"
  },
  "language_info": {
   "codemirror_mode": {
    "name": "ipython",
    "version": 3
   },
   "file_extension": ".py",
   "mimetype": "text/x-python",
   "name": "python",
   "nbconvert_exporter": "python",
   "pygments_lexer": "ipython3",
   "version": "3.10.1"
  }
 },
 "nbformat": 4,
 "nbformat_minor": 5
}
