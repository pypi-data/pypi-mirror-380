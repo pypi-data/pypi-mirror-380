{
 "cells": [
  {
   "cell_type": "code",
   "execution_count": null,
   "id": "dfc547ec-de63-4c6d-b6d7-7d19eef58de4",
   "metadata": {},
   "outputs": [],
   "source": [
    "1111111111111111阿萨德哈是的哈好的"
   ]
  },
  {
   "cell_type": "code",
   "execution_count": null,
   "id": "0241c0fe-1f6e-4327-9f33-5d4477d9c743",
   "metadata": {},
   "outputs": [],
   "source": [
    "kkkkk"
   ]
  }
 ],
 "metadata": {
  "kernelspec": {
   "display_name": "Python [conda env:base] *",
   "language": "python",
   "name": "conda-base-py"
  },
  "language_info": {
   "codemirror_mode": {
    "name": "ipython",
    "version": 3
   },
   "file_extension": ".py",
   "mimetype": "text/x-python",
   "name": "python",
   "nbconvert_exporter": "python",
   "pygments_lexer": "ipython3",
   "version": "3.13.5"
  }
 },
 "nbformat": 4,
 "nbformat_minor": 5
}
