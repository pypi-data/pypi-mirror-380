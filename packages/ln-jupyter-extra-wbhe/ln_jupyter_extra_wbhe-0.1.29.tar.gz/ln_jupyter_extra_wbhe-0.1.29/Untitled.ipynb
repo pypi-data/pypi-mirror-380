{
 "cells": [
  {
   "cell_type": "code",
   "execution_count": 1,
   "id": "a0ec1ded-dbbc-4bbc-a0b3-c2da9d2882b2",
   "metadata": {},
   "outputs": [],
   "source": [
    "text = 1\n",
    "arr = [1,2,4]"
   ]
  },
  {
   "cell_type": "code",
   "execution_count": 2,
   "id": "36254d7e-fc0e-4822-8c93-01ed06d9e793",
   "metadata": {},
   "outputs": [],
   "source": [
    "a = 1\n",
    "arr = {\n",
    "    \"a\":a\n",
    "}"
   ]
  },
  {
   "cell_type": "code",
   "execution_count": 3,
   "id": "fc1772f0-9743-4e31-b8c8-6e8552c9efce",
   "metadata": {},
   "outputs": [],
   "source": [
    "matrix_like = [[1, 2, 3], [4, 5, 6], [7, 8, 9]]"
   ]
  },
  {
   "cell_type": "code",
   "execution_count": 7,
   "id": "9e723dcf-5ba1-4c8c-a291-2f7a647b3d17",
   "metadata": {},
   "outputs": [],
   "source": [
    "dd=99"
   ]
  },
  {
   "cell_type": "code",
   "execution_count": null,
   "id": "dfc547ec-de63-4c6d-b6d7-7d19eef58de4",
   "metadata": {},
   "outputs": [],
   "source": []
  }
 ],
 "metadata": {
  "kernelspec": {
   "display_name": "Python 3 (ipykernel)",
   "language": "python",
   "name": "python3"
  },
  "language_info": {
   "codemirror_mode": {
    "name": "ipython",
    "version": 3
   },
   "file_extension": ".py",
   "mimetype": "text/x-python",
   "name": "python",
   "nbconvert_exporter": "python",
   "pygments_lexer": "ipython3",
   "version": "3.9.23"
  }
 },
 "nbformat": 4,
 "nbformat_minor": 5
}
