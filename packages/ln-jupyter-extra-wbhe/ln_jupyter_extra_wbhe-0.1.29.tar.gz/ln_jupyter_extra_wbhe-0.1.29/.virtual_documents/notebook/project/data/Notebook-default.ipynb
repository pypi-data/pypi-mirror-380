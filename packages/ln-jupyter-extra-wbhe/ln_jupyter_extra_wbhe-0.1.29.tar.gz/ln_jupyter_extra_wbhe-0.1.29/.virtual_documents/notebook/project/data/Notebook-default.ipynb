text = 1
arr = [1,2,4]


a = 1
arr = {
    "a":awqewqewqe
}


matrix_like = [[1, 2, 3], [4, 5, 6], [7, 8, 9]]


dd=99


1111111111111111
