{
 "cells": [
  {
   "cell_type": "markdown",
   "id": "24b1926c",
   "metadata": {},
   "source": [
    "# AlphaFold\n",
    "\n",
    "You can download and filter AlphaFold files on confidence."
   ]
  },
  {
   "cell_type": "code",
   "execution_count": 1,
   "id": "681ba946",
   "metadata": {},
   "outputs": [],
   "source": [
    "# Generic imports\n",
    "import logging\n",
    "from pathlib import Path\n",
    "from pprint import pprint\n",
    "\n",
    "logging.basicConfig(level=logging.WARNING)\n",
    "# Set to WARNING to see only warnings\n",
    "# Set to INFO to see sparql queries\n",
    "# Set to DEBUG to see raw results"
   ]
  },
  {
   "cell_type": "markdown",
   "id": "4959258c",
   "metadata": {},
   "source": [
    "\n",
    "## Download Alphafold files"
   ]
  },
  {
   "cell_type": "code",
   "execution_count": 2,
   "id": "81e449db",
   "metadata": {},
   "outputs": [],
   "source": [
    "from protein_quest.alphafold.fetch import fetch_many_async"
   ]
  },
  {
   "cell_type": "code",
   "execution_count": 3,
   "id": "5c2e6ee3",
   "metadata": {},
   "outputs": [],
   "source": [
    "save_dir = Path(\"alphafold_files\")"
   ]
  },
  {
   "cell_type": "markdown",
   "id": "f38991cf",
   "metadata": {},
   "source": [
    "To download the summary, the cif, predicted Aligned error document (peaDoc) and the pdb file for 3 AlphaFold entries given their uniprot accessions.\n"
   ]
  },
  {
   "cell_type": "code",
   "execution_count": 8,
   "id": "e32b474a",
   "metadata": {},
   "outputs": [
    {
     "name": "stderr",
     "output_type": "stream",
     "text": [
      "Fetching Alphafold summaries: 100%|██████████| 3/3 [00:00<00:00,  8.07it/s]\n",
      "Downloading AlphaFold files: 100%|██████████| 9/9 [00:00<00:00, 55.82it/s]"
     ]
    },
    {
     "name": "stdout",
     "output_type": "stream",
     "text": [
      "[AlphaFoldEntry(uniprot_acc='A1YPR0',\n",
      "                summary=EntrySummary(entryId='AF-A1YPR0-F1',\n",
      "                                     uniprotAccession='A1YPR0',\n",
      "                                     uniprotId='ZBT7C_HUMAN',\n",
      "                                     uniprotDescription='Zinc finger and BTB '\n",
      "                                                        'domain-containing '\n",
      "                                                        'protein 7C',\n",
      "                                     taxId=9606,\n",
      "                                     organismScientificName='Homo sapiens',\n",
      "                                     uniprotStart=1,\n",
      "                                     uniprotEnd=619,\n",
      "                                     uniprotSequence='MANDIDELIGIPFPNHSSEVLCSLNEQRHDGLLCDVLLVVQEQEYRTHRSVLAACSKYFKKLFTAGTLASQPYVYEIDFVQPEALAAILEFAYTSTLTITAGNVKHILNAARMLEIQCIVNVCLEIMEPGGDGGEEDDKEDDDDDEDDDDEEDEEEEEEEEEDDDDDTEDFADQENLPDPQDISCHQSPSKTDHLTEKAYSDTPRDFPDSFQAGSPGHLGVIRDFSIESLLRENLYPKANIPDRRPSLSPFAPDFFPHLWPGDFGAFAQLPEQPMDSGPLDLVIKNRKIKEEEKEELPPPPPPPFPNDFFKDMFPDLPGGPLGPIKAENDYGAYLNFLSATHLGGLFPPWPLVEERKLKPKASQQCPICHKVIMGAGKLPRHMRTHTGEKPYMCTICEVRFTRQDKLKIHMRKHTGERPYLCIHCNAKFVHNYDLKNHMRIHTGVRPYQCEFCYKSFTRSDHLHRHIKRQSCRMARPRRGRKPAAWRAASLLFGPGGPAPDKAAFVMPPALGEVGGHLGGAAVCLPGPSPAKHFLAAPKGALSLQELERQFEETQMKLFGRAQLEAERNAGGLLAFALAENVAAARPYFPLPDPWAAGLAGLPGLAGLNHVASMSEANN',\n",
      "                                     modelCreatedDate='2022-06-01T00:00:00Z',\n",
      "                                     latestVersion=4,\n",
      "                                     allVersions=[1, 2, 3, 4],\n",
      "                                     bcifUrl='https://alphafold.ebi.ac.uk/files/AF-A1YPR0-F1-model_v4.bcif',\n",
      "                                     cifUrl='https://alphafold.ebi.ac.uk/files/AF-A1YPR0-F1-model_v4.cif',\n",
      "                                     pdbUrl='https://alphafold.ebi.ac.uk/files/AF-A1YPR0-F1-model_v4.pdb',\n",
      "                                     paeImageUrl='https://alphafold.ebi.ac.uk/files/AF-A1YPR0-F1-predicted_aligned_error_v4.png',\n",
      "                                     paeDocUrl='https://alphafold.ebi.ac.uk/files/AF-A1YPR0-F1-predicted_aligned_error_v4.json',\n",
      "                                     gene='ZBTB7C',\n",
      "                                     sequenceChecksum='73D82A34502B55BF',\n",
      "                                     sequenceVersionDate='2007-02-06T00:00:00Z',\n",
      "                                     amAnnotationsUrl='https://alphafold.ebi.ac.uk/files/AF-A1YPR0-F1-aa-substitutions.csv',\n",
      "                                     amAnnotationsHg19Url='https://alphafold.ebi.ac.uk/files/AF-A1YPR0-F1-hg19.csv',\n",
      "                                     amAnnotationsHg38Url='https://alphafold.ebi.ac.uk/files/AF-A1YPR0-F1-hg38.csv',\n",
      "                                     isReviewed=True,\n",
      "                                     isReferenceProteome=True),\n",
      "                bcif_file=None,\n",
      "                cif_file=PosixPath('alphafold_files/AF-A1YPR0-F1-model_v4.cif'),\n",
      "                pdb_file=PosixPath('alphafold_files/AF-A1YPR0-F1-model_v4.pdb'),\n",
      "                pae_image_file=None,\n",
      "                pae_doc_file=PosixPath('alphafold_files/AF-A1YPR0-F1-predicted_aligned_error_v4.json'),\n",
      "                am_annotations_file=None,\n",
      "                am_annotations_hg19_file=None,\n",
      "                am_annotations_hg38_file=None),\n",
      " AlphaFoldEntry(uniprot_acc='O60481',\n",
      "                summary=EntrySummary(entryId='AF-O60481-F1',\n",
      "                                     uniprotAccession='O60481',\n",
      "                                     uniprotId='ZIC3_HUMAN',\n",
      "                                     uniprotDescription='Zinc finger protein '\n",
      "                                                        'ZIC 3',\n",
      "                                     taxId=9606,\n",
      "                                     organismScientificName='Homo sapiens',\n",
      "                                     uniprotStart=1,\n",
      "                                     uniprotEnd=467,\n",
      "                                     uniprotSequence='MTMLLDGGPQFPGLGVGSFGAPRHHEMPNREPAGMGLNPFGDSTHAAAAAAAAAAFKLSPAAAHDLSSGQSSAFTPQGSGYANALGHHHHHHHHHHHTSQVPSYGGAASAAFNSTREFLFRQRSSGLSEAASGGGQHGLFAGSASSLHAPAGIPEPPSYLLFPGLHEQGAGHPSPTGHVDNNQVHLGLRGELFGRADPYRPVASPRTDPYAAGAQFPNYSPMNMNMGVNVAAHHGPGAFFRYMRQPIKQELSCKWIDEAQLSRPKKSCDRTFSTMHELVTHVTMEHVGGPEQNNHVCYWEECPREGKSFKAKYKLVNHIRVHTGEKPFPCPFPGCGKIFARSENLKIHKRTHTGEKPFKCEFEGCDRRFANSSDRKKHMHVHTSDKPYICKVCDKSYTHPSSLRKHMKVHESQGSDSSPAASSGYESSTPPAIASANSKDTTKTPSAVQTSTSHNPGLPPNFNEWYV',\n",
      "                                     modelCreatedDate='2022-06-01T00:00:00Z',\n",
      "                                     latestVersion=4,\n",
      "                                     allVersions=[1, 2, 3, 4],\n",
      "                                     bcifUrl='https://alphafold.ebi.ac.uk/files/AF-O60481-F1-model_v4.bcif',\n",
      "                                     cifUrl='https://alphafold.ebi.ac.uk/files/AF-O60481-F1-model_v4.cif',\n",
      "                                     pdbUrl='https://alphafold.ebi.ac.uk/files/AF-O60481-F1-model_v4.pdb',\n",
      "                                     paeImageUrl='https://alphafold.ebi.ac.uk/files/AF-O60481-F1-predicted_aligned_error_v4.png',\n",
      "                                     paeDocUrl='https://alphafold.ebi.ac.uk/files/AF-O60481-F1-predicted_aligned_error_v4.json',\n",
      "                                     gene='ZIC3',\n",
      "                                     sequenceChecksum='3150CF13C0679568',\n",
      "                                     sequenceVersionDate='1998-08-01T00:00:00Z',\n",
      "                                     amAnnotationsUrl='https://alphafold.ebi.ac.uk/files/AF-O60481-F1-aa-substitutions.csv',\n",
      "                                     amAnnotationsHg19Url='https://alphafold.ebi.ac.uk/files/AF-O60481-F1-hg19.csv',\n",
      "                                     amAnnotationsHg38Url='https://alphafold.ebi.ac.uk/files/AF-O60481-F1-hg38.csv',\n",
      "                                     isReviewed=True,\n",
      "                                     isReferenceProteome=True),\n",
      "                bcif_file=None,\n",
      "                cif_file=PosixPath('alphafold_files/AF-O60481-F1-model_v4.cif'),\n",
      "                pdb_file=PosixPath('alphafold_files/AF-O60481-F1-model_v4.pdb'),\n",
      "                pae_image_file=None,\n",
      "                pae_doc_file=PosixPath('alphafold_files/AF-O60481-F1-predicted_aligned_error_v4.json'),\n",
      "                am_annotations_file=None,\n",
      "                am_annotations_hg19_file=None,\n",
      "                am_annotations_hg38_file=None),\n",
      " AlphaFoldEntry(uniprot_acc='P50613',\n",
      "                summary=EntrySummary(entryId='AF-P50613-F1',\n",
      "                                     uniprotAccession='P50613',\n",
      "                                     uniprotId='CDK7_HUMAN',\n",
      "                                     uniprotDescription='Cyclin-dependent '\n",
      "                                                        'kinase 7',\n",
      "                                     taxId=9606,\n",
      "                                     organismScientificName='Homo sapiens',\n",
      "                                     uniprotStart=1,\n",
      "                                     uniprotEnd=346,\n",
      "                                     uniprotSequence='MALDVKSRAKRYEKLDFLGEGQFATVYKARDKNTNQIVAIKKIKLGHRSEAKDGINRTALREIKLLQELSHPNIIGLLDAFGHKSNISLVFDFMETDLEVIIKDNSLVLTPSHIKAYMLMTLQGLEYLHQHWILHRDLKPNNLLLDENGVLKLADFGLAKSFGSPNRAYTHQVVTRWYRAPELLFGARMYGVGVDMWAVGCILAELLLRVPFLPGDSDLDQLTRIFETLGTPTEEQWPDMCSLPDYVTFKSFPGIPLHHIFSAAGDDLLDLIQGLFLFNPCARITATQALKMKYFSNRPGPTPGCQLPRPNCPVETLKEQSNPALAIKRKRTEALEQGGLPKKLIF',\n",
      "                                     modelCreatedDate='2022-06-01T00:00:00Z',\n",
      "                                     latestVersion=4,\n",
      "                                     allVersions=[1, 2, 3, 4],\n",
      "                                     bcifUrl='https://alphafold.ebi.ac.uk/files/AF-P50613-F1-model_v4.bcif',\n",
      "                                     cifUrl='https://alphafold.ebi.ac.uk/files/AF-P50613-F1-model_v4.cif',\n",
      "                                     pdbUrl='https://alphafold.ebi.ac.uk/files/AF-P50613-F1-model_v4.pdb',\n",
      "                                     paeImageUrl='https://alphafold.ebi.ac.uk/files/AF-P50613-F1-predicted_aligned_error_v4.png',\n",
      "                                     paeDocUrl='https://alphafold.ebi.ac.uk/files/AF-P50613-F1-predicted_aligned_error_v4.json',\n",
      "                                     gene='CDK7',\n",
      "                                     sequenceChecksum='0A94BFA7DD416CEB',\n",
      "                                     sequenceVersionDate='1996-10-01T00:00:00Z',\n",
      "                                     amAnnotationsUrl='https://alphafold.ebi.ac.uk/files/AF-P50613-F1-aa-substitutions.csv',\n",
      "                                     amAnnotationsHg19Url='https://alphafold.ebi.ac.uk/files/AF-P50613-F1-hg19.csv',\n",
      "                                     amAnnotationsHg38Url='https://alphafold.ebi.ac.uk/files/AF-P50613-F1-hg38.csv',\n",
      "                                     isReviewed=True,\n",
      "                                     isReferenceProteome=True),\n",
      "                bcif_file=None,\n",
      "                cif_file=PosixPath('alphafold_files/AF-P50613-F1-model_v4.cif'),\n",
      "                pdb_file=PosixPath('alphafold_files/AF-P50613-F1-model_v4.pdb'),\n",
      "                pae_image_file=None,\n",
      "                pae_doc_file=PosixPath('alphafold_files/AF-P50613-F1-predicted_aligned_error_v4.json'),\n",
      "                am_annotations_file=None,\n",
      "                am_annotations_hg19_file=None,\n",
      "                am_annotations_hg38_file=None)]\n"
     ]
    },
    {
     "name": "stderr",
     "output_type": "stream",
     "text": [
      "\n"
     ]
    }
   ],
   "source": [
    "summaries = [s async for s in fetch_many_async([\"A1YPR0\", \"O60481\", \"P50613\"], save_dir, what={\"pdb\", \"cif\", \"paeDoc\"})]\n",
    "pprint(summaries)"
   ]
  },
  {
   "cell_type": "code",
   "execution_count": 9,
   "id": "2d3595e6",
   "metadata": {},
   "outputs": [
    {
     "name": "stdout",
     "output_type": "stream",
     "text": [
      "total 4.2M\n",
      "4.0K A1YPR0.json\n",
      "548K AF-A1YPR0-F1-model_v4.cif\n",
      "392K AF-A1YPR0-F1-model_v4.pdb\n",
      "1.1M AF-A1YPR0-F1-predicted_aligned_error_v4.json\n",
      "408K AF-O60481-F1-model_v4.cif\n",
      "292K AF-O60481-F1-model_v4.pdb\n",
      "632K AF-O60481-F1-predicted_aligned_error_v4.json\n",
      "320K AF-P50613-F1-model_v4.cif\n",
      "224K AF-P50613-F1-model_v4.pdb\n",
      "280K AF-P50613-F1-predicted_aligned_error_v4.json\n",
      "4.0K O60481.json\n",
      "4.0K P50613.json\n"
     ]
    }
   ],
   "source": [
    "!ls -sh {save_dir}"
   ]
  },
  {
   "cell_type": "markdown",
   "id": "a43edd87",
   "metadata": {},
   "source": [
    "## Filter AlphFold structure files on confidence\n",
    "\n",
    "Filter AlphaFold mmcif/PDB files by confidence (plDDT). Passed files are written with residues below threshold removed."
   ]
  },
  {
   "cell_type": "code",
   "execution_count": 10,
   "id": "cc96c63a",
   "metadata": {},
   "outputs": [],
   "source": [
    "from protein_quest.alphafold.confidence import ConfidenceFilterQuery, filter_files_on_confidence"
   ]
  },
  {
   "cell_type": "markdown",
   "id": "724141d4",
   "metadata": {},
   "source": [
    "Take one of the downloaded files"
   ]
  },
  {
   "cell_type": "code",
   "execution_count": 12,
   "id": "73a61cf6",
   "metadata": {},
   "outputs": [
    {
     "data": {
      "text/plain": [
       "[PosixPath('alphafold_files/AF-A1YPR0-F1-model_v4.cif'),\n",
       " PosixPath('alphafold_files/AF-O60481-F1-model_v4.cif'),\n",
       " PosixPath('alphafold_files/AF-P50613-F1-model_v4.cif')]"
      ]
     },
     "execution_count": 12,
     "metadata": {},
     "output_type": "execute_result"
    }
   ],
   "source": [
    "input_files = [entry.cif_file for entry in summaries if entry.cif_file is not None]\n",
    "input_files"
   ]
  },
  {
   "cell_type": "markdown",
   "id": "da8f2f67",
   "metadata": {},
   "source": [
    "We only write a filtered cif file when in the input file there are between 100 and 1000 residues that have a pLDDT score above 50."
   ]
  },
  {
   "cell_type": "code",
   "execution_count": null,
   "id": "fbfdf472",
   "metadata": {},
   "outputs": [],
   "source": [
    "query = ConfidenceFilterQuery(confidence=80, min_residues=100, max_residues=1000)"
   ]
  },
  {
   "cell_type": "code",
   "execution_count": 14,
   "id": "152aec9a",
   "metadata": {},
   "outputs": [],
   "source": [
    "output_dir = Path(\"./filtered\")\n",
    "output_dir.mkdir(exist_ok=True)\n",
    "result = filter_files_on_confidence(input_files, query, output_dir)"
   ]
  },
  {
   "cell_type": "code",
   "execution_count": null,
   "id": "6a6f8e3f",
   "metadata": {},
   "outputs": [
    {
     "data": {
      "text/plain": [
       "[ConfidenceFilterResult(input_file='AF-A1YPR0-F1-model_v4.cif', count=175, filtered_file=PosixPath('filtered/AF-A1YPR0-F1-model_v4.cif')),\n",
       " ConfidenceFilterResult(input_file='AF-O60481-F1-model_v4.cif', count=76, filtered_file=None),\n",
       " ConfidenceFilterResult(input_file='AF-P50613-F1-model_v4.cif', count=244, filtered_file=PosixPath('filtered/AF-P50613-F1-model_v4.cif'))]"
      ]
     },
     "execution_count": 17,
     "metadata": {},
     "output_type": "execute_result"
    }
   ],
   "source": [
    "list(\n",
    "    filter_files_on_confidence(\n",
    "        input_files, ConfidenceFilterQuery(confidence=80, min_residues=100, max_residues=1000), output_dir\n",
    "    )\n",
    ")"
   ]
  },
  {
   "cell_type": "markdown",
   "id": "0fe1e388",
   "metadata": {},
   "source": [
    "2 files have passed, but 1 file only has 75 high confidence residues so it is discarded."
   ]
  },
  {
   "cell_type": "code",
   "execution_count": null,
   "id": "83ffc09b",
   "metadata": {},
   "outputs": [],
   "source": []
  }
 ],
 "metadata": {
  "kernelspec": {
   "display_name": "protein-quest",
   "language": "python",
   "name": "python3"
  },
  "language_info": {
   "codemirror_mode": {
    "name": "ipython",
    "version": 3
   },
   "file_extension": ".py",
   "mimetype": "text/x-python",
   "name": "python",
   "nbconvert_exporter": "python",
   "pygments_lexer": "ipython3",
   "version": "3.13.2"
  }
 },
 "nbformat": 4,
 "nbformat_minor": 5
}
