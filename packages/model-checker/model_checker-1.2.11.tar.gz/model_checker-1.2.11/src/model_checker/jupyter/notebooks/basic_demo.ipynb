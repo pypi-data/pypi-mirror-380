{
 "cells": [
  {
   "cell_type": "markdown",
   "metadata": {},
   "source": [
    "# Fixed ModelChecker Demo Notebook\n",
    "\n",
    "This notebook demonstrates how to correctly use the ModelChecker with Jupyter integration."
   ]
  },
  {
   "cell_type": "code",
   "execution_count": 1,
   "metadata": {},
   "outputs": [],
   "source": [
    "# Import necessary modules\n",
    "import model_checker as mc\n",
    "from model_checker.theory_lib import default\n",
    "from model_checker.jupyter.display import display_model"
   ]
  },
  {
   "cell_type": "markdown",
   "metadata": {},
   "source": [
    "## Creating a Model - Direct Method\n",
    "\n",
    "This approach follows the pattern in Champollion_demo.ipynb, building the model step by step."
   ]
  },
  {
   "cell_type": "code",
   "execution_count": 2,
   "metadata": {
    "scrolled": true
   },
   "outputs": [
    {
     "ename": "TypeError",
     "evalue": "Expected model_constraints to be a ModelConstraints object, got <class 'model_checker.model.ModelConstraints'>. Make sure you're passing the correct model_constraints object.",
     "output_type": "error",
     "traceback": [
      "\u001b[0;31m---------------------------------------------------------------------------\u001b[0m",
      "\u001b[0;31mTypeError\u001b[0m                                 Traceback (most recent call last)",
      "Cell \u001b[0;32mIn[2], line 22\u001b[0m\n\u001b[1;32m     19\u001b[0m model_constraints \u001b[38;5;241m=\u001b[39m mc\u001b[38;5;241m.\u001b[39mmodel\u001b[38;5;241m.\u001b[39mModelConstraints(settings, syntax, semantics, proposition_class)\n\u001b[1;32m     21\u001b[0m \u001b[38;5;66;03m# 7. Create the model structure\u001b[39;00m\n\u001b[0;32m---> 22\u001b[0m model_structure \u001b[38;5;241m=\u001b[39m \u001b[43mdefault\u001b[49m\u001b[38;5;241;43m.\u001b[39;49m\u001b[43mModelStructure\u001b[49m\u001b[43m(\u001b[49m\u001b[43mmodel_constraints\u001b[49m\u001b[43m,\u001b[49m\u001b[43m \u001b[49m\u001b[43msettings\u001b[49m\u001b[43m)\u001b[49m\n\u001b[1;32m     24\u001b[0m \u001b[38;5;66;03m# 8. Display the model\u001b[39;00m\n\u001b[1;32m     25\u001b[0m model_structure\u001b[38;5;241m.\u001b[39mprint_all(settings, \u001b[38;5;124m\"\u001b[39m\u001b[38;5;124mModus Ponens\u001b[39m\u001b[38;5;124m\"\u001b[39m, \u001b[38;5;124m\"\u001b[39m\u001b[38;5;124mDefault Semantics\u001b[39m\u001b[38;5;124m\"\u001b[39m)\n",
      "File \u001b[0;32m~/Documents/Philosophy/Projects/ModelChecker/Code/src/model_checker/theory_lib/default/semantic.py:812\u001b[0m, in \u001b[0;36mModelStructure.__init__\u001b[0;34m(self, model_constraints, settings)\u001b[0m\n\u001b[1;32m    805\u001b[0m \u001b[38;5;250m\u001b[39m\u001b[38;5;124;03m\"\"\"Initialize ModelStructure with model constraints and optional max time.\u001b[39;00m\n\u001b[1;32m    806\u001b[0m \u001b[38;5;124;03m\u001b[39;00m\n\u001b[1;32m    807\u001b[0m \u001b[38;5;124;03mArgs:\u001b[39;00m\n\u001b[1;32m    808\u001b[0m \u001b[38;5;124;03m    model_constraints: ModelConstraints object containing all constraints\u001b[39;00m\n\u001b[1;32m    809\u001b[0m \u001b[38;5;124;03m    max_time: Maximum time in seconds to allow for solving. Defaults to 1.\u001b[39;00m\n\u001b[1;32m    810\u001b[0m \u001b[38;5;124;03m\"\"\"\u001b[39;00m\n\u001b[1;32m    811\u001b[0m \u001b[38;5;28;01mif\u001b[39;00m \u001b[38;5;129;01mnot\u001b[39;00m \u001b[38;5;28misinstance\u001b[39m(model_constraints, ModelConstraints):\n\u001b[0;32m--> 812\u001b[0m     \u001b[38;5;28;01mraise\u001b[39;00m \u001b[38;5;167;01mTypeError\u001b[39;00m(\n\u001b[1;32m    813\u001b[0m         \u001b[38;5;124mf\u001b[39m\u001b[38;5;124m\"\u001b[39m\u001b[38;5;124mExpected model_constraints to be a ModelConstraints object, got \u001b[39m\u001b[38;5;132;01m{\u001b[39;00m\u001b[38;5;28mtype\u001b[39m(model_constraints)\u001b[38;5;132;01m}\u001b[39;00m\u001b[38;5;124m. \u001b[39m\u001b[38;5;124m\"\u001b[39m\n\u001b[1;32m    814\u001b[0m         \u001b[38;5;124m\"\u001b[39m\u001b[38;5;124mMake sure you\u001b[39m\u001b[38;5;124m'\u001b[39m\u001b[38;5;124mre passing the correct model_constraints object.\u001b[39m\u001b[38;5;124m\"\u001b[39m\n\u001b[1;32m    815\u001b[0m     )\n\u001b[1;32m    817\u001b[0m \u001b[38;5;28msuper\u001b[39m()\u001b[38;5;241m.\u001b[39m\u001b[38;5;21m__init__\u001b[39m(model_constraints, settings)\n\u001b[1;32m    819\u001b[0m \u001b[38;5;66;03m# Get main point\u001b[39;00m\n",
      "\u001b[0;31mTypeError\u001b[0m: Expected model_constraints to be a ModelConstraints object, got <class 'model_checker.model.ModelConstraints'>. Make sure you're passing the correct model_constraints object."
     ]
    }
   ],
   "source": [
    "# 1. Get the operators from the theory\n",
    "operators = default.default_operators\n",
    "\n",
    "# 2. Define premises and conclusions for modus ponens\n",
    "premises = [\"p\", \"(p \\rightarrow q)\"]\n",
    "conclusions = [\"q\"]\n",
    "\n",
    "# 3. Create a syntax object\n",
    "syntax = mc.syntactic.Syntax(premises, conclusions, operators)\n",
    "\n",
    "# 4. Get settings and create semantics\n",
    "settings = default.Semantics.DEFAULT_EXAMPLE_SETTINGS\n",
    "semantics = default.Semantics(settings)\n",
    "\n",
    "# 5. Define the proposition class\n",
    "proposition_class = default.Proposition\n",
    "\n",
    "# 6. Create model constraints\n",
    "model_constraints = mc.model.ModelConstraints(settings, syntax, semantics, proposition_class)\n",
    "\n",
    "# 7. Create the model structure\n",
    "model_structure = default.ModelStructure(model_constraints, settings)\n",
    "\n",
    "# 8. Display the model\n",
    "model_structure.print_all(settings, \"Modus Ponens\", \"Default Semantics\")"
   ]
  },
  {
   "cell_type": "markdown",
   "metadata": {},
   "source": [
    "## Using Examples from a Theory\n",
    "\n",
    "If we want to use examples that are predefined in the theory, we can load them from the examples module."
   ]
  },
  {
   "cell_type": "code",
   "execution_count": null,
   "metadata": {},
   "outputs": [],
   "source": [
    "# Get examples from the theory\n",
    "from model_checker.jupyter.utils import load_examples\n",
    "examples = load_examples(\"default\")\n",
    "\n",
    "# Print available examples\n",
    "print(\"Available examples:\")\n",
    "for name in examples.keys():\n",
    "    print(f\"- {name}\")\n",
    "\n",
    "# Find a modus ponens example if one exists\n",
    "example_name = None\n",
    "for name in examples.keys():\n",
    "    if \"MP\" in name or \"modus_ponens\" in name.lower() or \"modustoll\" in name.lower():\n",
    "        example_name = name\n",
    "        break\n",
    "\n",
    "# If we found a suitable example, use it\n",
    "if example_name:\n",
    "    print(f\"\\nUsing example: {example_name}\")\n",
    "    example_data = examples[example_name]\n",
    "    \n",
    "    # Unpack the example data\n",
    "    example_premises, example_conclusions, example_settings = example_data\n",
    "    \n",
    "    # Create syntax, constraints and model as before\n",
    "    example_syntax = mc.syntactic.Syntax(example_premises, example_conclusions, operators)\n",
    "    example_constraints = mc.model.ModelConstraints(example_settings, example_syntax, semantics, proposition_class)\n",
    "    example_structure = default.ModelStructure(example_constraints, example_settings)\n",
    "    \n",
    "    # Display the model\n",
    "    example_structure.print_all(example_settings, example_name, \"Default Semantics\")"
   ]
  },
  {
   "cell_type": "markdown",
   "metadata": {},
   "source": [
    "## Using the display_model Function\n",
    "\n",
    "We can use the display_model function for a more Jupyter-friendly display."
   ]
  },
  {
   "cell_type": "code",
   "execution_count": null,
   "metadata": {},
   "outputs": [],
   "source": [
    "# Create a custom model wrapper to work with display_model\n",
    "class ModelWrapper:\n",
    "    def __init__(self, model_structure, example_settings):\n",
    "        self.model_structure = model_structure\n",
    "        self.example_settings = example_settings\n",
    "\n",
    "# Wrap our model structure in the wrapper class\n",
    "model_wrapper = ModelWrapper(model_structure, settings)\n",
    "\n",
    "# Display using the Jupyter display function\n",
    "display_model(model_wrapper)"
   ]
  }
 ],
 "metadata": {
  "kernelspec": {
   "display_name": "Python 3 (ipykernel)",
   "language": "python",
   "name": "python3"
  },
  "language_info": {
   "codemirror_mode": {
    "name": "ipython",
    "version": 3
   },
   "file_extension": ".py",
   "mimetype": "text/x-python",
   "name": "python",
   "nbconvert_exporter": "python",
   "pygments_lexer": "ipython3",
   "version": "3.12.8"
  }
 },
 "nbformat": 4,
 "nbformat_minor": 4
}
