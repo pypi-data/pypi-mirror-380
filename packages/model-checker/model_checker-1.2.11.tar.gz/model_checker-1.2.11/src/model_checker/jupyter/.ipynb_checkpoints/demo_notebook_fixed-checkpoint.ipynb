{
 "cells": [
  {
   "cell_type": "markdown",
   "metadata": {},
   "source": [
    "# Fixed ModelChecker Demo Notebook\n",
    "\n",
    "This notebook demonstrates how to correctly use the ModelChecker with Jupyter integration."
   ]
  },
  {
   "cell_type": "code",
   "execution_count": null,
   "metadata": {},
   "outputs": [],
   "source": [
    "# Import necessary modules\n",
    "import model_checker as mc\n",
    "from model_checker.theory_lib import default\n",
    "from model_checker.jupyter.display import display_model"
   ]
  },
  {
   "cell_type": "markdown",
   "metadata": {},
   "source": [
    "## Creating a Model - Direct Method\n",
    "\n",
    "This approach follows the pattern in Champollion_demo.ipynb, building the model step by step."
   ]
  },
  {
   "cell_type": "code",
   "execution_count": null,
   "metadata": {},
   "outputs": [],
   "source": [
    "# 1. Get the operators from the theory\n",
    "operators = default.default_operators\n",
    "\n",
    "# 2. Define premises and conclusions for modus ponens\n",
    "premises = [\"p\", \"(p \\\\rightarrow q)\"]\n",
    "conclusions = [\"q\"]\n",
    "\n",
    "# 3. Create a syntax object\n",
    "syntax = mc.syntactic.Syntax(premises, conclusions, operators)\n",
    "\n",
    "# 4. Get settings and create semantics\n",
    "settings = default.BrastMcKieSemantics.DEFAULT_EXAMPLE_SETTINGS\n",
    "semantics = default.BrastMcKieSemantics(settings)\n",
    "\n",
    "# 5. Define the proposition class\n",
    "proposition_class = default.Proposition\n",
    "\n",
    "# 6. Create model constraints\n",
    "model_constraints = mc.model.ModelConstraints(settings, syntax, semantics, proposition_class)\n",
    "\n",
    "# 7. Create the model structure\n",
    "model_structure = default.BrastMcKieStructure(model_constraints, settings)\n",
    "\n",
    "# 8. Display the model\n",
    "model_structure.print_all(settings, \"Modus Ponens\", \"Default Semantics\")"
   ]
  },
  {
   "cell_type": "markdown",
   "metadata": {},
   "source": [
    "## Using Examples from a Theory\n",
    "\n",
    "If we want to use examples that are predefined in the theory, we can load them from the examples module."
   ]
  },
  {
   "cell_type": "code",
   "execution_count": null,
   "metadata": {},
   "outputs": [],
   "source": [
    "# Get examples from the theory\n",
    "from model_checker.jupyter.utils import load_examples\n",
    "examples = load_examples(\"default\")\n",
    "\n",
    "# Print available examples\n",
    "print(\"Available examples:\")\n",
    "for name in examples.keys():\n",
    "    print(f\"- {name}\")\n",
    "\n",
    "# Find a modus ponens example if one exists\n",
    "example_name = None\n",
    "for name in examples.keys():\n",
    "    if \"MP\" in name or \"modus_ponens\" in name.lower() or \"modustoll\" in name.lower():\n",
    "        example_name = name\n",
    "        break\n",
    "\n",
    "# If we found a suitable example, use it\n",
    "if example_name:\n",
    "    print(f\"\\nUsing example: {example_name}\")\n",
    "    example_data = examples[example_name]\n",
    "    \n",
    "    # Unpack the example data\n",
    "    example_premises, example_conclusions, example_settings = example_data\n",
    "    \n",
    "    # Create syntax, constraints and model as before\n",
    "    example_syntax = mc.syntactic.Syntax(example_premises, example_conclusions, operators)\n",
    "    example_constraints = mc.model.ModelConstraints(example_settings, example_syntax, semantics, proposition_class)\n",
    "    example_structure = default.BrastMcKieStructure(example_constraints, example_settings)\n",
    "    \n",
    "    # Display the model\n",
    "    example_structure.print_all(example_settings, example_name, \"Default Semantics\")"
   ]
  },
  {
   "cell_type": "markdown",
   "metadata": {},
   "source": [
    "## Using the display_model Function\n",
    "\n",
    "We can use the display_model function for a more Jupyter-friendly display."
   ]
  },
  {
   "cell_type": "code",
   "execution_count": null,
   "metadata": {},
   "outputs": [],
   "source": [
    "# Create a custom model wrapper to work with display_model\n",
    "class ModelWrapper:\n",
    "    def __init__(self, model_structure, example_settings):\n",
    "        self.model_structure = model_structure\n",
    "        self.example_settings = example_settings\n",
    "\n",
    "# Wrap our model structure in the wrapper class\n",
    "model_wrapper = ModelWrapper(model_structure, settings)\n",
    "\n",
    "# Display using the Jupyter display function\n",
    "display_model(model_wrapper)"
   ]
  }
 ],
 "metadata": {
  "kernelspec": {
   "display_name": "Python 3",
   "language": "python",
   "name": "python3"
  },
  "language_info": {
   "codemirror_mode": {
    "name": "ipython",
    "version": 3
   },
   "file_extension": ".py",
   "mimetype": "text/x-python",
   "name": "python",
   "nbconvert_exporter": "python",
   "pygments_lexer": "ipython3",
   "version": "3.10.12"
  }
 },
 "nbformat": 4,
 "nbformat_minor": 4
}