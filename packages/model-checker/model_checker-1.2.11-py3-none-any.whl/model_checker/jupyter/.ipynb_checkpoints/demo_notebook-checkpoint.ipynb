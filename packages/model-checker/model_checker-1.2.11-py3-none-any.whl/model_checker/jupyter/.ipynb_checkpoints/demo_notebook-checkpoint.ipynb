{
 "cells": [
  {
   "cell_type": "markdown",
   "metadata": {},
   "source": [
    "# ModelChecker Jupyter Integration Demo\n",
    "\n",
    "This notebook demonstrates the new Jupyter integration for the ModelChecker framework."
   ]
  },
  {
   "cell_type": "markdown",
   "metadata": {},
   "source": [
    "## 1. Basic Setup\n",
    "\n",
    "First, we'll import the necessary modules:"
   ]
  },
  {
   "cell_type": "code",
   "execution_count": null,
   "metadata": {},
   "outputs": [],
   "source": [
    "# Import the ModelChecker Jupyter integration\n",
    "from model_checker.jupyter import (\n",
    "    check_formula,\n",
    "    find_countermodel,\n",
    "    explore_formula,\n",
    "    ModelExplorer,\n",
    "    FormulaChecker\n",
    ")\n",
    "\n",
    "# Optional diagnostic info\n",
    "from model_checker.jupyter.environment import get_diagnostic_info\n",
    "print(get_diagnostic_info())"
   ]
  },
  {
   "cell_type": "markdown",
   "metadata": {},
   "source": [
    "## 2. Simple Formula Checking\n",
    "\n",
    "We can use the `check_formula` function to check the validity of a formula:"
   ]
  },
  {
   "cell_type": "code",
   "execution_count": null,
   "metadata": {},
   "outputs": [],
   "source": [
    "# Check a simple formula using Unicode symbols\n",
    "check_formula(\"p → (q → p)\")"
   ]
  },
  {
   "cell_type": "code",
   "execution_count": null,
   "metadata": {},
   "outputs": [],
   "source": [
    "# Check a formula with premises\n",
    "check_formula(\"q\", premises=[\"p\", \"p → q\"])"
   ]
  },
  {
   "cell_type": "markdown",
   "metadata": {},
   "source": [
    "## 3. Formula Checking with Different Theories\n",
    "\n",
    "We can check formulas using different semantic theories:"
   ]
  },
  {
   "cell_type": "code",
   "execution_count": null,
   "metadata": {},
   "outputs": [],
   "source": [
    "# Check a modal formula in the default theory\n",
    "check_formula(\"□(p → q) → (□p → □q)\", theory_name=\"default\")"
   ]
  },
  {
   "cell_type": "code",
   "execution_count": null,
   "metadata": {},
   "outputs": [],
   "source": [
    "# Check a formula in the exclusion theory (if available)\n",
    "try:\n",
    "    check_formula(r\"\\exclude (P \\uniwedge Q) \\uniequiv (\\exclude P \\univee \\exclude Q)\", theory_name=\"exclusion\")\n",
    "except Exception as e:\n",
    "    print(f\"Error: {e}\")"
   ]
  },
  {
   "cell_type": "markdown",
   "metadata": {},
   "source": [
    "## 4. Finding Countermodels\n",
    "\n",
    "We can search for countermodels to invalid formulas:"
   ]
  },
  {
   "cell_type": "code",
   "execution_count": null,
   "metadata": {},
   "outputs": [],
   "source": [
    "# Try to find a countermodel to an invalid formula\n",
    "find_countermodel(\"p → q\", premises=[])"
   ]
  },
  {
   "cell_type": "markdown",
   "metadata": {},
   "source": [
    "## 5. Interactive Model Explorer\n",
    "\n",
    "For more interactive exploration, we can use the `ModelExplorer`:"
   ]
  },
  {
   "cell_type": "code",
   "execution_count": null,
   "metadata": {},
   "outputs": [],
   "source": [
    "# Create and display an explorer\n",
    "explorer = ModelExplorer()\n",
    "explorer.display()"
   ]
  },
  {
   "cell_type": "markdown",
   "metadata": {},
   "source": [
    "## 6. Simplified Formula Checker\n",
    "\n",
    "For a simpler interface focused just on checking formulas:"
   ]
  },
  {
   "cell_type": "code",
   "execution_count": null,
   "metadata": {},
   "outputs": [],
   "source": [
    "# Create and display a formula checker\n",
    "checker = FormulaChecker()\n",
    "checker.display()"
   ]
  },
  {
   "cell_type": "markdown",
   "metadata": {},
   "source": [
    "## 7. Advanced Usage: Pre-configured Explorer\n",
    "\n",
    "We can also create a pre-configured explorer for a specific formula:"
   ]
  },
  {
   "cell_type": "code",
   "execution_count": null,
   "metadata": {},
   "outputs": [],
   "source": [
    "# Create a pre-configured explorer for a specific formula\n",
    "pre_config = explore_formula(\"◇p ∧ ◇¬p\", theory_name=\"default\")\n",
    "# The explorer is already displayed with results"
   ]
  },
  {
   "cell_type": "markdown",
   "metadata": {},
   "source": [
    "## 8. Unicode Operator Support\n",
    "\n",
    "The integration supports both LaTeX and Unicode operators:"
   ]
  },
  {
   "cell_type": "code",
   "execution_count": null,
   "metadata": {},
   "outputs": [],
   "source": [
    "from model_checker.jupyter.operators import unicode_to_latex, latex_to_unicode\n",
    "\n",
    "# Convert between Unicode and LaTeX notation\n",
    "unicode_formula = \"p → (q ∧ ¬r) ∨ □s\"\n",
    "latex_formula = unicode_to_latex(unicode_formula)\n",
    "\n",
    "print(f\"Unicode: {unicode_formula}\")\n",
    "print(f\"LaTeX:   {latex_formula}\")\n",
    "print(f\"Back to Unicode: {latex_to_unicode(latex_formula)}\")"
   ]
  },
  {
   "cell_type": "markdown",
   "metadata": {},
   "source": [
    "## 9. Loading Examples from Theories\n",
    "\n",
    "We can load and use pre-defined examples from theories:"
   ]
  },
  {
   "cell_type": "code",
   "execution_count": null,
   "metadata": {},
   "outputs": [],
   "source": [
    "from model_checker.jupyter.utils import load_examples, get_example_categories\n",
    "\n",
    "# Load examples from the default theory\n",
    "examples = load_examples(\"default\")\n",
    "if examples:\n",
    "    # Group examples by category\n",
    "    categories = get_example_categories(examples)\n",
    "    \n",
    "    # Print category summary\n",
    "    for category, category_examples in categories.items():\n",
    "        print(f\"{category}: {len(category_examples)} examples\")\n",
    "        \n",
    "    # Get the first example\n",
    "    first_example_name = list(examples.keys())[0]\n",
    "    first_example = examples[first_example_name]\n",
    "    \n",
    "    # Print example details\n",
    "    print(f\"\\nExample '{first_example_name}'\")\n",
    "    print(f\"Premises: {first_example[0]}\")\n",
    "    print(f\"Conclusions: {first_example[1]}\")\n",
    "    print(f\"Settings: {first_example[2]}\")\n",
    "else:\n",
    "    print(\"No examples found\")"
   ]
  },
  {
   "cell_type": "markdown",
   "metadata": {},
   "source": [
    "## 10. Conclusion\n",
    "\n",
    "This notebook demonstrated the key features of the new ModelChecker Jupyter integration. The modular architecture makes it easy to use and extend, with support for multiple theories, interactive exploration, and customizable visualizations."
   ]
  }
 ],
 "metadata": {
  "kernelspec": {
   "display_name": "Python 3",
   "language": "python",
   "name": "python3"
  },
  "language_info": {
   "codemirror_mode": {
    "name": "ipython",
    "version": 3
   },
   "file_extension": ".py",
   "mimetype": "text/x-python",
   "name": "python",
   "nbconvert_exporter": "python",
   "pygments_lexer": "ipython3",
   "version": "3.8.10"
  }
 },
 "nbformat": 4,
 "nbformat_minor": 4
}