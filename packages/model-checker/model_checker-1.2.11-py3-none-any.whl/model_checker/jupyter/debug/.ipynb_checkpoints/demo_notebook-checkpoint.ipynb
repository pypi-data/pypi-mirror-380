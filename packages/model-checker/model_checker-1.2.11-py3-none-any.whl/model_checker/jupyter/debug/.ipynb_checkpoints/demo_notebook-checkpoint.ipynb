{
 "cells": [
  {
   "cell_type": "markdown",
   "metadata": {},
   "source": [
    "# ModelChecker Jupyter Integration Demo\n",
    "\n",
    "This notebook demonstrates the new Jupyter integration for the ModelChecker framework."
   ]
  },
  {
   "cell_type": "markdown",
   "metadata": {},
   "source": [
    "## 1. Environment Setup\n",
    "\n",
    "First, we'll set up the environment to ensure the model_checker package is properly available."
   ]
  },
  {
   "cell_type": "code",
   "execution_count": 15,
   "metadata": {},
   "outputs": [
    {
     "name": "stdout",
     "output_type": "stream",
     "text": [
      "Current directory: /home/benjamin/Documents/Philosophy/Projects/ModelChecker/Code/debug\n",
      "Found ModelChecker at: /home/benjamin/Documents/Philosophy/Projects/ModelChecker/Code\n"
     ]
    }
   ],
   "source": [
    "# Set up the environment\n",
    "import sys\n",
    "import os\n",
    "import importlib\n",
    "\n",
    "# Helper function to find the ModelChecker root directory\n",
    "def find_modelchecker_root():\n",
    "    # Start with current directory\n",
    "    current_dir = os.getcwd()\n",
    "    print(f\"Current directory: {current_dir}\")\n",
    "    \n",
    "    # Check if we're already in the project root or src directory\n",
    "    if os.path.exists(os.path.join(current_dir, 'src', 'model_checker')):\n",
    "        return current_dir\n",
    "    elif os.path.exists(os.path.join(current_dir, 'model_checker')):\n",
    "        return os.path.dirname(current_dir)\n",
    "    \n",
    "    # Try going up a few directories\n",
    "    for levels_up in range(1, 6):  # Check up to 5 levels up\n",
    "        parent = current_dir\n",
    "        for _ in range(levels_up):\n",
    "            parent = os.path.dirname(parent)\n",
    "        if os.path.exists(os.path.join(parent, 'src', 'model_checker')):\n",
    "            return parent\n",
    "    \n",
    "    # Check common installation paths\n",
    "    common_paths = [\n",
    "        os.path.expanduser(\"~/Documents/Philosophy/Projects/ModelChecker/Code\"),\n",
    "        os.path.expanduser(\"~/ModelChecker/Code\")\n",
    "    ]\n",
    "    \n",
    "    for path in common_paths:\n",
    "        if os.path.exists(path) and os.path.exists(os.path.join(path, 'src', 'model_checker')):\n",
    "            return path\n",
    "    \n",
    "    # Couldn't find it\n",
    "    return None\n",
    "\n",
    "# Find and set up project root\n",
    "project_root = find_modelchecker_root()\n",
    "\n",
    "if project_root:\n",
    "    print(f\"Found ModelChecker at: {project_root}\")\n",
    "    \n",
    "    # Add paths to Python path\n",
    "    paths_to_add = [\n",
    "        project_root,\n",
    "        os.path.join(project_root, 'src')\n",
    "    ]\n",
    "    \n",
    "    for path in paths_to_add:\n",
    "        if path not in sys.path:\n",
    "            sys.path.insert(0, path)\n",
    "            print(f\"Added to path: {path}\")\n",
    "else:\n",
    "    print(\"Could not find ModelChecker root directory. You may need to set paths manually.\")"
   ]
  },
  {
   "cell_type": "code",
   "execution_count": 16,
   "metadata": {},
   "outputs": [
    {
     "name": "stdout",
     "output_type": "stream",
     "text": [
      "✓ ModelChecker version: 0.8.26\n",
      "✓ Located at: /home/benjamin/Documents/Philosophy/Projects/ModelChecker/Code/src/model_checker/__init__.py\n",
      "✓ Jupyter module located at: /home/benjamin/Documents/Philosophy/Projects/ModelChecker/Code/src/model_checker/jupyter/__init__.py\n"
     ]
    }
   ],
   "source": [
    "# Import ModelChecker and check if it's working\n",
    "try:\n",
    "    # Reload if already imported to ensure we're using the correct version\n",
    "    if \"model_checker\" in sys.modules:\n",
    "        importlib.reload(sys.modules[\"model_checker\"])\n",
    "    import model_checker\n",
    "    \n",
    "    print(f\"✓ ModelChecker version: {model_checker.__version__}\")\n",
    "    print(f\"✓ Located at: {model_checker.__file__}\")\n",
    "    \n",
    "    # Try importing the jupyter module specifically\n",
    "    if \"model_checker.jupyter\" in sys.modules:\n",
    "        importlib.reload(sys.modules[\"model_checker.jupyter\"])\n",
    "    from model_checker import jupyter\n",
    "    print(f\"✓ Jupyter module located at: {jupyter.__file__}\")\n",
    "    \n",
    "except ImportError as e:\n",
    "    print(f\"✗ Error importing model_checker: {e}\")\n",
    "    print(\"\\nCurrent sys.path:\")\n",
    "    for p in sys.path:\n",
    "        print(f\"  {p}\")\n",
    "    print(\"\\nTroubleshooting tips:\")\n",
    "    print(\"1. Make sure you're running this notebook from the ModelChecker/Code directory\")\n",
    "    print(\"2. If using NixOS, make sure you've entered the nix-shell first\")\n",
    "    print(\"3. Try running the diagnostic script: python jupyter_test.py\")"
   ]
  },
  {
   "cell_type": "markdown",
   "metadata": {},
   "source": [
    "## 2. Basic Formula Checking\n",
    "\n",
    "We can use the `check_formula` function to check the validity of a formula:"
   ]
  },
  {
   "cell_type": "code",
   "execution_count": 17,
   "metadata": {},
   "outputs": [],
   "source": [
    "# Import the check_formula function\n",
    "try:\n",
    "    from model_checker import check_formula\n",
    "    \n",
    "    # Check a simple formula using Unicode symbols\n",
    "    result = check_formula(\"p → (q → p)\")\n",
    "    \n",
    "    # The result is automatically displayed in the notebook\n",
    "except Exception as e:\n",
    "    print(f\"Error: {e}\")\n",
    "    import traceback\n",
    "    traceback.print_exc()"
   ]
  },
  {
   "cell_type": "code",
   "execution_count": 18,
   "metadata": {},
   "outputs": [],
   "source": [
    "# Check a formula with premises\n",
    "try:\n",
    "    check_formula(\"q\", premises=[\"p\", \"p → q\"])\n",
    "except Exception as e:\n",
    "    print(f\"Error: {e}\")\n",
    "    import traceback\n",
    "    traceback.print_exc()"
   ]
  },
  {
   "cell_type": "markdown",
   "metadata": {},
   "source": [
    "## 3. Formula Checking with Different Theories\n",
    "\n",
    "We can check formulas using different semantic theories:"
   ]
  },
  {
   "cell_type": "code",
   "execution_count": 19,
   "metadata": {},
   "outputs": [
    {
     "name": "stdout",
     "output_type": "stream",
     "text": [
      "Available theories: ['default', 'exclusion', 'imposition']\n"
     ]
    }
   ],
   "source": [
    "# Get available theories\n",
    "try:\n",
    "    from model_checker.jupyter.environment import get_available_theories\n",
    "    theories = get_available_theories()\n",
    "    print(f\"Available theories: {theories}\")\n",
    "except Exception as e:\n",
    "    print(f\"Error getting available theories: {e}\")"
   ]
  },
  {
   "cell_type": "code",
   "execution_count": 20,
   "metadata": {},
   "outputs": [],
   "source": [
    "# Check a modal formula in the default theory\n",
    "try:\n",
    "    check_formula(\"□(p → q) → (□p → □q)\", theory_name=\"default\")\n",
    "except Exception as e:\n",
    "    print(f\"Error: {e}\")\n",
    "    import traceback\n",
    "    traceback.print_exc()"
   ]
  },
  {
   "cell_type": "markdown",
   "metadata": {},
   "source": [
    "## 4. Finding Countermodels\n",
    "\n",
    "We can search for countermodels to invalid formulas:"
   ]
  },
  {
   "cell_type": "code",
   "execution_count": 21,
   "metadata": {},
   "outputs": [],
   "source": [
    "# Import the find_countermodel function\n",
    "try:\n",
    "    from model_checker import find_countermodel\n",
    "    \n",
    "    # Try to find a countermodel to an invalid formula\n",
    "    find_countermodel(\"p → q\", premises=[])\n",
    "except Exception as e:\n",
    "    print(f\"Error: {e}\")\n",
    "    import traceback\n",
    "    traceback.print_exc()"
   ]
  },
  {
   "cell_type": "markdown",
   "metadata": {},
   "source": [
    "## 5. Interactive Model Explorer\n",
    "\n",
    "For more interactive exploration, we can use the `ModelExplorer`:"
   ]
  },
  {
   "cell_type": "code",
   "execution_count": 22,
   "metadata": {},
   "outputs": [
    {
     "name": "stdout",
     "output_type": "stream",
     "text": [
      "ipywidgets version: 8.1.5\n"
     ]
    }
   ],
   "source": [
    "# Check if ipywidgets is available\n",
    "try:\n",
    "    import ipywidgets\n",
    "    print(f\"ipywidgets version: {ipywidgets.__version__}\")\n",
    "except ImportError:\n",
    "    print(\"ipywidgets is not installed. Please install it using: pip install ipywidgets\")\n",
    "    print(\"Then run: jupyter nbextension enable --py widgetsnbextension\")"
   ]
  },
  {
   "cell_type": "code",
   "execution_count": 23,
   "metadata": {},
   "outputs": [
    {
     "name": "stdout",
     "output_type": "stream",
     "text": [
      "Reloaded model_checker from /home/benjamin/Documents/Philosophy/Projects/ModelChecker/Code/src/model_checker/__init__.py\n"
     ]
    },
    {
     "data": {
      "application/vnd.jupyter.widget-view+json": {
       "model_id": "46aac54bad57404cb8cdfee935b278e4",
       "version_major": 2,
       "version_minor": 0
      },
      "text/plain": [
       "HBox(children=(VBox(children=(Text(value='p → q', description='Formula:', style=TextStyle(description_width='i…"
      ]
     },
     "metadata": {},
     "output_type": "display_data"
    }
   ],
   "source": [
    "# Create and display an explorer\n",
    "try:\n",
    "    from model_checker import ModelExplorer\n",
    "    \n",
    "    explorer = ModelExplorer()\n",
    "    explorer.display()\n",
    "except Exception as e:\n",
    "    print(f\"Error creating ModelExplorer: {e}\")\n",
    "    import traceback\n",
    "    traceback.print_exc()"
   ]
  },
  {
   "cell_type": "markdown",
   "metadata": {},
   "source": [
    "## 6. Advanced Usage: Pre-configured Explorer\n",
    "\n",
    "We can also create a pre-configured explorer for a specific formula:"
   ]
  },
  {
   "cell_type": "code",
   "execution_count": 24,
   "metadata": {},
   "outputs": [
    {
     "name": "stdout",
     "output_type": "stream",
     "text": [
      "Reloaded model_checker from /home/benjamin/Documents/Philosophy/Projects/ModelChecker/Code/src/model_checker/__init__.py\n"
     ]
    }
   ],
   "source": [
    "# Create a pre-configured explorer for a specific formula\n",
    "try:\n",
    "    from model_checker import explore_formula\n",
    "    \n",
    "    explore_formula(\"◇p ∧ ◇¬p\", theory_name=\"default\")\n",
    "except Exception as e:\n",
    "    print(f\"Error creating pre-configured explorer: {e}\")\n",
    "    import traceback\n",
    "    traceback.print_exc()"
   ]
  },
  {
   "cell_type": "markdown",
   "metadata": {},
   "source": [
    "## 7. Unicode Operator Support\n",
    "\n",
    "The integration supports both LaTeX and Unicode operators:"
   ]
  },
  {
   "cell_type": "code",
   "execution_count": 25,
   "metadata": {},
   "outputs": [
    {
     "name": "stdout",
     "output_type": "stream",
     "text": [
      "Unicode: p → (q ∧ ¬r) ∨ □s\n",
      "LaTeX:   (p \\\\rightarrow (q \\\\wedge \\\\neg r) \\\\vee \\\\Box s)\n",
      "Back to Unicode: (p \\→ (q \\∧ \\¬ r) \\∨ \\□ s)\n"
     ]
    }
   ],
   "source": [
    "try:\n",
    "    from model_checker.jupyter.operators import unicode_to_latex, latex_to_unicode\n",
    "\n",
    "    # Convert between Unicode and LaTeX notation\n",
    "    unicode_formula = \"p → (q ∧ ¬r) ∨ □s\"\n",
    "    latex_formula = unicode_to_latex(unicode_formula)\n",
    "\n",
    "    print(f\"Unicode: {unicode_formula}\")\n",
    "    print(f\"LaTeX:   {latex_formula}\")\n",
    "    print(f\"Back to Unicode: {latex_to_unicode(latex_formula)}\")\n",
    "except Exception as e:\n",
    "    print(f\"Error testing Unicode operators: {e}\")\n",
    "    import traceback\n",
    "    traceback.print_exc()"
   ]
  },
  {
   "cell_type": "markdown",
   "metadata": {},
   "source": [
    "## 8. Loading Examples from Theories\n",
    "\n",
    "We can load and use pre-defined examples from theories:"
   ]
  },
  {
   "cell_type": "code",
   "execution_count": 26,
   "metadata": {},
   "outputs": [
    {
     "name": "stdout",
     "output_type": "stream",
     "text": [
      "Countermodels: 31 examples\n",
      "Theorems: 21 examples\n",
      "\n",
      "Example 'CF_CM_10_example'\n",
      "Premises: ['(A \\\\boxright B)', '(B \\\\boxright C)']\n",
      "Conclusions: ['(A \\\\boxright C)']\n",
      "Settings: {'N': 4, 'contingent': True, 'non_null': True, 'non_empty': True, 'disjoint': False, 'max_time': 1, 'iterate': 1, 'expectation': True}\n"
     ]
    }
   ],
   "source": [
    "try:\n",
    "    from model_checker.jupyter.utils import load_examples, get_example_categories\n",
    "\n",
    "    # Load examples from the default theory\n",
    "    examples = load_examples(\"default\")\n",
    "    if examples:\n",
    "        # Group examples by category\n",
    "        categories = get_example_categories(examples)\n",
    "        \n",
    "        # Print category summary\n",
    "        for category, category_examples in categories.items():\n",
    "            print(f\"{category}: {len(category_examples)} examples\")\n",
    "            \n",
    "        # Get the first example\n",
    "        if examples:\n",
    "            first_example_name = list(examples.keys())[0]\n",
    "            first_example = examples[first_example_name]\n",
    "            \n",
    "            # Print example details\n",
    "            print(f\"\\nExample '{first_example_name}'\")\n",
    "            print(f\"Premises: {first_example[0]}\")\n",
    "            print(f\"Conclusions: {first_example[1]}\")\n",
    "            print(f\"Settings: {first_example[2]}\")\n",
    "    else:\n",
    "        print(\"No examples found\")\n",
    "except Exception as e:\n",
    "    print(f\"Error loading examples: {e}\")\n",
    "    import traceback\n",
    "    traceback.print_exc()"
   ]
  },
  {
   "cell_type": "markdown",
   "metadata": {},
   "source": [
    "## 9. Using Examples from Theories\n",
    "\n",
    "We can use predefined examples to check formulas:"
   ]
  },
  {
   "cell_type": "code",
   "execution_count": 13,
   "metadata": {},
   "outputs": [
    {
     "name": "stdout",
     "output_type": "stream",
     "text": [
      "Error using example: get_theory() missing 1 required positional argument: 'semantic_theories'\n"
     ]
    },
    {
     "name": "stderr",
     "output_type": "stream",
     "text": [
      "Traceback (most recent call last):\n",
      "  File \"/tmp/nix-shell-253502-0/ipykernel_253680/2455426678.py\", line 5, in <module>\n",
      "    theory = get_theory(\"default\")\n",
      "             ^^^^^^^^^^^^^^^^^^^^^\n",
      "TypeError: get_theory() missing 1 required positional argument: 'semantic_theories'\n"
     ]
    }
   ],
   "source": [
    "try:\n",
    "    from model_checker import BuildExample, get_theory\n",
    "    \n",
    "    # Load a theory\n",
    "    theory = get_theory(\"default\")\n",
    "    \n",
    "    # Get examples from the theory (Modus Ponens is a common example)\n",
    "    from model_checker.jupyter.utils import load_examples\n",
    "    examples = load_examples(\"default\")\n",
    "    \n",
    "    # Find a modus ponens example if one exists (may have a different name)\n",
    "    example_name = None\n",
    "    for name in examples.keys():\n",
    "        if \"MP\" in name or \"modus_ponens\" in name.lower() or \"modustoll\" in name.lower():\n",
    "            example_name = name\n",
    "            break\n",
    "            \n",
    "    if example_name:\n",
    "        print(f\"Using example: {example_name}\")\n",
    "        # Create a model from the example\n",
    "        model = BuildExample(example_name, theory)\n",
    "        \n",
    "        # Display the model\n",
    "        from model_checker.jupyter.display import display_model\n",
    "        display_model(model)\n",
    "    else:\n",
    "        print(\"Modus ponens example not found. Using a custom example instead.\")\n",
    "        \n",
    "        # Create a custom modus ponens example\n",
    "        example = [[\"p\", \"p → q\"], [\"q\"], {'N': 3, 'max_time': 5}]\n",
    "        model = BuildExample(\"modus_ponens\", theory, example)\n",
    "        \n",
    "        # Display the model\n",
    "        from model_checker.jupyter.display import display_model\n",
    "        display_model(model)\n",
    "        \n",
    "except Exception as e:\n",
    "    print(f\"Error using example: {e}\")\n",
    "    import traceback\n",
    "    traceback.print_exc()"
   ]
  },
  {
   "cell_type": "markdown",
   "metadata": {},
   "source": [
    "## 10. Diagnostics (in case of issues)\n",
    "\n",
    "If you're having trouble, this cell provides diagnostic information:"
   ]
  },
  {
   "cell_type": "code",
   "execution_count": 14,
   "metadata": {},
   "outputs": [
    {
     "name": "stdout",
     "output_type": "stream",
     "text": [
      "Reloaded model_checker from /home/benjamin/Documents/Philosophy/Projects/ModelChecker/Code/src/model_checker/__init__.py\n",
      "ModelChecker Diagnostics:\n",
      "Python Version: 3.12.8 (main, Dec  3 2024, 18:42:41) [GCC 13.3.0]\n",
      "ModelChecker Path: /home/benjamin/Documents/Philosophy/Projects/ModelChecker/Code/src/model_checker/__init__.py\n",
      "ModelChecker Version: 0.8.26\n",
      "Available Theories: ['default', 'exclusion', 'imposition']\n",
      "\n",
      "Dependencies:\n",
      "  ipywidgets: 8.1.5\n",
      "  matplotlib: 3.9.2\n",
      "  networkx: 3.3\n",
      "  z3: unknown\n",
      "\n",
      "Python path:\n",
      "  /home/benjamin/Documents/Philosophy/Projects/ModelChecker/Code\n",
      "  /home/benjamin/Documents/Philosophy/Projects/ModelChecker/Code/src\n",
      "  \n",
      "  /nix/store/h3i0acpmr8mrjx07519xxmidv8mpax4y-python3-3.12.5/lib/python3.12/site-packages\n",
      "  /nix/store/m3q9aavsms4fcj0n1x5w1g6cn60h0hc0-z3-solver-4.8.17-python/lib/python3.12/site-packages\n",
      "  /nix/store/l7idy2qiiv0v0b6khfjvz3l5k6mnm47l-python3.12-setuptools-72.1.0/lib/python3.12/site-packages\n",
      "  /nix/store/gam79wgc54sn8yyw2xkrqkf93v5lwaz1-python3.12-pip-24.0/lib/python3.12/site-packages\n",
      "  /nix/store/lhpwdis5hkyljz1d200bj1s6g51ljq9k-python3-3.12.8/lib/python312.zip\n",
      "  /nix/store/lhpwdis5hkyljz1d200bj1s6g51ljq9k-python3-3.12.8/lib/python3.12\n",
      "  /nix/store/lhpwdis5hkyljz1d200bj1s6g51ljq9k-python3-3.12.8/lib/python3.12/lib-dynload\n"
     ]
    }
   ],
   "source": [
    "try:\n",
    "    from model_checker.jupyter.environment import get_diagnostic_info\n",
    "    \n",
    "    # Get diagnostic info\n",
    "    diag_info = get_diagnostic_info()\n",
    "    \n",
    "    print(\"ModelChecker Diagnostics:\")\n",
    "    print(f\"Python Version: {diag_info.get('python_version')}\")\n",
    "    \n",
    "    # Model checker info\n",
    "    mc_info = diag_info.get('model_checker', {})\n",
    "    if isinstance(mc_info, dict):\n",
    "        print(f\"ModelChecker Path: {mc_info.get('path', 'Not found')}\")\n",
    "        print(f\"ModelChecker Version: {mc_info.get('version', 'Unknown')}\")\n",
    "        print(f\"Available Theories: {mc_info.get('theories', [])}\")\n",
    "    else:\n",
    "        print(f\"ModelChecker: {mc_info}\")\n",
    "    \n",
    "    # Dependencies\n",
    "    print(\"\\nDependencies:\")\n",
    "    deps = diag_info.get('dependencies', {})\n",
    "    for dep, version in deps.items():\n",
    "        print(f\"  {dep}: {version}\")\n",
    "    \n",
    "    # Python path\n",
    "    print(\"\\nPython path:\")\n",
    "    for i, path in enumerate(diag_info.get('sys_path', [])):\n",
    "        if i < 10:  # Limit to first 10 entries to avoid clutter\n",
    "            print(f\"  {path}\")\n",
    "except Exception as e:\n",
    "    print(f\"Error getting diagnostic info: {e}\")\n",
    "    \n",
    "    # Fallback diagnostics\n",
    "    print(\"\\nBasic diagnostics:\")\n",
    "    print(f\"Python version: {sys.version}\")\n",
    "    print(f\"Working directory: {os.getcwd()}\")\n",
    "    try:\n",
    "        import model_checker\n",
    "        print(f\"ModelChecker version: {model_checker.__version__}\")\n",
    "        print(f\"ModelChecker path: {model_checker.__file__}\")\n",
    "    except ImportError:\n",
    "        print(\"ModelChecker not importable\")"
   ]
  },
  {
   "cell_type": "markdown",
   "metadata": {},
   "source": [
    "## Conclusion\n",
    "\n",
    "This notebook demonstrated the key features of the ModelChecker Jupyter integration. The modular architecture makes it easy to use and extend, with support for multiple theories, interactive exploration, and customizable visualizations.\n",
    "\n",
    "For more detailed information, see the [Jupyter Integration Documentation](README.md)."
   ]
  }
 ],
 "metadata": {
  "kernelspec": {
   "display_name": "Python 3 (ipykernel)",
   "language": "python",
   "name": "python3"
  },
  "language_info": {
   "codemirror_mode": {
    "name": "ipython",
    "version": 3
   },
   "file_extension": ".py",
   "mimetype": "text/x-python",
   "name": "python",
   "nbconvert_exporter": "python",
   "pygments_lexer": "ipython3",
   "version": "3.12.8"
  }
 },
 "nbformat": 4,
 "nbformat_minor": 4
}
