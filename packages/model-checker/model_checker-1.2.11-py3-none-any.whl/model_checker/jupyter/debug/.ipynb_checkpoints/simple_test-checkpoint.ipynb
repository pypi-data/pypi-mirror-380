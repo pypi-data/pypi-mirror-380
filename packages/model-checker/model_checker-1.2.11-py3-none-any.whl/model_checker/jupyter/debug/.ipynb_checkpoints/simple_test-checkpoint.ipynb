{
 "cells": [
  {
   "cell_type": "markdown",
   "metadata": {},
   "source": [
    "# Simple Test Notebook for ModelChecker Jupyter Integration"
   ]
  },
  {
   "cell_type": "code",
   "execution_count": null,
   "metadata": {},
   "outputs": [],
   "source": [
    "# Set up the environment\n",
    "import sys\n",
    "import os\n",
    "\n",
    "# Get current directory\n",
    "current_dir = os.getcwd()\n",
    "print(f\"Current directory: {current_dir}\")\n",
    "\n",
    "# Add src to path if needed\n",
    "src_dir = os.path.join(current_dir, 'src')\n",
    "if os.path.exists(src_dir) and src_dir not in sys.path:\n",
    "    sys.path.insert(0, src_dir)\n",
    "    print(f\"Added to path: {src_dir}\")\n",
    "\n",
    "# Print system path for diagnostics\n",
    "print(\"\\nSystem path:\")\n",
    "for p in sys.path:\n",
    "    print(f\"  {p}\")"
   ]
  },
  {
   "cell_type": "code",
   "execution_count": null,
   "metadata": {},
   "outputs": [],
   "source": [
    "# Basic imports\n",
    "try:\n",
    "    import model_checker\n",
    "    print(f\"ModelChecker version: {model_checker.__version__}\")\n",
    "    print(f\"ModelChecker path: {model_checker.__file__}\")\n",
    "except Exception as e:\n",
    "    print(f\"Error importing model_checker: {str(e)}\")"
   ]
  },
  {
   "cell_type": "code",
   "execution_count": null,
   "metadata": {},
   "outputs": [],
   "source": [
    "# Import the Jupyter integration\n",
    "try:\n",
    "    from model_checker.jupyter import check_formula, find_countermodel, ModelExplorer\n",
    "    print(\"Successfully imported Jupyter integration components\")\n",
    "except Exception as e:\n",
    "    print(f\"Error importing Jupyter components: {str(e)}\")"
   ]
  },
  {
   "cell_type": "code",
   "execution_count": null,
   "metadata": {},
   "outputs": [],
   "source": [
    "# Test environment setup\n",
    "try:\n",
    "    from model_checker.jupyter.environment import setup_environment, get_diagnostic_info\n",
    "    \n",
    "    # Run environment setup\n",
    "    env_info = setup_environment()\n",
    "    print(f\"Environment setup result: {env_info}\")\n",
    "    \n",
    "    # Get diagnostic info\n",
    "    diag_info = get_diagnostic_info()\n",
    "    print(f\"\\nDiagnostic info:\")\n",
    "    print(f\"- Python version: {diag_info.get('python_version', 'unknown')}\")\n",
    "    print(f\"- ModelChecker path: {diag_info.get('model_checker', {}).get('path', 'unknown')}\")\n",
    "    print(f\"- Available theories: {diag_info.get('model_checker', {}).get('theories', [])}\")\n",
    "except Exception as e:\n",
    "    print(f\"Error running environment setup: {str(e)}\")"
   ]
  },
  {
   "cell_type": "code",
   "execution_count": null,
   "metadata": {},
   "outputs": [],
   "source": [
    "# Test formula checking\n",
    "try:\n",
    "    # Simple formula\n",
    "    print(\"Checking formula: p → (q → p)\")\n",
    "    result = check_formula(\"p → (q → p)\")\n",
    "    \n",
    "    # Display result - this should generate visual output in the notebook\n",
    "    from IPython.display import display\n",
    "    display(result)\n",
    "except Exception as e:\n",
    "    print(f\"Error checking formula: {str(e)}\")\n",
    "    import traceback\n",
    "    traceback.print_exc()"
   ]
  },
  {
   "cell_type": "code",
   "execution_count": null,
   "metadata": {},
   "outputs": [],
   "source": [
    "# Test with premises\n",
    "try:\n",
    "    print(\"Checking formula with premises: q with premises [p, p → q]\")\n",
    "    result = check_formula(\"q\", premises=[\"p\", \"p → q\"])\n",
    "    \n",
    "    # Display result\n",
    "    from IPython.display import display\n",
    "    display(result)\n",
    "except Exception as e:\n",
    "    print(f\"Error checking formula with premises: {str(e)}\")\n",
    "    import traceback\n",
    "    traceback.print_exc()"
   ]
  },
  {
   "cell_type": "code",
   "execution_count": null,
   "metadata": {},
   "outputs": [],
   "source": [
    "# Test interactive explorer\n",
    "try:\n",
    "    print(\"Creating interactive explorer...\")\n",
    "    explorer = ModelExplorer()\n",
    "    explorer.display()\n",
    "except Exception as e:\n",
    "    print(f\"Error creating interactive explorer: {str(e)}\")\n",
    "    import traceback\n",
    "    traceback.print_exc()"
   ]
  }
 ],
 "metadata": {
  "kernelspec": {
   "display_name": "Python 3",
   "language": "python",
   "name": "python3"
  },
  "language_info": {
   "codemirror_mode": {
    "name": "ipython",
    "version": 3
   },
   "file_extension": ".py",
   "mimetype": "text/x-python",
   "name": "python",
   "nbconvert_exporter": "python",
   "pygments_lexer": "ipython3",
   "version": "3.12.8"
  }
 },
 "nbformat": 4,
 "nbformat_minor": 4
}