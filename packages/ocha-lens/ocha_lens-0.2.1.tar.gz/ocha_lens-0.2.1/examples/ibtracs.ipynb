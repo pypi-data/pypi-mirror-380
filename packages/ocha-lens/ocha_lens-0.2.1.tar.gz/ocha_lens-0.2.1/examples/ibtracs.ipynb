{
 "cells": [
  {
   "cell_type": "markdown",
   "id": "dfda8e7a",
   "metadata": {},
   "source": [
    "# IBTrACS Data Processing\n",
    "\n",
    "This notebook demos how to use the functions in `src/ocha_lens/datasources/ibtracs.py`"
   ]
  },
  {
   "cell_type": "code",
   "execution_count": 1,
   "id": "95d39deb",
   "metadata": {},
   "outputs": [],
   "source": [
    "import ocha_lens as lens"
   ]
  },
  {
   "cell_type": "markdown",
   "id": "258b1db6",
   "metadata": {},
   "source": [
    "### 1. Basic functions\n",
    "\n",
    "Load in the IBTrACS NetCDF file. Here you can set the `dataset` to `ALL`, `ACTIVE`, or `last3years`. "
   ]
  },
  {
   "cell_type": "code",
   "execution_count": 2,
   "id": "a5bbb18a",
   "metadata": {},
   "outputs": [],
   "source": [
    "ds = lens.ibtracs.load_ibtracs(dataset=\"last3years\")"
   ]
  },
  {
   "cell_type": "markdown",
   "id": "f7858899",
   "metadata": {},
   "source": [
    "Parse the `Dataset` to get storm-level metadata.  "
   ]
  },
  {
   "cell_type": "code",
   "execution_count": 3,
   "id": "d0072d6b",
   "metadata": {},
   "outputs": [],
   "source": [
    "df_storm = lens.ibtracs.get_storms(ds)"
   ]
  },
  {
   "cell_type": "markdown",
   "id": "74ab4fd0",
   "metadata": {},
   "source": [
    "Now parse the `Dataset` to get the track-level dataframes. "
   ]
  },
  {
   "cell_type": "code",
   "execution_count": 4,
   "id": "b162d426",
   "metadata": {},
   "outputs": [],
   "source": [
    "gdf_tracks = lens.ibtracs.get_tracks(ds)"
   ]
  },
  {
   "cell_type": "markdown",
   "id": "0c1602d3",
   "metadata": {},
   "source": [
    "### 2. Further customizations\n",
    "\n",
    "What if I want to fill in the track level data with a variable that we've dropped from the original source? "
   ]
  },
  {
   "cell_type": "code",
   "execution_count": 31,
   "id": "0a8385da",
   "metadata": {},
   "outputs": [
    {
     "data": {
      "text/html": [
       "<div>\n",
       "<style scoped>\n",
       "    .dataframe tbody tr th:only-of-type {\n",
       "        vertical-align: middle;\n",
       "    }\n",
       "\n",
       "    .dataframe tbody tr th {\n",
       "        vertical-align: top;\n",
       "    }\n",
       "\n",
       "    .dataframe thead th {\n",
       "        text-align: right;\n",
       "    }\n",
       "</style>\n",
       "<table border=\"1\" class=\"dataframe\">\n",
       "  <thead>\n",
       "    <tr style=\"text-align: right;\">\n",
       "      <th></th>\n",
       "      <th>sid</th>\n",
       "      <th>valid_time</th>\n",
       "      <th>quadrant_radius_34</th>\n",
       "      <th>usa_r34</th>\n",
       "    </tr>\n",
       "  </thead>\n",
       "  <tbody>\n",
       "    <tr>\n",
       "      <th>1417</th>\n",
       "      <td>2022008S13148</td>\n",
       "      <td>2022-01-08 00:00:00</td>\n",
       "      <td>[nan, nan, nan, nan]</td>\n",
       "      <td>[nan, nan, nan, nan]</td>\n",
       "    </tr>\n",
       "    <tr>\n",
       "      <th>1418</th>\n",
       "      <td>2022008S13148</td>\n",
       "      <td>2022-01-08 06:00:00</td>\n",
       "      <td>[nan, nan, nan, nan]</td>\n",
       "      <td>[nan, nan, nan, nan]</td>\n",
       "    </tr>\n",
       "    <tr>\n",
       "      <th>1419</th>\n",
       "      <td>2022008S13148</td>\n",
       "      <td>2022-01-08 12:00:00</td>\n",
       "      <td>[nan, nan, nan, nan]</td>\n",
       "      <td>[nan, nan, nan, nan]</td>\n",
       "    </tr>\n",
       "    <tr>\n",
       "      <th>1420</th>\n",
       "      <td>2022008S13148</td>\n",
       "      <td>2022-01-08 18:00:00</td>\n",
       "      <td>[nan, nan, nan, nan]</td>\n",
       "      <td>[nan, nan, nan, nan]</td>\n",
       "    </tr>\n",
       "    <tr>\n",
       "      <th>1421</th>\n",
       "      <td>2022008S13148</td>\n",
       "      <td>2022-01-09 00:00:00</td>\n",
       "      <td>[nan, nan, nan, nan]</td>\n",
       "      <td>[10.0, 15.0, 60.0, 45.0]</td>\n",
       "    </tr>\n",
       "  </tbody>\n",
       "</table>\n",
       "</div>"
      ],
      "text/plain": [
       "                sid          valid_time    quadrant_radius_34  \\\n",
       "1417  2022008S13148 2022-01-08 00:00:00  [nan, nan, nan, nan]   \n",
       "1418  2022008S13148 2022-01-08 06:00:00  [nan, nan, nan, nan]   \n",
       "1419  2022008S13148 2022-01-08 12:00:00  [nan, nan, nan, nan]   \n",
       "1420  2022008S13148 2022-01-08 18:00:00  [nan, nan, nan, nan]   \n",
       "1421  2022008S13148 2022-01-09 00:00:00  [nan, nan, nan, nan]   \n",
       "\n",
       "                       usa_r34  \n",
       "1417      [nan, nan, nan, nan]  \n",
       "1418      [nan, nan, nan, nan]  \n",
       "1419      [nan, nan, nan, nan]  \n",
       "1420      [nan, nan, nan, nan]  \n",
       "1421  [10.0, 15.0, 60.0, 45.0]  "
      ]
     },
     "execution_count": 31,
     "metadata": {},
     "output_type": "execute_result"
    }
   ],
   "source": [
    "sel_var = \"usa_r34\"\n",
    "\n",
    "# Let's take our original xarray object and convert it to a dataframe that we can join\n",
    "# the ds has 159 data variables so we should ideally only select the ones that we need\n",
    "ds_subset = ds[[\"sid\", sel_var]]\n",
    "df_select = ds_subset.to_dataframe().reset_index()\n",
    "\n",
    "# Now clean up the dataframe a bit\n",
    "df_ = lens.ibtracs.normalize_radii(df_select, radii_cols=[sel_var])\n",
    "df_[\"valid_time\"] = df_[\"time\"].dt.round(\"min\")\n",
    "df_ = lens.ibtracs._convert_string_columns(df_, [\"sid\"])\n",
    "df_ = df_[[\"sid\", \"valid_time\", sel_var]]\n",
    "df_ = df_[df_.valid_time.notna()]\n",
    "\n",
    "# And do a basic merge back with the original gdf\n",
    "gdf_tracks_merged = gdf_tracks.merge(df_, how=\"left\")\n",
    "\n",
    "# For example now we might see how the USA variable fills in some missing data from what bom reported\n",
    "gdf_tracks_merged[gdf_tracks_merged.provider == \"bom\"][\n",
    "    [\"sid\", \"valid_time\", \"quadrant_radius_34\", \"usa_r34\"]\n",
    "].head(5)"
   ]
  }
 ],
 "metadata": {
  "kernelspec": {
   "display_name": "venv",
   "language": "python",
   "name": "python3"
  },
  "language_info": {
   "codemirror_mode": {
    "name": "ipython",
    "version": 3
   },
   "file_extension": ".py",
   "mimetype": "text/x-python",
   "name": "python",
   "nbconvert_exporter": "python",
   "pygments_lexer": "ipython3",
   "version": "3.13.3"
  }
 },
 "nbformat": 4,
 "nbformat_minor": 5
}
